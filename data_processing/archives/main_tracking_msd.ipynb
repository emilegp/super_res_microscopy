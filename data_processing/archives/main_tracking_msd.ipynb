{
 "cells": [
  {
   "cell_type": "markdown",
   "id": "a1bbf155-d46a-4bbb-a7bc-6857ef1672de",
   "metadata": {},
   "source": [
    "# Initialisation"
   ]
  },
  {
   "cell_type": "code",
   "execution_count": 58,
   "id": "49fff9c0-1a10-465b-b5d6-cf2853a133db",
   "metadata": {
    "execution": {
     "iopub.execute_input": "2024-11-27T00:33:55.015775Z",
     "iopub.status.busy": "2024-11-27T00:33:55.015362Z",
     "iopub.status.idle": "2024-11-27T00:33:56.248500Z",
     "shell.execute_reply": "2024-11-27T00:33:56.247904Z",
     "shell.execute_reply.started": "2024-11-27T00:33:55.015736Z"
    }
   },
   "outputs": [],
   "source": [
    "import matplotlib.pyplot as plt\n",
    "import matplotlib.animation as animation\n",
    "import cv2\n",
    "import numpy as np\n",
    "import os\n",
    "from PIL import Image\n",
    "import lmfit\n",
    "import tifffile\n",
    "%matplotlib tk"
   ]
  },
  {
   "cell_type": "markdown",
   "id": "3c857432-f4a0-4d37-b1c3-d5115974f0f5",
   "metadata": {},
   "source": [
    "# Importer fichier"
   ]
  },
  {
   "cell_type": "code",
   "execution_count": 59,
   "id": "72d00744-e863-4ed8-b83b-112156869997",
   "metadata": {
    "execution": {
     "iopub.execute_input": "2024-11-27T00:33:56.249387Z",
     "iopub.status.busy": "2024-11-27T00:33:56.249142Z",
     "iopub.status.idle": "2024-11-27T00:33:56.288891Z",
     "shell.execute_reply": "2024-11-27T00:33:56.287953Z",
     "shell.execute_reply.started": "2024-11-27T00:33:56.249368Z"
    }
   },
   "outputs": [],
   "source": [
    "path_to_tiff = os.path.join(\"..\", \"acquisition\", \"video_output_carac_150ms_1im_1um.tiff\")\n",
    "\n",
    "tiff = Image.open(path_to_tiff)"
   ]
  },
  {
   "cell_type": "markdown",
   "id": "a9542b9e-bfef-4abf-86f4-db78b05a8be8",
   "metadata": {},
   "source": [
    "# Nombre de frames pas vide"
   ]
  },
  {
   "cell_type": "code",
   "execution_count": 60,
   "id": "dcf8b520-316f-4ac0-b860-fd1d965ea732",
   "metadata": {
    "execution": {
     "iopub.execute_input": "2024-11-27T00:33:56.289986Z",
     "iopub.status.busy": "2024-11-27T00:33:56.289746Z",
     "iopub.status.idle": "2024-11-27T00:33:57.058878Z",
     "shell.execute_reply": "2024-11-27T00:33:57.057944Z",
     "shell.execute_reply.started": "2024-11-27T00:33:56.289967Z"
    }
   },
   "outputs": [
    {
     "name": "stdout",
     "output_type": "stream",
     "text": [
      "All frames processed.\n"
     ]
    },
    {
     "data": {
      "text/plain": [
       "71"
      ]
     },
     "execution_count": 60,
     "metadata": {},
     "output_type": "execute_result"
    }
   ],
   "source": [
    "with Image.open(path_to_tiff) as img:\n",
    "    frame_number = 0\n",
    "    actual_frames = 0\n",
    "    try:\n",
    "        while True:\n",
    "            frame_number += 1\n",
    "            if np.sum(np.array(img)) != 0:\n",
    "                actual_frames += 1\n",
    "                \n",
    "            img.seek(frame_number)\n",
    "    except EOFError:\n",
    "        print(\"All frames processed.\")\n",
    "\n",
    "actual_frames"
   ]
  },
  {
   "cell_type": "markdown",
   "id": "4ce4927e-f7ec-4e65-ad5d-cef9195b6cbc",
   "metadata": {},
   "source": [
    "# 1re frame\n",
    "\n",
    "**Le nombre de frames ignorés n'est pas pris en compte**"
   ]
  },
  {
   "cell_type": "code",
   "execution_count": 61,
   "id": "26577059-48c2-4f3a-8e52-a89c99dbccd3",
   "metadata": {
    "execution": {
     "iopub.execute_input": "2024-11-27T00:33:57.059925Z",
     "iopub.status.busy": "2024-11-27T00:33:57.059662Z",
     "iopub.status.idle": "2024-11-27T00:33:57.082939Z",
     "shell.execute_reply": "2024-11-27T00:33:57.082043Z",
     "shell.execute_reply.started": "2024-11-27T00:33:57.059898Z"
    }
   },
   "outputs": [
    {
     "name": "stdout",
     "output_type": "stream",
     "text": [
      "1\n"
     ]
    }
   ],
   "source": [
    "frame_index = 0\n",
    "first_frame = 0\n",
    "tiff.seek(frame_index)\n",
    "original_image = np.array(tiff)\n",
    "\n",
    "while np.sum(original_image) == 0:\n",
    "    frame_index += 1\n",
    "    tiff.seek(frame_index)\n",
    "    original_image = np.array(tiff)\n",
    "    first_frame += 1\n",
    "    print(frame_index)\n",
    "\n",
    "\n"
   ]
  },
  {
   "cell_type": "markdown",
   "id": "e1d8711a-7b97-4eb1-8556-60a0ce1f5253",
   "metadata": {},
   "source": [
    "# Traitement d'image"
   ]
  },
  {
   "cell_type": "code",
   "execution_count": 62,
   "id": "3a91746d-ed20-4b11-841a-4384c3c9f610",
   "metadata": {
    "execution": {
     "iopub.execute_input": "2024-11-27T00:33:57.083712Z",
     "iopub.status.busy": "2024-11-27T00:33:57.083500Z",
     "iopub.status.idle": "2024-11-27T00:33:57.942225Z",
     "shell.execute_reply": "2024-11-27T00:33:57.941368Z",
     "shell.execute_reply.started": "2024-11-27T00:33:57.083690Z"
    }
   },
   "outputs": [
    {
     "name": "stdout",
     "output_type": "stream",
     "text": [
      "[[ 9 10 10 ... 11 11 11]\n",
      " [10 10 10 ... 11 11 11]\n",
      " [ 9  9 10 ... 11 12 12]\n",
      " ...\n",
      " [ 9  9 10 ...  8  8  8]\n",
      " [ 8  9  9 ...  8  8  8]\n",
      " [ 8  9  9 ...  8  9  8]]\n"
     ]
    }
   ],
   "source": [
    "clahe = cv2.createCLAHE(clipLimit=10.0, tileGridSize=(30, 30))\n",
    "preprocessed = clahe.apply(original_image)\n",
    "\n",
    "blurred = cv2.medianBlur(preprocessed, 115)\n",
    "preprocessed2 = cv2.subtract(preprocessed, blurred)\n",
    "\n",
    "# Apply Non-Local Means Denoising\n",
    "img = cv2.fastNlMeansDenoising(preprocessed2, None, 15, 7, 41)\n",
    "print(img)"
   ]
  },
  {
   "cell_type": "markdown",
   "id": "9f52f7fc-b595-4b76-8cc3-0755544c12bd",
   "metadata": {},
   "source": [
    "# Sélection du point à tracker"
   ]
  },
  {
   "cell_type": "code",
   "execution_count": 63,
   "id": "5a934439-4314-4c28-a4cd-c0d9113c98e9",
   "metadata": {
    "execution": {
     "iopub.execute_input": "2024-11-27T00:33:57.944451Z",
     "iopub.status.busy": "2024-11-27T00:33:57.944269Z",
     "iopub.status.idle": "2024-11-27T00:33:57.947894Z",
     "shell.execute_reply": "2024-11-27T00:33:57.947259Z",
     "shell.execute_reply.started": "2024-11-27T00:33:57.944433Z"
    }
   },
   "outputs": [],
   "source": [
    "def crop(img, x, y, crop_size=100):\n",
    "    x_start = int(x - crop_size // 2)\n",
    "    x_end = int(x + crop_size // 2)\n",
    "    y_start = int(y - crop_size // 2)\n",
    "    y_end = int(y + crop_size // 2)\n",
    "\n",
    "    return img[y_start:y_end, x_start:x_end]"
   ]
  },
  {
   "cell_type": "code",
   "execution_count": 64,
   "id": "60e9cbb8-923d-4281-89f9-accc9565c831",
   "metadata": {
    "execution": {
     "iopub.execute_input": "2024-11-27T00:33:57.948819Z",
     "iopub.status.busy": "2024-11-27T00:33:57.948575Z",
     "iopub.status.idle": "2024-11-27T00:34:16.244046Z",
     "shell.execute_reply": "2024-11-27T00:34:16.243397Z",
     "shell.execute_reply.started": "2024-11-27T00:33:57.948800Z"
    }
   },
   "outputs": [
    {
     "name": "stdout",
     "output_type": "stream",
     "text": [
      "Please click on the point you want to select.\n",
      "Selected point: (731.1883116883117, 395.1493506493505)\n"
     ]
    }
   ],
   "source": [
    "# Display the image and let the user select a point interactively\n",
    "fig, ax = plt.subplots()\n",
    "ax.imshow(img, cmap='gray')  # Use 'gray' for better visibility of grayscale images\n",
    "plt.title(f\"Frame {frame_index}: Select a point\")\n",
    "\n",
    "# Ask for a point to be selected\n",
    "print(\"Please click on the point you want to select.\")\n",
    "x, y = plt.ginput(1)[0]  # This will get the coordinates of the clicked point\n",
    "print(f\"Selected point: ({x}, {y})\")\n",
    "plt.close()\n",
    "\n",
    "crop_sze = 100"
   ]
  },
  {
   "cell_type": "markdown",
   "id": "383a659b",
   "metadata": {},
   "source": [
    "Debogueur"
   ]
  },
  {
   "cell_type": "code",
   "execution_count": 65,
   "id": "6184609f",
   "metadata": {},
   "outputs": [],
   "source": [
    "def visionneur(frame):\n",
    "    plt.figure(figsize=(10, 5))\n",
    "    plt.clf() \n",
    "    plt.imshow(frame, origin='lower', cmap='gray')\n",
    "    plt.title('Grille Zoomée avec Position')\n",
    "    plt.colorbar()  \n",
    "    plt.show()"
   ]
  },
  {
   "cell_type": "markdown",
   "id": "6a9490a9-7dce-451b-81ff-0ae267584ee3",
   "metadata": {},
   "source": [
    "# Fit gaussien sur le point sélectionné"
   ]
  },
  {
   "cell_type": "code",
   "execution_count": 66,
   "id": "5fc5b874-d129-40a2-985c-03a724b3cb95",
   "metadata": {
    "execution": {
     "iopub.execute_input": "2024-11-27T00:34:16.245037Z",
     "iopub.status.busy": "2024-11-27T00:34:16.244816Z",
     "iopub.status.idle": "2024-11-27T00:34:16.248322Z",
     "shell.execute_reply": "2024-11-27T00:34:16.247669Z",
     "shell.execute_reply.started": "2024-11-27T00:34:16.245020Z"
    }
   },
   "outputs": [],
   "source": [
    "def prepare_data(x, y, z):\n",
    "    return (x.flatten(), y.flatten()), z.flatten()"
   ]
  },
  {
   "cell_type": "code",
   "execution_count": 67,
   "id": "1fb18b6a-7295-4ea7-b0fb-84f5a41fbdbb",
   "metadata": {
    "execution": {
     "iopub.execute_input": "2024-11-27T00:34:16.249457Z",
     "iopub.status.busy": "2024-11-27T00:34:16.248979Z",
     "iopub.status.idle": "2024-11-27T00:34:16.280319Z",
     "shell.execute_reply": "2024-11-27T00:34:16.279600Z",
     "shell.execute_reply.started": "2024-11-27T00:34:16.249435Z"
    }
   },
   "outputs": [],
   "source": [
    "def gaussian_2d(xy, amplitude, x0, y0, sigma_x, sigma_y, offset):\n",
    "    x, y = xy\n",
    "    a = 1 / (2 * sigma_x**2)\n",
    "    b = 1 / (2 * sigma_y**2)\n",
    "    return offset + amplitude * np.exp(- (a * (x - x0)**2 + b * (y - y0)**2))"
   ]
  },
  {
   "cell_type": "code",
   "execution_count": 68,
   "id": "b2f948a1-d8e5-4fa8-acfe-ac569383012d",
   "metadata": {
    "execution": {
     "iopub.execute_input": "2024-11-27T00:34:16.281928Z",
     "iopub.status.busy": "2024-11-27T00:34:16.281279Z",
     "iopub.status.idle": "2024-11-27T00:34:16.286665Z",
     "shell.execute_reply": "2024-11-27T00:34:16.286066Z",
     "shell.execute_reply.started": "2024-11-27T00:34:16.281903Z"
    }
   },
   "outputs": [],
   "source": [
    "def localisateur_gaussien(intensity_grid, maxi):\n",
    "    x = np.arange(intensity_grid.shape[0])\n",
    "    y = np.arange(intensity_grid.shape[1])\n",
    "    X, Y = np.meshgrid(x, y)\n",
    "\n",
    "    # Préparer les données pour le fit\n",
    "    (xdata, ydata), zdata = prepare_data(X, Y, intensity_grid)\n",
    "    model = lmfit.Model(gaussian_2d)\n",
    "    max_idx = np.unravel_index(np.argmax(intensity_grid), intensity_grid.shape)\n",
    "    initial_x0 = x[max_idx[0]]\n",
    "    initial_y0 = y[max_idx[1]]\n",
    "\n",
    "    # Définir les paramètres du modèle\n",
    "    params = model.make_params(\n",
    "        amplitude=np.max(intensity_grid),\n",
    "        x0=initial_x0,\n",
    "        y0=initial_y0,\n",
    "        sigma_x=1,\n",
    "        sigma_y=1,\n",
    "        offset=2\n",
    "    )\n",
    "\n",
    "    # Effectuer l'ajustement\n",
    "    result = model.fit(zdata, params, xy=(xdata, ydata))\n",
    "    \n",
    "    x_position = result.params['x0'].value + maxi[0] - crop_sze/2\n",
    "    y_position = result.params['y0'].value + maxi[1] - crop_sze/2\n",
    "\n",
    "    return [x_position, y_position], result.params['sigma_x'].value, result.params['sigma_y'].value"
   ]
  },
  {
   "cell_type": "markdown",
   "id": "647422c5-d9bb-4e71-9481-76349ea02eca",
   "metadata": {},
   "source": [
    "# Process d'image (enlever le bruit)\n",
    "\n",
    "**semble faire du trouble**"
   ]
  },
  {
   "cell_type": "code",
   "execution_count": 69,
   "id": "c3df48fe-ec70-413c-8172-84f9754a0bcf",
   "metadata": {
    "execution": {
     "iopub.execute_input": "2024-11-27T00:34:16.287655Z",
     "iopub.status.busy": "2024-11-27T00:34:16.287395Z",
     "iopub.status.idle": "2024-11-27T00:34:16.291801Z",
     "shell.execute_reply": "2024-11-27T00:34:16.291266Z",
     "shell.execute_reply.started": "2024-11-27T00:34:16.287612Z"
    }
   },
   "outputs": [],
   "source": [
    "def denoise(image):\n",
    "    clahe = cv2.createCLAHE(clipLimit=10.0, tileGridSize=(30, 30))\n",
    "    preprocessed = clahe.apply(image)\n",
    "    \n",
    "    blurred = cv2.medianBlur(preprocessed, 115)\n",
    "    preprocessed2 = cv2.subtract(preprocessed, blurred)\n",
    "    \n",
    "    return cv2.fastNlMeansDenoising(preprocessed2, None, 15, 7, 41)"
   ]
  },
  {
   "cell_type": "markdown",
   "id": "61f2661b-5185-493a-bd25-97d1c42d712c",
   "metadata": {},
   "source": [
    "# Faire le crop et fit"
   ]
  },
  {
   "cell_type": "code",
   "execution_count": 70,
   "id": "b695a082-5a85-499e-9183-cfd354b4dc5d",
   "metadata": {
    "execution": {
     "iopub.execute_input": "2024-11-27T00:34:16.297421Z",
     "iopub.status.busy": "2024-11-27T00:34:16.297176Z",
     "iopub.status.idle": "2024-11-27T00:34:16.301468Z",
     "shell.execute_reply": "2024-11-27T00:34:16.300888Z",
     "shell.execute_reply.started": "2024-11-27T00:34:16.297403Z"
    }
   },
   "outputs": [],
   "source": [
    "def particle_tracker(image, x, y):\n",
    "    image = denoise(image)\n",
    "\n",
    "    cropped_img = crop(image, x, y, crop_sze)\n",
    "    \n",
    "    #Gérer plus qu'une particule\n",
    "    cropped_img = np.array(cropped_img)\n",
    "    max_index = np.argmax(cropped_img)\n",
    "    max_coords = np.unravel_index(max_index, cropped_img.shape)\n",
    "\n",
    "    nouveau_x = x - crop_sze // 2 + max_coords[1]\n",
    "    nouveau_y = y - crop_sze // 2 + max_coords[0]\n",
    "    \n",
    "    second_crop = crop(image, nouveau_x, nouveau_y, crop_sze)    # Re-crop autour d'une seule particule\n",
    "\n",
    "    result_fit = localisateur_gaussien(second_crop, [x, y])\n",
    "\n",
    "    x_new, y_new = result_fit[0][0], result_fit[0][1]\n",
    "\n",
    "    return [result_fit, cropped_img, (x_new, y_new), (result_fit[1], result_fit[2])]"
   ]
  },
  {
   "cell_type": "markdown",
   "id": "8002acc8-bac7-4c69-846a-381ee31f08ff",
   "metadata": {},
   "source": [
    "# Main loop"
   ]
  },
  {
   "cell_type": "code",
   "execution_count": null,
   "id": "e7a5dba4-849a-4171-8fbb-6d05453ed795",
   "metadata": {
    "execution": {
     "iopub.execute_input": "2024-11-27T00:34:16.302483Z",
     "iopub.status.busy": "2024-11-27T00:34:16.302259Z",
     "iopub.status.idle": "2024-11-27T00:35:56.804477Z",
     "shell.execute_reply": "2024-11-27T00:35:56.803536Z",
     "shell.execute_reply.started": "2024-11-27T00:34:16.302464Z"
    }
   },
   "outputs": [
    {
     "name": "stdout",
     "output_type": "stream",
     "text": [
      "hello\n",
      "hello\n",
      "hello\n"
     ]
    }
   ],
   "source": [
    "position_list=[]\n",
    "sigma_list = []\n",
    "crop_frames = []\n",
    "big_frames = []\n",
    "\n",
    "\n",
    "for i in range(first_frame,actual_frames):\n",
    "    tiff.seek(i)\n",
    "    if np.sum(np.array(tiff))==0:\n",
    "        position_list.append(np.array([np.nan,np.nan]))\n",
    "        sigma_list.append(np.array([np.nan,np.nan]))\n",
    "    else:\n",
    "        data = particle_tracker(img, x, y)\n",
    "        position_list.append(data[2])\n",
    "        x,y = position_list[i-first_frame]\n",
    "        sigma_list.append(data[3])\n",
    "        tiff.seek(i)\n",
    "        img = np.array(tiff)\n",
    "        big_frames.append(img)\n",
    "        crop_frames.append(data[1])\n",
    "\n"
   ]
  },
  {
   "cell_type": "code",
   "execution_count": 72,
   "id": "6cd6af47",
   "metadata": {},
   "outputs": [
    {
     "name": "stdout",
     "output_type": "stream",
     "text": [
      "[[0.00252646 0.00137317]\n",
      " [0.00252874 0.00138438]\n",
      " [0.00253262 0.00139866]\n",
      " [0.00253216 0.00140224]\n",
      " [0.00253169 0.0014132 ]\n",
      " [0.00253177 0.00142287]\n",
      " [0.00253188 0.00142854]\n",
      " [0.00253349 0.00144142]\n",
      " [0.00253897 0.00145021]\n",
      " [0.00254171 0.00145972]\n",
      " [0.00254366 0.0014668 ]\n",
      " [0.00254747 0.00147536]\n",
      " [0.00255298 0.00148211]\n",
      " [0.00255635 0.00148991]\n",
      " [0.00255591 0.00149089]\n",
      " [0.00255818 0.00150047]\n",
      " [0.00256077 0.00150249]\n",
      " [0.00255898 0.00151758]\n",
      " [0.00255746 0.00152112]\n",
      " [0.00256217 0.00152135]\n",
      " [0.00256545 0.00152889]\n",
      " [0.00256941 0.00151107]\n",
      " [0.00257131 0.00151609]\n",
      " [0.00257455 0.00151763]\n",
      " [0.00257239 0.00151572]\n",
      " [0.00257467 0.00151352]\n",
      " [       nan        nan]\n",
      " [0.00257674 0.00152167]\n",
      " [       nan        nan]\n",
      " [0.00257967 0.0015284 ]\n",
      " [0.00257853 0.00151933]\n",
      " [0.00258033 0.00152827]\n",
      " [0.00258152 0.00153034]\n",
      " [0.00258382 0.00153067]\n",
      " [0.00258472 0.00152807]\n",
      " [0.00257802 0.00152479]\n",
      " [0.00257615 0.00151989]\n",
      " [0.00255588 0.00152244]\n",
      " [0.00255802 0.00152251]\n",
      " [0.00255856 0.00152319]\n",
      " [0.00255836 0.00152605]\n",
      " [0.00255971 0.00152269]\n",
      " [0.00256181 0.00152014]\n",
      " [0.00255957 0.00151919]\n",
      " [0.00240332 0.0015269 ]\n",
      " [0.0024057  0.00151097]\n",
      " [0.00240667 0.00150821]\n",
      " [0.00240819 0.00151544]\n",
      " [0.0024095  0.00151486]\n",
      " [0.00241251 0.001508  ]\n",
      " [0.00241324 0.00151112]\n",
      " [0.00241405 0.00151884]\n",
      " [0.0024183  0.00152909]\n",
      " [0.00241865 0.00153556]\n",
      " [0.0024211  0.00153724]\n",
      " [0.00242569 0.00154345]\n",
      " [0.00243045 0.00154496]\n",
      " [0.00243391 0.00154018]\n",
      " [0.00243335 0.00153814]\n",
      " [0.00243507 0.00154764]\n",
      " [       nan        nan]\n",
      " [0.00243592 0.00155378]\n",
      " [0.00244227 0.00156268]\n",
      " [0.00244636 0.00157193]\n",
      " [0.0024462  0.00158299]\n",
      " [0.00244741 0.00158497]\n",
      " [0.0024451  0.00159555]\n",
      " [0.00244417 0.00160764]\n",
      " [0.00244519 0.00160532]\n",
      " [0.00244723 0.00160924]]\n"
     ]
    }
   ],
   "source": [
    "pixel_size = 3.45\n",
    "sigma_arr=np.array(sigma_list)* pixel_size * 10**(-6)\n",
    "position_arr=np.array(position_list)* pixel_size * 10**(-6)\n",
    "print(position_arr)"
   ]
  },
  {
   "cell_type": "code",
   "execution_count": 73,
   "id": "3381e213",
   "metadata": {},
   "outputs": [
    {
     "data": {
      "text/plain": [
       "(array([4.17296287e-10, 8.81814828e-10, 1.38078819e-09, 1.92890213e-09,\n",
       "        2.51163576e-09, 3.10164949e-09, 3.70094693e-09, 4.43684276e-09,\n",
       "        5.14999957e-09, 5.99388631e-09, 6.77265793e-09, 7.52898451e-09,\n",
       "        8.28367992e-09, 9.00329970e-09, 9.77510342e-09, 9.95346947e-09,\n",
       "        1.04014195e-08, 1.04320617e-08, 1.09759322e-08, 1.14124035e-08,\n",
       "        1.18401230e-08, 1.23432983e-08, 1.28767533e-08, 1.32507095e-08,\n",
       "        1.36624089e-08, 1.41612595e-08, 1.49459576e-08, 1.52407244e-08,\n",
       "        1.62181633e-08, 1.65352813e-08, 1.69391829e-08, 1.77711529e-08,\n",
       "        1.74490450e-08, 1.81125201e-08, 1.76079597e-08, 1.77025560e-08,\n",
       "        1.78203642e-08, 1.79140791e-08, 1.80350592e-08, 1.82216479e-08,\n",
       "        1.83696032e-08, 1.95636384e-08, 1.98517693e-08, 2.10776910e-08,\n",
       "        2.08502874e-08, 2.08580420e-08, 2.09619874e-08, 2.10964739e-08,\n",
       "        2.13157372e-08, 2.19395094e-08, 2.26395669e-08, 2.34235183e-08,\n",
       "        2.42288527e-08, 2.47475332e-08, 2.55255356e-08, 2.62191827e-08,\n",
       "        2.70534847e-08, 2.83995322e-08, 2.98645957e-08, 3.13230302e-08,\n",
       "        3.77426373e-08, 4.04894976e-08, 4.35950412e-08, 4.66574832e-08,\n",
       "        4.97121244e-08, 5.33701659e-08, 5.63922431e-08, 5.88529187e-08,\n",
       "        6.20052248e-08]),\n",
       " array([1.18739997e-09, 1.34942114e-09, 1.60285952e-09, 1.89871777e-09,\n",
       "        2.15019318e-09, 2.38618267e-09, 2.42098771e-09, 2.95166562e-09,\n",
       "        3.05016033e-09, 3.29144913e-09, 3.47874823e-09, 3.65850455e-09,\n",
       "        3.82378058e-09, 3.94182080e-09, 4.12376900e-09, 3.96345483e-09,\n",
       "        4.23150029e-09, 4.00132653e-09, 4.26739469e-09, 4.22800844e-09,\n",
       "        4.23094712e-09, 4.42682924e-09, 4.37949126e-09, 4.55677481e-09,\n",
       "        4.53482111e-09, 4.45811632e-09, 4.70257437e-09, 4.76697002e-09,\n",
       "        4.97500629e-09, 4.99895990e-09, 5.06344582e-09, 5.12139494e-09,\n",
       "        5.10152589e-09, 5.20133650e-09, 5.19285969e-09, 5.25298701e-09,\n",
       "        5.28164942e-09, 5.55290222e-09, 5.70275975e-09, 5.80506940e-09,\n",
       "        5.83402447e-09, 6.03025700e-09, 6.21582371e-09, 6.48242652e-09,\n",
       "        5.96456031e-09, 6.35484771e-09, 6.55420454e-09, 6.75322694e-09,\n",
       "        7.09750779e-09, 7.39185289e-09, 7.75059380e-09, 7.98721880e-09,\n",
       "        8.24255144e-09, 8.38209981e-09, 8.63229016e-09, 8.82170657e-09,\n",
       "        9.05278667e-09, 9.48250263e-09, 9.85161848e-09, 1.00696547e-08,\n",
       "        1.12265605e-08, 1.17780109e-08, 1.20304758e-08, 1.24987848e-08,\n",
       "        1.27997588e-08, 1.28043379e-08, 1.29732842e-08, 1.32148471e-08,\n",
       "        1.38792927e-08]))"
      ]
     },
     "execution_count": 73,
     "metadata": {},
     "output_type": "execute_result"
    }
   ],
   "source": [
    "def calculate_msd_with_uncertainty(position, delta_x, delta_y):\n",
    "    \"\"\"\n",
    "    Calcule les MSD avec propagation des incertitudes analytiques.\n",
    "    \"\"\"\n",
    "\n",
    "\n",
    "    msd = []\n",
    "    uncertainties = []\n",
    "    for d in range(1, len(position_arr)):\n",
    "        diff_pairs = np.zeros_like(position_arr[d:])\n",
    "        dx = np.zeros_like(delta_x[d:])\n",
    "        dy = np.zeros_like(delta_y[d:])\n",
    "\n",
    "        # Masque pour détecter les NaN\n",
    "        nan_mask_pos = np.isnan(position_arr[d:]) | np.isnan(position_arr[:-d])\n",
    "        nan_mask_delta = np.isnan(delta_x[d:]) | np.isnan(delta_x[:-d])\n",
    "        \n",
    "        # Calculer les différences uniquement où nan_mask est False\n",
    "        valid_mask_pos = ~nan_mask_pos.any(axis=1)  # Inverser le masque pour obtenir les position_arr valides\n",
    "        valid_mask_delta = ~nan_mask_delta\n",
    "        \n",
    "        diff_pairs[valid_mask_pos] = position_arr[d:][valid_mask_pos, :] - position_arr[:-d][valid_mask_pos, :]\n",
    "\n",
    "        distances_squared = np.sum(diff_pairs**2, axis=1)\n",
    "        msd.append(np.mean(distances_squared))  \n",
    "        \n",
    "        dx[valid_mask_delta] = delta_x[d:][valid_mask_delta] + delta_x[:-d][valid_mask_delta]\n",
    "        dy[valid_mask_delta] = delta_y[d:][valid_mask_delta] + delta_y[:-d][valid_mask_delta]\n",
    "        term_x = 2 * (diff_pairs[:, 0]**2) * (dx**2)\n",
    "        term_y = 2 * (diff_pairs[:, 1]**2) * (dy**2)\n",
    "        \n",
    "        # Propagation des incertitudes\n",
    "        total_uncertainty = np.mean(term_x + term_y)\n",
    "        uncertainties.append(np.sqrt(total_uncertainty))\n",
    "\n",
    "    return np.array(msd), np.array(uncertainties)\n",
    "\n",
    "calculate_msd_with_uncertainty(position_arr, sigma_arr[:, 0], sigma_arr[:, 1])"
   ]
  },
  {
   "cell_type": "code",
   "execution_count": 74,
   "id": "3bf48140",
   "metadata": {},
   "outputs": [],
   "source": [
    "# Assuming msd_values is the result of your MSD calculation\n",
    "msd_values, uncertainties = calculate_msd_with_uncertainty(position_arr, sigma_arr[:, 0], sigma_arr[:, 1])\n",
    "\n",
    "# Time intervals for the x-axis (assuming a uniform time step)\n",
    "time_intervals = np.arange(1, len(msd_values) + 1)\n",
    "\n",
    "# Plotting the MSD\n",
    "plt.figure(figsize=(8, 6))\n",
    "plt.errorbar(time_intervals, msd_values, yerr=uncertainties, fmt='o', label='MSD', color='blue')\n",
    "\n",
    "# Customize the plot\n",
    "plt.title(\"MSD en fonction de l'intervalle de temps\")\n",
    "plt.xlabel(\"Intervalle de temps\")\n",
    "plt.ylabel(\"MSD\")\n",
    "plt.grid(True)\n",
    "plt.legend()\n",
    "\n",
    "# Show the plot\n",
    "plt.show()"
   ]
  },
  {
   "cell_type": "code",
   "execution_count": null,
   "id": "63a46310",
   "metadata": {},
   "outputs": [
    {
     "name": "stdout",
     "output_type": "stream",
     "text": [
      "Coefficients du polynôme ajusté :\n",
      "[ 2.03533032e-11  4.01431273e-10 -4.09337786e-12]\n",
      "Matrice de covariance des coefficients :\n",
      "[[ 4.54831244e-25 -2.54230941e-24  2.68116159e-24]\n",
      " [-2.54230941e-24  1.48607192e-23 -1.65555058e-23]\n",
      " [ 2.68116159e-24 -1.65555058e-23  2.07414556e-23]]\n",
      "Incertitudes sur les coefficients : [6.74411776e-13 3.85496033e-12 4.55427882e-12]\n",
      "Taille de la particule (m): 2.19e-09 m, avec une incertitude : 3.85e-12\n"
     ]
    }
   ],
   "source": [
    "from scipy.optimize import curve_fit\n",
    "\n",
    "# Fonction quadratique pour l'ajustement\n",
    "def quadratic(x, a, b, c):\n",
    "    return a * x**2 + b * x + c\n",
    "\n",
    "# Assuming msd_values is the result of your MSD calculation\n",
    "msd_values, uncertainties = calculate_msd_with_uncertainty(position_arr, sigma_arr[:, 0], sigma_arr[:, 1])\n",
    "\n",
    "cropped_msd = msd_values[:5]\n",
    "cropped_inc = uncertainties[:5]\n",
    "\n",
    "# Time intervals for the x-axis (assuming a uniform time step)\n",
    "time_intervals = np.arange(1, len(cropped_msd) + 1)\n",
    "\n",
    "# Perform a quadratic fit using curve_fit, which gives both coefficients and covariance matrix\n",
    "popt, pcov = curve_fit(quadratic, time_intervals, cropped_msd, sigma=cropped_inc)\n",
    "\n",
    "# popt contains the optimal coefficients\n",
    "coeffs = popt\n",
    "\n",
    "# pcov is the covariance matrix, which we can use to compute uncertainties\n",
    "coeff_uncertainties = np.sqrt(np.diag(pcov))  # Incertitudes sur les coefficients sont les éléments diagonaux\n",
    "\n",
    "# Affichage des coefficients séparément\n",
    "print(\"Coefficients du polynôme ajusté :\")\n",
    "print(coeffs)\n",
    "\n",
    "# Affichage de la matrice de covariance séparément\n",
    "print(\"Matrice de covariance des coefficients :\")\n",
    "print(pcov)\n",
    "\n",
    "# Création de la fonction quadratique de l'ajustement\n",
    "quadratic_fit = np.poly1d(coeffs)\n",
    "\n",
    "# Génération des valeurs ajustées pour afficher la courbe\n",
    "fitted_msd = quadratic_fit(time_intervals)\n",
    "\n",
    "# Affichage du MSD avec les barres d'erreur\n",
    "plt.figure(figsize=(8, 6))\n",
    "plt.errorbar(time_intervals, cropped_msd, yerr=cropped_inc, fmt='o', label='MSD', color='blue')\n",
    "plt.plot(time_intervals, fitted_msd, label='Quadratic Fit', color='red', linestyle='--')\n",
    "\n",
    "# Personnalisation du graphique\n",
    "plt.title(\"MSD en fonction de l'intervalle de temps\")\n",
    "plt.xlabel(\"Intervalle de temps\")\n",
    "plt.ylabel(\"MSD\")\n",
    "plt.grid(True)\n",
    "plt.legend()\n",
    "\n",
    "# Afficher le graphique\n",
    "plt.show()\n",
    "\n",
    "# Affichage des incertitudes sur les coefficients\n",
    "print(f\"Incertitudes sur les coefficients : {coeff_uncertainties}\")\n",
    "\n",
    "# Calcul du coefficient de diffusion et de la taille de la particule\n",
    "r = (4 * 1.38 * 10**-23 * 300 / (6 * np.pi * 10**(-3) * coeffs[1]))  # Coefficient de diffusion\n",
    "\n",
    "# Affichage de la taille de la particule avec incertitude\n",
    "print(f\"Taille de la particule (m): {r:.2e} m, avec une incertitude : {coeff_uncertainties[1]:.2e}\")\n",
    "\n",
    "\n"
   ]
  },
  {
   "cell_type": "code",
   "execution_count": 91,
   "id": "fc842178",
   "metadata": {},
   "outputs": [
    {
     "name": "stdout",
     "output_type": "stream",
     "text": [
      "Quadratic fit coefficients: [ 2.03979100e-11  4.01189164e-10 -3.85706248e-12]\n",
      "Taille de la particule (m): 2.189828054477303e-09 m, avec une incertitude : [0.00222024]\n"
     ]
    }
   ],
   "source": [
    "print(f\"Quadratic fit coefficients: {coeffs}\")\n",
    "\n",
    "r = (4 * 1.38 * 10**-23 * 300 / (6 * np.pi * 10**(-3) * coeffs[1]))  # Diffusion coefficient\n",
    "print(f\"Taille de la particule (m): {r} m, avec une incertitude : {coeff_uncertainties[0]}\")\n"
   ]
  },
  {
   "cell_type": "markdown",
   "id": "111a50d8-6fce-40cc-bf48-775bfd002c3d",
   "metadata": {},
   "source": [
    "## anim crop"
   ]
  },
  {
   "cell_type": "code",
   "execution_count": 77,
   "id": "0d6554b7-0c86-4ee5-8a32-4bd994f881f4",
   "metadata": {
    "execution": {
     "iopub.execute_input": "2024-11-27T00:35:56.899778Z",
     "iopub.status.busy": "2024-11-27T00:35:56.899533Z",
     "iopub.status.idle": "2024-11-27T00:35:56.955616Z",
     "shell.execute_reply": "2024-11-27T00:35:56.954725Z",
     "shell.execute_reply.started": "2024-11-27T00:35:56.899759Z"
    }
   },
   "outputs": [],
   "source": [
    "fig, ax = plt.subplots()\n",
    "img = ax.imshow(crop_frames[0], cmap='gray', animated=True)\n",
    "\n",
    "\n",
    "def update(frame):\n",
    "    img.set_array(frame)\n",
    "    return img,\n",
    "    \n",
    "ani = animation.FuncAnimation(fig, update, frames=crop_frames, interval=50, blit=True)\n",
    "plt.show()"
   ]
  }
 ],
 "metadata": {
  "kernelspec": {
   "display_name": "Python 3",
   "language": "python",
   "name": "python3"
  },
  "language_info": {
   "codemirror_mode": {
    "name": "ipython",
    "version": 3
   },
   "file_extension": ".py",
   "mimetype": "text/x-python",
   "name": "python",
   "nbconvert_exporter": "python",
   "pygments_lexer": "ipython3",
   "version": "3.12.1"
  }
 },
 "nbformat": 4,
 "nbformat_minor": 5
}
