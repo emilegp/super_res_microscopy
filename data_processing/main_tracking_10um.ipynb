{
 "cells": [
  {
   "cell_type": "markdown",
   "id": "a1bbf155-d46a-4bbb-a7bc-6857ef1672de",
   "metadata": {},
   "source": [
    "# Initialisation"
   ]
  },
  {
   "cell_type": "code",
   "execution_count": 226,
   "id": "49fff9c0-1a10-465b-b5d6-cf2853a133db",
   "metadata": {
    "execution": {
     "iopub.execute_input": "2024-11-27T00:33:55.015775Z",
     "iopub.status.busy": "2024-11-27T00:33:55.015362Z",
     "iopub.status.idle": "2024-11-27T00:33:56.248500Z",
     "shell.execute_reply": "2024-11-27T00:33:56.247904Z",
     "shell.execute_reply.started": "2024-11-27T00:33:55.015736Z"
    }
   },
   "outputs": [],
   "source": [
    "import matplotlib\n",
    "matplotlib.use('Qt5Agg')  # Utiliser le backend Qt5Agg pour Windows\n",
    "import matplotlib.pyplot as plt\n",
    "import matplotlib.animation as animation\n",
    "import cv2\n",
    "import numpy as np\n",
    "import os\n",
    "from PIL import Image\n",
    "import lmfit\n",
    "#import tifffile\n",
    "#%matplotlib tk #pour Linux"
   ]
  },
  {
   "cell_type": "code",
   "execution_count": 227,
   "id": "5244023b",
   "metadata": {},
   "outputs": [],
   "source": [
    "import scipy.ndimage as ndimage\n",
    "from sklearn.cluster import DBSCAN"
   ]
  },
  {
   "cell_type": "markdown",
   "id": "3c857432-f4a0-4d37-b1c3-d5115974f0f5",
   "metadata": {},
   "source": [
    "# Importer fichier"
   ]
  },
  {
   "cell_type": "code",
   "execution_count": 228,
   "id": "72d00744-e863-4ed8-b83b-112156869997",
   "metadata": {
    "execution": {
     "iopub.execute_input": "2024-11-27T00:33:56.249387Z",
     "iopub.status.busy": "2024-11-27T00:33:56.249142Z",
     "iopub.status.idle": "2024-11-27T00:33:56.288891Z",
     "shell.execute_reply": "2024-11-27T00:33:56.287953Z",
     "shell.execute_reply.started": "2024-11-27T00:33:56.249368Z"
    }
   },
   "outputs": [],
   "source": [
    "path_to_tiff = os.path.join(\"..\", \"acquisition\", \"video_output_carac_150ms_1im_10um.tiff\")\n",
    "\n",
    "tiff = Image.open(path_to_tiff)"
   ]
  },
  {
   "cell_type": "markdown",
   "id": "a9542b9e-bfef-4abf-86f4-db78b05a8be8",
   "metadata": {},
   "source": [
    "# Nombre de frames pas vide"
   ]
  },
  {
   "cell_type": "code",
   "execution_count": 229,
   "id": "dcf8b520-316f-4ac0-b860-fd1d965ea732",
   "metadata": {
    "execution": {
     "iopub.execute_input": "2024-11-27T00:33:56.289986Z",
     "iopub.status.busy": "2024-11-27T00:33:56.289746Z",
     "iopub.status.idle": "2024-11-27T00:33:57.058878Z",
     "shell.execute_reply": "2024-11-27T00:33:57.057944Z",
     "shell.execute_reply.started": "2024-11-27T00:33:56.289967Z"
    }
   },
   "outputs": [
    {
     "name": "stdout",
     "output_type": "stream",
     "text": [
      "All frames processed.\n"
     ]
    },
    {
     "data": {
      "text/plain": [
       "62"
      ]
     },
     "execution_count": 229,
     "metadata": {},
     "output_type": "execute_result"
    }
   ],
   "source": [
    "with Image.open(path_to_tiff) as img:\n",
    "    frame_number = 0\n",
    "    actual_frames = 0\n",
    "    try:\n",
    "        while True:\n",
    "            frame_number += 1\n",
    "            if np.sum(np.array(img)) != 0:\n",
    "                actual_frames += 1\n",
    "                \n",
    "            img.seek(frame_number)\n",
    "    except EOFError:\n",
    "        print(\"All frames processed.\")\n",
    "\n",
    "actual_frames"
   ]
  },
  {
   "cell_type": "markdown",
   "id": "4ce4927e-f7ec-4e65-ad5d-cef9195b6cbc",
   "metadata": {},
   "source": [
    "# 1re frame\n",
    "\n",
    "**Le nombre de frames ignorés n'est pas pris en compte**"
   ]
  },
  {
   "cell_type": "code",
   "execution_count": 230,
   "id": "26577059-48c2-4f3a-8e52-a89c99dbccd3",
   "metadata": {
    "execution": {
     "iopub.execute_input": "2024-11-27T00:33:57.059925Z",
     "iopub.status.busy": "2024-11-27T00:33:57.059662Z",
     "iopub.status.idle": "2024-11-27T00:33:57.082939Z",
     "shell.execute_reply": "2024-11-27T00:33:57.082043Z",
     "shell.execute_reply.started": "2024-11-27T00:33:57.059898Z"
    }
   },
   "outputs": [],
   "source": [
    "frame_index = 0\n",
    "first_frame = 0\n",
    "tiff.seek(frame_index)\n",
    "original_image = np.array(tiff)\n",
    "\n",
    "while np.sum(original_image) == 0:\n",
    "    frame_index += 1\n",
    "    tiff.seek(frame_index)\n",
    "    original_image = np.array(tiff)\n",
    "    first_frame += 1\n",
    "    print(frame_index)\n",
    "\n",
    "\n"
   ]
  },
  {
   "cell_type": "markdown",
   "id": "e1d8711a-7b97-4eb1-8556-60a0ce1f5253",
   "metadata": {},
   "source": [
    "# Traitement d'image"
   ]
  },
  {
   "cell_type": "code",
   "execution_count": 231,
   "id": "3a91746d-ed20-4b11-841a-4384c3c9f610",
   "metadata": {
    "execution": {
     "iopub.execute_input": "2024-11-27T00:33:57.083712Z",
     "iopub.status.busy": "2024-11-27T00:33:57.083500Z",
     "iopub.status.idle": "2024-11-27T00:33:57.942225Z",
     "shell.execute_reply": "2024-11-27T00:33:57.941368Z",
     "shell.execute_reply.started": "2024-11-27T00:33:57.083690Z"
    }
   },
   "outputs": [
    {
     "name": "stdout",
     "output_type": "stream",
     "text": [
      "[[10 12 12 ...  9 10  9]\n",
      " [11 12 11 ...  9  9  9]\n",
      " [11 12 11 ...  9  9  9]\n",
      " ...\n",
      " [ 7  7  7 ...  6  6  7]\n",
      " [ 7  7  7 ...  6  6  6]\n",
      " [ 7  8  7 ...  6  6  6]]\n"
     ]
    }
   ],
   "source": [
    "clahe = cv2.createCLAHE(clipLimit=10.0, tileGridSize=(30, 30))\n",
    "preprocessed = clahe.apply(original_image)\n",
    "\n",
    "blurred = cv2.medianBlur(preprocessed, 115)\n",
    "preprocessed2 = cv2.subtract(preprocessed, blurred)\n",
    "\n",
    "# Apply Non-Local Means Denoising\n",
    "img = cv2.fastNlMeansDenoising(preprocessed2, None, 15, 7, 41)\n",
    "print(img)"
   ]
  },
  {
   "cell_type": "markdown",
   "id": "9f52f7fc-b595-4b76-8cc3-0755544c12bd",
   "metadata": {},
   "source": [
    "# Sélection du point à tracker"
   ]
  },
  {
   "cell_type": "code",
   "execution_count": 232,
   "id": "5a934439-4314-4c28-a4cd-c0d9113c98e9",
   "metadata": {
    "execution": {
     "iopub.execute_input": "2024-11-27T00:33:57.944451Z",
     "iopub.status.busy": "2024-11-27T00:33:57.944269Z",
     "iopub.status.idle": "2024-11-27T00:33:57.947894Z",
     "shell.execute_reply": "2024-11-27T00:33:57.947259Z",
     "shell.execute_reply.started": "2024-11-27T00:33:57.944433Z"
    }
   },
   "outputs": [],
   "source": [
    "def crop(img, x, y, crop_size_x, crop_size_y):\n",
    "    x_start = int(x - crop_size_x // 2)\n",
    "    x_end = int(x + crop_size_x // 2)\n",
    "    y_start = int(y - crop_size_y // 2)\n",
    "    y_end = int(y + crop_size_y // 2)\n",
    "\n",
    "    return img[y_start:y_end, x_start:x_end]"
   ]
  },
  {
   "cell_type": "code",
   "execution_count": 233,
   "id": "60e9cbb8-923d-4281-89f9-accc9565c831",
   "metadata": {
    "execution": {
     "iopub.execute_input": "2024-11-27T00:33:57.948819Z",
     "iopub.status.busy": "2024-11-27T00:33:57.948575Z",
     "iopub.status.idle": "2024-11-27T00:34:16.244046Z",
     "shell.execute_reply": "2024-11-27T00:34:16.243397Z",
     "shell.execute_reply.started": "2024-11-27T00:33:57.948800Z"
    }
   },
   "outputs": [
    {
     "name": "stdout",
     "output_type": "stream",
     "text": [
      "Please click on the point you want to select.\n",
      "Selected point: (351.31818181818187, 321.51298701298697)\n"
     ]
    }
   ],
   "source": [
    "# Display the image and let the user select a point interactively\n",
    "fig, ax = plt.subplots()\n",
    "ax.imshow(img, origin='lower', cmap='gray')  # Use 'gray' for better visibility of grayscale images\n",
    "plt.title(f\"Frame {frame_index}: Select a point\")\n",
    "\n",
    "# Ask for a point to be selected\n",
    "print(\"Please click on the point you want to select.\")\n",
    "x, y = plt.ginput(1)[0]  # This will get the coordinates of the clicked point\n",
    "print(f\"Selected point: ({x}, {y})\")\n",
    "plt.close()\n",
    "\n",
    "crop_sze_x = 250\n",
    "crop_sze_y = 400"
   ]
  },
  {
   "cell_type": "markdown",
   "id": "383a659b",
   "metadata": {},
   "source": [
    "Debogueur"
   ]
  },
  {
   "cell_type": "code",
   "execution_count": 234,
   "id": "6184609f",
   "metadata": {},
   "outputs": [],
   "source": [
    "def visionneur(frame, titre):\n",
    "    plt.figure(figsize=(10, 5))\n",
    "    plt.clf() \n",
    "    plt.imshow(frame, origin='lower', cmap='gray')\n",
    "    plt.title(titre)\n",
    "    plt.colorbar()  \n",
    "    plt.show()"
   ]
  },
  {
   "cell_type": "markdown",
   "id": "6a9490a9-7dce-451b-81ff-0ae267584ee3",
   "metadata": {},
   "source": [
    "# Fit gaussien sur le point sélectionné"
   ]
  },
  {
   "cell_type": "code",
   "execution_count": 235,
   "id": "5fc5b874-d129-40a2-985c-03a724b3cb95",
   "metadata": {
    "execution": {
     "iopub.execute_input": "2024-11-27T00:34:16.245037Z",
     "iopub.status.busy": "2024-11-27T00:34:16.244816Z",
     "iopub.status.idle": "2024-11-27T00:34:16.248322Z",
     "shell.execute_reply": "2024-11-27T00:34:16.247669Z",
     "shell.execute_reply.started": "2024-11-27T00:34:16.245020Z"
    }
   },
   "outputs": [],
   "source": [
    "def prepare_data(x, y, z):\n",
    "    return (x.flatten(), y.flatten()), z.flatten()"
   ]
  },
  {
   "cell_type": "code",
   "execution_count": 236,
   "id": "1fb18b6a-7295-4ea7-b0fb-84f5a41fbdbb",
   "metadata": {
    "execution": {
     "iopub.execute_input": "2024-11-27T00:34:16.249457Z",
     "iopub.status.busy": "2024-11-27T00:34:16.248979Z",
     "iopub.status.idle": "2024-11-27T00:34:16.280319Z",
     "shell.execute_reply": "2024-11-27T00:34:16.279600Z",
     "shell.execute_reply.started": "2024-11-27T00:34:16.249435Z"
    }
   },
   "outputs": [],
   "source": [
    "def gaussian_2d(xy, amplitude, x0, y0, sigma_x, sigma_y, offset):\n",
    "    x, y = xy\n",
    "    a = 1 / (2 * sigma_x**2)\n",
    "    b = 1 / (2 * sigma_y**2)\n",
    "    return offset + amplitude * np.exp(- (a * (x - x0)**2 + b * (y - y0)**2))"
   ]
  },
  {
   "cell_type": "code",
   "execution_count": 237,
   "id": "b2f948a1-d8e5-4fa8-acfe-ac569383012d",
   "metadata": {
    "execution": {
     "iopub.execute_input": "2024-11-27T00:34:16.281928Z",
     "iopub.status.busy": "2024-11-27T00:34:16.281279Z",
     "iopub.status.idle": "2024-11-27T00:34:16.286665Z",
     "shell.execute_reply": "2024-11-27T00:34:16.286066Z",
     "shell.execute_reply.started": "2024-11-27T00:34:16.281903Z"
    }
   },
   "outputs": [],
   "source": [
    "def localisateur_gaussien(intensity_grid, centre):\n",
    "    x = np.arange(intensity_grid.shape[0])\n",
    "    y = np.arange(intensity_grid.shape[1])\n",
    "    X, Y = np.meshgrid(x, y)\n",
    "\n",
    "    # Préparer les données pour le fit\n",
    "    (xdata, ydata), zdata = prepare_data(X, Y, intensity_grid)\n",
    "    model = lmfit.Model(gaussian_2d)\n",
    "    max_idx = np.unravel_index(np.argmax(intensity_grid), intensity_grid.shape)\n",
    "    initial_x0 = x[max_idx[0]]\n",
    "    initial_y0 = y[max_idx[1]]\n",
    "\n",
    "    # Définir les paramètres du modèle\n",
    "    params = model.make_params(\n",
    "        amplitude=np.max(intensity_grid),\n",
    "        x0=initial_x0,\n",
    "        y0=initial_y0,\n",
    "        sigma_x=1,\n",
    "        sigma_y=1,\n",
    "        offset=2\n",
    "    )\n",
    "\n",
    "    # Effectuer l'ajustement\n",
    "    result = model.fit(zdata, params, xy=(xdata, ydata))\n",
    "    \n",
    "    x_position = result.params['x0'].value + centre[0] - crop_sze_x/2\n",
    "    y_position = result.params['y0'].value + centre[1] - crop_sze_y/2\n",
    "\n",
    "    return [x_position, y_position], result.params['sigma_x'].value, result.params['sigma_y'].value"
   ]
  },
  {
   "cell_type": "markdown",
   "id": "647422c5-d9bb-4e71-9481-76349ea02eca",
   "metadata": {},
   "source": [
    "# Process d'image (enlever le bruit)\n",
    "\n",
    "**semble faire du trouble**"
   ]
  },
  {
   "cell_type": "code",
   "execution_count": 238,
   "id": "c3df48fe-ec70-413c-8172-84f9754a0bcf",
   "metadata": {
    "execution": {
     "iopub.execute_input": "2024-11-27T00:34:16.287655Z",
     "iopub.status.busy": "2024-11-27T00:34:16.287395Z",
     "iopub.status.idle": "2024-11-27T00:34:16.291801Z",
     "shell.execute_reply": "2024-11-27T00:34:16.291266Z",
     "shell.execute_reply.started": "2024-11-27T00:34:16.287612Z"
    }
   },
   "outputs": [],
   "source": [
    "def denoise(image):\n",
    "    clahe = cv2.createCLAHE(clipLimit=10.0, tileGridSize=(30, 30))\n",
    "    preprocessed = clahe.apply(image)\n",
    "    \n",
    "    blurred = cv2.medianBlur(preprocessed, 115)\n",
    "    preprocessed2 = cv2.subtract(preprocessed, blurred)\n",
    "    \n",
    "    return cv2.fastNlMeansDenoising(preprocessed2, None, 15, 7, 41)"
   ]
  },
  {
   "cell_type": "markdown",
   "id": "10149e95",
   "metadata": {},
   "source": [
    "# Identifier la particule et donner sa nouvelle position"
   ]
  },
  {
   "cell_type": "code",
   "execution_count": 239,
   "id": "11c4d94f",
   "metadata": {},
   "outputs": [],
   "source": [
    "def empreinte_digitale(image, threshold=50, eps=3, min_samples=1):\n",
    "    # 1. Observer chaque particule approximativement\n",
    "    #neighborhood_size = 3  \n",
    "    #local_max = ndimage.maximum_filter(image, size=neighborhood_size)\n",
    "    visionneur(image, f'particule choisie')\n",
    "\n",
    "    maxima = (image > threshold)\n",
    "    \n",
    "    coordinates = np.column_stack(np.where(maxima))  \n",
    "    if coordinates.shape[0] == 0:\n",
    "        print(\"Aucune particule détectée.\")\n",
    "        return [], image\n",
    "\n",
    "    dbscan = DBSCAN(eps=eps, min_samples=min_samples)\n",
    "    labels = dbscan.fit_predict(coordinates)\n",
    "    unique_labels = np.unique(labels)\n",
    "    size=0\n",
    "\n",
    "    # 2. Déterminer l'empreinte digitale de notre particule\n",
    "    for label in unique_labels:\n",
    "        if label != -1:  # -1 correspond au bruit dans DBSCAN\n",
    "            cluster_points = coordinates[labels == label]\n",
    "            plt.scatter(cluster_points[:, 1], cluster_points[:, 0], label=f'Particule {label}')\n",
    "\n",
    "            if cluster_points.shape[0]>size:\n",
    "                size = cluster_points.shape[0]\n",
    "                luminosity = np.mean(image[cluster_points[:, 0], cluster_points[:, 1]])\n",
    "\n",
    "    seuil=np.max(image)*0.75\n",
    "    print(seuil)\n",
    "    # 3. Afficher les résultats et filtrer les particules selon leur taille et luminosité\n",
    "    plt.imshow(image, origin='lower', cmap='gray')\n",
    "    plt.title(f\"Empreinte digitale de la particule, lum={luminosity} et taille={size}\")\n",
    "    plt.legend()\n",
    "    plt.colorbar()  \n",
    "    plt.show()\n",
    "\n",
    "    return size, luminosity, seuil"
   ]
  },
  {
   "cell_type": "code",
   "execution_count": 240,
   "id": "f690236d",
   "metadata": {},
   "outputs": [],
   "source": [
    "def detect_nbre_particles(image, threshold, eps=3, min_samples=1):\n",
    "    # 1. Appliquer un filtre de voisinage pour détecter les maxima locaux\n",
    "    neighborhood_size = 3  # Taille du voisinage pour détecter les maxima locaux\n",
    "    local_max = ndimage.maximum_filter(image, size=neighborhood_size)\n",
    "    # 2. Comparer l'image originale et les maxima locaux pour identifier les vrais maxima\n",
    "    maxima = (image == local_max) & (image > threshold)\n",
    "\n",
    "    # 3. Extraire les coordonnées des maxima (particules)\n",
    "    coordinates = np.column_stack(np.where(maxima))  # Extraire les indices des pixels maximaux\n",
    "    if coordinates.shape[0] == 0:\n",
    "        print(\"Aucune particule détectée.\")\n",
    "        visionneur(image, f'détection du nombre de particules')\n",
    "\n",
    "        return [], image\n",
    "\n",
    "    # 4. Appliquer DBSCAN pour regrouper les particules proches (cluster les maxima détectés)\n",
    "    dbscan = DBSCAN(eps=eps, min_samples=min_samples)\n",
    "    labels = dbscan.fit_predict(coordinates)\n",
    "\n",
    "    #5. Déterminer le nombre de particules\n",
    "    unique_labels = np.unique(labels)\n",
    "    nb_particules = len(unique_labels)\n",
    "        \n",
    "    # 6. Afficher les résultats et filtrer les particules selon leur taille et luminosité\n",
    "    plt.imshow(image, origin='lower', cmap='gray')\n",
    "    plt.title(\"Détection des particules\")\n",
    "    \n",
    "    positions=[]\n",
    "    for label in unique_labels:\n",
    "        if label != -1:  # -1 correspond au bruit dans DBSCAN\n",
    "            cluster_points = coordinates[labels == label]\n",
    "            plt.scatter(cluster_points[:, 1], cluster_points[:, 0], label=f'Particule {label}')\n",
    "#        if nb_particules > 1:\n",
    "        positions.append((np.mean(cluster_points[:, 1]), np.mean(cluster_points[:, 0])))\n",
    "        \n",
    "\n",
    "    plt.colorbar()  \n",
    "    plt.legend()\n",
    "    plt.show()\n",
    "\n",
    "    # Retourner les coordonnées des particules filtrées\n",
    "    return nb_particules, positions"
   ]
  },
  {
   "cell_type": "code",
   "execution_count": 241,
   "id": "ddfe6898",
   "metadata": {},
   "outputs": [],
   "source": [
    "def identificateur_particles(image, ref_size, ref_luminosity, threshold=25, eps=3, min_samples=1):\n",
    "    # 1. Obtenir le plus d'info sur la particule\n",
    "    maxima = (image > threshold)\n",
    "    \n",
    "    coordinates = np.column_stack(np.where(maxima))  \n",
    "    if coordinates.shape[0] == 0:\n",
    "        print(\"Mauvais re-crop empêche identification de la particule.\")\n",
    "        return [], image\n",
    "\n",
    "    dbscan = DBSCAN(eps=eps, min_samples=min_samples)\n",
    "    labels = dbscan.fit_predict(coordinates)\n",
    "    unique_labels = np.unique(labels)\n",
    "\n",
    "    # 2. Parcourir chaque particule et identifier laquelle est celle qu'on suit\n",
    "    distances = []\n",
    "    position_particules = []\n",
    "\n",
    "    for label in unique_labels:\n",
    "        if label != -1:  # -1 correspond au bruit dans DBSCAN\n",
    "            cluster_points = coordinates[labels == label]\n",
    "            \n",
    "            size = cluster_points.shape[0]\n",
    "            luminosity = np.mean(image[cluster_points[:, 0], cluster_points[:, 1]])\n",
    "            size_distance = abs(size - ref_size)  \n",
    "            luminosity_distance = abs(luminosity - ref_luminosity)  \n",
    "            combined_distance = size_distance + luminosity_distance\n",
    "            distances.append(combined_distance)\n",
    "            position_particules.append((np.mean(cluster_points[:, 1]), np.mean(cluster_points[:, 0])))\n",
    "\n",
    "    ecart = np.min(distances)\n",
    "    position_best_particle = position_particules[np.argmin(distances)]  \n",
    "    print(f'ecrat: {ecart}')\n",
    "    # 3. Afficher les résultats et filtrer les particules selon leur taille et luminosité\n",
    "    plt.imshow(image, origin='lower', cmap='gray')\n",
    "    plt.title(\"Détection des particules\")\n",
    "    plt.scatter(position_best_particle[0], position_best_particle[1], color='r', label=f'Particule sélectionnée')\n",
    "    plt.legend()\n",
    "    plt.colorbar()  \n",
    "    plt.show()\n",
    "\n",
    "    return position_best_particle, ecart"
   ]
  },
  {
   "cell_type": "markdown",
   "id": "61f2661b-5185-493a-bd25-97d1c42d712c",
   "metadata": {},
   "source": [
    "# Faire le crop et fit"
   ]
  },
  {
   "cell_type": "code",
   "execution_count": 242,
   "id": "b695a082-5a85-499e-9183-cfd354b4dc5d",
   "metadata": {
    "execution": {
     "iopub.execute_input": "2024-11-27T00:34:16.297421Z",
     "iopub.status.busy": "2024-11-27T00:34:16.297176Z",
     "iopub.status.idle": "2024-11-27T00:34:16.301468Z",
     "shell.execute_reply": "2024-11-27T00:34:16.300888Z",
     "shell.execute_reply.started": "2024-11-27T00:34:16.297403Z"
    }
   },
   "outputs": [],
   "source": [
    "def particle_tracker_simple(image, x, y):\n",
    "    image = denoise(image)\n",
    "\n",
    "    cropped_img = crop(image, x, y, crop_sze_x, crop_sze_y)\n",
    "    \n",
    "    #Gérer plus qu'une particule\n",
    "    cropped_img = np.array(cropped_img)\n",
    "    max_index = np.argmax(cropped_img)\n",
    "    max_coords = np.unravel_index(max_index, cropped_img.shape)\n",
    "\n",
    "    nouveau_x = x - crop_sze_x // 2 + max_coords[1]\n",
    "    nouveau_y = y - crop_sze_y // 2 + max_coords[0]\n",
    "    \n",
    "    second_crop = crop(image, nouveau_x, nouveau_y, crop_sze_x, crop_sze_y)    # Re-crop autour d'une seule particule\n",
    "\n",
    "    result_fit = localisateur_gaussien(second_crop, [nouveau_x, nouveau_y])\n",
    "\n",
    "    x_new, y_new = result_fit[0][0], result_fit[0][1]\n",
    "\n",
    "    return [result_fit, cropped_img, (x_new, y_new), (result_fit[1], result_fit[2])]"
   ]
  },
  {
   "cell_type": "code",
   "execution_count": 243,
   "id": "5625e5b2",
   "metadata": {},
   "outputs": [],
   "source": [
    "#Placés ici pour pouvoir y faire référence dans particule_tracker\n",
    "position_list=[]\n",
    "sigma_list = []\n",
    "crop_frames = []\n",
    "big_frames = []\n",
    "position_list.append([x,y])"
   ]
  },
  {
   "cell_type": "code",
   "execution_count": 244,
   "id": "0d8ff164",
   "metadata": {},
   "outputs": [],
   "source": [
    "def particle_tracker(image, x, y, taille_initiale, luminosité_initiale, seuil):\n",
    "    # 1. Ce qu'on voit près de l'ancienne position\n",
    "    image = denoise(image)\n",
    "\n",
    "    cropped_img = crop(image, x, y, crop_sze_x, crop_sze_y)\n",
    "    \n",
    "    # 2. Déterminer combien il y a de particules et laquelle est la notre\n",
    "    # Utiliser une reconnaissance de particules et si plus qu'une, alors clic pour choisir\n",
    "    nb_part, coordonnées = detect_nbre_particles(cropped_img, seuil)\n",
    "    print(f'coordonnées des {nb_part} particules:{coordonnées}')\n",
    "\n",
    "    if nb_part == 1:\n",
    "        cropped_img = np.array(cropped_img)\n",
    "        max_index = np.argmax(cropped_img)\n",
    "        max_coords = np.unravel_index(max_index, cropped_img.shape)\n",
    "    #print(F'coordonnées du max dans le premier crop: ({max_coords[1]},{max_coords[0]})')\n",
    "\n",
    "        nouveau_x = x - crop_sze_x // 2 + max_coords[1] #Oui c'est inversé à cause du unravel juste avant\n",
    "        nouveau_y = y - crop_sze_y // 2 + max_coords[0]\n",
    "    else:\n",
    "        # Display the image and let the user select a point interactively\n",
    "        fig, ax = plt.subplots()\n",
    "        ax.imshow(denoise(img), origin='lower', cmap='gray') \n",
    "        plt.title(f\"Frame {len(position_list)-1}: Select a point\")\n",
    "\n",
    "        print(len(position_list)-1)\n",
    "        # Ajouter une croix rouge à la position donnée\n",
    "        cx, cy = position_list[len(position_list)-1]\n",
    "        ax.plot(cx, cy, 'rx', markersize=10) \n",
    "        \n",
    "        # Afficher l'image et demander à l'utilisateur de cliquer\n",
    "        print(\"Please click on the point you want to select.\")\n",
    "        nouveau_x, nouveau_y = plt.ginput(1)[0]  # Attente du clic de l'utilisateur (1 point)\n",
    "        print(f\"Selected point: ({nouveau_x}, {nouveau_y})\")\n",
    "        \n",
    "        # Fermer l'affichage après sélection\n",
    "        plt.close()\n",
    "    \n",
    "\n",
    "    #print(f'(x,y) central du second crop: {nouveau_x, nouveau_y}')\n",
    "    \n",
    "    # 3. Crop atour de notre particule et fit dessus\n",
    "    second_crop = crop(image, nouveau_x, nouveau_y, crop_sze_x//2, crop_sze_y//2)    # Re-crop autour d'une seule particule\n",
    "\n",
    "\n",
    "    result_fit = localisateur_gaussien(second_crop, [nouveau_x, nouveau_y])\n",
    "    #print(f'écart-type: ({result_fit[1]}, {result_fit[2]})')\n",
    "\n",
    "    x_new, y_new = result_fit[0][0], result_fit[0][1]\n",
    "    print(x_new, y_new)\n",
    "    #Affiche l'accord entre le fit gaussien et le blob (pour comparer)\n",
    "    x_range = np.arange(crop_sze_x) - crop_sze_x//2 \n",
    "    y_range = np.arange(crop_sze_y) - crop_sze_y//2\n",
    "    x_position = x_range + x_new  \n",
    "    y_position = y_range + y_new \n",
    "    plt.imshow(second_crop, origin='lower', cmap='gray', extent=[x_position.min(), x_position.max(), y_position.min(), y_position.max()])\n",
    "    plt.title(\"positionnement de la particule\")\n",
    "    plt.scatter(x_new, y_new, color='r', label=f'Position estimée par fit gaussien')\n",
    "    plt.scatter(nouveau_x - crop_sze_x//4, nouveau_y - crop_sze_y//4, color='r', marker='+', label=f'Position meilleure particule')\n",
    "    plt.legend()\n",
    "    plt.colorbar()  \n",
    "    plt.show()\n",
    "\n",
    "    return [result_fit, second_crop, (x_new, y_new), (result_fit[1], result_fit[2])]"
   ]
  },
  {
   "cell_type": "markdown",
   "id": "8002acc8-bac7-4c69-846a-381ee31f08ff",
   "metadata": {},
   "source": [
    "# Main loop"
   ]
  },
  {
   "cell_type": "code",
   "execution_count": 245,
   "id": "e7a5dba4-849a-4171-8fbb-6d05453ed795",
   "metadata": {
    "execution": {
     "iopub.execute_input": "2024-11-27T00:34:16.302483Z",
     "iopub.status.busy": "2024-11-27T00:34:16.302259Z",
     "iopub.status.idle": "2024-11-27T00:35:56.804477Z",
     "shell.execute_reply": "2024-11-27T00:35:56.803536Z",
     "shell.execute_reply.started": "2024-11-27T00:34:16.302464Z"
    }
   },
   "outputs": [
    {
     "name": "stdout",
     "output_type": "stream",
     "text": [
      "108.75\n",
      "coordonnées des 2 particules:[(122.85185185185185, 202.5185185185185), (114.0, 399.0)]\n",
      "0\n",
      "Please click on the point you want to select.\n",
      "Selected point: (342.5519480519481, 327.3571428571429)\n",
      "266.8305655625892 188.16507688452884\n",
      "[[351.31818181818187, 321.51298701298697], (266.8305655625892, 188.16507688452884)]\n",
      "coordonnées des 2 particules:[(121.84210526315789, 201.8736842105263), (113.2, 399.0)]\n",
      "1\n",
      "Please click on the point you want to select.\n",
      "Selected point: (342.5519480519481, 324.43506493506493)\n",
      "-128.88045758397652 185.82751713227447\n",
      "[[351.31818181818187, 321.51298701298697], (266.8305655625892, 188.16507688452884), (-128.88045758397652, 185.82751713227447)]\n",
      "Aucune particule détectée.\n"
     ]
    },
    {
     "name": "stderr",
     "output_type": "stream",
     "text": [
      "C:\\Users\\maxim\\AppData\\Local\\Temp\\ipykernel_24592\\629413214.py:4: UserWarning: Attempting to set identical low and high ylims makes transformation singular; automatically expanding.\n",
      "  plt.imshow(frame, origin='lower', cmap='gray')\n"
     ]
    },
    {
     "name": "stdout",
     "output_type": "stream",
     "text": [
      "coordonnées des [] particules:[]\n",
      "2\n",
      "Please click on the point you want to select.\n",
      "Selected point: (350.48744033886794, 278.5354049104726)\n",
      "346.3699421411432 149.64761321752707\n",
      "[[351.31818181818187, 321.51298701298697], (266.8305655625892, 188.16507688452884), (-128.88045758397652, 185.82751713227447), (346.3699421411432, 149.64761321752707)]\n",
      "Aucune particule détectée.\n",
      "coordonnées des [] particules:[]\n",
      "3\n",
      "Please click on the point you want to select.\n",
      "Selected point: (348.3961038961039, 280.6038961038961)\n",
      "307.99835676728276 145.60313050162193\n",
      "[[351.31818181818187, 321.51298701298697], (266.8305655625892, 188.16507688452884), (-128.88045758397652, 185.82751713227447), (346.3699421411432, 149.64761321752707), (307.99835676728276, 145.60313050162193)]\n",
      "Aucune particule détectée.\n",
      "coordonnées des [] particules:[]\n",
      "4\n",
      "Please click on the point you want to select.\n",
      "Selected point: (357.1623376623377, 251.3831168831169)\n",
      "345.7278868082574 109.38335987670769\n",
      "[[351.31818181818187, 321.51298701298697], (266.8305655625892, 188.16507688452884), (-128.88045758397652, 185.82751713227447), (346.3699421411432, 149.64761321752707), (307.99835676728276, 145.60313050162193), (345.7278868082574, 109.38335987670769)]\n",
      "Aucune particule détectée.\n",
      "coordonnées des [] particules:[]\n",
      "5\n",
      "Please click on the point you want to select.\n",
      "Selected point: (357.1623376623377, 233.85064935064938)\n",
      "779.5462646923512 94.95049077427046\n",
      "[[351.31818181818187, 321.51298701298697], (266.8305655625892, 188.16507688452884), (-128.88045758397652, 185.82751713227447), (346.3699421411432, 149.64761321752707), (307.99835676728276, 145.60313050162193), (345.7278868082574, 109.38335987670769), (779.5462646923512, 94.95049077427046)]\n",
      "Aucune particule détectée.\n",
      "coordonnées des [] particules:[]\n",
      "6\n",
      "Please click on the point you want to select.\n",
      "Selected point: (357.1623376623377, 216.31818181818184)\n",
      "307.53013021744414 76.70948126879972\n",
      "[[351.31818181818187, 321.51298701298697], (266.8305655625892, 188.16507688452884), (-128.88045758397652, 185.82751713227447), (346.3699421411432, 149.64761321752707), (307.99835676728276, 145.60313050162193), (345.7278868082574, 109.38335987670769), (779.5462646923512, 94.95049077427046), (307.53013021744414, 76.70948126879972)]\n",
      "Aucune particule détectée.\n",
      "coordonnées des [] particules:[]\n",
      "7\n",
      "Please click on the point you want to select.\n",
      "Selected point: (357.1623376623377, 190.01948051948054)\n",
      "-936.768341633812 47.90870384672829\n",
      "[[351.31818181818187, 321.51298701298697], (266.8305655625892, 188.16507688452884), (-128.88045758397652, 185.82751713227447), (346.3699421411432, 149.64761321752707), (307.99835676728276, 145.60313050162193), (345.7278868082574, 109.38335987670769), (779.5462646923512, 94.95049077427046), (307.53013021744414, 76.70948126879972), (-936.768341633812, 47.90870384672829)]\n",
      "Aucune particule détectée.\n",
      "coordonnées des [] particules:[]\n",
      "8\n",
      "Please click on the point you want to select.\n",
      "Selected point: (352.93213733357106, 159.20124806674994)\n",
      "-142.35656247139138 26.017399421594007\n",
      "[[351.31818181818187, 321.51298701298697], (266.8305655625892, 188.16507688452884), (-128.88045758397652, 185.82751713227447), (346.3699421411432, 149.64761321752707), (307.99835676728276, 145.60313050162193), (345.7278868082574, 109.38335987670769), (779.5462646923512, 94.95049077427046), (307.53013021744414, 76.70948126879972), (-936.768341633812, 47.90870384672829), (-142.35656247139138, 26.017399421594007)]\n",
      "Aucune particule détectée.\n",
      "coordonnées des [] particules:[]\n",
      "9\n",
      "Please click on the point you want to select.\n",
      "Selected point: (371.26843629074085, 142.34556910370492)\n",
      "346.54954309940183 -7.6145006933143975\n",
      "[[351.31818181818187, 321.51298701298697], (266.8305655625892, 188.16507688452884), (-128.88045758397652, 185.82751713227447), (346.3699421411432, 149.64761321752707), (307.99835676728276, 145.60313050162193), (345.7278868082574, 109.38335987670769), (779.5462646923512, 94.95049077427046), (307.53013021744414, 76.70948126879972), (-936.768341633812, 47.90870384672829), (-142.35656247139138, 26.017399421594007), (346.54954309940183, -7.6145006933143975)]\n",
      "Aucune particule détectée.\n",
      "coordonnées des [] particules:[]\n",
      "10\n",
      "Please click on the point you want to select.\n",
      "Selected point: (358.1579642581882, 114.68588063468351)\n",
      "348.8603988242985 -22.348346071692163\n",
      "[[351.31818181818187, 321.51298701298697], (266.8305655625892, 188.16507688452884), (-128.88045758397652, 185.82751713227447), (346.3699421411432, 149.64761321752707), (307.99835676728276, 145.60313050162193), (345.7278868082574, 109.38335987670769), (779.5462646923512, 94.95049077427046), (307.53013021744414, 76.70948126879972), (-936.768341633812, 47.90870384672829), (-142.35656247139138, 26.017399421594007), (346.54954309940183, -7.6145006933143975), (348.8603988242985, -22.348346071692163)]\n",
      "Aucune particule détectée.\n",
      "coordonnées des [] particules:[]\n",
      "11\n",
      "Please click on the point you want to select.\n",
      "Selected point: (368.91188988627977, 101.60959286137319)\n",
      "242.74852706655827 -35.828753856950755\n",
      "[[351.31818181818187, 321.51298701298697], (266.8305655625892, 188.16507688452884), (-128.88045758397652, 185.82751713227447), (346.3699421411432, 149.64761321752707), (307.99835676728276, 145.60313050162193), (345.7278868082574, 109.38335987670769), (779.5462646923512, 94.95049077427046), (307.53013021744414, 76.70948126879972), (-936.768341633812, 47.90870384672829), (-142.35656247139138, 26.017399421594007), (346.54954309940183, -7.6145006933143975), (348.8603988242985, -22.348346071692163), (242.74852706655827, -35.828753856950755)]\n",
      "Aucune particule détectée.\n",
      "coordonnées des [] particules:[]\n",
      "12\n",
      "Please click on the point you want to select.\n",
      "Selected point: (370.959764419703, 73.80299297103363)\n"
     ]
    },
    {
     "ename": "ValueError",
     "evalue": "attempt to get argmax of an empty sequence",
     "output_type": "error",
     "traceback": [
      "\u001b[1;31m---------------------------------------------------------------------------\u001b[0m",
      "\u001b[1;31mValueError\u001b[0m                                Traceback (most recent call last)",
      "Cell \u001b[1;32mIn[245], line 11\u001b[0m\n\u001b[0;32m      9\u001b[0m     \u001b[38;5;28mprint\u001b[39m(\u001b[38;5;124m\"\u001b[39m\u001b[38;5;124mhello\u001b[39m\u001b[38;5;124m\"\u001b[39m)\n\u001b[0;32m     10\u001b[0m \u001b[38;5;28;01melse\u001b[39;00m:\n\u001b[1;32m---> 11\u001b[0m     data \u001b[38;5;241m=\u001b[39m \u001b[43mparticle_tracker\u001b[49m\u001b[43m(\u001b[49m\u001b[43mimg\u001b[49m\u001b[43m,\u001b[49m\u001b[43m \u001b[49m\u001b[43mx\u001b[49m\u001b[43m,\u001b[49m\u001b[43m \u001b[49m\u001b[43my\u001b[49m\u001b[43m,\u001b[49m\u001b[43m \u001b[49m\u001b[43mtaille_initiale\u001b[49m\u001b[43m,\u001b[49m\u001b[43m \u001b[49m\u001b[43mluminosité_initiale\u001b[49m\u001b[43m,\u001b[49m\u001b[43m \u001b[49m\u001b[43mseuil\u001b[49m\u001b[43m)\u001b[49m\n\u001b[0;32m     12\u001b[0m     position_list\u001b[38;5;241m.\u001b[39mappend(data[\u001b[38;5;241m2\u001b[39m])\n\u001b[0;32m     13\u001b[0m     x,y \u001b[38;5;241m=\u001b[39m position_list[i\u001b[38;5;241m-\u001b[39mfirst_frame]\n",
      "Cell \u001b[1;32mIn[244], line 46\u001b[0m, in \u001b[0;36mparticle_tracker\u001b[1;34m(image, x, y, taille_initiale, luminosité_initiale, seuil)\u001b[0m\n\u001b[0;32m     40\u001b[0m \u001b[38;5;66;03m#print(f'(x,y) central du second crop: {nouveau_x, nouveau_y}')\u001b[39;00m\n\u001b[0;32m     41\u001b[0m \n\u001b[0;32m     42\u001b[0m \u001b[38;5;66;03m# 3. Crop atour de notre particule et fit dessus\u001b[39;00m\n\u001b[0;32m     43\u001b[0m second_crop \u001b[38;5;241m=\u001b[39m crop(image, nouveau_x, nouveau_y, crop_sze_x\u001b[38;5;241m/\u001b[39m\u001b[38;5;241m/\u001b[39m\u001b[38;5;241m2\u001b[39m, crop_sze_y\u001b[38;5;241m/\u001b[39m\u001b[38;5;241m/\u001b[39m\u001b[38;5;241m2\u001b[39m)    \u001b[38;5;66;03m# Re-crop autour d'une seule particule\u001b[39;00m\n\u001b[1;32m---> 46\u001b[0m result_fit \u001b[38;5;241m=\u001b[39m \u001b[43mlocalisateur_gaussien\u001b[49m\u001b[43m(\u001b[49m\u001b[43msecond_crop\u001b[49m\u001b[43m,\u001b[49m\u001b[43m \u001b[49m\u001b[43m[\u001b[49m\u001b[43mnouveau_x\u001b[49m\u001b[43m,\u001b[49m\u001b[43m \u001b[49m\u001b[43mnouveau_y\u001b[49m\u001b[43m]\u001b[49m\u001b[43m)\u001b[49m\n\u001b[0;32m     47\u001b[0m \u001b[38;5;66;03m#print(f'écart-type: ({result_fit[1]}, {result_fit[2]})')\u001b[39;00m\n\u001b[0;32m     49\u001b[0m x_new, y_new \u001b[38;5;241m=\u001b[39m result_fit[\u001b[38;5;241m0\u001b[39m][\u001b[38;5;241m0\u001b[39m], result_fit[\u001b[38;5;241m0\u001b[39m][\u001b[38;5;241m1\u001b[39m]\n",
      "Cell \u001b[1;32mIn[237], line 9\u001b[0m, in \u001b[0;36mlocalisateur_gaussien\u001b[1;34m(intensity_grid, centre)\u001b[0m\n\u001b[0;32m      7\u001b[0m (xdata, ydata), zdata \u001b[38;5;241m=\u001b[39m prepare_data(X, Y, intensity_grid)\n\u001b[0;32m      8\u001b[0m model \u001b[38;5;241m=\u001b[39m lmfit\u001b[38;5;241m.\u001b[39mModel(gaussian_2d)\n\u001b[1;32m----> 9\u001b[0m max_idx \u001b[38;5;241m=\u001b[39m np\u001b[38;5;241m.\u001b[39munravel_index(\u001b[43mnp\u001b[49m\u001b[38;5;241;43m.\u001b[39;49m\u001b[43margmax\u001b[49m\u001b[43m(\u001b[49m\u001b[43mintensity_grid\u001b[49m\u001b[43m)\u001b[49m, intensity_grid\u001b[38;5;241m.\u001b[39mshape)\n\u001b[0;32m     10\u001b[0m initial_x0 \u001b[38;5;241m=\u001b[39m x[max_idx[\u001b[38;5;241m0\u001b[39m]]\n\u001b[0;32m     11\u001b[0m initial_y0 \u001b[38;5;241m=\u001b[39m y[max_idx[\u001b[38;5;241m1\u001b[39m]]\n",
      "File \u001b[1;32m~\\AppData\\Local\\Packages\\PythonSoftwareFoundation.Python.3.12_qbz5n2kfra8p0\\LocalCache\\local-packages\\Python312\\site-packages\\numpy\\core\\fromnumeric.py:1229\u001b[0m, in \u001b[0;36margmax\u001b[1;34m(a, axis, out, keepdims)\u001b[0m\n\u001b[0;32m   1142\u001b[0m \u001b[38;5;250m\u001b[39m\u001b[38;5;124;03m\"\"\"\u001b[39;00m\n\u001b[0;32m   1143\u001b[0m \u001b[38;5;124;03mReturns the indices of the maximum values along an axis.\u001b[39;00m\n\u001b[0;32m   1144\u001b[0m \n\u001b[1;32m   (...)\u001b[0m\n\u001b[0;32m   1226\u001b[0m \u001b[38;5;124;03m(2, 1, 4)\u001b[39;00m\n\u001b[0;32m   1227\u001b[0m \u001b[38;5;124;03m\"\"\"\u001b[39;00m\n\u001b[0;32m   1228\u001b[0m kwds \u001b[38;5;241m=\u001b[39m {\u001b[38;5;124m'\u001b[39m\u001b[38;5;124mkeepdims\u001b[39m\u001b[38;5;124m'\u001b[39m: keepdims} \u001b[38;5;28;01mif\u001b[39;00m keepdims \u001b[38;5;129;01mis\u001b[39;00m \u001b[38;5;129;01mnot\u001b[39;00m np\u001b[38;5;241m.\u001b[39m_NoValue \u001b[38;5;28;01melse\u001b[39;00m {}\n\u001b[1;32m-> 1229\u001b[0m \u001b[38;5;28;01mreturn\u001b[39;00m \u001b[43m_wrapfunc\u001b[49m\u001b[43m(\u001b[49m\u001b[43ma\u001b[49m\u001b[43m,\u001b[49m\u001b[43m \u001b[49m\u001b[38;5;124;43m'\u001b[39;49m\u001b[38;5;124;43margmax\u001b[39;49m\u001b[38;5;124;43m'\u001b[39;49m\u001b[43m,\u001b[49m\u001b[43m \u001b[49m\u001b[43maxis\u001b[49m\u001b[38;5;241;43m=\u001b[39;49m\u001b[43maxis\u001b[49m\u001b[43m,\u001b[49m\u001b[43m \u001b[49m\u001b[43mout\u001b[49m\u001b[38;5;241;43m=\u001b[39;49m\u001b[43mout\u001b[49m\u001b[43m,\u001b[49m\u001b[43m \u001b[49m\u001b[38;5;241;43m*\u001b[39;49m\u001b[38;5;241;43m*\u001b[39;49m\u001b[43mkwds\u001b[49m\u001b[43m)\u001b[49m\n",
      "File \u001b[1;32m~\\AppData\\Local\\Packages\\PythonSoftwareFoundation.Python.3.12_qbz5n2kfra8p0\\LocalCache\\local-packages\\Python312\\site-packages\\numpy\\core\\fromnumeric.py:59\u001b[0m, in \u001b[0;36m_wrapfunc\u001b[1;34m(obj, method, *args, **kwds)\u001b[0m\n\u001b[0;32m     56\u001b[0m     \u001b[38;5;28;01mreturn\u001b[39;00m _wrapit(obj, method, \u001b[38;5;241m*\u001b[39margs, \u001b[38;5;241m*\u001b[39m\u001b[38;5;241m*\u001b[39mkwds)\n\u001b[0;32m     58\u001b[0m \u001b[38;5;28;01mtry\u001b[39;00m:\n\u001b[1;32m---> 59\u001b[0m     \u001b[38;5;28;01mreturn\u001b[39;00m \u001b[43mbound\u001b[49m\u001b[43m(\u001b[49m\u001b[38;5;241;43m*\u001b[39;49m\u001b[43margs\u001b[49m\u001b[43m,\u001b[49m\u001b[43m \u001b[49m\u001b[38;5;241;43m*\u001b[39;49m\u001b[38;5;241;43m*\u001b[39;49m\u001b[43mkwds\u001b[49m\u001b[43m)\u001b[49m\n\u001b[0;32m     60\u001b[0m \u001b[38;5;28;01mexcept\u001b[39;00m \u001b[38;5;167;01mTypeError\u001b[39;00m:\n\u001b[0;32m     61\u001b[0m     \u001b[38;5;66;03m# A TypeError occurs if the object does have such a method in its\u001b[39;00m\n\u001b[0;32m     62\u001b[0m     \u001b[38;5;66;03m# class, but its signature is not identical to that of NumPy's. This\u001b[39;00m\n\u001b[1;32m   (...)\u001b[0m\n\u001b[0;32m     66\u001b[0m     \u001b[38;5;66;03m# Call _wrapit from within the except clause to ensure a potential\u001b[39;00m\n\u001b[0;32m     67\u001b[0m     \u001b[38;5;66;03m# exception has a traceback chain.\u001b[39;00m\n\u001b[0;32m     68\u001b[0m     \u001b[38;5;28;01mreturn\u001b[39;00m _wrapit(obj, method, \u001b[38;5;241m*\u001b[39margs, \u001b[38;5;241m*\u001b[39m\u001b[38;5;241m*\u001b[39mkwds)\n",
      "\u001b[1;31mValueError\u001b[0m: attempt to get argmax of an empty sequence"
     ]
    }
   ],
   "source": [
    "taille_initiale, luminosité_initiale, seuil = empreinte_digitale(crop(img,x,y,crop_sze_x*0.8,crop_sze_y*0.8))\n",
    "\n",
    "\n",
    "for i in range(first_frame,17):\n",
    "    tiff.seek(i)\n",
    "    if np.sum(np.array(tiff))==0:\n",
    "        position_list.append(np.array([np.nan,np.nan]))\n",
    "        sigma_list.append(np.array([np.nan,np.nan]))\n",
    "        print(\"hello\")\n",
    "    else:\n",
    "        data = particle_tracker(img, x, y, taille_initiale, luminosité_initiale, seuil)\n",
    "        position_list.append(data[2])\n",
    "        x,y = position_list[i-first_frame]\n",
    "        sigma_list.append(data[3])\n",
    "        tiff.seek(i)\n",
    "        img = np.array(tiff)\n",
    "        big_frames.append(img)\n",
    "        crop_frames.append(data[1])\n",
    "    print(position_list)\n"
   ]
  },
  {
   "cell_type": "code",
   "execution_count": null,
   "id": "b7a84351",
   "metadata": {},
   "outputs": [
    {
     "name": "stdout",
     "output_type": "stream",
     "text": [
      "[[ 0.00110433  0.00323368]\n",
      " [ 0.00393632  0.00322736]\n",
      " [ 0.00448275  0.00151883]\n",
      " [ 0.00108805  0.00145414]\n",
      " [ 0.00179745  0.00133555]\n",
      " [ 0.00094635  0.00126199]\n",
      " [ 0.00113038  0.00118603]\n",
      " [ 0.00142269  0.0010817 ]\n",
      " [ 0.00507411  0.0009989 ]\n",
      " [-0.00035422  0.00090838]\n",
      " [-0.00052588  0.00103452]\n",
      " [-0.00082439  0.00124621]\n",
      " [-0.00077118  0.00132122]\n",
      " [-0.00073339  0.00120298]\n",
      " [-0.00079339  0.00140971]\n",
      " [-0.00094828  0.00137468]\n",
      " [-0.00077041  0.00151165]]\n"
     ]
    }
   ],
   "source": [
    "pixel_size = 3.45\n",
    "sigma_arr=np.array(sigma_list)* pixel_size * 10**(-6)\n",
    "position_arr=np.array(position_list)* pixel_size * 10**(-6)\n",
    "print(position_arr)"
   ]
  },
  {
   "cell_type": "code",
   "execution_count": null,
   "id": "3381e213",
   "metadata": {},
   "outputs": [
    {
     "data": {
      "text/plain": [
       "(array([4.20556332e-06, 5.62391805e-06, 5.91336351e-06, 6.44438671e-06,\n",
       "        7.65923834e-06, 6.40816749e-06, 9.28183237e-06, 1.40960187e-05,\n",
       "        1.03488529e-05, 1.13065824e-05, 1.24772945e-05, 1.43413633e-05,\n",
       "        1.65372579e-05, 2.06052367e-05, 1.63830358e-05, 6.48002145e-06]),\n",
       " array([2.97838603e-04, 5.94230233e-04, 4.75187082e-04, 7.46323655e-04,\n",
       "        5.49348910e-04, 5.81647922e-04, 6.63116923e-04, 6.87803443e-04,\n",
       "        7.14589857e-04, 7.62318206e-04, 8.73989202e-04, 8.94305420e-04,\n",
       "        1.37638305e-04, 1.50853104e-04, 5.04264129e-05, 1.39238644e-05]))"
      ]
     },
     "execution_count": 82,
     "metadata": {},
     "output_type": "execute_result"
    }
   ],
   "source": [
    "def calculate_msd_with_uncertainty(position_arr, delta_x, delta_y):\n",
    "    \"\"\"\n",
    "    Calcule les MSD avec propagation des incertitudes analytiques.\n",
    "    \"\"\"\n",
    "\n",
    "\n",
    "    msd = []\n",
    "    uncertainties = []\n",
    "    for d in range(1, len(position_arr)):\n",
    "        diff_pairs = np.zeros_like(position_arr[d:])\n",
    "        dx = np.zeros_like(delta_x[d:])\n",
    "        dy = np.zeros_like(delta_y[d:])\n",
    "\n",
    "        # Masque pour détecter les NaN\n",
    "        nan_mask_pos = np.isnan(position_arr[d:]) | np.isnan(position_arr[:-d])\n",
    "        nan_mask_delta = np.isnan(delta_x[d:]) | np.isnan(delta_x[:-d])\n",
    "        \n",
    "        # Calculer les différences uniquement où nan_mask est False\n",
    "        valid_mask_pos = ~nan_mask_pos.any(axis=1)  # Inverser le masque pour obtenir les position_arr valides\n",
    "        valid_mask_delta = ~nan_mask_delta\n",
    "        \n",
    "        diff_pairs[valid_mask_pos] = position_arr[d:][valid_mask_pos, :] - position_arr[:-d][valid_mask_pos, :]\n",
    "\n",
    "        distances_squared = np.sum(diff_pairs**2, axis=1)\n",
    "        msd.append(np.mean(distances_squared))  \n",
    "        \n",
    "        dx[valid_mask_delta] = delta_x[d:][valid_mask_delta] + delta_x[:-d][valid_mask_delta]\n",
    "        dy[valid_mask_delta] = delta_y[d:][valid_mask_delta] + delta_y[:-d][valid_mask_delta]\n",
    "        term_x = 2 * (diff_pairs[:, 0]**2) * (dx**2)\n",
    "        term_y = 2 * (diff_pairs[:, 1]**2) * (dy**2)\n",
    "        \n",
    "        # Propagation des incertitudes\n",
    "        total_uncertainty = np.mean(term_x + term_y)\n",
    "        uncertainties.append(np.sqrt(total_uncertainty))\n",
    "\n",
    "    return np.array(msd), np.array(uncertainties)\n",
    "\n",
    "calculate_msd_with_uncertainty(position_arr, sigma_arr[:, 0], sigma_arr[:, 1])"
   ]
  },
  {
   "cell_type": "markdown",
   "id": "c355c5f0-6c28-4f45-abbe-9d17f257161b",
   "metadata": {},
   "source": [
    "# Résultats"
   ]
  },
  {
   "cell_type": "code",
   "execution_count": null,
   "id": "4fb3cff6-dfd3-4c03-96fa-219eb0185e70",
   "metadata": {
    "execution": {
     "iopub.execute_input": "2024-11-27T00:35:56.812822Z",
     "iopub.status.busy": "2024-11-27T00:35:56.812598Z",
     "iopub.status.idle": "2024-11-27T00:35:56.821085Z",
     "shell.execute_reply": "2024-11-27T00:35:56.819985Z",
     "shell.execute_reply.started": "2024-11-27T00:35:56.812806Z"
    }
   },
   "outputs": [
    {
     "name": "stdout",
     "output_type": "stream",
     "text": [
      "coucou\n"
     ]
    }
   ],
   "source": [
    "# Assuming msd_values is the result of your MSD calculation\n",
    "msd_values, uncertainties = calculate_msd_with_uncertainty(position_arr, sigma_arr[:, 0], sigma_arr[:, 1])\n",
    "print('coucou')\n",
    "# Time intervals for the x-axis (assuming a uniform time step)\n",
    "time_intervals = np.arange(1, len(msd_values) + 1) * 0.5\n",
    "\n",
    "# Plotting the MSD\n",
    "plt.figure(figsize=(8, 6))\n",
    "plt.errorbar(time_intervals, msd_values, yerr=uncertainties, fmt='o', label='MSD', color='blue')\n",
    "\n",
    "# Customize the plot\n",
    "plt.title(\"MSD en fonction de l'intervalle de temps\")\n",
    "plt.xlabel(\"Intervalle de temps\")\n",
    "plt.ylabel(\"MSD\")\n",
    "plt.grid(True)\n",
    "plt.legend()\n",
    "\n",
    "# Show the plot\n",
    "plt.show()"
   ]
  },
  {
   "cell_type": "code",
   "execution_count": null,
   "id": "cf9032b2",
   "metadata": {},
   "outputs": [
    {
     "name": "stdout",
     "output_type": "stream",
     "text": [
      "Coefficients du polynôme ajusté :\n",
      "[-3.10938861e-08  1.00676039e-06  3.28000834e-06]\n",
      "Matrice de covariance des coefficients :\n",
      "[[ 7.60173226e-15 -4.26857938e-14  4.14914025e-14]\n",
      " [-4.26857938e-14  2.49080641e-13 -2.54417564e-13]\n",
      " [ 4.14914025e-14 -2.54417564e-13  2.95570401e-13]]\n",
      "Incertitudes sur les coefficients : [8.71879135e-08 4.99079794e-07 5.43663868e-07]\n",
      "Taille de la particule (m): 8.73e-13 m, avec une incertitude : 4.99e-07\n"
     ]
    }
   ],
   "source": [
    "from scipy.optimize import curve_fit\n",
    "\n",
    "# Fonction quadratique pour l'ajustement\n",
    "def quadratic(x, a, b, c):\n",
    "    return a * x**2 + b * x + c\n",
    "\n",
    "# Assuming msd_values is the result of your MSD calculation\n",
    "msd_values, uncertainties = calculate_msd_with_uncertainty(position_arr, sigma_arr[:, 0], sigma_arr[:, 1])\n",
    "\n",
    "cropped_msd = msd_values[:5]\n",
    "cropped_inc = uncertainties[:5]\n",
    "\n",
    "# Time intervals for the x-axis (assuming a uniform time step)\n",
    "time_intervals = np.arange(1, len(cropped_msd) + 1)\n",
    "\n",
    "# Perform a quadratic fit using curve_fit, which gives both coefficients and covariance matrix\n",
    "popt, pcov = curve_fit(quadratic, time_intervals, cropped_msd, sigma=cropped_inc)\n",
    "\n",
    "# popt contains the optimal coefficients\n",
    "coeffs = popt\n",
    "\n",
    "# pcov is the covariance matrix, which we can use to compute uncertainties\n",
    "coeff_uncertainties = np.sqrt(np.diag(pcov))  # Incertitudes sur les coefficients sont les éléments diagonaux\n",
    "\n",
    "# Affichage des coefficients séparément\n",
    "print(\"Coefficients du polynôme ajusté :\")\n",
    "print(coeffs)\n",
    "\n",
    "# Affichage de la matrice de covariance séparément\n",
    "print(\"Matrice de covariance des coefficients :\")\n",
    "print(pcov)\n",
    "\n",
    "# Création de la fonction quadratique de l'ajustement\n",
    "quadratic_fit = np.poly1d(coeffs)\n",
    "\n",
    "# Génération des valeurs ajustées pour afficher la courbe\n",
    "fitted_msd = quadratic_fit(time_intervals)\n",
    "\n",
    "# Affichage du MSD avec les barres d'erreur\n",
    "plt.figure(figsize=(8, 6))\n",
    "plt.errorbar(time_intervals, cropped_msd, yerr=cropped_inc, fmt='o', label='MSD', color='blue')\n",
    "plt.plot(time_intervals, fitted_msd, label='Quadratic Fit', color='red', linestyle='--')\n",
    "\n",
    "# Personnalisation du graphique\n",
    "plt.title(\"MSD en fonction de l'intervalle de temps\")\n",
    "plt.xlabel(\"Intervalle de temps\")\n",
    "plt.ylabel(\"MSD\")\n",
    "plt.grid(True)\n",
    "plt.legend()\n",
    "\n",
    "# Afficher le graphique\n",
    "plt.show()\n",
    "\n",
    "# Affichage des incertitudes sur les coefficients\n",
    "print(f\"Incertitudes sur les coefficients : {coeff_uncertainties}\")\n",
    "\n",
    "# Calcul du coefficient de diffusion et de la taille de la particule\n",
    "r = (4 * 1.38 * 10**-23 * 300 / (6 * np.pi * 10**(-3) * coeffs[1]))  # Coefficient de diffusion\n",
    "\n",
    "# Affichage de la taille de la particule avec incertitude\n",
    "print(f\"Taille de la particule (m): {r:.2e} m, avec une incertitude : {coeff_uncertainties[1]:.2e}\")\n"
   ]
  },
  {
   "cell_type": "code",
   "execution_count": null,
   "id": "625b1770-9368-4a91-baa2-a62960106b77",
   "metadata": {
    "execution": {
     "iopub.execute_input": "2024-11-27T00:35:56.821952Z",
     "iopub.status.busy": "2024-11-27T00:35:56.821739Z",
     "iopub.status.idle": "2024-11-27T00:35:56.893091Z",
     "shell.execute_reply": "2024-11-27T00:35:56.891915Z",
     "shell.execute_reply.started": "2024-11-27T00:35:56.821935Z"
    }
   },
   "outputs": [],
   "source": [
    "x_plt, y_plt = zip(*position_list)\n",
    "# Create the plot\n",
    "plt.figure(figsize=(10, 8))  # Optional: Adjust the figure size\n",
    "plt.plot(x_plt, y_plt, marker='o', linestyle='-', color='b', label='Connected Points')\n",
    "\n",
    "# Inverser l'axe Y\n",
    "plt.gca().invert_yaxis()\n",
    "\n",
    "# Set grid limits to match the 1440x1080 grid\n",
    "plt.xlim(0, 1440)\n",
    "plt.ylim(0, 1080)\n",
    "\n",
    "# Add labels and title\n",
    "plt.xlabel('X-axis')\n",
    "plt.ylabel('Y-axis')\n",
    "plt.title('2D Connected Points Plot')\n",
    "plt.legend()\n",
    "\n",
    "# Optional: Add grid lines\n",
    "plt.grid(True)\n",
    "\n",
    "# Afficher le graphique\n",
    "plt.show()"
   ]
  },
  {
   "cell_type": "markdown",
   "id": "5fae7658-ee40-44d3-ace6-763079316aca",
   "metadata": {},
   "source": [
    "## anim toutes les particules"
   ]
  },
  {
   "cell_type": "code",
   "execution_count": null,
   "id": "3f852688-0624-4f98-bc43-437e31b430a4",
   "metadata": {
    "execution": {
     "iopub.execute_input": "2024-11-27T00:35:56.894366Z",
     "iopub.status.busy": "2024-11-27T00:35:56.894056Z",
     "iopub.status.idle": "2024-11-27T00:35:56.898702Z",
     "shell.execute_reply": "2024-11-27T00:35:56.897463Z",
     "shell.execute_reply.started": "2024-11-27T00:35:56.894346Z"
    }
   },
   "outputs": [],
   "source": [
    "fig, ax = plt.subplots()\n",
    "img = ax.imshow(big_frames[0], origin='lower', cmap='gray', animated=True)\n",
    "\n",
    "\n",
    "# Update function\n",
    "def update(frame):\n",
    "    img.set_array(frame)\n",
    "    return img,\n",
    "    \n",
    "ani = animation.FuncAnimation(fig, update, frames=big_frames, interval=50, blit=True)\n",
    "plt.show()"
   ]
  },
  {
   "cell_type": "markdown",
   "id": "111a50d8-6fce-40cc-bf48-775bfd002c3d",
   "metadata": {},
   "source": [
    "## anim crop"
   ]
  },
  {
   "cell_type": "code",
   "execution_count": null,
   "id": "0d6554b7-0c86-4ee5-8a32-4bd994f881f4",
   "metadata": {
    "execution": {
     "iopub.execute_input": "2024-11-27T00:35:56.899778Z",
     "iopub.status.busy": "2024-11-27T00:35:56.899533Z",
     "iopub.status.idle": "2024-11-27T00:35:56.955616Z",
     "shell.execute_reply": "2024-11-27T00:35:56.954725Z",
     "shell.execute_reply.started": "2024-11-27T00:35:56.899759Z"
    }
   },
   "outputs": [],
   "source": [
    "fig, ax = plt.subplots()\n",
    "img = ax.imshow(crop_frames[0], origin='lower', cmap='gray', animated=True)\n",
    "\n",
    "\n",
    "def update(frame):\n",
    "    img.set_array(frame)\n",
    "    return img,\n",
    "    \n",
    "ani = animation.FuncAnimation(fig, update, frames=crop_frames, interval=50, blit=True)\n",
    "plt.show()"
   ]
  },
  {
   "cell_type": "code",
   "execution_count": null,
   "id": "a57b3c57-a5c5-4f11-b5ce-c32e975a7d83",
   "metadata": {},
   "outputs": [],
   "source": []
  }
 ],
 "metadata": {
  "kernelspec": {
   "display_name": "Python 3",
   "language": "python",
   "name": "python3"
  },
  "language_info": {
   "codemirror_mode": {
    "name": "ipython",
    "version": 3
   },
   "file_extension": ".py",
   "mimetype": "text/x-python",
   "name": "python",
   "nbconvert_exporter": "python",
   "pygments_lexer": "ipython3",
   "version": "3.12.7"
  }
 },
 "nbformat": 4,
 "nbformat_minor": 5
}
