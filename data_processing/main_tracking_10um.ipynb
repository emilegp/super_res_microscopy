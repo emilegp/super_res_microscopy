{
 "cells": [
  {
   "cell_type": "markdown",
   "id": "a1bbf155-d46a-4bbb-a7bc-6857ef1672de",
   "metadata": {},
   "source": [
    "# Initialisation"
   ]
  },
  {
   "cell_type": "code",
   "execution_count": 240,
   "id": "49fff9c0-1a10-465b-b5d6-cf2853a133db",
   "metadata": {
    "execution": {
     "iopub.execute_input": "2024-11-27T00:33:55.015775Z",
     "iopub.status.busy": "2024-11-27T00:33:55.015362Z",
     "iopub.status.idle": "2024-11-27T00:33:56.248500Z",
     "shell.execute_reply": "2024-11-27T00:33:56.247904Z",
     "shell.execute_reply.started": "2024-11-27T00:33:55.015736Z"
    }
   },
   "outputs": [],
   "source": [
    "import matplotlib\n",
    "matplotlib.use('Qt5Agg')  # Utiliser le backend Qt5Agg pour Windows\n",
    "import matplotlib.pyplot as plt\n",
    "import matplotlib.animation as animation\n",
    "from scipy.optimize import curve_fit\n",
    "import cv2\n",
    "import numpy as np\n",
    "import os\n",
    "from PIL import Image\n",
    "import lmfit\n",
    "#import tifffile\n",
    "#%matplotlib tk #pour Linux"
   ]
  },
  {
   "cell_type": "code",
   "execution_count": 241,
   "id": "5244023b",
   "metadata": {},
   "outputs": [],
   "source": [
    "import scipy.ndimage as ndimage\n",
    "from sklearn.cluster import DBSCAN"
   ]
  },
  {
   "cell_type": "markdown",
   "id": "3c857432-f4a0-4d37-b1c3-d5115974f0f5",
   "metadata": {},
   "source": [
    "# Importer fichier"
   ]
  },
  {
   "cell_type": "code",
   "execution_count": 242,
   "id": "72d00744-e863-4ed8-b83b-112156869997",
   "metadata": {
    "execution": {
     "iopub.execute_input": "2024-11-27T00:33:56.249387Z",
     "iopub.status.busy": "2024-11-27T00:33:56.249142Z",
     "iopub.status.idle": "2024-11-27T00:33:56.288891Z",
     "shell.execute_reply": "2024-11-27T00:33:56.287953Z",
     "shell.execute_reply.started": "2024-11-27T00:33:56.249368Z"
    }
   },
   "outputs": [],
   "source": [
    "path_to_tiff = os.path.join(\"..\", \"acquisition\", \"video_output_carac_150ms_1im_10um.tiff\")\n",
    "\n",
    "tiff = Image.open(path_to_tiff)"
   ]
  },
  {
   "cell_type": "markdown",
   "id": "a9542b9e-bfef-4abf-86f4-db78b05a8be8",
   "metadata": {},
   "source": [
    "# Nombre de frames pas vide"
   ]
  },
  {
   "cell_type": "code",
   "execution_count": 243,
   "id": "dcf8b520-316f-4ac0-b860-fd1d965ea732",
   "metadata": {
    "execution": {
     "iopub.execute_input": "2024-11-27T00:33:56.289986Z",
     "iopub.status.busy": "2024-11-27T00:33:56.289746Z",
     "iopub.status.idle": "2024-11-27T00:33:57.058878Z",
     "shell.execute_reply": "2024-11-27T00:33:57.057944Z",
     "shell.execute_reply.started": "2024-11-27T00:33:56.289967Z"
    }
   },
   "outputs": [
    {
     "name": "stdout",
     "output_type": "stream",
     "text": [
      "All frames processed.\n"
     ]
    },
    {
     "data": {
      "text/plain": [
       "62"
      ]
     },
     "execution_count": 243,
     "metadata": {},
     "output_type": "execute_result"
    }
   ],
   "source": [
    "with Image.open(path_to_tiff) as img:\n",
    "    frame_number = 0\n",
    "    actual_frames = 0\n",
    "    try:\n",
    "        while True:\n",
    "            frame_number += 1\n",
    "            if np.sum(np.array(img)) != 0:\n",
    "                actual_frames += 1\n",
    "                \n",
    "            img.seek(frame_number)\n",
    "    except EOFError:\n",
    "        print(\"All frames processed.\")\n",
    "\n",
    "actual_frames"
   ]
  },
  {
   "cell_type": "markdown",
   "id": "4ce4927e-f7ec-4e65-ad5d-cef9195b6cbc",
   "metadata": {},
   "source": [
    "# 1re frame\n",
    "\n",
    "**Le nombre de frames ignorés n'est pas pris en compte**"
   ]
  },
  {
   "cell_type": "code",
   "execution_count": 244,
   "id": "26577059-48c2-4f3a-8e52-a89c99dbccd3",
   "metadata": {
    "execution": {
     "iopub.execute_input": "2024-11-27T00:33:57.059925Z",
     "iopub.status.busy": "2024-11-27T00:33:57.059662Z",
     "iopub.status.idle": "2024-11-27T00:33:57.082939Z",
     "shell.execute_reply": "2024-11-27T00:33:57.082043Z",
     "shell.execute_reply.started": "2024-11-27T00:33:57.059898Z"
    }
   },
   "outputs": [],
   "source": [
    "frame_index = 0\n",
    "first_frame = 0\n",
    "tiff.seek(frame_index)\n",
    "original_image = np.array(tiff)\n",
    "\n",
    "while np.sum(original_image) == 0:\n",
    "    frame_index += 1\n",
    "    tiff.seek(frame_index)\n",
    "    original_image = np.array(tiff)\n",
    "    first_frame += 1\n",
    "    print(frame_index)\n",
    "\n",
    "\n"
   ]
  },
  {
   "cell_type": "markdown",
   "id": "e1d8711a-7b97-4eb1-8556-60a0ce1f5253",
   "metadata": {},
   "source": [
    "# Traitement d'image"
   ]
  },
  {
   "cell_type": "code",
   "execution_count": 245,
   "id": "3a91746d-ed20-4b11-841a-4384c3c9f610",
   "metadata": {
    "execution": {
     "iopub.execute_input": "2024-11-27T00:33:57.083712Z",
     "iopub.status.busy": "2024-11-27T00:33:57.083500Z",
     "iopub.status.idle": "2024-11-27T00:33:57.942225Z",
     "shell.execute_reply": "2024-11-27T00:33:57.941368Z",
     "shell.execute_reply.started": "2024-11-27T00:33:57.083690Z"
    }
   },
   "outputs": [],
   "source": [
    "clahe = cv2.createCLAHE(clipLimit=10.0, tileGridSize=(30, 30))\n",
    "preprocessed = clahe.apply(original_image)\n",
    "\n",
    "blurred = cv2.medianBlur(preprocessed, 115)\n",
    "preprocessed2 = cv2.subtract(preprocessed, blurred)\n",
    "\n",
    "# Apply Non-Local Means Denoising\n",
    "img = cv2.fastNlMeansDenoising(preprocessed2, None, 15, 7, 41)\n"
   ]
  },
  {
   "cell_type": "markdown",
   "id": "9f52f7fc-b595-4b76-8cc3-0755544c12bd",
   "metadata": {},
   "source": [
    "# Sélection du point à tracker"
   ]
  },
  {
   "cell_type": "code",
   "execution_count": 246,
   "id": "5a934439-4314-4c28-a4cd-c0d9113c98e9",
   "metadata": {
    "execution": {
     "iopub.execute_input": "2024-11-27T00:33:57.944451Z",
     "iopub.status.busy": "2024-11-27T00:33:57.944269Z",
     "iopub.status.idle": "2024-11-27T00:33:57.947894Z",
     "shell.execute_reply": "2024-11-27T00:33:57.947259Z",
     "shell.execute_reply.started": "2024-11-27T00:33:57.944433Z"
    }
   },
   "outputs": [],
   "source": [
    "def crop(img, x, y, crop_size_x, crop_size_y):  \n",
    "    x_start = int(x - crop_size_x // 2)\n",
    "    x_end = int(x + crop_size_x // 2)\n",
    "    y_start = int(y - crop_size_y // 2)\n",
    "    y_end = int(y + crop_size_y // 2)\n",
    "\n",
    "    if x_start < 0:\n",
    "        x_start = 0\n",
    "    if x_end > 1440:\n",
    "        x_end = 1440\n",
    "    if y_start < 0:\n",
    "        y_start = 0\n",
    "    if y_end > 1080:\n",
    "        y_end = 1080\n",
    "\n",
    "    return img[y_start:y_end, x_start:x_end]"
   ]
  },
  {
   "cell_type": "code",
   "execution_count": 247,
   "id": "60e9cbb8-923d-4281-89f9-accc9565c831",
   "metadata": {
    "execution": {
     "iopub.execute_input": "2024-11-27T00:33:57.948819Z",
     "iopub.status.busy": "2024-11-27T00:33:57.948575Z",
     "iopub.status.idle": "2024-11-27T00:34:16.244046Z",
     "shell.execute_reply": "2024-11-27T00:34:16.243397Z",
     "shell.execute_reply.started": "2024-11-27T00:33:57.948800Z"
    }
   },
   "outputs": [
    {
     "name": "stdout",
     "output_type": "stream",
     "text": [
      "Please click on the point you want to select.\n",
      "Selected point: (538.331168831169, 917.6168831168831)\n"
     ]
    }
   ],
   "source": [
    "# Display the image and let the user select a point interactively\n",
    "fig, ax = plt.subplots()\n",
    "ax.imshow(img, origin='lower', cmap='gray')  # Use 'gray' for better visibility of grayscale images\n",
    "plt.title(f\"Frame {frame_index}: Select a point\")\n",
    "\n",
    "# Ask for a point to be selected\n",
    "print(\"Please click on the point you want to select.\")\n",
    "x, y = plt.ginput(1)[0]  # This will get the coordinates of the clicked point\n",
    "print(f\"Selected point: ({x}, {y})\")\n",
    "plt.close()\n",
    "\n",
    "crop_sze_x = 250\n",
    "crop_sze_y = 300"
   ]
  },
  {
   "cell_type": "markdown",
   "id": "383a659b",
   "metadata": {},
   "source": [
    "Debogueur"
   ]
  },
  {
   "cell_type": "code",
   "execution_count": 248,
   "id": "6184609f",
   "metadata": {},
   "outputs": [],
   "source": [
    "def visionneur(frame, titre):\n",
    "    plt.figure(figsize=(10, 5))\n",
    "    plt.clf() \n",
    "    plt.imshow(frame, origin='lower', cmap='gray')\n",
    "    plt.title(titre)\n",
    "    plt.colorbar()  \n",
    "    plt.show()"
   ]
  },
  {
   "cell_type": "markdown",
   "id": "6a9490a9-7dce-451b-81ff-0ae267584ee3",
   "metadata": {},
   "source": [
    "# Fit gaussien sur le point sélectionné"
   ]
  },
  {
   "cell_type": "code",
   "execution_count": 249,
   "id": "5fc5b874-d129-40a2-985c-03a724b3cb95",
   "metadata": {
    "execution": {
     "iopub.execute_input": "2024-11-27T00:34:16.245037Z",
     "iopub.status.busy": "2024-11-27T00:34:16.244816Z",
     "iopub.status.idle": "2024-11-27T00:34:16.248322Z",
     "shell.execute_reply": "2024-11-27T00:34:16.247669Z",
     "shell.execute_reply.started": "2024-11-27T00:34:16.245020Z"
    }
   },
   "outputs": [],
   "source": [
    "def prepare_data(x, y, z):\n",
    "    return (x.flatten(), y.flatten()), z.flatten()"
   ]
  },
  {
   "cell_type": "code",
   "execution_count": 250,
   "id": "1fb18b6a-7295-4ea7-b0fb-84f5a41fbdbb",
   "metadata": {
    "execution": {
     "iopub.execute_input": "2024-11-27T00:34:16.249457Z",
     "iopub.status.busy": "2024-11-27T00:34:16.248979Z",
     "iopub.status.idle": "2024-11-27T00:34:16.280319Z",
     "shell.execute_reply": "2024-11-27T00:34:16.279600Z",
     "shell.execute_reply.started": "2024-11-27T00:34:16.249435Z"
    }
   },
   "outputs": [],
   "source": [
    "def gaussian_2d(xy, amplitude, x0, y0, sigma_x, sigma_y, offset):\n",
    "    x, y = xy\n",
    "    a = 1 / (2 * sigma_x**2)\n",
    "    b = 1 / (2 * sigma_y**2)\n",
    "    return offset + amplitude * np.exp(- (a * (x - x0)**2 + b * (y - y0)**2))"
   ]
  },
  {
   "cell_type": "code",
   "execution_count": 251,
   "id": "b2f948a1-d8e5-4fa8-acfe-ac569383012d",
   "metadata": {
    "execution": {
     "iopub.execute_input": "2024-11-27T00:34:16.281928Z",
     "iopub.status.busy": "2024-11-27T00:34:16.281279Z",
     "iopub.status.idle": "2024-11-27T00:34:16.286665Z",
     "shell.execute_reply": "2024-11-27T00:34:16.286066Z",
     "shell.execute_reply.started": "2024-11-27T00:34:16.281903Z"
    }
   },
   "outputs": [],
   "source": [
    "def localisateur_gaussien(intensity_grid, centre):\n",
    "    x = np.arange(intensity_grid.shape[1])\n",
    "    y = np.arange(intensity_grid.shape[0])\n",
    "    X, Y = np.meshgrid(x, y)\n",
    "\n",
    "    # Préparer les données pour le fit\n",
    "    (xdata, ydata), zdata = prepare_data(X, Y, intensity_grid)\n",
    "    model = lmfit.Model(gaussian_2d)\n",
    "    max_idx = np.unravel_index(np.argmax(intensity_grid), intensity_grid.shape)\n",
    "    print(max_idx)\n",
    "    initial_x0 = x[max_idx[1]]\n",
    "    initial_y0 = y[max_idx[0]]\n",
    "\n",
    "    # Définir les paramètres du modèle\n",
    "    params = model.make_params(\n",
    "        amplitude=np.max(intensity_grid),\n",
    "        x0=initial_x0,\n",
    "        y0=initial_y0,\n",
    "        sigma_x=5,\n",
    "        sigma_y=5,\n",
    "        offset=3\n",
    "    )\n",
    "\n",
    "    # Ajouter des bornes sur les paramètres x0 et y0\n",
    "    params['x0'].min = 0    # Limite inférieure pour x0\n",
    "    params['x0'].max = intensity_grid.shape[1] - 1  # Limite supérieure pour x0\n",
    "    params['y0'].min = 0    # Limite inférieure pour y0\n",
    "    params['y0'].max = intensity_grid.shape[0] - 1  # Limite supérieure pour y0\n",
    "\n",
    "    # Ajouter des bornes sur les paramètres sigma\n",
    "    params['sigma_x'].min = 1  # Limite inférieure de sigma_x\n",
    "    params['sigma_x'].max = 40 # Limite supérieure de sigma_x\n",
    "    params['sigma_y'].min = 1  # Limite inférieure de sigma_y\n",
    "    params['sigma_y'].max = 40 # Limite supérieure de sigma_y\n",
    "\n",
    "    # Effectuer l'ajustement\n",
    "    result = model.fit(zdata, params, xy=(xdata, ydata))\n",
    "    \n",
    "    #print(f'position relative de gauss: {result.params['x0'].value}, {result.params['y0'].value}')\n",
    "    \n",
    "    x_position = result.params['x0'].value + centre[0] - crop_sze_x//4\n",
    "    y_position = result.params['y0'].value + centre[1] - crop_sze_y//4\n",
    "\n",
    "    return [x_position, y_position], result.params['sigma_x'].value, result.params['sigma_y'].value"
   ]
  },
  {
   "cell_type": "markdown",
   "id": "647422c5-d9bb-4e71-9481-76349ea02eca",
   "metadata": {},
   "source": [
    "# Process d'image (enlever le bruit)\n",
    "\n",
    "**semble faire du trouble**"
   ]
  },
  {
   "cell_type": "code",
   "execution_count": 252,
   "id": "c3df48fe-ec70-413c-8172-84f9754a0bcf",
   "metadata": {
    "execution": {
     "iopub.execute_input": "2024-11-27T00:34:16.287655Z",
     "iopub.status.busy": "2024-11-27T00:34:16.287395Z",
     "iopub.status.idle": "2024-11-27T00:34:16.291801Z",
     "shell.execute_reply": "2024-11-27T00:34:16.291266Z",
     "shell.execute_reply.started": "2024-11-27T00:34:16.287612Z"
    }
   },
   "outputs": [],
   "source": [
    "def denoise(image):\n",
    "    clahe = cv2.createCLAHE(clipLimit=10.0, tileGridSize=(30, 30))\n",
    "    preprocessed = clahe.apply(image)\n",
    "    \n",
    "    blurred = cv2.medianBlur(preprocessed, 115)\n",
    "    preprocessed2 = cv2.subtract(preprocessed, blurred)\n",
    "    \n",
    "    return cv2.fastNlMeansDenoising(preprocessed2, None, 15, 7, 41)"
   ]
  },
  {
   "cell_type": "markdown",
   "id": "10149e95",
   "metadata": {},
   "source": [
    "# Identifier la particule et donner sa nouvelle position"
   ]
  },
  {
   "cell_type": "code",
   "execution_count": 253,
   "id": "e842ae10",
   "metadata": {},
   "outputs": [],
   "source": [
    "def is_within_bounds(position):\n",
    "    \"\"\"\n",
    "    Vérifie si la position est à l'intérieur des limites du cadre (100 à 1300 en x et 100 à 980 en y).\n",
    "    \"\"\"\n",
    "    x, y = position\n",
    "\n",
    "    # Définir les bornes du cadre\n",
    "    x_min, x_max = 100, 1300\n",
    "    y_min, y_max = 100, 980\n",
    "\n",
    "    # Vérifier si la position est dans les bornes du cadre\n",
    "    if x_min <= x <= x_max and y_min <= y <= y_max:\n",
    "        return True\n",
    "    else:\n",
    "        return False\n"
   ]
  },
  {
   "cell_type": "code",
   "execution_count": 254,
   "id": "11c4d94f",
   "metadata": {},
   "outputs": [],
   "source": [
    "def empreinte_digitale(image, threshold=50, eps=3, min_samples=1):\n",
    "    # 1. Observer chaque particule approximativement\n",
    "    #neighborhood_size = 3  \n",
    "    #local_max = ndimage.maximum_filter(image, size=neighborhood_size)\n",
    "    visionneur(image, f'particule choisie')\n",
    "\n",
    "    maxima = (image > threshold)\n",
    "    \n",
    "    coordinates = np.column_stack(np.where(maxima))  \n",
    "    if coordinates.shape[0] == 0:\n",
    "        print(\"Aucune particule détectée.\")\n",
    "        return [], image\n",
    "\n",
    "    dbscan = DBSCAN(eps=eps, min_samples=min_samples)\n",
    "    labels = dbscan.fit_predict(coordinates)\n",
    "    unique_labels = np.unique(labels)\n",
    "    size=0\n",
    "\n",
    "    # 2. Déterminer l'empreinte digitale de notre particule\n",
    "    for label in unique_labels:\n",
    "        if label != -1:  # -1 correspond au bruit dans DBSCAN\n",
    "            cluster_points = coordinates[labels == label]\n",
    "            plt.scatter(cluster_points[:, 1], cluster_points[:, 0], label=f'Particule {label}')\n",
    "\n",
    "            if cluster_points.shape[0]>size:\n",
    "                size = cluster_points.shape[0]\n",
    "                luminosity = np.mean(image[cluster_points[:, 0], cluster_points[:, 1]])\n",
    "\n",
    "    seuil=np.max(image)*0.75\n",
    "    print(f'seuil:{seuil}, taille:{size} et luminosité: {luminosity}')\n",
    "\n",
    "    # 3. Afficher les résultats et filtrer les particules selon leur taille et luminosité\n",
    "    plt.imshow(image, origin='lower', cmap='gray')\n",
    "    plt.title(f\"Empreinte digitale de la particule, lum={luminosity} et taille={size}\")\n",
    "    plt.legend()\n",
    "    plt.colorbar()  \n",
    "    plt.show()\n",
    "\n",
    "    return size, luminosity, seuil"
   ]
  },
  {
   "cell_type": "code",
   "execution_count": 255,
   "id": "f690236d",
   "metadata": {},
   "outputs": [],
   "source": [
    "def detect_nbre_particles(image, threshold, eps=9, min_samples=1):\n",
    "    # 1. Appliquer un filtre de voisinage pour détecter les maxima locaux\n",
    "    neighborhood_size = 3  # Taille du voisinage pour détecter les maxima locaux\n",
    "    local_max = ndimage.maximum_filter(image, size=neighborhood_size)\n",
    "    # 2. Comparer l'image originale et les maxima locaux pour identifier les vrais maxima\n",
    "    maxima = (image == local_max) & (image > threshold)\n",
    "\n",
    "    # 3. Extraire les coordonnées des maxima (particules)\n",
    "    coordinates = np.column_stack(np.where(maxima))  # Extraire les indices des pixels maximaux\n",
    "    if coordinates.shape[0] == 0:\n",
    "        print(\"Aucune particule détectée.\")\n",
    "        visionneur(image, f'détection du nombre de particules')\n",
    "\n",
    "        return [], image\n",
    "\n",
    "    # 4. Appliquer DBSCAN pour regrouper les particules proches (cluster les maxima détectés)\n",
    "    dbscan = DBSCAN(eps=eps, min_samples=min_samples)\n",
    "    labels = dbscan.fit_predict(coordinates)\n",
    "\n",
    "    #5. Déterminer le nombre de particules\n",
    "    unique_labels = np.unique(labels)\n",
    "    nb_particules = len(unique_labels)\n",
    "        \n",
    "    # # 6. Afficher les résultats et filtrer les particules selon leur taille et luminosité\n",
    "    # plt.imshow(image, origin='lower', cmap='gray')\n",
    "    # plt.title(\"Détection des particules\")\n",
    "    \n",
    "    positions=[]\n",
    "    for label in unique_labels:\n",
    "        if label != -1:  # -1 correspond au bruit dans DBSCAN\n",
    "            cluster_points = coordinates[labels == label]\n",
    "            # plt.scatter(cluster_points[:, 1], cluster_points[:, 0], label=f'Particule {label}')\n",
    "        positions.append((np.mean(cluster_points[:, 1]), np.mean(cluster_points[:, 0])))\n",
    "        \n",
    "\n",
    "    # plt.colorbar()  \n",
    "    # plt.legend()\n",
    "    # plt.show()\n",
    "\n",
    "    # Retourner les coordonnées des particules filtrées\n",
    "    return nb_particules, positions"
   ]
  },
  {
   "cell_type": "code",
   "execution_count": 256,
   "id": "ddfe6898",
   "metadata": {},
   "outputs": [],
   "source": [
    "def identificateur_particles(image, ref_size, ref_luminosity, threshold=50, eps=9, min_samples=1):\n",
    "    # 1. Obtenir le plus d'info sur la particule\n",
    "    maxima = (image > threshold)\n",
    "    \n",
    "    coordinates = np.column_stack(np.where(maxima))  \n",
    "    if coordinates.shape[0] == 0:\n",
    "        print(\"Mauvais re-crop empêche identification de la particule.\")\n",
    "        return [], image\n",
    "\n",
    "    dbscan = DBSCAN(eps=eps, min_samples=min_samples)\n",
    "    labels = dbscan.fit_predict(coordinates)\n",
    "    unique_labels = np.unique(labels)\n",
    "\n",
    "    # 2. Parcourir chaque particule et identifier laquelle est celle qu'on suit\n",
    "    distances = []\n",
    "    position_particules = []\n",
    "\n",
    "    for label in unique_labels:\n",
    "        if label != -1:  # -1 correspond au bruit dans DBSCAN\n",
    "            cluster_points = coordinates[labels == label]\n",
    "            plt.scatter(cluster_points[:, 1], cluster_points[:, 0], label=f'Particule {label}')\n",
    "\n",
    "            size = cluster_points.shape[0]\n",
    "            luminosity = np.mean(image[cluster_points[:, 0], cluster_points[:, 1]])\n",
    "            size_distance = abs(size - ref_size)  \n",
    "            luminosity_distance = abs(luminosity - ref_luminosity) \n",
    "            \n",
    "            #print(f'diff_taille: {size_distance} et diff_lum: {luminosity_distance}') \n",
    "            \n",
    "            combined_distance = size_distance + luminosity_distance\n",
    "            distances.append(combined_distance)\n",
    "            position_particules.append((np.mean(cluster_points[:, 1]), np.mean(cluster_points[:, 0])))\n",
    "\n",
    "    ecart = np.min(distances)\n",
    "    position_best_particle = position_particules[np.argmin(distances)]  \n",
    "    \n",
    "    #print(f'ecrat: {ecart}')\n",
    "    \n",
    "    # 3. Afficher les résultats et filtrer les particules selon leur taille et luminosité\n",
    "    plt.imshow(image, origin='lower', cmap='gray')\n",
    "    plt.title(\"Identification des particules\")\n",
    "    plt.scatter(position_best_particle[0], position_best_particle[1], color='r', label=f'Particule sélectionnée')\n",
    "    plt.legend()\n",
    "    plt.colorbar()  \n",
    "    plt.show()\n",
    "\n",
    "    return position_best_particle, ecart"
   ]
  },
  {
   "cell_type": "markdown",
   "id": "61f2661b-5185-493a-bd25-97d1c42d712c",
   "metadata": {},
   "source": [
    "# Faire le crop et fit"
   ]
  },
  {
   "cell_type": "code",
   "execution_count": 257,
   "id": "b695a082-5a85-499e-9183-cfd354b4dc5d",
   "metadata": {
    "execution": {
     "iopub.execute_input": "2024-11-27T00:34:16.297421Z",
     "iopub.status.busy": "2024-11-27T00:34:16.297176Z",
     "iopub.status.idle": "2024-11-27T00:34:16.301468Z",
     "shell.execute_reply": "2024-11-27T00:34:16.300888Z",
     "shell.execute_reply.started": "2024-11-27T00:34:16.297403Z"
    }
   },
   "outputs": [],
   "source": [
    "def particle_tracker_simple(image, x, y):\n",
    "    image = denoise(image)\n",
    "\n",
    "    cropped_img = crop(image, x, y, crop_sze_x, crop_sze_y)\n",
    "    \n",
    "    #Gérer plus qu'une particule\n",
    "    cropped_img = np.array(cropped_img)\n",
    "    max_index = np.argmax(cropped_img)\n",
    "    max_coords = np.unravel_index(max_index, cropped_img.shape)\n",
    "\n",
    "    nouveau_x = x - crop_sze_x // 2 + max_coords[1]\n",
    "    nouveau_y = y - crop_sze_y // 2 + max_coords[0]\n",
    "    \n",
    "    second_crop = crop(image, nouveau_x, nouveau_y, crop_sze_x, crop_sze_y)    # Re-crop autour d'une seule particule\n",
    "\n",
    "    result_fit = localisateur_gaussien(second_crop, [nouveau_x, nouveau_y])\n",
    "\n",
    "    x_new, y_new = result_fit[0][0], result_fit[0][1]\n",
    "\n",
    "    return [result_fit, cropped_img, (x_new, y_new), (result_fit[1], result_fit[2])]"
   ]
  },
  {
   "cell_type": "code",
   "execution_count": 258,
   "id": "5625e5b2",
   "metadata": {},
   "outputs": [],
   "source": [
    "#Placés ici pour pouvoir y faire référence dans particule_tracker\n",
    "position_list=[[x,y]]\n",
    "sigma_list = []\n",
    "crop_frames = []\n",
    "big_frames = []"
   ]
  },
  {
   "cell_type": "code",
   "execution_count": 259,
   "id": "0d8ff164",
   "metadata": {},
   "outputs": [],
   "source": [
    "def particle_tracker(imge, x, y, taille_initiale, luminosité_initiale, seuil):\n",
    "    # 1. Ce qu'on voit près de l'ancienne position\n",
    "    image = denoise(imge)\n",
    "\n",
    "    cropped_img = crop(image, x, y, crop_sze_x, crop_sze_y)\n",
    "    \n",
    "    # 2. Déterminer combien il y a de particules et laquelle est la notre\n",
    "    # Utiliser une reconnaissance de particules et si plus qu'une, alors clic pour choisir\n",
    "    nb_part, coordonnées = detect_nbre_particles(cropped_img, seuil)\n",
    "\n",
    "    if nb_part == 1:\n",
    "        cropped_img = np.array(cropped_img)\n",
    "        max_index = np.argmax(cropped_img)\n",
    "        max_coords = np.unravel_index(max_index, cropped_img.shape)\n",
    "\n",
    "        nouveau_x = x - crop_sze_x // 2 + max_coords[1] #Oui c'est inversé à cause du unravel juste avant\n",
    "        nouveau_y = y - crop_sze_y // 2 + max_coords[0]\n",
    "    elif  (nb_part == 0) or (nb_part == []):\n",
    "        # Display the image and let the user select a point interactively\n",
    "        fig, ax = plt.subplots()\n",
    "        ax.imshow(denoise(img), origin='lower', cmap='gray') \n",
    "        plt.title(f\"Frame {len(position_list)-1}: Select a point\")\n",
    "\n",
    "        # Ajouter une croix rouge à la position donnée\n",
    "        cx, cy = position_list[len(position_list)-1]\n",
    "        ax.plot(cx, cy, 'rx', markersize=10) \n",
    "        \n",
    "        # Afficher l'image et demander à l'utilisateur de cliquer\n",
    "        print(\"Please click on the point you want to select.\")\n",
    "        nouveau_x, nouveau_y = plt.ginput(1)[0]  # Attente du clic de l'utilisateur (1 point)\n",
    "        print(f\"Selected point: ({nouveau_x}, {nouveau_y})\")\n",
    "        \n",
    "        # Fermer l'affichage après sélection\n",
    "        plt.close()\n",
    "    else:\n",
    "        imperfections, emplacements = [] , []\n",
    "        for num_particule in range(nb_part):\n",
    "            x_identifier=x - crop_sze_x // 2 + coordonnées[num_particule][0]\n",
    "            y_identifier=y - crop_sze_y // 2 + coordonnées[num_particule][1]\n",
    "            crop_pour_identifier = crop(image, x_identifier, y_identifier, crop_sze_x//2, crop_sze_x//2)\n",
    "            emplacement, ecart = identificateur_particles(crop_pour_identifier, taille_initiale, luminosité_initiale)\n",
    "            imperfections.append(ecart)\n",
    "            emplacements.append(emplacement)\n",
    "        qualité = np.min(imperfections)\n",
    "        print(f'écart:{qualité}')\n",
    "        max_coords = emplacements[np.argmin(imperfections)]  \n",
    "        nouveau_x = x_identifier - crop_sze_x // 4 + max_coords[0]\n",
    "        nouveau_y = y_identifier - crop_sze_y // 4 + max_coords[1]\n",
    "    \n",
    "    # Vérification s'il fout le camp \n",
    "    dis = np.sqrt((position_list[-1][0]-nouveau_x)**2+(position_list[-1][1]-nouveau_y)**2)\n",
    "    if dis>100:\n",
    "        # Display the image and let the user select a point interactively\n",
    "        fig, ax = plt.subplots()\n",
    "        ax.imshow(denoise(img), origin='lower', cmap='gray') \n",
    "        plt.title(f\"Frame {len(position_list)-1}: Problème d'identification, nouvelle pos à {dis}, select a point\")\n",
    "\n",
    "        print('problème d''identification')\n",
    "        # Ajouter une croix rouge à la position donnée\n",
    "        cx, cy = position_list[-1]\n",
    "        ax.plot(cx, cy, 'rx', markersize=10) \n",
    "        \n",
    "        # Afficher l'image et demander à l'utilisateur de cliquer\n",
    "        print(\"Please click on the point you want to select.\")\n",
    "        nouveau_x, nouveau_y = plt.ginput(1)[0]  # Attente du clic de l'utilisateur (1 point)\n",
    "        print(f\"Selected point: ({nouveau_x}, {nouveau_y})\")\n",
    "        \n",
    "        # Fermer l'affichage après sélection\n",
    "        plt.close()\n",
    "    \n",
    "    # 3. Crop atour de notre particule et fit dessus\n",
    "    second_crop = crop(image, nouveau_x, nouveau_y, crop_sze_x//2, crop_sze_y//2)    # Re-crop autour d'une seule particule\n",
    "\n",
    "\n",
    "    result_fit = localisateur_gaussien(second_crop, [nouveau_x, nouveau_y])\n",
    "\n",
    "    x_new, y_new = result_fit[0][0], result_fit[0][1]\n",
    "    #print(f'position estimée par le fit: {x_new}, {y_new}')\n",
    "\n",
    "    #Affiche l'accord entre le fit gaussien et le blob (pour comparer)\n",
    "    # x_range = np.arange(crop_sze_x) - crop_sze_x//2 \n",
    "    # y_range = np.arange(crop_sze_y) - crop_sze_y//2\n",
    "    # x_position = x_range + nouveau_x  \n",
    "    # y_position = y_range + nouveau_y\n",
    "    # plt.imshow(second_crop, origin='lower', cmap='gray', extent=[x_position.min(), x_position.max(), y_position.min(), y_position.max()])\n",
    "    # plt.title(\"positionnement de la particule\")\n",
    "    # plt.scatter(x_new, y_new, color='r', label=f'Position estimée par fit gaussien {x_new}, {y_new}')\n",
    "    # plt.scatter(nouveau_x, nouveau_y, color='r', marker='+', label=f'Position meilleure particule')\n",
    "    # plt.legend()\n",
    "    # plt.colorbar()  \n",
    "    # plt.show()\n",
    "\n",
    "    return [result_fit, second_crop, (x_new, y_new), (result_fit[1], result_fit[2])]"
   ]
  },
  {
   "cell_type": "markdown",
   "id": "8002acc8-bac7-4c69-846a-381ee31f08ff",
   "metadata": {},
   "source": [
    "# Main loop"
   ]
  },
  {
   "cell_type": "code",
   "execution_count": 260,
   "id": "e7a5dba4-849a-4171-8fbb-6d05453ed795",
   "metadata": {
    "execution": {
     "iopub.execute_input": "2024-11-27T00:34:16.302483Z",
     "iopub.status.busy": "2024-11-27T00:34:16.302259Z",
     "iopub.status.idle": "2024-11-27T00:35:56.804477Z",
     "shell.execute_reply": "2024-11-27T00:35:56.803536Z",
     "shell.execute_reply.started": "2024-11-27T00:34:16.302464Z"
    }
   },
   "outputs": [
    {
     "name": "stdout",
     "output_type": "stream",
     "text": [
      "seuil:103.5, taille:2600 et luminosité: 84.13576923076923\n",
      "position initiale: [[538.331168831169, 917.6168831168831]]\n",
      "écart:487.56413269796565\n",
      "(86, 62)\n",
      "liste des positions frame 0:[[538.331168831169, 917.6168831168831], (536.8685106918658, 916.3618347567535)]\n",
      "(75, 62)\n",
      "liste des positions frame 1:[[538.331168831169, 917.6168831168831], (536.8685106918658, 916.3618347567535), (537.965826125619, 914.3660634800347)]\n",
      "(75, 62)\n",
      "liste des positions frame 2:[[538.331168831169, 917.6168831168831], (536.8685106918658, 916.3618347567535), (537.965826125619, 914.3660634800347), (541.5874907487992, 894.5607595895148)]\n",
      "(75, 62)\n",
      "liste des positions frame 3:[[538.331168831169, 917.6168831168831], (536.8685106918658, 916.3618347567535), (537.965826125619, 914.3660634800347), (541.5874907487992, 894.5607595895148), (546.1341759264443, 866.1904183037063)]\n",
      "(75, 62)\n",
      "liste des positions frame 4:[[538.331168831169, 917.6168831168831], (536.8685106918658, 916.3618347567535), (537.965826125619, 914.3660634800347), (541.5874907487992, 894.5607595895148), (546.1341759264443, 866.1904183037063), (548.1077517019759, 846.9710937445128)]\n",
      "(75, 62)\n",
      "liste des positions frame 5:[[538.331168831169, 917.6168831168831], (536.8685106918658, 916.3618347567535), (537.965826125619, 914.3660634800347), (541.5874907487992, 894.5607595895148), (546.1341759264443, 866.1904183037063), (548.1077517019759, 846.9710937445128), (546.8232392054424, 825.9390319040917)]\n",
      "(75, 62)\n",
      "liste des positions frame 6:[[538.331168831169, 917.6168831168831], (536.8685106918658, 916.3618347567535), (537.965826125619, 914.3660634800347), (541.5874907487992, 894.5607595895148), (546.1341759264443, 866.1904183037063), (548.1077517019759, 846.9710937445128), (546.8232392054424, 825.9390319040917), (546.8958574112244, 796.6092383595795)]\n",
      "(75, 62)\n",
      "liste des positions frame 7:[[538.331168831169, 917.6168831168831], (536.8685106918658, 916.3618347567535), (537.965826125619, 914.3660634800347), (541.5874907487992, 894.5607595895148), (546.1341759264443, 866.1904183037063), (548.1077517019759, 846.9710937445128), (546.8232392054424, 825.9390319040917), (546.8958574112244, 796.6092383595795), (555.8906872742591, 774.8889278483235)]\n",
      "(75, 62)\n",
      "liste des positions frame 8:[[538.331168831169, 917.6168831168831], (536.8685106918658, 916.3618347567535), (537.965826125619, 914.3660634800347), (541.5874907487992, 894.5607595895148), (546.1341759264443, 866.1904183037063), (548.1077517019759, 846.9710937445128), (546.8232392054424, 825.9390319040917), (546.8958574112244, 796.6092383595795), (555.8906872742591, 774.8889278483235), (562.9205798692265, 753.5192475725455)]\n",
      "(75, 62)\n",
      "liste des positions frame 9:[[538.331168831169, 917.6168831168831], (536.8685106918658, 916.3618347567535), (537.965826125619, 914.3660634800347), (541.5874907487992, 894.5607595895148), (546.1341759264443, 866.1904183037063), (548.1077517019759, 846.9710937445128), (546.8232392054424, 825.9390319040917), (546.8958574112244, 796.6092383595795), (555.8906872742591, 774.8889278483235), (562.9205798692265, 753.5192475725455), (566.0351617511109, 723.6954011054476)]\n",
      "(75, 62)\n",
      "liste des positions frame 10:[[538.331168831169, 917.6168831168831], (536.8685106918658, 916.3618347567535), (537.965826125619, 914.3660634800347), (541.5874907487992, 894.5607595895148), (546.1341759264443, 866.1904183037063), (548.1077517019759, 846.9710937445128), (546.8232392054424, 825.9390319040917), (546.8958574112244, 796.6092383595795), (555.8906872742591, 774.8889278483235), (562.9205798692265, 753.5192475725455), (566.0351617511109, 723.6954011054476), (568.9812587099784, 701.9135200722601)]\n",
      "écart:153.66642055025267\n",
      "(86, 56)\n",
      "liste des positions frame 11:[[538.331168831169, 917.6168831168831], (536.8685106918658, 916.3618347567535), (537.965826125619, 914.3660634800347), (541.5874907487992, 894.5607595895148), (546.1341759264443, 866.1904183037063), (548.1077517019759, 846.9710937445128), (546.8232392054424, 825.9390319040917), (546.8958574112244, 796.6092383595795), (555.8906872742591, 774.8889278483235), (562.9205798692265, 753.5192475725455), (566.0351617511109, 723.6954011054476), (568.9812587099784, 701.9135200722601), (570.7904800338555, 682.5705801545878)]\n",
      "(75, 62)\n",
      "liste des positions frame 12:[[538.331168831169, 917.6168831168831], (536.8685106918658, 916.3618347567535), (537.965826125619, 914.3660634800347), (541.5874907487992, 894.5607595895148), (546.1341759264443, 866.1904183037063), (548.1077517019759, 846.9710937445128), (546.8232392054424, 825.9390319040917), (546.8958574112244, 796.6092383595795), (555.8906872742591, 774.8889278483235), (562.9205798692265, 753.5192475725455), (566.0351617511109, 723.6954011054476), (568.9812587099784, 701.9135200722601), (570.7904800338555, 682.5705801545878), (572.0253073151746, 655.3347893201487)]\n",
      "écart:443.1301293867423\n",
      "(88, 53)\n",
      "liste des positions frame 13:[[538.331168831169, 917.6168831168831], (536.8685106918658, 916.3618347567535), (537.965826125619, 914.3660634800347), (541.5874907487992, 894.5607595895148), (546.1341759264443, 866.1904183037063), (548.1077517019759, 846.9710937445128), (546.8232392054424, 825.9390319040917), (546.8958574112244, 796.6092383595795), (555.8906872742591, 774.8889278483235), (562.9205798692265, 753.5192475725455), (566.0351617511109, 723.6954011054476), (568.9812587099784, 701.9135200722601), (570.7904800338555, 682.5705801545878), (572.0253073151746, 655.3347893201487), (571.5486097631067, 636.4814203155963)]\n",
      "écart:116.12214625580604\n",
      "(87, 48)\n",
      "liste des positions frame 14:[[538.331168831169, 917.6168831168831], (536.8685106918658, 916.3618347567535), (537.965826125619, 914.3660634800347), (541.5874907487992, 894.5607595895148), (546.1341759264443, 866.1904183037063), (548.1077517019759, 846.9710937445128), (546.8232392054424, 825.9390319040917), (546.8958574112244, 796.6092383595795), (555.8906872742591, 774.8889278483235), (562.9205798692265, 753.5192475725455), (566.0351617511109, 723.6954011054476), (568.9812587099784, 701.9135200722601), (570.7904800338555, 682.5705801545878), (572.0253073151746, 655.3347893201487), (571.5486097631067, 636.4814203155963), (570.7693680423006, 612.1606317384776)]\n",
      "écart:127.05851878210285\n",
      "(86, 44)\n",
      "liste des positions frame 15:[[538.331168831169, 917.6168831168831], (536.8685106918658, 916.3618347567535), (537.965826125619, 914.3660634800347), (541.5874907487992, 894.5607595895148), (546.1341759264443, 866.1904183037063), (548.1077517019759, 846.9710937445128), (546.8232392054424, 825.9390319040917), (546.8958574112244, 796.6092383595795), (555.8906872742591, 774.8889278483235), (562.9205798692265, 753.5192475725455), (566.0351617511109, 723.6954011054476), (568.9812587099784, 701.9135200722601), (570.7904800338555, 682.5705801545878), (572.0253073151746, 655.3347893201487), (571.5486097631067, 636.4814203155963), (570.7693680423006, 612.1606317384776), (572.635611207188, 590.2414713373705)]\n",
      "(75, 62)\n",
      "liste des positions frame 16:[[538.331168831169, 917.6168831168831], (536.8685106918658, 916.3618347567535), (537.965826125619, 914.3660634800347), (541.5874907487992, 894.5607595895148), (546.1341759264443, 866.1904183037063), (548.1077517019759, 846.9710937445128), (546.8232392054424, 825.9390319040917), (546.8958574112244, 796.6092383595795), (555.8906872742591, 774.8889278483235), (562.9205798692265, 753.5192475725455), (566.0351617511109, 723.6954011054476), (568.9812587099784, 701.9135200722601), (570.7904800338555, 682.5705801545878), (572.0253073151746, 655.3347893201487), (571.5486097631067, 636.4814203155963), (570.7693680423006, 612.1606317384776), (572.635611207188, 590.2414713373705), (574.1656525169153, 569.8341360146392)]\n",
      "écart:459.8671864342554\n",
      "(83, 43)\n",
      "liste des positions frame 17:[[538.331168831169, 917.6168831168831], (536.8685106918658, 916.3618347567535), (537.965826125619, 914.3660634800347), (541.5874907487992, 894.5607595895148), (546.1341759264443, 866.1904183037063), (548.1077517019759, 846.9710937445128), (546.8232392054424, 825.9390319040917), (546.8958574112244, 796.6092383595795), (555.8906872742591, 774.8889278483235), (562.9205798692265, 753.5192475725455), (566.0351617511109, 723.6954011054476), (568.9812587099784, 701.9135200722601), (570.7904800338555, 682.5705801545878), (572.0253073151746, 655.3347893201487), (571.5486097631067, 636.4814203155963), (570.7693680423006, 612.1606317384776), (572.635611207188, 590.2414713373705), (574.1656525169153, 569.8341360146392), (576.1667801953998, 542.3614237152334)]\n",
      "écart:691.4242551446116\n",
      "(78, 45)\n",
      "liste des positions frame 18:[[538.331168831169, 917.6168831168831], (536.8685106918658, 916.3618347567535), (537.965826125619, 914.3660634800347), (541.5874907487992, 894.5607595895148), (546.1341759264443, 866.1904183037063), (548.1077517019759, 846.9710937445128), (546.8232392054424, 825.9390319040917), (546.8958574112244, 796.6092383595795), (555.8906872742591, 774.8889278483235), (562.9205798692265, 753.5192475725455), (566.0351617511109, 723.6954011054476), (568.9812587099784, 701.9135200722601), (570.7904800338555, 682.5705801545878), (572.0253073151746, 655.3347893201487), (571.5486097631067, 636.4814203155963), (570.7693680423006, 612.1606317384776), (572.635611207188, 590.2414713373705), (574.1656525169153, 569.8341360146392), (576.1667801953998, 542.3614237152334), (578.1282804848723, 523.9289474385789)]\n",
      "écart:393.3526497017585\n",
      "(87, 64)\n",
      "liste des positions frame 19:[[538.331168831169, 917.6168831168831], (536.8685106918658, 916.3618347567535), (537.965826125619, 914.3660634800347), (541.5874907487992, 894.5607595895148), (546.1341759264443, 866.1904183037063), (548.1077517019759, 846.9710937445128), (546.8232392054424, 825.9390319040917), (546.8958574112244, 796.6092383595795), (555.8906872742591, 774.8889278483235), (562.9205798692265, 753.5192475725455), (566.0351617511109, 723.6954011054476), (568.9812587099784, 701.9135200722601), (570.7904800338555, 682.5705801545878), (572.0253073151746, 655.3347893201487), (571.5486097631067, 636.4814203155963), (570.7693680423006, 612.1606317384776), (572.635611207188, 590.2414713373705), (574.1656525169153, 569.8341360146392), (576.1667801953998, 542.3614237152334), (578.1282804848723, 523.9289474385789), (580.6410750301233, 501.02392804871215)]\n",
      "frames vide:20\n",
      "liste des positions frame 20:[[538.331168831169, 917.6168831168831], (536.8685106918658, 916.3618347567535), (537.965826125619, 914.3660634800347), (541.5874907487992, 894.5607595895148), (546.1341759264443, 866.1904183037063), (548.1077517019759, 846.9710937445128), (546.8232392054424, 825.9390319040917), (546.8958574112244, 796.6092383595795), (555.8906872742591, 774.8889278483235), (562.9205798692265, 753.5192475725455), (566.0351617511109, 723.6954011054476), (568.9812587099784, 701.9135200722601), (570.7904800338555, 682.5705801545878), (572.0253073151746, 655.3347893201487), (571.5486097631067, 636.4814203155963), (570.7693680423006, 612.1606317384776), (572.635611207188, 590.2414713373705), (574.1656525169153, 569.8341360146392), (576.1667801953998, 542.3614237152334), (578.1282804848723, 523.9289474385789), (580.6410750301233, 501.02392804871215), array([nan, nan])]\n"
     ]
    }
   ],
   "source": [
    "taille_initiale, luminosité_initiale, seuil = empreinte_digitale(crop(img,x,y,crop_sze_x*0.8,crop_sze_y*0.5))\n",
    "print(f'position initiale: {position_list}')\n",
    "\n",
    "for i in range(first_frame,actual_frames):\n",
    "    tiff.seek(i)\n",
    "    if np.sum(np.array(tiff))==0:\n",
    "        position_list.append(np.array([np.nan,np.nan]))\n",
    "        sigma_list.append(np.array([np.nan,np.nan]))\n",
    "        print(f'frames vide:{i}')\n",
    "    else:\n",
    "        data = particle_tracker(img, x, y, taille_initiale, luminosité_initiale, seuil)\n",
    "        position_list.append(data[2])\n",
    "        x,y = position_list[i-first_frame+1]\n",
    "        sigma_list.append(data[3])\n",
    "        tiff.seek(i)\n",
    "        img = np.array(tiff)\n",
    "        big_frames.append(img)\n",
    "        crop_frames.append(data[1])\n",
    "    print(f'liste des positions frame {i}:{position_list}')\n",
    "    if is_within_bounds(position_list[-1]):\n",
    "        pass\n",
    "    else:\n",
    "        break\n",
    "\n"
   ]
  },
  {
   "cell_type": "code",
   "execution_count": 261,
   "id": "3fcec28a",
   "metadata": {},
   "outputs": [],
   "source": [
    "# posit=[[538.331168831169, 917.6168831168831], (536.8685106918658, 916.3618347567535), (537.965826125619, 914.3660634800347), (541.5874907487992, 894.5607595895148), (546.1341759264443, 866.1904183037063), (548.1077517019759, 846.9710937445128), (546.8232392054424, 825.9390319040917), (546.8958574112244, 796.6092383595795), (555.8906872742591, 774.8889278483235), (562.9205798692265, 753.5192475725455), (566.0351617511109, 723.6954011054476), (568.9812587099784, 701.9135200722601), (570.7904800338555, 682.5705801545878), (572.0253073151746, 655.3347893201487), (571.5486097631067, 636.4814203155963), (570.7693680423006, 612.1606317384776), (572.635611207188, 590.2414713373705), (574.1656525169153, 569.8341360146392), (576.1667801953998, 542.3614237152334), (578.1282804848723, 523.9289474385789), (580.6410750301233, 501.02392804871215), np.array([np.nan, np.nan]), np.array([np.nan, np.nan]), (582.1997420974418, 475.1007414476379), (588.3930746876018, 403.8952843814146), (593.1500882830323, 384.6824832070706), np.array([np.nan, np.nan]), (596.4757194490121, 359.30340110825495), np.array([np.nan, np.nan]), np.array([np.nan, np.nan]), (609.7556374695245, 314.51007158859056), (612.9522348007297, 244.81113887227002), np.array([np.nan, np.nan]), (614.4768211936405, 219.95444189187896), np.array([np.nan, np.nan]), (616.7586989569447, 172.99719628876824), (617.8017705405762, 128.25464830896183), (616.7644015875331, 106.6328481429959), (614.7673256245066, 31.14671524096383), (613.021732845815, 14.813363748488584)]\n",
    "# # Créer une image vide de taille appropriée (par exemple, 400x400 pixels)\n",
    "# image = np.zeros((1080, 1440))\n",
    "\n",
    "# # Placer les points du vecteur 'posit' sur l'image en utilisant la valeur maximale de 1\n",
    "# for (x, y) in posit:\n",
    "#     # On arrondit les coordonnées pour qu'elles correspondent à des indices valides dans l'image\n",
    "#     image[int(round(y)), int(round(x))] = 1\n",
    "\n",
    "# # Afficher l'image avec imshow\n",
    "# plt.imshow(image, cmap='gray', origin='lower')\n",
    "# plt.title('Points sur l\\'image')\n",
    "\n",
    "# # Afficher les points avec un scatter (en superposition sur l'image)\n",
    "# x_coords, y_coords = zip(*posit)\n",
    "# plt.scatter(x_coords, y_coords, color='red', label='Points', marker='x')\n",
    "\n",
    "# # Ajouter une légende\n",
    "# plt.legend()\n",
    "\n",
    "# # Afficher l'image\n",
    "# plt.show()"
   ]
  },
  {
   "cell_type": "code",
   "execution_count": 262,
   "id": "b7a84351",
   "metadata": {},
   "outputs": [
    {
     "name": "stdout",
     "output_type": "stream",
     "text": [
      "[[9.90529351e-05 1.68841506e-04]\n",
      " [9.87838060e-05 1.68610578e-04]\n",
      " [9.89857120e-05 1.68243356e-04]\n",
      " [9.96520983e-05 1.64599180e-04]\n",
      " [1.00488688e-04 1.59379037e-04]\n",
      " [1.00851826e-04 1.55842681e-04]\n",
      " [1.00615476e-04 1.51972782e-04]\n",
      " [1.00628838e-04 1.46576100e-04]\n",
      " [1.02283886e-04 1.42579563e-04]\n",
      " [1.03577387e-04 1.38647542e-04]\n",
      " [1.04150470e-04 1.33159954e-04]\n",
      " [1.04692552e-04 1.29152088e-04]\n",
      " [1.05025448e-04 1.25592987e-04]\n",
      " [1.05252657e-04 1.20581601e-04]\n",
      " [1.05164944e-04 1.17112581e-04]\n",
      " [1.05021564e-04 1.12637556e-04]\n",
      " [1.05364952e-04 1.08604431e-04]\n",
      " [1.05646480e-04 1.04849481e-04]\n",
      " [1.06014688e-04 9.97945020e-05]\n",
      " [1.06375604e-04 9.64029263e-05]\n",
      " [1.06837958e-04 9.21884028e-05]\n",
      " [           nan            nan]]\n"
     ]
    }
   ],
   "source": [
    "pixel_size = 3.45 # Taille absolue\n",
    "f2 = 150  # Focale de L2\n",
    "M_theo = 20  # Magnification of the objective\n",
    "pxl = pixel_size / (f2 * M_theo / 160)  # Pixel size in um dans le plan de la particule\n",
    "\n",
    "sigma_arr=np.array(sigma_list)* pxl * 10**(-6)\n",
    "position_arr=np.array(position_list)* pxl * 10**(-6)\n",
    "print(position_arr)"
   ]
  },
  {
   "cell_type": "code",
   "execution_count": null,
   "id": "80bd2c2b",
   "metadata": {},
   "outputs": [],
   "source": []
  },
  {
   "cell_type": "code",
   "execution_count": 275,
   "id": "3381e213",
   "metadata": {},
   "outputs": [
    {
     "data": {
      "text/plain": [
       "(array([4.04904956e-11, 9.37733161e-11, 1.02055572e-10, 1.11111809e-10,\n",
       "        1.38889118e-10, 1.56939419e-10, 1.65351152e-10, 1.86139319e-10,\n",
       "        1.95679065e-10, 1.96301950e-10, 2.07044912e-10, 2.06166481e-10,\n",
       "        1.97696821e-10, 1.90926401e-10, 1.65991995e-10, 1.40905610e-10,\n",
       "        1.13390030e-10, 6.13755400e-11, 1.35570643e-11, 0.00000000e+00]),\n",
       " array([1.57654267e-11, 2.33973652e-11, 2.41103388e-11, 2.71709800e-11,\n",
       "        2.96145890e-11, 3.29703950e-11, 3.55713341e-11, 3.82167967e-11,\n",
       "        4.16063066e-11, 4.32739118e-11, 4.54784977e-11, 4.81438752e-11,\n",
       "        4.90613108e-11, 4.96309766e-11, 4.93048651e-11, 4.86559705e-11,\n",
       "        4.24728125e-11, 2.17849915e-11, 3.36220042e-12, 0.00000000e+00]))"
      ]
     },
     "execution_count": 275,
     "metadata": {},
     "output_type": "execute_result"
    }
   ],
   "source": [
    "def calculate_msd_with_uncertainty(position_arr, delta_x, delta_y):\n",
    "    \"\"\"\n",
    "    Calcule les MSD avec propagation des incertitudes analytiques.\n",
    "    \"\"\"\n",
    "    if position_arr[0:].shape[0] != delta_x[0:].shape :\n",
    "        position_arr=position_arr[:len(position_arr)-1]\n",
    "\n",
    "    # Traitement Lucien\n",
    "    diff_pairs = np.zeros_like(position_arr[1:])\n",
    "    #diff_pairs = np.zeros(len(position_arr[1:]))  # Un tableau 1D pour les différences\n",
    "    dx = np.zeros_like(delta_x[1:])\n",
    "    dy = np.zeros_like(delta_y[1:])\n",
    "\n",
    "    # Masque pour détecter les NaN\n",
    "    nan_mask_pos = np.isnan(position_arr[1:]) | np.isnan(position_arr[:-1])\n",
    "    nan_mask_delta = np.isnan(delta_x[1:]) | np.isnan(delta_x[:-1])\n",
    "    \n",
    "    # Calculer les différences uniquement où nan_mask est False\n",
    "    valid_mask_pos = ~nan_mask_pos.any(axis=1)  # Inverser le masque pour obtenir les position_arr valides\n",
    "    valid_mask_delta = ~nan_mask_delta\n",
    "    \n",
    "    diff_pairs[valid_mask_pos] = position_arr[1:][valid_mask_pos, :] - position_arr[:-1][valid_mask_pos, :]\n",
    "    # Calculer les différences en x uniquement (prendre la première colonne des positions)\n",
    "    #diff_pairs[valid_mask_pos] = position_arr[1:][valid_mask_pos, 0] - position_arr[:-1][valid_mask_pos, 0]\n",
    "\n",
    "    vitesse_moyenne = np.mean(diff_pairs,axis=0)\n",
    "    \n",
    "    temps = np.arange(0,len(position_arr))  # vecteur de temps\n",
    "\n",
    "    # Appliquer la soustraction terme à terme\n",
    "    nouvelles_données = position_arr - vitesse_moyenne * temps[:, np.newaxis]    \n",
    "\n",
    "    msd = []\n",
    "    uncertainties = []\n",
    "    for d in range(1, len(nouvelles_données)):\n",
    "        diff_pairs = np.zeros_like(nouvelles_données[d:])\n",
    "        #diff_pairs = np.zeros(len(position_arr[d:]))  # Un tableau 1D pour les différences\n",
    "        dx = np.zeros_like(delta_x[d:])\n",
    "        dy = np.zeros_like(delta_y[d:])\n",
    "\n",
    "        # Masque pour détecter les NaN\n",
    "        nan_mask_pos = np.isnan(nouvelles_données[d:]) | np.isnan(nouvelles_données[:-d])\n",
    "        nan_mask_delta = np.isnan(delta_x[d:]) | np.isnan(delta_x[:-d])\n",
    "        \n",
    "        # Calculer les différences uniquement où nan_mask est False\n",
    "        valid_mask_pos = ~nan_mask_pos.any(axis=1)  # Inverser le masque pour obtenir les position_arr valides\n",
    "        valid_mask_delta = ~nan_mask_delta\n",
    "        \n",
    "        diff_pairs[valid_mask_pos] = nouvelles_données[d:][valid_mask_pos, :] - nouvelles_données[:-d][valid_mask_pos, :]\n",
    "        # Calculer les différences en x uniquement (prendre la première colonne des positions)\n",
    "        #diff_pairs[valid_mask_pos] = position_arr[d:][valid_mask_pos, 0] - position_arr[:-d][valid_mask_pos, 0]\n",
    "\n",
    "        distances_squared = np.sum(diff_pairs**2)#, axis=1)\n",
    "        msd.append(np.mean(distances_squared))  \n",
    "        \n",
    "        dx[valid_mask_delta] = delta_x[d:][valid_mask_delta] + delta_x[:-d][valid_mask_delta]\n",
    "        dy[valid_mask_delta] = delta_y[d:][valid_mask_delta] + delta_y[:-d][valid_mask_delta]\n",
    "        term_x = 2 * (diff_pairs[:, 0]**2) * (dx**2)\n",
    "        term_y = 2 * (diff_pairs[:, 1]**2) * (dy**2)\n",
    "\n",
    "        #term_x = 2 * (diff_pairs**2) * (dx**2)  # Utilisation uniquement de diff_pairs pour x\n",
    "        #term_y = np.zeros_like(term_x)  # Ne pas utiliser dy car on ne calcule pas la distance en y\n",
    "        \n",
    "        # Propagation des incertitudes\n",
    "        total_uncertainty = np.mean(term_x + term_y)\n",
    "        uncertainties.append(np.sqrt(total_uncertainty))\n",
    "\n",
    "    return np.array(msd), np.array(uncertainties)\n",
    "\n",
    "calculate_msd_with_uncertainty(position_arr, sigma_arr[:, 0], sigma_arr[:, 1])"
   ]
  },
  {
   "cell_type": "markdown",
   "id": "c355c5f0-6c28-4f45-abbe-9d17f257161b",
   "metadata": {},
   "source": [
    "# Résultats"
   ]
  },
  {
   "cell_type": "code",
   "execution_count": 276,
   "id": "4fb3cff6-dfd3-4c03-96fa-219eb0185e70",
   "metadata": {
    "execution": {
     "iopub.execute_input": "2024-11-27T00:35:56.812822Z",
     "iopub.status.busy": "2024-11-27T00:35:56.812598Z",
     "iopub.status.idle": "2024-11-27T00:35:56.821085Z",
     "shell.execute_reply": "2024-11-27T00:35:56.819985Z",
     "shell.execute_reply.started": "2024-11-27T00:35:56.812806Z"
    }
   },
   "outputs": [
    {
     "name": "stdout",
     "output_type": "stream",
     "text": [
      "coucou\n"
     ]
    }
   ],
   "source": [
    "# Assuming msd_values is the result of your MSD calculation\n",
    "msd_values, uncertainties = calculate_msd_with_uncertainty(position_arr, sigma_arr[:, 0], sigma_arr[:, 1])\n",
    "print('coucou')\n",
    "# Time intervals for the x-axis (assuming a uniform time step)\n",
    "time_intervals = np.arange(1, len(msd_values) + 1) * 0.5\n",
    "\n",
    "# Plotting the MSD\n",
    "plt.figure(figsize=(8, 6))\n",
    "plt.errorbar(time_intervals, msd_values, yerr=uncertainties, fmt='o', label='MSD', color='blue')\n",
    "\n",
    "# Customize the plot\n",
    "plt.title(\"MSD en fonction de l'intervalle de temps\")\n",
    "plt.xlabel(\"Intervalle de temps\")\n",
    "plt.ylabel(\"MSD\")\n",
    "plt.grid(True)\n",
    "plt.legend()\n",
    "\n",
    "# Show the plot\n",
    "plt.show()"
   ]
  },
  {
   "cell_type": "code",
   "execution_count": 277,
   "id": "cf9032b2",
   "metadata": {},
   "outputs": [
    {
     "name": "stdout",
     "output_type": "stream",
     "text": [
      "Coefficients du polynôme ajusté :\n",
      "[2.39132179e-11 2.44162004e-11]\n",
      "Matrice de covariance des coefficients :\n",
      "[[ 2.15696154e-23 -5.13397595e-23]\n",
      " [-5.13397595e-23  1.64992016e-22]]\n",
      "Incertitudes sur les coefficients : [4.64431000e-12 1.28449218e-11]\n",
      "Taille de la particule (m): 3.67e-08 m, avec une incertitude : 7.14e-09\n"
     ]
    }
   ],
   "source": [
    "# Fonction quadratique pour l'ajustement\n",
    "def quadratic(x, a, b, c):\n",
    "    return a * x**2 + b * x + c\n",
    "def line(x, b,c):\n",
    "    return b*x+c\n",
    "\n",
    "# Assuming msd_values is the result of your MSD calculation\n",
    "msd_values, uncertainties = calculate_msd_with_uncertainty(position_arr, sigma_arr[:, 0], sigma_arr[:, 1])\n",
    "\n",
    "cropped_msd = msd_values[:5]\n",
    "cropped_inc = uncertainties[:5]\n",
    "\n",
    "# Time intervals for the x-axis (assuming a uniform time step)\n",
    "time_intervals = np.arange(1, len(cropped_msd) + 1)\n",
    "\n",
    "# Perform a quadratic fit using curve_fit, which gives both coefficients and covariance matrix\n",
    "bounds = ([-np.inf, -np.inf, -np.inf], [np.inf, np.inf, np.inf])\n",
    "popt, pcov = curve_fit(line, time_intervals, cropped_msd, sigma=cropped_inc)\n",
    "\n",
    "# popt contains the optimal coefficients\n",
    "coeffs = popt\n",
    "\n",
    "# pcov is the covariance matrix, which we can use to compute uncertainties\n",
    "coeff_uncertainties = np.sqrt(np.diag(pcov))  # Incertitudes sur les coefficients sont les éléments diagonaux\n",
    "\n",
    "# Affichage des coefficients séparément\n",
    "print(\"Coefficients du polynôme ajusté :\")\n",
    "print(coeffs)\n",
    "\n",
    "# Affichage de la matrice de covariance séparément\n",
    "print(\"Matrice de covariance des coefficients :\")\n",
    "print(pcov)\n",
    "\n",
    "# Création de la fonction quadratique de l'ajustement\n",
    "quadratic_fit = np.poly1d(coeffs)\n",
    "\n",
    "# Génération des valeurs ajustées pour afficher la courbe\n",
    "fitted_msd = quadratic_fit(time_intervals)\n",
    "\n",
    "# Affichage du MSD avec les barres d'erreur\n",
    "plt.figure(figsize=(8, 6))\n",
    "plt.errorbar(time_intervals, cropped_msd, yerr=cropped_inc, fmt='o', label='MSD', color='blue')\n",
    "plt.plot(time_intervals, fitted_msd, label='Quadratic Fit', color='red', linestyle='--')\n",
    "\n",
    "# Personnalisation du graphique\n",
    "plt.title(\"MSD en fonction de l'intervalle de temps\")\n",
    "plt.xlabel(\"Intervalle de temps\")\n",
    "plt.ylabel(\"MSD\")\n",
    "plt.grid(True)\n",
    "plt.legend()\n",
    "\n",
    "# Afficher le graphique\n",
    "plt.show()\n",
    "\n",
    "# Affichage des incertitudes sur les coefficients\n",
    "print(f\"Incertitudes sur les coefficients : {coeff_uncertainties}\")\n",
    "\n",
    "# Calcul du coefficient de diffusion et de la taille de la particule\n",
    "r = (4 * 1.38 * 10**-23 * 300 / (6 * np.pi * 10**(-3) * coeffs[0]))  # Coefficient de diffusion\n",
    "r_uncertainty = (4 * 1.38 * 10**(-23) * 300 * coeff_uncertainties[0] / (6 * np.pi * 10**(-3) * (coeffs[0])**2))  # Coefficient de diffusion\n",
    "\n",
    "# Affichage de la taille de la particule avec incertitude\n",
    "print(f\"Taille de la particule (m): {r:.2e} m, avec une incertitude : {r_uncertainty:.2e}\")\n"
   ]
  },
  {
   "cell_type": "code",
   "execution_count": 278,
   "id": "c1e619f1",
   "metadata": {},
   "outputs": [
    {
     "name": "stdout",
     "output_type": "stream",
     "text": [
      "Coefficients du polynôme ajusté :\n",
      "[2.39132179e-11 2.44162004e-11]\n",
      "Matrice de covariance des coefficients :\n",
      "[[ 2.15696154e-23 -5.13397595e-23]\n",
      " [-5.13397595e-23  1.64992016e-22]]\n",
      "Incertitudes sur les coefficients : [4.64431000e-12 1.28449218e-11]\n",
      "Taille de la particule (m): 3.60e-08 m, avec une incertitude : 1.89e-08\n"
     ]
    }
   ],
   "source": [
    "#3.48315140e-12 -2.34531178e-13  2.27994622e-12\n",
    "# Perform a quadratic fit using curve_fit, which gives both coefficients and covariance matrix\n",
    "# bounds = ([-np.inf, 0, -np.inf], [np.inf, 1, np.inf])\n",
    "popt, pcov = curve_fit(line, time_intervals, cropped_msd, sigma=cropped_inc)\n",
    "\n",
    "# popt contains the optimal coefficients\n",
    "coeffs = popt\n",
    "\n",
    "# pcov is the covariance matrix, which we can use to compute uncertainties\n",
    "coeff_uncertainties = np.sqrt(np.diag(pcov))  # Incertitudes sur les coefficients sont les éléments diagonaux\n",
    "\n",
    "# Affichage des coefficients séparément\n",
    "print(\"Coefficients du polynôme ajusté :\")\n",
    "print(coeffs)\n",
    "\n",
    "# Affichage de la matrice de covariance séparément\n",
    "print(\"Matrice de covariance des coefficients :\")\n",
    "print(pcov)\n",
    "\n",
    "# Affichage du MSD avec les barres d'erreur\n",
    "plt.figure(figsize=(8, 6))\n",
    "plt.errorbar(time_intervals, cropped_msd, yerr=cropped_inc, fmt='o', label='MSD', color='blue')\n",
    "\n",
    "# Personnalisation du graphique\n",
    "plt.title(\"MSD en fonction de l'intervalle de temps\")\n",
    "plt.xlabel(\"Intervalle de temps\")\n",
    "plt.ylabel(\"MSD\")\n",
    "plt.grid(True)\n",
    "plt.legend()\n",
    "\n",
    "# Afficher le graphique\n",
    "plt.show()\n",
    "\n",
    "# Affichage des incertitudes sur les coefficients\n",
    "print(f\"Incertitudes sur les coefficients : {coeff_uncertainties}\")\n",
    "\n",
    "# Calcul du coefficient de diffusion et de la taille de la particule\n",
    "r = (4 * 1.38 * 10**-23 * 300 / (6 * np.pi * 10**(-3) * coeffs[1]))  # Coefficient de diffusion\n",
    "r_uncertainty = (4 * 1.38 * 10**(-23) * 300 * coeff_uncertainties[1] / (6 * np.pi * 10**(-3) * (coeffs[1])**2))  # Coefficient de diffusion\n",
    "\n",
    "# Affichage de la taille de la particule avec incertitude\n",
    "print(f\"Taille de la particule (m): {r:.2e} m, avec une incertitude : {r_uncertainty:.2e}\")\n"
   ]
  },
  {
   "cell_type": "code",
   "execution_count": 279,
   "id": "625b1770-9368-4a91-baa2-a62960106b77",
   "metadata": {
    "execution": {
     "iopub.execute_input": "2024-11-27T00:35:56.821952Z",
     "iopub.status.busy": "2024-11-27T00:35:56.821739Z",
     "iopub.status.idle": "2024-11-27T00:35:56.893091Z",
     "shell.execute_reply": "2024-11-27T00:35:56.891915Z",
     "shell.execute_reply.started": "2024-11-27T00:35:56.821935Z"
    }
   },
   "outputs": [],
   "source": [
    "x_plt, y_plt = zip(*position_list)\n",
    "# Create the plot\n",
    "plt.figure(figsize=(10, 8))  # Optional: Adjust the figure size\n",
    "plt.plot(x_plt, y_plt, marker='o', linestyle='-', color='b', label='Connected Points')\n",
    "\n",
    "# Inverser l'axe Y\n",
    "plt.gca().invert_yaxis()\n",
    "\n",
    "# Set grid limits to match the 1440x1080 grid\n",
    "plt.xlim(0, 1440)\n",
    "plt.ylim(0, 1080)\n",
    "\n",
    "# Add labels and title\n",
    "plt.xlabel('X-axis')\n",
    "plt.ylabel('Y-axis')\n",
    "plt.title('2D Connected Points Plot')\n",
    "plt.legend()\n",
    "\n",
    "# Optional: Add grid lines\n",
    "plt.grid(True)\n",
    "\n",
    "# Afficher le graphique\n",
    "plt.show()"
   ]
  },
  {
   "cell_type": "markdown",
   "id": "5fae7658-ee40-44d3-ace6-763079316aca",
   "metadata": {},
   "source": [
    "## anim toutes les particules"
   ]
  },
  {
   "cell_type": "code",
   "execution_count": 280,
   "id": "3f852688-0624-4f98-bc43-437e31b430a4",
   "metadata": {
    "execution": {
     "iopub.execute_input": "2024-11-27T00:35:56.894366Z",
     "iopub.status.busy": "2024-11-27T00:35:56.894056Z",
     "iopub.status.idle": "2024-11-27T00:35:56.898702Z",
     "shell.execute_reply": "2024-11-27T00:35:56.897463Z",
     "shell.execute_reply.started": "2024-11-27T00:35:56.894346Z"
    }
   },
   "outputs": [],
   "source": [
    "fig, ax = plt.subplots()\n",
    "img = ax.imshow(big_frames[0], origin='lower', cmap='gray', animated=True)\n",
    "\n",
    "\n",
    "# Update function\n",
    "def update(frame):\n",
    "    img.set_array(frame)\n",
    "    return img,\n",
    "    \n",
    "ani = animation.FuncAnimation(fig, update, frames=big_frames, interval=50, blit=True)\n",
    "plt.show()"
   ]
  },
  {
   "cell_type": "markdown",
   "id": "111a50d8-6fce-40cc-bf48-775bfd002c3d",
   "metadata": {},
   "source": [
    "## anim crop"
   ]
  },
  {
   "cell_type": "code",
   "execution_count": 281,
   "id": "0d6554b7-0c86-4ee5-8a32-4bd994f881f4",
   "metadata": {
    "execution": {
     "iopub.execute_input": "2024-11-27T00:35:56.899778Z",
     "iopub.status.busy": "2024-11-27T00:35:56.899533Z",
     "iopub.status.idle": "2024-11-27T00:35:56.955616Z",
     "shell.execute_reply": "2024-11-27T00:35:56.954725Z",
     "shell.execute_reply.started": "2024-11-27T00:35:56.899759Z"
    }
   },
   "outputs": [],
   "source": [
    "fig, ax = plt.subplots()\n",
    "img = ax.imshow(crop_frames[0], origin='lower', cmap='gray', animated=True)\n",
    "\n",
    "\n",
    "def update(frame):\n",
    "    img.set_array(frame)\n",
    "    return img,\n",
    "    \n",
    "ani = animation.FuncAnimation(fig, update, frames=crop_frames, interval=50, blit=True)\n",
    "plt.show()"
   ]
  },
  {
   "cell_type": "code",
   "execution_count": null,
   "id": "a57b3c57-a5c5-4f11-b5ce-c32e975a7d83",
   "metadata": {},
   "outputs": [],
   "source": []
  }
 ],
 "metadata": {
  "kernelspec": {
   "display_name": "Python 3",
   "language": "python",
   "name": "python3"
  },
  "language_info": {
   "codemirror_mode": {
    "name": "ipython",
    "version": 3
   },
   "file_extension": ".py",
   "mimetype": "text/x-python",
   "name": "python",
   "nbconvert_exporter": "python",
   "pygments_lexer": "ipython3",
   "version": "3.12.7"
  }
 },
 "nbformat": 4,
 "nbformat_minor": 5
}
