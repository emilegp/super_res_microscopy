{
 "cells": [
  {
   "cell_type": "markdown",
   "id": "a1bbf155-d46a-4bbb-a7bc-6857ef1672de",
   "metadata": {},
   "source": [
    "# Initialisation"
   ]
  },
  {
   "cell_type": "code",
   "execution_count": 724,
   "id": "49fff9c0-1a10-465b-b5d6-cf2853a133db",
   "metadata": {
    "execution": {
     "iopub.execute_input": "2024-11-27T00:33:55.015775Z",
     "iopub.status.busy": "2024-11-27T00:33:55.015362Z",
     "iopub.status.idle": "2024-11-27T00:33:56.248500Z",
     "shell.execute_reply": "2024-11-27T00:33:56.247904Z",
     "shell.execute_reply.started": "2024-11-27T00:33:55.015736Z"
    }
   },
   "outputs": [],
   "source": [
    "import matplotlib\n",
    "matplotlib.use('Qt5Agg')  # Utiliser le backend Qt5Agg pour windows\n",
    "import matplotlib.pyplot as plt\n",
    "import matplotlib.animation as animation\n",
    "import cv2\n",
    "import numpy as np\n",
    "import os\n",
    "from PIL import Image\n",
    "import lmfit\n",
    "#%matplotlib tk #pour Linux"
   ]
  },
  {
   "cell_type": "markdown",
   "id": "3c857432-f4a0-4d37-b1c3-d5115974f0f5",
   "metadata": {},
   "source": [
    "# Importer fichier"
   ]
  },
  {
   "cell_type": "code",
   "execution_count": 725,
   "id": "72d00744-e863-4ed8-b83b-112156869997",
   "metadata": {
    "execution": {
     "iopub.execute_input": "2024-11-27T00:33:56.249387Z",
     "iopub.status.busy": "2024-11-27T00:33:56.249142Z",
     "iopub.status.idle": "2024-11-27T00:33:56.288891Z",
     "shell.execute_reply": "2024-11-27T00:33:56.287953Z",
     "shell.execute_reply.started": "2024-11-27T00:33:56.249368Z"
    }
   },
   "outputs": [],
   "source": [
    "path_to_tiff = os.path.join(\"..\", \"acquisition\", \"video_output_carac_150ms_1im_1um.tiff\")\n",
    "\n",
    "tiff = Image.open(path_to_tiff)"
   ]
  },
  {
   "cell_type": "markdown",
   "id": "a9542b9e-bfef-4abf-86f4-db78b05a8be8",
   "metadata": {},
   "source": [
    "# Nombre de frames pas vide"
   ]
  },
  {
   "cell_type": "code",
   "execution_count": 726,
   "id": "dcf8b520-316f-4ac0-b860-fd1d965ea732",
   "metadata": {
    "execution": {
     "iopub.execute_input": "2024-11-27T00:33:56.289986Z",
     "iopub.status.busy": "2024-11-27T00:33:56.289746Z",
     "iopub.status.idle": "2024-11-27T00:33:57.058878Z",
     "shell.execute_reply": "2024-11-27T00:33:57.057944Z",
     "shell.execute_reply.started": "2024-11-27T00:33:56.289967Z"
    }
   },
   "outputs": [
    {
     "name": "stdout",
     "output_type": "stream",
     "text": [
      "All frames processed.\n"
     ]
    },
    {
     "data": {
      "text/plain": [
       "71"
      ]
     },
     "execution_count": 726,
     "metadata": {},
     "output_type": "execute_result"
    }
   ],
   "source": [
    "with Image.open(path_to_tiff) as img:\n",
    "    frame_number = 0\n",
    "    actual_frames = 0\n",
    "    try:\n",
    "        while True:\n",
    "            frame_number += 1\n",
    "            if np.sum(np.array(img)) != 0:\n",
    "                actual_frames += 1\n",
    "                \n",
    "            img.seek(frame_number)\n",
    "    except EOFError:\n",
    "        print(\"All frames processed.\")\n",
    "\n",
    "actual_frames"
   ]
  },
  {
   "cell_type": "markdown",
   "id": "4ce4927e-f7ec-4e65-ad5d-cef9195b6cbc",
   "metadata": {},
   "source": [
    "# 1re frame\n",
    "\n",
    "**Le nombre de frames ignorés n'est pas pris en compte**"
   ]
  },
  {
   "cell_type": "code",
   "execution_count": 727,
   "id": "26577059-48c2-4f3a-8e52-a89c99dbccd3",
   "metadata": {
    "execution": {
     "iopub.execute_input": "2024-11-27T00:33:57.059925Z",
     "iopub.status.busy": "2024-11-27T00:33:57.059662Z",
     "iopub.status.idle": "2024-11-27T00:33:57.082939Z",
     "shell.execute_reply": "2024-11-27T00:33:57.082043Z",
     "shell.execute_reply.started": "2024-11-27T00:33:57.059898Z"
    }
   },
   "outputs": [
    {
     "name": "stdout",
     "output_type": "stream",
     "text": [
      "1\n"
     ]
    }
   ],
   "source": [
    "frame_index = 0\n",
    "tiff.seek(frame_index)\n",
    "original_image = np.array(tiff)\n",
    "\n",
    "while np.sum(original_image) == 0:\n",
    "    frame_index += 1\n",
    "    tiff.seek(frame_index)\n",
    "    original_image = np.array(tiff)\n",
    "    print(frame_index)"
   ]
  },
  {
   "cell_type": "markdown",
   "id": "e1d8711a-7b97-4eb1-8556-60a0ce1f5253",
   "metadata": {},
   "source": [
    "# Traitement d'image"
   ]
  },
  {
   "cell_type": "code",
   "execution_count": 728,
   "id": "3a91746d-ed20-4b11-841a-4384c3c9f610",
   "metadata": {
    "execution": {
     "iopub.execute_input": "2024-11-27T00:33:57.083712Z",
     "iopub.status.busy": "2024-11-27T00:33:57.083500Z",
     "iopub.status.idle": "2024-11-27T00:33:57.942225Z",
     "shell.execute_reply": "2024-11-27T00:33:57.941368Z",
     "shell.execute_reply.started": "2024-11-27T00:33:57.083690Z"
    }
   },
   "outputs": [],
   "source": [
    "clahe = cv2.createCLAHE(clipLimit=10.0, tileGridSize=(30, 30))\n",
    "preprocessed = clahe.apply(original_image)\n",
    "\n",
    "blurred = cv2.medianBlur(preprocessed, 115)\n",
    "preprocessed2 = cv2.subtract(preprocessed, blurred)\n",
    "\n",
    "# Apply Non-Local Means Denoising\n",
    "img = cv2.fastNlMeansDenoising(preprocessed2, None, 15, 7, 41)"
   ]
  },
  {
   "cell_type": "markdown",
   "id": "9f52f7fc-b595-4b76-8cc3-0755544c12bd",
   "metadata": {},
   "source": [
    "# Sélection du point à tracker"
   ]
  },
  {
   "cell_type": "code",
   "execution_count": 729,
   "id": "60e9cbb8-923d-4281-89f9-accc9565c831",
   "metadata": {
    "execution": {
     "iopub.execute_input": "2024-11-27T00:33:57.948819Z",
     "iopub.status.busy": "2024-11-27T00:33:57.948575Z",
     "iopub.status.idle": "2024-11-27T00:34:16.244046Z",
     "shell.execute_reply": "2024-11-27T00:34:16.243397Z",
     "shell.execute_reply.started": "2024-11-27T00:33:57.948800Z"
    }
   },
   "outputs": [
    {
     "name": "stdout",
     "output_type": "stream",
     "text": [
      "Please click on the point you want to select.\n",
      "Selected point: (441.9025974025975, 567.551948051948)\n"
     ]
    }
   ],
   "source": [
    "# Display the image and let the user select a point interactively\n",
    "fig, ax = plt.subplots()\n",
    "ax.imshow(img, cmap='gray')  # Use 'gray' for better visibility of grayscale images\n",
    "plt.title(f\"Frame {frame_index}: Select a point\")\n",
    "\n",
    "# Ask for a point to be selected\n",
    "print(\"Please click on the point you want to select.\")\n",
    "x, y = plt.ginput(1)[0]  # This will get the coordinates of the clicked point\n",
    "print(f\"Selected point: ({x}, {y})\")\n",
    "plt.close()\n",
    "\n",
    "crop_sze = 60"
   ]
  },
  {
   "cell_type": "code",
   "execution_count": 730,
   "id": "fa5711f5",
   "metadata": {},
   "outputs": [],
   "source": [
    "def crop(img, x, y, crop_size):\n",
    "    x_start = int(x - crop_size // 2)\n",
    "    x_end = int(x + crop_size // 2)\n",
    "    y_start = int(y - crop_size // 2)\n",
    "    y_end = int(y + crop_size // 2)\n",
    "\n",
    "    return img[y_start:y_end, x_start:x_end]"
   ]
  },
  {
   "cell_type": "markdown",
   "id": "6a9490a9-7dce-451b-81ff-0ae267584ee3",
   "metadata": {},
   "source": [
    "# Fit gaussien sur le point sélectionné"
   ]
  },
  {
   "cell_type": "code",
   "execution_count": 731,
   "id": "5fc5b874-d129-40a2-985c-03a724b3cb95",
   "metadata": {
    "execution": {
     "iopub.execute_input": "2024-11-27T00:34:16.245037Z",
     "iopub.status.busy": "2024-11-27T00:34:16.244816Z",
     "iopub.status.idle": "2024-11-27T00:34:16.248322Z",
     "shell.execute_reply": "2024-11-27T00:34:16.247669Z",
     "shell.execute_reply.started": "2024-11-27T00:34:16.245020Z"
    }
   },
   "outputs": [],
   "source": [
    "def prepare_data(x, y, z):\n",
    "    return (x.flatten(), y.flatten()), z.flatten()"
   ]
  },
  {
   "cell_type": "code",
   "execution_count": 732,
   "id": "1fb18b6a-7295-4ea7-b0fb-84f5a41fbdbb",
   "metadata": {
    "execution": {
     "iopub.execute_input": "2024-11-27T00:34:16.249457Z",
     "iopub.status.busy": "2024-11-27T00:34:16.248979Z",
     "iopub.status.idle": "2024-11-27T00:34:16.280319Z",
     "shell.execute_reply": "2024-11-27T00:34:16.279600Z",
     "shell.execute_reply.started": "2024-11-27T00:34:16.249435Z"
    }
   },
   "outputs": [],
   "source": [
    "def gaussian_2d(xy, amplitude, x0, y0, sigma_x, sigma_y, offset):\n",
    "    x, y = xy\n",
    "    a = 1 / (2 * sigma_x**2)\n",
    "    b = 1 / (2 * sigma_y**2)\n",
    "    return offset + amplitude * np.exp(- (a * (x - x0)**2 + b * (y - y0)**2))"
   ]
  },
  {
   "cell_type": "code",
   "execution_count": 733,
   "id": "b2f948a1-d8e5-4fa8-acfe-ac569383012d",
   "metadata": {
    "execution": {
     "iopub.execute_input": "2024-11-27T00:34:16.281928Z",
     "iopub.status.busy": "2024-11-27T00:34:16.281279Z",
     "iopub.status.idle": "2024-11-27T00:34:16.286665Z",
     "shell.execute_reply": "2024-11-27T00:34:16.286066Z",
     "shell.execute_reply.started": "2024-11-27T00:34:16.281903Z"
    }
   },
   "outputs": [],
   "source": [
    "def localisateur_gaussien(intensity_grid, maxi):\n",
    "    x = np.arange(intensity_grid.shape[0])\n",
    "    y = np.arange(intensity_grid.shape[1])\n",
    "    X, Y = np.meshgrid(x, y)\n",
    "\n",
    "    # Préparer les données pour le fit\n",
    "    (xdata, ydata), zdata = prepare_data(X, Y, intensity_grid)\n",
    "    model = lmfit.Model(gaussian_2d)\n",
    "    max_idx = np.unravel_index(np.argmax(intensity_grid), intensity_grid.shape)\n",
    "    initial_x0 = x[max_idx[0]]\n",
    "    initial_y0 = y[max_idx[1]]\n",
    "\n",
    "    # Définir les paramètres du modèle\n",
    "    params = model.make_params(\n",
    "        amplitude=np.max(intensity_grid),\n",
    "        x0=initial_x0,\n",
    "        y0=initial_y0,\n",
    "        sigma_x=1,\n",
    "        sigma_y=1,\n",
    "        offset=2\n",
    "    )\n",
    "\n",
    "    # Effectuer l'ajustement\n",
    "    result = model.fit(zdata, params, xy=(xdata, ydata))\n",
    "\n",
    "    x_position = result.params['x0'].value + maxi[0] - crop_sze/2\n",
    "    y_position = result.params['y0'].value + maxi[1] - crop_sze/2\n",
    "\n",
    "    return [x_position, y_position], result.params['sigma_x'].value, result.params['sigma_y'].value"
   ]
  },
  {
   "cell_type": "markdown",
   "id": "647422c5-d9bb-4e71-9481-76349ea02eca",
   "metadata": {},
   "source": [
    "# Process d'image (enlever le bruit)\n",
    "\n",
    "**semble faire du trouble**"
   ]
  },
  {
   "cell_type": "code",
   "execution_count": 734,
   "id": "c3df48fe-ec70-413c-8172-84f9754a0bcf",
   "metadata": {
    "execution": {
     "iopub.execute_input": "2024-11-27T00:34:16.287655Z",
     "iopub.status.busy": "2024-11-27T00:34:16.287395Z",
     "iopub.status.idle": "2024-11-27T00:34:16.291801Z",
     "shell.execute_reply": "2024-11-27T00:34:16.291266Z",
     "shell.execute_reply.started": "2024-11-27T00:34:16.287612Z"
    }
   },
   "outputs": [],
   "source": [
    "def denoise(image):\n",
    "    clahe = cv2.createCLAHE(clipLimit=10.0, tileGridSize=(30, 30))\n",
    "    preprocessed = clahe.apply(image)\n",
    "    \n",
    "    blurred = cv2.medianBlur(preprocessed, 115)\n",
    "    preprocessed2 = cv2.subtract(preprocessed, blurred)\n",
    "    \n",
    "    return cv2.fastNlMeansDenoising(preprocessed2, None, 15, 7, 41)"
   ]
  },
  {
   "cell_type": "markdown",
   "id": "eb65a3ff-f48b-4c28-8c66-4326caaae144",
   "metadata": {},
   "source": [
    "# Passe au prochain frame"
   ]
  },
  {
   "cell_type": "code",
   "execution_count": 735,
   "id": "ce5cd50e-eb81-4b51-a600-e3d315c227d7",
   "metadata": {
    "execution": {
     "iopub.execute_input": "2024-11-27T00:34:16.292788Z",
     "iopub.status.busy": "2024-11-27T00:34:16.292525Z",
     "iopub.status.idle": "2024-11-27T00:34:16.296432Z",
     "shell.execute_reply": "2024-11-27T00:34:16.295813Z",
     "shell.execute_reply.started": "2024-11-27T00:34:16.292769Z"
    }
   },
   "outputs": [],
   "source": [
    "def next_frame(frame_i):\n",
    "    frame_i += 1\n",
    "    tiff.seek(frame_i)\n",
    "    original_image = np.array(tiff)\n",
    "    \n",
    "    while np.sum(original_image) == 0:\n",
    "        frame_i += 1\n",
    "        tiff.seek(frame_i)\n",
    "        original_image = np.array(tiff)\n",
    "\n",
    "    return [frame_i, original_image]"
   ]
  },
  {
   "cell_type": "markdown",
   "id": "20143486",
   "metadata": {},
   "source": [
    "Débogueur"
   ]
  },
  {
   "cell_type": "code",
   "execution_count": 736,
   "id": "e047831f",
   "metadata": {},
   "outputs": [],
   "source": [
    "def visionneur(frame):\n",
    "    plt.figure(figsize=(10, 5))\n",
    "    plt.clf() \n",
    "    plt.imshow(frame, origin='lower', cmap='gray')\n",
    "    plt.title('Grille Zoomée avec Position')\n",
    "    plt.colorbar()  \n",
    "    plt.show()"
   ]
  },
  {
   "cell_type": "markdown",
   "id": "61f2661b-5185-493a-bd25-97d1c42d712c",
   "metadata": {},
   "source": [
    "# Faire le crop et fit"
   ]
  },
  {
   "cell_type": "code",
   "execution_count": null,
   "id": "b695a082-5a85-499e-9183-cfd354b4dc5d",
   "metadata": {
    "execution": {
     "iopub.execute_input": "2024-11-27T00:34:16.297421Z",
     "iopub.status.busy": "2024-11-27T00:34:16.297176Z",
     "iopub.status.idle": "2024-11-27T00:34:16.301468Z",
     "shell.execute_reply": "2024-11-27T00:34:16.300888Z",
     "shell.execute_reply.started": "2024-11-27T00:34:16.297403Z"
    }
   },
   "outputs": [],
   "source": [
    "def particle_tracker(image, x, y):\n",
    "    image = denoise(image)\n",
    "    #print(positions[frame_index][0],positions[frame_index][1])\n",
    "\n",
    "    cropped_img = crop(image, x, y, crop_sze)\n",
    "    \n",
    "    #Gérer plus qu'une particule\n",
    "    cropped_img = np.array(cropped_img)\n",
    "    max_index = np.argmax(cropped_img)\n",
    "    max_coords = np.unravel_index(max_index, cropped_img.shape)\n",
    "    #print(F'coordonnées du max dans le premier crop: ({max_coords[1]},{max_coords[0]})')\n",
    "    #if frame_index>8:\n",
    "    #    visionneur(cropped_img)\n",
    "\n",
    "    nouveau_x = x - crop_sze // 2 + max_coords[1]\n",
    "    nouveau_y = y - crop_sze // 2 + max_coords[0]\n",
    "\n",
    "    #print(f'(x,y) central du second crop: {nouveau_x, nouveau_y}')\n",
    "    \n",
    "    second_crop = crop(image, nouveau_x, nouveau_y, crop_sze)    # Re-crop autour d'une seule particule\n",
    "\n",
    "    #if frame_index>8:\n",
    "    #    visionneur(second_crop)\n",
    "\n",
    "\n",
    "    result_fit = localisateur_gaussien(second_crop, [x, y])\n",
    "    #print(f'écart-type: ({result_fit[1]}, {result_fit[2]})')\n",
    "\n",
    "    x_new, y_new = result_fit[0][0], result_fit[0][1]\n",
    "    #print(f'Positions finales de l index {frame_index}: ({x_new}, {y_new}) ')\n",
    "    return [result_fit, cropped_img, (x_new, y_new), (result_fit[1], result_fit[2])]"
   ]
  },
  {
   "cell_type": "markdown",
   "id": "8002acc8-bac7-4c69-846a-381ee31f08ff",
   "metadata": {},
   "source": [
    "# Main loop"
   ]
  },
  {
   "cell_type": "code",
   "execution_count": null,
   "id": "e7a5dba4-849a-4171-8fbb-6d05453ed795",
   "metadata": {
    "execution": {
     "iopub.execute_input": "2024-11-27T00:34:16.302483Z",
     "iopub.status.busy": "2024-11-27T00:34:16.302259Z",
     "iopub.status.idle": "2024-11-27T00:35:56.804477Z",
     "shell.execute_reply": "2024-11-27T00:35:56.803536Z",
     "shell.execute_reply.started": "2024-11-27T00:34:16.302464Z"
    }
   },
   "outputs": [
    {
     "name": "stdout",
     "output_type": "stream",
     "text": [
      "frame index: 1 et len(positions): 2\n",
      "frame index: 2 et len(positions): 3\n",
      "frame index: 3 et len(positions): 4\n",
      "frame index: 4 et len(positions): 5\n",
      "frame index: 5 et len(positions): 6\n",
      "frame index: 6 et len(positions): 7\n",
      "frame index: 7 et len(positions): 8\n",
      "frame index: 8 et len(positions): 9\n",
      "frame index: 9 et len(positions): 10\n",
      "frame index: 10 et len(positions): 11\n",
      "frame index: 11 et len(positions): 12\n",
      "frame index: 12 et len(positions): 13\n",
      "frame index: 13 et len(positions): 14\n",
      "frame index: 14 et len(positions): 15\n",
      "frame index: 15 et len(positions): 16\n",
      "frame index: 16 et len(positions): 17\n",
      "frame index: 17 et len(positions): 18\n",
      "frame index: 18 et len(positions): 19\n",
      "frame index: 19 et len(positions): 20\n",
      "frame index: 20 et len(positions): 21\n",
      "frame index: 21 et len(positions): 22\n",
      "frame index: 22 et len(positions): 23\n",
      "frame index: 23 et len(positions): 24\n",
      "frame index: 24 et len(positions): 25\n",
      "frame index: 25 et len(positions): 26\n",
      "frame index: 26 et len(positions): 27\n"
     ]
    }
   ],
   "source": [
    "position_list = [(x,y)]\n",
    "sigma_list = []\n",
    "crop_frames = []\n",
    "big_frames = []\n",
    "\n",
    "for _ in range(27 - 1):\n",
    "    print(f'frame index: {frame_index} et len(positions): {len(position_list)}')\n",
    "    data = particle_tracker(img, position_list, frame_index)\n",
    "    position_list.append(data[2])\n",
    "    sigma_list.append(data[3])\n",
    "    frame_index, img = next_frame(frame_index)\n",
    "    big_frames.append(img)\n",
    "    crop_frames.append(data[1])"
   ]
  },
  {
   "cell_type": "markdown",
   "id": "c355c5f0-6c28-4f45-abbe-9d17f257161b",
   "metadata": {},
   "source": [
    "# Résultats"
   ]
  },
  {
   "cell_type": "code",
   "execution_count": 739,
   "id": "2a6241a8-7a37-4b69-a66c-0a24bed76fb8",
   "metadata": {
    "execution": {
     "iopub.execute_input": "2024-11-27T00:35:56.805695Z",
     "iopub.status.busy": "2024-11-27T00:35:56.805472Z",
     "iopub.status.idle": "2024-11-27T00:35:56.811852Z",
     "shell.execute_reply": "2024-11-27T00:35:56.810929Z",
     "shell.execute_reply.started": "2024-11-27T00:35:56.805678Z"
    }
   },
   "outputs": [
    {
     "data": {
      "text/plain": [
       "[(441.9025974025975, 567.551948051948),\n",
       " (441.9025974025975, 567.551948051948),\n",
       " (441.5872714824088, 568.5913168655402),\n",
       " (441.2407357431485, 567.7405687180908),\n",
       " (441.2152557489715, 568.9325811006646),\n",
       " (441.4673673118123, 569.3407716993431),\n",
       " (441.9374028302384, 569.3606436889775),\n",
       " (441.74379141782276, 570.0539052368566),\n",
       " (441.616175454853, 571.3094452452121),\n",
       " (441.7313177847689, 570.0113240564632),\n",
       " (442.0142281329039, 571.049460834359),\n",
       " (442.87402700720736, 573.3073044258916),\n",
       " (442.5430988722535, 573.2811529943147),\n",
       " (441.85200654161935, 573.5775964188261),\n",
       " (440.9094038622981, 573.6505209644198),\n",
       " (441.87161336982786, 578.9985824771967),\n",
       " (441.84823725402, 579.7334846445752),\n",
       " (442.1501661165205, 579.8617786578852),\n",
       " (442.90248597508696, 580.1847602968634),\n",
       " (443.08696981196607, 579.3524263880744),\n",
       " (442.58102087952915, 580.503881026763),\n",
       " (442.4632463549858, 580.6867390745042),\n",
       " (442.47386508136225, 581.2792277022494),\n",
       " (443.12295304479204, 582.0272075271115),\n",
       " (442.97486559022127, 582.4035820508266),\n",
       " (443.4199674215565, 585.044186604988),\n",
       " (443.75667263993506, 586.0140289974926),\n",
       " (444.234756030611, 586.6140318615703)]"
      ]
     },
     "execution_count": 739,
     "metadata": {},
     "output_type": "execute_result"
    }
   ],
   "source": [
    "position_list"
   ]
  },
  {
   "cell_type": "code",
   "execution_count": 740,
   "id": "4fb3cff6-dfd3-4c03-96fa-219eb0185e70",
   "metadata": {
    "execution": {
     "iopub.execute_input": "2024-11-27T00:35:56.812822Z",
     "iopub.status.busy": "2024-11-27T00:35:56.812598Z",
     "iopub.status.idle": "2024-11-27T00:35:56.821085Z",
     "shell.execute_reply": "2024-11-27T00:35:56.819985Z",
     "shell.execute_reply.started": "2024-11-27T00:35:56.812806Z"
    }
   },
   "outputs": [
    {
     "data": {
      "text/plain": [
       "[(3.270192918749122, 4.431043381239054),\n",
       " (3.0979480431155832, 4.810740694666396),\n",
       " (2.8831378310239457, 4.475510479030111),\n",
       " (2.616603939117088, 4.729771306006793),\n",
       " (2.802100552617834, 4.663950255091089),\n",
       " (2.568253605428795, 4.0285793726748444),\n",
       " (2.471514270604141, 4.152259541658073),\n",
       " (2.9319420045507365, 4.070628381006426),\n",
       " (2.700670206288887, 4.2127177518819705),\n",
       " (3.0624039939963636, 4.644773809831006),\n",
       " (2.8619425705644974, 4.390351154122787),\n",
       " (2.8997495695960533, 4.370676042885759),\n",
       " (3.4689114130485543, 4.645606006696235),\n",
       " (3.216146557675548, 5.103353603075927),\n",
       " (2.852139404756468, 4.6724468676730835),\n",
       " (2.9209605167300645, 4.236550790195615),\n",
       " (2.9266789513322204, 4.520172242747669),\n",
       " (2.7725322875695713, 4.397371916795202),\n",
       " (2.7410707225813664, 4.899395941306493),\n",
       " (3.116833629494117, 4.6441268315830815),\n",
       " (2.703607018194674, 4.4226581560628695),\n",
       " (2.913579154413197, 4.8052843483714085),\n",
       " (3.096148961915269, 4.437438191479247),\n",
       " (3.0476152376350827, 4.729363026949236),\n",
       " (2.8846086132363618, 4.78234063013508),\n",
       " (2.6464561616290445, 4.0671071738783615)]"
      ]
     },
     "execution_count": 740,
     "metadata": {},
     "output_type": "execute_result"
    }
   ],
   "source": [
    "sigma_list"
   ]
  },
  {
   "cell_type": "code",
   "execution_count": 741,
   "id": "625b1770-9368-4a91-baa2-a62960106b77",
   "metadata": {
    "execution": {
     "iopub.execute_input": "2024-11-27T00:35:56.821952Z",
     "iopub.status.busy": "2024-11-27T00:35:56.821739Z",
     "iopub.status.idle": "2024-11-27T00:35:56.893091Z",
     "shell.execute_reply": "2024-11-27T00:35:56.891915Z",
     "shell.execute_reply.started": "2024-11-27T00:35:56.821935Z"
    }
   },
   "outputs": [],
   "source": [
    "x_plt, y_plt = zip(*position_list)\n",
    "# Create the plot\n",
    "plt.figure(figsize=(10, 8))  # Optional: Adjust the figure size\n",
    "plt.plot(x_plt, y_plt, marker='o', linestyle='-', color='b', label='Connected Points')\n",
    "\n",
    "# Set grid limits to match the 1440x1080 grid\n",
    "plt.xlim(0, 1440)\n",
    "plt.ylim(0, 1080)\n",
    "\n",
    "# Add labels and title\n",
    "plt.xlabel('X-axis')\n",
    "plt.ylabel('Y-axis')\n",
    "plt.title('2D Connected Points Plot')\n",
    "plt.legend()\n",
    "\n",
    "# Optional: Add grid lines\n",
    "plt.grid(True)"
   ]
  },
  {
   "cell_type": "markdown",
   "id": "5fae7658-ee40-44d3-ace6-763079316aca",
   "metadata": {},
   "source": [
    "## anim toutes les particules"
   ]
  },
  {
   "cell_type": "code",
   "execution_count": 742,
   "id": "3f852688-0624-4f98-bc43-437e31b430a4",
   "metadata": {
    "execution": {
     "iopub.execute_input": "2024-11-27T00:35:56.894366Z",
     "iopub.status.busy": "2024-11-27T00:35:56.894056Z",
     "iopub.status.idle": "2024-11-27T00:35:56.898702Z",
     "shell.execute_reply": "2024-11-27T00:35:56.897463Z",
     "shell.execute_reply.started": "2024-11-27T00:35:56.894346Z"
    }
   },
   "outputs": [],
   "source": [
    "fig, ax = plt.subplots()\n",
    "img = ax.imshow(big_frames[0], cmap='gray', animated=True)\n",
    "\n",
    "\n",
    "# Update function\n",
    "def update(frame):\n",
    "    img.set_array(frame)\n",
    "    return img,\n",
    "    \n",
    "ani = animation.FuncAnimation(fig, update, frames=big_frames, interval=50, blit=True)\n",
    "plt.show()"
   ]
  },
  {
   "cell_type": "markdown",
   "id": "111a50d8-6fce-40cc-bf48-775bfd002c3d",
   "metadata": {},
   "source": [
    "## anim crop"
   ]
  },
  {
   "cell_type": "code",
   "execution_count": 743,
   "id": "0d6554b7-0c86-4ee5-8a32-4bd994f881f4",
   "metadata": {
    "execution": {
     "iopub.execute_input": "2024-11-27T00:35:56.899778Z",
     "iopub.status.busy": "2024-11-27T00:35:56.899533Z",
     "iopub.status.idle": "2024-11-27T00:35:56.955616Z",
     "shell.execute_reply": "2024-11-27T00:35:56.954725Z",
     "shell.execute_reply.started": "2024-11-27T00:35:56.899759Z"
    }
   },
   "outputs": [],
   "source": [
    "fig, ax = plt.subplots()\n",
    "img = ax.imshow(crop_frames[0], cmap='gray', animated=True)\n",
    "\n",
    "\n",
    "def update(frame):\n",
    "    img.set_array(frame)\n",
    "    return img,\n",
    "    \n",
    "ani = animation.FuncAnimation(fig, update, frames=crop_frames, interval=50, blit=True)\n",
    "plt.show()"
   ]
  },
  {
   "cell_type": "code",
   "execution_count": null,
   "id": "a57b3c57-a5c5-4f11-b5ce-c32e975a7d83",
   "metadata": {},
   "outputs": [],
   "source": []
  }
 ],
 "metadata": {
  "kernelspec": {
   "display_name": "Python 3",
   "language": "python",
   "name": "python3"
  },
  "language_info": {
   "codemirror_mode": {
    "name": "ipython",
    "version": 3
   },
   "file_extension": ".py",
   "mimetype": "text/x-python",
   "name": "python",
   "nbconvert_exporter": "python",
   "pygments_lexer": "ipython3",
   "version": "3.12.7"
  }
 },
 "nbformat": 4,
 "nbformat_minor": 5
}
