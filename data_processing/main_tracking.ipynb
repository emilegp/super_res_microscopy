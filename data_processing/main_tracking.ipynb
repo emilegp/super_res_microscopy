{
 "cells": [
  {
   "cell_type": "markdown",
   "id": "a1bbf155-d46a-4bbb-a7bc-6857ef1672de",
   "metadata": {},
   "source": [
    "# Initialisation"
   ]
  },
  {
   "cell_type": "code",
   "execution_count": null,
   "id": "49fff9c0-1a10-465b-b5d6-cf2853a133db",
   "metadata": {
    "execution": {
     "iopub.execute_input": "2024-11-27T00:33:55.015775Z",
     "iopub.status.busy": "2024-11-27T00:33:55.015362Z",
     "iopub.status.idle": "2024-11-27T00:33:56.248500Z",
     "shell.execute_reply": "2024-11-27T00:33:56.247904Z",
     "shell.execute_reply.started": "2024-11-27T00:33:55.015736Z"
    }
   },
   "outputs": [],
   "source": [
    "import matplotlib\n",
    "matplotlib.use('Qt5Agg')  # Utiliser le backend Qt5Agg pour Windows\n",
    "import matplotlib.pyplot as plt\n",
    "import matplotlib.animation as animation\n",
    "from scipy.optimize import curve_fit\n",
    "import cv2\n",
    "import numpy as np\n",
    "import os\n",
    "from PIL import Image\n",
    "import lmfit\n",
    "#import tifffile\n",
    "#%matplotlib tk #pour Linux"
   ]
  },
  {
   "cell_type": "code",
   "execution_count": 1043,
   "id": "5244023b",
   "metadata": {},
   "outputs": [],
   "source": [
    "import scipy.ndimage as ndimage\n",
    "from sklearn.cluster import DBSCAN"
   ]
  },
  {
   "cell_type": "markdown",
   "id": "3c857432-f4a0-4d37-b1c3-d5115974f0f5",
   "metadata": {},
   "source": [
    "# Importer fichier"
   ]
  },
  {
   "cell_type": "code",
   "execution_count": 1044,
   "id": "72d00744-e863-4ed8-b83b-112156869997",
   "metadata": {
    "execution": {
     "iopub.execute_input": "2024-11-27T00:33:56.249387Z",
     "iopub.status.busy": "2024-11-27T00:33:56.249142Z",
     "iopub.status.idle": "2024-11-27T00:33:56.288891Z",
     "shell.execute_reply": "2024-11-27T00:33:56.287953Z",
     "shell.execute_reply.started": "2024-11-27T00:33:56.249368Z"
    }
   },
   "outputs": [],
   "source": [
    "path_to_tiff = os.path.join(\"..\", \"acquisition\", \"video_output_carac_150ms_1im_1um.tiff\")\n",
    "\n",
    "tiff = Image.open(path_to_tiff)"
   ]
  },
  {
   "cell_type": "markdown",
   "id": "a9542b9e-bfef-4abf-86f4-db78b05a8be8",
   "metadata": {},
   "source": [
    "# Nombre de frames pas vide"
   ]
  },
  {
   "cell_type": "code",
   "execution_count": 1045,
   "id": "dcf8b520-316f-4ac0-b860-fd1d965ea732",
   "metadata": {
    "execution": {
     "iopub.execute_input": "2024-11-27T00:33:56.289986Z",
     "iopub.status.busy": "2024-11-27T00:33:56.289746Z",
     "iopub.status.idle": "2024-11-27T00:33:57.058878Z",
     "shell.execute_reply": "2024-11-27T00:33:57.057944Z",
     "shell.execute_reply.started": "2024-11-27T00:33:56.289967Z"
    }
   },
   "outputs": [
    {
     "name": "stdout",
     "output_type": "stream",
     "text": [
      "All frames processed.\n"
     ]
    },
    {
     "data": {
      "text/plain": [
       "71"
      ]
     },
     "execution_count": 1045,
     "metadata": {},
     "output_type": "execute_result"
    }
   ],
   "source": [
    "with Image.open(path_to_tiff) as img:\n",
    "    frame_number = 0\n",
    "    actual_frames = 0\n",
    "    try:\n",
    "        while True:\n",
    "            frame_number += 1\n",
    "            if np.sum(np.array(img)) != 0:\n",
    "                actual_frames += 1\n",
    "                \n",
    "            img.seek(frame_number)\n",
    "    except EOFError:\n",
    "        print(\"All frames processed.\")\n",
    "\n",
    "actual_frames"
   ]
  },
  {
   "cell_type": "markdown",
   "id": "4ce4927e-f7ec-4e65-ad5d-cef9195b6cbc",
   "metadata": {},
   "source": [
    "# 1re frame\n",
    "\n",
    "**Le nombre de frames ignorés n'est pas pris en compte**"
   ]
  },
  {
   "cell_type": "code",
   "execution_count": 1046,
   "id": "26577059-48c2-4f3a-8e52-a89c99dbccd3",
   "metadata": {
    "execution": {
     "iopub.execute_input": "2024-11-27T00:33:57.059925Z",
     "iopub.status.busy": "2024-11-27T00:33:57.059662Z",
     "iopub.status.idle": "2024-11-27T00:33:57.082939Z",
     "shell.execute_reply": "2024-11-27T00:33:57.082043Z",
     "shell.execute_reply.started": "2024-11-27T00:33:57.059898Z"
    }
   },
   "outputs": [
    {
     "name": "stdout",
     "output_type": "stream",
     "text": [
      "1\n"
     ]
    }
   ],
   "source": [
    "frame_index = 0\n",
    "first_frame = 0\n",
    "tiff.seek(frame_index)\n",
    "original_image = np.array(tiff)\n",
    "\n",
    "while np.sum(original_image) == 0:\n",
    "    frame_index += 1\n",
    "    tiff.seek(frame_index)\n",
    "    original_image = np.array(tiff)\n",
    "    first_frame += 1\n",
    "    print(frame_index)\n",
    "\n",
    "\n"
   ]
  },
  {
   "cell_type": "markdown",
   "id": "e1d8711a-7b97-4eb1-8556-60a0ce1f5253",
   "metadata": {},
   "source": [
    "# Traitement d'image"
   ]
  },
  {
   "cell_type": "code",
   "execution_count": null,
   "id": "3a91746d-ed20-4b11-841a-4384c3c9f610",
   "metadata": {
    "execution": {
     "iopub.execute_input": "2024-11-27T00:33:57.083712Z",
     "iopub.status.busy": "2024-11-27T00:33:57.083500Z",
     "iopub.status.idle": "2024-11-27T00:33:57.942225Z",
     "shell.execute_reply": "2024-11-27T00:33:57.941368Z",
     "shell.execute_reply.started": "2024-11-27T00:33:57.083690Z"
    }
   },
   "outputs": [
    {
     "name": "stdout",
     "output_type": "stream",
     "text": [
      "[[ 9 10 10 ... 11 11 11]\n",
      " [10 10 10 ... 11 11 11]\n",
      " [ 9  9 10 ... 11 12 12]\n",
      " ...\n",
      " [ 9  9 10 ...  8  8  8]\n",
      " [ 8  9  9 ...  8  8  8]\n",
      " [ 8  9  9 ...  8  9  8]]\n"
     ]
    }
   ],
   "source": [
    "clahe = cv2.createCLAHE(clipLimit=10.0, tileGridSize=(30, 30))\n",
    "preprocessed = clahe.apply(original_image)\n",
    "\n",
    "blurred = cv2.medianBlur(preprocessed, 115)\n",
    "preprocessed2 = cv2.subtract(preprocessed, blurred)\n",
    "\n",
    "# Apply Non-Local Means Denoising\n",
    "img = cv2.fastNlMeansDenoising(preprocessed2, None, 15, 7, 41)\n"
   ]
  },
  {
   "cell_type": "markdown",
   "id": "9f52f7fc-b595-4b76-8cc3-0755544c12bd",
   "metadata": {},
   "source": [
    "# Sélection du point à tracker"
   ]
  },
  {
   "cell_type": "code",
   "execution_count": 1048,
   "id": "5a934439-4314-4c28-a4cd-c0d9113c98e9",
   "metadata": {
    "execution": {
     "iopub.execute_input": "2024-11-27T00:33:57.944451Z",
     "iopub.status.busy": "2024-11-27T00:33:57.944269Z",
     "iopub.status.idle": "2024-11-27T00:33:57.947894Z",
     "shell.execute_reply": "2024-11-27T00:33:57.947259Z",
     "shell.execute_reply.started": "2024-11-27T00:33:57.944433Z"
    }
   },
   "outputs": [],
   "source": [
    "def crop(img, x, y, crop_size_x, crop_size_y):\n",
    "    x_start = int(x - crop_size_x // 2)\n",
    "    x_end = int(x + crop_size_x // 2)\n",
    "    y_start = int(y - crop_size_y // 2)\n",
    "    y_end = int(y + crop_size_y // 2)\n",
    "\n",
    "    return img[y_start:y_end, x_start:x_end]"
   ]
  },
  {
   "cell_type": "code",
   "execution_count": 1049,
   "id": "60e9cbb8-923d-4281-89f9-accc9565c831",
   "metadata": {
    "execution": {
     "iopub.execute_input": "2024-11-27T00:33:57.948819Z",
     "iopub.status.busy": "2024-11-27T00:33:57.948575Z",
     "iopub.status.idle": "2024-11-27T00:34:16.244046Z",
     "shell.execute_reply": "2024-11-27T00:34:16.243397Z",
     "shell.execute_reply.started": "2024-11-27T00:33:57.948800Z"
    }
   },
   "outputs": [
    {
     "name": "stdout",
     "output_type": "stream",
     "text": [
      "Please click on the point you want to select.\n"
     ]
    },
    {
     "ename": "KeyboardInterrupt",
     "evalue": "",
     "output_type": "error",
     "traceback": [
      "\u001b[1;31m---------------------------------------------------------------------------\u001b[0m",
      "\u001b[1;31mKeyboardInterrupt\u001b[0m                         Traceback (most recent call last)",
      "Cell \u001b[1;32mIn[1049], line 8\u001b[0m\n\u001b[0;32m      6\u001b[0m \u001b[38;5;66;03m# Ask for a point to be selected\u001b[39;00m\n\u001b[0;32m      7\u001b[0m \u001b[38;5;28mprint\u001b[39m(\u001b[38;5;124m\"\u001b[39m\u001b[38;5;124mPlease click on the point you want to select.\u001b[39m\u001b[38;5;124m\"\u001b[39m)\n\u001b[1;32m----> 8\u001b[0m x, y \u001b[38;5;241m=\u001b[39m \u001b[43mplt\u001b[49m\u001b[38;5;241;43m.\u001b[39;49m\u001b[43mginput\u001b[49m\u001b[43m(\u001b[49m\u001b[38;5;241;43m1\u001b[39;49m\u001b[43m)\u001b[49m[\u001b[38;5;241m0\u001b[39m]  \u001b[38;5;66;03m# This will get the coordinates of the clicked point\u001b[39;00m\n\u001b[0;32m      9\u001b[0m \u001b[38;5;28mprint\u001b[39m(\u001b[38;5;124mf\u001b[39m\u001b[38;5;124m\"\u001b[39m\u001b[38;5;124mSelected point: (\u001b[39m\u001b[38;5;132;01m{\u001b[39;00mx\u001b[38;5;132;01m}\u001b[39;00m\u001b[38;5;124m, \u001b[39m\u001b[38;5;132;01m{\u001b[39;00my\u001b[38;5;132;01m}\u001b[39;00m\u001b[38;5;124m)\u001b[39m\u001b[38;5;124m\"\u001b[39m)\n\u001b[0;32m     10\u001b[0m plt\u001b[38;5;241m.\u001b[39mclose()\n",
      "File \u001b[1;32m~\\AppData\\Local\\Packages\\PythonSoftwareFoundation.Python.3.12_qbz5n2kfra8p0\\LocalCache\\local-packages\\Python312\\site-packages\\matplotlib\\pyplot.py:2761\u001b[0m, in \u001b[0;36mginput\u001b[1;34m(n, timeout, show_clicks, mouse_add, mouse_pop, mouse_stop)\u001b[0m\n\u001b[0;32m   2752\u001b[0m \u001b[38;5;129m@_copy_docstring_and_deprecators\u001b[39m(Figure\u001b[38;5;241m.\u001b[39mginput)\n\u001b[0;32m   2753\u001b[0m \u001b[38;5;28;01mdef\u001b[39;00m \u001b[38;5;21mginput\u001b[39m(\n\u001b[0;32m   2754\u001b[0m     n: \u001b[38;5;28mint\u001b[39m \u001b[38;5;241m=\u001b[39m \u001b[38;5;241m1\u001b[39m,\n\u001b[1;32m   (...)\u001b[0m\n\u001b[0;32m   2759\u001b[0m     mouse_stop: MouseButton \u001b[38;5;241m=\u001b[39m MouseButton\u001b[38;5;241m.\u001b[39mMIDDLE,\n\u001b[0;32m   2760\u001b[0m ) \u001b[38;5;241m-\u001b[39m\u001b[38;5;241m>\u001b[39m \u001b[38;5;28mlist\u001b[39m[\u001b[38;5;28mtuple\u001b[39m[\u001b[38;5;28mint\u001b[39m, \u001b[38;5;28mint\u001b[39m]]:\n\u001b[1;32m-> 2761\u001b[0m     \u001b[38;5;28;01mreturn\u001b[39;00m \u001b[43mgcf\u001b[49m\u001b[43m(\u001b[49m\u001b[43m)\u001b[49m\u001b[38;5;241;43m.\u001b[39;49m\u001b[43mginput\u001b[49m\u001b[43m(\u001b[49m\n\u001b[0;32m   2762\u001b[0m \u001b[43m        \u001b[49m\u001b[43mn\u001b[49m\u001b[38;5;241;43m=\u001b[39;49m\u001b[43mn\u001b[49m\u001b[43m,\u001b[49m\n\u001b[0;32m   2763\u001b[0m \u001b[43m        \u001b[49m\u001b[43mtimeout\u001b[49m\u001b[38;5;241;43m=\u001b[39;49m\u001b[43mtimeout\u001b[49m\u001b[43m,\u001b[49m\n\u001b[0;32m   2764\u001b[0m \u001b[43m        \u001b[49m\u001b[43mshow_clicks\u001b[49m\u001b[38;5;241;43m=\u001b[39;49m\u001b[43mshow_clicks\u001b[49m\u001b[43m,\u001b[49m\n\u001b[0;32m   2765\u001b[0m \u001b[43m        \u001b[49m\u001b[43mmouse_add\u001b[49m\u001b[38;5;241;43m=\u001b[39;49m\u001b[43mmouse_add\u001b[49m\u001b[43m,\u001b[49m\n\u001b[0;32m   2766\u001b[0m \u001b[43m        \u001b[49m\u001b[43mmouse_pop\u001b[49m\u001b[38;5;241;43m=\u001b[39;49m\u001b[43mmouse_pop\u001b[49m\u001b[43m,\u001b[49m\n\u001b[0;32m   2767\u001b[0m \u001b[43m        \u001b[49m\u001b[43mmouse_stop\u001b[49m\u001b[38;5;241;43m=\u001b[39;49m\u001b[43mmouse_stop\u001b[49m\u001b[43m,\u001b[49m\n\u001b[0;32m   2768\u001b[0m \u001b[43m    \u001b[49m\u001b[43m)\u001b[49m\n",
      "File \u001b[1;32m~\\AppData\\Local\\Packages\\PythonSoftwareFoundation.Python.3.12_qbz5n2kfra8p0\\LocalCache\\local-packages\\Python312\\site-packages\\matplotlib\\figure.py:3483\u001b[0m, in \u001b[0;36mFigure.ginput\u001b[1;34m(self, n, timeout, show_clicks, mouse_add, mouse_pop, mouse_stop)\u001b[0m\n\u001b[0;32m   3480\u001b[0m     \u001b[38;5;28;01mif\u001b[39;00m \u001b[38;5;28mlen\u001b[39m(clicks) \u001b[38;5;241m==\u001b[39m n \u001b[38;5;129;01mand\u001b[39;00m n \u001b[38;5;241m>\u001b[39m \u001b[38;5;241m0\u001b[39m:\n\u001b[0;32m   3481\u001b[0m         \u001b[38;5;28mself\u001b[39m\u001b[38;5;241m.\u001b[39mcanvas\u001b[38;5;241m.\u001b[39mstop_event_loop()\n\u001b[1;32m-> 3483\u001b[0m \u001b[43m_blocking_input\u001b[49m\u001b[38;5;241;43m.\u001b[39;49m\u001b[43mblocking_input_loop\u001b[49m\u001b[43m(\u001b[49m\n\u001b[0;32m   3484\u001b[0m \u001b[43m    \u001b[49m\u001b[38;5;28;43mself\u001b[39;49m\u001b[43m,\u001b[49m\u001b[43m \u001b[49m\u001b[43m[\u001b[49m\u001b[38;5;124;43m\"\u001b[39;49m\u001b[38;5;124;43mbutton_press_event\u001b[39;49m\u001b[38;5;124;43m\"\u001b[39;49m\u001b[43m,\u001b[49m\u001b[43m \u001b[49m\u001b[38;5;124;43m\"\u001b[39;49m\u001b[38;5;124;43mkey_press_event\u001b[39;49m\u001b[38;5;124;43m\"\u001b[39;49m\u001b[43m]\u001b[49m\u001b[43m,\u001b[49m\u001b[43m \u001b[49m\u001b[43mtimeout\u001b[49m\u001b[43m,\u001b[49m\u001b[43m \u001b[49m\u001b[43mhandler\u001b[49m\u001b[43m)\u001b[49m\n\u001b[0;32m   3486\u001b[0m \u001b[38;5;66;03m# Cleanup.\u001b[39;00m\n\u001b[0;32m   3487\u001b[0m \u001b[38;5;28;01mfor\u001b[39;00m mark \u001b[38;5;129;01min\u001b[39;00m marks:\n",
      "File \u001b[1;32m~\\AppData\\Local\\Packages\\PythonSoftwareFoundation.Python.3.12_qbz5n2kfra8p0\\LocalCache\\local-packages\\Python312\\site-packages\\matplotlib\\_blocking_input.py:26\u001b[0m, in \u001b[0;36mblocking_input_loop\u001b[1;34m(figure, event_names, timeout, handler)\u001b[0m\n\u001b[0;32m     24\u001b[0m cids \u001b[38;5;241m=\u001b[39m [figure\u001b[38;5;241m.\u001b[39mcanvas\u001b[38;5;241m.\u001b[39mmpl_connect(name, handler) \u001b[38;5;28;01mfor\u001b[39;00m name \u001b[38;5;129;01min\u001b[39;00m event_names]\n\u001b[0;32m     25\u001b[0m \u001b[38;5;28;01mtry\u001b[39;00m:\n\u001b[1;32m---> 26\u001b[0m     \u001b[43mfigure\u001b[49m\u001b[38;5;241;43m.\u001b[39;49m\u001b[43mcanvas\u001b[49m\u001b[38;5;241;43m.\u001b[39;49m\u001b[43mstart_event_loop\u001b[49m\u001b[43m(\u001b[49m\u001b[43mtimeout\u001b[49m\u001b[43m)\u001b[49m  \u001b[38;5;66;03m# Start event loop.\u001b[39;00m\n\u001b[0;32m     27\u001b[0m \u001b[38;5;28;01mfinally\u001b[39;00m:  \u001b[38;5;66;03m# Run even on exception like ctrl-c.\u001b[39;00m\n\u001b[0;32m     28\u001b[0m     \u001b[38;5;66;03m# Disconnect the callbacks.\u001b[39;00m\n\u001b[0;32m     29\u001b[0m     \u001b[38;5;28;01mfor\u001b[39;00m cid \u001b[38;5;129;01min\u001b[39;00m cids:\n",
      "File \u001b[1;32m~\\AppData\\Local\\Packages\\PythonSoftwareFoundation.Python.3.12_qbz5n2kfra8p0\\LocalCache\\local-packages\\Python312\\site-packages\\matplotlib\\backends\\backend_qt.py:451\u001b[0m, in \u001b[0;36mFigureCanvasQT.start_event_loop\u001b[1;34m(self, timeout)\u001b[0m\n\u001b[0;32m    448\u001b[0m \u001b[38;5;28;01mif\u001b[39;00m timeout \u001b[38;5;241m>\u001b[39m \u001b[38;5;241m0\u001b[39m:\n\u001b[0;32m    449\u001b[0m     _ \u001b[38;5;241m=\u001b[39m QtCore\u001b[38;5;241m.\u001b[39mQTimer\u001b[38;5;241m.\u001b[39msingleShot(\u001b[38;5;28mint\u001b[39m(timeout \u001b[38;5;241m*\u001b[39m \u001b[38;5;241m1000\u001b[39m), event_loop\u001b[38;5;241m.\u001b[39mquit)\n\u001b[1;32m--> 451\u001b[0m \u001b[38;5;28;01mwith\u001b[39;00m \u001b[43m_allow_interrupt_qt\u001b[49m\u001b[43m(\u001b[49m\u001b[43mevent_loop\u001b[49m\u001b[43m)\u001b[49m:\n\u001b[0;32m    452\u001b[0m     qt_compat\u001b[38;5;241m.\u001b[39m_exec(event_loop)\n",
      "File \u001b[1;32mC:\\Program Files\\WindowsApps\\PythonSoftwareFoundation.Python.3.12_3.12.2032.0_x64__qbz5n2kfra8p0\\Lib\\contextlib.py:144\u001b[0m, in \u001b[0;36m_GeneratorContextManager.__exit__\u001b[1;34m(self, typ, value, traceback)\u001b[0m\n\u001b[0;32m    142\u001b[0m \u001b[38;5;28;01mif\u001b[39;00m typ \u001b[38;5;129;01mis\u001b[39;00m \u001b[38;5;28;01mNone\u001b[39;00m:\n\u001b[0;32m    143\u001b[0m     \u001b[38;5;28;01mtry\u001b[39;00m:\n\u001b[1;32m--> 144\u001b[0m         \u001b[38;5;28;43mnext\u001b[39;49m\u001b[43m(\u001b[49m\u001b[38;5;28;43mself\u001b[39;49m\u001b[38;5;241;43m.\u001b[39;49m\u001b[43mgen\u001b[49m\u001b[43m)\u001b[49m\n\u001b[0;32m    145\u001b[0m     \u001b[38;5;28;01mexcept\u001b[39;00m \u001b[38;5;167;01mStopIteration\u001b[39;00m:\n\u001b[0;32m    146\u001b[0m         \u001b[38;5;28;01mreturn\u001b[39;00m \u001b[38;5;28;01mFalse\u001b[39;00m\n",
      "File \u001b[1;32m~\\AppData\\Local\\Packages\\PythonSoftwareFoundation.Python.3.12_qbz5n2kfra8p0\\LocalCache\\local-packages\\Python312\\site-packages\\matplotlib\\backend_bases.py:1672\u001b[0m, in \u001b[0;36m_allow_interrupt\u001b[1;34m(prepare_notifier, handle_sigint)\u001b[0m\n\u001b[0;32m   1670\u001b[0m signal\u001b[38;5;241m.\u001b[39msignal(signal\u001b[38;5;241m.\u001b[39mSIGINT, old_sigint_handler)\n\u001b[0;32m   1671\u001b[0m \u001b[38;5;28;01mif\u001b[39;00m handler_args \u001b[38;5;129;01mis\u001b[39;00m \u001b[38;5;129;01mnot\u001b[39;00m \u001b[38;5;28;01mNone\u001b[39;00m:\n\u001b[1;32m-> 1672\u001b[0m     \u001b[43mold_sigint_handler\u001b[49m\u001b[43m(\u001b[49m\u001b[38;5;241;43m*\u001b[39;49m\u001b[43mhandler_args\u001b[49m\u001b[43m)\u001b[49m\n",
      "\u001b[1;31mKeyboardInterrupt\u001b[0m: "
     ]
    }
   ],
   "source": [
    "# Display the image and let the user select a point interactively\n",
    "fig, ax = plt.subplots()\n",
    "ax.imshow(img, origin='lower', cmap='gray')  # Use 'gray' for better visibility of grayscale images\n",
    "plt.title(f\"Frame {frame_index}: Select a point\")\n",
    "\n",
    "# Ask for a point to be selected\n",
    "print(\"Please click on the point you want to select.\")\n",
    "x, y = plt.ginput(1)[0]  # This will get the coordinates of the clicked point\n",
    "print(f\"Selected point: ({x}, {y})\")\n",
    "plt.close()\n",
    "\n",
    "crop_sze = crop_sze_x = crop_sze_y = 50"
   ]
  },
  {
   "cell_type": "markdown",
   "id": "383a659b",
   "metadata": {},
   "source": [
    "Debogueur"
   ]
  },
  {
   "cell_type": "code",
   "execution_count": null,
   "id": "6184609f",
   "metadata": {},
   "outputs": [],
   "source": [
    "def visionneur(frame, titre):\n",
    "    plt.figure(figsize=(10, 5))\n",
    "    plt.clf() \n",
    "    plt.imshow(frame, origin='lower', cmap='gray')\n",
    "    plt.title(titre)\n",
    "    plt.colorbar()  \n",
    "    plt.show()"
   ]
  },
  {
   "cell_type": "markdown",
   "id": "6a9490a9-7dce-451b-81ff-0ae267584ee3",
   "metadata": {},
   "source": [
    "# Fit gaussien sur le point sélectionné"
   ]
  },
  {
   "cell_type": "code",
   "execution_count": null,
   "id": "5fc5b874-d129-40a2-985c-03a724b3cb95",
   "metadata": {
    "execution": {
     "iopub.execute_input": "2024-11-27T00:34:16.245037Z",
     "iopub.status.busy": "2024-11-27T00:34:16.244816Z",
     "iopub.status.idle": "2024-11-27T00:34:16.248322Z",
     "shell.execute_reply": "2024-11-27T00:34:16.247669Z",
     "shell.execute_reply.started": "2024-11-27T00:34:16.245020Z"
    }
   },
   "outputs": [],
   "source": [
    "def prepare_data(x, y, z):\n",
    "    return (x.flatten(), y.flatten()), z.flatten()"
   ]
  },
  {
   "cell_type": "code",
   "execution_count": null,
   "id": "1fb18b6a-7295-4ea7-b0fb-84f5a41fbdbb",
   "metadata": {
    "execution": {
     "iopub.execute_input": "2024-11-27T00:34:16.249457Z",
     "iopub.status.busy": "2024-11-27T00:34:16.248979Z",
     "iopub.status.idle": "2024-11-27T00:34:16.280319Z",
     "shell.execute_reply": "2024-11-27T00:34:16.279600Z",
     "shell.execute_reply.started": "2024-11-27T00:34:16.249435Z"
    }
   },
   "outputs": [],
   "source": [
    "def gaussian_2d(xy, amplitude, x0, y0, sigma_x, sigma_y, offset):\n",
    "    x, y = xy\n",
    "    a = 1 / (2 * sigma_x**2)\n",
    "    b = 1 / (2 * sigma_y**2)\n",
    "    return offset + amplitude * np.exp(- (a * (x - x0)**2 + b * (y - y0)**2))"
   ]
  },
  {
   "cell_type": "code",
   "execution_count": null,
   "id": "b2f948a1-d8e5-4fa8-acfe-ac569383012d",
   "metadata": {
    "execution": {
     "iopub.execute_input": "2024-11-27T00:34:16.281928Z",
     "iopub.status.busy": "2024-11-27T00:34:16.281279Z",
     "iopub.status.idle": "2024-11-27T00:34:16.286665Z",
     "shell.execute_reply": "2024-11-27T00:34:16.286066Z",
     "shell.execute_reply.started": "2024-11-27T00:34:16.281903Z"
    }
   },
   "outputs": [],
   "source": [
    "def localisateur_gaussien(intensity_grid, centre):\n",
    "    x = np.arange(intensity_grid.shape[0])\n",
    "    y = np.arange(intensity_grid.shape[1])\n",
    "    X, Y = np.meshgrid(x, y)\n",
    "\n",
    "    # Préparer les données pour le fit\n",
    "    (xdata, ydata), zdata = prepare_data(X, Y, intensity_grid)\n",
    "    model = lmfit.Model(gaussian_2d)\n",
    "    max_idx = np.unravel_index(np.argmax(intensity_grid), intensity_grid.shape)\n",
    "    initial_x0 = x[max_idx[0]]\n",
    "    initial_y0 = y[max_idx[1]]\n",
    "\n",
    "    # Définir les paramètres du modèle\n",
    "    params = model.make_params(\n",
    "        amplitude=np.max(intensity_grid),\n",
    "        x0=initial_x0,\n",
    "        y0=initial_y0,\n",
    "        sigma_x=1,\n",
    "        sigma_y=1,\n",
    "        offset=2\n",
    "    )\n",
    "\n",
    "    # Effectuer l'ajustement\n",
    "    result = model.fit(zdata, params, xy=(xdata, ydata))\n",
    "    \n",
    "    x_position = result.params['x0'].value + centre[0] - crop_sze_x/2\n",
    "    y_position = result.params['y0'].value + centre[1] - crop_sze_y/2\n",
    "\n",
    "    return [x_position, y_position], result.params['sigma_x'].value, result.params['sigma_y'].value"
   ]
  },
  {
   "cell_type": "markdown",
   "id": "647422c5-d9bb-4e71-9481-76349ea02eca",
   "metadata": {},
   "source": [
    "# Process d'image (enlever le bruit)\n",
    "\n",
    "**semble faire du trouble**"
   ]
  },
  {
   "cell_type": "code",
   "execution_count": null,
   "id": "c3df48fe-ec70-413c-8172-84f9754a0bcf",
   "metadata": {
    "execution": {
     "iopub.execute_input": "2024-11-27T00:34:16.287655Z",
     "iopub.status.busy": "2024-11-27T00:34:16.287395Z",
     "iopub.status.idle": "2024-11-27T00:34:16.291801Z",
     "shell.execute_reply": "2024-11-27T00:34:16.291266Z",
     "shell.execute_reply.started": "2024-11-27T00:34:16.287612Z"
    }
   },
   "outputs": [],
   "source": [
    "def denoise(image):\n",
    "    clahe = cv2.createCLAHE(clipLimit=10.0, tileGridSize=(30, 30))\n",
    "    preprocessed = clahe.apply(image)\n",
    "    \n",
    "    blurred = cv2.medianBlur(preprocessed, 115)\n",
    "    preprocessed2 = cv2.subtract(preprocessed, blurred)\n",
    "    \n",
    "    return cv2.fastNlMeansDenoising(preprocessed2, None, 15, 7, 41)"
   ]
  },
  {
   "cell_type": "markdown",
   "id": "10149e95",
   "metadata": {},
   "source": [
    "# Identifier la particule et donner sa nouvelle position"
   ]
  },
  {
   "cell_type": "code",
   "execution_count": null,
   "id": "11c4d94f",
   "metadata": {},
   "outputs": [],
   "source": [
    "def empreinte_digitale(image, threshold=12, eps=3, min_samples=1):\n",
    "    # 1. Observer chaque particule approximativement\n",
    "    #neighborhood_size = 3  \n",
    "    #local_max = ndimage.maximum_filter(image, size=neighborhood_size)\n",
    "    visionneur(image, f'particule choisie')\n",
    "\n",
    "    maxima = (image > threshold)\n",
    "    \n",
    "    coordinates = np.column_stack(np.where(maxima))  \n",
    "    if coordinates.shape[0] == 0:\n",
    "        print(\"Aucune particule détectée.\")\n",
    "        return [], image\n",
    "\n",
    "    dbscan = DBSCAN(eps=eps, min_samples=min_samples)\n",
    "    labels = dbscan.fit_predict(coordinates)\n",
    "    unique_labels = np.unique(labels)\n",
    "    size=0\n",
    "\n",
    "    # 2. Déterminer l'empreinte digitale de notre particule\n",
    "    for label in unique_labels:\n",
    "        if label != -1:  # -1 correspond au bruit dans DBSCAN\n",
    "            cluster_points = coordinates[labels == label]\n",
    "            plt.scatter(cluster_points[:, 1], cluster_points[:, 0], label=f'Particule {label}')\n",
    "\n",
    "            if cluster_points.shape[0]>size:\n",
    "                size = cluster_points.shape[0]\n",
    "                luminosity = np.mean(image[cluster_points[:, 0], cluster_points[:, 1]])\n",
    "\n",
    "    seuil=np.max(image)*0.5\n",
    "    print(seuil)\n",
    "    # 3. Afficher les résultats et filtrer les particules selon leur taille et luminosité\n",
    "    plt.imshow(image, origin='lower', cmap='gray')\n",
    "    plt.title(f\"Empreinte digitale de la particule, lum={luminosity} et taille={size}\")\n",
    "    plt.legend()\n",
    "    plt.colorbar()  \n",
    "    plt.show()\n",
    "\n",
    "    return size, luminosity, seuil"
   ]
  },
  {
   "cell_type": "code",
   "execution_count": null,
   "id": "f690236d",
   "metadata": {},
   "outputs": [],
   "source": [
    "def detect_nbre_particles(image, threshold, eps=5, min_samples=1):\n",
    "    # 1. Appliquer un filtre de voisinage pour détecter les maxima locaux\n",
    "    neighborhood_size = 3  # Taille du voisinage pour détecter les maxima locaux\n",
    "    local_max = ndimage.maximum_filter(image, size=neighborhood_size)\n",
    "    # 2. Comparer l'image originale et les maxima locaux pour identifier les vrais maxima\n",
    "    maxima = (image == local_max) & (image > threshold)\n",
    "\n",
    "    # 3. Extraire les coordonnées des maxima (particules)\n",
    "    coordinates = np.column_stack(np.where(maxima))  # Extraire les indices des pixels maximaux\n",
    "    if coordinates.shape[0] == 0:\n",
    "        print(\"Aucune particule détectée.\")\n",
    "        visionneur(image, f'détection du nombre de particules')\n",
    "\n",
    "        return [], image\n",
    "\n",
    "    # 4. Appliquer DBSCAN pour regrouper les particules proches (cluster les maxima détectés)\n",
    "    dbscan = DBSCAN(eps=eps, min_samples=min_samples)\n",
    "    labels = dbscan.fit_predict(coordinates)\n",
    "\n",
    "    #5. Déterminer le nombre de particules\n",
    "    unique_labels = np.unique(labels)\n",
    "    nb_particules = len(unique_labels)\n",
    "        \n",
    "    # 6. Afficher les résultats et filtrer les particules selon leur taille et luminosité\n",
    "    # plt.imshow(image, origin='lower', cmap='gray')\n",
    "    # plt.title(\"Détection des particules\")\n",
    "    \n",
    "    positions=[]\n",
    "    for label in unique_labels:\n",
    "        if label != -1:  # -1 correspond au bruit dans DBSCAN\n",
    "            cluster_points = coordinates[labels == label]\n",
    "            plt.scatter(cluster_points[:, 1], cluster_points[:, 0], label=f'Particule {label}')\n",
    "        positions.append((np.mean(cluster_points[:, 1]), np.mean(cluster_points[:, 0])))\n",
    "        \n",
    "\n",
    "    # plt.colorbar()  \n",
    "    # plt.legend()\n",
    "    # plt.show()\n",
    "\n",
    "    # Retourner les coordonnées des particules filtrées\n",
    "    return nb_particules, positions"
   ]
  },
  {
   "cell_type": "code",
   "execution_count": null,
   "id": "ddfe6898",
   "metadata": {},
   "outputs": [],
   "source": [
    "def identificateur_particles(image, ref_size, ref_luminosity, threshold=25, eps=5, min_samples=1):\n",
    "    # 1. Obtenir le plus d'info sur la particule\n",
    "    maxima = (image > threshold)\n",
    "    \n",
    "    coordinates = np.column_stack(np.where(maxima))  \n",
    "    if coordinates.shape[0] == 0:\n",
    "        print(\"Mauvais re-crop empêche identification de la particule.\")\n",
    "        return [], image\n",
    "\n",
    "    dbscan = DBSCAN(eps=eps, min_samples=min_samples)\n",
    "    labels = dbscan.fit_predict(coordinates)\n",
    "    unique_labels = np.unique(labels)\n",
    "\n",
    "    # 2. Parcourir chaque particule et identifier laquelle est celle qu'on suit\n",
    "    distances = []\n",
    "    position_particules = []\n",
    "\n",
    "    for label in unique_labels:\n",
    "        if label != -1:  # -1 correspond au bruit dans DBSCAN\n",
    "            cluster_points = coordinates[labels == label]\n",
    "            \n",
    "            size = cluster_points.shape[0]\n",
    "            luminosity = np.mean(image[cluster_points[:, 0], cluster_points[:, 1]])\n",
    "            size_distance = abs(size - ref_size)  \n",
    "            luminosity_distance = abs(luminosity - ref_luminosity)  \n",
    "            combined_distance = size_distance + luminosity_distance\n",
    "            distances.append(combined_distance)\n",
    "            position_particules.append((np.mean(cluster_points[:, 1]), np.mean(cluster_points[:, 0])))\n",
    "\n",
    "    ecart = np.min(distances)\n",
    "    position_best_particle = position_particules[np.argmin(distances)]  \n",
    "    print(f'ecrat: {ecart}')\n",
    "    # 3. Afficher les résultats et filtrer les particules selon leur taille et luminosité\n",
    "    # plt.imshow(image, origin='lower', cmap='gray')\n",
    "    # plt.title(\"Détection des particules\")\n",
    "    # plt.scatter(position_best_particle[0], position_best_particle[1], color='r', label=f'Particule sélectionnée')\n",
    "    # plt.legend()\n",
    "    # plt.colorbar()  \n",
    "    # plt.show()\n",
    "\n",
    "    return position_best_particle, ecart"
   ]
  },
  {
   "cell_type": "markdown",
   "id": "61f2661b-5185-493a-bd25-97d1c42d712c",
   "metadata": {},
   "source": [
    "# Faire le crop et fit"
   ]
  },
  {
   "cell_type": "code",
   "execution_count": null,
   "id": "b695a082-5a85-499e-9183-cfd354b4dc5d",
   "metadata": {
    "execution": {
     "iopub.execute_input": "2024-11-27T00:34:16.297421Z",
     "iopub.status.busy": "2024-11-27T00:34:16.297176Z",
     "iopub.status.idle": "2024-11-27T00:34:16.301468Z",
     "shell.execute_reply": "2024-11-27T00:34:16.300888Z",
     "shell.execute_reply.started": "2024-11-27T00:34:16.297403Z"
    }
   },
   "outputs": [],
   "source": [
    "def particle_tracker_simple(image, x, y):\n",
    "    image = denoise(image)\n",
    "\n",
    "    cropped_img = crop(image, x, y, crop_sze_x, crop_sze_y)\n",
    "    \n",
    "    #Gérer plus qu'une particule\n",
    "    cropped_img = np.array(cropped_img)\n",
    "    max_index = np.argmax(cropped_img)\n",
    "    max_coords = np.unravel_index(max_index, cropped_img.shape)\n",
    "\n",
    "    nouveau_x = x - crop_sze_x // 2 + max_coords[1]\n",
    "    nouveau_y = y - crop_sze_y // 2 + max_coords[0]\n",
    "    \n",
    "    second_crop = crop(image, nouveau_x, nouveau_y, crop_sze_x, crop_sze_y)    # Re-crop autour d'une seule particule\n",
    "\n",
    "    result_fit = localisateur_gaussien(second_crop, [nouveau_x, nouveau_y])\n",
    "\n",
    "    x_new, y_new = result_fit[0][0], result_fit[0][1]\n",
    "\n",
    "    return [result_fit, cropped_img, (x_new, y_new), (result_fit[1], result_fit[2])]"
   ]
  },
  {
   "cell_type": "code",
   "execution_count": null,
   "id": "5625e5b2",
   "metadata": {},
   "outputs": [],
   "source": [
    "#Placés ici pour pouvoir y faire référence dans particule_tracker\n",
    "position_list=[]\n",
    "sigma_list = []\n",
    "crop_frames = []\n",
    "big_frames = []"
   ]
  },
  {
   "cell_type": "code",
   "execution_count": null,
   "id": "0d8ff164",
   "metadata": {},
   "outputs": [],
   "source": [
    "def particle_tracker(imge, x, y, taille_initiale, luminosité_initiale, seuil):\n",
    "    # 1. Ce qu'on voit près de l'ancienne position\n",
    "    image = denoise(imge)\n",
    "\n",
    "    cropped_img = crop(image, x, y, crop_sze_x, crop_sze_y)\n",
    "    \n",
    "    # 2. Déterminer combien il y a de particules et laquelle est la notre\n",
    "    # Utiliser une reconnaissance de particules et si plus qu'une, alors clic pour choisir\n",
    "    nb_part, coordonnées = detect_nbre_particles(cropped_img, seuil)\n",
    "    print(f'coordonnées des {nb_part} particules:{coordonnées}')\n",
    "\n",
    "    if (nb_part == 0) or (nb_part == []):\n",
    "        # Display the image and let the user select a point interactively\n",
    "        fig, ax = plt.subplots()\n",
    "        ax.imshow(denoise(img), origin='lower', cmap='gray') \n",
    "        plt.title(f\"Frame {len(position_list)-1}: Select a point\")\n",
    "\n",
    "        # Ajouter une croix rouge à la position donnée\n",
    "        cx, cy = position_list[len(position_list)-1]\n",
    "        ax.plot(cx, cy, 'rx', markersize=10) \n",
    "        \n",
    "        # Afficher l'image et demander à l'utilisateur de cliquer\n",
    "        print(\"Please click on the point you want to select.\")\n",
    "        nouveau_x, nouveau_y = plt.ginput(1)[0]  # Attente du clic de l'utilisateur (1 point)\n",
    "        print(f\"Selected point: ({nouveau_x}, {nouveau_y})\")\n",
    "        \n",
    "        # Fermer l'affichage après sélection\n",
    "        plt.close()\n",
    "    elif nb_part > 1:\n",
    "        imperfections, emplacements = [] , []\n",
    "        for num_particule in range(nb_part):\n",
    "            x_identifier=x - crop_sze_x // 2 + coordonnées[num_particule][0]\n",
    "            y_identifier=y - crop_sze_y // 2 + coordonnées[num_particule][1]\n",
    "            crop_pour_identifier = crop(image, x_identifier, y_identifier, crop_sze_x//2, crop_sze_y//2)\n",
    "            emplacement, ecart = identificateur_particles(crop_pour_identifier, taille_initiale, luminosité_initiale, seuil)\n",
    "            imperfections.append(ecart)\n",
    "            emplacements.append(emplacement)\n",
    "        qualité = np.min(imperfections)\n",
    "        print(f'écart:{qualité}')\n",
    "        max_coords = emplacements[np.argmin(imperfections)]  \n",
    "        nouveau_x = x_identifier - crop_sze_x // 4 + max_coords[0]\n",
    "        nouveau_y = y_identifier - crop_sze_y // 4 + max_coords[1]\n",
    "    else:\n",
    "        cropped_img = np.array(cropped_img)\n",
    "        max_index = np.argmax(cropped_img)\n",
    "        max_coords = np.unravel_index(max_index, cropped_img.shape)\n",
    "\n",
    "        nouveau_x = x - crop_sze_x // 2 + max_coords[1] #Oui c'est inversé à cause du unravel juste avant\n",
    "        nouveau_y = y - crop_sze_y // 2 + max_coords[0]\n",
    "\n",
    "    \n",
    "    # 3. Crop atour de notre particule et fit dessus\n",
    "    second_crop = crop(image, nouveau_x, nouveau_y, crop_sze_x//2, crop_sze_y//2)    # Re-crop autour d'une seule particule\n",
    "\n",
    "\n",
    "    result_fit = localisateur_gaussien(second_crop, [nouveau_x, nouveau_y])\n",
    "\n",
    "    x_new, y_new = result_fit[0][0], result_fit[0][1]\n",
    "\n",
    "    #Affiche l'accord entre le fit gaussien et le blob (pour comparer)\n",
    "    # x_range = np.arange(crop_sze_x) - crop_sze_x//2 \n",
    "    # y_range = np.arange(crop_sze_y) - crop_sze_y//2\n",
    "    # x_position = x_range + x_new  \n",
    "    # y_position = y_range + y_new \n",
    "    # plt.imshow(second_crop, origin='lower', cmap='gray', extent=[x_position.min(), x_position.max(), y_position.min(), y_position.max()])\n",
    "    # plt.title(\"positionnement de la particule\")\n",
    "    # plt.scatter(x_new, y_new, color='r', label=f'Position estimée par fit gaussien')\n",
    "    # plt.scatter(nouveau_x-12.5, nouveau_y-12.5, color='r', marker='+', label=f'Position meilleure particule')\n",
    "    # plt.legend()\n",
    "    # plt.colorbar()  \n",
    "    # plt.show()\n",
    "\n",
    "    return [result_fit, second_crop, (x_new, y_new), (result_fit[1], result_fit[2])]"
   ]
  },
  {
   "cell_type": "markdown",
   "id": "8002acc8-bac7-4c69-846a-381ee31f08ff",
   "metadata": {},
   "source": [
    "# Main loop"
   ]
  },
  {
   "cell_type": "code",
   "execution_count": null,
   "id": "e7a5dba4-849a-4171-8fbb-6d05453ed795",
   "metadata": {
    "execution": {
     "iopub.execute_input": "2024-11-27T00:34:16.302483Z",
     "iopub.status.busy": "2024-11-27T00:34:16.302259Z",
     "iopub.status.idle": "2024-11-27T00:35:56.804477Z",
     "shell.execute_reply": "2024-11-27T00:35:56.803536Z",
     "shell.execute_reply.started": "2024-11-27T00:34:16.302464Z"
    }
   },
   "outputs": [
    {
     "name": "stdout",
     "output_type": "stream",
     "text": [
      "23.0\n",
      "coordonnées des 1 particules:[(24.0, 18.5)]\n",
      "[(430.5034903903251, 556.7643735271065)]\n",
      "coordonnées des 1 particules:[(38.125, 37.625)]\n",
      "[(430.5034903903251, 556.7643735271065), (430.2601413785356, 556.9033534664408)]\n",
      "coordonnées des 1 particules:[(40.5, 42.75)]\n",
      "[(430.5034903903251, 556.7643735271065), (430.2601413785356, 556.9033534664408), (432.91271017124694, 563.0447762826313)]\n",
      "coordonnées des 2 particules:[(42.0, 43.0), (43.0, 46.0)]\n",
      "ecrat: 108.85619386227545\n",
      "ecrat: 108.85619386227545\n",
      "écart:108.85619386227545\n",
      "[(430.5034903903251, 556.7643735271065), (430.2601413785356, 556.9033534664408), (432.91271017124694, 563.0447762826313), (436.8318582962095, 570.115356348751)]\n",
      "coordonnées des 1 particules:[(36.25, 42.0)]\n",
      "[(430.5034903903251, 556.7643735271065), (430.2601413785356, 556.9033534664408), (432.91271017124694, 563.0447762826313), (436.8318582962095, 570.115356348751), (435.085045013654, 573.5256991187731)]\n",
      "coordonnées des 1 particules:[(39.0, 45.5)]\n",
      "[(430.5034903903251, 556.7643735271065), (430.2601413785356, 556.9033534664408), (432.91271017124694, 563.0447762826313), (436.8318582962095, 570.115356348751), (435.085045013654, 573.5256991187731), (436.555175099949, 580.537579592743)]\n",
      "coordonnées des 1 particules:[(36.0, 33.333333333333336)]\n",
      "[(430.5034903903251, 556.7643735271065), (430.2601413785356, 556.9033534664408), (432.91271017124694, 563.0447762826313), (436.8318582962095, 570.115356348751), (435.085045013654, 573.5256991187731), (436.555175099949, 580.537579592743), (434.36102918059703, 575.2284060727427)]\n",
      "coordonnées des 1 particules:[(43.2, 38.2)]\n",
      "[(430.5034903903251, 556.7643735271065), (430.2601413785356, 556.9033534664408), (432.91271017124694, 563.0447762826313), (436.8318582962095, 570.115356348751), (435.085045013654, 573.5256991187731), (436.555175099949, 580.537579592743), (434.36102918059703, 575.2284060727427), (439.2339726881458, 575.4822503228584)]\n",
      "coordonnées des 1 particules:[(36.4, 46.0)]\n",
      "[(430.5034903903251, 556.7643735271065), (430.2601413785356, 556.9033534664408), (432.91271017124694, 563.0447762826313), (436.8318582962095, 570.115356348751), (435.085045013654, 573.5256991187731), (436.555175099949, 580.537579592743), (434.36102918059703, 575.2284060727427), (439.2339726881458, 575.4822503228584), (437.3505527480202, 584.1832043068914)]\n",
      "coordonnées des 1 particules:[(36.5, 40.5)]\n",
      "[(430.5034903903251, 556.7643735271065), (430.2601413785356, 556.9033534664408), (432.91271017124694, 563.0447762826313), (436.8318582962095, 570.115356348751), (435.085045013654, 573.5256991187731), (436.555175099949, 580.537579592743), (434.36102918059703, 575.2284060727427), (439.2339726881458, 575.4822503228584), (437.3505527480202, 584.1832043068914), (435.6346838844189, 587.2074864061109)]\n",
      "coordonnées des 1 particules:[(35.25, 41.5)]\n",
      "[(430.5034903903251, 556.7643735271065), (430.2601413785356, 556.9033534664408), (432.91271017124694, 563.0447762826313), (436.8318582962095, 570.115356348751), (435.085045013654, 573.5256991187731), (436.555175099949, 580.537579592743), (434.36102918059703, 575.2284060727427), (439.2339726881458, 575.4822503228584), (437.3505527480202, 584.1832043068914), (435.6346838844189, 587.2074864061109), (432.49520686330357, 589.466730617926)]\n",
      "coordonnées des 1 particules:[(44.5, 35.25)]\n",
      "[(430.5034903903251, 556.7643735271065), (430.2601413785356, 556.9033534664408), (432.91271017124694, 563.0447762826313), (436.8318582962095, 570.115356348751), (435.085045013654, 573.5256991187731), (436.555175099949, 580.537579592743), (434.36102918059703, 575.2284060727427), (439.2339726881458, 575.4822503228584), (437.3505527480202, 584.1832043068914), (435.6346838844189, 587.2074864061109), (432.49520686330357, 589.466730617926), (439.1643828227074, 587.4396951907655)]\n",
      "coordonnées des 1 particules:[(42.8, 39.4)]\n",
      "[(430.5034903903251, 556.7643735271065), (430.2601413785356, 556.9033534664408), (432.91271017124694, 563.0447762826313), (436.8318582962095, 570.115356348751), (435.085045013654, 573.5256991187731), (436.555175099949, 580.537579592743), (434.36102918059703, 575.2284060727427), (439.2339726881458, 575.4822503228584), (437.3505527480202, 584.1832043068914), (435.6346838844189, 587.2074864061109), (432.49520686330357, 589.466730617926), (439.1643828227074, 587.4396951907655), (443.47420837516006, 588.7309770470868)]\n",
      "coordonnées des 1 particules:[(36.55555555555556, 38.333333333333336)]\n",
      "[(430.5034903903251, 556.7643735271065), (430.2601413785356, 556.9033534664408), (432.91271017124694, 563.0447762826313), (436.8318582962095, 570.115356348751), (435.085045013654, 573.5256991187731), (436.555175099949, 580.537579592743), (434.36102918059703, 575.2284060727427), (439.2339726881458, 575.4822503228584), (437.3505527480202, 584.1832043068914), (435.6346838844189, 587.2074864061109), (432.49520686330357, 589.466730617926), (439.1643828227074, 587.4396951907655), (443.47420837516006, 588.7309770470868), (442.5321559938973, 589.8012931572935)]\n",
      "coordonnées des 1 particules:[(36.0, 44.0)]\n",
      "[(430.5034903903251, 556.7643735271065), (430.2601413785356, 556.9033534664408), (432.91271017124694, 563.0447762826313), (436.8318582962095, 570.115356348751), (435.085045013654, 573.5256991187731), (436.555175099949, 580.537579592743), (434.36102918059703, 575.2284060727427), (439.2339726881458, 575.4822503228584), (437.3505527480202, 584.1832043068914), (435.6346838844189, 587.2074864061109), (432.49520686330357, 589.466730617926), (439.1643828227074, 587.4396951907655), (443.47420837516006, 588.7309770470868), (442.5321559938973, 589.8012931572935), (440.4967342573645, 595.188158374685)]\n",
      "coordonnées des 1 particules:[(40.0, 34.8)]\n",
      "[(430.5034903903251, 556.7643735271065), (430.2601413785356, 556.9033534664408), (432.91271017124694, 563.0447762826313), (436.8318582962095, 570.115356348751), (435.085045013654, 573.5256991187731), (436.555175099949, 580.537579592743), (434.36102918059703, 575.2284060727427), (439.2339726881458, 575.4822503228584), (437.3505527480202, 584.1832043068914), (435.6346838844189, 587.2074864061109), (432.49520686330357, 589.466730617926), (439.1643828227074, 587.4396951907655), (443.47420837516006, 588.7309770470868), (442.5321559938973, 589.8012931572935), (440.4967342573645, 595.188158374685), (442.47457704619273, 591.9285656497776)]\n",
      "coordonnées des 1 particules:[(36.5, 35.0)]\n",
      "[(430.5034903903251, 556.7643735271065), (430.2601413785356, 556.9033534664408), (432.91271017124694, 563.0447762826313), (436.8318582962095, 570.115356348751), (435.085045013654, 573.5256991187731), (436.555175099949, 580.537579592743), (434.36102918059703, 575.2284060727427), (439.2339726881458, 575.4822503228584), (437.3505527480202, 584.1832043068914), (435.6346838844189, 587.2074864061109), (432.49520686330357, 589.466730617926), (439.1643828227074, 587.4396951907655), (443.47420837516006, 588.7309770470868), (442.5321559938973, 589.8012931572935), (440.4967342573645, 595.188158374685), (442.47457704619273, 591.9285656497776), (440.7783509174573, 589.0539769811472)]\n",
      "coordonnées des 1 particules:[(40.4, 42.0)]\n",
      "[(430.5034903903251, 556.7643735271065), (430.2601413785356, 556.9033534664408), (432.91271017124694, 563.0447762826313), (436.8318582962095, 570.115356348751), (435.085045013654, 573.5256991187731), (436.555175099949, 580.537579592743), (434.36102918059703, 575.2284060727427), (439.2339726881458, 575.4822503228584), (437.3505527480202, 584.1832043068914), (435.6346838844189, 587.2074864061109), (432.49520686330357, 589.466730617926), (439.1643828227074, 587.4396951907655), (443.47420837516006, 588.7309770470868), (442.5321559938973, 589.8012931572935), (440.4967342573645, 595.188158374685), (442.47457704619273, 591.9285656497776), (440.7783509174573, 589.0539769811472), (443.52878180682063, 592.3759708718884)]\n",
      "coordonnées des 1 particules:[(34.5, 34.25)]\n",
      "[(430.5034903903251, 556.7643735271065), (430.2601413785356, 556.9033534664408), (432.91271017124694, 563.0447762826313), (436.8318582962095, 570.115356348751), (435.085045013654, 573.5256991187731), (436.555175099949, 580.537579592743), (434.36102918059703, 575.2284060727427), (439.2339726881458, 575.4822503228584), (437.3505527480202, 584.1832043068914), (435.6346838844189, 587.2074864061109), (432.49520686330357, 589.466730617926), (439.1643828227074, 587.4396951907655), (443.47420837516006, 588.7309770470868), (442.5321559938973, 589.8012931572935), (440.4967342573645, 595.188158374685), (442.47457704619273, 591.9285656497776), (440.7783509174573, 589.0539769811472), (443.52878180682063, 592.3759708718884), (439.7147891752506, 588.5451156161623)]\n",
      "coordonnées des 1 particules:[(34.666666666666664, 37.5)]\n",
      "[(430.5034903903251, 556.7643735271065), (430.2601413785356, 556.9033534664408), (432.91271017124694, 563.0447762826313), (436.8318582962095, 570.115356348751), (435.085045013654, 573.5256991187731), (436.555175099949, 580.537579592743), (434.36102918059703, 575.2284060727427), (439.2339726881458, 575.4822503228584), (437.3505527480202, 584.1832043068914), (435.6346838844189, 587.2074864061109), (432.49520686330357, 589.466730617926), (439.1643828227074, 587.4396951907655), (443.47420837516006, 588.7309770470868), (442.5321559938973, 589.8012931572935), (440.4967342573645, 595.188158374685), (442.47457704619273, 591.9285656497776), (440.7783509174573, 589.0539769811472), (443.52878180682063, 592.3759708718884), (439.7147891752506, 588.5451156161623), (436.2080246237836, 588.6987787970028)]\n",
      "coordonnées des 1 particules:[(36.0, 40.25)]\n",
      "[(430.5034903903251, 556.7643735271065), (430.2601413785356, 556.9033534664408), (432.91271017124694, 563.0447762826313), (436.8318582962095, 570.115356348751), (435.085045013654, 573.5256991187731), (436.555175099949, 580.537579592743), (434.36102918059703, 575.2284060727427), (439.2339726881458, 575.4822503228584), (437.3505527480202, 584.1832043068914), (435.6346838844189, 587.2074864061109), (432.49520686330357, 589.466730617926), (439.1643828227074, 587.4396951907655), (443.47420837516006, 588.7309770470868), (442.5321559938973, 589.8012931572935), (440.4967342573645, 595.188158374685), (442.47457704619273, 591.9285656497776), (440.7783509174573, 589.0539769811472), (443.52878180682063, 592.3759708718884), (439.7147891752506, 588.5451156161623), (436.2080246237836, 588.6987787970028), (434.089828792883, 590.8719726402769)]\n",
      "coordonnées des 1 particules:[(40.0, 29.75)]\n",
      "[(430.5034903903251, 556.7643735271065), (430.2601413785356, 556.9033534664408), (432.91271017124694, 563.0447762826313), (436.8318582962095, 570.115356348751), (435.085045013654, 573.5256991187731), (436.555175099949, 580.537579592743), (434.36102918059703, 575.2284060727427), (439.2339726881458, 575.4822503228584), (437.3505527480202, 584.1832043068914), (435.6346838844189, 587.2074864061109), (432.49520686330357, 589.466730617926), (439.1643828227074, 587.4396951907655), (443.47420837516006, 588.7309770470868), (442.5321559938973, 589.8012931572935), (440.4967342573645, 595.188158374685), (442.47457704619273, 591.9285656497776), (440.7783509174573, 589.0539769811472), (443.52878180682063, 592.3759708718884), (439.7147891752506, 588.5451156161623), (436.2080246237836, 588.6987787970028), (434.089828792883, 590.8719726402769), (436.10232905307765, 584.4465186138495)]\n",
      "coordonnées des 1 particules:[(36.4, 43.2)]\n",
      "[(430.5034903903251, 556.7643735271065), (430.2601413785356, 556.9033534664408), (432.91271017124694, 563.0447762826313), (436.8318582962095, 570.115356348751), (435.085045013654, 573.5256991187731), (436.555175099949, 580.537579592743), (434.36102918059703, 575.2284060727427), (439.2339726881458, 575.4822503228584), (437.3505527480202, 584.1832043068914), (435.6346838844189, 587.2074864061109), (432.49520686330357, 589.466730617926), (439.1643828227074, 587.4396951907655), (443.47420837516006, 588.7309770470868), (442.5321559938973, 589.8012931572935), (440.4967342573645, 595.188158374685), (442.47457704619273, 591.9285656497776), (440.7783509174573, 589.0539769811472), (443.52878180682063, 592.3759708718884), (439.7147891752506, 588.5451156161623), (436.2080246237836, 588.6987787970028), (434.089828792883, 590.8719726402769), (436.10232905307765, 584.4465186138495), (434.7452008387656, 589.1848411861347)]\n",
      "coordonnées des 1 particules:[(36.8, 33.8)]\n",
      "[(430.5034903903251, 556.7643735271065), (430.2601413785356, 556.9033534664408), (432.91271017124694, 563.0447762826313), (436.8318582962095, 570.115356348751), (435.085045013654, 573.5256991187731), (436.555175099949, 580.537579592743), (434.36102918059703, 575.2284060727427), (439.2339726881458, 575.4822503228584), (437.3505527480202, 584.1832043068914), (435.6346838844189, 587.2074864061109), (432.49520686330357, 589.466730617926), (439.1643828227074, 587.4396951907655), (443.47420837516006, 588.7309770470868), (442.5321559938973, 589.8012931572935), (440.4967342573645, 595.188158374685), (442.47457704619273, 591.9285656497776), (440.7783509174573, 589.0539769811472), (443.52878180682063, 592.3759708718884), (439.7147891752506, 588.5451156161623), (436.2080246237836, 588.6987787970028), (434.089828792883, 590.8719726402769), (436.10232905307765, 584.4465186138495), (434.7452008387656, 589.1848411861347), (433.59747780210506, 585.5644332670818)]\n",
      "coordonnées des 1 particules:[(34.0, 39.0)]\n",
      "[(430.5034903903251, 556.7643735271065), (430.2601413785356, 556.9033534664408), (432.91271017124694, 563.0447762826313), (436.8318582962095, 570.115356348751), (435.085045013654, 573.5256991187731), (436.555175099949, 580.537579592743), (434.36102918059703, 575.2284060727427), (439.2339726881458, 575.4822503228584), (437.3505527480202, 584.1832043068914), (435.6346838844189, 587.2074864061109), (432.49520686330357, 589.466730617926), (439.1643828227074, 587.4396951907655), (443.47420837516006, 588.7309770470868), (442.5321559938973, 589.8012931572935), (440.4967342573645, 595.188158374685), (442.47457704619273, 591.9285656497776), (440.7783509174573, 589.0539769811472), (443.52878180682063, 592.3759708718884), (439.7147891752506, 588.5451156161623), (436.2080246237836, 588.6987787970028), (434.089828792883, 590.8719726402769), (436.10232905307765, 584.4465186138495), (434.7452008387656, 589.1848411861347), (433.59747780210506, 585.5644332670818), (430.0383442469391, 587.2202962512118)]\n",
      "coordonnées des 1 particules:[(41.42857142857143, 35.714285714285715)]\n",
      "[(430.5034903903251, 556.7643735271065), (430.2601413785356, 556.9033534664408), (432.91271017124694, 563.0447762826313), (436.8318582962095, 570.115356348751), (435.085045013654, 573.5256991187731), (436.555175099949, 580.537579592743), (434.36102918059703, 575.2284060727427), (439.2339726881458, 575.4822503228584), (437.3505527480202, 584.1832043068914), (435.6346838844189, 587.2074864061109), (432.49520686330357, 589.466730617926), (439.1643828227074, 587.4396951907655), (443.47420837516006, 588.7309770470868), (442.5321559938973, 589.8012931572935), (440.4967342573645, 595.188158374685), (442.47457704619273, 591.9285656497776), (440.7783509174573, 589.0539769811472), (443.52878180682063, 592.3759708718884), (439.7147891752506, 588.5451156161623), (436.2080246237836, 588.6987787970028), (434.089828792883, 590.8719726402769), (436.10232905307765, 584.4465186138495), (434.7452008387656, 589.1848411861347), (433.59747780210506, 585.5644332670818), (430.0383442469391, 587.2202962512118), (433.37447060228845, 584.180700449979)]\n",
      "hello\n",
      "[(430.5034903903251, 556.7643735271065), (430.2601413785356, 556.9033534664408), (432.91271017124694, 563.0447762826313), (436.8318582962095, 570.115356348751), (435.085045013654, 573.5256991187731), (436.555175099949, 580.537579592743), (434.36102918059703, 575.2284060727427), (439.2339726881458, 575.4822503228584), (437.3505527480202, 584.1832043068914), (435.6346838844189, 587.2074864061109), (432.49520686330357, 589.466730617926), (439.1643828227074, 587.4396951907655), (443.47420837516006, 588.7309770470868), (442.5321559938973, 589.8012931572935), (440.4967342573645, 595.188158374685), (442.47457704619273, 591.9285656497776), (440.7783509174573, 589.0539769811472), (443.52878180682063, 592.3759708718884), (439.7147891752506, 588.5451156161623), (436.2080246237836, 588.6987787970028), (434.089828792883, 590.8719726402769), (436.10232905307765, 584.4465186138495), (434.7452008387656, 589.1848411861347), (433.59747780210506, 585.5644332670818), (430.0383442469391, 587.2202962512118), (433.37447060228845, 584.180700449979), array([nan, nan])]\n",
      "coordonnées des 1 particules:[(39.333333333333336, 36.666666666666664)]\n",
      "[(430.5034903903251, 556.7643735271065), (430.2601413785356, 556.9033534664408), (432.91271017124694, 563.0447762826313), (436.8318582962095, 570.115356348751), (435.085045013654, 573.5256991187731), (436.555175099949, 580.537579592743), (434.36102918059703, 575.2284060727427), (439.2339726881458, 575.4822503228584), (437.3505527480202, 584.1832043068914), (435.6346838844189, 587.2074864061109), (432.49520686330357, 589.466730617926), (439.1643828227074, 587.4396951907655), (443.47420837516006, 588.7309770470868), (442.5321559938973, 589.8012931572935), (440.4967342573645, 595.188158374685), (442.47457704619273, 591.9285656497776), (440.7783509174573, 589.0539769811472), (443.52878180682063, 592.3759708718884), (439.7147891752506, 588.5451156161623), (436.2080246237836, 588.6987787970028), (434.089828792883, 590.8719726402769), (436.10232905307765, 584.4465186138495), (434.7452008387656, 589.1848411861347), (433.59747780210506, 585.5644332670818), (430.0383442469391, 587.2202962512118), (433.37447060228845, 584.180700449979), array([nan, nan]), (434.8539605762806, 582.7756605448387)]\n",
      "hello\n",
      "[(430.5034903903251, 556.7643735271065), (430.2601413785356, 556.9033534664408), (432.91271017124694, 563.0447762826313), (436.8318582962095, 570.115356348751), (435.085045013654, 573.5256991187731), (436.555175099949, 580.537579592743), (434.36102918059703, 575.2284060727427), (439.2339726881458, 575.4822503228584), (437.3505527480202, 584.1832043068914), (435.6346838844189, 587.2074864061109), (432.49520686330357, 589.466730617926), (439.1643828227074, 587.4396951907655), (443.47420837516006, 588.7309770470868), (442.5321559938973, 589.8012931572935), (440.4967342573645, 595.188158374685), (442.47457704619273, 591.9285656497776), (440.7783509174573, 589.0539769811472), (443.52878180682063, 592.3759708718884), (439.7147891752506, 588.5451156161623), (436.2080246237836, 588.6987787970028), (434.089828792883, 590.8719726402769), (436.10232905307765, 584.4465186138495), (434.7452008387656, 589.1848411861347), (433.59747780210506, 585.5644332670818), (430.0383442469391, 587.2202962512118), (433.37447060228845, 584.180700449979), array([nan, nan]), (434.8539605762806, 582.7756605448387), array([nan, nan])]\n",
      "coordonnées des 1 particules:[(39.75, 43.75)]\n",
      "[(430.5034903903251, 556.7643735271065), (430.2601413785356, 556.9033534664408), (432.91271017124694, 563.0447762826313), (436.8318582962095, 570.115356348751), (435.085045013654, 573.5256991187731), (436.555175099949, 580.537579592743), (434.36102918059703, 575.2284060727427), (439.2339726881458, 575.4822503228584), (437.3505527480202, 584.1832043068914), (435.6346838844189, 587.2074864061109), (432.49520686330357, 589.466730617926), (439.1643828227074, 587.4396951907655), (443.47420837516006, 588.7309770470868), (442.5321559938973, 589.8012931572935), (440.4967342573645, 595.188158374685), (442.47457704619273, 591.9285656497776), (440.7783509174573, 589.0539769811472), (443.52878180682063, 592.3759708718884), (439.7147891752506, 588.5451156161623), (436.2080246237836, 588.6987787970028), (434.089828792883, 590.8719726402769), (436.10232905307765, 584.4465186138495), (434.7452008387656, 589.1848411861347), (433.59747780210506, 585.5644332670818), (430.0383442469391, 587.2202962512118), (433.37447060228845, 584.180700449979), array([nan, nan]), (434.8539605762806, 582.7756605448387), array([nan, nan]), (436.48515565392495, 588.4741104182924)]\n",
      "coordonnées des 1 particules:[(46.0, 43.0)]\n",
      "[(430.5034903903251, 556.7643735271065), (430.2601413785356, 556.9033534664408), (432.91271017124694, 563.0447762826313), (436.8318582962095, 570.115356348751), (435.085045013654, 573.5256991187731), (436.555175099949, 580.537579592743), (434.36102918059703, 575.2284060727427), (439.2339726881458, 575.4822503228584), (437.3505527480202, 584.1832043068914), (435.6346838844189, 587.2074864061109), (432.49520686330357, 589.466730617926), (439.1643828227074, 587.4396951907655), (443.47420837516006, 588.7309770470868), (442.5321559938973, 589.8012931572935), (440.4967342573645, 595.188158374685), (442.47457704619273, 591.9285656497776), (440.7783509174573, 589.0539769811472), (443.52878180682063, 592.3759708718884), (439.7147891752506, 588.5451156161623), (436.2080246237836, 588.6987787970028), (434.089828792883, 590.8719726402769), (436.10232905307765, 584.4465186138495), (434.7452008387656, 589.1848411861347), (433.59747780210506, 585.5644332670818), (430.0383442469391, 587.2202962512118), (433.37447060228845, 584.180700449979), array([nan, nan]), (434.8539605762806, 582.7756605448387), array([nan, nan]), (436.48515565392495, 588.4741104182924), (444.2568362790027, 593.0941258370241)]\n",
      "coordonnées des 1 particules:[(35.0, 34.666666666666664)]\n",
      "[(430.5034903903251, 556.7643735271065), (430.2601413785356, 556.9033534664408), (432.91271017124694, 563.0447762826313), (436.8318582962095, 570.115356348751), (435.085045013654, 573.5256991187731), (436.555175099949, 580.537579592743), (434.36102918059703, 575.2284060727427), (439.2339726881458, 575.4822503228584), (437.3505527480202, 584.1832043068914), (435.6346838844189, 587.2074864061109), (432.49520686330357, 589.466730617926), (439.1643828227074, 587.4396951907655), (443.47420837516006, 588.7309770470868), (442.5321559938973, 589.8012931572935), (440.4967342573645, 595.188158374685), (442.47457704619273, 591.9285656497776), (440.7783509174573, 589.0539769811472), (443.52878180682063, 592.3759708718884), (439.7147891752506, 588.5451156161623), (436.2080246237836, 588.6987787970028), (434.089828792883, 590.8719726402769), (436.10232905307765, 584.4465186138495), (434.7452008387656, 589.1848411861347), (433.59747780210506, 585.5644332670818), (430.0383442469391, 587.2202962512118), (433.37447060228845, 584.180700449979), array([nan, nan]), (434.8539605762806, 582.7756605448387), array([nan, nan]), (436.48515565392495, 588.4741104182924), (444.2568362790027, 593.0941258370241), (440.727805128744, 591.2276071133322)]\n",
      "coordonnées des 1 particules:[(34.666666666666664, 32.333333333333336)]\n",
      "[(430.5034903903251, 556.7643735271065), (430.2601413785356, 556.9033534664408), (432.91271017124694, 563.0447762826313), (436.8318582962095, 570.115356348751), (435.085045013654, 573.5256991187731), (436.555175099949, 580.537579592743), (434.36102918059703, 575.2284060727427), (439.2339726881458, 575.4822503228584), (437.3505527480202, 584.1832043068914), (435.6346838844189, 587.2074864061109), (432.49520686330357, 589.466730617926), (439.1643828227074, 587.4396951907655), (443.47420837516006, 588.7309770470868), (442.5321559938973, 589.8012931572935), (440.4967342573645, 595.188158374685), (442.47457704619273, 591.9285656497776), (440.7783509174573, 589.0539769811472), (443.52878180682063, 592.3759708718884), (439.7147891752506, 588.5451156161623), (436.2080246237836, 588.6987787970028), (434.089828792883, 590.8719726402769), (436.10232905307765, 584.4465186138495), (434.7452008387656, 589.1848411861347), (433.59747780210506, 585.5644332670818), (430.0383442469391, 587.2202962512118), (433.37447060228845, 584.180700449979), array([nan, nan]), (434.8539605762806, 582.7756605448387), array([nan, nan]), (436.48515565392495, 588.4741104182924), (444.2568362790027, 593.0941258370241), (440.727805128744, 591.2276071133322), (437.63314116133773, 585.3509533420831)]\n",
      "coordonnées des 1 particules:[(40.8, 45.2)]\n",
      "[(430.5034903903251, 556.7643735271065), (430.2601413785356, 556.9033534664408), (432.91271017124694, 563.0447762826313), (436.8318582962095, 570.115356348751), (435.085045013654, 573.5256991187731), (436.555175099949, 580.537579592743), (434.36102918059703, 575.2284060727427), (439.2339726881458, 575.4822503228584), (437.3505527480202, 584.1832043068914), (435.6346838844189, 587.2074864061109), (432.49520686330357, 589.466730617926), (439.1643828227074, 587.4396951907655), (443.47420837516006, 588.7309770470868), (442.5321559938973, 589.8012931572935), (440.4967342573645, 595.188158374685), (442.47457704619273, 591.9285656497776), (440.7783509174573, 589.0539769811472), (443.52878180682063, 592.3759708718884), (439.7147891752506, 588.5451156161623), (436.2080246237836, 588.6987787970028), (434.089828792883, 590.8719726402769), (436.10232905307765, 584.4465186138495), (434.7452008387656, 589.1848411861347), (433.59747780210506, 585.5644332670818), (430.0383442469391, 587.2202962512118), (433.37447060228845, 584.180700449979), array([nan, nan]), (434.8539605762806, 582.7756605448387), array([nan, nan]), (436.48515565392495, 588.4741104182924), (444.2568362790027, 593.0941258370241), (440.727805128744, 591.2276071133322), (437.63314116133773, 585.3509533420831), (440.47531383977406, 592.5829070778983)]\n",
      "coordonnées des 1 particules:[(34.5, 36.0)]\n",
      "[(430.5034903903251, 556.7643735271065), (430.2601413785356, 556.9033534664408), (432.91271017124694, 563.0447762826313), (436.8318582962095, 570.115356348751), (435.085045013654, 573.5256991187731), (436.555175099949, 580.537579592743), (434.36102918059703, 575.2284060727427), (439.2339726881458, 575.4822503228584), (437.3505527480202, 584.1832043068914), (435.6346838844189, 587.2074864061109), (432.49520686330357, 589.466730617926), (439.1643828227074, 587.4396951907655), (443.47420837516006, 588.7309770470868), (442.5321559938973, 589.8012931572935), (440.4967342573645, 595.188158374685), (442.47457704619273, 591.9285656497776), (440.7783509174573, 589.0539769811472), (443.52878180682063, 592.3759708718884), (439.7147891752506, 588.5451156161623), (436.2080246237836, 588.6987787970028), (434.089828792883, 590.8719726402769), (436.10232905307765, 584.4465186138495), (434.7452008387656, 589.1848411861347), (433.59747780210506, 585.5644332670818), (430.0383442469391, 587.2202962512118), (433.37447060228845, 584.180700449979), array([nan, nan]), (434.8539605762806, 582.7756605448387), array([nan, nan]), (436.48515565392495, 588.4741104182924), (444.2568362790027, 593.0941258370241), (440.727805128744, 591.2276071133322), (437.63314116133773, 585.3509533420831), (440.47531383977406, 592.5829070778983), (436.9849150374485, 590.6030536106897)]\n",
      "coordonnées des 1 particules:[(33.5, 34.75)]\n",
      "[(430.5034903903251, 556.7643735271065), (430.2601413785356, 556.9033534664408), (432.91271017124694, 563.0447762826313), (436.8318582962095, 570.115356348751), (435.085045013654, 573.5256991187731), (436.555175099949, 580.537579592743), (434.36102918059703, 575.2284060727427), (439.2339726881458, 575.4822503228584), (437.3505527480202, 584.1832043068914), (435.6346838844189, 587.2074864061109), (432.49520686330357, 589.466730617926), (439.1643828227074, 587.4396951907655), (443.47420837516006, 588.7309770470868), (442.5321559938973, 589.8012931572935), (440.4967342573645, 595.188158374685), (442.47457704619273, 591.9285656497776), (440.7783509174573, 589.0539769811472), (443.52878180682063, 592.3759708718884), (439.7147891752506, 588.5451156161623), (436.2080246237836, 588.6987787970028), (434.089828792883, 590.8719726402769), (436.10232905307765, 584.4465186138495), (434.7452008387656, 589.1848411861347), (433.59747780210506, 585.5644332670818), (430.0383442469391, 587.2202962512118), (433.37447060228845, 584.180700449979), array([nan, nan]), (434.8539605762806, 582.7756605448387), array([nan, nan]), (436.48515565392495, 588.4741104182924), (444.2568362790027, 593.0941258370241), (440.727805128744, 591.2276071133322), (437.63314116133773, 585.3509533420831), (440.47531383977406, 592.5829070778983), (436.9849150374485, 590.6030536106897), (432.9509916976606, 586.7301478824222)]\n",
      "coordonnées des 2 particules:[(42.0, 34.0), (42.666666666666664, 37.666666666666664)]\n",
      "ecrat: 77.15616292168139\n",
      "ecrat: 77.15616292168139\n",
      "écart:77.15616292168139\n",
      "[(430.5034903903251, 556.7643735271065), (430.2601413785356, 556.9033534664408), (432.91271017124694, 563.0447762826313), (436.8318582962095, 570.115356348751), (435.085045013654, 573.5256991187731), (436.555175099949, 580.537579592743), (434.36102918059703, 575.2284060727427), (439.2339726881458, 575.4822503228584), (437.3505527480202, 584.1832043068914), (435.6346838844189, 587.2074864061109), (432.49520686330357, 589.466730617926), (439.1643828227074, 587.4396951907655), (443.47420837516006, 588.7309770470868), (442.5321559938973, 589.8012931572935), (440.4967342573645, 595.188158374685), (442.47457704619273, 591.9285656497776), (440.7783509174573, 589.0539769811472), (443.52878180682063, 592.3759708718884), (439.7147891752506, 588.5451156161623), (436.2080246237836, 588.6987787970028), (434.089828792883, 590.8719726402769), (436.10232905307765, 584.4465186138495), (434.7452008387656, 589.1848411861347), (433.59747780210506, 585.5644332670818), (430.0383442469391, 587.2202962512118), (433.37447060228845, 584.180700449979), array([nan, nan]), (434.8539605762806, 582.7756605448387), array([nan, nan]), (436.48515565392495, 588.4741104182924), (444.2568362790027, 593.0941258370241), (440.727805128744, 591.2276071133322), (437.63314116133773, 585.3509533420831), (440.47531383977406, 592.5829070778983), (436.9849150374485, 590.6030536106897), (432.9509916976606, 586.7301478824222), (436.80619035835844, 586.4328153800714)]\n",
      "coordonnées des 1 particules:[(42.333333333333336, 33.666666666666664)]\n",
      "[(430.5034903903251, 556.7643735271065), (430.2601413785356, 556.9033534664408), (432.91271017124694, 563.0447762826313), (436.8318582962095, 570.115356348751), (435.085045013654, 573.5256991187731), (436.555175099949, 580.537579592743), (434.36102918059703, 575.2284060727427), (439.2339726881458, 575.4822503228584), (437.3505527480202, 584.1832043068914), (435.6346838844189, 587.2074864061109), (432.49520686330357, 589.466730617926), (439.1643828227074, 587.4396951907655), (443.47420837516006, 588.7309770470868), (442.5321559938973, 589.8012931572935), (440.4967342573645, 595.188158374685), (442.47457704619273, 591.9285656497776), (440.7783509174573, 589.0539769811472), (443.52878180682063, 592.3759708718884), (439.7147891752506, 588.5451156161623), (436.2080246237836, 588.6987787970028), (434.089828792883, 590.8719726402769), (436.10232905307765, 584.4465186138495), (434.7452008387656, 589.1848411861347), (433.59747780210506, 585.5644332670818), (430.0383442469391, 587.2202962512118), (433.37447060228845, 584.180700449979), array([nan, nan]), (434.8539605762806, 582.7756605448387), array([nan, nan]), (436.48515565392495, 588.4741104182924), (444.2568362790027, 593.0941258370241), (440.727805128744, 591.2276071133322), (437.63314116133773, 585.3509533420831), (440.47531383977406, 592.5829070778983), (436.9849150374485, 590.6030536106897), (432.9509916976606, 586.7301478824222), (436.80619035835844, 586.4328153800714), (441.5522060282043, 581.9907778337611)]\n",
      "coordonnées des 1 particules:[(34.666666666666664, 40.166666666666664)]\n",
      "[(430.5034903903251, 556.7643735271065), (430.2601413785356, 556.9033534664408), (432.91271017124694, 563.0447762826313), (436.8318582962095, 570.115356348751), (435.085045013654, 573.5256991187731), (436.555175099949, 580.537579592743), (434.36102918059703, 575.2284060727427), (439.2339726881458, 575.4822503228584), (437.3505527480202, 584.1832043068914), (435.6346838844189, 587.2074864061109), (432.49520686330357, 589.466730617926), (439.1643828227074, 587.4396951907655), (443.47420837516006, 588.7309770470868), (442.5321559938973, 589.8012931572935), (440.4967342573645, 595.188158374685), (442.47457704619273, 591.9285656497776), (440.7783509174573, 589.0539769811472), (443.52878180682063, 592.3759708718884), (439.7147891752506, 588.5451156161623), (436.2080246237836, 588.6987787970028), (434.089828792883, 590.8719726402769), (436.10232905307765, 584.4465186138495), (434.7452008387656, 589.1848411861347), (433.59747780210506, 585.5644332670818), (430.0383442469391, 587.2202962512118), (433.37447060228845, 584.180700449979), array([nan, nan]), (434.8539605762806, 582.7756605448387), array([nan, nan]), (436.48515565392495, 588.4741104182924), (444.2568362790027, 593.0941258370241), (440.727805128744, 591.2276071133322), (437.63314116133773, 585.3509533420831), (440.47531383977406, 592.5829070778983), (436.9849150374485, 590.6030536106897), (432.9509916976606, 586.7301478824222), (436.80619035835844, 586.4328153800714), (441.5522060282043, 581.9907778337611), (438.1487616964819, 584.2545454351996)]\n",
      "coordonnées des 1 particules:[(33.0, 38.57142857142857)]\n",
      "[(430.5034903903251, 556.7643735271065), (430.2601413785356, 556.9033534664408), (432.91271017124694, 563.0447762826313), (436.8318582962095, 570.115356348751), (435.085045013654, 573.5256991187731), (436.555175099949, 580.537579592743), (434.36102918059703, 575.2284060727427), (439.2339726881458, 575.4822503228584), (437.3505527480202, 584.1832043068914), (435.6346838844189, 587.2074864061109), (432.49520686330357, 589.466730617926), (439.1643828227074, 587.4396951907655), (443.47420837516006, 588.7309770470868), (442.5321559938973, 589.8012931572935), (440.4967342573645, 595.188158374685), (442.47457704619273, 591.9285656497776), (440.7783509174573, 589.0539769811472), (443.52878180682063, 592.3759708718884), (439.7147891752506, 588.5451156161623), (436.2080246237836, 588.6987787970028), (434.089828792883, 590.8719726402769), (436.10232905307765, 584.4465186138495), (434.7452008387656, 589.1848411861347), (433.59747780210506, 585.5644332670818), (430.0383442469391, 587.2202962512118), (433.37447060228845, 584.180700449979), array([nan, nan]), (434.8539605762806, 582.7756605448387), array([nan, nan]), (436.48515565392495, 588.4741104182924), (444.2568362790027, 593.0941258370241), (440.727805128744, 591.2276071133322), (437.63314116133773, 585.3509533420831), (440.47531383977406, 592.5829070778983), (436.9849150374485, 590.6030536106897), (432.9509916976606, 586.7301478824222), (436.80619035835844, 586.4328153800714), (441.5522060282043, 581.9907778337611), (438.1487616964819, 584.2545454351996), (433.27254445575227, 585.2767036744018)]\n",
      "coordonnées des 1 particules:[(37.4, 34.0)]\n",
      "[(430.5034903903251, 556.7643735271065), (430.2601413785356, 556.9033534664408), (432.91271017124694, 563.0447762826313), (436.8318582962095, 570.115356348751), (435.085045013654, 573.5256991187731), (436.555175099949, 580.537579592743), (434.36102918059703, 575.2284060727427), (439.2339726881458, 575.4822503228584), (437.3505527480202, 584.1832043068914), (435.6346838844189, 587.2074864061109), (432.49520686330357, 589.466730617926), (439.1643828227074, 587.4396951907655), (443.47420837516006, 588.7309770470868), (442.5321559938973, 589.8012931572935), (440.4967342573645, 595.188158374685), (442.47457704619273, 591.9285656497776), (440.7783509174573, 589.0539769811472), (443.52878180682063, 592.3759708718884), (439.7147891752506, 588.5451156161623), (436.2080246237836, 588.6987787970028), (434.089828792883, 590.8719726402769), (436.10232905307765, 584.4465186138495), (434.7452008387656, 589.1848411861347), (433.59747780210506, 585.5644332670818), (430.0383442469391, 587.2202962512118), (433.37447060228845, 584.180700449979), array([nan, nan]), (434.8539605762806, 582.7756605448387), array([nan, nan]), (436.48515565392495, 588.4741104182924), (444.2568362790027, 593.0941258370241), (440.727805128744, 591.2276071133322), (437.63314116133773, 585.3509533420831), (440.47531383977406, 592.5829070778983), (436.9849150374485, 590.6030536106897), (432.9509916976606, 586.7301478824222), (436.80619035835844, 586.4328153800714), (441.5522060282043, 581.9907778337611), (438.1487616964819, 584.2545454351996), (433.27254445575227, 585.2767036744018), (432.62047318079266, 581.4026572616443)]\n",
      "coordonnées des 1 particules:[(37.5, 49.0)]\n",
      "[(430.5034903903251, 556.7643735271065), (430.2601413785356, 556.9033534664408), (432.91271017124694, 563.0447762826313), (436.8318582962095, 570.115356348751), (435.085045013654, 573.5256991187731), (436.555175099949, 580.537579592743), (434.36102918059703, 575.2284060727427), (439.2339726881458, 575.4822503228584), (437.3505527480202, 584.1832043068914), (435.6346838844189, 587.2074864061109), (432.49520686330357, 589.466730617926), (439.1643828227074, 587.4396951907655), (443.47420837516006, 588.7309770470868), (442.5321559938973, 589.8012931572935), (440.4967342573645, 595.188158374685), (442.47457704619273, 591.9285656497776), (440.7783509174573, 589.0539769811472), (443.52878180682063, 592.3759708718884), (439.7147891752506, 588.5451156161623), (436.2080246237836, 588.6987787970028), (434.089828792883, 590.8719726402769), (436.10232905307765, 584.4465186138495), (434.7452008387656, 589.1848411861347), (433.59747780210506, 585.5644332670818), (430.0383442469391, 587.2202962512118), (433.37447060228845, 584.180700449979), array([nan, nan]), (434.8539605762806, 582.7756605448387), array([nan, nan]), (436.48515565392495, 588.4741104182924), (444.2568362790027, 593.0941258370241), (440.727805128744, 591.2276071133322), (437.63314116133773, 585.3509533420831), (440.47531383977406, 592.5829070778983), (436.9849150374485, 590.6030536106897), (432.9509916976606, 586.7301478824222), (436.80619035835844, 586.4328153800714), (441.5522060282043, 581.9907778337611), (438.1487616964819, 584.2545454351996), (433.27254445575227, 585.2767036744018), (432.62047318079266, 581.4026572616443), (432.1319246839432, 594.8618452958282)]\n",
      "coordonnées des 1 particules:[(36.75, 33.75)]\n",
      "[(430.5034903903251, 556.7643735271065), (430.2601413785356, 556.9033534664408), (432.91271017124694, 563.0447762826313), (436.8318582962095, 570.115356348751), (435.085045013654, 573.5256991187731), (436.555175099949, 580.537579592743), (434.36102918059703, 575.2284060727427), (439.2339726881458, 575.4822503228584), (437.3505527480202, 584.1832043068914), (435.6346838844189, 587.2074864061109), (432.49520686330357, 589.466730617926), (439.1643828227074, 587.4396951907655), (443.47420837516006, 588.7309770470868), (442.5321559938973, 589.8012931572935), (440.4967342573645, 595.188158374685), (442.47457704619273, 591.9285656497776), (440.7783509174573, 589.0539769811472), (443.52878180682063, 592.3759708718884), (439.7147891752506, 588.5451156161623), (436.2080246237836, 588.6987787970028), (434.089828792883, 590.8719726402769), (436.10232905307765, 584.4465186138495), (434.7452008387656, 589.1848411861347), (433.59747780210506, 585.5644332670818), (430.0383442469391, 587.2202962512118), (433.37447060228845, 584.180700449979), array([nan, nan]), (434.8539605762806, 582.7756605448387), array([nan, nan]), (436.48515565392495, 588.4741104182924), (444.2568362790027, 593.0941258370241), (440.727805128744, 591.2276071133322), (437.63314116133773, 585.3509533420831), (440.47531383977406, 592.5829070778983), (436.9849150374485, 590.6030536106897), (432.9509916976606, 586.7301478824222), (436.80619035835844, 586.4328153800714), (441.5522060282043, 581.9907778337611), (438.1487616964819, 584.2545454351996), (433.27254445575227, 585.2767036744018), (432.62047318079266, 581.4026572616443), (432.1319246839432, 594.8618452958282), (430.9557230778823, 590.2236028034552)]\n",
      "coordonnées des 1 particules:[(37.75, 37.75)]\n",
      "[(430.5034903903251, 556.7643735271065), (430.2601413785356, 556.9033534664408), (432.91271017124694, 563.0447762826313), (436.8318582962095, 570.115356348751), (435.085045013654, 573.5256991187731), (436.555175099949, 580.537579592743), (434.36102918059703, 575.2284060727427), (439.2339726881458, 575.4822503228584), (437.3505527480202, 584.1832043068914), (435.6346838844189, 587.2074864061109), (432.49520686330357, 589.466730617926), (439.1643828227074, 587.4396951907655), (443.47420837516006, 588.7309770470868), (442.5321559938973, 589.8012931572935), (440.4967342573645, 595.188158374685), (442.47457704619273, 591.9285656497776), (440.7783509174573, 589.0539769811472), (443.52878180682063, 592.3759708718884), (439.7147891752506, 588.5451156161623), (436.2080246237836, 588.6987787970028), (434.089828792883, 590.8719726402769), (436.10232905307765, 584.4465186138495), (434.7452008387656, 589.1848411861347), (433.59747780210506, 585.5644332670818), (430.0383442469391, 587.2202962512118), (433.37447060228845, 584.180700449979), array([nan, nan]), (434.8539605762806, 582.7756605448387), array([nan, nan]), (436.48515565392495, 588.4741104182924), (444.2568362790027, 593.0941258370241), (440.727805128744, 591.2276071133322), (437.63314116133773, 585.3509533420831), (440.47531383977406, 592.5829070778983), (436.9849150374485, 590.6030536106897), (432.9509916976606, 586.7301478824222), (436.80619035835844, 586.4328153800714), (441.5522060282043, 581.9907778337611), (438.1487616964819, 584.2545454351996), (433.27254445575227, 585.2767036744018), (432.62047318079266, 581.4026572616443), (432.1319246839432, 594.8618452958282), (430.9557230778823, 590.2236028034552), (430.70335867425166, 590.598870160584)]\n",
      "coordonnées des 1 particules:[(32.0, 49.0)]\n",
      "[(430.5034903903251, 556.7643735271065), (430.2601413785356, 556.9033534664408), (432.91271017124694, 563.0447762826313), (436.8318582962095, 570.115356348751), (435.085045013654, 573.5256991187731), (436.555175099949, 580.537579592743), (434.36102918059703, 575.2284060727427), (439.2339726881458, 575.4822503228584), (437.3505527480202, 584.1832043068914), (435.6346838844189, 587.2074864061109), (432.49520686330357, 589.466730617926), (439.1643828227074, 587.4396951907655), (443.47420837516006, 588.7309770470868), (442.5321559938973, 589.8012931572935), (440.4967342573645, 595.188158374685), (442.47457704619273, 591.9285656497776), (440.7783509174573, 589.0539769811472), (443.52878180682063, 592.3759708718884), (439.7147891752506, 588.5451156161623), (436.2080246237836, 588.6987787970028), (434.089828792883, 590.8719726402769), (436.10232905307765, 584.4465186138495), (434.7452008387656, 589.1848411861347), (433.59747780210506, 585.5644332670818), (430.0383442469391, 587.2202962512118), (433.37447060228845, 584.180700449979), array([nan, nan]), (434.8539605762806, 582.7756605448387), array([nan, nan]), (436.48515565392495, 588.4741104182924), (444.2568362790027, 593.0941258370241), (440.727805128744, 591.2276071133322), (437.63314116133773, 585.3509533420831), (440.47531383977406, 592.5829070778983), (436.9849150374485, 590.6030536106897), (432.9509916976606, 586.7301478824222), (436.80619035835844, 586.4328153800714), (441.5522060282043, 581.9907778337611), (438.1487616964819, 584.2545454351996), (433.27254445575227, 585.2767036744018), (432.62047318079266, 581.4026572616443), (432.1319246839432, 594.8618452958282), (430.9557230778823, 590.2236028034552), (430.70335867425166, 590.598870160584), (424.82450833474576, 601.4179050617299)]\n",
      "coordonnées des 1 particules:[(37.0, 31.666666666666668)]\n",
      "[(430.5034903903251, 556.7643735271065), (430.2601413785356, 556.9033534664408), (432.91271017124694, 563.0447762826313), (436.8318582962095, 570.115356348751), (435.085045013654, 573.5256991187731), (436.555175099949, 580.537579592743), (434.36102918059703, 575.2284060727427), (439.2339726881458, 575.4822503228584), (437.3505527480202, 584.1832043068914), (435.6346838844189, 587.2074864061109), (432.49520686330357, 589.466730617926), (439.1643828227074, 587.4396951907655), (443.47420837516006, 588.7309770470868), (442.5321559938973, 589.8012931572935), (440.4967342573645, 595.188158374685), (442.47457704619273, 591.9285656497776), (440.7783509174573, 589.0539769811472), (443.52878180682063, 592.3759708718884), (439.7147891752506, 588.5451156161623), (436.2080246237836, 588.6987787970028), (434.089828792883, 590.8719726402769), (436.10232905307765, 584.4465186138495), (434.7452008387656, 589.1848411861347), (433.59747780210506, 585.5644332670818), (430.0383442469391, 587.2202962512118), (433.37447060228845, 584.180700449979), array([nan, nan]), (434.8539605762806, 582.7756605448387), array([nan, nan]), (436.48515565392495, 588.4741104182924), (444.2568362790027, 593.0941258370241), (440.727805128744, 591.2276071133322), (437.63314116133773, 585.3509533420831), (440.47531383977406, 592.5829070778983), (436.9849150374485, 590.6030536106897), (432.9509916976606, 586.7301478824222), (436.80619035835844, 586.4328153800714), (441.5522060282043, 581.9907778337611), (438.1487616964819, 584.2545454351996), (433.27254445575227, 585.2767036744018), (432.62047318079266, 581.4026572616443), (432.1319246839432, 594.8618452958282), (430.9557230778823, 590.2236028034552), (430.70335867425166, 590.598870160584), (424.82450833474576, 601.4179050617299), (423.89875769036513, 595.8035223069709)]\n",
      "coordonnées des 1 particules:[(40.888888888888886, 33.111111111111114)]\n",
      "[(430.5034903903251, 556.7643735271065), (430.2601413785356, 556.9033534664408), (432.91271017124694, 563.0447762826313), (436.8318582962095, 570.115356348751), (435.085045013654, 573.5256991187731), (436.555175099949, 580.537579592743), (434.36102918059703, 575.2284060727427), (439.2339726881458, 575.4822503228584), (437.3505527480202, 584.1832043068914), (435.6346838844189, 587.2074864061109), (432.49520686330357, 589.466730617926), (439.1643828227074, 587.4396951907655), (443.47420837516006, 588.7309770470868), (442.5321559938973, 589.8012931572935), (440.4967342573645, 595.188158374685), (442.47457704619273, 591.9285656497776), (440.7783509174573, 589.0539769811472), (443.52878180682063, 592.3759708718884), (439.7147891752506, 588.5451156161623), (436.2080246237836, 588.6987787970028), (434.089828792883, 590.8719726402769), (436.10232905307765, 584.4465186138495), (434.7452008387656, 589.1848411861347), (433.59747780210506, 585.5644332670818), (430.0383442469391, 587.2202962512118), (433.37447060228845, 584.180700449979), array([nan, nan]), (434.8539605762806, 582.7756605448387), array([nan, nan]), (436.48515565392495, 588.4741104182924), (444.2568362790027, 593.0941258370241), (440.727805128744, 591.2276071133322), (437.63314116133773, 585.3509533420831), (440.47531383977406, 592.5829070778983), (436.9849150374485, 590.6030536106897), (432.9509916976606, 586.7301478824222), (436.80619035835844, 586.4328153800714), (441.5522060282043, 581.9907778337611), (438.1487616964819, 584.2545454351996), (433.27254445575227, 585.2767036744018), (432.62047318079266, 581.4026572616443), (432.1319246839432, 594.8618452958282), (430.9557230778823, 590.2236028034552), (430.70335867425166, 590.598870160584), (424.82450833474576, 601.4179050617299), (423.89875769036513, 595.8035223069709), (426.6266512541735, 591.1379953017264)]\n",
      "coordonnées des 1 particules:[(34.0, 35.5)]\n",
      "[(430.5034903903251, 556.7643735271065), (430.2601413785356, 556.9033534664408), (432.91271017124694, 563.0447762826313), (436.8318582962095, 570.115356348751), (435.085045013654, 573.5256991187731), (436.555175099949, 580.537579592743), (434.36102918059703, 575.2284060727427), (439.2339726881458, 575.4822503228584), (437.3505527480202, 584.1832043068914), (435.6346838844189, 587.2074864061109), (432.49520686330357, 589.466730617926), (439.1643828227074, 587.4396951907655), (443.47420837516006, 588.7309770470868), (442.5321559938973, 589.8012931572935), (440.4967342573645, 595.188158374685), (442.47457704619273, 591.9285656497776), (440.7783509174573, 589.0539769811472), (443.52878180682063, 592.3759708718884), (439.7147891752506, 588.5451156161623), (436.2080246237836, 588.6987787970028), (434.089828792883, 590.8719726402769), (436.10232905307765, 584.4465186138495), (434.7452008387656, 589.1848411861347), (433.59747780210506, 585.5644332670818), (430.0383442469391, 587.2202962512118), (433.37447060228845, 584.180700449979), array([nan, nan]), (434.8539605762806, 582.7756605448387), array([nan, nan]), (436.48515565392495, 588.4741104182924), (444.2568362790027, 593.0941258370241), (440.727805128744, 591.2276071133322), (437.63314116133773, 585.3509533420831), (440.47531383977406, 592.5829070778983), (436.9849150374485, 590.6030536106897), (432.9509916976606, 586.7301478824222), (436.80619035835844, 586.4328153800714), (441.5522060282043, 581.9907778337611), (438.1487616964819, 584.2545454351996), (433.27254445575227, 585.2767036744018), (432.62047318079266, 581.4026572616443), (432.1319246839432, 594.8618452958282), (430.9557230778823, 590.2236028034552), (430.70335867425166, 590.598870160584), (424.82450833474576, 601.4179050617299), (423.89875769036513, 595.8035223069709), (426.6266512541735, 591.1379953017264), (422.08214061880693, 588.4848162829027)]\n",
      "coordonnées des 1 particules:[(35.5, 28.0)]\n",
      "[(430.5034903903251, 556.7643735271065), (430.2601413785356, 556.9033534664408), (432.91271017124694, 563.0447762826313), (436.8318582962095, 570.115356348751), (435.085045013654, 573.5256991187731), (436.555175099949, 580.537579592743), (434.36102918059703, 575.2284060727427), (439.2339726881458, 575.4822503228584), (437.3505527480202, 584.1832043068914), (435.6346838844189, 587.2074864061109), (432.49520686330357, 589.466730617926), (439.1643828227074, 587.4396951907655), (443.47420837516006, 588.7309770470868), (442.5321559938973, 589.8012931572935), (440.4967342573645, 595.188158374685), (442.47457704619273, 591.9285656497776), (440.7783509174573, 589.0539769811472), (443.52878180682063, 592.3759708718884), (439.7147891752506, 588.5451156161623), (436.2080246237836, 588.6987787970028), (434.089828792883, 590.8719726402769), (436.10232905307765, 584.4465186138495), (434.7452008387656, 589.1848411861347), (433.59747780210506, 585.5644332670818), (430.0383442469391, 587.2202962512118), (433.37447060228845, 584.180700449979), array([nan, nan]), (434.8539605762806, 582.7756605448387), array([nan, nan]), (436.48515565392495, 588.4741104182924), (444.2568362790027, 593.0941258370241), (440.727805128744, 591.2276071133322), (437.63314116133773, 585.3509533420831), (440.47531383977406, 592.5829070778983), (436.9849150374485, 590.6030536106897), (432.9509916976606, 586.7301478824222), (436.80619035835844, 586.4328153800714), (441.5522060282043, 581.9907778337611), (438.1487616964819, 584.2545454351996), (433.27254445575227, 585.2767036744018), (432.62047318079266, 581.4026572616443), (432.1319246839432, 594.8618452958282), (430.9557230778823, 590.2236028034552), (430.70335867425166, 590.598870160584), (424.82450833474576, 601.4179050617299), (423.89875769036513, 595.8035223069709), (426.6266512541735, 591.1379953017264), (422.08214061880693, 588.4848162829027), (419.2958602431635, 578.0675811731247)]\n",
      "coordonnées des 1 particules:[(33.57142857142857, 37.714285714285715)]\n",
      "[(430.5034903903251, 556.7643735271065), (430.2601413785356, 556.9033534664408), (432.91271017124694, 563.0447762826313), (436.8318582962095, 570.115356348751), (435.085045013654, 573.5256991187731), (436.555175099949, 580.537579592743), (434.36102918059703, 575.2284060727427), (439.2339726881458, 575.4822503228584), (437.3505527480202, 584.1832043068914), (435.6346838844189, 587.2074864061109), (432.49520686330357, 589.466730617926), (439.1643828227074, 587.4396951907655), (443.47420837516006, 588.7309770470868), (442.5321559938973, 589.8012931572935), (440.4967342573645, 595.188158374685), (442.47457704619273, 591.9285656497776), (440.7783509174573, 589.0539769811472), (443.52878180682063, 592.3759708718884), (439.7147891752506, 588.5451156161623), (436.2080246237836, 588.6987787970028), (434.089828792883, 590.8719726402769), (436.10232905307765, 584.4465186138495), (434.7452008387656, 589.1848411861347), (433.59747780210506, 585.5644332670818), (430.0383442469391, 587.2202962512118), (433.37447060228845, 584.180700449979), array([nan, nan]), (434.8539605762806, 582.7756605448387), array([nan, nan]), (436.48515565392495, 588.4741104182924), (444.2568362790027, 593.0941258370241), (440.727805128744, 591.2276071133322), (437.63314116133773, 585.3509533420831), (440.47531383977406, 592.5829070778983), (436.9849150374485, 590.6030536106897), (432.9509916976606, 586.7301478824222), (436.80619035835844, 586.4328153800714), (441.5522060282043, 581.9907778337611), (438.1487616964819, 584.2545454351996), (433.27254445575227, 585.2767036744018), (432.62047318079266, 581.4026572616443), (432.1319246839432, 594.8618452958282), (430.9557230778823, 590.2236028034552), (430.70335867425166, 590.598870160584), (424.82450833474576, 601.4179050617299), (423.89875769036513, 595.8035223069709), (426.6266512541735, 591.1379953017264), (422.08214061880693, 588.4848162829027), (419.2958602431635, 578.0675811731247), (414.8133658126119, 577.3276142855094)]\n",
      "coordonnées des 1 particules:[(39.0, 45.5)]\n",
      "[(430.5034903903251, 556.7643735271065), (430.2601413785356, 556.9033534664408), (432.91271017124694, 563.0447762826313), (436.8318582962095, 570.115356348751), (435.085045013654, 573.5256991187731), (436.555175099949, 580.537579592743), (434.36102918059703, 575.2284060727427), (439.2339726881458, 575.4822503228584), (437.3505527480202, 584.1832043068914), (435.6346838844189, 587.2074864061109), (432.49520686330357, 589.466730617926), (439.1643828227074, 587.4396951907655), (443.47420837516006, 588.7309770470868), (442.5321559938973, 589.8012931572935), (440.4967342573645, 595.188158374685), (442.47457704619273, 591.9285656497776), (440.7783509174573, 589.0539769811472), (443.52878180682063, 592.3759708718884), (439.7147891752506, 588.5451156161623), (436.2080246237836, 588.6987787970028), (434.089828792883, 590.8719726402769), (436.10232905307765, 584.4465186138495), (434.7452008387656, 589.1848411861347), (433.59747780210506, 585.5644332670818), (430.0383442469391, 587.2202962512118), (433.37447060228845, 584.180700449979), array([nan, nan]), (434.8539605762806, 582.7756605448387), array([nan, nan]), (436.48515565392495, 588.4741104182924), (444.2568362790027, 593.0941258370241), (440.727805128744, 591.2276071133322), (437.63314116133773, 585.3509533420831), (440.47531383977406, 592.5829070778983), (436.9849150374485, 590.6030536106897), (432.9509916976606, 586.7301478824222), (436.80619035835844, 586.4328153800714), (441.5522060282043, 581.9907778337611), (438.1487616964819, 584.2545454351996), (433.27254445575227, 585.2767036744018), (432.62047318079266, 581.4026572616443), (432.1319246839432, 594.8618452958282), (430.9557230778823, 590.2236028034552), (430.70335867425166, 590.598870160584), (424.82450833474576, 601.4179050617299), (423.89875769036513, 595.8035223069709), (426.6266512541735, 591.1379953017264), (422.08214061880693, 588.4848162829027), (419.2958602431635, 578.0675811731247), (414.8133658126119, 577.3276142855094), (415.6822621546162, 585.2934198072834)]\n",
      "coordonnées des 1 particules:[(37.42857142857143, 38.285714285714285)]\n",
      "[(430.5034903903251, 556.7643735271065), (430.2601413785356, 556.9033534664408), (432.91271017124694, 563.0447762826313), (436.8318582962095, 570.115356348751), (435.085045013654, 573.5256991187731), (436.555175099949, 580.537579592743), (434.36102918059703, 575.2284060727427), (439.2339726881458, 575.4822503228584), (437.3505527480202, 584.1832043068914), (435.6346838844189, 587.2074864061109), (432.49520686330357, 589.466730617926), (439.1643828227074, 587.4396951907655), (443.47420837516006, 588.7309770470868), (442.5321559938973, 589.8012931572935), (440.4967342573645, 595.188158374685), (442.47457704619273, 591.9285656497776), (440.7783509174573, 589.0539769811472), (443.52878180682063, 592.3759708718884), (439.7147891752506, 588.5451156161623), (436.2080246237836, 588.6987787970028), (434.089828792883, 590.8719726402769), (436.10232905307765, 584.4465186138495), (434.7452008387656, 589.1848411861347), (433.59747780210506, 585.5644332670818), (430.0383442469391, 587.2202962512118), (433.37447060228845, 584.180700449979), array([nan, nan]), (434.8539605762806, 582.7756605448387), array([nan, nan]), (436.48515565392495, 588.4741104182924), (444.2568362790027, 593.0941258370241), (440.727805128744, 591.2276071133322), (437.63314116133773, 585.3509533420831), (440.47531383977406, 592.5829070778983), (436.9849150374485, 590.6030536106897), (432.9509916976606, 586.7301478824222), (436.80619035835844, 586.4328153800714), (441.5522060282043, 581.9907778337611), (438.1487616964819, 584.2545454351996), (433.27254445575227, 585.2767036744018), (432.62047318079266, 581.4026572616443), (432.1319246839432, 594.8618452958282), (430.9557230778823, 590.2236028034552), (430.70335867425166, 590.598870160584), (424.82450833474576, 601.4179050617299), (423.89875769036513, 595.8035223069709), (426.6266512541735, 591.1379953017264), (422.08214061880693, 588.4848162829027), (419.2958602431635, 578.0675811731247), (414.8133658126119, 577.3276142855094), (415.6822621546162, 585.2934198072834), (414.86064825516297, 585.4920483822799)]\n",
      "coordonnées des 1 particules:[(37.25, 38.0)]\n",
      "[(430.5034903903251, 556.7643735271065), (430.2601413785356, 556.9033534664408), (432.91271017124694, 563.0447762826313), (436.8318582962095, 570.115356348751), (435.085045013654, 573.5256991187731), (436.555175099949, 580.537579592743), (434.36102918059703, 575.2284060727427), (439.2339726881458, 575.4822503228584), (437.3505527480202, 584.1832043068914), (435.6346838844189, 587.2074864061109), (432.49520686330357, 589.466730617926), (439.1643828227074, 587.4396951907655), (443.47420837516006, 588.7309770470868), (442.5321559938973, 589.8012931572935), (440.4967342573645, 595.188158374685), (442.47457704619273, 591.9285656497776), (440.7783509174573, 589.0539769811472), (443.52878180682063, 592.3759708718884), (439.7147891752506, 588.5451156161623), (436.2080246237836, 588.6987787970028), (434.089828792883, 590.8719726402769), (436.10232905307765, 584.4465186138495), (434.7452008387656, 589.1848411861347), (433.59747780210506, 585.5644332670818), (430.0383442469391, 587.2202962512118), (433.37447060228845, 584.180700449979), array([nan, nan]), (434.8539605762806, 582.7756605448387), array([nan, nan]), (436.48515565392495, 588.4741104182924), (444.2568362790027, 593.0941258370241), (440.727805128744, 591.2276071133322), (437.63314116133773, 585.3509533420831), (440.47531383977406, 592.5829070778983), (436.9849150374485, 590.6030536106897), (432.9509916976606, 586.7301478824222), (436.80619035835844, 586.4328153800714), (441.5522060282043, 581.9907778337611), (438.1487616964819, 584.2545454351996), (433.27254445575227, 585.2767036744018), (432.62047318079266, 581.4026572616443), (432.1319246839432, 594.8618452958282), (430.9557230778823, 590.2236028034552), (430.70335867425166, 590.598870160584), (424.82450833474576, 601.4179050617299), (423.89875769036513, 595.8035223069709), (426.6266512541735, 591.1379953017264), (422.08214061880693, 588.4848162829027), (419.2958602431635, 578.0675811731247), (414.8133658126119, 577.3276142855094), (415.6822621546162, 585.2934198072834), (414.86064825516297, 585.4920483822799), (414.43670418530394, 585.0311524864861)]\n",
      "coordonnées des 1 particules:[(39.5, 38.0)]\n",
      "[(430.5034903903251, 556.7643735271065), (430.2601413785356, 556.9033534664408), (432.91271017124694, 563.0447762826313), (436.8318582962095, 570.115356348751), (435.085045013654, 573.5256991187731), (436.555175099949, 580.537579592743), (434.36102918059703, 575.2284060727427), (439.2339726881458, 575.4822503228584), (437.3505527480202, 584.1832043068914), (435.6346838844189, 587.2074864061109), (432.49520686330357, 589.466730617926), (439.1643828227074, 587.4396951907655), (443.47420837516006, 588.7309770470868), (442.5321559938973, 589.8012931572935), (440.4967342573645, 595.188158374685), (442.47457704619273, 591.9285656497776), (440.7783509174573, 589.0539769811472), (443.52878180682063, 592.3759708718884), (439.7147891752506, 588.5451156161623), (436.2080246237836, 588.6987787970028), (434.089828792883, 590.8719726402769), (436.10232905307765, 584.4465186138495), (434.7452008387656, 589.1848411861347), (433.59747780210506, 585.5644332670818), (430.0383442469391, 587.2202962512118), (433.37447060228845, 584.180700449979), array([nan, nan]), (434.8539605762806, 582.7756605448387), array([nan, nan]), (436.48515565392495, 588.4741104182924), (444.2568362790027, 593.0941258370241), (440.727805128744, 591.2276071133322), (437.63314116133773, 585.3509533420831), (440.47531383977406, 592.5829070778983), (436.9849150374485, 590.6030536106897), (432.9509916976606, 586.7301478824222), (436.80619035835844, 586.4328153800714), (441.5522060282043, 581.9907778337611), (438.1487616964819, 584.2545454351996), (433.27254445575227, 585.2767036744018), (432.62047318079266, 581.4026572616443), (432.1319246839432, 594.8618452958282), (430.9557230778823, 590.2236028034552), (430.70335867425166, 590.598870160584), (424.82450833474576, 601.4179050617299), (423.89875769036513, 595.8035223069709), (426.6266512541735, 591.1379953017264), (422.08214061880693, 588.4848162829027), (419.2958602431635, 578.0675811731247), (414.8133658126119, 577.3276142855094), (415.6822621546162, 585.2934198072834), (414.86064825516297, 585.4920483822799), (414.43670418530394, 585.0311524864861), (415.8835280949833, 585.0386235112993)]\n",
      "coordonnées des 1 particules:[(41.0, 37.5)]\n",
      "[(430.5034903903251, 556.7643735271065), (430.2601413785356, 556.9033534664408), (432.91271017124694, 563.0447762826313), (436.8318582962095, 570.115356348751), (435.085045013654, 573.5256991187731), (436.555175099949, 580.537579592743), (434.36102918059703, 575.2284060727427), (439.2339726881458, 575.4822503228584), (437.3505527480202, 584.1832043068914), (435.6346838844189, 587.2074864061109), (432.49520686330357, 589.466730617926), (439.1643828227074, 587.4396951907655), (443.47420837516006, 588.7309770470868), (442.5321559938973, 589.8012931572935), (440.4967342573645, 595.188158374685), (442.47457704619273, 591.9285656497776), (440.7783509174573, 589.0539769811472), (443.52878180682063, 592.3759708718884), (439.7147891752506, 588.5451156161623), (436.2080246237836, 588.6987787970028), (434.089828792883, 590.8719726402769), (436.10232905307765, 584.4465186138495), (434.7452008387656, 589.1848411861347), (433.59747780210506, 585.5644332670818), (430.0383442469391, 587.2202962512118), (433.37447060228845, 584.180700449979), array([nan, nan]), (434.8539605762806, 582.7756605448387), array([nan, nan]), (436.48515565392495, 588.4741104182924), (444.2568362790027, 593.0941258370241), (440.727805128744, 591.2276071133322), (437.63314116133773, 585.3509533420831), (440.47531383977406, 592.5829070778983), (436.9849150374485, 590.6030536106897), (432.9509916976606, 586.7301478824222), (436.80619035835844, 586.4328153800714), (441.5522060282043, 581.9907778337611), (438.1487616964819, 584.2545454351996), (433.27254445575227, 585.2767036744018), (432.62047318079266, 581.4026572616443), (432.1319246839432, 594.8618452958282), (430.9557230778823, 590.2236028034552), (430.70335867425166, 590.598870160584), (424.82450833474576, 601.4179050617299), (423.89875769036513, 595.8035223069709), (426.6266512541735, 591.1379953017264), (422.08214061880693, 588.4848162829027), (419.2958602431635, 578.0675811731247), (414.8133658126119, 577.3276142855094), (415.6822621546162, 585.2934198072834), (414.86064825516297, 585.4920483822799), (414.43670418530394, 585.0311524864861), (415.8835280949833, 585.0386235112993), (419.1623199395093, 584.4077709105038)]\n",
      "coordonnées des 1 particules:[(35.0, 38.0)]\n",
      "[(430.5034903903251, 556.7643735271065), (430.2601413785356, 556.9033534664408), (432.91271017124694, 563.0447762826313), (436.8318582962095, 570.115356348751), (435.085045013654, 573.5256991187731), (436.555175099949, 580.537579592743), (434.36102918059703, 575.2284060727427), (439.2339726881458, 575.4822503228584), (437.3505527480202, 584.1832043068914), (435.6346838844189, 587.2074864061109), (432.49520686330357, 589.466730617926), (439.1643828227074, 587.4396951907655), (443.47420837516006, 588.7309770470868), (442.5321559938973, 589.8012931572935), (440.4967342573645, 595.188158374685), (442.47457704619273, 591.9285656497776), (440.7783509174573, 589.0539769811472), (443.52878180682063, 592.3759708718884), (439.7147891752506, 588.5451156161623), (436.2080246237836, 588.6987787970028), (434.089828792883, 590.8719726402769), (436.10232905307765, 584.4465186138495), (434.7452008387656, 589.1848411861347), (433.59747780210506, 585.5644332670818), (430.0383442469391, 587.2202962512118), (433.37447060228845, 584.180700449979), array([nan, nan]), (434.8539605762806, 582.7756605448387), array([nan, nan]), (436.48515565392495, 588.4741104182924), (444.2568362790027, 593.0941258370241), (440.727805128744, 591.2276071133322), (437.63314116133773, 585.3509533420831), (440.47531383977406, 592.5829070778983), (436.9849150374485, 590.6030536106897), (432.9509916976606, 586.7301478824222), (436.80619035835844, 586.4328153800714), (441.5522060282043, 581.9907778337611), (438.1487616964819, 584.2545454351996), (433.27254445575227, 585.2767036744018), (432.62047318079266, 581.4026572616443), (432.1319246839432, 594.8618452958282), (430.9557230778823, 590.2236028034552), (430.70335867425166, 590.598870160584), (424.82450833474576, 601.4179050617299), (423.89875769036513, 595.8035223069709), (426.6266512541735, 591.1379953017264), (422.08214061880693, 588.4848162829027), (419.2958602431635, 578.0675811731247), (414.8133658126119, 577.3276142855094), (415.6822621546162, 585.2934198072834), (414.86064825516297, 585.4920483822799), (414.43670418530394, 585.0311524864861), (415.8835280949833, 585.0386235112993), (419.1623199395093, 584.4077709105038), (415.91207894982665, 584.1668091522884)]\n",
      "coordonnées des 1 particules:[(40.333333333333336, 36.666666666666664)]\n",
      "[(430.5034903903251, 556.7643735271065), (430.2601413785356, 556.9033534664408), (432.91271017124694, 563.0447762826313), (436.8318582962095, 570.115356348751), (435.085045013654, 573.5256991187731), (436.555175099949, 580.537579592743), (434.36102918059703, 575.2284060727427), (439.2339726881458, 575.4822503228584), (437.3505527480202, 584.1832043068914), (435.6346838844189, 587.2074864061109), (432.49520686330357, 589.466730617926), (439.1643828227074, 587.4396951907655), (443.47420837516006, 588.7309770470868), (442.5321559938973, 589.8012931572935), (440.4967342573645, 595.188158374685), (442.47457704619273, 591.9285656497776), (440.7783509174573, 589.0539769811472), (443.52878180682063, 592.3759708718884), (439.7147891752506, 588.5451156161623), (436.2080246237836, 588.6987787970028), (434.089828792883, 590.8719726402769), (436.10232905307765, 584.4465186138495), (434.7452008387656, 589.1848411861347), (433.59747780210506, 585.5644332670818), (430.0383442469391, 587.2202962512118), (433.37447060228845, 584.180700449979), array([nan, nan]), (434.8539605762806, 582.7756605448387), array([nan, nan]), (436.48515565392495, 588.4741104182924), (444.2568362790027, 593.0941258370241), (440.727805128744, 591.2276071133322), (437.63314116133773, 585.3509533420831), (440.47531383977406, 592.5829070778983), (436.9849150374485, 590.6030536106897), (432.9509916976606, 586.7301478824222), (436.80619035835844, 586.4328153800714), (441.5522060282043, 581.9907778337611), (438.1487616964819, 584.2545454351996), (433.27254445575227, 585.2767036744018), (432.62047318079266, 581.4026572616443), (432.1319246839432, 594.8618452958282), (430.9557230778823, 590.2236028034552), (430.70335867425166, 590.598870160584), (424.82450833474576, 601.4179050617299), (423.89875769036513, 595.8035223069709), (426.6266512541735, 591.1379953017264), (422.08214061880693, 588.4848162829027), (419.2958602431635, 578.0675811731247), (414.8133658126119, 577.3276142855094), (415.6822621546162, 585.2934198072834), (414.86064825516297, 585.4920483822799), (414.43670418530394, 585.0311524864861), (415.8835280949833, 585.0386235112993), (419.1623199395093, 584.4077709105038), (415.91207894982665, 584.1668091522884), (418.1080462664781, 583.4023066953098)]\n",
      "coordonnées des 1 particules:[(28.0, 45.666666666666664)]\n",
      "[(430.5034903903251, 556.7643735271065), (430.2601413785356, 556.9033534664408), (432.91271017124694, 563.0447762826313), (436.8318582962095, 570.115356348751), (435.085045013654, 573.5256991187731), (436.555175099949, 580.537579592743), (434.36102918059703, 575.2284060727427), (439.2339726881458, 575.4822503228584), (437.3505527480202, 584.1832043068914), (435.6346838844189, 587.2074864061109), (432.49520686330357, 589.466730617926), (439.1643828227074, 587.4396951907655), (443.47420837516006, 588.7309770470868), (442.5321559938973, 589.8012931572935), (440.4967342573645, 595.188158374685), (442.47457704619273, 591.9285656497776), (440.7783509174573, 589.0539769811472), (443.52878180682063, 592.3759708718884), (439.7147891752506, 588.5451156161623), (436.2080246237836, 588.6987787970028), (434.089828792883, 590.8719726402769), (436.10232905307765, 584.4465186138495), (434.7452008387656, 589.1848411861347), (433.59747780210506, 585.5644332670818), (430.0383442469391, 587.2202962512118), (433.37447060228845, 584.180700449979), array([nan, nan]), (434.8539605762806, 582.7756605448387), array([nan, nan]), (436.48515565392495, 588.4741104182924), (444.2568362790027, 593.0941258370241), (440.727805128744, 591.2276071133322), (437.63314116133773, 585.3509533420831), (440.47531383977406, 592.5829070778983), (436.9849150374485, 590.6030536106897), (432.9509916976606, 586.7301478824222), (436.80619035835844, 586.4328153800714), (441.5522060282043, 581.9907778337611), (438.1487616964819, 584.2545454351996), (433.27254445575227, 585.2767036744018), (432.62047318079266, 581.4026572616443), (432.1319246839432, 594.8618452958282), (430.9557230778823, 590.2236028034552), (430.70335867425166, 590.598870160584), (424.82450833474576, 601.4179050617299), (423.89875769036513, 595.8035223069709), (426.6266512541735, 591.1379953017264), (422.08214061880693, 588.4848162829027), (419.2958602431635, 578.0675811731247), (414.8133658126119, 577.3276142855094), (415.6822621546162, 585.2934198072834), (414.86064825516297, 585.4920483822799), (414.43670418530394, 585.0311524864861), (415.8835280949833, 585.0386235112993), (419.1623199395093, 584.4077709105038), (415.91207894982665, 584.1668091522884), (418.1080462664781, 583.4023066953098), (407.7367371634118, 591.3975915624252)]\n",
      "coordonnées des 1 particules:[(42.0, 34.666666666666664)]\n",
      "[(430.5034903903251, 556.7643735271065), (430.2601413785356, 556.9033534664408), (432.91271017124694, 563.0447762826313), (436.8318582962095, 570.115356348751), (435.085045013654, 573.5256991187731), (436.555175099949, 580.537579592743), (434.36102918059703, 575.2284060727427), (439.2339726881458, 575.4822503228584), (437.3505527480202, 584.1832043068914), (435.6346838844189, 587.2074864061109), (432.49520686330357, 589.466730617926), (439.1643828227074, 587.4396951907655), (443.47420837516006, 588.7309770470868), (442.5321559938973, 589.8012931572935), (440.4967342573645, 595.188158374685), (442.47457704619273, 591.9285656497776), (440.7783509174573, 589.0539769811472), (443.52878180682063, 592.3759708718884), (439.7147891752506, 588.5451156161623), (436.2080246237836, 588.6987787970028), (434.089828792883, 590.8719726402769), (436.10232905307765, 584.4465186138495), (434.7452008387656, 589.1848411861347), (433.59747780210506, 585.5644332670818), (430.0383442469391, 587.2202962512118), (433.37447060228845, 584.180700449979), array([nan, nan]), (434.8539605762806, 582.7756605448387), array([nan, nan]), (436.48515565392495, 588.4741104182924), (444.2568362790027, 593.0941258370241), (440.727805128744, 591.2276071133322), (437.63314116133773, 585.3509533420831), (440.47531383977406, 592.5829070778983), (436.9849150374485, 590.6030536106897), (432.9509916976606, 586.7301478824222), (436.80619035835844, 586.4328153800714), (441.5522060282043, 581.9907778337611), (438.1487616964819, 584.2545454351996), (433.27254445575227, 585.2767036744018), (432.62047318079266, 581.4026572616443), (432.1319246839432, 594.8618452958282), (430.9557230778823, 590.2236028034552), (430.70335867425166, 590.598870160584), (424.82450833474576, 601.4179050617299), (423.89875769036513, 595.8035223069709), (426.6266512541735, 591.1379953017264), (422.08214061880693, 588.4848162829027), (419.2958602431635, 578.0675811731247), (414.8133658126119, 577.3276142855094), (415.6822621546162, 585.2934198072834), (414.86064825516297, 585.4920483822799), (414.43670418530394, 585.0311524864861), (415.8835280949833, 585.0386235112993), (419.1623199395093, 584.4077709105038), (415.91207894982665, 584.1668091522884), (418.1080462664781, 583.4023066953098), (407.7367371634118, 591.3975915624252), (411.54500592448056, 588.6682224367125)]\n",
      "coordonnées des 1 particules:[(41.6, 36.0)]\n",
      "[(430.5034903903251, 556.7643735271065), (430.2601413785356, 556.9033534664408), (432.91271017124694, 563.0447762826313), (436.8318582962095, 570.115356348751), (435.085045013654, 573.5256991187731), (436.555175099949, 580.537579592743), (434.36102918059703, 575.2284060727427), (439.2339726881458, 575.4822503228584), (437.3505527480202, 584.1832043068914), (435.6346838844189, 587.2074864061109), (432.49520686330357, 589.466730617926), (439.1643828227074, 587.4396951907655), (443.47420837516006, 588.7309770470868), (442.5321559938973, 589.8012931572935), (440.4967342573645, 595.188158374685), (442.47457704619273, 591.9285656497776), (440.7783509174573, 589.0539769811472), (443.52878180682063, 592.3759708718884), (439.7147891752506, 588.5451156161623), (436.2080246237836, 588.6987787970028), (434.089828792883, 590.8719726402769), (436.10232905307765, 584.4465186138495), (434.7452008387656, 589.1848411861347), (433.59747780210506, 585.5644332670818), (430.0383442469391, 587.2202962512118), (433.37447060228845, 584.180700449979), array([nan, nan]), (434.8539605762806, 582.7756605448387), array([nan, nan]), (436.48515565392495, 588.4741104182924), (444.2568362790027, 593.0941258370241), (440.727805128744, 591.2276071133322), (437.63314116133773, 585.3509533420831), (440.47531383977406, 592.5829070778983), (436.9849150374485, 590.6030536106897), (432.9509916976606, 586.7301478824222), (436.80619035835844, 586.4328153800714), (441.5522060282043, 581.9907778337611), (438.1487616964819, 584.2545454351996), (433.27254445575227, 585.2767036744018), (432.62047318079266, 581.4026572616443), (432.1319246839432, 594.8618452958282), (430.9557230778823, 590.2236028034552), (430.70335867425166, 590.598870160584), (424.82450833474576, 601.4179050617299), (423.89875769036513, 595.8035223069709), (426.6266512541735, 591.1379953017264), (422.08214061880693, 588.4848162829027), (419.2958602431635, 578.0675811731247), (414.8133658126119, 577.3276142855094), (415.6822621546162, 585.2934198072834), (414.86064825516297, 585.4920483822799), (414.43670418530394, 585.0311524864861), (415.8835280949833, 585.0386235112993), (419.1623199395093, 584.4077709105038), (415.91207894982665, 584.1668091522884), (418.1080462664781, 583.4023066953098), (407.7367371634118, 591.3975915624252), (411.54500592448056, 588.6682224367125), (415.5405638311731, 587.293572876132)]\n",
      "hello\n",
      "[(430.5034903903251, 556.7643735271065), (430.2601413785356, 556.9033534664408), (432.91271017124694, 563.0447762826313), (436.8318582962095, 570.115356348751), (435.085045013654, 573.5256991187731), (436.555175099949, 580.537579592743), (434.36102918059703, 575.2284060727427), (439.2339726881458, 575.4822503228584), (437.3505527480202, 584.1832043068914), (435.6346838844189, 587.2074864061109), (432.49520686330357, 589.466730617926), (439.1643828227074, 587.4396951907655), (443.47420837516006, 588.7309770470868), (442.5321559938973, 589.8012931572935), (440.4967342573645, 595.188158374685), (442.47457704619273, 591.9285656497776), (440.7783509174573, 589.0539769811472), (443.52878180682063, 592.3759708718884), (439.7147891752506, 588.5451156161623), (436.2080246237836, 588.6987787970028), (434.089828792883, 590.8719726402769), (436.10232905307765, 584.4465186138495), (434.7452008387656, 589.1848411861347), (433.59747780210506, 585.5644332670818), (430.0383442469391, 587.2202962512118), (433.37447060228845, 584.180700449979), array([nan, nan]), (434.8539605762806, 582.7756605448387), array([nan, nan]), (436.48515565392495, 588.4741104182924), (444.2568362790027, 593.0941258370241), (440.727805128744, 591.2276071133322), (437.63314116133773, 585.3509533420831), (440.47531383977406, 592.5829070778983), (436.9849150374485, 590.6030536106897), (432.9509916976606, 586.7301478824222), (436.80619035835844, 586.4328153800714), (441.5522060282043, 581.9907778337611), (438.1487616964819, 584.2545454351996), (433.27254445575227, 585.2767036744018), (432.62047318079266, 581.4026572616443), (432.1319246839432, 594.8618452958282), (430.9557230778823, 590.2236028034552), (430.70335867425166, 590.598870160584), (424.82450833474576, 601.4179050617299), (423.89875769036513, 595.8035223069709), (426.6266512541735, 591.1379953017264), (422.08214061880693, 588.4848162829027), (419.2958602431635, 578.0675811731247), (414.8133658126119, 577.3276142855094), (415.6822621546162, 585.2934198072834), (414.86064825516297, 585.4920483822799), (414.43670418530394, 585.0311524864861), (415.8835280949833, 585.0386235112993), (419.1623199395093, 584.4077709105038), (415.91207894982665, 584.1668091522884), (418.1080462664781, 583.4023066953098), (407.7367371634118, 591.3975915624252), (411.54500592448056, 588.6682224367125), (415.5405638311731, 587.293572876132), array([nan, nan])]\n",
      "coordonnées des 1 particules:[(33.333333333333336, 38.333333333333336)]\n",
      "[(430.5034903903251, 556.7643735271065), (430.2601413785356, 556.9033534664408), (432.91271017124694, 563.0447762826313), (436.8318582962095, 570.115356348751), (435.085045013654, 573.5256991187731), (436.555175099949, 580.537579592743), (434.36102918059703, 575.2284060727427), (439.2339726881458, 575.4822503228584), (437.3505527480202, 584.1832043068914), (435.6346838844189, 587.2074864061109), (432.49520686330357, 589.466730617926), (439.1643828227074, 587.4396951907655), (443.47420837516006, 588.7309770470868), (442.5321559938973, 589.8012931572935), (440.4967342573645, 595.188158374685), (442.47457704619273, 591.9285656497776), (440.7783509174573, 589.0539769811472), (443.52878180682063, 592.3759708718884), (439.7147891752506, 588.5451156161623), (436.2080246237836, 588.6987787970028), (434.089828792883, 590.8719726402769), (436.10232905307765, 584.4465186138495), (434.7452008387656, 589.1848411861347), (433.59747780210506, 585.5644332670818), (430.0383442469391, 587.2202962512118), (433.37447060228845, 584.180700449979), array([nan, nan]), (434.8539605762806, 582.7756605448387), array([nan, nan]), (436.48515565392495, 588.4741104182924), (444.2568362790027, 593.0941258370241), (440.727805128744, 591.2276071133322), (437.63314116133773, 585.3509533420831), (440.47531383977406, 592.5829070778983), (436.9849150374485, 590.6030536106897), (432.9509916976606, 586.7301478824222), (436.80619035835844, 586.4328153800714), (441.5522060282043, 581.9907778337611), (438.1487616964819, 584.2545454351996), (433.27254445575227, 585.2767036744018), (432.62047318079266, 581.4026572616443), (432.1319246839432, 594.8618452958282), (430.9557230778823, 590.2236028034552), (430.70335867425166, 590.598870160584), (424.82450833474576, 601.4179050617299), (423.89875769036513, 595.8035223069709), (426.6266512541735, 591.1379953017264), (422.08214061880693, 588.4848162829027), (419.2958602431635, 578.0675811731247), (414.8133658126119, 577.3276142855094), (415.6822621546162, 585.2934198072834), (414.86064825516297, 585.4920483822799), (414.43670418530394, 585.0311524864861), (415.8835280949833, 585.0386235112993), (419.1623199395093, 584.4077709105038), (415.91207894982665, 584.1668091522884), (418.1080462664781, 583.4023066953098), (407.7367371634118, 591.3975915624252), (411.54500592448056, 588.6682224367125), (415.5405638311731, 587.293572876132), array([nan, nan]), (410.9487582683826, 588.454934174463)]\n",
      "coordonnées des 1 particules:[(29.5, 33.5)]\n",
      "[(430.5034903903251, 556.7643735271065), (430.2601413785356, 556.9033534664408), (432.91271017124694, 563.0447762826313), (436.8318582962095, 570.115356348751), (435.085045013654, 573.5256991187731), (436.555175099949, 580.537579592743), (434.36102918059703, 575.2284060727427), (439.2339726881458, 575.4822503228584), (437.3505527480202, 584.1832043068914), (435.6346838844189, 587.2074864061109), (432.49520686330357, 589.466730617926), (439.1643828227074, 587.4396951907655), (443.47420837516006, 588.7309770470868), (442.5321559938973, 589.8012931572935), (440.4967342573645, 595.188158374685), (442.47457704619273, 591.9285656497776), (440.7783509174573, 589.0539769811472), (443.52878180682063, 592.3759708718884), (439.7147891752506, 588.5451156161623), (436.2080246237836, 588.6987787970028), (434.089828792883, 590.8719726402769), (436.10232905307765, 584.4465186138495), (434.7452008387656, 589.1848411861347), (433.59747780210506, 585.5644332670818), (430.0383442469391, 587.2202962512118), (433.37447060228845, 584.180700449979), array([nan, nan]), (434.8539605762806, 582.7756605448387), array([nan, nan]), (436.48515565392495, 588.4741104182924), (444.2568362790027, 593.0941258370241), (440.727805128744, 591.2276071133322), (437.63314116133773, 585.3509533420831), (440.47531383977406, 592.5829070778983), (436.9849150374485, 590.6030536106897), (432.9509916976606, 586.7301478824222), (436.80619035835844, 586.4328153800714), (441.5522060282043, 581.9907778337611), (438.1487616964819, 584.2545454351996), (433.27254445575227, 585.2767036744018), (432.62047318079266, 581.4026572616443), (432.1319246839432, 594.8618452958282), (430.9557230778823, 590.2236028034552), (430.70335867425166, 590.598870160584), (424.82450833474576, 601.4179050617299), (423.89875769036513, 595.8035223069709), (426.6266512541735, 591.1379953017264), (422.08214061880693, 588.4848162829027), (419.2958602431635, 578.0675811731247), (414.8133658126119, 577.3276142855094), (415.6822621546162, 585.2934198072834), (414.86064825516297, 585.4920483822799), (414.43670418530394, 585.0311524864861), (415.8835280949833, 585.0386235112993), (419.1623199395093, 584.4077709105038), (415.91207894982665, 584.1668091522884), (418.1080462664781, 583.4023066953098), (407.7367371634118, 591.3975915624252), (411.54500592448056, 588.6682224367125), (415.5405638311731, 587.293572876132), array([nan, nan]), (410.9487582683826, 588.454934174463), (402.62089769861547, 583.6610170823893)]\n",
      "coordonnées des 1 particules:[(38.5, 41.0)]\n",
      "[(430.5034903903251, 556.7643735271065), (430.2601413785356, 556.9033534664408), (432.91271017124694, 563.0447762826313), (436.8318582962095, 570.115356348751), (435.085045013654, 573.5256991187731), (436.555175099949, 580.537579592743), (434.36102918059703, 575.2284060727427), (439.2339726881458, 575.4822503228584), (437.3505527480202, 584.1832043068914), (435.6346838844189, 587.2074864061109), (432.49520686330357, 589.466730617926), (439.1643828227074, 587.4396951907655), (443.47420837516006, 588.7309770470868), (442.5321559938973, 589.8012931572935), (440.4967342573645, 595.188158374685), (442.47457704619273, 591.9285656497776), (440.7783509174573, 589.0539769811472), (443.52878180682063, 592.3759708718884), (439.7147891752506, 588.5451156161623), (436.2080246237836, 588.6987787970028), (434.089828792883, 590.8719726402769), (436.10232905307765, 584.4465186138495), (434.7452008387656, 589.1848411861347), (433.59747780210506, 585.5644332670818), (430.0383442469391, 587.2202962512118), (433.37447060228845, 584.180700449979), array([nan, nan]), (434.8539605762806, 582.7756605448387), array([nan, nan]), (436.48515565392495, 588.4741104182924), (444.2568362790027, 593.0941258370241), (440.727805128744, 591.2276071133322), (437.63314116133773, 585.3509533420831), (440.47531383977406, 592.5829070778983), (436.9849150374485, 590.6030536106897), (432.9509916976606, 586.7301478824222), (436.80619035835844, 586.4328153800714), (441.5522060282043, 581.9907778337611), (438.1487616964819, 584.2545454351996), (433.27254445575227, 585.2767036744018), (432.62047318079266, 581.4026572616443), (432.1319246839432, 594.8618452958282), (430.9557230778823, 590.2236028034552), (430.70335867425166, 590.598870160584), (424.82450833474576, 601.4179050617299), (423.89875769036513, 595.8035223069709), (426.6266512541735, 591.1379953017264), (422.08214061880693, 588.4848162829027), (419.2958602431635, 578.0675811731247), (414.8133658126119, 577.3276142855094), (415.6822621546162, 585.2934198072834), (414.86064825516297, 585.4920483822799), (414.43670418530394, 585.0311524864861), (415.8835280949833, 585.0386235112993), (419.1623199395093, 584.4077709105038), (415.91207894982665, 584.1668091522884), (418.1080462664781, 583.4023066953098), (407.7367371634118, 591.3975915624252), (411.54500592448056, 588.6682224367125), (415.5405638311731, 587.293572876132), array([nan, nan]), (410.9487582683826, 588.454934174463), (402.62089769861547, 583.6610170823893), (403.24709334186304, 586.1548628523054)]\n",
      "coordonnées des 1 particules:[(38.166666666666664, 40.833333333333336)]\n",
      "[(430.5034903903251, 556.7643735271065), (430.2601413785356, 556.9033534664408), (432.91271017124694, 563.0447762826313), (436.8318582962095, 570.115356348751), (435.085045013654, 573.5256991187731), (436.555175099949, 580.537579592743), (434.36102918059703, 575.2284060727427), (439.2339726881458, 575.4822503228584), (437.3505527480202, 584.1832043068914), (435.6346838844189, 587.2074864061109), (432.49520686330357, 589.466730617926), (439.1643828227074, 587.4396951907655), (443.47420837516006, 588.7309770470868), (442.5321559938973, 589.8012931572935), (440.4967342573645, 595.188158374685), (442.47457704619273, 591.9285656497776), (440.7783509174573, 589.0539769811472), (443.52878180682063, 592.3759708718884), (439.7147891752506, 588.5451156161623), (436.2080246237836, 588.6987787970028), (434.089828792883, 590.8719726402769), (436.10232905307765, 584.4465186138495), (434.7452008387656, 589.1848411861347), (433.59747780210506, 585.5644332670818), (430.0383442469391, 587.2202962512118), (433.37447060228845, 584.180700449979), array([nan, nan]), (434.8539605762806, 582.7756605448387), array([nan, nan]), (436.48515565392495, 588.4741104182924), (444.2568362790027, 593.0941258370241), (440.727805128744, 591.2276071133322), (437.63314116133773, 585.3509533420831), (440.47531383977406, 592.5829070778983), (436.9849150374485, 590.6030536106897), (432.9509916976606, 586.7301478824222), (436.80619035835844, 586.4328153800714), (441.5522060282043, 581.9907778337611), (438.1487616964819, 584.2545454351996), (433.27254445575227, 585.2767036744018), (432.62047318079266, 581.4026572616443), (432.1319246839432, 594.8618452958282), (430.9557230778823, 590.2236028034552), (430.70335867425166, 590.598870160584), (424.82450833474576, 601.4179050617299), (423.89875769036513, 595.8035223069709), (426.6266512541735, 591.1379953017264), (422.08214061880693, 588.4848162829027), (419.2958602431635, 578.0675811731247), (414.8133658126119, 577.3276142855094), (415.6822621546162, 585.2934198072834), (414.86064825516297, 585.4920483822799), (414.43670418530394, 585.0311524864861), (415.8835280949833, 585.0386235112993), (419.1623199395093, 584.4077709105038), (415.91207894982665, 584.1668091522884), (418.1080462664781, 583.4023066953098), (407.7367371634118, 591.3975915624252), (411.54500592448056, 588.6682224367125), (415.5405638311731, 587.293572876132), array([nan, nan]), (410.9487582683826, 588.454934174463), (402.62089769861547, 583.6610170823893), (403.24709334186304, 586.1548628523054), (403.56920183414934, 588.5334082410388)]\n",
      "coordonnées des 1 particules:[(31.0, 41.0)]\n",
      "[(430.5034903903251, 556.7643735271065), (430.2601413785356, 556.9033534664408), (432.91271017124694, 563.0447762826313), (436.8318582962095, 570.115356348751), (435.085045013654, 573.5256991187731), (436.555175099949, 580.537579592743), (434.36102918059703, 575.2284060727427), (439.2339726881458, 575.4822503228584), (437.3505527480202, 584.1832043068914), (435.6346838844189, 587.2074864061109), (432.49520686330357, 589.466730617926), (439.1643828227074, 587.4396951907655), (443.47420837516006, 588.7309770470868), (442.5321559938973, 589.8012931572935), (440.4967342573645, 595.188158374685), (442.47457704619273, 591.9285656497776), (440.7783509174573, 589.0539769811472), (443.52878180682063, 592.3759708718884), (439.7147891752506, 588.5451156161623), (436.2080246237836, 588.6987787970028), (434.089828792883, 590.8719726402769), (436.10232905307765, 584.4465186138495), (434.7452008387656, 589.1848411861347), (433.59747780210506, 585.5644332670818), (430.0383442469391, 587.2202962512118), (433.37447060228845, 584.180700449979), array([nan, nan]), (434.8539605762806, 582.7756605448387), array([nan, nan]), (436.48515565392495, 588.4741104182924), (444.2568362790027, 593.0941258370241), (440.727805128744, 591.2276071133322), (437.63314116133773, 585.3509533420831), (440.47531383977406, 592.5829070778983), (436.9849150374485, 590.6030536106897), (432.9509916976606, 586.7301478824222), (436.80619035835844, 586.4328153800714), (441.5522060282043, 581.9907778337611), (438.1487616964819, 584.2545454351996), (433.27254445575227, 585.2767036744018), (432.62047318079266, 581.4026572616443), (432.1319246839432, 594.8618452958282), (430.9557230778823, 590.2236028034552), (430.70335867425166, 590.598870160584), (424.82450833474576, 601.4179050617299), (423.89875769036513, 595.8035223069709), (426.6266512541735, 591.1379953017264), (422.08214061880693, 588.4848162829027), (419.2958602431635, 578.0675811731247), (414.8133658126119, 577.3276142855094), (415.6822621546162, 585.2934198072834), (414.86064825516297, 585.4920483822799), (414.43670418530394, 585.0311524864861), (415.8835280949833, 585.0386235112993), (419.1623199395093, 584.4077709105038), (415.91207894982665, 584.1668091522884), (418.1080462664781, 583.4023066953098), (407.7367371634118, 591.3975915624252), (411.54500592448056, 588.6682224367125), (415.5405638311731, 587.293572876132), array([nan, nan]), (410.9487582683826, 588.454934174463), (402.62089769861547, 583.6610170823893), (403.24709334186304, 586.1548628523054), (403.56920183414934, 588.5334082410388), (396.8214831860604, 591.3245589031219)]\n",
      "coordonnées des 1 particules:[(40.0, 37.0)]\n",
      "[(430.5034903903251, 556.7643735271065), (430.2601413785356, 556.9033534664408), (432.91271017124694, 563.0447762826313), (436.8318582962095, 570.115356348751), (435.085045013654, 573.5256991187731), (436.555175099949, 580.537579592743), (434.36102918059703, 575.2284060727427), (439.2339726881458, 575.4822503228584), (437.3505527480202, 584.1832043068914), (435.6346838844189, 587.2074864061109), (432.49520686330357, 589.466730617926), (439.1643828227074, 587.4396951907655), (443.47420837516006, 588.7309770470868), (442.5321559938973, 589.8012931572935), (440.4967342573645, 595.188158374685), (442.47457704619273, 591.9285656497776), (440.7783509174573, 589.0539769811472), (443.52878180682063, 592.3759708718884), (439.7147891752506, 588.5451156161623), (436.2080246237836, 588.6987787970028), (434.089828792883, 590.8719726402769), (436.10232905307765, 584.4465186138495), (434.7452008387656, 589.1848411861347), (433.59747780210506, 585.5644332670818), (430.0383442469391, 587.2202962512118), (433.37447060228845, 584.180700449979), array([nan, nan]), (434.8539605762806, 582.7756605448387), array([nan, nan]), (436.48515565392495, 588.4741104182924), (444.2568362790027, 593.0941258370241), (440.727805128744, 591.2276071133322), (437.63314116133773, 585.3509533420831), (440.47531383977406, 592.5829070778983), (436.9849150374485, 590.6030536106897), (432.9509916976606, 586.7301478824222), (436.80619035835844, 586.4328153800714), (441.5522060282043, 581.9907778337611), (438.1487616964819, 584.2545454351996), (433.27254445575227, 585.2767036744018), (432.62047318079266, 581.4026572616443), (432.1319246839432, 594.8618452958282), (430.9557230778823, 590.2236028034552), (430.70335867425166, 590.598870160584), (424.82450833474576, 601.4179050617299), (423.89875769036513, 595.8035223069709), (426.6266512541735, 591.1379953017264), (422.08214061880693, 588.4848162829027), (419.2958602431635, 578.0675811731247), (414.8133658126119, 577.3276142855094), (415.6822621546162, 585.2934198072834), (414.86064825516297, 585.4920483822799), (414.43670418530394, 585.0311524864861), (415.8835280949833, 585.0386235112993), (419.1623199395093, 584.4077709105038), (415.91207894982665, 584.1668091522884), (418.1080462664781, 583.4023066953098), (407.7367371634118, 591.3975915624252), (411.54500592448056, 588.6682224367125), (415.5405638311731, 587.293572876132), array([nan, nan]), (410.9487582683826, 588.454934174463), (402.62089769861547, 583.6610170823893), (403.24709334186304, 586.1548628523054), (403.56920183414934, 588.5334082410388), (396.8214831860604, 591.3245589031219), (398.5478601969913, 589.721927801698)]\n",
      "coordonnées des 1 particules:[(45.0, 35.0)]\n",
      "[(430.5034903903251, 556.7643735271065), (430.2601413785356, 556.9033534664408), (432.91271017124694, 563.0447762826313), (436.8318582962095, 570.115356348751), (435.085045013654, 573.5256991187731), (436.555175099949, 580.537579592743), (434.36102918059703, 575.2284060727427), (439.2339726881458, 575.4822503228584), (437.3505527480202, 584.1832043068914), (435.6346838844189, 587.2074864061109), (432.49520686330357, 589.466730617926), (439.1643828227074, 587.4396951907655), (443.47420837516006, 588.7309770470868), (442.5321559938973, 589.8012931572935), (440.4967342573645, 595.188158374685), (442.47457704619273, 591.9285656497776), (440.7783509174573, 589.0539769811472), (443.52878180682063, 592.3759708718884), (439.7147891752506, 588.5451156161623), (436.2080246237836, 588.6987787970028), (434.089828792883, 590.8719726402769), (436.10232905307765, 584.4465186138495), (434.7452008387656, 589.1848411861347), (433.59747780210506, 585.5644332670818), (430.0383442469391, 587.2202962512118), (433.37447060228845, 584.180700449979), array([nan, nan]), (434.8539605762806, 582.7756605448387), array([nan, nan]), (436.48515565392495, 588.4741104182924), (444.2568362790027, 593.0941258370241), (440.727805128744, 591.2276071133322), (437.63314116133773, 585.3509533420831), (440.47531383977406, 592.5829070778983), (436.9849150374485, 590.6030536106897), (432.9509916976606, 586.7301478824222), (436.80619035835844, 586.4328153800714), (441.5522060282043, 581.9907778337611), (438.1487616964819, 584.2545454351996), (433.27254445575227, 585.2767036744018), (432.62047318079266, 581.4026572616443), (432.1319246839432, 594.8618452958282), (430.9557230778823, 590.2236028034552), (430.70335867425166, 590.598870160584), (424.82450833474576, 601.4179050617299), (423.89875769036513, 595.8035223069709), (426.6266512541735, 591.1379953017264), (422.08214061880693, 588.4848162829027), (419.2958602431635, 578.0675811731247), (414.8133658126119, 577.3276142855094), (415.6822621546162, 585.2934198072834), (414.86064825516297, 585.4920483822799), (414.43670418530394, 585.0311524864861), (415.8835280949833, 585.0386235112993), (419.1623199395093, 584.4077709105038), (415.91207894982665, 584.1668091522884), (418.1080462664781, 583.4023066953098), (407.7367371634118, 591.3975915624252), (411.54500592448056, 588.6682224367125), (415.5405638311731, 587.293572876132), array([nan, nan]), (410.9487582683826, 588.454934174463), (402.62089769861547, 583.6610170823893), (403.24709334186304, 586.1548628523054), (403.56920183414934, 588.5334082410388), (396.8214831860604, 591.3245589031219), (398.5478601969913, 589.721927801698), (406.42671940952766, 586.3058106169979)]\n",
      "coordonnées des 1 particules:[(41.4, 41.4)]\n",
      "[(430.5034903903251, 556.7643735271065), (430.2601413785356, 556.9033534664408), (432.91271017124694, 563.0447762826313), (436.8318582962095, 570.115356348751), (435.085045013654, 573.5256991187731), (436.555175099949, 580.537579592743), (434.36102918059703, 575.2284060727427), (439.2339726881458, 575.4822503228584), (437.3505527480202, 584.1832043068914), (435.6346838844189, 587.2074864061109), (432.49520686330357, 589.466730617926), (439.1643828227074, 587.4396951907655), (443.47420837516006, 588.7309770470868), (442.5321559938973, 589.8012931572935), (440.4967342573645, 595.188158374685), (442.47457704619273, 591.9285656497776), (440.7783509174573, 589.0539769811472), (443.52878180682063, 592.3759708718884), (439.7147891752506, 588.5451156161623), (436.2080246237836, 588.6987787970028), (434.089828792883, 590.8719726402769), (436.10232905307765, 584.4465186138495), (434.7452008387656, 589.1848411861347), (433.59747780210506, 585.5644332670818), (430.0383442469391, 587.2202962512118), (433.37447060228845, 584.180700449979), array([nan, nan]), (434.8539605762806, 582.7756605448387), array([nan, nan]), (436.48515565392495, 588.4741104182924), (444.2568362790027, 593.0941258370241), (440.727805128744, 591.2276071133322), (437.63314116133773, 585.3509533420831), (440.47531383977406, 592.5829070778983), (436.9849150374485, 590.6030536106897), (432.9509916976606, 586.7301478824222), (436.80619035835844, 586.4328153800714), (441.5522060282043, 581.9907778337611), (438.1487616964819, 584.2545454351996), (433.27254445575227, 585.2767036744018), (432.62047318079266, 581.4026572616443), (432.1319246839432, 594.8618452958282), (430.9557230778823, 590.2236028034552), (430.70335867425166, 590.598870160584), (424.82450833474576, 601.4179050617299), (423.89875769036513, 595.8035223069709), (426.6266512541735, 591.1379953017264), (422.08214061880693, 588.4848162829027), (419.2958602431635, 578.0675811731247), (414.8133658126119, 577.3276142855094), (415.6822621546162, 585.2934198072834), (414.86064825516297, 585.4920483822799), (414.43670418530394, 585.0311524864861), (415.8835280949833, 585.0386235112993), (419.1623199395093, 584.4077709105038), (415.91207894982665, 584.1668091522884), (418.1080462664781, 583.4023066953098), (407.7367371634118, 591.3975915624252), (411.54500592448056, 588.6682224367125), (415.5405638311731, 587.293572876132), array([nan, nan]), (410.9487582683826, 588.454934174463), (402.62089769861547, 583.6610170823893), (403.24709334186304, 586.1548628523054), (403.56920183414934, 588.5334082410388), (396.8214831860604, 591.3245589031219), (398.5478601969913, 589.721927801698), (406.42671940952766, 586.3058106169979), (409.93771472212694, 589.8754007786586)]\n",
      "coordonnées des 1 particules:[(33.0, 33.5)]\n",
      "[(430.5034903903251, 556.7643735271065), (430.2601413785356, 556.9033534664408), (432.91271017124694, 563.0447762826313), (436.8318582962095, 570.115356348751), (435.085045013654, 573.5256991187731), (436.555175099949, 580.537579592743), (434.36102918059703, 575.2284060727427), (439.2339726881458, 575.4822503228584), (437.3505527480202, 584.1832043068914), (435.6346838844189, 587.2074864061109), (432.49520686330357, 589.466730617926), (439.1643828227074, 587.4396951907655), (443.47420837516006, 588.7309770470868), (442.5321559938973, 589.8012931572935), (440.4967342573645, 595.188158374685), (442.47457704619273, 591.9285656497776), (440.7783509174573, 589.0539769811472), (443.52878180682063, 592.3759708718884), (439.7147891752506, 588.5451156161623), (436.2080246237836, 588.6987787970028), (434.089828792883, 590.8719726402769), (436.10232905307765, 584.4465186138495), (434.7452008387656, 589.1848411861347), (433.59747780210506, 585.5644332670818), (430.0383442469391, 587.2202962512118), (433.37447060228845, 584.180700449979), array([nan, nan]), (434.8539605762806, 582.7756605448387), array([nan, nan]), (436.48515565392495, 588.4741104182924), (444.2568362790027, 593.0941258370241), (440.727805128744, 591.2276071133322), (437.63314116133773, 585.3509533420831), (440.47531383977406, 592.5829070778983), (436.9849150374485, 590.6030536106897), (432.9509916976606, 586.7301478824222), (436.80619035835844, 586.4328153800714), (441.5522060282043, 581.9907778337611), (438.1487616964819, 584.2545454351996), (433.27254445575227, 585.2767036744018), (432.62047318079266, 581.4026572616443), (432.1319246839432, 594.8618452958282), (430.9557230778823, 590.2236028034552), (430.70335867425166, 590.598870160584), (424.82450833474576, 601.4179050617299), (423.89875769036513, 595.8035223069709), (426.6266512541735, 591.1379953017264), (422.08214061880693, 588.4848162829027), (419.2958602431635, 578.0675811731247), (414.8133658126119, 577.3276142855094), (415.6822621546162, 585.2934198072834), (414.86064825516297, 585.4920483822799), (414.43670418530394, 585.0311524864861), (415.8835280949833, 585.0386235112993), (419.1623199395093, 584.4077709105038), (415.91207894982665, 584.1668091522884), (418.1080462664781, 583.4023066953098), (407.7367371634118, 591.3975915624252), (411.54500592448056, 588.6682224367125), (415.5405638311731, 587.293572876132), array([nan, nan]), (410.9487582683826, 588.454934174463), (402.62089769861547, 583.6610170823893), (403.24709334186304, 586.1548628523054), (403.56920183414934, 588.5334082410388), (396.8214831860604, 591.3245589031219), (398.5478601969913, 589.721927801698), (406.42671940952766, 586.3058106169979), (409.93771472212694, 589.8754007786586), (404.92705797819855, 585.170507883366)]\n"
     ]
    }
   ],
   "source": [
    "taille_initiale, luminosité_initiale, seuil = empreinte_digitale(crop(img,x,y,35,35))\n",
    "\n",
    "\n",
    "for i in range(first_frame,actual_frames):\n",
    "    tiff.seek(i)\n",
    "    if np.sum(np.array(tiff))==0:\n",
    "        position_list.append(np.array([np.nan,np.nan]))\n",
    "        sigma_list.append(np.array([np.nan,np.nan]))\n",
    "    else:\n",
    "        data = particle_tracker(img, x, y, taille_initiale, luminosité_initiale, seuil)\n",
    "        position_list.append(data[2])\n",
    "        x,y = position_list[i-first_frame]\n",
    "        sigma_list.append(data[3])\n",
    "        tiff.seek(i)\n",
    "        img = np.array(tiff)\n",
    "        big_frames.append(img)\n",
    "        crop_frames.append(data[1])\n",
    "    print(position_list)\n"
   ]
  },
  {
   "cell_type": "code",
   "execution_count": null,
   "id": "b7a84351",
   "metadata": {},
   "outputs": [],
   "source": [
    "pixel_size = 3.45 # Taille absolue\n",
    "f2 = 150  # Focale de L2\n",
    "M_theo = 20  # Magnification of the objective\n",
    "pxl = pixel_size / (f2 * M_theo / 160)  # Pixel size in um dans le plan de la particule\n",
    "\n",
    "sigma_arr=np.array(sigma_list)* pxl * 10**(-6)\n",
    "position_arr=np.array(position_list)* pxl * 10**(-6)\n",
    "print(position_arr)"
   ]
  },
  {
   "cell_type": "code",
   "execution_count": null,
   "id": "3381e213",
   "metadata": {},
   "outputs": [],
   "source": [
    "def calculate_msd_with_uncertainty(position_arr, delta_x, delta_y):\n",
    "    \"\"\"\n",
    "    Calcule les MSD avec propagation des incertitudes analytiques.\n",
    "    \"\"\"\n",
    "\n",
    "\n",
    "    msd = []\n",
    "    uncertainties = []\n",
    "    for d in range(1, len(position_arr)):\n",
    "        diff_pairs = np.zeros_like(position_arr[d:])\n",
    "        dx = np.zeros_like(delta_x[d:])\n",
    "        dy = np.zeros_like(delta_y[d:])\n",
    "\n",
    "        # Masque pour détecter les NaN\n",
    "        nan_mask_pos = np.isnan(position_arr[d:]) | np.isnan(position_arr[:-d])\n",
    "        nan_mask_delta = np.isnan(delta_x[d:]) | np.isnan(delta_x[:-d])\n",
    "        \n",
    "        # Calculer les différences uniquement où nan_mask est False\n",
    "        valid_mask_pos = ~nan_mask_pos.any(axis=1)  # Inverser le masque pour obtenir les position_arr valides\n",
    "        valid_mask_delta = ~nan_mask_delta\n",
    "        \n",
    "        diff_pairs[valid_mask_pos] = position_arr[d:][valid_mask_pos, :] - position_arr[:-d][valid_mask_pos, :]\n",
    "\n",
    "        distances_squared = np.sum(diff_pairs**2, axis=1)\n",
    "        msd.append(np.mean(distances_squared))  \n",
    "        \n",
    "        dx[valid_mask_delta] = delta_x[d:][valid_mask_delta] + delta_x[:-d][valid_mask_delta]\n",
    "        dy[valid_mask_delta] = delta_y[d:][valid_mask_delta] + delta_y[:-d][valid_mask_delta]\n",
    "        term_x = 2 * (diff_pairs[:, 0]**2) * (dx**2)\n",
    "        term_y = 2 * (diff_pairs[:, 1]**2) * (dy**2)\n",
    "        \n",
    "        # Propagation des incertitudes\n",
    "        total_uncertainty = np.mean(term_x + term_y)\n",
    "        uncertainties.append(np.sqrt(total_uncertainty))\n",
    "\n",
    "    return np.array(msd), np.array(uncertainties)\n",
    "\n",
    "calculate_msd_with_uncertainty(position_arr, sigma_arr[:, 0], sigma_arr[:, 1])"
   ]
  },
  {
   "cell_type": "markdown",
   "id": "c355c5f0-6c28-4f45-abbe-9d17f257161b",
   "metadata": {},
   "source": [
    "# Résultats"
   ]
  },
  {
   "cell_type": "code",
   "execution_count": 1059,
   "id": "4fb3cff6-dfd3-4c03-96fa-219eb0185e70",
   "metadata": {
    "execution": {
     "iopub.execute_input": "2024-11-27T00:35:56.812822Z",
     "iopub.status.busy": "2024-11-27T00:35:56.812598Z",
     "iopub.status.idle": "2024-11-27T00:35:56.821085Z",
     "shell.execute_reply": "2024-11-27T00:35:56.819985Z",
     "shell.execute_reply.started": "2024-11-27T00:35:56.812806Z"
    }
   },
   "outputs": [
    {
     "name": "stdout",
     "output_type": "stream",
     "text": [
      "coucou\n"
     ]
    }
   ],
   "source": [
    "# Assuming msd_values is the result of your MSD calculation\n",
    "msd_values, uncertainties = calculate_msd_with_uncertainty(position_arr, sigma_arr[:, 0], sigma_arr[:, 1])\n",
    "print('coucou')\n",
    "# Time intervals for the x-axis (assuming a uniform time step)\n",
    "time_intervals = np.arange(1, len(msd_values) + 1) * 0.5\n",
    "\n",
    "# Plotting the MSD\n",
    "plt.figure(figsize=(8, 6))\n",
    "plt.errorbar(time_intervals, msd_values, yerr=uncertainties, fmt='o', label='MSD', color='blue')\n",
    "\n",
    "# Customize the plot\n",
    "plt.title(\"MSD en fonction de l'intervalle de temps\")\n",
    "plt.xlabel(\"Intervalle de temps\")\n",
    "plt.ylabel(\"MSD\")\n",
    "plt.grid(True)\n",
    "plt.legend()\n",
    "\n",
    "# Show the plot\n",
    "plt.show()"
   ]
  },
  {
   "cell_type": "code",
   "execution_count": null,
   "id": "cf9032b2",
   "metadata": {},
   "outputs": [
    {
     "name": "stdout",
     "output_type": "stream",
     "text": [
      "Coefficients du polynôme ajusté :\n",
      "[-3.25704215e-14  8.07842910e-13  3.13985676e-13]\n",
      "Matrice de covariance des coefficients :\n",
      "[[ 9.50933954e-29 -5.31825723e-28  5.46785309e-28]\n",
      " [-5.31825723e-28  3.10258547e-27 -3.36276980e-27]\n",
      " [ 5.46785309e-28 -3.36276980e-27  4.11104787e-27]]\n",
      "Incertitudes sur les coefficients : [9.75158425e-15 5.57008570e-14 6.41174537e-14]\n",
      "Taille de la particule (m): 1.09e-06 m, avec une incertitude : 7.50e-08\n"
     ]
    }
   ],
   "source": [
    "# Fonction quadratique pour l'ajustement\n",
    "def quadratic(x, a, b, c):\n",
    "    return a * x**2 + b * x + c\n",
    "\n",
    "# Assuming msd_values is the result of your MSD calculation\n",
    "msd_values, uncertainties = calculate_msd_with_uncertainty(position_arr, sigma_arr[:, 0], sigma_arr[:, 1])\n",
    "\n",
    "cropped_msd = msd_values[:5]\n",
    "cropped_inc = uncertainties[:5]\n",
    "\n",
    "# Time intervals for the x-axis (assuming a uniform time step)\n",
    "time_intervals = np.arange(1, len(cropped_msd) + 1)\n",
    "\n",
    "# Perform a quadratic fit using curve_fit, which gives both coefficients and covariance matrix\n",
    "popt, pcov = curve_fit(quadratic, time_intervals, cropped_msd, sigma=cropped_inc)\n",
    "\n",
    "# popt contains the optimal coefficients\n",
    "coeffs = popt\n",
    "\n",
    "# pcov is the covariance matrix, which we can use to compute uncertainties\n",
    "coeff_uncertainties = np.sqrt(np.diag(pcov))  # Incertitudes sur les coefficients sont les éléments diagonaux\n",
    "\n",
    "# Affichage des coefficients séparément\n",
    "print(\"Coefficients du polynôme ajusté :\")\n",
    "print(coeffs)\n",
    "\n",
    "# Affichage de la matrice de covariance séparément\n",
    "print(\"Matrice de covariance des coefficients :\")\n",
    "print(pcov)\n",
    "\n",
    "# Création de la fonction quadratique de l'ajustement\n",
    "quadratic_fit = np.poly1d(coeffs)\n",
    "\n",
    "# Génération des valeurs ajustées pour afficher la courbe\n",
    "fitted_msd = quadratic_fit(time_intervals)\n",
    "\n",
    "# Affichage du MSD avec les barres d'erreur\n",
    "plt.figure(figsize=(8, 6))\n",
    "plt.errorbar(time_intervals, cropped_msd, yerr=cropped_inc, fmt='o', label='MSD', color='blue')\n",
    "plt.plot(time_intervals, fitted_msd, label='Quadratic Fit', color='red', linestyle='--')\n",
    "\n",
    "# Personnalisation du graphique\n",
    "plt.title(\"MSD en fonction de l'intervalle de temps\")\n",
    "plt.xlabel(\"Intervalle de temps\")\n",
    "plt.ylabel(\"MSD\")\n",
    "plt.grid(True)\n",
    "plt.legend()\n",
    "\n",
    "# Afficher le graphique\n",
    "plt.show()\n",
    "\n",
    "# Affichage des incertitudes sur les coefficients\n",
    "print(f\"Incertitudes sur les coefficients : {coeff_uncertainties}\")\n",
    "\n",
    "# Calcul du coefficient de diffusion et de la taille de la particule\n",
    "r = (4 * 1.38 * 10**(-23) * 300 / (6 * np.pi * 10**(-3) * coeffs[1]))  # Coefficient de diffusion\n",
    "r_uncertainty = (4 * 1.38 * 10**(-23) * 300 * coeff_uncertainties[1] / (6 * np.pi * 10**(-3) * (coeffs[1])**2))  # Coefficient de diffusion\n",
    "\n",
    "# Affichage de la taille de la particule avec incertitude\n",
    "print(f\"Taille de la particule (m): {r:.2e} m, avec une incertitude : {r_uncertainty:.2e}\")\n"
   ]
  },
  {
   "cell_type": "code",
   "execution_count": 1056,
   "id": "625b1770-9368-4a91-baa2-a62960106b77",
   "metadata": {
    "execution": {
     "iopub.execute_input": "2024-11-27T00:35:56.821952Z",
     "iopub.status.busy": "2024-11-27T00:35:56.821739Z",
     "iopub.status.idle": "2024-11-27T00:35:56.893091Z",
     "shell.execute_reply": "2024-11-27T00:35:56.891915Z",
     "shell.execute_reply.started": "2024-11-27T00:35:56.821935Z"
    }
   },
   "outputs": [],
   "source": [
    "x_plt, y_plt = zip(*position_list)\n",
    "# Create the plot\n",
    "plt.figure(figsize=(10, 8))  # Optional: Adjust the figure size\n",
    "plt.plot(x_plt, y_plt, marker='o', linestyle='-', color='b', label='Connected Points')\n",
    "\n",
    "# Inverser l'axe Y\n",
    "plt.gca().invert_yaxis()\n",
    "\n",
    "# Set grid limits to match the 1440x1080 grid\n",
    "plt.xlim(0, 1440)\n",
    "plt.ylim(0, 1080)\n",
    "\n",
    "# Add labels and title\n",
    "plt.xlabel('X-axis')\n",
    "plt.ylabel('Y-axis')\n",
    "plt.title('2D Connected Points Plot')\n",
    "plt.legend()\n",
    "\n",
    "# Optional: Add grid lines\n",
    "plt.grid(True)\n",
    "\n",
    "# Afficher le graphique\n",
    "plt.show()"
   ]
  },
  {
   "cell_type": "markdown",
   "id": "5fae7658-ee40-44d3-ace6-763079316aca",
   "metadata": {},
   "source": [
    "## anim toutes les particules"
   ]
  },
  {
   "cell_type": "code",
   "execution_count": 1057,
   "id": "3f852688-0624-4f98-bc43-437e31b430a4",
   "metadata": {
    "execution": {
     "iopub.execute_input": "2024-11-27T00:35:56.894366Z",
     "iopub.status.busy": "2024-11-27T00:35:56.894056Z",
     "iopub.status.idle": "2024-11-27T00:35:56.898702Z",
     "shell.execute_reply": "2024-11-27T00:35:56.897463Z",
     "shell.execute_reply.started": "2024-11-27T00:35:56.894346Z"
    }
   },
   "outputs": [],
   "source": [
    "fig, ax = plt.subplots()\n",
    "img = ax.imshow(big_frames[0], origin='lower', cmap='gray', animated=True)\n",
    "\n",
    "\n",
    "# Update function\n",
    "def update(frame):\n",
    "    img.set_array(frame)\n",
    "    return img,\n",
    "    \n",
    "ani = animation.FuncAnimation(fig, update, frames=big_frames, interval=50, blit=True)\n",
    "plt.show()"
   ]
  },
  {
   "cell_type": "markdown",
   "id": "111a50d8-6fce-40cc-bf48-775bfd002c3d",
   "metadata": {},
   "source": [
    "## anim crop"
   ]
  },
  {
   "cell_type": "code",
   "execution_count": 1058,
   "id": "0d6554b7-0c86-4ee5-8a32-4bd994f881f4",
   "metadata": {
    "execution": {
     "iopub.execute_input": "2024-11-27T00:35:56.899778Z",
     "iopub.status.busy": "2024-11-27T00:35:56.899533Z",
     "iopub.status.idle": "2024-11-27T00:35:56.955616Z",
     "shell.execute_reply": "2024-11-27T00:35:56.954725Z",
     "shell.execute_reply.started": "2024-11-27T00:35:56.899759Z"
    }
   },
   "outputs": [],
   "source": [
    "fig, ax = plt.subplots()\n",
    "img = ax.imshow(crop_frames[0], origin='lower', cmap='gray', animated=True)\n",
    "\n",
    "\n",
    "def update(frame):\n",
    "    img.set_array(frame)\n",
    "    return img,\n",
    "    \n",
    "ani = animation.FuncAnimation(fig, update, frames=crop_frames, interval=50, blit=True)\n",
    "plt.show()"
   ]
  },
  {
   "cell_type": "code",
   "execution_count": null,
   "id": "a57b3c57-a5c5-4f11-b5ce-c32e975a7d83",
   "metadata": {},
   "outputs": [],
   "source": []
  }
 ],
 "metadata": {
  "kernelspec": {
   "display_name": "Python 3",
   "language": "python",
   "name": "python3"
  },
  "language_info": {
   "codemirror_mode": {
    "name": "ipython",
    "version": 3
   },
   "file_extension": ".py",
   "mimetype": "text/x-python",
   "name": "python",
   "nbconvert_exporter": "python",
   "pygments_lexer": "ipython3",
   "version": "3.12.7"
  }
 },
 "nbformat": 4,
 "nbformat_minor": 5
}
