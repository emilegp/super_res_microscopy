{
 "cells": [
  {
   "cell_type": "markdown",
   "id": "a1bbf155-d46a-4bbb-a7bc-6857ef1672de",
   "metadata": {},
   "source": [
    "# Initialisation"
   ]
  },
  {
   "cell_type": "code",
   "execution_count": 569,
   "id": "49fff9c0-1a10-465b-b5d6-cf2853a133db",
   "metadata": {
    "execution": {
     "iopub.execute_input": "2024-11-27T00:33:55.015775Z",
     "iopub.status.busy": "2024-11-27T00:33:55.015362Z",
     "iopub.status.idle": "2024-11-27T00:33:56.248500Z",
     "shell.execute_reply": "2024-11-27T00:33:56.247904Z",
     "shell.execute_reply.started": "2024-11-27T00:33:55.015736Z"
    }
   },
   "outputs": [],
   "source": [
    "import matplotlib\n",
    "matplotlib.use('Qt5Agg')  # Utiliser le backend Qt5Agg pour Windows\n",
    "import matplotlib.pyplot as plt\n",
    "import matplotlib.animation as animation\n",
    "from scipy.optimize import curve_fit\n",
    "import cv2\n",
    "import numpy as np\n",
    "import os\n",
    "from PIL import Image\n",
    "import lmfit\n",
    "#import tifffile\n",
    "#%matplotlib tk #pour Linux"
   ]
  },
  {
   "cell_type": "code",
   "execution_count": 570,
   "id": "5244023b",
   "metadata": {},
   "outputs": [],
   "source": [
    "import scipy.ndimage as ndimage\n",
    "from sklearn.cluster import DBSCAN"
   ]
  },
  {
   "cell_type": "markdown",
   "id": "3c857432-f4a0-4d37-b1c3-d5115974f0f5",
   "metadata": {},
   "source": [
    "# Importer fichier"
   ]
  },
  {
   "cell_type": "code",
   "execution_count": 571,
   "id": "72d00744-e863-4ed8-b83b-112156869997",
   "metadata": {
    "execution": {
     "iopub.execute_input": "2024-11-27T00:33:56.249387Z",
     "iopub.status.busy": "2024-11-27T00:33:56.249142Z",
     "iopub.status.idle": "2024-11-27T00:33:56.288891Z",
     "shell.execute_reply": "2024-11-27T00:33:56.287953Z",
     "shell.execute_reply.started": "2024-11-27T00:33:56.249368Z"
    }
   },
   "outputs": [],
   "source": [
    "path_to_tiff = os.path.join(\"..\", \"acquisition\", \"test_cond_rele_200ms_1im_gain=150_black=0.tiff\")\n",
    "\n",
    "tiff = Image.open(path_to_tiff)"
   ]
  },
  {
   "cell_type": "markdown",
   "id": "a9542b9e-bfef-4abf-86f4-db78b05a8be8",
   "metadata": {},
   "source": [
    "# Nombre de frames pas vide"
   ]
  },
  {
   "cell_type": "code",
   "execution_count": 572,
   "id": "dcf8b520-316f-4ac0-b860-fd1d965ea732",
   "metadata": {
    "execution": {
     "iopub.execute_input": "2024-11-27T00:33:56.289986Z",
     "iopub.status.busy": "2024-11-27T00:33:56.289746Z",
     "iopub.status.idle": "2024-11-27T00:33:57.058878Z",
     "shell.execute_reply": "2024-11-27T00:33:57.057944Z",
     "shell.execute_reply.started": "2024-11-27T00:33:56.289967Z"
    }
   },
   "outputs": [
    {
     "name": "stdout",
     "output_type": "stream",
     "text": [
      "All frames processed.\n"
     ]
    },
    {
     "data": {
      "text/plain": [
       "71"
      ]
     },
     "execution_count": 572,
     "metadata": {},
     "output_type": "execute_result"
    }
   ],
   "source": [
    "with Image.open(path_to_tiff) as img:\n",
    "    frame_number = 0\n",
    "    actual_frames = 0\n",
    "    try:\n",
    "        while True:\n",
    "            frame_number += 1\n",
    "            if np.sum(np.array(img)) != 0:\n",
    "                actual_frames += 1\n",
    "                \n",
    "            img.seek(frame_number)\n",
    "    except EOFError:\n",
    "        print(\"All frames processed.\")\n",
    "\n",
    "actual_frames"
   ]
  },
  {
   "cell_type": "markdown",
   "id": "4ce4927e-f7ec-4e65-ad5d-cef9195b6cbc",
   "metadata": {},
   "source": [
    "# 1re frame\n",
    "\n",
    "**Le nombre de frames ignorés n'est pas pris en compte**"
   ]
  },
  {
   "cell_type": "code",
   "execution_count": 573,
   "id": "26577059-48c2-4f3a-8e52-a89c99dbccd3",
   "metadata": {
    "execution": {
     "iopub.execute_input": "2024-11-27T00:33:57.059925Z",
     "iopub.status.busy": "2024-11-27T00:33:57.059662Z",
     "iopub.status.idle": "2024-11-27T00:33:57.082939Z",
     "shell.execute_reply": "2024-11-27T00:33:57.082043Z",
     "shell.execute_reply.started": "2024-11-27T00:33:57.059898Z"
    }
   },
   "outputs": [],
   "source": [
    "frame_index = 0\n",
    "first_frame = 0\n",
    "tiff.seek(frame_index)\n",
    "original_image = np.array(tiff)\n",
    "\n",
    "while np.sum(original_image) == 0:\n",
    "    frame_index += 1\n",
    "    tiff.seek(frame_index)\n",
    "    original_image = np.array(tiff)\n",
    "    first_frame += 1\n",
    "    print(frame_index)\n",
    "\n",
    "\n"
   ]
  },
  {
   "cell_type": "markdown",
   "id": "e1d8711a-7b97-4eb1-8556-60a0ce1f5253",
   "metadata": {},
   "source": [
    "# Traitement d'image"
   ]
  },
  {
   "cell_type": "code",
   "execution_count": 574,
   "id": "3a91746d-ed20-4b11-841a-4384c3c9f610",
   "metadata": {
    "execution": {
     "iopub.execute_input": "2024-11-27T00:33:57.083712Z",
     "iopub.status.busy": "2024-11-27T00:33:57.083500Z",
     "iopub.status.idle": "2024-11-27T00:33:57.942225Z",
     "shell.execute_reply": "2024-11-27T00:33:57.941368Z",
     "shell.execute_reply.started": "2024-11-27T00:33:57.083690Z"
    }
   },
   "outputs": [],
   "source": [
    "clahe = cv2.createCLAHE(clipLimit=10.0, tileGridSize=(30, 30))\n",
    "preprocessed = clahe.apply(original_image)\n",
    "\n",
    "blurred = cv2.medianBlur(preprocessed, 115)\n",
    "preprocessed2 = cv2.subtract(preprocessed, blurred)\n",
    "\n",
    "# Apply Non-Local Means Denoising\n",
    "img = cv2.fastNlMeansDenoising(preprocessed2, None, 15, 7, 41)\n"
   ]
  },
  {
   "cell_type": "markdown",
   "id": "9f52f7fc-b595-4b76-8cc3-0755544c12bd",
   "metadata": {},
   "source": [
    "# Sélection du point à tracker"
   ]
  },
  {
   "cell_type": "code",
   "execution_count": 575,
   "id": "5a934439-4314-4c28-a4cd-c0d9113c98e9",
   "metadata": {
    "execution": {
     "iopub.execute_input": "2024-11-27T00:33:57.944451Z",
     "iopub.status.busy": "2024-11-27T00:33:57.944269Z",
     "iopub.status.idle": "2024-11-27T00:33:57.947894Z",
     "shell.execute_reply": "2024-11-27T00:33:57.947259Z",
     "shell.execute_reply.started": "2024-11-27T00:33:57.944433Z"
    }
   },
   "outputs": [],
   "source": [
    "def crop(img, x, y, crop_size_x, crop_size_y):\n",
    "    x_start = int(x - crop_size_x // 2)\n",
    "    x_end = int(x + crop_size_x // 2)\n",
    "    y_start = int(y - crop_size_y // 2)\n",
    "    y_end = int(y + crop_size_y // 2)\n",
    "\n",
    "    return img[y_start:y_end, x_start:x_end]"
   ]
  },
  {
   "cell_type": "code",
   "execution_count": 576,
   "id": "60e9cbb8-923d-4281-89f9-accc9565c831",
   "metadata": {
    "execution": {
     "iopub.execute_input": "2024-11-27T00:33:57.948819Z",
     "iopub.status.busy": "2024-11-27T00:33:57.948575Z",
     "iopub.status.idle": "2024-11-27T00:34:16.244046Z",
     "shell.execute_reply": "2024-11-27T00:34:16.243397Z",
     "shell.execute_reply.started": "2024-11-27T00:33:57.948800Z"
    }
   },
   "outputs": [
    {
     "name": "stdout",
     "output_type": "stream",
     "text": [
      "Please click on the point you want to select.\n",
      "Selected point: (795.4740259740262, 777.3571428571429)\n"
     ]
    }
   ],
   "source": [
    "# Display the image and let the user select a point interactively\n",
    "fig, ax = plt.subplots()\n",
    "ax.imshow(img, origin='lower', cmap='gray')  # Use 'gray' for better visibility of grayscale images\n",
    "plt.title(f\"Frame {frame_index}: Select a point\")\n",
    "\n",
    "# Ask for a point to be selected\n",
    "print(\"Please click on the point you want to select.\")\n",
    "x, y = plt.ginput(1)[0]  # This will get the coordinates of the clicked point\n",
    "print(f\"Selected point: ({x}, {y})\")\n",
    "plt.close()\n",
    "\n",
    "crop_sze = crop_sze_x = crop_sze_y = 50"
   ]
  },
  {
   "cell_type": "markdown",
   "id": "383a659b",
   "metadata": {},
   "source": [
    "Debogueur"
   ]
  },
  {
   "cell_type": "code",
   "execution_count": 577,
   "id": "6184609f",
   "metadata": {},
   "outputs": [],
   "source": [
    "def visionneur(frame, titre):\n",
    "    plt.figure(figsize=(10, 5))\n",
    "    plt.clf() \n",
    "    plt.imshow(frame, origin='lower', cmap='gray')\n",
    "    plt.title(titre)\n",
    "    plt.colorbar()  \n",
    "    plt.show()"
   ]
  },
  {
   "cell_type": "markdown",
   "id": "6a9490a9-7dce-451b-81ff-0ae267584ee3",
   "metadata": {},
   "source": [
    "# Fit gaussien sur le point sélectionné"
   ]
  },
  {
   "cell_type": "code",
   "execution_count": 578,
   "id": "5fc5b874-d129-40a2-985c-03a724b3cb95",
   "metadata": {
    "execution": {
     "iopub.execute_input": "2024-11-27T00:34:16.245037Z",
     "iopub.status.busy": "2024-11-27T00:34:16.244816Z",
     "iopub.status.idle": "2024-11-27T00:34:16.248322Z",
     "shell.execute_reply": "2024-11-27T00:34:16.247669Z",
     "shell.execute_reply.started": "2024-11-27T00:34:16.245020Z"
    }
   },
   "outputs": [],
   "source": [
    "def prepare_data(x, y, z):\n",
    "    return (x.flatten(), y.flatten()), z.flatten()"
   ]
  },
  {
   "cell_type": "code",
   "execution_count": 579,
   "id": "1fb18b6a-7295-4ea7-b0fb-84f5a41fbdbb",
   "metadata": {
    "execution": {
     "iopub.execute_input": "2024-11-27T00:34:16.249457Z",
     "iopub.status.busy": "2024-11-27T00:34:16.248979Z",
     "iopub.status.idle": "2024-11-27T00:34:16.280319Z",
     "shell.execute_reply": "2024-11-27T00:34:16.279600Z",
     "shell.execute_reply.started": "2024-11-27T00:34:16.249435Z"
    }
   },
   "outputs": [],
   "source": [
    "def gaussian_2d(xy, amplitude, x0, y0, sigma_x, sigma_y, offset):\n",
    "    x, y = xy\n",
    "    a = 1 / (2 * sigma_x**2)\n",
    "    b = 1 / (2 * sigma_y**2)\n",
    "    return offset + amplitude * np.exp(- (a * (x - x0)**2 + b * (y - y0)**2))"
   ]
  },
  {
   "cell_type": "code",
   "execution_count": 580,
   "id": "b2f948a1-d8e5-4fa8-acfe-ac569383012d",
   "metadata": {
    "execution": {
     "iopub.execute_input": "2024-11-27T00:34:16.281928Z",
     "iopub.status.busy": "2024-11-27T00:34:16.281279Z",
     "iopub.status.idle": "2024-11-27T00:34:16.286665Z",
     "shell.execute_reply": "2024-11-27T00:34:16.286066Z",
     "shell.execute_reply.started": "2024-11-27T00:34:16.281903Z"
    }
   },
   "outputs": [],
   "source": [
    "def localisateur_gaussien(intensity_grid, centre):\n",
    "    x = np.arange(intensity_grid.shape[1])\n",
    "    y = np.arange(intensity_grid.shape[0])\n",
    "    X, Y = np.meshgrid(x, y)\n",
    "\n",
    "    # Préparer les données pour le fit\n",
    "    (xdata, ydata), zdata = prepare_data(X, Y, intensity_grid)\n",
    "    model = lmfit.Model(gaussian_2d)\n",
    "    max_idx = np.unravel_index(np.argmax(intensity_grid), intensity_grid.shape)\n",
    "    initial_x0 = x[max_idx[1]]\n",
    "    initial_y0 = y[max_idx[0]]\n",
    "\n",
    "    # Définir les paramètres du modèle\n",
    "    params = model.make_params(\n",
    "        amplitude=np.max(intensity_grid),\n",
    "        x0=initial_x0,\n",
    "        y0=initial_y0,\n",
    "        sigma_x=1,\n",
    "        sigma_y=1,\n",
    "        offset=2\n",
    "    )\n",
    "\n",
    "    # Ajouter des bornes sur les paramètres x0 et y0\n",
    "    params['x0'].min = 0    # Limite inférieure pour x0\n",
    "    params['x0'].max = intensity_grid.shape[1] - 1  # Limite supérieure pour x0\n",
    "    params['y0'].min = 0    # Limite inférieure pour y0\n",
    "    params['y0'].max = intensity_grid.shape[0] - 1  # Limite supérieure pour y0\n",
    "\n",
    "    # Ajouter des bornes sur les paramètres sigma\n",
    "    params['sigma_x'].min = 1  # Limite inférieure de sigma_x\n",
    "    params['sigma_x'].max = 20 # Limite supérieure de sigma_x\n",
    "    params['sigma_y'].min = 1  # Limite inférieure de sigma_y\n",
    "    params['sigma_y'].max = 20 # Limite supérieure de sigma_y\n",
    "\n",
    "    # Effectuer l'ajustement\n",
    "    result = model.fit(zdata, params, xy=(xdata, ydata))\n",
    "    \n",
    "    x_position = result.params['x0'].value + centre[0] - crop_sze_x/4\n",
    "    y_position = result.params['y0'].value + centre[1] - crop_sze_y/4\n",
    "\n",
    "    return [x_position, y_position], result.params['sigma_x'].value, result.params['sigma_y'].value"
   ]
  },
  {
   "cell_type": "markdown",
   "id": "647422c5-d9bb-4e71-9481-76349ea02eca",
   "metadata": {},
   "source": [
    "# Process d'image (enlever le bruit)\n",
    "\n",
    "**semble faire du trouble**"
   ]
  },
  {
   "cell_type": "code",
   "execution_count": 581,
   "id": "c3df48fe-ec70-413c-8172-84f9754a0bcf",
   "metadata": {
    "execution": {
     "iopub.execute_input": "2024-11-27T00:34:16.287655Z",
     "iopub.status.busy": "2024-11-27T00:34:16.287395Z",
     "iopub.status.idle": "2024-11-27T00:34:16.291801Z",
     "shell.execute_reply": "2024-11-27T00:34:16.291266Z",
     "shell.execute_reply.started": "2024-11-27T00:34:16.287612Z"
    }
   },
   "outputs": [],
   "source": [
    "def denoise(image):\n",
    "    clahe = cv2.createCLAHE(clipLimit=10.0, tileGridSize=(30, 30))\n",
    "    preprocessed = clahe.apply(image)\n",
    "    \n",
    "    blurred = cv2.medianBlur(preprocessed, 115)\n",
    "    preprocessed2 = cv2.subtract(preprocessed, blurred)\n",
    "    \n",
    "    return cv2.fastNlMeansDenoising(preprocessed2, None, 15, 7, 41)"
   ]
  },
  {
   "cell_type": "markdown",
   "id": "10149e95",
   "metadata": {},
   "source": [
    "# Identifier la particule et donner sa nouvelle position"
   ]
  },
  {
   "cell_type": "code",
   "execution_count": 582,
   "id": "4e08893b",
   "metadata": {},
   "outputs": [],
   "source": [
    "def is_within_bounds(position):\n",
    "    \"\"\"\n",
    "    Vérifie si la position est à l'intérieur des limites du cadre (100 à 1300 en x et 100 à 980 en y).\n",
    "    \"\"\"\n",
    "    x, y = position\n",
    "\n",
    "    # Définir les bornes du cadre\n",
    "    x_min, x_max = 100, 1300\n",
    "    y_min, y_max = 100, 980\n",
    "\n",
    "    # Vérifier si la position est dans les bornes du cadre\n",
    "    if x_min <= x <= x_max and y_min <= y <= y_max:\n",
    "        return True\n",
    "    else:\n",
    "        return False\n"
   ]
  },
  {
   "cell_type": "code",
   "execution_count": 583,
   "id": "11c4d94f",
   "metadata": {},
   "outputs": [],
   "source": [
    "def empreinte_digitale(image, threshold=24, eps=3, min_samples=1):\n",
    "    # 1. Observer chaque particule approximativement\n",
    "    #neighborhood_size = 3  \n",
    "    #local_max = ndimage.maximum_filter(image, size=neighborhood_size)\n",
    "    visionneur(image, f'particule choisie')\n",
    "\n",
    "    maxima = (image > threshold)\n",
    "    \n",
    "    coordinates = np.column_stack(np.where(maxima))  \n",
    "    if coordinates.shape[0] == 0:\n",
    "        print(\"Aucune particule détectée.\")\n",
    "        return [], image\n",
    "\n",
    "    dbscan = DBSCAN(eps=eps, min_samples=min_samples)\n",
    "    labels = dbscan.fit_predict(coordinates)\n",
    "    unique_labels = np.unique(labels)\n",
    "    size=0\n",
    "\n",
    "    # 2. Déterminer l'empreinte digitale de notre particule\n",
    "    for label in unique_labels:\n",
    "        if label != -1:  # -1 correspond au bruit dans DBSCAN\n",
    "            cluster_points = coordinates[labels == label]\n",
    "            plt.scatter(cluster_points[:, 1], cluster_points[:, 0], label=f'Particule {label}')\n",
    "\n",
    "            if cluster_points.shape[0]>size:\n",
    "                size = cluster_points.shape[0]\n",
    "                luminosity = np.mean(image[cluster_points[:, 0], cluster_points[:, 1]])\n",
    "\n",
    "    seuil=np.max(image)*0.5\n",
    "    print(seuil)\n",
    "    # 3. Afficher les résultats et filtrer les particules selon leur taille et luminosité\n",
    "    plt.imshow(image, origin='lower', cmap='gray')\n",
    "    plt.title(f\"Empreinte digitale de la particule, lum={luminosity} et taille={size}\")\n",
    "    plt.legend()\n",
    "    plt.colorbar()  \n",
    "    plt.show()\n",
    "\n",
    "    return size, luminosity, seuil"
   ]
  },
  {
   "cell_type": "code",
   "execution_count": 584,
   "id": "f690236d",
   "metadata": {},
   "outputs": [],
   "source": [
    "def detect_nbre_particles(image, threshold, eps=5, min_samples=1):\n",
    "    # 1. Appliquer un filtre de voisinage pour détecter les maxima locaux\n",
    "    neighborhood_size = 3  # Taille du voisinage pour détecter les maxima locaux\n",
    "    local_max = ndimage.maximum_filter(image, size=neighborhood_size)\n",
    "    # 2. Comparer l'image originale et les maxima locaux pour identifier les vrais maxima\n",
    "    maxima = (image == local_max) & (image > threshold)\n",
    "\n",
    "    # 3. Extraire les coordonnées des maxima (particules)\n",
    "    coordinates = np.column_stack(np.where(maxima))  # Extraire les indices des pixels maximaux\n",
    "    if coordinates.shape[0] == 0:\n",
    "        print(\"Aucune particule détectée.\")\n",
    "        visionneur(image, f'détection du nombre de particules')\n",
    "\n",
    "        return [], image\n",
    "\n",
    "    # 4. Appliquer DBSCAN pour regrouper les particules proches (cluster les maxima détectés)\n",
    "    dbscan = DBSCAN(eps=eps, min_samples=min_samples)\n",
    "    labels = dbscan.fit_predict(coordinates)\n",
    "\n",
    "    #5. Déterminer le nombre de particules\n",
    "    unique_labels = np.unique(labels)\n",
    "    nb_particules = len(unique_labels)\n",
    "        \n",
    "    # 6. Afficher les résultats et filtrer les particules selon leur taille et luminosité\n",
    "    # plt.imshow(image, origin='lower', cmap='gray')\n",
    "    # plt.title(\"Détection des particules\")\n",
    "    \n",
    "    positions=[]\n",
    "    for label in unique_labels:\n",
    "        if label != -1:  # -1 correspond au bruit dans DBSCAN\n",
    "            cluster_points = coordinates[labels == label]\n",
    "            #plt.scatter(cluster_points[:, 1], cluster_points[:, 0], label=f'Particule {label}')\n",
    "        positions.append((np.mean(cluster_points[:, 1]), np.mean(cluster_points[:, 0])))\n",
    "        \n",
    "\n",
    "    # plt.colorbar()  \n",
    "    # plt.legend()\n",
    "    # plt.show()\n",
    "\n",
    "    # Retourner les coordonnées des particules filtrées\n",
    "    return nb_particules, positions"
   ]
  },
  {
   "cell_type": "code",
   "execution_count": 585,
   "id": "ddfe6898",
   "metadata": {},
   "outputs": [],
   "source": [
    "def identificateur_particles(image, ref_size, ref_luminosity, threshold=25, eps=5, min_samples=1):\n",
    "    # 1. Obtenir le plus d'info sur la particule\n",
    "    maxima = (image > threshold)\n",
    "    \n",
    "    coordinates = np.column_stack(np.where(maxima))  \n",
    "    if coordinates.shape[0] == 0:\n",
    "        print(\"Mauvais re-crop empêche identification de la particule.\")\n",
    "        return [], image\n",
    "\n",
    "    dbscan = DBSCAN(eps=eps, min_samples=min_samples)\n",
    "    labels = dbscan.fit_predict(coordinates)\n",
    "    unique_labels = np.unique(labels)\n",
    "\n",
    "    # 2. Parcourir chaque particule et identifier laquelle est celle qu'on suit\n",
    "    distances = []\n",
    "    position_particules = []\n",
    "\n",
    "    for label in unique_labels:\n",
    "        if label != -1:  # -1 correspond au bruit dans DBSCAN\n",
    "            cluster_points = coordinates[labels == label]\n",
    "            \n",
    "            size = cluster_points.shape[0]\n",
    "            luminosity = np.mean(image[cluster_points[:, 0], cluster_points[:, 1]])\n",
    "            size_distance = abs(size - ref_size)  \n",
    "            luminosity_distance = abs(luminosity - ref_luminosity)  \n",
    "            combined_distance = size_distance + luminosity_distance\n",
    "            distances.append(combined_distance)\n",
    "            position_particules.append((np.mean(cluster_points[:, 1]), np.mean(cluster_points[:, 0])))\n",
    "\n",
    "    ecart = np.min(distances)\n",
    "    position_best_particle = position_particules[np.argmin(distances)]  \n",
    "    print(f'ecrat: {ecart}')\n",
    "    # 3. Afficher les résultats et filtrer les particules selon leur taille et luminosité\n",
    "    # plt.imshow(image, origin='lower', cmap='gray')\n",
    "    # plt.title(\"Détection des particules\")\n",
    "    # plt.scatter(position_best_particle[0], position_best_particle[1], color='r', label=f'Particule sélectionnée')\n",
    "    # plt.legend()\n",
    "    # plt.colorbar()  \n",
    "    # plt.show()\n",
    "\n",
    "    return position_best_particle, ecart"
   ]
  },
  {
   "cell_type": "markdown",
   "id": "61f2661b-5185-493a-bd25-97d1c42d712c",
   "metadata": {},
   "source": [
    "# Faire le crop et fit"
   ]
  },
  {
   "cell_type": "code",
   "execution_count": 586,
   "id": "b695a082-5a85-499e-9183-cfd354b4dc5d",
   "metadata": {
    "execution": {
     "iopub.execute_input": "2024-11-27T00:34:16.297421Z",
     "iopub.status.busy": "2024-11-27T00:34:16.297176Z",
     "iopub.status.idle": "2024-11-27T00:34:16.301468Z",
     "shell.execute_reply": "2024-11-27T00:34:16.300888Z",
     "shell.execute_reply.started": "2024-11-27T00:34:16.297403Z"
    }
   },
   "outputs": [],
   "source": [
    "def particle_tracker_simple(image, x, y):\n",
    "    image = denoise(image)\n",
    "\n",
    "    cropped_img = crop(image, x, y, crop_sze_x, crop_sze_y)\n",
    "    \n",
    "    #Gérer plus qu'une particule\n",
    "    cropped_img = np.array(cropped_img)\n",
    "    max_index = np.argmax(cropped_img)\n",
    "    max_coords = np.unravel_index(max_index, cropped_img.shape)\n",
    "\n",
    "    nouveau_x = x - crop_sze_x // 2 + max_coords[1]\n",
    "    nouveau_y = y - crop_sze_y // 2 + max_coords[0]\n",
    "    \n",
    "    second_crop = crop(image, nouveau_x, nouveau_y, crop_sze_x, crop_sze_y)    # Re-crop autour d'une seule particule\n",
    "\n",
    "    result_fit = localisateur_gaussien(second_crop, [nouveau_x, nouveau_y])\n",
    "\n",
    "    x_new, y_new = result_fit[0][0], result_fit[0][1]\n",
    "\n",
    "    return [result_fit, cropped_img, (x_new, y_new), (result_fit[1], result_fit[2])]"
   ]
  },
  {
   "cell_type": "code",
   "execution_count": 587,
   "id": "5625e5b2",
   "metadata": {},
   "outputs": [],
   "source": [
    "#Placés ici pour pouvoir y faire référence dans particule_tracker\n",
    "position_list=[[x,y]]\n",
    "sigma_list = []\n",
    "crop_frames = []\n",
    "big_frames = []"
   ]
  },
  {
   "cell_type": "code",
   "execution_count": 588,
   "id": "0d8ff164",
   "metadata": {},
   "outputs": [],
   "source": [
    "def particle_tracker(imge, x, y, taille_initiale, luminosité_initiale, seuil):\n",
    "    # 1. Ce qu'on voit près de l'ancienne position\n",
    "    image = denoise(imge)\n",
    "\n",
    "    cropped_img = crop(image, x, y, crop_sze_x, crop_sze_y)\n",
    "    \n",
    "    # 2. Déterminer combien il y a de particules et laquelle est la notre\n",
    "    # Utiliser une reconnaissance de particules et si plus qu'une, alors clic pour choisir\n",
    "    nb_part, coordonnées = detect_nbre_particles(cropped_img, seuil)\n",
    "    #print(f'coordonnées des {nb_part} particules:{coordonnées}')\n",
    "\n",
    "    if (nb_part == 0) or (nb_part == []):\n",
    "        # Display the image and let the user select a point interactively\n",
    "        fig, ax = plt.subplots()\n",
    "        ax.imshow(denoise(img), origin='lower', cmap='gray') \n",
    "        plt.title(f\"Frame {len(position_list)-1}: Select a point\")\n",
    "\n",
    "        # Ajouter une croix rouge à la position donnée\n",
    "        cx, cy = position_list[len(position_list)-1]\n",
    "        ax.plot(cx, cy, 'rx', markersize=10) \n",
    "        \n",
    "        # Afficher l'image et demander à l'utilisateur de cliquer\n",
    "        print(\"Please click on the point you want to select.\")\n",
    "        nouveau_x, nouveau_y = plt.ginput(1)[0]  # Attente du clic de l'utilisateur (1 point)\n",
    "        print(f\"Selected point: ({nouveau_x}, {nouveau_y})\")\n",
    "        \n",
    "        # Fermer l'affichage après sélection\n",
    "        plt.close()\n",
    "    elif nb_part > 1:\n",
    "        imperfections, emplacements = [] , []\n",
    "        for num_particule in range(nb_part):\n",
    "            x_identifier=x - crop_sze_x // 2 + coordonnées[num_particule][0]\n",
    "            y_identifier=y - crop_sze_y // 2 + coordonnées[num_particule][1]\n",
    "            crop_pour_identifier = crop(image, x_identifier, y_identifier, crop_sze_x//2, crop_sze_y//2)\n",
    "            emplacement, ecart = identificateur_particles(crop_pour_identifier, taille_initiale, luminosité_initiale, seuil)\n",
    "            imperfections.append(ecart)\n",
    "            emplacements.append(emplacement)\n",
    "        qualité = np.min(imperfections)\n",
    "        print(f'écart:{qualité}')\n",
    "        max_coords = emplacements[np.argmin(imperfections)]  \n",
    "        nouveau_x = x_identifier - crop_sze_x // 4 + max_coords[0]\n",
    "        nouveau_y = y_identifier - crop_sze_y // 4 + max_coords[1]\n",
    "    else:\n",
    "        cropped_img = np.array(cropped_img)\n",
    "        max_index = np.argmax(cropped_img)\n",
    "        max_coords = np.unravel_index(max_index, cropped_img.shape)\n",
    "\n",
    "        nouveau_x = x - crop_sze_x // 2 + max_coords[1] #Oui c'est inversé à cause du unravel juste avant\n",
    "        nouveau_y = y - crop_sze_y // 2 + max_coords[0]\n",
    "\n",
    "    # Vérification s'il fout le camp \n",
    "    if np.sqrt((position_list[-1][0]-nouveau_x)**2+(position_list[-1][1]-nouveau_y)**2)>50:\n",
    "        # Display the image and let the user select a point interactively\n",
    "        fig, ax = plt.subplots()\n",
    "        ax.imshow(denoise(img), origin='lower', cmap='gray') \n",
    "        plt.title(f\"Frame {len(position_list)-1}: Problème d'identification, select a point\")\n",
    "\n",
    "        print('problème d''identification')\n",
    "        # Ajouter une croix rouge à la position donnée\n",
    "        cx, cy = position_list[-1]\n",
    "        ax.plot(cx, cy, 'rx', markersize=10, label=f'Position estimée') \n",
    "        plt.legend()\n",
    "        # Afficher l'image et demander à l'utilisateur de cliquer\n",
    "        print(\"Please click on the point you want to select.\")\n",
    "        nouveau_x, nouveau_y = plt.ginput(1)[0]  # Attente du clic de l'utilisateur (1 point)\n",
    "        print(f\"Selected point: ({nouveau_x}, {nouveau_y})\")\n",
    "        \n",
    "        # Fermer l'affichage après sélection\n",
    "        plt.close()\n",
    "\n",
    "    # 3. Crop atour de notre particule et fit dessus\n",
    "    second_crop = crop(image, nouveau_x, nouveau_y, crop_sze_x//2, crop_sze_y//2)    # Re-crop autour d'une seule particule\n",
    "\n",
    "\n",
    "    result_fit = localisateur_gaussien(second_crop, [nouveau_x, nouveau_y])\n",
    "\n",
    "    x_new, y_new = result_fit[0][0], result_fit[0][1]\n",
    "\n",
    "    # Affiche l'accord entre le fit gaussien et le blob (pour comparer)\n",
    "    if len(position_list)==5:    \n",
    "        x_list, y_list = zip(*position_list)\n",
    "        x_list = list(x_list)  # Convertir en liste\n",
    "        y_list = list(y_list)  # Convertir en liste        \n",
    "        x_list.append(x_new)\n",
    "        y_list.append(y_new)   \n",
    "        plt.imshow(image, origin='lower', cmap='gray')#, extent=[x_position.min(), x_position.max(), y_position.min(), y_position.max()])\n",
    "        plt.title(\"tracking de la particule\")\n",
    "        plt.scatter(x_list, y_list, color='b', label=f'Positions précédentes')\n",
    "        plt.scatter(x_new, y_new, color='r', label=f'Position actuelle estimée par fit gaussien')\n",
    "        plt.plot(x_list, y_list, color='b', linestyle='-', linewidth=1)\n",
    "        plt.xlabel('Position horizontale (nombre de pixel)')\n",
    "        plt.ylabel('Position veticale (nombre de pixel)')\n",
    "        plt.legend()\n",
    "        plt.show()\n",
    "\n",
    "    return [result_fit, second_crop, (x_new, y_new), (result_fit[1], result_fit[2])]"
   ]
  },
  {
   "cell_type": "markdown",
   "id": "8002acc8-bac7-4c69-846a-381ee31f08ff",
   "metadata": {},
   "source": [
    "# Main loop"
   ]
  },
  {
   "cell_type": "code",
   "execution_count": 589,
   "id": "e7a5dba4-849a-4171-8fbb-6d05453ed795",
   "metadata": {
    "execution": {
     "iopub.execute_input": "2024-11-27T00:34:16.302483Z",
     "iopub.status.busy": "2024-11-27T00:34:16.302259Z",
     "iopub.status.idle": "2024-11-27T00:35:56.804477Z",
     "shell.execute_reply": "2024-11-27T00:35:56.803536Z",
     "shell.execute_reply.started": "2024-11-27T00:34:16.302464Z"
    }
   },
   "outputs": [
    {
     "name": "stdout",
     "output_type": "stream",
     "text": [
      "39.5\n",
      "position initiale: [[795.4740259740262, 777.3571428571429]]\n",
      "x=795.4740259740262\n",
      "ecrat: 70.55214453584018\n",
      "ecrat: 39.48363752615671\n",
      "ecrat: 42.96796818071411\n",
      "écart:39.48363752615671\n",
      "liste des positions frame 1:[[795.4740259740262, 777.3571428571429], (795.5569524068497, 778.223859008559)]\n",
      "x=795.5569524068497\n",
      "liste des positions frame 2:[[795.4740259740262, 777.3571428571429], (795.5569524068497, 778.223859008559), (802.0601956794684, 776.1243106143643)]\n",
      "x=802.0601956794684\n",
      "liste des positions frame 3:[[795.4740259740262, 777.3571428571429], (795.5569524068497, 778.223859008559), (802.0601956794684, 776.1243106143643), (805.3092524206794, 776.5626122649505)]\n",
      "x=805.3092524206794\n",
      "liste des positions frame 4:[[795.4740259740262, 777.3571428571429], (795.5569524068497, 778.223859008559), (802.0601956794684, 776.1243106143643), (805.3092524206794, 776.5626122649505), (809.0863648227672, 775.3561166264495)]\n",
      "x=809.0863648227672\n",
      "liste des positions frame 5:[[795.4740259740262, 777.3571428571429], (795.5569524068497, 778.223859008559), (802.0601956794684, 776.1243106143643), (805.3092524206794, 776.5626122649505), (809.0863648227672, 775.3561166264495), (817.0723338288519, 773.28283188743)]\n",
      "x=817.0723338288519\n",
      "frames vide:6\n",
      "liste des positions frame 6:[[795.4740259740262, 777.3571428571429], (795.5569524068497, 778.223859008559), (802.0601956794684, 776.1243106143643), (805.3092524206794, 776.5626122649505), (809.0863648227672, 775.3561166264495), (817.0723338288519, 773.28283188743), array([nan, nan])]\n",
      "x=817.0723338288519\n",
      "frames vide:7\n",
      "liste des positions frame 7:[[795.4740259740262, 777.3571428571429], (795.5569524068497, 778.223859008559), (802.0601956794684, 776.1243106143643), (805.3092524206794, 776.5626122649505), (809.0863648227672, 775.3561166264495), (817.0723338288519, 773.28283188743), array([nan, nan]), array([nan, nan])]\n",
      "x=817.0723338288519\n",
      "liste des positions frame 8:[[795.4740259740262, 777.3571428571429], (795.5569524068497, 778.223859008559), (802.0601956794684, 776.1243106143643), (805.3092524206794, 776.5626122649505), (809.0863648227672, 775.3561166264495), (817.0723338288519, 773.28283188743), array([nan, nan]), array([nan, nan]), (818.5030083184603, 771.6501983205383)]\n",
      "x=818.5030083184603\n",
      "liste des positions frame 9:[[795.4740259740262, 777.3571428571429], (795.5569524068497, 778.223859008559), (802.0601956794684, 776.1243106143643), (805.3092524206794, 776.5626122649505), (809.0863648227672, 775.3561166264495), (817.0723338288519, 773.28283188743), array([nan, nan]), array([nan, nan]), (818.5030083184603, 771.6501983205383), (836.0644126982788, 771.6015352844952)]\n",
      "x=836.0644126982788\n",
      "liste des positions frame 10:[[795.4740259740262, 777.3571428571429], (795.5569524068497, 778.223859008559), (802.0601956794684, 776.1243106143643), (805.3092524206794, 776.5626122649505), (809.0863648227672, 775.3561166264495), (817.0723338288519, 773.28283188743), array([nan, nan]), array([nan, nan]), (818.5030083184603, 771.6501983205383), (836.0644126982788, 771.6015352844952), (838.0369028857217, 771.7215097071174)]\n",
      "x=838.0369028857217\n",
      "liste des positions frame 11:[[795.4740259740262, 777.3571428571429], (795.5569524068497, 778.223859008559), (802.0601956794684, 776.1243106143643), (805.3092524206794, 776.5626122649505), (809.0863648227672, 775.3561166264495), (817.0723338288519, 773.28283188743), array([nan, nan]), array([nan, nan]), (818.5030083184603, 771.6501983205383), (836.0644126982788, 771.6015352844952), (838.0369028857217, 771.7215097071174), (843.0335232390487, 765.802021665)]\n",
      "x=843.0335232390487\n",
      "liste des positions frame 12:[[795.4740259740262, 777.3571428571429], (795.5569524068497, 778.223859008559), (802.0601956794684, 776.1243106143643), (805.3092524206794, 776.5626122649505), (809.0863648227672, 775.3561166264495), (817.0723338288519, 773.28283188743), array([nan, nan]), array([nan, nan]), (818.5030083184603, 771.6501983205383), (836.0644126982788, 771.6015352844952), (838.0369028857217, 771.7215097071174), (843.0335232390487, 765.802021665), (846.1224711243217, 771.0085652824758)]\n",
      "x=846.1224711243217\n",
      "liste des positions frame 13:[[795.4740259740262, 777.3571428571429], (795.5569524068497, 778.223859008559), (802.0601956794684, 776.1243106143643), (805.3092524206794, 776.5626122649505), (809.0863648227672, 775.3561166264495), (817.0723338288519, 773.28283188743), array([nan, nan]), array([nan, nan]), (818.5030083184603, 771.6501983205383), (836.0644126982788, 771.6015352844952), (838.0369028857217, 771.7215097071174), (843.0335232390487, 765.802021665), (846.1224711243217, 771.0085652824758), (846.5748202410826, 768.7842822860232)]\n",
      "x=846.5748202410826\n",
      "liste des positions frame 14:[[795.4740259740262, 777.3571428571429], (795.5569524068497, 778.223859008559), (802.0601956794684, 776.1243106143643), (805.3092524206794, 776.5626122649505), (809.0863648227672, 775.3561166264495), (817.0723338288519, 773.28283188743), array([nan, nan]), array([nan, nan]), (818.5030083184603, 771.6501983205383), (836.0644126982788, 771.6015352844952), (838.0369028857217, 771.7215097071174), (843.0335232390487, 765.802021665), (846.1224711243217, 771.0085652824758), (846.5748202410826, 768.7842822860232), (856.2507124085628, 776.2452175509311)]\n",
      "x=856.2507124085628\n",
      "liste des positions frame 15:[[795.4740259740262, 777.3571428571429], (795.5569524068497, 778.223859008559), (802.0601956794684, 776.1243106143643), (805.3092524206794, 776.5626122649505), (809.0863648227672, 775.3561166264495), (817.0723338288519, 773.28283188743), array([nan, nan]), array([nan, nan]), (818.5030083184603, 771.6501983205383), (836.0644126982788, 771.6015352844952), (838.0369028857217, 771.7215097071174), (843.0335232390487, 765.802021665), (846.1224711243217, 771.0085652824758), (846.5748202410826, 768.7842822860232), (856.2507124085628, 776.2452175509311), (869.3290095977815, 776.7438955199084)]\n",
      "x=869.3290095977815\n",
      "liste des positions frame 16:[[795.4740259740262, 777.3571428571429], (795.5569524068497, 778.223859008559), (802.0601956794684, 776.1243106143643), (805.3092524206794, 776.5626122649505), (809.0863648227672, 775.3561166264495), (817.0723338288519, 773.28283188743), array([nan, nan]), array([nan, nan]), (818.5030083184603, 771.6501983205383), (836.0644126982788, 771.6015352844952), (838.0369028857217, 771.7215097071174), (843.0335232390487, 765.802021665), (846.1224711243217, 771.0085652824758), (846.5748202410826, 768.7842822860232), (856.2507124085628, 776.2452175509311), (869.3290095977815, 776.7438955199084), (874.4369160176132, 774.27072619255)]\n",
      "x=874.4369160176132\n",
      "liste des positions frame 17:[[795.4740259740262, 777.3571428571429], (795.5569524068497, 778.223859008559), (802.0601956794684, 776.1243106143643), (805.3092524206794, 776.5626122649505), (809.0863648227672, 775.3561166264495), (817.0723338288519, 773.28283188743), array([nan, nan]), array([nan, nan]), (818.5030083184603, 771.6501983205383), (836.0644126982788, 771.6015352844952), (838.0369028857217, 771.7215097071174), (843.0335232390487, 765.802021665), (846.1224711243217, 771.0085652824758), (846.5748202410826, 768.7842822860232), (856.2507124085628, 776.2452175509311), (869.3290095977815, 776.7438955199084), (874.4369160176132, 774.27072619255), (879.7504456549146, 772.6636066940533)]\n",
      "x=879.7504456549146\n",
      "liste des positions frame 18:[[795.4740259740262, 777.3571428571429], (795.5569524068497, 778.223859008559), (802.0601956794684, 776.1243106143643), (805.3092524206794, 776.5626122649505), (809.0863648227672, 775.3561166264495), (817.0723338288519, 773.28283188743), array([nan, nan]), array([nan, nan]), (818.5030083184603, 771.6501983205383), (836.0644126982788, 771.6015352844952), (838.0369028857217, 771.7215097071174), (843.0335232390487, 765.802021665), (846.1224711243217, 771.0085652824758), (846.5748202410826, 768.7842822860232), (856.2507124085628, 776.2452175509311), (869.3290095977815, 776.7438955199084), (874.4369160176132, 774.27072619255), (879.7504456549146, 772.6636066940533), (887.539694125358, 777.8493571927746)]\n",
      "x=887.539694125358\n",
      "liste des positions frame 19:[[795.4740259740262, 777.3571428571429], (795.5569524068497, 778.223859008559), (802.0601956794684, 776.1243106143643), (805.3092524206794, 776.5626122649505), (809.0863648227672, 775.3561166264495), (817.0723338288519, 773.28283188743), array([nan, nan]), array([nan, nan]), (818.5030083184603, 771.6501983205383), (836.0644126982788, 771.6015352844952), (838.0369028857217, 771.7215097071174), (843.0335232390487, 765.802021665), (846.1224711243217, 771.0085652824758), (846.5748202410826, 768.7842822860232), (856.2507124085628, 776.2452175509311), (869.3290095977815, 776.7438955199084), (874.4369160176132, 774.27072619255), (879.7504456549146, 772.6636066940533), (887.539694125358, 777.8493571927746), (894.7498902189436, 775.1988189271273)]\n",
      "x=894.7498902189436\n",
      "liste des positions frame 20:[[795.4740259740262, 777.3571428571429], (795.5569524068497, 778.223859008559), (802.0601956794684, 776.1243106143643), (805.3092524206794, 776.5626122649505), (809.0863648227672, 775.3561166264495), (817.0723338288519, 773.28283188743), array([nan, nan]), array([nan, nan]), (818.5030083184603, 771.6501983205383), (836.0644126982788, 771.6015352844952), (838.0369028857217, 771.7215097071174), (843.0335232390487, 765.802021665), (846.1224711243217, 771.0085652824758), (846.5748202410826, 768.7842822860232), (856.2507124085628, 776.2452175509311), (869.3290095977815, 776.7438955199084), (874.4369160176132, 774.27072619255), (879.7504456549146, 772.6636066940533), (887.539694125358, 777.8493571927746), (894.7498902189436, 775.1988189271273), (897.9010854507495, 781.7547288816934)]\n",
      "x=897.9010854507495\n",
      "liste des positions frame 21:[[795.4740259740262, 777.3571428571429], (795.5569524068497, 778.223859008559), (802.0601956794684, 776.1243106143643), (805.3092524206794, 776.5626122649505), (809.0863648227672, 775.3561166264495), (817.0723338288519, 773.28283188743), array([nan, nan]), array([nan, nan]), (818.5030083184603, 771.6501983205383), (836.0644126982788, 771.6015352844952), (838.0369028857217, 771.7215097071174), (843.0335232390487, 765.802021665), (846.1224711243217, 771.0085652824758), (846.5748202410826, 768.7842822860232), (856.2507124085628, 776.2452175509311), (869.3290095977815, 776.7438955199084), (874.4369160176132, 774.27072619255), (879.7504456549146, 772.6636066940533), (887.539694125358, 777.8493571927746), (894.7498902189436, 775.1988189271273), (897.9010854507495, 781.7547288816934), (899.9234949019218, 785.1055350577963)]\n",
      "x=899.9234949019218\n",
      "liste des positions frame 22:[[795.4740259740262, 777.3571428571429], (795.5569524068497, 778.223859008559), (802.0601956794684, 776.1243106143643), (805.3092524206794, 776.5626122649505), (809.0863648227672, 775.3561166264495), (817.0723338288519, 773.28283188743), array([nan, nan]), array([nan, nan]), (818.5030083184603, 771.6501983205383), (836.0644126982788, 771.6015352844952), (838.0369028857217, 771.7215097071174), (843.0335232390487, 765.802021665), (846.1224711243217, 771.0085652824758), (846.5748202410826, 768.7842822860232), (856.2507124085628, 776.2452175509311), (869.3290095977815, 776.7438955199084), (874.4369160176132, 774.27072619255), (879.7504456549146, 772.6636066940533), (887.539694125358, 777.8493571927746), (894.7498902189436, 775.1988189271273), (897.9010854507495, 781.7547288816934), (899.9234949019218, 785.1055350577963), (899.6964089869792, 788.3855394672022)]\n",
      "x=899.6964089869792\n",
      "ecrat: 47.856884057971016\n",
      "ecrat: 54.19219367588933\n",
      "ecrat: 54.19219367588933\n",
      "écart:47.856884057971016\n",
      "liste des positions frame 23:[[795.4740259740262, 777.3571428571429], (795.5569524068497, 778.223859008559), (802.0601956794684, 776.1243106143643), (805.3092524206794, 776.5626122649505), (809.0863648227672, 775.3561166264495), (817.0723338288519, 773.28283188743), array([nan, nan]), array([nan, nan]), (818.5030083184603, 771.6501983205383), (836.0644126982788, 771.6015352844952), (838.0369028857217, 771.7215097071174), (843.0335232390487, 765.802021665), (846.1224711243217, 771.0085652824758), (846.5748202410826, 768.7842822860232), (856.2507124085628, 776.2452175509311), (869.3290095977815, 776.7438955199084), (874.4369160176132, 774.27072619255), (879.7504456549146, 772.6636066940533), (887.539694125358, 777.8493571927746), (894.7498902189436, 775.1988189271273), (897.9010854507495, 781.7547288816934), (899.9234949019218, 785.1055350577963), (899.6964089869792, 788.3855394672022), (904.2500596814073, 788.7554138050833)]\n",
      "x=904.2500596814073\n",
      "liste des positions frame 24:[[795.4740259740262, 777.3571428571429], (795.5569524068497, 778.223859008559), (802.0601956794684, 776.1243106143643), (805.3092524206794, 776.5626122649505), (809.0863648227672, 775.3561166264495), (817.0723338288519, 773.28283188743), array([nan, nan]), array([nan, nan]), (818.5030083184603, 771.6501983205383), (836.0644126982788, 771.6015352844952), (838.0369028857217, 771.7215097071174), (843.0335232390487, 765.802021665), (846.1224711243217, 771.0085652824758), (846.5748202410826, 768.7842822860232), (856.2507124085628, 776.2452175509311), (869.3290095977815, 776.7438955199084), (874.4369160176132, 774.27072619255), (879.7504456549146, 772.6636066940533), (887.539694125358, 777.8493571927746), (894.7498902189436, 775.1988189271273), (897.9010854507495, 781.7547288816934), (899.9234949019218, 785.1055350577963), (899.6964089869792, 788.3855394672022), (904.2500596814073, 788.7554138050833), (911.8941246348602, 792.5119570818808)]\n",
      "x=911.8941246348602\n",
      "ecrat: 56.3378762541806\n",
      "ecrat: 56.3378762541806\n",
      "écart:56.3378762541806\n",
      "liste des positions frame 25:[[795.4740259740262, 777.3571428571429], (795.5569524068497, 778.223859008559), (802.0601956794684, 776.1243106143643), (805.3092524206794, 776.5626122649505), (809.0863648227672, 775.3561166264495), (817.0723338288519, 773.28283188743), array([nan, nan]), array([nan, nan]), (818.5030083184603, 771.6501983205383), (836.0644126982788, 771.6015352844952), (838.0369028857217, 771.7215097071174), (843.0335232390487, 765.802021665), (846.1224711243217, 771.0085652824758), (846.5748202410826, 768.7842822860232), (856.2507124085628, 776.2452175509311), (869.3290095977815, 776.7438955199084), (874.4369160176132, 774.27072619255), (879.7504456549146, 772.6636066940533), (887.539694125358, 777.8493571927746), (894.7498902189436, 775.1988189271273), (897.9010854507495, 781.7547288816934), (899.9234949019218, 785.1055350577963), (899.6964089869792, 788.3855394672022), (904.2500596814073, 788.7554138050833), (911.8941246348602, 792.5119570818808), (911.6369994372105, 790.7447321125726)]\n",
      "x=911.6369994372105\n",
      "liste des positions frame 26:[[795.4740259740262, 777.3571428571429], (795.5569524068497, 778.223859008559), (802.0601956794684, 776.1243106143643), (805.3092524206794, 776.5626122649505), (809.0863648227672, 775.3561166264495), (817.0723338288519, 773.28283188743), array([nan, nan]), array([nan, nan]), (818.5030083184603, 771.6501983205383), (836.0644126982788, 771.6015352844952), (838.0369028857217, 771.7215097071174), (843.0335232390487, 765.802021665), (846.1224711243217, 771.0085652824758), (846.5748202410826, 768.7842822860232), (856.2507124085628, 776.2452175509311), (869.3290095977815, 776.7438955199084), (874.4369160176132, 774.27072619255), (879.7504456549146, 772.6636066940533), (887.539694125358, 777.8493571927746), (894.7498902189436, 775.1988189271273), (897.9010854507495, 781.7547288816934), (899.9234949019218, 785.1055350577963), (899.6964089869792, 788.3855394672022), (904.2500596814073, 788.7554138050833), (911.8941246348602, 792.5119570818808), (911.6369994372105, 790.7447321125726), (910.4389323183443, 790.7417710506043)]\n",
      "x=910.4389323183443\n",
      "liste des positions frame 27:[[795.4740259740262, 777.3571428571429], (795.5569524068497, 778.223859008559), (802.0601956794684, 776.1243106143643), (805.3092524206794, 776.5626122649505), (809.0863648227672, 775.3561166264495), (817.0723338288519, 773.28283188743), array([nan, nan]), array([nan, nan]), (818.5030083184603, 771.6501983205383), (836.0644126982788, 771.6015352844952), (838.0369028857217, 771.7215097071174), (843.0335232390487, 765.802021665), (846.1224711243217, 771.0085652824758), (846.5748202410826, 768.7842822860232), (856.2507124085628, 776.2452175509311), (869.3290095977815, 776.7438955199084), (874.4369160176132, 774.27072619255), (879.7504456549146, 772.6636066940533), (887.539694125358, 777.8493571927746), (894.7498902189436, 775.1988189271273), (897.9010854507495, 781.7547288816934), (899.9234949019218, 785.1055350577963), (899.6964089869792, 788.3855394672022), (904.2500596814073, 788.7554138050833), (911.8941246348602, 792.5119570818808), (911.6369994372105, 790.7447321125726), (910.4389323183443, 790.7417710506043), (917.7596091941479, 786.867370824038)]\n",
      "x=917.7596091941479\n",
      "liste des positions frame 28:[[795.4740259740262, 777.3571428571429], (795.5569524068497, 778.223859008559), (802.0601956794684, 776.1243106143643), (805.3092524206794, 776.5626122649505), (809.0863648227672, 775.3561166264495), (817.0723338288519, 773.28283188743), array([nan, nan]), array([nan, nan]), (818.5030083184603, 771.6501983205383), (836.0644126982788, 771.6015352844952), (838.0369028857217, 771.7215097071174), (843.0335232390487, 765.802021665), (846.1224711243217, 771.0085652824758), (846.5748202410826, 768.7842822860232), (856.2507124085628, 776.2452175509311), (869.3290095977815, 776.7438955199084), (874.4369160176132, 774.27072619255), (879.7504456549146, 772.6636066940533), (887.539694125358, 777.8493571927746), (894.7498902189436, 775.1988189271273), (897.9010854507495, 781.7547288816934), (899.9234949019218, 785.1055350577963), (899.6964089869792, 788.3855394672022), (904.2500596814073, 788.7554138050833), (911.8941246348602, 792.5119570818808), (911.6369994372105, 790.7447321125726), (910.4389323183443, 790.7417710506043), (917.7596091941479, 786.867370824038), (926.9383650693534, 788.8074152592034)]\n",
      "x=926.9383650693534\n",
      "liste des positions frame 29:[[795.4740259740262, 777.3571428571429], (795.5569524068497, 778.223859008559), (802.0601956794684, 776.1243106143643), (805.3092524206794, 776.5626122649505), (809.0863648227672, 775.3561166264495), (817.0723338288519, 773.28283188743), array([nan, nan]), array([nan, nan]), (818.5030083184603, 771.6501983205383), (836.0644126982788, 771.6015352844952), (838.0369028857217, 771.7215097071174), (843.0335232390487, 765.802021665), (846.1224711243217, 771.0085652824758), (846.5748202410826, 768.7842822860232), (856.2507124085628, 776.2452175509311), (869.3290095977815, 776.7438955199084), (874.4369160176132, 774.27072619255), (879.7504456549146, 772.6636066940533), (887.539694125358, 777.8493571927746), (894.7498902189436, 775.1988189271273), (897.9010854507495, 781.7547288816934), (899.9234949019218, 785.1055350577963), (899.6964089869792, 788.3855394672022), (904.2500596814073, 788.7554138050833), (911.8941246348602, 792.5119570818808), (911.6369994372105, 790.7447321125726), (910.4389323183443, 790.7417710506043), (917.7596091941479, 786.867370824038), (926.9383650693534, 788.8074152592034), (927.3320205036455, 788.4801990406798)]\n",
      "x=927.3320205036455\n",
      "liste des positions frame 30:[[795.4740259740262, 777.3571428571429], (795.5569524068497, 778.223859008559), (802.0601956794684, 776.1243106143643), (805.3092524206794, 776.5626122649505), (809.0863648227672, 775.3561166264495), (817.0723338288519, 773.28283188743), array([nan, nan]), array([nan, nan]), (818.5030083184603, 771.6501983205383), (836.0644126982788, 771.6015352844952), (838.0369028857217, 771.7215097071174), (843.0335232390487, 765.802021665), (846.1224711243217, 771.0085652824758), (846.5748202410826, 768.7842822860232), (856.2507124085628, 776.2452175509311), (869.3290095977815, 776.7438955199084), (874.4369160176132, 774.27072619255), (879.7504456549146, 772.6636066940533), (887.539694125358, 777.8493571927746), (894.7498902189436, 775.1988189271273), (897.9010854507495, 781.7547288816934), (899.9234949019218, 785.1055350577963), (899.6964089869792, 788.3855394672022), (904.2500596814073, 788.7554138050833), (911.8941246348602, 792.5119570818808), (911.6369994372105, 790.7447321125726), (910.4389323183443, 790.7417710506043), (917.7596091941479, 786.867370824038), (926.9383650693534, 788.8074152592034), (927.3320205036455, 788.4801990406798), (932.5110246438861, 790.9453036902281)]\n",
      "x=932.5110246438861\n",
      "ecrat: 38.42190691566968\n",
      "ecrat: 63.39473913043478\n",
      "écart:38.42190691566968\n",
      "liste des positions frame 31:[[795.4740259740262, 777.3571428571429], (795.5569524068497, 778.223859008559), (802.0601956794684, 776.1243106143643), (805.3092524206794, 776.5626122649505), (809.0863648227672, 775.3561166264495), (817.0723338288519, 773.28283188743), array([nan, nan]), array([nan, nan]), (818.5030083184603, 771.6501983205383), (836.0644126982788, 771.6015352844952), (838.0369028857217, 771.7215097071174), (843.0335232390487, 765.802021665), (846.1224711243217, 771.0085652824758), (846.5748202410826, 768.7842822860232), (856.2507124085628, 776.2452175509311), (869.3290095977815, 776.7438955199084), (874.4369160176132, 774.27072619255), (879.7504456549146, 772.6636066940533), (887.539694125358, 777.8493571927746), (894.7498902189436, 775.1988189271273), (897.9010854507495, 781.7547288816934), (899.9234949019218, 785.1055350577963), (899.6964089869792, 788.3855394672022), (904.2500596814073, 788.7554138050833), (911.8941246348602, 792.5119570818808), (911.6369994372105, 790.7447321125726), (910.4389323183443, 790.7417710506043), (917.7596091941479, 786.867370824038), (926.9383650693534, 788.8074152592034), (927.3320205036455, 788.4801990406798), (932.5110246438861, 790.9453036902281), (937.6591706590102, 810.8249968531806)]\n",
      "x=937.6591706590102\n",
      "liste des positions frame 32:[[795.4740259740262, 777.3571428571429], (795.5569524068497, 778.223859008559), (802.0601956794684, 776.1243106143643), (805.3092524206794, 776.5626122649505), (809.0863648227672, 775.3561166264495), (817.0723338288519, 773.28283188743), array([nan, nan]), array([nan, nan]), (818.5030083184603, 771.6501983205383), (836.0644126982788, 771.6015352844952), (838.0369028857217, 771.7215097071174), (843.0335232390487, 765.802021665), (846.1224711243217, 771.0085652824758), (846.5748202410826, 768.7842822860232), (856.2507124085628, 776.2452175509311), (869.3290095977815, 776.7438955199084), (874.4369160176132, 774.27072619255), (879.7504456549146, 772.6636066940533), (887.539694125358, 777.8493571927746), (894.7498902189436, 775.1988189271273), (897.9010854507495, 781.7547288816934), (899.9234949019218, 785.1055350577963), (899.6964089869792, 788.3855394672022), (904.2500596814073, 788.7554138050833), (911.8941246348602, 792.5119570818808), (911.6369994372105, 790.7447321125726), (910.4389323183443, 790.7417710506043), (917.7596091941479, 786.867370824038), (926.9383650693534, 788.8074152592034), (927.3320205036455, 788.4801990406798), (932.5110246438861, 790.9453036902281), (937.6591706590102, 810.8249968531806), (944.7357049567939, 795.0590528041516)]\n",
      "x=944.7357049567939\n",
      "liste des positions frame 33:[[795.4740259740262, 777.3571428571429], (795.5569524068497, 778.223859008559), (802.0601956794684, 776.1243106143643), (805.3092524206794, 776.5626122649505), (809.0863648227672, 775.3561166264495), (817.0723338288519, 773.28283188743), array([nan, nan]), array([nan, nan]), (818.5030083184603, 771.6501983205383), (836.0644126982788, 771.6015352844952), (838.0369028857217, 771.7215097071174), (843.0335232390487, 765.802021665), (846.1224711243217, 771.0085652824758), (846.5748202410826, 768.7842822860232), (856.2507124085628, 776.2452175509311), (869.3290095977815, 776.7438955199084), (874.4369160176132, 774.27072619255), (879.7504456549146, 772.6636066940533), (887.539694125358, 777.8493571927746), (894.7498902189436, 775.1988189271273), (897.9010854507495, 781.7547288816934), (899.9234949019218, 785.1055350577963), (899.6964089869792, 788.3855394672022), (904.2500596814073, 788.7554138050833), (911.8941246348602, 792.5119570818808), (911.6369994372105, 790.7447321125726), (910.4389323183443, 790.7417710506043), (917.7596091941479, 786.867370824038), (926.9383650693534, 788.8074152592034), (927.3320205036455, 788.4801990406798), (932.5110246438861, 790.9453036902281), (937.6591706590102, 810.8249968531806), (944.7357049567939, 795.0590528041516), (946.1187417834534, 799.2467133016195)]\n",
      "x=946.1187417834534\n",
      "ecrat: 20.227663985926114\n",
      "ecrat: 34.652989130434776\n",
      "écart:20.227663985926114\n",
      "liste des positions frame 34:[[795.4740259740262, 777.3571428571429], (795.5569524068497, 778.223859008559), (802.0601956794684, 776.1243106143643), (805.3092524206794, 776.5626122649505), (809.0863648227672, 775.3561166264495), (817.0723338288519, 773.28283188743), array([nan, nan]), array([nan, nan]), (818.5030083184603, 771.6501983205383), (836.0644126982788, 771.6015352844952), (838.0369028857217, 771.7215097071174), (843.0335232390487, 765.802021665), (846.1224711243217, 771.0085652824758), (846.5748202410826, 768.7842822860232), (856.2507124085628, 776.2452175509311), (869.3290095977815, 776.7438955199084), (874.4369160176132, 774.27072619255), (879.7504456549146, 772.6636066940533), (887.539694125358, 777.8493571927746), (894.7498902189436, 775.1988189271273), (897.9010854507495, 781.7547288816934), (899.9234949019218, 785.1055350577963), (899.6964089869792, 788.3855394672022), (904.2500596814073, 788.7554138050833), (911.8941246348602, 792.5119570818808), (911.6369994372105, 790.7447321125726), (910.4389323183443, 790.7417710506043), (917.7596091941479, 786.867370824038), (926.9383650693534, 788.8074152592034), (927.3320205036455, 788.4801990406798), (932.5110246438861, 790.9453036902281), (937.6591706590102, 810.8249968531806), (944.7357049567939, 795.0590528041516), (946.1187417834534, 799.2467133016195), (946.3738068578809, 799.2296335488879)]\n",
      "x=946.3738068578809\n",
      "liste des positions frame 35:[[795.4740259740262, 777.3571428571429], (795.5569524068497, 778.223859008559), (802.0601956794684, 776.1243106143643), (805.3092524206794, 776.5626122649505), (809.0863648227672, 775.3561166264495), (817.0723338288519, 773.28283188743), array([nan, nan]), array([nan, nan]), (818.5030083184603, 771.6501983205383), (836.0644126982788, 771.6015352844952), (838.0369028857217, 771.7215097071174), (843.0335232390487, 765.802021665), (846.1224711243217, 771.0085652824758), (846.5748202410826, 768.7842822860232), (856.2507124085628, 776.2452175509311), (869.3290095977815, 776.7438955199084), (874.4369160176132, 774.27072619255), (879.7504456549146, 772.6636066940533), (887.539694125358, 777.8493571927746), (894.7498902189436, 775.1988189271273), (897.9010854507495, 781.7547288816934), (899.9234949019218, 785.1055350577963), (899.6964089869792, 788.3855394672022), (904.2500596814073, 788.7554138050833), (911.8941246348602, 792.5119570818808), (911.6369994372105, 790.7447321125726), (910.4389323183443, 790.7417710506043), (917.7596091941479, 786.867370824038), (926.9383650693534, 788.8074152592034), (927.3320205036455, 788.4801990406798), (932.5110246438861, 790.9453036902281), (937.6591706590102, 810.8249968531806), (944.7357049567939, 795.0590528041516), (946.1187417834534, 799.2467133016195), (946.3738068578809, 799.2296335488879), (946.8342893269631, 797.6426462063324)]\n",
      "x=946.8342893269631\n",
      "liste des positions frame 36:[[795.4740259740262, 777.3571428571429], (795.5569524068497, 778.223859008559), (802.0601956794684, 776.1243106143643), (805.3092524206794, 776.5626122649505), (809.0863648227672, 775.3561166264495), (817.0723338288519, 773.28283188743), array([nan, nan]), array([nan, nan]), (818.5030083184603, 771.6501983205383), (836.0644126982788, 771.6015352844952), (838.0369028857217, 771.7215097071174), (843.0335232390487, 765.802021665), (846.1224711243217, 771.0085652824758), (846.5748202410826, 768.7842822860232), (856.2507124085628, 776.2452175509311), (869.3290095977815, 776.7438955199084), (874.4369160176132, 774.27072619255), (879.7504456549146, 772.6636066940533), (887.539694125358, 777.8493571927746), (894.7498902189436, 775.1988189271273), (897.9010854507495, 781.7547288816934), (899.9234949019218, 785.1055350577963), (899.6964089869792, 788.3855394672022), (904.2500596814073, 788.7554138050833), (911.8941246348602, 792.5119570818808), (911.6369994372105, 790.7447321125726), (910.4389323183443, 790.7417710506043), (917.7596091941479, 786.867370824038), (926.9383650693534, 788.8074152592034), (927.3320205036455, 788.4801990406798), (932.5110246438861, 790.9453036902281), (937.6591706590102, 810.8249968531806), (944.7357049567939, 795.0590528041516), (946.1187417834534, 799.2467133016195), (946.3738068578809, 799.2296335488879), (946.8342893269631, 797.6426462063324), (953.5612727625459, 805.3226899756131)]\n",
      "x=953.5612727625459\n",
      "liste des positions frame 37:[[795.4740259740262, 777.3571428571429], (795.5569524068497, 778.223859008559), (802.0601956794684, 776.1243106143643), (805.3092524206794, 776.5626122649505), (809.0863648227672, 775.3561166264495), (817.0723338288519, 773.28283188743), array([nan, nan]), array([nan, nan]), (818.5030083184603, 771.6501983205383), (836.0644126982788, 771.6015352844952), (838.0369028857217, 771.7215097071174), (843.0335232390487, 765.802021665), (846.1224711243217, 771.0085652824758), (846.5748202410826, 768.7842822860232), (856.2507124085628, 776.2452175509311), (869.3290095977815, 776.7438955199084), (874.4369160176132, 774.27072619255), (879.7504456549146, 772.6636066940533), (887.539694125358, 777.8493571927746), (894.7498902189436, 775.1988189271273), (897.9010854507495, 781.7547288816934), (899.9234949019218, 785.1055350577963), (899.6964089869792, 788.3855394672022), (904.2500596814073, 788.7554138050833), (911.8941246348602, 792.5119570818808), (911.6369994372105, 790.7447321125726), (910.4389323183443, 790.7417710506043), (917.7596091941479, 786.867370824038), (926.9383650693534, 788.8074152592034), (927.3320205036455, 788.4801990406798), (932.5110246438861, 790.9453036902281), (937.6591706590102, 810.8249968531806), (944.7357049567939, 795.0590528041516), (946.1187417834534, 799.2467133016195), (946.3738068578809, 799.2296335488879), (946.8342893269631, 797.6426462063324), (953.5612727625459, 805.3226899756131), (954.1422161861756, 805.339983439793)]\n",
      "x=954.1422161861756\n",
      "ecrat: 196.6532608695652\n",
      "ecrat: 30.04114906832298\n",
      "écart:30.04114906832298\n",
      "liste des positions frame 38:[[795.4740259740262, 777.3571428571429], (795.5569524068497, 778.223859008559), (802.0601956794684, 776.1243106143643), (805.3092524206794, 776.5626122649505), (809.0863648227672, 775.3561166264495), (817.0723338288519, 773.28283188743), array([nan, nan]), array([nan, nan]), (818.5030083184603, 771.6501983205383), (836.0644126982788, 771.6015352844952), (838.0369028857217, 771.7215097071174), (843.0335232390487, 765.802021665), (846.1224711243217, 771.0085652824758), (846.5748202410826, 768.7842822860232), (856.2507124085628, 776.2452175509311), (869.3290095977815, 776.7438955199084), (874.4369160176132, 774.27072619255), (879.7504456549146, 772.6636066940533), (887.539694125358, 777.8493571927746), (894.7498902189436, 775.1988189271273), (897.9010854507495, 781.7547288816934), (899.9234949019218, 785.1055350577963), (899.6964089869792, 788.3855394672022), (904.2500596814073, 788.7554138050833), (911.8941246348602, 792.5119570818808), (911.6369994372105, 790.7447321125726), (910.4389323183443, 790.7417710506043), (917.7596091941479, 786.867370824038), (926.9383650693534, 788.8074152592034), (927.3320205036455, 788.4801990406798), (932.5110246438861, 790.9453036902281), (937.6591706590102, 810.8249968531806), (944.7357049567939, 795.0590528041516), (946.1187417834534, 799.2467133016195), (946.3738068578809, 799.2296335488879), (946.8342893269631, 797.6426462063324), (953.5612727625459, 805.3226899756131), (954.1422161861756, 805.339983439793), (965.0067048329124, 809.8733752277221)]\n",
      "x=965.0067048329124\n",
      "ecrat: 183.54556856187293\n",
      "ecrat: 25.36066947869348\n",
      "écart:25.36066947869348\n",
      "liste des positions frame 39:[[795.4740259740262, 777.3571428571429], (795.5569524068497, 778.223859008559), (802.0601956794684, 776.1243106143643), (805.3092524206794, 776.5626122649505), (809.0863648227672, 775.3561166264495), (817.0723338288519, 773.28283188743), array([nan, nan]), array([nan, nan]), (818.5030083184603, 771.6501983205383), (836.0644126982788, 771.6015352844952), (838.0369028857217, 771.7215097071174), (843.0335232390487, 765.802021665), (846.1224711243217, 771.0085652824758), (846.5748202410826, 768.7842822860232), (856.2507124085628, 776.2452175509311), (869.3290095977815, 776.7438955199084), (874.4369160176132, 774.27072619255), (879.7504456549146, 772.6636066940533), (887.539694125358, 777.8493571927746), (894.7498902189436, 775.1988189271273), (897.9010854507495, 781.7547288816934), (899.9234949019218, 785.1055350577963), (899.6964089869792, 788.3855394672022), (904.2500596814073, 788.7554138050833), (911.8941246348602, 792.5119570818808), (911.6369994372105, 790.7447321125726), (910.4389323183443, 790.7417710506043), (917.7596091941479, 786.867370824038), (926.9383650693534, 788.8074152592034), (927.3320205036455, 788.4801990406798), (932.5110246438861, 790.9453036902281), (937.6591706590102, 810.8249968531806), (944.7357049567939, 795.0590528041516), (946.1187417834534, 799.2467133016195), (946.3738068578809, 799.2296335488879), (946.8342893269631, 797.6426462063324), (953.5612727625459, 805.3226899756131), (954.1422161861756, 805.339983439793), (965.0067048329124, 809.8733752277221), (970.3764250211484, 811.1364824444959)]\n",
      "x=970.3764250211484\n",
      "ecrat: 163.94701086956522\n",
      "ecrat: 14.248434045689024\n",
      "ecrat: 65.23335330366312\n",
      "écart:14.248434045689024\n",
      "liste des positions frame 40:[[795.4740259740262, 777.3571428571429], (795.5569524068497, 778.223859008559), (802.0601956794684, 776.1243106143643), (805.3092524206794, 776.5626122649505), (809.0863648227672, 775.3561166264495), (817.0723338288519, 773.28283188743), array([nan, nan]), array([nan, nan]), (818.5030083184603, 771.6501983205383), (836.0644126982788, 771.6015352844952), (838.0369028857217, 771.7215097071174), (843.0335232390487, 765.802021665), (846.1224711243217, 771.0085652824758), (846.5748202410826, 768.7842822860232), (856.2507124085628, 776.2452175509311), (869.3290095977815, 776.7438955199084), (874.4369160176132, 774.27072619255), (879.7504456549146, 772.6636066940533), (887.539694125358, 777.8493571927746), (894.7498902189436, 775.1988189271273), (897.9010854507495, 781.7547288816934), (899.9234949019218, 785.1055350577963), (899.6964089869792, 788.3855394672022), (904.2500596814073, 788.7554138050833), (911.8941246348602, 792.5119570818808), (911.6369994372105, 790.7447321125726), (910.4389323183443, 790.7417710506043), (917.7596091941479, 786.867370824038), (926.9383650693534, 788.8074152592034), (927.3320205036455, 788.4801990406798), (932.5110246438861, 790.9453036902281), (937.6591706590102, 810.8249968531806), (944.7357049567939, 795.0590528041516), (946.1187417834534, 799.2467133016195), (946.3738068578809, 799.2296335488879), (946.8342893269631, 797.6426462063324), (953.5612727625459, 805.3226899756131), (954.1422161861756, 805.339983439793), (965.0067048329124, 809.8733752277221), (970.3764250211484, 811.1364824444959), (972.5998062449626, 813.6474450304017)]\n",
      "x=972.5998062449626\n",
      "liste des positions frame 41:[[795.4740259740262, 777.3571428571429], (795.5569524068497, 778.223859008559), (802.0601956794684, 776.1243106143643), (805.3092524206794, 776.5626122649505), (809.0863648227672, 775.3561166264495), (817.0723338288519, 773.28283188743), array([nan, nan]), array([nan, nan]), (818.5030083184603, 771.6501983205383), (836.0644126982788, 771.6015352844952), (838.0369028857217, 771.7215097071174), (843.0335232390487, 765.802021665), (846.1224711243217, 771.0085652824758), (846.5748202410826, 768.7842822860232), (856.2507124085628, 776.2452175509311), (869.3290095977815, 776.7438955199084), (874.4369160176132, 774.27072619255), (879.7504456549146, 772.6636066940533), (887.539694125358, 777.8493571927746), (894.7498902189436, 775.1988189271273), (897.9010854507495, 781.7547288816934), (899.9234949019218, 785.1055350577963), (899.6964089869792, 788.3855394672022), (904.2500596814073, 788.7554138050833), (911.8941246348602, 792.5119570818808), (911.6369994372105, 790.7447321125726), (910.4389323183443, 790.7417710506043), (917.7596091941479, 786.867370824038), (926.9383650693534, 788.8074152592034), (927.3320205036455, 788.4801990406798), (932.5110246438861, 790.9453036902281), (937.6591706590102, 810.8249968531806), (944.7357049567939, 795.0590528041516), (946.1187417834534, 799.2467133016195), (946.3738068578809, 799.2296335488879), (946.8342893269631, 797.6426462063324), (953.5612727625459, 805.3226899756131), (954.1422161861756, 805.339983439793), (965.0067048329124, 809.8733752277221), (970.3764250211484, 811.1364824444959), (972.5998062449626, 813.6474450304017), (973.972423499918, 813.9449371140197)]\n",
      "x=973.972423499918\n",
      "ecrat: 22.034494232475595\n",
      "ecrat: 23.152553083923152\n",
      "écart:22.034494232475595\n",
      "liste des positions frame 42:[[795.4740259740262, 777.3571428571429], (795.5569524068497, 778.223859008559), (802.0601956794684, 776.1243106143643), (805.3092524206794, 776.5626122649505), (809.0863648227672, 775.3561166264495), (817.0723338288519, 773.28283188743), array([nan, nan]), array([nan, nan]), (818.5030083184603, 771.6501983205383), (836.0644126982788, 771.6015352844952), (838.0369028857217, 771.7215097071174), (843.0335232390487, 765.802021665), (846.1224711243217, 771.0085652824758), (846.5748202410826, 768.7842822860232), (856.2507124085628, 776.2452175509311), (869.3290095977815, 776.7438955199084), (874.4369160176132, 774.27072619255), (879.7504456549146, 772.6636066940533), (887.539694125358, 777.8493571927746), (894.7498902189436, 775.1988189271273), (897.9010854507495, 781.7547288816934), (899.9234949019218, 785.1055350577963), (899.6964089869792, 788.3855394672022), (904.2500596814073, 788.7554138050833), (911.8941246348602, 792.5119570818808), (911.6369994372105, 790.7447321125726), (910.4389323183443, 790.7417710506043), (917.7596091941479, 786.867370824038), (926.9383650693534, 788.8074152592034), (927.3320205036455, 788.4801990406798), (932.5110246438861, 790.9453036902281), (937.6591706590102, 810.8249968531806), (944.7357049567939, 795.0590528041516), (946.1187417834534, 799.2467133016195), (946.3738068578809, 799.2296335488879), (946.8342893269631, 797.6426462063324), (953.5612727625459, 805.3226899756131), (954.1422161861756, 805.339983439793), (965.0067048329124, 809.8733752277221), (970.3764250211484, 811.1364824444959), (972.5998062449626, 813.6474450304017), (973.972423499918, 813.9449371140197), (979.4794166255634, 819.5516799589885)]\n",
      "x=979.4794166255634\n",
      "ecrat: 184.54556856187293\n",
      "ecrat: 14.779507492016705\n",
      "écart:14.779507492016705\n",
      "liste des positions frame 43:[[795.4740259740262, 777.3571428571429], (795.5569524068497, 778.223859008559), (802.0601956794684, 776.1243106143643), (805.3092524206794, 776.5626122649505), (809.0863648227672, 775.3561166264495), (817.0723338288519, 773.28283188743), array([nan, nan]), array([nan, nan]), (818.5030083184603, 771.6501983205383), (836.0644126982788, 771.6015352844952), (838.0369028857217, 771.7215097071174), (843.0335232390487, 765.802021665), (846.1224711243217, 771.0085652824758), (846.5748202410826, 768.7842822860232), (856.2507124085628, 776.2452175509311), (869.3290095977815, 776.7438955199084), (874.4369160176132, 774.27072619255), (879.7504456549146, 772.6636066940533), (887.539694125358, 777.8493571927746), (894.7498902189436, 775.1988189271273), (897.9010854507495, 781.7547288816934), (899.9234949019218, 785.1055350577963), (899.6964089869792, 788.3855394672022), (904.2500596814073, 788.7554138050833), (911.8941246348602, 792.5119570818808), (911.6369994372105, 790.7447321125726), (910.4389323183443, 790.7417710506043), (917.7596091941479, 786.867370824038), (926.9383650693534, 788.8074152592034), (927.3320205036455, 788.4801990406798), (932.5110246438861, 790.9453036902281), (937.6591706590102, 810.8249968531806), (944.7357049567939, 795.0590528041516), (946.1187417834534, 799.2467133016195), (946.3738068578809, 799.2296335488879), (946.8342893269631, 797.6426462063324), (953.5612727625459, 805.3226899756131), (954.1422161861756, 805.339983439793), (965.0067048329124, 809.8733752277221), (970.3764250211484, 811.1364824444959), (972.5998062449626, 813.6474450304017), (973.972423499918, 813.9449371140197), (979.4794166255634, 819.5516799589885), (980.1308380419557, 824.4546748601585)]\n",
      "x=980.1308380419557\n",
      "liste des positions frame 44:[[795.4740259740262, 777.3571428571429], (795.5569524068497, 778.223859008559), (802.0601956794684, 776.1243106143643), (805.3092524206794, 776.5626122649505), (809.0863648227672, 775.3561166264495), (817.0723338288519, 773.28283188743), array([nan, nan]), array([nan, nan]), (818.5030083184603, 771.6501983205383), (836.0644126982788, 771.6015352844952), (838.0369028857217, 771.7215097071174), (843.0335232390487, 765.802021665), (846.1224711243217, 771.0085652824758), (846.5748202410826, 768.7842822860232), (856.2507124085628, 776.2452175509311), (869.3290095977815, 776.7438955199084), (874.4369160176132, 774.27072619255), (879.7504456549146, 772.6636066940533), (887.539694125358, 777.8493571927746), (894.7498902189436, 775.1988189271273), (897.9010854507495, 781.7547288816934), (899.9234949019218, 785.1055350577963), (899.6964089869792, 788.3855394672022), (904.2500596814073, 788.7554138050833), (911.8941246348602, 792.5119570818808), (911.6369994372105, 790.7447321125726), (910.4389323183443, 790.7417710506043), (917.7596091941479, 786.867370824038), (926.9383650693534, 788.8074152592034), (927.3320205036455, 788.4801990406798), (932.5110246438861, 790.9453036902281), (937.6591706590102, 810.8249968531806), (944.7357049567939, 795.0590528041516), (946.1187417834534, 799.2467133016195), (946.3738068578809, 799.2296335488879), (946.8342893269631, 797.6426462063324), (953.5612727625459, 805.3226899756131), (954.1422161861756, 805.339983439793), (965.0067048329124, 809.8733752277221), (970.3764250211484, 811.1364824444959), (972.5998062449626, 813.6474450304017), (973.972423499918, 813.9449371140197), (979.4794166255634, 819.5516799589885), (980.1308380419557, 824.4546748601585), (983.6600117227667, 823.7793281133276)]\n",
      "x=983.6600117227667\n",
      "ecrat: 145.41576086956522\n",
      "ecrat: 16.08884439359268\n",
      "écart:16.08884439359268\n",
      "liste des positions frame 45:[[795.4740259740262, 777.3571428571429], (795.5569524068497, 778.223859008559), (802.0601956794684, 776.1243106143643), (805.3092524206794, 776.5626122649505), (809.0863648227672, 775.3561166264495), (817.0723338288519, 773.28283188743), array([nan, nan]), array([nan, nan]), (818.5030083184603, 771.6501983205383), (836.0644126982788, 771.6015352844952), (838.0369028857217, 771.7215097071174), (843.0335232390487, 765.802021665), (846.1224711243217, 771.0085652824758), (846.5748202410826, 768.7842822860232), (856.2507124085628, 776.2452175509311), (869.3290095977815, 776.7438955199084), (874.4369160176132, 774.27072619255), (879.7504456549146, 772.6636066940533), (887.539694125358, 777.8493571927746), (894.7498902189436, 775.1988189271273), (897.9010854507495, 781.7547288816934), (899.9234949019218, 785.1055350577963), (899.6964089869792, 788.3855394672022), (904.2500596814073, 788.7554138050833), (911.8941246348602, 792.5119570818808), (911.6369994372105, 790.7447321125726), (910.4389323183443, 790.7417710506043), (917.7596091941479, 786.867370824038), (926.9383650693534, 788.8074152592034), (927.3320205036455, 788.4801990406798), (932.5110246438861, 790.9453036902281), (937.6591706590102, 810.8249968531806), (944.7357049567939, 795.0590528041516), (946.1187417834534, 799.2467133016195), (946.3738068578809, 799.2296335488879), (946.8342893269631, 797.6426462063324), (953.5612727625459, 805.3226899756131), (954.1422161861756, 805.339983439793), (965.0067048329124, 809.8733752277221), (970.3764250211484, 811.1364824444959), (972.5998062449626, 813.6474450304017), (973.972423499918, 813.9449371140197), (979.4794166255634, 819.5516799589885), (980.1308380419557, 824.4546748601585), (983.6600117227667, 823.7793281133276), (984.9722594046385, 827.6731628480821)]\n",
      "x=984.9722594046385\n",
      "frames vide:46\n",
      "liste des positions frame 46:[[795.4740259740262, 777.3571428571429], (795.5569524068497, 778.223859008559), (802.0601956794684, 776.1243106143643), (805.3092524206794, 776.5626122649505), (809.0863648227672, 775.3561166264495), (817.0723338288519, 773.28283188743), array([nan, nan]), array([nan, nan]), (818.5030083184603, 771.6501983205383), (836.0644126982788, 771.6015352844952), (838.0369028857217, 771.7215097071174), (843.0335232390487, 765.802021665), (846.1224711243217, 771.0085652824758), (846.5748202410826, 768.7842822860232), (856.2507124085628, 776.2452175509311), (869.3290095977815, 776.7438955199084), (874.4369160176132, 774.27072619255), (879.7504456549146, 772.6636066940533), (887.539694125358, 777.8493571927746), (894.7498902189436, 775.1988189271273), (897.9010854507495, 781.7547288816934), (899.9234949019218, 785.1055350577963), (899.6964089869792, 788.3855394672022), (904.2500596814073, 788.7554138050833), (911.8941246348602, 792.5119570818808), (911.6369994372105, 790.7447321125726), (910.4389323183443, 790.7417710506043), (917.7596091941479, 786.867370824038), (926.9383650693534, 788.8074152592034), (927.3320205036455, 788.4801990406798), (932.5110246438861, 790.9453036902281), (937.6591706590102, 810.8249968531806), (944.7357049567939, 795.0590528041516), (946.1187417834534, 799.2467133016195), (946.3738068578809, 799.2296335488879), (946.8342893269631, 797.6426462063324), (953.5612727625459, 805.3226899756131), (954.1422161861756, 805.339983439793), (965.0067048329124, 809.8733752277221), (970.3764250211484, 811.1364824444959), (972.5998062449626, 813.6474450304017), (973.972423499918, 813.9449371140197), (979.4794166255634, 819.5516799589885), (980.1308380419557, 824.4546748601585), (983.6600117227667, 823.7793281133276), (984.9722594046385, 827.6731628480821), array([nan, nan])]\n",
      "x=984.9722594046385\n",
      "ecrat: 146.67934782608697\n",
      "ecrat: 24.629326195111403\n",
      "écart:24.629326195111403\n",
      "liste des positions frame 47:[[795.4740259740262, 777.3571428571429], (795.5569524068497, 778.223859008559), (802.0601956794684, 776.1243106143643), (805.3092524206794, 776.5626122649505), (809.0863648227672, 775.3561166264495), (817.0723338288519, 773.28283188743), array([nan, nan]), array([nan, nan]), (818.5030083184603, 771.6501983205383), (836.0644126982788, 771.6015352844952), (838.0369028857217, 771.7215097071174), (843.0335232390487, 765.802021665), (846.1224711243217, 771.0085652824758), (846.5748202410826, 768.7842822860232), (856.2507124085628, 776.2452175509311), (869.3290095977815, 776.7438955199084), (874.4369160176132, 774.27072619255), (879.7504456549146, 772.6636066940533), (887.539694125358, 777.8493571927746), (894.7498902189436, 775.1988189271273), (897.9010854507495, 781.7547288816934), (899.9234949019218, 785.1055350577963), (899.6964089869792, 788.3855394672022), (904.2500596814073, 788.7554138050833), (911.8941246348602, 792.5119570818808), (911.6369994372105, 790.7447321125726), (910.4389323183443, 790.7417710506043), (917.7596091941479, 786.867370824038), (926.9383650693534, 788.8074152592034), (927.3320205036455, 788.4801990406798), (932.5110246438861, 790.9453036902281), (937.6591706590102, 810.8249968531806), (944.7357049567939, 795.0590528041516), (946.1187417834534, 799.2467133016195), (946.3738068578809, 799.2296335488879), (946.8342893269631, 797.6426462063324), (953.5612727625459, 805.3226899756131), (954.1422161861756, 805.339983439793), (965.0067048329124, 809.8733752277221), (970.3764250211484, 811.1364824444959), (972.5998062449626, 813.6474450304017), (973.972423499918, 813.9449371140197), (979.4794166255634, 819.5516799589885), (980.1308380419557, 824.4546748601585), (983.6600117227667, 823.7793281133276), (984.9722594046385, 827.6731628480821), array([nan, nan]), (989.1573110722376, 828.249900731608)]\n",
      "x=989.1573110722376\n",
      "liste des positions frame 48:[[795.4740259740262, 777.3571428571429], (795.5569524068497, 778.223859008559), (802.0601956794684, 776.1243106143643), (805.3092524206794, 776.5626122649505), (809.0863648227672, 775.3561166264495), (817.0723338288519, 773.28283188743), array([nan, nan]), array([nan, nan]), (818.5030083184603, 771.6501983205383), (836.0644126982788, 771.6015352844952), (838.0369028857217, 771.7215097071174), (843.0335232390487, 765.802021665), (846.1224711243217, 771.0085652824758), (846.5748202410826, 768.7842822860232), (856.2507124085628, 776.2452175509311), (869.3290095977815, 776.7438955199084), (874.4369160176132, 774.27072619255), (879.7504456549146, 772.6636066940533), (887.539694125358, 777.8493571927746), (894.7498902189436, 775.1988189271273), (897.9010854507495, 781.7547288816934), (899.9234949019218, 785.1055350577963), (899.6964089869792, 788.3855394672022), (904.2500596814073, 788.7554138050833), (911.8941246348602, 792.5119570818808), (911.6369994372105, 790.7447321125726), (910.4389323183443, 790.7417710506043), (917.7596091941479, 786.867370824038), (926.9383650693534, 788.8074152592034), (927.3320205036455, 788.4801990406798), (932.5110246438861, 790.9453036902281), (937.6591706590102, 810.8249968531806), (944.7357049567939, 795.0590528041516), (946.1187417834534, 799.2467133016195), (946.3738068578809, 799.2296335488879), (946.8342893269631, 797.6426462063324), (953.5612727625459, 805.3226899756131), (954.1422161861756, 805.339983439793), (965.0067048329124, 809.8733752277221), (970.3764250211484, 811.1364824444959), (972.5998062449626, 813.6474450304017), (973.972423499918, 813.9449371140197), (979.4794166255634, 819.5516799589885), (980.1308380419557, 824.4546748601585), (983.6600117227667, 823.7793281133276), (984.9722594046385, 827.6731628480821), array([nan, nan]), (989.1573110722376, 828.249900731608), (990.6713948811961, 836.1766236398264)]\n",
      "x=990.6713948811961\n",
      "liste des positions frame 49:[[795.4740259740262, 777.3571428571429], (795.5569524068497, 778.223859008559), (802.0601956794684, 776.1243106143643), (805.3092524206794, 776.5626122649505), (809.0863648227672, 775.3561166264495), (817.0723338288519, 773.28283188743), array([nan, nan]), array([nan, nan]), (818.5030083184603, 771.6501983205383), (836.0644126982788, 771.6015352844952), (838.0369028857217, 771.7215097071174), (843.0335232390487, 765.802021665), (846.1224711243217, 771.0085652824758), (846.5748202410826, 768.7842822860232), (856.2507124085628, 776.2452175509311), (869.3290095977815, 776.7438955199084), (874.4369160176132, 774.27072619255), (879.7504456549146, 772.6636066940533), (887.539694125358, 777.8493571927746), (894.7498902189436, 775.1988189271273), (897.9010854507495, 781.7547288816934), (899.9234949019218, 785.1055350577963), (899.6964089869792, 788.3855394672022), (904.2500596814073, 788.7554138050833), (911.8941246348602, 792.5119570818808), (911.6369994372105, 790.7447321125726), (910.4389323183443, 790.7417710506043), (917.7596091941479, 786.867370824038), (926.9383650693534, 788.8074152592034), (927.3320205036455, 788.4801990406798), (932.5110246438861, 790.9453036902281), (937.6591706590102, 810.8249968531806), (944.7357049567939, 795.0590528041516), (946.1187417834534, 799.2467133016195), (946.3738068578809, 799.2296335488879), (946.8342893269631, 797.6426462063324), (953.5612727625459, 805.3226899756131), (954.1422161861756, 805.339983439793), (965.0067048329124, 809.8733752277221), (970.3764250211484, 811.1364824444959), (972.5998062449626, 813.6474450304017), (973.972423499918, 813.9449371140197), (979.4794166255634, 819.5516799589885), (980.1308380419557, 824.4546748601585), (983.6600117227667, 823.7793281133276), (984.9722594046385, 827.6731628480821), array([nan, nan]), (989.1573110722376, 828.249900731608), (990.6713948811961, 836.1766236398264), (992.5712499474596, 837.6687015496124)]\n",
      "x=992.5712499474596\n",
      "liste des positions frame 50:[[795.4740259740262, 777.3571428571429], (795.5569524068497, 778.223859008559), (802.0601956794684, 776.1243106143643), (805.3092524206794, 776.5626122649505), (809.0863648227672, 775.3561166264495), (817.0723338288519, 773.28283188743), array([nan, nan]), array([nan, nan]), (818.5030083184603, 771.6501983205383), (836.0644126982788, 771.6015352844952), (838.0369028857217, 771.7215097071174), (843.0335232390487, 765.802021665), (846.1224711243217, 771.0085652824758), (846.5748202410826, 768.7842822860232), (856.2507124085628, 776.2452175509311), (869.3290095977815, 776.7438955199084), (874.4369160176132, 774.27072619255), (879.7504456549146, 772.6636066940533), (887.539694125358, 777.8493571927746), (894.7498902189436, 775.1988189271273), (897.9010854507495, 781.7547288816934), (899.9234949019218, 785.1055350577963), (899.6964089869792, 788.3855394672022), (904.2500596814073, 788.7554138050833), (911.8941246348602, 792.5119570818808), (911.6369994372105, 790.7447321125726), (910.4389323183443, 790.7417710506043), (917.7596091941479, 786.867370824038), (926.9383650693534, 788.8074152592034), (927.3320205036455, 788.4801990406798), (932.5110246438861, 790.9453036902281), (937.6591706590102, 810.8249968531806), (944.7357049567939, 795.0590528041516), (946.1187417834534, 799.2467133016195), (946.3738068578809, 799.2296335488879), (946.8342893269631, 797.6426462063324), (953.5612727625459, 805.3226899756131), (954.1422161861756, 805.339983439793), (965.0067048329124, 809.8733752277221), (970.3764250211484, 811.1364824444959), (972.5998062449626, 813.6474450304017), (973.972423499918, 813.9449371140197), (979.4794166255634, 819.5516799589885), (980.1308380419557, 824.4546748601585), (983.6600117227667, 823.7793281133276), (984.9722594046385, 827.6731628480821), array([nan, nan]), (989.1573110722376, 828.249900731608), (990.6713948811961, 836.1766236398264), (992.5712499474596, 837.6687015496124), (993.5561691133156, 837.9655761639557)]\n",
      "x=993.5561691133156\n",
      "liste des positions frame 51:[[795.4740259740262, 777.3571428571429], (795.5569524068497, 778.223859008559), (802.0601956794684, 776.1243106143643), (805.3092524206794, 776.5626122649505), (809.0863648227672, 775.3561166264495), (817.0723338288519, 773.28283188743), array([nan, nan]), array([nan, nan]), (818.5030083184603, 771.6501983205383), (836.0644126982788, 771.6015352844952), (838.0369028857217, 771.7215097071174), (843.0335232390487, 765.802021665), (846.1224711243217, 771.0085652824758), (846.5748202410826, 768.7842822860232), (856.2507124085628, 776.2452175509311), (869.3290095977815, 776.7438955199084), (874.4369160176132, 774.27072619255), (879.7504456549146, 772.6636066940533), (887.539694125358, 777.8493571927746), (894.7498902189436, 775.1988189271273), (897.9010854507495, 781.7547288816934), (899.9234949019218, 785.1055350577963), (899.6964089869792, 788.3855394672022), (904.2500596814073, 788.7554138050833), (911.8941246348602, 792.5119570818808), (911.6369994372105, 790.7447321125726), (910.4389323183443, 790.7417710506043), (917.7596091941479, 786.867370824038), (926.9383650693534, 788.8074152592034), (927.3320205036455, 788.4801990406798), (932.5110246438861, 790.9453036902281), (937.6591706590102, 810.8249968531806), (944.7357049567939, 795.0590528041516), (946.1187417834534, 799.2467133016195), (946.3738068578809, 799.2296335488879), (946.8342893269631, 797.6426462063324), (953.5612727625459, 805.3226899756131), (954.1422161861756, 805.339983439793), (965.0067048329124, 809.8733752277221), (970.3764250211484, 811.1364824444959), (972.5998062449626, 813.6474450304017), (973.972423499918, 813.9449371140197), (979.4794166255634, 819.5516799589885), (980.1308380419557, 824.4546748601585), (983.6600117227667, 823.7793281133276), (984.9722594046385, 827.6731628480821), array([nan, nan]), (989.1573110722376, 828.249900731608), (990.6713948811961, 836.1766236398264), (992.5712499474596, 837.6687015496124), (993.5561691133156, 837.9655761639557), (996.4290369016053, 840.22493671338)]\n",
      "x=996.4290369016053\n",
      "liste des positions frame 52:[[795.4740259740262, 777.3571428571429], (795.5569524068497, 778.223859008559), (802.0601956794684, 776.1243106143643), (805.3092524206794, 776.5626122649505), (809.0863648227672, 775.3561166264495), (817.0723338288519, 773.28283188743), array([nan, nan]), array([nan, nan]), (818.5030083184603, 771.6501983205383), (836.0644126982788, 771.6015352844952), (838.0369028857217, 771.7215097071174), (843.0335232390487, 765.802021665), (846.1224711243217, 771.0085652824758), (846.5748202410826, 768.7842822860232), (856.2507124085628, 776.2452175509311), (869.3290095977815, 776.7438955199084), (874.4369160176132, 774.27072619255), (879.7504456549146, 772.6636066940533), (887.539694125358, 777.8493571927746), (894.7498902189436, 775.1988189271273), (897.9010854507495, 781.7547288816934), (899.9234949019218, 785.1055350577963), (899.6964089869792, 788.3855394672022), (904.2500596814073, 788.7554138050833), (911.8941246348602, 792.5119570818808), (911.6369994372105, 790.7447321125726), (910.4389323183443, 790.7417710506043), (917.7596091941479, 786.867370824038), (926.9383650693534, 788.8074152592034), (927.3320205036455, 788.4801990406798), (932.5110246438861, 790.9453036902281), (937.6591706590102, 810.8249968531806), (944.7357049567939, 795.0590528041516), (946.1187417834534, 799.2467133016195), (946.3738068578809, 799.2296335488879), (946.8342893269631, 797.6426462063324), (953.5612727625459, 805.3226899756131), (954.1422161861756, 805.339983439793), (965.0067048329124, 809.8733752277221), (970.3764250211484, 811.1364824444959), (972.5998062449626, 813.6474450304017), (973.972423499918, 813.9449371140197), (979.4794166255634, 819.5516799589885), (980.1308380419557, 824.4546748601585), (983.6600117227667, 823.7793281133276), (984.9722594046385, 827.6731628480821), array([nan, nan]), (989.1573110722376, 828.249900731608), (990.6713948811961, 836.1766236398264), (992.5712499474596, 837.6687015496124), (993.5561691133156, 837.9655761639557), (996.4290369016053, 840.22493671338), (996.1037721182694, 838.1986170352625)]\n",
      "x=996.1037721182694\n",
      "liste des positions frame 53:[[795.4740259740262, 777.3571428571429], (795.5569524068497, 778.223859008559), (802.0601956794684, 776.1243106143643), (805.3092524206794, 776.5626122649505), (809.0863648227672, 775.3561166264495), (817.0723338288519, 773.28283188743), array([nan, nan]), array([nan, nan]), (818.5030083184603, 771.6501983205383), (836.0644126982788, 771.6015352844952), (838.0369028857217, 771.7215097071174), (843.0335232390487, 765.802021665), (846.1224711243217, 771.0085652824758), (846.5748202410826, 768.7842822860232), (856.2507124085628, 776.2452175509311), (869.3290095977815, 776.7438955199084), (874.4369160176132, 774.27072619255), (879.7504456549146, 772.6636066940533), (887.539694125358, 777.8493571927746), (894.7498902189436, 775.1988189271273), (897.9010854507495, 781.7547288816934), (899.9234949019218, 785.1055350577963), (899.6964089869792, 788.3855394672022), (904.2500596814073, 788.7554138050833), (911.8941246348602, 792.5119570818808), (911.6369994372105, 790.7447321125726), (910.4389323183443, 790.7417710506043), (917.7596091941479, 786.867370824038), (926.9383650693534, 788.8074152592034), (927.3320205036455, 788.4801990406798), (932.5110246438861, 790.9453036902281), (937.6591706590102, 810.8249968531806), (944.7357049567939, 795.0590528041516), (946.1187417834534, 799.2467133016195), (946.3738068578809, 799.2296335488879), (946.8342893269631, 797.6426462063324), (953.5612727625459, 805.3226899756131), (954.1422161861756, 805.339983439793), (965.0067048329124, 809.8733752277221), (970.3764250211484, 811.1364824444959), (972.5998062449626, 813.6474450304017), (973.972423499918, 813.9449371140197), (979.4794166255634, 819.5516799589885), (980.1308380419557, 824.4546748601585), (983.6600117227667, 823.7793281133276), (984.9722594046385, 827.6731628480821), array([nan, nan]), (989.1573110722376, 828.249900731608), (990.6713948811961, 836.1766236398264), (992.5712499474596, 837.6687015496124), (993.5561691133156, 837.9655761639557), (996.4290369016053, 840.22493671338), (996.1037721182694, 838.1986170352625), (996.0407198097987, 840.6606369479706)]\n",
      "x=996.0407198097987\n",
      "liste des positions frame 54:[[795.4740259740262, 777.3571428571429], (795.5569524068497, 778.223859008559), (802.0601956794684, 776.1243106143643), (805.3092524206794, 776.5626122649505), (809.0863648227672, 775.3561166264495), (817.0723338288519, 773.28283188743), array([nan, nan]), array([nan, nan]), (818.5030083184603, 771.6501983205383), (836.0644126982788, 771.6015352844952), (838.0369028857217, 771.7215097071174), (843.0335232390487, 765.802021665), (846.1224711243217, 771.0085652824758), (846.5748202410826, 768.7842822860232), (856.2507124085628, 776.2452175509311), (869.3290095977815, 776.7438955199084), (874.4369160176132, 774.27072619255), (879.7504456549146, 772.6636066940533), (887.539694125358, 777.8493571927746), (894.7498902189436, 775.1988189271273), (897.9010854507495, 781.7547288816934), (899.9234949019218, 785.1055350577963), (899.6964089869792, 788.3855394672022), (904.2500596814073, 788.7554138050833), (911.8941246348602, 792.5119570818808), (911.6369994372105, 790.7447321125726), (910.4389323183443, 790.7417710506043), (917.7596091941479, 786.867370824038), (926.9383650693534, 788.8074152592034), (927.3320205036455, 788.4801990406798), (932.5110246438861, 790.9453036902281), (937.6591706590102, 810.8249968531806), (944.7357049567939, 795.0590528041516), (946.1187417834534, 799.2467133016195), (946.3738068578809, 799.2296335488879), (946.8342893269631, 797.6426462063324), (953.5612727625459, 805.3226899756131), (954.1422161861756, 805.339983439793), (965.0067048329124, 809.8733752277221), (970.3764250211484, 811.1364824444959), (972.5998062449626, 813.6474450304017), (973.972423499918, 813.9449371140197), (979.4794166255634, 819.5516799589885), (980.1308380419557, 824.4546748601585), (983.6600117227667, 823.7793281133276), (984.9722594046385, 827.6731628480821), array([nan, nan]), (989.1573110722376, 828.249900731608), (990.6713948811961, 836.1766236398264), (992.5712499474596, 837.6687015496124), (993.5561691133156, 837.9655761639557), (996.4290369016053, 840.22493671338), (996.1037721182694, 838.1986170352625), (996.0407198097987, 840.6606369479706), (998.9559767113938, 842.2257794463687)]\n",
      "x=998.9559767113938\n",
      "liste des positions frame 55:[[795.4740259740262, 777.3571428571429], (795.5569524068497, 778.223859008559), (802.0601956794684, 776.1243106143643), (805.3092524206794, 776.5626122649505), (809.0863648227672, 775.3561166264495), (817.0723338288519, 773.28283188743), array([nan, nan]), array([nan, nan]), (818.5030083184603, 771.6501983205383), (836.0644126982788, 771.6015352844952), (838.0369028857217, 771.7215097071174), (843.0335232390487, 765.802021665), (846.1224711243217, 771.0085652824758), (846.5748202410826, 768.7842822860232), (856.2507124085628, 776.2452175509311), (869.3290095977815, 776.7438955199084), (874.4369160176132, 774.27072619255), (879.7504456549146, 772.6636066940533), (887.539694125358, 777.8493571927746), (894.7498902189436, 775.1988189271273), (897.9010854507495, 781.7547288816934), (899.9234949019218, 785.1055350577963), (899.6964089869792, 788.3855394672022), (904.2500596814073, 788.7554138050833), (911.8941246348602, 792.5119570818808), (911.6369994372105, 790.7447321125726), (910.4389323183443, 790.7417710506043), (917.7596091941479, 786.867370824038), (926.9383650693534, 788.8074152592034), (927.3320205036455, 788.4801990406798), (932.5110246438861, 790.9453036902281), (937.6591706590102, 810.8249968531806), (944.7357049567939, 795.0590528041516), (946.1187417834534, 799.2467133016195), (946.3738068578809, 799.2296335488879), (946.8342893269631, 797.6426462063324), (953.5612727625459, 805.3226899756131), (954.1422161861756, 805.339983439793), (965.0067048329124, 809.8733752277221), (970.3764250211484, 811.1364824444959), (972.5998062449626, 813.6474450304017), (973.972423499918, 813.9449371140197), (979.4794166255634, 819.5516799589885), (980.1308380419557, 824.4546748601585), (983.6600117227667, 823.7793281133276), (984.9722594046385, 827.6731628480821), array([nan, nan]), (989.1573110722376, 828.249900731608), (990.6713948811961, 836.1766236398264), (992.5712499474596, 837.6687015496124), (993.5561691133156, 837.9655761639557), (996.4290369016053, 840.22493671338), (996.1037721182694, 838.1986170352625), (996.0407198097987, 840.6606369479706), (998.9559767113938, 842.2257794463687), (1012.2370296418321, 836.8935128538566)]\n",
      "x=1012.2370296418321\n",
      "liste des positions frame 56:[[795.4740259740262, 777.3571428571429], (795.5569524068497, 778.223859008559), (802.0601956794684, 776.1243106143643), (805.3092524206794, 776.5626122649505), (809.0863648227672, 775.3561166264495), (817.0723338288519, 773.28283188743), array([nan, nan]), array([nan, nan]), (818.5030083184603, 771.6501983205383), (836.0644126982788, 771.6015352844952), (838.0369028857217, 771.7215097071174), (843.0335232390487, 765.802021665), (846.1224711243217, 771.0085652824758), (846.5748202410826, 768.7842822860232), (856.2507124085628, 776.2452175509311), (869.3290095977815, 776.7438955199084), (874.4369160176132, 774.27072619255), (879.7504456549146, 772.6636066940533), (887.539694125358, 777.8493571927746), (894.7498902189436, 775.1988189271273), (897.9010854507495, 781.7547288816934), (899.9234949019218, 785.1055350577963), (899.6964089869792, 788.3855394672022), (904.2500596814073, 788.7554138050833), (911.8941246348602, 792.5119570818808), (911.6369994372105, 790.7447321125726), (910.4389323183443, 790.7417710506043), (917.7596091941479, 786.867370824038), (926.9383650693534, 788.8074152592034), (927.3320205036455, 788.4801990406798), (932.5110246438861, 790.9453036902281), (937.6591706590102, 810.8249968531806), (944.7357049567939, 795.0590528041516), (946.1187417834534, 799.2467133016195), (946.3738068578809, 799.2296335488879), (946.8342893269631, 797.6426462063324), (953.5612727625459, 805.3226899756131), (954.1422161861756, 805.339983439793), (965.0067048329124, 809.8733752277221), (970.3764250211484, 811.1364824444959), (972.5998062449626, 813.6474450304017), (973.972423499918, 813.9449371140197), (979.4794166255634, 819.5516799589885), (980.1308380419557, 824.4546748601585), (983.6600117227667, 823.7793281133276), (984.9722594046385, 827.6731628480821), array([nan, nan]), (989.1573110722376, 828.249900731608), (990.6713948811961, 836.1766236398264), (992.5712499474596, 837.6687015496124), (993.5561691133156, 837.9655761639557), (996.4290369016053, 840.22493671338), (996.1037721182694, 838.1986170352625), (996.0407198097987, 840.6606369479706), (998.9559767113938, 842.2257794463687), (1012.2370296418321, 836.8935128538566), (1010.3600456437108, 838.6253815975929)]\n",
      "x=1010.3600456437108\n",
      "liste des positions frame 57:[[795.4740259740262, 777.3571428571429], (795.5569524068497, 778.223859008559), (802.0601956794684, 776.1243106143643), (805.3092524206794, 776.5626122649505), (809.0863648227672, 775.3561166264495), (817.0723338288519, 773.28283188743), array([nan, nan]), array([nan, nan]), (818.5030083184603, 771.6501983205383), (836.0644126982788, 771.6015352844952), (838.0369028857217, 771.7215097071174), (843.0335232390487, 765.802021665), (846.1224711243217, 771.0085652824758), (846.5748202410826, 768.7842822860232), (856.2507124085628, 776.2452175509311), (869.3290095977815, 776.7438955199084), (874.4369160176132, 774.27072619255), (879.7504456549146, 772.6636066940533), (887.539694125358, 777.8493571927746), (894.7498902189436, 775.1988189271273), (897.9010854507495, 781.7547288816934), (899.9234949019218, 785.1055350577963), (899.6964089869792, 788.3855394672022), (904.2500596814073, 788.7554138050833), (911.8941246348602, 792.5119570818808), (911.6369994372105, 790.7447321125726), (910.4389323183443, 790.7417710506043), (917.7596091941479, 786.867370824038), (926.9383650693534, 788.8074152592034), (927.3320205036455, 788.4801990406798), (932.5110246438861, 790.9453036902281), (937.6591706590102, 810.8249968531806), (944.7357049567939, 795.0590528041516), (946.1187417834534, 799.2467133016195), (946.3738068578809, 799.2296335488879), (946.8342893269631, 797.6426462063324), (953.5612727625459, 805.3226899756131), (954.1422161861756, 805.339983439793), (965.0067048329124, 809.8733752277221), (970.3764250211484, 811.1364824444959), (972.5998062449626, 813.6474450304017), (973.972423499918, 813.9449371140197), (979.4794166255634, 819.5516799589885), (980.1308380419557, 824.4546748601585), (983.6600117227667, 823.7793281133276), (984.9722594046385, 827.6731628480821), array([nan, nan]), (989.1573110722376, 828.249900731608), (990.6713948811961, 836.1766236398264), (992.5712499474596, 837.6687015496124), (993.5561691133156, 837.9655761639557), (996.4290369016053, 840.22493671338), (996.1037721182694, 838.1986170352625), (996.0407198097987, 840.6606369479706), (998.9559767113938, 842.2257794463687), (1012.2370296418321, 836.8935128538566), (1010.3600456437108, 838.6253815975929), (1018.7369410824926, 834.460082972863)]\n",
      "x=1018.7369410824926\n",
      "frames vide:58\n",
      "liste des positions frame 58:[[795.4740259740262, 777.3571428571429], (795.5569524068497, 778.223859008559), (802.0601956794684, 776.1243106143643), (805.3092524206794, 776.5626122649505), (809.0863648227672, 775.3561166264495), (817.0723338288519, 773.28283188743), array([nan, nan]), array([nan, nan]), (818.5030083184603, 771.6501983205383), (836.0644126982788, 771.6015352844952), (838.0369028857217, 771.7215097071174), (843.0335232390487, 765.802021665), (846.1224711243217, 771.0085652824758), (846.5748202410826, 768.7842822860232), (856.2507124085628, 776.2452175509311), (869.3290095977815, 776.7438955199084), (874.4369160176132, 774.27072619255), (879.7504456549146, 772.6636066940533), (887.539694125358, 777.8493571927746), (894.7498902189436, 775.1988189271273), (897.9010854507495, 781.7547288816934), (899.9234949019218, 785.1055350577963), (899.6964089869792, 788.3855394672022), (904.2500596814073, 788.7554138050833), (911.8941246348602, 792.5119570818808), (911.6369994372105, 790.7447321125726), (910.4389323183443, 790.7417710506043), (917.7596091941479, 786.867370824038), (926.9383650693534, 788.8074152592034), (927.3320205036455, 788.4801990406798), (932.5110246438861, 790.9453036902281), (937.6591706590102, 810.8249968531806), (944.7357049567939, 795.0590528041516), (946.1187417834534, 799.2467133016195), (946.3738068578809, 799.2296335488879), (946.8342893269631, 797.6426462063324), (953.5612727625459, 805.3226899756131), (954.1422161861756, 805.339983439793), (965.0067048329124, 809.8733752277221), (970.3764250211484, 811.1364824444959), (972.5998062449626, 813.6474450304017), (973.972423499918, 813.9449371140197), (979.4794166255634, 819.5516799589885), (980.1308380419557, 824.4546748601585), (983.6600117227667, 823.7793281133276), (984.9722594046385, 827.6731628480821), array([nan, nan]), (989.1573110722376, 828.249900731608), (990.6713948811961, 836.1766236398264), (992.5712499474596, 837.6687015496124), (993.5561691133156, 837.9655761639557), (996.4290369016053, 840.22493671338), (996.1037721182694, 838.1986170352625), (996.0407198097987, 840.6606369479706), (998.9559767113938, 842.2257794463687), (1012.2370296418321, 836.8935128538566), (1010.3600456437108, 838.6253815975929), (1018.7369410824926, 834.460082972863), array([nan, nan])]\n",
      "x=1018.7369410824926\n",
      "liste des positions frame 59:[[795.4740259740262, 777.3571428571429], (795.5569524068497, 778.223859008559), (802.0601956794684, 776.1243106143643), (805.3092524206794, 776.5626122649505), (809.0863648227672, 775.3561166264495), (817.0723338288519, 773.28283188743), array([nan, nan]), array([nan, nan]), (818.5030083184603, 771.6501983205383), (836.0644126982788, 771.6015352844952), (838.0369028857217, 771.7215097071174), (843.0335232390487, 765.802021665), (846.1224711243217, 771.0085652824758), (846.5748202410826, 768.7842822860232), (856.2507124085628, 776.2452175509311), (869.3290095977815, 776.7438955199084), (874.4369160176132, 774.27072619255), (879.7504456549146, 772.6636066940533), (887.539694125358, 777.8493571927746), (894.7498902189436, 775.1988189271273), (897.9010854507495, 781.7547288816934), (899.9234949019218, 785.1055350577963), (899.6964089869792, 788.3855394672022), (904.2500596814073, 788.7554138050833), (911.8941246348602, 792.5119570818808), (911.6369994372105, 790.7447321125726), (910.4389323183443, 790.7417710506043), (917.7596091941479, 786.867370824038), (926.9383650693534, 788.8074152592034), (927.3320205036455, 788.4801990406798), (932.5110246438861, 790.9453036902281), (937.6591706590102, 810.8249968531806), (944.7357049567939, 795.0590528041516), (946.1187417834534, 799.2467133016195), (946.3738068578809, 799.2296335488879), (946.8342893269631, 797.6426462063324), (953.5612727625459, 805.3226899756131), (954.1422161861756, 805.339983439793), (965.0067048329124, 809.8733752277221), (970.3764250211484, 811.1364824444959), (972.5998062449626, 813.6474450304017), (973.972423499918, 813.9449371140197), (979.4794166255634, 819.5516799589885), (980.1308380419557, 824.4546748601585), (983.6600117227667, 823.7793281133276), (984.9722594046385, 827.6731628480821), array([nan, nan]), (989.1573110722376, 828.249900731608), (990.6713948811961, 836.1766236398264), (992.5712499474596, 837.6687015496124), (993.5561691133156, 837.9655761639557), (996.4290369016053, 840.22493671338), (996.1037721182694, 838.1986170352625), (996.0407198097987, 840.6606369479706), (998.9559767113938, 842.2257794463687), (1012.2370296418321, 836.8935128538566), (1010.3600456437108, 838.6253815975929), (1018.7369410824926, 834.460082972863), array([nan, nan]), (1022.8363830133833, 838.2362572672415)]\n",
      "x=1022.8363830133833\n",
      "liste des positions frame 60:[[795.4740259740262, 777.3571428571429], (795.5569524068497, 778.223859008559), (802.0601956794684, 776.1243106143643), (805.3092524206794, 776.5626122649505), (809.0863648227672, 775.3561166264495), (817.0723338288519, 773.28283188743), array([nan, nan]), array([nan, nan]), (818.5030083184603, 771.6501983205383), (836.0644126982788, 771.6015352844952), (838.0369028857217, 771.7215097071174), (843.0335232390487, 765.802021665), (846.1224711243217, 771.0085652824758), (846.5748202410826, 768.7842822860232), (856.2507124085628, 776.2452175509311), (869.3290095977815, 776.7438955199084), (874.4369160176132, 774.27072619255), (879.7504456549146, 772.6636066940533), (887.539694125358, 777.8493571927746), (894.7498902189436, 775.1988189271273), (897.9010854507495, 781.7547288816934), (899.9234949019218, 785.1055350577963), (899.6964089869792, 788.3855394672022), (904.2500596814073, 788.7554138050833), (911.8941246348602, 792.5119570818808), (911.6369994372105, 790.7447321125726), (910.4389323183443, 790.7417710506043), (917.7596091941479, 786.867370824038), (926.9383650693534, 788.8074152592034), (927.3320205036455, 788.4801990406798), (932.5110246438861, 790.9453036902281), (937.6591706590102, 810.8249968531806), (944.7357049567939, 795.0590528041516), (946.1187417834534, 799.2467133016195), (946.3738068578809, 799.2296335488879), (946.8342893269631, 797.6426462063324), (953.5612727625459, 805.3226899756131), (954.1422161861756, 805.339983439793), (965.0067048329124, 809.8733752277221), (970.3764250211484, 811.1364824444959), (972.5998062449626, 813.6474450304017), (973.972423499918, 813.9449371140197), (979.4794166255634, 819.5516799589885), (980.1308380419557, 824.4546748601585), (983.6600117227667, 823.7793281133276), (984.9722594046385, 827.6731628480821), array([nan, nan]), (989.1573110722376, 828.249900731608), (990.6713948811961, 836.1766236398264), (992.5712499474596, 837.6687015496124), (993.5561691133156, 837.9655761639557), (996.4290369016053, 840.22493671338), (996.1037721182694, 838.1986170352625), (996.0407198097987, 840.6606369479706), (998.9559767113938, 842.2257794463687), (1012.2370296418321, 836.8935128538566), (1010.3600456437108, 838.6253815975929), (1018.7369410824926, 834.460082972863), array([nan, nan]), (1022.8363830133833, 838.2362572672415), (1033.40650155316, 842.2347914077365)]\n",
      "x=1033.40650155316\n",
      "liste des positions frame 61:[[795.4740259740262, 777.3571428571429], (795.5569524068497, 778.223859008559), (802.0601956794684, 776.1243106143643), (805.3092524206794, 776.5626122649505), (809.0863648227672, 775.3561166264495), (817.0723338288519, 773.28283188743), array([nan, nan]), array([nan, nan]), (818.5030083184603, 771.6501983205383), (836.0644126982788, 771.6015352844952), (838.0369028857217, 771.7215097071174), (843.0335232390487, 765.802021665), (846.1224711243217, 771.0085652824758), (846.5748202410826, 768.7842822860232), (856.2507124085628, 776.2452175509311), (869.3290095977815, 776.7438955199084), (874.4369160176132, 774.27072619255), (879.7504456549146, 772.6636066940533), (887.539694125358, 777.8493571927746), (894.7498902189436, 775.1988189271273), (897.9010854507495, 781.7547288816934), (899.9234949019218, 785.1055350577963), (899.6964089869792, 788.3855394672022), (904.2500596814073, 788.7554138050833), (911.8941246348602, 792.5119570818808), (911.6369994372105, 790.7447321125726), (910.4389323183443, 790.7417710506043), (917.7596091941479, 786.867370824038), (926.9383650693534, 788.8074152592034), (927.3320205036455, 788.4801990406798), (932.5110246438861, 790.9453036902281), (937.6591706590102, 810.8249968531806), (944.7357049567939, 795.0590528041516), (946.1187417834534, 799.2467133016195), (946.3738068578809, 799.2296335488879), (946.8342893269631, 797.6426462063324), (953.5612727625459, 805.3226899756131), (954.1422161861756, 805.339983439793), (965.0067048329124, 809.8733752277221), (970.3764250211484, 811.1364824444959), (972.5998062449626, 813.6474450304017), (973.972423499918, 813.9449371140197), (979.4794166255634, 819.5516799589885), (980.1308380419557, 824.4546748601585), (983.6600117227667, 823.7793281133276), (984.9722594046385, 827.6731628480821), array([nan, nan]), (989.1573110722376, 828.249900731608), (990.6713948811961, 836.1766236398264), (992.5712499474596, 837.6687015496124), (993.5561691133156, 837.9655761639557), (996.4290369016053, 840.22493671338), (996.1037721182694, 838.1986170352625), (996.0407198097987, 840.6606369479706), (998.9559767113938, 842.2257794463687), (1012.2370296418321, 836.8935128538566), (1010.3600456437108, 838.6253815975929), (1018.7369410824926, 834.460082972863), array([nan, nan]), (1022.8363830133833, 838.2362572672415), (1033.40650155316, 842.2347914077365), (1034.5504797531748, 855.3394146011191)]\n",
      "x=1034.5504797531748\n",
      "liste des positions frame 62:[[795.4740259740262, 777.3571428571429], (795.5569524068497, 778.223859008559), (802.0601956794684, 776.1243106143643), (805.3092524206794, 776.5626122649505), (809.0863648227672, 775.3561166264495), (817.0723338288519, 773.28283188743), array([nan, nan]), array([nan, nan]), (818.5030083184603, 771.6501983205383), (836.0644126982788, 771.6015352844952), (838.0369028857217, 771.7215097071174), (843.0335232390487, 765.802021665), (846.1224711243217, 771.0085652824758), (846.5748202410826, 768.7842822860232), (856.2507124085628, 776.2452175509311), (869.3290095977815, 776.7438955199084), (874.4369160176132, 774.27072619255), (879.7504456549146, 772.6636066940533), (887.539694125358, 777.8493571927746), (894.7498902189436, 775.1988189271273), (897.9010854507495, 781.7547288816934), (899.9234949019218, 785.1055350577963), (899.6964089869792, 788.3855394672022), (904.2500596814073, 788.7554138050833), (911.8941246348602, 792.5119570818808), (911.6369994372105, 790.7447321125726), (910.4389323183443, 790.7417710506043), (917.7596091941479, 786.867370824038), (926.9383650693534, 788.8074152592034), (927.3320205036455, 788.4801990406798), (932.5110246438861, 790.9453036902281), (937.6591706590102, 810.8249968531806), (944.7357049567939, 795.0590528041516), (946.1187417834534, 799.2467133016195), (946.3738068578809, 799.2296335488879), (946.8342893269631, 797.6426462063324), (953.5612727625459, 805.3226899756131), (954.1422161861756, 805.339983439793), (965.0067048329124, 809.8733752277221), (970.3764250211484, 811.1364824444959), (972.5998062449626, 813.6474450304017), (973.972423499918, 813.9449371140197), (979.4794166255634, 819.5516799589885), (980.1308380419557, 824.4546748601585), (983.6600117227667, 823.7793281133276), (984.9722594046385, 827.6731628480821), array([nan, nan]), (989.1573110722376, 828.249900731608), (990.6713948811961, 836.1766236398264), (992.5712499474596, 837.6687015496124), (993.5561691133156, 837.9655761639557), (996.4290369016053, 840.22493671338), (996.1037721182694, 838.1986170352625), (996.0407198097987, 840.6606369479706), (998.9559767113938, 842.2257794463687), (1012.2370296418321, 836.8935128538566), (1010.3600456437108, 838.6253815975929), (1018.7369410824926, 834.460082972863), array([nan, nan]), (1022.8363830133833, 838.2362572672415), (1033.40650155316, 842.2347914077365), (1034.5504797531748, 855.3394146011191), (1035.1760970369771, 853.61166710713)]\n",
      "x=1035.1760970369771\n",
      "liste des positions frame 63:[[795.4740259740262, 777.3571428571429], (795.5569524068497, 778.223859008559), (802.0601956794684, 776.1243106143643), (805.3092524206794, 776.5626122649505), (809.0863648227672, 775.3561166264495), (817.0723338288519, 773.28283188743), array([nan, nan]), array([nan, nan]), (818.5030083184603, 771.6501983205383), (836.0644126982788, 771.6015352844952), (838.0369028857217, 771.7215097071174), (843.0335232390487, 765.802021665), (846.1224711243217, 771.0085652824758), (846.5748202410826, 768.7842822860232), (856.2507124085628, 776.2452175509311), (869.3290095977815, 776.7438955199084), (874.4369160176132, 774.27072619255), (879.7504456549146, 772.6636066940533), (887.539694125358, 777.8493571927746), (894.7498902189436, 775.1988189271273), (897.9010854507495, 781.7547288816934), (899.9234949019218, 785.1055350577963), (899.6964089869792, 788.3855394672022), (904.2500596814073, 788.7554138050833), (911.8941246348602, 792.5119570818808), (911.6369994372105, 790.7447321125726), (910.4389323183443, 790.7417710506043), (917.7596091941479, 786.867370824038), (926.9383650693534, 788.8074152592034), (927.3320205036455, 788.4801990406798), (932.5110246438861, 790.9453036902281), (937.6591706590102, 810.8249968531806), (944.7357049567939, 795.0590528041516), (946.1187417834534, 799.2467133016195), (946.3738068578809, 799.2296335488879), (946.8342893269631, 797.6426462063324), (953.5612727625459, 805.3226899756131), (954.1422161861756, 805.339983439793), (965.0067048329124, 809.8733752277221), (970.3764250211484, 811.1364824444959), (972.5998062449626, 813.6474450304017), (973.972423499918, 813.9449371140197), (979.4794166255634, 819.5516799589885), (980.1308380419557, 824.4546748601585), (983.6600117227667, 823.7793281133276), (984.9722594046385, 827.6731628480821), array([nan, nan]), (989.1573110722376, 828.249900731608), (990.6713948811961, 836.1766236398264), (992.5712499474596, 837.6687015496124), (993.5561691133156, 837.9655761639557), (996.4290369016053, 840.22493671338), (996.1037721182694, 838.1986170352625), (996.0407198097987, 840.6606369479706), (998.9559767113938, 842.2257794463687), (1012.2370296418321, 836.8935128538566), (1010.3600456437108, 838.6253815975929), (1018.7369410824926, 834.460082972863), array([nan, nan]), (1022.8363830133833, 838.2362572672415), (1033.40650155316, 842.2347914077365), (1034.5504797531748, 855.3394146011191), (1035.1760970369771, 853.61166710713), (1031.1976396554396, 851.1924215997811)]\n",
      "x=1031.1976396554396\n",
      "liste des positions frame 64:[[795.4740259740262, 777.3571428571429], (795.5569524068497, 778.223859008559), (802.0601956794684, 776.1243106143643), (805.3092524206794, 776.5626122649505), (809.0863648227672, 775.3561166264495), (817.0723338288519, 773.28283188743), array([nan, nan]), array([nan, nan]), (818.5030083184603, 771.6501983205383), (836.0644126982788, 771.6015352844952), (838.0369028857217, 771.7215097071174), (843.0335232390487, 765.802021665), (846.1224711243217, 771.0085652824758), (846.5748202410826, 768.7842822860232), (856.2507124085628, 776.2452175509311), (869.3290095977815, 776.7438955199084), (874.4369160176132, 774.27072619255), (879.7504456549146, 772.6636066940533), (887.539694125358, 777.8493571927746), (894.7498902189436, 775.1988189271273), (897.9010854507495, 781.7547288816934), (899.9234949019218, 785.1055350577963), (899.6964089869792, 788.3855394672022), (904.2500596814073, 788.7554138050833), (911.8941246348602, 792.5119570818808), (911.6369994372105, 790.7447321125726), (910.4389323183443, 790.7417710506043), (917.7596091941479, 786.867370824038), (926.9383650693534, 788.8074152592034), (927.3320205036455, 788.4801990406798), (932.5110246438861, 790.9453036902281), (937.6591706590102, 810.8249968531806), (944.7357049567939, 795.0590528041516), (946.1187417834534, 799.2467133016195), (946.3738068578809, 799.2296335488879), (946.8342893269631, 797.6426462063324), (953.5612727625459, 805.3226899756131), (954.1422161861756, 805.339983439793), (965.0067048329124, 809.8733752277221), (970.3764250211484, 811.1364824444959), (972.5998062449626, 813.6474450304017), (973.972423499918, 813.9449371140197), (979.4794166255634, 819.5516799589885), (980.1308380419557, 824.4546748601585), (983.6600117227667, 823.7793281133276), (984.9722594046385, 827.6731628480821), array([nan, nan]), (989.1573110722376, 828.249900731608), (990.6713948811961, 836.1766236398264), (992.5712499474596, 837.6687015496124), (993.5561691133156, 837.9655761639557), (996.4290369016053, 840.22493671338), (996.1037721182694, 838.1986170352625), (996.0407198097987, 840.6606369479706), (998.9559767113938, 842.2257794463687), (1012.2370296418321, 836.8935128538566), (1010.3600456437108, 838.6253815975929), (1018.7369410824926, 834.460082972863), array([nan, nan]), (1022.8363830133833, 838.2362572672415), (1033.40650155316, 842.2347914077365), (1034.5504797531748, 855.3394146011191), (1035.1760970369771, 853.61166710713), (1031.1976396554396, 851.1924215997811), (1029.8669746001042, 847.4280732977363)]\n",
      "x=1029.8669746001042\n",
      "liste des positions frame 65:[[795.4740259740262, 777.3571428571429], (795.5569524068497, 778.223859008559), (802.0601956794684, 776.1243106143643), (805.3092524206794, 776.5626122649505), (809.0863648227672, 775.3561166264495), (817.0723338288519, 773.28283188743), array([nan, nan]), array([nan, nan]), (818.5030083184603, 771.6501983205383), (836.0644126982788, 771.6015352844952), (838.0369028857217, 771.7215097071174), (843.0335232390487, 765.802021665), (846.1224711243217, 771.0085652824758), (846.5748202410826, 768.7842822860232), (856.2507124085628, 776.2452175509311), (869.3290095977815, 776.7438955199084), (874.4369160176132, 774.27072619255), (879.7504456549146, 772.6636066940533), (887.539694125358, 777.8493571927746), (894.7498902189436, 775.1988189271273), (897.9010854507495, 781.7547288816934), (899.9234949019218, 785.1055350577963), (899.6964089869792, 788.3855394672022), (904.2500596814073, 788.7554138050833), (911.8941246348602, 792.5119570818808), (911.6369994372105, 790.7447321125726), (910.4389323183443, 790.7417710506043), (917.7596091941479, 786.867370824038), (926.9383650693534, 788.8074152592034), (927.3320205036455, 788.4801990406798), (932.5110246438861, 790.9453036902281), (937.6591706590102, 810.8249968531806), (944.7357049567939, 795.0590528041516), (946.1187417834534, 799.2467133016195), (946.3738068578809, 799.2296335488879), (946.8342893269631, 797.6426462063324), (953.5612727625459, 805.3226899756131), (954.1422161861756, 805.339983439793), (965.0067048329124, 809.8733752277221), (970.3764250211484, 811.1364824444959), (972.5998062449626, 813.6474450304017), (973.972423499918, 813.9449371140197), (979.4794166255634, 819.5516799589885), (980.1308380419557, 824.4546748601585), (983.6600117227667, 823.7793281133276), (984.9722594046385, 827.6731628480821), array([nan, nan]), (989.1573110722376, 828.249900731608), (990.6713948811961, 836.1766236398264), (992.5712499474596, 837.6687015496124), (993.5561691133156, 837.9655761639557), (996.4290369016053, 840.22493671338), (996.1037721182694, 838.1986170352625), (996.0407198097987, 840.6606369479706), (998.9559767113938, 842.2257794463687), (1012.2370296418321, 836.8935128538566), (1010.3600456437108, 838.6253815975929), (1018.7369410824926, 834.460082972863), array([nan, nan]), (1022.8363830133833, 838.2362572672415), (1033.40650155316, 842.2347914077365), (1034.5504797531748, 855.3394146011191), (1035.1760970369771, 853.61166710713), (1031.1976396554396, 851.1924215997811), (1029.8669746001042, 847.4280732977363), (1028.4860041019838, 854.4798820396736)]\n",
      "x=1028.4860041019838\n",
      "liste des positions frame 66:[[795.4740259740262, 777.3571428571429], (795.5569524068497, 778.223859008559), (802.0601956794684, 776.1243106143643), (805.3092524206794, 776.5626122649505), (809.0863648227672, 775.3561166264495), (817.0723338288519, 773.28283188743), array([nan, nan]), array([nan, nan]), (818.5030083184603, 771.6501983205383), (836.0644126982788, 771.6015352844952), (838.0369028857217, 771.7215097071174), (843.0335232390487, 765.802021665), (846.1224711243217, 771.0085652824758), (846.5748202410826, 768.7842822860232), (856.2507124085628, 776.2452175509311), (869.3290095977815, 776.7438955199084), (874.4369160176132, 774.27072619255), (879.7504456549146, 772.6636066940533), (887.539694125358, 777.8493571927746), (894.7498902189436, 775.1988189271273), (897.9010854507495, 781.7547288816934), (899.9234949019218, 785.1055350577963), (899.6964089869792, 788.3855394672022), (904.2500596814073, 788.7554138050833), (911.8941246348602, 792.5119570818808), (911.6369994372105, 790.7447321125726), (910.4389323183443, 790.7417710506043), (917.7596091941479, 786.867370824038), (926.9383650693534, 788.8074152592034), (927.3320205036455, 788.4801990406798), (932.5110246438861, 790.9453036902281), (937.6591706590102, 810.8249968531806), (944.7357049567939, 795.0590528041516), (946.1187417834534, 799.2467133016195), (946.3738068578809, 799.2296335488879), (946.8342893269631, 797.6426462063324), (953.5612727625459, 805.3226899756131), (954.1422161861756, 805.339983439793), (965.0067048329124, 809.8733752277221), (970.3764250211484, 811.1364824444959), (972.5998062449626, 813.6474450304017), (973.972423499918, 813.9449371140197), (979.4794166255634, 819.5516799589885), (980.1308380419557, 824.4546748601585), (983.6600117227667, 823.7793281133276), (984.9722594046385, 827.6731628480821), array([nan, nan]), (989.1573110722376, 828.249900731608), (990.6713948811961, 836.1766236398264), (992.5712499474596, 837.6687015496124), (993.5561691133156, 837.9655761639557), (996.4290369016053, 840.22493671338), (996.1037721182694, 838.1986170352625), (996.0407198097987, 840.6606369479706), (998.9559767113938, 842.2257794463687), (1012.2370296418321, 836.8935128538566), (1010.3600456437108, 838.6253815975929), (1018.7369410824926, 834.460082972863), array([nan, nan]), (1022.8363830133833, 838.2362572672415), (1033.40650155316, 842.2347914077365), (1034.5504797531748, 855.3394146011191), (1035.1760970369771, 853.61166710713), (1031.1976396554396, 851.1924215997811), (1029.8669746001042, 847.4280732977363), (1028.4860041019838, 854.4798820396736), (1029.0068816532337, 859.3340806240656)]\n",
      "x=1029.0068816532337\n",
      "liste des positions frame 67:[[795.4740259740262, 777.3571428571429], (795.5569524068497, 778.223859008559), (802.0601956794684, 776.1243106143643), (805.3092524206794, 776.5626122649505), (809.0863648227672, 775.3561166264495), (817.0723338288519, 773.28283188743), array([nan, nan]), array([nan, nan]), (818.5030083184603, 771.6501983205383), (836.0644126982788, 771.6015352844952), (838.0369028857217, 771.7215097071174), (843.0335232390487, 765.802021665), (846.1224711243217, 771.0085652824758), (846.5748202410826, 768.7842822860232), (856.2507124085628, 776.2452175509311), (869.3290095977815, 776.7438955199084), (874.4369160176132, 774.27072619255), (879.7504456549146, 772.6636066940533), (887.539694125358, 777.8493571927746), (894.7498902189436, 775.1988189271273), (897.9010854507495, 781.7547288816934), (899.9234949019218, 785.1055350577963), (899.6964089869792, 788.3855394672022), (904.2500596814073, 788.7554138050833), (911.8941246348602, 792.5119570818808), (911.6369994372105, 790.7447321125726), (910.4389323183443, 790.7417710506043), (917.7596091941479, 786.867370824038), (926.9383650693534, 788.8074152592034), (927.3320205036455, 788.4801990406798), (932.5110246438861, 790.9453036902281), (937.6591706590102, 810.8249968531806), (944.7357049567939, 795.0590528041516), (946.1187417834534, 799.2467133016195), (946.3738068578809, 799.2296335488879), (946.8342893269631, 797.6426462063324), (953.5612727625459, 805.3226899756131), (954.1422161861756, 805.339983439793), (965.0067048329124, 809.8733752277221), (970.3764250211484, 811.1364824444959), (972.5998062449626, 813.6474450304017), (973.972423499918, 813.9449371140197), (979.4794166255634, 819.5516799589885), (980.1308380419557, 824.4546748601585), (983.6600117227667, 823.7793281133276), (984.9722594046385, 827.6731628480821), array([nan, nan]), (989.1573110722376, 828.249900731608), (990.6713948811961, 836.1766236398264), (992.5712499474596, 837.6687015496124), (993.5561691133156, 837.9655761639557), (996.4290369016053, 840.22493671338), (996.1037721182694, 838.1986170352625), (996.0407198097987, 840.6606369479706), (998.9559767113938, 842.2257794463687), (1012.2370296418321, 836.8935128538566), (1010.3600456437108, 838.6253815975929), (1018.7369410824926, 834.460082972863), array([nan, nan]), (1022.8363830133833, 838.2362572672415), (1033.40650155316, 842.2347914077365), (1034.5504797531748, 855.3394146011191), (1035.1760970369771, 853.61166710713), (1031.1976396554396, 851.1924215997811), (1029.8669746001042, 847.4280732977363), (1028.4860041019838, 854.4798820396736), (1029.0068816532337, 859.3340806240656), (1032.2403186190784, 857.0745068575591)]\n",
      "x=1032.2403186190784\n",
      "ecrat: 40.001043766196375\n",
      "ecrat: 56.68007246376811\n",
      "écart:40.001043766196375\n",
      "liste des positions frame 68:[[795.4740259740262, 777.3571428571429], (795.5569524068497, 778.223859008559), (802.0601956794684, 776.1243106143643), (805.3092524206794, 776.5626122649505), (809.0863648227672, 775.3561166264495), (817.0723338288519, 773.28283188743), array([nan, nan]), array([nan, nan]), (818.5030083184603, 771.6501983205383), (836.0644126982788, 771.6015352844952), (838.0369028857217, 771.7215097071174), (843.0335232390487, 765.802021665), (846.1224711243217, 771.0085652824758), (846.5748202410826, 768.7842822860232), (856.2507124085628, 776.2452175509311), (869.3290095977815, 776.7438955199084), (874.4369160176132, 774.27072619255), (879.7504456549146, 772.6636066940533), (887.539694125358, 777.8493571927746), (894.7498902189436, 775.1988189271273), (897.9010854507495, 781.7547288816934), (899.9234949019218, 785.1055350577963), (899.6964089869792, 788.3855394672022), (904.2500596814073, 788.7554138050833), (911.8941246348602, 792.5119570818808), (911.6369994372105, 790.7447321125726), (910.4389323183443, 790.7417710506043), (917.7596091941479, 786.867370824038), (926.9383650693534, 788.8074152592034), (927.3320205036455, 788.4801990406798), (932.5110246438861, 790.9453036902281), (937.6591706590102, 810.8249968531806), (944.7357049567939, 795.0590528041516), (946.1187417834534, 799.2467133016195), (946.3738068578809, 799.2296335488879), (946.8342893269631, 797.6426462063324), (953.5612727625459, 805.3226899756131), (954.1422161861756, 805.339983439793), (965.0067048329124, 809.8733752277221), (970.3764250211484, 811.1364824444959), (972.5998062449626, 813.6474450304017), (973.972423499918, 813.9449371140197), (979.4794166255634, 819.5516799589885), (980.1308380419557, 824.4546748601585), (983.6600117227667, 823.7793281133276), (984.9722594046385, 827.6731628480821), array([nan, nan]), (989.1573110722376, 828.249900731608), (990.6713948811961, 836.1766236398264), (992.5712499474596, 837.6687015496124), (993.5561691133156, 837.9655761639557), (996.4290369016053, 840.22493671338), (996.1037721182694, 838.1986170352625), (996.0407198097987, 840.6606369479706), (998.9559767113938, 842.2257794463687), (1012.2370296418321, 836.8935128538566), (1010.3600456437108, 838.6253815975929), (1018.7369410824926, 834.460082972863), array([nan, nan]), (1022.8363830133833, 838.2362572672415), (1033.40650155316, 842.2347914077365), (1034.5504797531748, 855.3394146011191), (1035.1760970369771, 853.61166710713), (1031.1976396554396, 851.1924215997811), (1029.8669746001042, 847.4280732977363), (1028.4860041019838, 854.4798820396736), (1029.0068816532337, 859.3340806240656), (1032.2403186190784, 857.0745068575591), (1030.8844435110109, 853.7253031266221)]\n",
      "x=1030.8844435110109\n",
      "liste des positions frame 69:[[795.4740259740262, 777.3571428571429], (795.5569524068497, 778.223859008559), (802.0601956794684, 776.1243106143643), (805.3092524206794, 776.5626122649505), (809.0863648227672, 775.3561166264495), (817.0723338288519, 773.28283188743), array([nan, nan]), array([nan, nan]), (818.5030083184603, 771.6501983205383), (836.0644126982788, 771.6015352844952), (838.0369028857217, 771.7215097071174), (843.0335232390487, 765.802021665), (846.1224711243217, 771.0085652824758), (846.5748202410826, 768.7842822860232), (856.2507124085628, 776.2452175509311), (869.3290095977815, 776.7438955199084), (874.4369160176132, 774.27072619255), (879.7504456549146, 772.6636066940533), (887.539694125358, 777.8493571927746), (894.7498902189436, 775.1988189271273), (897.9010854507495, 781.7547288816934), (899.9234949019218, 785.1055350577963), (899.6964089869792, 788.3855394672022), (904.2500596814073, 788.7554138050833), (911.8941246348602, 792.5119570818808), (911.6369994372105, 790.7447321125726), (910.4389323183443, 790.7417710506043), (917.7596091941479, 786.867370824038), (926.9383650693534, 788.8074152592034), (927.3320205036455, 788.4801990406798), (932.5110246438861, 790.9453036902281), (937.6591706590102, 810.8249968531806), (944.7357049567939, 795.0590528041516), (946.1187417834534, 799.2467133016195), (946.3738068578809, 799.2296335488879), (946.8342893269631, 797.6426462063324), (953.5612727625459, 805.3226899756131), (954.1422161861756, 805.339983439793), (965.0067048329124, 809.8733752277221), (970.3764250211484, 811.1364824444959), (972.5998062449626, 813.6474450304017), (973.972423499918, 813.9449371140197), (979.4794166255634, 819.5516799589885), (980.1308380419557, 824.4546748601585), (983.6600117227667, 823.7793281133276), (984.9722594046385, 827.6731628480821), array([nan, nan]), (989.1573110722376, 828.249900731608), (990.6713948811961, 836.1766236398264), (992.5712499474596, 837.6687015496124), (993.5561691133156, 837.9655761639557), (996.4290369016053, 840.22493671338), (996.1037721182694, 838.1986170352625), (996.0407198097987, 840.6606369479706), (998.9559767113938, 842.2257794463687), (1012.2370296418321, 836.8935128538566), (1010.3600456437108, 838.6253815975929), (1018.7369410824926, 834.460082972863), array([nan, nan]), (1022.8363830133833, 838.2362572672415), (1033.40650155316, 842.2347914077365), (1034.5504797531748, 855.3394146011191), (1035.1760970369771, 853.61166710713), (1031.1976396554396, 851.1924215997811), (1029.8669746001042, 847.4280732977363), (1028.4860041019838, 854.4798820396736), (1029.0068816532337, 859.3340806240656), (1032.2403186190784, 857.0745068575591), (1030.8844435110109, 853.7253031266221), (1034.8866773702405, 851.8472320216165)]\n",
      "x=1034.8866773702405\n",
      "liste des positions frame 70:[[795.4740259740262, 777.3571428571429], (795.5569524068497, 778.223859008559), (802.0601956794684, 776.1243106143643), (805.3092524206794, 776.5626122649505), (809.0863648227672, 775.3561166264495), (817.0723338288519, 773.28283188743), array([nan, nan]), array([nan, nan]), (818.5030083184603, 771.6501983205383), (836.0644126982788, 771.6015352844952), (838.0369028857217, 771.7215097071174), (843.0335232390487, 765.802021665), (846.1224711243217, 771.0085652824758), (846.5748202410826, 768.7842822860232), (856.2507124085628, 776.2452175509311), (869.3290095977815, 776.7438955199084), (874.4369160176132, 774.27072619255), (879.7504456549146, 772.6636066940533), (887.539694125358, 777.8493571927746), (894.7498902189436, 775.1988189271273), (897.9010854507495, 781.7547288816934), (899.9234949019218, 785.1055350577963), (899.6964089869792, 788.3855394672022), (904.2500596814073, 788.7554138050833), (911.8941246348602, 792.5119570818808), (911.6369994372105, 790.7447321125726), (910.4389323183443, 790.7417710506043), (917.7596091941479, 786.867370824038), (926.9383650693534, 788.8074152592034), (927.3320205036455, 788.4801990406798), (932.5110246438861, 790.9453036902281), (937.6591706590102, 810.8249968531806), (944.7357049567939, 795.0590528041516), (946.1187417834534, 799.2467133016195), (946.3738068578809, 799.2296335488879), (946.8342893269631, 797.6426462063324), (953.5612727625459, 805.3226899756131), (954.1422161861756, 805.339983439793), (965.0067048329124, 809.8733752277221), (970.3764250211484, 811.1364824444959), (972.5998062449626, 813.6474450304017), (973.972423499918, 813.9449371140197), (979.4794166255634, 819.5516799589885), (980.1308380419557, 824.4546748601585), (983.6600117227667, 823.7793281133276), (984.9722594046385, 827.6731628480821), array([nan, nan]), (989.1573110722376, 828.249900731608), (990.6713948811961, 836.1766236398264), (992.5712499474596, 837.6687015496124), (993.5561691133156, 837.9655761639557), (996.4290369016053, 840.22493671338), (996.1037721182694, 838.1986170352625), (996.0407198097987, 840.6606369479706), (998.9559767113938, 842.2257794463687), (1012.2370296418321, 836.8935128538566), (1010.3600456437108, 838.6253815975929), (1018.7369410824926, 834.460082972863), array([nan, nan]), (1022.8363830133833, 838.2362572672415), (1033.40650155316, 842.2347914077365), (1034.5504797531748, 855.3394146011191), (1035.1760970369771, 853.61166710713), (1031.1976396554396, 851.1924215997811), (1029.8669746001042, 847.4280732977363), (1028.4860041019838, 854.4798820396736), (1029.0068816532337, 859.3340806240656), (1032.2403186190784, 857.0745068575591), (1030.8844435110109, 853.7253031266221), (1034.8866773702405, 851.8472320216165), (1035.4766403449557, 859.9586659071645)]\n"
     ]
    }
   ],
   "source": [
    "taille_initiale, luminosité_initiale, seuil = empreinte_digitale(crop(img,x,y,35,35))\n",
    "print(f'position initiale: {position_list}')\n",
    "\n",
    "for i in range(first_frame+1,actual_frames):\n",
    "    tiff.seek(i)\n",
    "    if np.sum(np.array(tiff))==0:\n",
    "        print(f'x={x}')\n",
    "        position_list.append(np.array([np.nan,np.nan]))\n",
    "        sigma_list.append(np.array([np.nan,np.nan]))\n",
    "        print(f'frames vide:{i}')\n",
    "    else:\n",
    "        print(f'x={x}')\n",
    "        data = particle_tracker(img, x, y, taille_initiale, luminosité_initiale, seuil)\n",
    "        position_list.append(data[2])\n",
    "        # x,y = position_list[i-first_frame+1] Valeur de First frame n'a pas d'impact apparemment\n",
    "        x,y = position_list[i]\n",
    "        sigma_list.append(data[3])\n",
    "        tiff.seek(i)\n",
    "        img = np.array(tiff)\n",
    "        big_frames.append(img)\n",
    "        crop_frames.append(data[1])\n",
    "        if is_within_bounds(position_list[-1]):\n",
    "            pass\n",
    "        else:\n",
    "            break\n",
    "    print(f'liste des positions frame {i}:{position_list}')\n",
    "    \n",
    "    \n",
    "position_list=position_list[1:] #On ignore le premier point cliqué car incertitude non définie"
   ]
  },
  {
   "cell_type": "code",
   "execution_count": 597,
   "id": "b7a84351",
   "metadata": {},
   "outputs": [
    {
     "name": "stdout",
     "output_type": "stream",
     "text": [
      "[[0.00014638 0.00014319]\n",
      " [0.00014758 0.00014281]\n",
      " [0.00014818 0.00014289]\n",
      " [0.00014887 0.00014267]\n",
      " [0.00015034 0.00014228]\n",
      " [       nan        nan]\n",
      " [       nan        nan]\n",
      " [0.0001506  0.00014198]\n",
      " [0.00015384 0.00014197]\n",
      " [0.0001542  0.000142  ]\n",
      " [0.00015512 0.00014091]\n",
      " [0.00015569 0.00014187]\n",
      " [0.00015577 0.00014146]\n",
      " [0.00015755 0.00014283]\n",
      " [0.00015996 0.00014292]\n",
      " [0.0001609  0.00014247]\n",
      " [0.00016187 0.00014217]\n",
      " [0.00016331 0.00014312]\n",
      " [0.00016463 0.00014264]\n",
      " [0.00016521 0.00014384]\n",
      " [0.00016559 0.00014446]\n",
      " [0.00016554 0.00014506]\n",
      " [0.00016638 0.00014513]\n",
      " [0.00016779 0.00014582]\n",
      " [0.00016774 0.0001455 ]\n",
      " [0.00016752 0.0001455 ]\n",
      " [0.00016887 0.00014478]\n",
      " [0.00017056 0.00014514]\n",
      " [0.00017063 0.00014508]\n",
      " [0.00017158 0.00014553]\n",
      " [0.00017253 0.00014919]\n",
      " [0.00017383 0.00014629]\n",
      " [0.00017409 0.00014706]\n",
      " [0.00017413 0.00014706]\n",
      " [0.00017422 0.00014677]\n",
      " [0.00017546 0.00014818]\n",
      " [0.00017556 0.00014818]\n",
      " [0.00017756 0.00014902]\n",
      " [0.00017855 0.00014925]\n",
      " [0.00017896 0.00014971]\n",
      " [0.00017921 0.00014977]\n",
      " [0.00018022 0.0001508 ]\n",
      " [0.00018034 0.0001517 ]\n",
      " [0.00018099 0.00015158]\n",
      " [0.00018123 0.00015229]\n",
      " [       nan        nan]\n",
      " [0.000182   0.0001524 ]\n",
      " [0.00018228 0.00015386]\n",
      " [0.00018263 0.00015413]\n",
      " [0.00018281 0.00015419]\n",
      " [0.00018334 0.0001546 ]\n",
      " [0.00018328 0.00015423]\n",
      " [0.00018327 0.00015468]\n",
      " [0.00018381 0.00015497]\n",
      " [0.00018625 0.00015399]\n",
      " [0.00018591 0.00015431]\n",
      " [0.00018745 0.00015354]\n",
      " [       nan        nan]\n",
      " [0.0001882  0.00015424]\n",
      " [0.00019015 0.00015497]\n",
      " [0.00019036 0.00015738]\n",
      " [0.00019047 0.00015706]\n",
      " [0.00018974 0.00015662]\n",
      " [0.0001895  0.00015593]\n",
      " [0.00018924 0.00015722]\n",
      " [0.00018934 0.00015812]\n",
      " [0.00018993 0.0001577 ]\n",
      " [0.00018968 0.00015709]\n",
      " [0.00019042 0.00015674]\n",
      " [0.00019053 0.00015823]]\n"
     ]
    }
   ],
   "source": [
    "pixel_size = 3.45 # Taille absolue\n",
    "f2 = 150  # Focale de L2\n",
    "M_theo = 20  # Magnification of the objective\n",
    "pxl = pixel_size / (f2 * M_theo / 160)  # Pixel size in um dans le plan de la particule\n",
    "\n",
    "sigma_arr=np.array(sigma_list)* pxl * 10**(-6)\n",
    "position_arr=np.array(position_list)* pxl * 10**(-6)\n",
    "print(position_arr)"
   ]
  },
  {
   "cell_type": "code",
   "execution_count": 598,
   "id": "3381e213",
   "metadata": {},
   "outputs": [
    {
     "data": {
      "text/plain": [
       "(array([1.73441898e-12, 3.55613495e-12, 6.30194593e-12, 1.00013822e-11,\n",
       "        1.44275711e-11, 2.10518096e-11, 2.83904255e-11, 3.58643251e-11,\n",
       "        4.35969220e-11, 5.37297668e-11, 6.35262337e-11, 7.52823535e-11,\n",
       "        8.79358596e-11, 1.01357302e-10, 1.15776087e-10, 1.30280321e-10,\n",
       "        1.44817882e-10, 1.61352527e-10, 1.78352205e-10, 1.96044180e-10,\n",
       "        2.13027835e-10, 2.33808112e-10, 2.53707170e-10, 2.73838984e-10,\n",
       "        2.99232357e-10, 3.24896197e-10, 3.50964189e-10, 3.76037823e-10,\n",
       "        4.01288332e-10, 4.28106754e-10, 4.53022966e-10, 4.75565463e-10,\n",
       "        5.02048997e-10, 5.33008327e-10, 5.61156247e-10, 5.88613154e-10,\n",
       "        6.20799257e-10, 6.45585829e-10, 7.09446681e-10, 7.42718159e-10,\n",
       "        7.35233150e-10, 7.60567259e-10, 7.90929787e-10, 8.14999900e-10,\n",
       "        8.38382759e-10, 9.29654401e-10, 9.66630782e-10, 9.96453962e-10,\n",
       "        1.02939983e-09, 1.05697974e-09, 1.17315928e-09, 1.21879283e-09,\n",
       "        1.16862269e-09, 1.18993946e-09, 1.21442837e-09, 1.25260628e-09,\n",
       "        1.27677237e-09, 1.44099825e-09, 1.46007212e-09, 1.45517981e-09,\n",
       "        1.44539332e-09, 1.42754520e-09, 1.36706944e-09, 1.61059217e-09,\n",
       "        1.96027338e-09, 2.00937567e-09, 2.04212119e-09, 2.10263626e-09,\n",
       "        2.17497835e-09]),\n",
       " array([3.18574746e-12, 4.63010541e-12, 6.10188898e-12, 7.86395118e-12,\n",
       "        9.67862059e-12, 1.14716094e-11, 1.34246219e-11, 1.52896804e-11,\n",
       "        1.68911371e-11, 1.86209813e-11, 2.02245494e-11, 2.19629661e-11,\n",
       "        2.39005939e-11, 2.58531325e-11, 2.69862131e-11, 2.94002865e-11,\n",
       "        3.13381641e-11, 3.33067703e-11, 3.50493182e-11, 3.68651152e-11,\n",
       "        3.84714243e-11, 4.03026599e-11, 4.26097648e-11, 4.12209966e-11,\n",
       "        4.31276722e-11, 4.81318114e-11, 4.89151221e-11, 5.19976239e-11,\n",
       "        5.42061767e-11, 5.61077124e-11, 5.34212459e-11, 5.44516510e-11,\n",
       "        5.60307292e-11, 5.71173828e-11, 5.83909608e-11, 6.03595656e-11,\n",
       "        6.18087979e-11, 6.29046715e-11, 6.56629563e-11, 6.49966436e-11,\n",
       "        6.40840449e-11, 6.51712434e-11, 6.64082640e-11, 6.73682873e-11,\n",
       "        6.82286978e-11, 7.20768674e-11, 7.27317367e-11, 7.36254409e-11,\n",
       "        7.44463350e-11, 7.49053823e-11, 7.94221292e-11, 8.12812689e-11,\n",
       "        8.00651183e-11, 8.09654489e-11, 8.20731349e-11, 8.34240013e-11,\n",
       "        8.29880102e-11, 8.89469557e-11, 9.02065068e-11, 9.05749842e-11,\n",
       "        9.03975842e-11, 8.87461460e-11, 8.75622209e-11, 9.49505339e-11,\n",
       "        1.05206339e-10, 1.08219287e-10, 1.10603808e-10, 1.11815240e-10,\n",
       "        1.18129800e-10]))"
      ]
     },
     "execution_count": 598,
     "metadata": {},
     "output_type": "execute_result"
    }
   ],
   "source": [
    "def calculate_msd_with_uncertainty(position_arr, delta_x, delta_y):\n",
    "    \"\"\"\n",
    "    Calcule les MSD avec propagation des incertitudes analytiques.\n",
    "    \"\"\"\n",
    "\n",
    "    msd = []\n",
    "    uncertainties = []\n",
    "    for d in range(1, len(position_arr)):\n",
    "        diff_pairs = np.zeros_like(position_arr[d:])\n",
    "        dx = np.zeros_like(delta_x[d:])\n",
    "        dy = np.zeros_like(delta_y[d:])\n",
    "\n",
    "        # Masque pour détecter les NaN\n",
    "        nan_mask_pos = np.isnan(position_arr[d:]) | np.isnan(position_arr[:-d])\n",
    "        nan_mask_delta = np.isnan(delta_x[d:]) | np.isnan(delta_x[:-d])\n",
    "        \n",
    "        # Calculer les différences uniquement où nan_mask est False\n",
    "        valid_mask_pos = ~nan_mask_pos.any(axis=1)  # Inverser le masque pour obtenir les position_arr valides\n",
    "        valid_mask_delta = ~nan_mask_delta\n",
    "\n",
    "        diff_pairs[valid_mask_pos] = position_arr[d:][valid_mask_pos, :] - position_arr[:-d][valid_mask_pos, :]\n",
    "\n",
    "        distances_squared = np.sum(diff_pairs**2, axis=1)\n",
    "        msd.append(np.mean(distances_squared))  \n",
    "\n",
    "        dx[valid_mask_delta] = delta_x[d:][valid_mask_delta] + delta_x[:-d][valid_mask_delta]\n",
    "        dy[valid_mask_delta] = delta_y[d:][valid_mask_delta] + delta_y[:-d][valid_mask_delta]\n",
    "\n",
    "        term_x = 2 * (diff_pairs[:, 0]**2) * (dx**2)\n",
    "        term_y = 2 * (diff_pairs[:, 1]**2) * (dy**2)\n",
    "        \n",
    "        # Propagation des incertitudes\n",
    "        total_uncertainty = np.mean(term_x + term_y)\n",
    "        uncertainties.append(np.sqrt(total_uncertainty))\n",
    "\n",
    "    return np.array(msd), np.array(uncertainties)\n",
    "\n",
    "calculate_msd_with_uncertainty(position_arr, sigma_arr[:, 0], sigma_arr[:, 1])"
   ]
  },
  {
   "cell_type": "markdown",
   "id": "c355c5f0-6c28-4f45-abbe-9d17f257161b",
   "metadata": {},
   "source": [
    "# Résultats"
   ]
  },
  {
   "cell_type": "code",
   "execution_count": 599,
   "id": "4fb3cff6-dfd3-4c03-96fa-219eb0185e70",
   "metadata": {
    "execution": {
     "iopub.execute_input": "2024-11-27T00:35:56.812822Z",
     "iopub.status.busy": "2024-11-27T00:35:56.812598Z",
     "iopub.status.idle": "2024-11-27T00:35:56.821085Z",
     "shell.execute_reply": "2024-11-27T00:35:56.819985Z",
     "shell.execute_reply.started": "2024-11-27T00:35:56.812806Z"
    }
   },
   "outputs": [
    {
     "name": "stdout",
     "output_type": "stream",
     "text": [
      "coucou\n"
     ]
    }
   ],
   "source": [
    "# Assuming msd_values is the result of your MSD calculation\n",
    "msd_values, uncertainties = calculate_msd_with_uncertainty(position_arr, sigma_arr[:, 0], sigma_arr[:, 1])\n",
    "print('coucou')\n",
    "# Time intervals for the x-axis (assuming a uniform time step)\n",
    "time_intervals = np.arange(1, len(msd_values) + 1) * 0.5\n",
    "\n",
    "# Plotting the MSD\n",
    "plt.figure(figsize=(8, 6))\n",
    "plt.errorbar(time_intervals, msd_values, yerr=uncertainties, fmt='o', label='MSD', color='blue')\n",
    "\n",
    "# Customize the plot\n",
    "plt.title(\"MSD en fonction de l'intervalle de temps\")\n",
    "plt.xlabel(\"Intervalle de temps\")\n",
    "plt.ylabel(\"MSD\")\n",
    "plt.grid(True)\n",
    "plt.legend()\n",
    "\n",
    "# Show the plot\n",
    "plt.show()"
   ]
  },
  {
   "cell_type": "code",
   "execution_count": 600,
   "id": "cf9032b2",
   "metadata": {},
   "outputs": [
    {
     "name": "stdout",
     "output_type": "stream",
     "text": [
      "Coefficients du polynôme ajusté :\n",
      "[4.47883572e-13 4.97610053e-13 7.84935691e-13]\n",
      "Matrice de covariance des coefficients :\n",
      "[[ 1.16287082e-28 -6.10134268e-28  5.82480882e-28]\n",
      " [-6.10134268e-28  3.36098738e-27 -3.36976505e-27]\n",
      " [ 5.82480882e-28 -3.36976505e-27  3.76294779e-27]]\n",
      "Incertitudes sur les coefficients : [1.07836488e-14 5.79740233e-14 6.13428707e-14]\n",
      "Taille de la particule (m): 1.77e-06 m, avec une incertitude : 2.06e-07\n"
     ]
    }
   ],
   "source": [
    "# Fonction quadratique pour l'ajustement\n",
    "def quadratic(x, a, b, c):\n",
    "    return a * x**2 + b * x + c\n",
    "\n",
    "# Assuming msd_values is the result of your MSD calculation\n",
    "msd_values, uncertainties = calculate_msd_with_uncertainty(position_arr, sigma_arr[:, 0], sigma_arr[:, 1])\n",
    "\n",
    "cropped_msd = msd_values[:5]\n",
    "cropped_inc = uncertainties[:5]\n",
    "\n",
    "# Time intervals for the x-axis (assuming a uniform time step)\n",
    "time_intervals = np.arange(1, len(cropped_msd) + 1)\n",
    "\n",
    "# Perform a quadratic fit using curve_fit, which gives both coefficients and covariance matrix\n",
    "popt, pcov = curve_fit(quadratic, time_intervals, cropped_msd, sigma=cropped_inc)\n",
    "\n",
    "# popt contains the optimal coefficients\n",
    "coeffs = popt\n",
    "\n",
    "# pcov is the covariance matrix, which we can use to compute uncertainties\n",
    "coeff_uncertainties = np.sqrt(np.diag(pcov))  # Incertitudes sur les coefficients sont les éléments diagonaux\n",
    "\n",
    "# Affichage des coefficients séparément\n",
    "print(\"Coefficients du polynôme ajusté :\")\n",
    "print(coeffs)\n",
    "\n",
    "# Affichage de la matrice de covariance séparément\n",
    "print(\"Matrice de covariance des coefficients :\")\n",
    "print(pcov)\n",
    "\n",
    "# Création de la fonction quadratique de l'ajustement\n",
    "quadratic_fit = np.poly1d(coeffs)\n",
    "\n",
    "# Génération des valeurs ajustées pour afficher la courbe\n",
    "fitted_msd = quadratic_fit(time_intervals)\n",
    "\n",
    "# Affichage du MSD avec les barres d'erreur\n",
    "plt.figure(figsize=(8, 6))\n",
    "plt.errorbar(time_intervals, cropped_msd, yerr=cropped_inc, fmt='o', label='MSD', color='blue')\n",
    "plt.plot(time_intervals, fitted_msd, label='Quadratic Fit', color='red', linestyle='--')\n",
    "\n",
    "# Personnalisation du graphique\n",
    "plt.title(\"MSD en fonction de l'intervalle de temps\")\n",
    "plt.xlabel(\"Intervalle de temps\")\n",
    "plt.ylabel(\"MSD\")\n",
    "plt.grid(True)\n",
    "plt.legend()\n",
    "\n",
    "# Afficher le graphique\n",
    "plt.show()\n",
    "\n",
    "# Affichage des incertitudes sur les coefficients\n",
    "print(f\"Incertitudes sur les coefficients : {coeff_uncertainties}\")\n",
    "\n",
    "# Calcul du coefficient de diffusion et de la taille de la particule\n",
    "r = (4 * 1.38 * 10**(-23) * 300 / (6 * np.pi * 10**(-3) * coeffs[1]))  # Coefficient de diffusion\n",
    "r_uncertainty = (4 * 1.38 * 10**(-23) * 300 * coeff_uncertainties[1] / (6 * np.pi * 10**(-3) * (coeffs[1])**2))  # Coefficient de diffusion\n",
    "\n",
    "# Affichage de la taille de la particule avec incertitude\n",
    "print(f\"Taille de la particule (m): {r:.2e} m, avec une incertitude : {r_uncertainty:.2e}\")\n"
   ]
  },
  {
   "cell_type": "code",
   "execution_count": 601,
   "id": "625b1770-9368-4a91-baa2-a62960106b77",
   "metadata": {
    "execution": {
     "iopub.execute_input": "2024-11-27T00:35:56.821952Z",
     "iopub.status.busy": "2024-11-27T00:35:56.821739Z",
     "iopub.status.idle": "2024-11-27T00:35:56.893091Z",
     "shell.execute_reply": "2024-11-27T00:35:56.891915Z",
     "shell.execute_reply.started": "2024-11-27T00:35:56.821935Z"
    }
   },
   "outputs": [],
   "source": [
    "x_plt, y_plt = zip(*position_list)\n",
    "# Create the plot\n",
    "plt.figure(figsize=(10, 8))  # Optional: Adjust the figure size\n",
    "plt.plot(x_plt, y_plt, marker='o', linestyle='-', color='b', label='Connected Points')\n",
    "\n",
    "# Inverser l'axe Y\n",
    "plt.gca().invert_yaxis()\n",
    "\n",
    "# Set grid limits to match the 1440x1080 grid\n",
    "plt.xlim(0, 1440)\n",
    "plt.ylim(0, 1080)\n",
    "\n",
    "# Add labels and title\n",
    "plt.xlabel('X-axis')\n",
    "plt.ylabel('Y-axis')\n",
    "plt.title('2D Connected Points Plot')\n",
    "plt.legend()\n",
    "\n",
    "# Optional: Add grid lines\n",
    "plt.grid(True)\n",
    "\n",
    "# Afficher le graphique\n",
    "plt.show()"
   ]
  },
  {
   "cell_type": "markdown",
   "id": "5fae7658-ee40-44d3-ace6-763079316aca",
   "metadata": {},
   "source": [
    "## anim toutes les particules"
   ]
  },
  {
   "cell_type": "code",
   "execution_count": 602,
   "id": "3f852688-0624-4f98-bc43-437e31b430a4",
   "metadata": {
    "execution": {
     "iopub.execute_input": "2024-11-27T00:35:56.894366Z",
     "iopub.status.busy": "2024-11-27T00:35:56.894056Z",
     "iopub.status.idle": "2024-11-27T00:35:56.898702Z",
     "shell.execute_reply": "2024-11-27T00:35:56.897463Z",
     "shell.execute_reply.started": "2024-11-27T00:35:56.894346Z"
    }
   },
   "outputs": [],
   "source": [
    "fig, ax = plt.subplots()\n",
    "img = ax.imshow(big_frames[0], origin='lower', cmap='gray', animated=True)\n",
    "\n",
    "\n",
    "# Update function\n",
    "def update(frame):\n",
    "    img.set_array(frame)\n",
    "    return img,\n",
    "    \n",
    "ani = animation.FuncAnimation(fig, update, frames=big_frames, interval=50, blit=True)\n",
    "plt.show()"
   ]
  },
  {
   "cell_type": "markdown",
   "id": "111a50d8-6fce-40cc-bf48-775bfd002c3d",
   "metadata": {},
   "source": [
    "## anim crop"
   ]
  },
  {
   "cell_type": "code",
   "execution_count": 603,
   "id": "0d6554b7-0c86-4ee5-8a32-4bd994f881f4",
   "metadata": {
    "execution": {
     "iopub.execute_input": "2024-11-27T00:35:56.899778Z",
     "iopub.status.busy": "2024-11-27T00:35:56.899533Z",
     "iopub.status.idle": "2024-11-27T00:35:56.955616Z",
     "shell.execute_reply": "2024-11-27T00:35:56.954725Z",
     "shell.execute_reply.started": "2024-11-27T00:35:56.899759Z"
    }
   },
   "outputs": [],
   "source": [
    "fig, ax = plt.subplots()\n",
    "img = ax.imshow(crop_frames[0], origin='lower', cmap='gray', animated=True)\n",
    "\n",
    "\n",
    "def update(frame):\n",
    "    img.set_array(frame)\n",
    "    return img,\n",
    "    \n",
    "ani = animation.FuncAnimation(fig, update, frames=crop_frames, interval=50, blit=True)\n",
    "plt.show()"
   ]
  },
  {
   "cell_type": "code",
   "execution_count": 607,
   "id": "a57b3c57-a5c5-4f11-b5ce-c32e975a7d83",
   "metadata": {},
   "outputs": [
    {
     "name": "stdout",
     "output_type": "stream",
     "text": [
      "Vidéo enregistrée sous particule_video.avi\n"
     ]
    }
   ],
   "source": [
    "def create_video_with_positions(frames, positions, output_filename, frame_rate=30):\n",
    "    \"\"\"\n",
    "    Crée une vidéo avec la position de la particule superposée sur chaque frame.\n",
    "\n",
    "    :param frames: Liste des images (frames) sous forme de numpy arrays (H x W x 3).\n",
    "    :param positions: Liste des positions de la particule sur chaque frame sous forme de tuples (x, y).\n",
    "    :param output_filename: Nom du fichier de sortie pour la vidéo.\n",
    "    :param frame_rate: Fréquence d'images de la vidéo (par défaut 30 FPS).\n",
    "    \"\"\"\n",
    "    # Convertir position_list en un tableau numpy\n",
    "    position_array = np.array(position_list)\n",
    "\n",
    "    # Filtrer les NaN\n",
    "    filtered_positions = position_array[~np.isnan(position_array).any(axis=1)]\n",
    "    \n",
    "    # Vérifiez si le nombre de frames et de positions est identique\n",
    "    if len(frames) != len(filtered_positions):\n",
    "        print(f'len(frames): {len(frames)}')\n",
    "        print(f'len(positions): {len(filtered_positions)}')\n",
    "        raise ValueError(\"Le nombre de frames et de positions doivent être égaux.\")\n",
    "    \n",
    "    # Obtenez la taille de la première image\n",
    "    height, width = frames[0].shape[:2]\n",
    "\n",
    "    # Définir l'objet VideoWriter pour enregistrer la vidéo\n",
    "    fourcc = cv2.VideoWriter_fourcc(*'XVID')  # Codec vidéo (XVID ou autre)\n",
    "    out = cv2.VideoWriter(output_filename, fourcc, frame_rate, (width, height))\n",
    "\n",
    "    # Parcourez les frames et superposez les positions\n",
    "    for i in range(len(frames)):\n",
    "        frame = frames[i].copy()  # Faites une copie pour ne pas altérer l'original\n",
    "        position = filtered_positions[i]\n",
    "        \n",
    "        # Convertissez la position de la particule (si nécessaire)\n",
    "        x, y = position\n",
    "        \n",
    "        # Tracez un cercle sur l'image à la position de la particule\n",
    "        cv2.circle(frame, (int(x), int(y)), 5, (0, 0, 255), -1)  # Rouge, rayon 5 pixels\n",
    "        \n",
    "        # Ajoutez la frame avec la position superposée à la vidéo\n",
    "        out.write(frame)\n",
    "    \n",
    "    # Libérez l'objet VideoWriter\n",
    "    out.release()\n",
    "    print(f\"Vidéo enregistrée sous {output_filename}\")\n",
    "\n",
    "# Exemple d'utilisation :\n",
    "# frames est une liste d'images (en format numpy array)\n",
    "# positions est une liste de positions sous forme de tuples (x, y)\n",
    "# output_filename est le nom du fichier vidéo de sortie\n",
    "\n",
    "# Créez la vidéo\n",
    "create_video_with_positions(big_frames, position_list, 'particule_video.avi', frame_rate=30)\n"
   ]
  }
 ],
 "metadata": {
  "kernelspec": {
   "display_name": "Python 3",
   "language": "python",
   "name": "python3"
  },
  "language_info": {
   "codemirror_mode": {
    "name": "ipython",
    "version": 3
   },
   "file_extension": ".py",
   "mimetype": "text/x-python",
   "name": "python",
   "nbconvert_exporter": "python",
   "pygments_lexer": "ipython3",
   "version": "3.12.7"
  }
 },
 "nbformat": 4,
 "nbformat_minor": 5
}
