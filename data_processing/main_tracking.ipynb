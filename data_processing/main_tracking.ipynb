{
 "cells": [
  {
   "cell_type": "markdown",
   "id": "a1bbf155-d46a-4bbb-a7bc-6857ef1672de",
   "metadata": {},
   "source": [
    "# Initialisation"
   ]
  },
  {
   "cell_type": "code",
   "execution_count": 11,
   "id": "49fff9c0-1a10-465b-b5d6-cf2853a133db",
   "metadata": {
    "execution": {
     "iopub.execute_input": "2024-11-27T00:33:55.015775Z",
     "iopub.status.busy": "2024-11-27T00:33:55.015362Z",
     "iopub.status.idle": "2024-11-27T00:33:56.248500Z",
     "shell.execute_reply": "2024-11-27T00:33:56.247904Z",
     "shell.execute_reply.started": "2024-11-27T00:33:55.015736Z"
    }
   },
   "outputs": [],
   "source": [
    "import matplotlib\n",
    "matplotlib.use('Qt5Agg')  # Utiliser le backend Qt5Agg pour Windows\n",
    "import matplotlib.pyplot as plt\n",
    "import matplotlib.animation as animation\n",
    "from scipy.optimize import curve_fit\n",
    "import cv2\n",
    "import numpy as np\n",
    "import os\n",
    "from PIL import Image\n",
    "import lmfit\n",
    "#import tifffile\n",
    "#%matplotlib tk #pour Linux"
   ]
  },
  {
   "cell_type": "code",
   "execution_count": 12,
   "id": "5244023b",
   "metadata": {},
   "outputs": [],
   "source": [
    "import scipy.ndimage as ndimage\n",
    "from sklearn.cluster import DBSCAN\n",
    "import matplotlib.animation as animation\n"
   ]
  },
  {
   "cell_type": "markdown",
   "id": "3c857432-f4a0-4d37-b1c3-d5115974f0f5",
   "metadata": {},
   "source": [
    "# Importer fichier"
   ]
  },
  {
   "cell_type": "code",
   "execution_count": 39,
   "id": "72d00744-e863-4ed8-b83b-112156869997",
   "metadata": {
    "execution": {
     "iopub.execute_input": "2024-11-27T00:33:56.249387Z",
     "iopub.status.busy": "2024-11-27T00:33:56.249142Z",
     "iopub.status.idle": "2024-11-27T00:33:56.288891Z",
     "shell.execute_reply": "2024-11-27T00:33:56.287953Z",
     "shell.execute_reply.started": "2024-11-27T00:33:56.249368Z"
    }
   },
   "outputs": [],
   "source": [
    "path_to_tiff = os.path.join(\"..\", \"acquisition\", \"video_output_carac_125ms_2im_1um.tiff\")\n",
    "\n",
    "tiff = Image.open(path_to_tiff)"
   ]
  },
  {
   "cell_type": "markdown",
   "id": "a9542b9e-bfef-4abf-86f4-db78b05a8be8",
   "metadata": {},
   "source": [
    "# Nombre de frames pas vide"
   ]
  },
  {
   "cell_type": "code",
   "execution_count": 40,
   "id": "dcf8b520-316f-4ac0-b860-fd1d965ea732",
   "metadata": {
    "execution": {
     "iopub.execute_input": "2024-11-27T00:33:56.289986Z",
     "iopub.status.busy": "2024-11-27T00:33:56.289746Z",
     "iopub.status.idle": "2024-11-27T00:33:57.058878Z",
     "shell.execute_reply": "2024-11-27T00:33:57.057944Z",
     "shell.execute_reply.started": "2024-11-27T00:33:56.289967Z"
    }
   },
   "outputs": [
    {
     "name": "stdout",
     "output_type": "stream",
     "text": [
      "All frames processed.\n"
     ]
    },
    {
     "data": {
      "text/plain": [
       "65"
      ]
     },
     "execution_count": 40,
     "metadata": {},
     "output_type": "execute_result"
    }
   ],
   "source": [
    "with Image.open(path_to_tiff) as img:\n",
    "    frame_number = 0\n",
    "    actual_frames = 0\n",
    "    try:\n",
    "        while True:\n",
    "            frame_number += 1\n",
    "            if np.sum(np.array(img)) != 0:\n",
    "                actual_frames += 1\n",
    "                \n",
    "            img.seek(frame_number)\n",
    "    except EOFError:\n",
    "        print(\"All frames processed.\")\n",
    "\n",
    "actual_frames"
   ]
  },
  {
   "cell_type": "markdown",
   "id": "4ce4927e-f7ec-4e65-ad5d-cef9195b6cbc",
   "metadata": {},
   "source": [
    "# 1re frame\n",
    "\n",
    "**Le nombre de frames ignorés n'est pas pris en compte**"
   ]
  },
  {
   "cell_type": "code",
   "execution_count": 41,
   "id": "26577059-48c2-4f3a-8e52-a89c99dbccd3",
   "metadata": {
    "execution": {
     "iopub.execute_input": "2024-11-27T00:33:57.059925Z",
     "iopub.status.busy": "2024-11-27T00:33:57.059662Z",
     "iopub.status.idle": "2024-11-27T00:33:57.082939Z",
     "shell.execute_reply": "2024-11-27T00:33:57.082043Z",
     "shell.execute_reply.started": "2024-11-27T00:33:57.059898Z"
    }
   },
   "outputs": [],
   "source": [
    "frame_index = 0\n",
    "first_frame = 0\n",
    "tiff.seek(frame_index)\n",
    "original_image = np.array(tiff)\n",
    "\n",
    "while np.sum(original_image) == 0:\n",
    "    frame_index += 1\n",
    "    tiff.seek(frame_index)\n",
    "    original_image = np.array(tiff)\n",
    "    first_frame += 1\n",
    "    print(frame_index)\n",
    "\n",
    "\n"
   ]
  },
  {
   "cell_type": "markdown",
   "id": "e1d8711a-7b97-4eb1-8556-60a0ce1f5253",
   "metadata": {},
   "source": [
    "# Traitement d'image"
   ]
  },
  {
   "cell_type": "code",
   "execution_count": 42,
   "id": "3a91746d-ed20-4b11-841a-4384c3c9f610",
   "metadata": {
    "execution": {
     "iopub.execute_input": "2024-11-27T00:33:57.083712Z",
     "iopub.status.busy": "2024-11-27T00:33:57.083500Z",
     "iopub.status.idle": "2024-11-27T00:33:57.942225Z",
     "shell.execute_reply": "2024-11-27T00:33:57.941368Z",
     "shell.execute_reply.started": "2024-11-27T00:33:57.083690Z"
    }
   },
   "outputs": [],
   "source": [
    "clahe = cv2.createCLAHE(clipLimit=10.0, tileGridSize=(30, 30))\n",
    "preprocessed = clahe.apply(original_image)\n",
    "\n",
    "blurred = cv2.medianBlur(preprocessed, 115)\n",
    "preprocessed2 = cv2.subtract(preprocessed, blurred)\n",
    "\n",
    "# Apply Non-Local Means Denoising\n",
    "img = cv2.fastNlMeansDenoising(preprocessed2, None, 15, 7, 41)\n"
   ]
  },
  {
   "cell_type": "markdown",
   "id": "9f52f7fc-b595-4b76-8cc3-0755544c12bd",
   "metadata": {},
   "source": [
    "# Sélection du point à tracker"
   ]
  },
  {
   "cell_type": "code",
   "execution_count": 43,
   "id": "5a934439-4314-4c28-a4cd-c0d9113c98e9",
   "metadata": {
    "execution": {
     "iopub.execute_input": "2024-11-27T00:33:57.944451Z",
     "iopub.status.busy": "2024-11-27T00:33:57.944269Z",
     "iopub.status.idle": "2024-11-27T00:33:57.947894Z",
     "shell.execute_reply": "2024-11-27T00:33:57.947259Z",
     "shell.execute_reply.started": "2024-11-27T00:33:57.944433Z"
    }
   },
   "outputs": [],
   "source": [
    "def crop(img, x, y, crop_size_x, crop_size_y):\n",
    "    x_start = int(x - crop_size_x // 2)\n",
    "    x_end = int(x + crop_size_x // 2)\n",
    "    y_start = int(y - crop_size_y // 2)\n",
    "    y_end = int(y + crop_size_y // 2)\n",
    "\n",
    "    return img[y_start:y_end, x_start:x_end]"
   ]
  },
  {
   "cell_type": "code",
   "execution_count": 44,
   "id": "60e9cbb8-923d-4281-89f9-accc9565c831",
   "metadata": {
    "execution": {
     "iopub.execute_input": "2024-11-27T00:33:57.948819Z",
     "iopub.status.busy": "2024-11-27T00:33:57.948575Z",
     "iopub.status.idle": "2024-11-27T00:34:16.244046Z",
     "shell.execute_reply": "2024-11-27T00:34:16.243397Z",
     "shell.execute_reply.started": "2024-11-27T00:33:57.948800Z"
    }
   },
   "outputs": [
    {
     "name": "stdout",
     "output_type": "stream",
     "text": [
      "Please click on the point you want to select.\n",
      "Selected point: (652.2922077922079, 514.3701298701299)\n"
     ]
    }
   ],
   "source": [
    "# Display the image and let the user select a point interactively\n",
    "fig, ax = plt.subplots()\n",
    "ax.imshow(img, origin='lower', cmap='gray')  # Use 'gray' for better visibility of grayscale images\n",
    "plt.title(f\"Frame {frame_index}: Select a point\")\n",
    "plt.xlabel(f'Position horizontale (pixel)')\n",
    "plt.ylabel(f'Position verticale (pixel)')\n",
    "\n",
    "# Ask for a point to be selected\n",
    "print(\"Please click on the point you want to select.\")\n",
    "x, y = plt.ginput(1)[0]  # This will get the coordinates of the clicked point\n",
    "print(f\"Selected point: ({x}, {y})\")\n",
    "plt.close()\n",
    "\n",
    "crop_sze = crop_sze_x = crop_sze_y = 50"
   ]
  },
  {
   "cell_type": "markdown",
   "id": "383a659b",
   "metadata": {},
   "source": [
    "Debogueur"
   ]
  },
  {
   "cell_type": "code",
   "execution_count": 45,
   "id": "6184609f",
   "metadata": {},
   "outputs": [],
   "source": [
    "def visionneur(frame, titre):\n",
    "    plt.figure(figsize=(10, 5))\n",
    "    plt.clf() \n",
    "    plt.imshow(frame, origin='lower', cmap='gray')\n",
    "    plt.title(titre)\n",
    "    plt.colorbar()  \n",
    "    plt.show()"
   ]
  },
  {
   "cell_type": "markdown",
   "id": "6a9490a9-7dce-451b-81ff-0ae267584ee3",
   "metadata": {},
   "source": [
    "# Fit gaussien sur le point sélectionné"
   ]
  },
  {
   "cell_type": "code",
   "execution_count": 46,
   "id": "5fc5b874-d129-40a2-985c-03a724b3cb95",
   "metadata": {
    "execution": {
     "iopub.execute_input": "2024-11-27T00:34:16.245037Z",
     "iopub.status.busy": "2024-11-27T00:34:16.244816Z",
     "iopub.status.idle": "2024-11-27T00:34:16.248322Z",
     "shell.execute_reply": "2024-11-27T00:34:16.247669Z",
     "shell.execute_reply.started": "2024-11-27T00:34:16.245020Z"
    }
   },
   "outputs": [],
   "source": [
    "def prepare_data(x, y, z):\n",
    "    return (x.flatten(), y.flatten()), z.flatten()"
   ]
  },
  {
   "cell_type": "code",
   "execution_count": 47,
   "id": "1fb18b6a-7295-4ea7-b0fb-84f5a41fbdbb",
   "metadata": {
    "execution": {
     "iopub.execute_input": "2024-11-27T00:34:16.249457Z",
     "iopub.status.busy": "2024-11-27T00:34:16.248979Z",
     "iopub.status.idle": "2024-11-27T00:34:16.280319Z",
     "shell.execute_reply": "2024-11-27T00:34:16.279600Z",
     "shell.execute_reply.started": "2024-11-27T00:34:16.249435Z"
    }
   },
   "outputs": [],
   "source": [
    "def gaussian_2d(xy, amplitude, x0, y0, sigma_x, sigma_y, offset):\n",
    "    x, y = xy\n",
    "    a = 1 / (2 * sigma_x**2)\n",
    "    b = 1 / (2 * sigma_y**2)\n",
    "    return offset + amplitude * np.exp(- (a * (x - x0)**2 + b * (y - y0)**2))"
   ]
  },
  {
   "cell_type": "code",
   "execution_count": 48,
   "id": "b2f948a1-d8e5-4fa8-acfe-ac569383012d",
   "metadata": {
    "execution": {
     "iopub.execute_input": "2024-11-27T00:34:16.281928Z",
     "iopub.status.busy": "2024-11-27T00:34:16.281279Z",
     "iopub.status.idle": "2024-11-27T00:34:16.286665Z",
     "shell.execute_reply": "2024-11-27T00:34:16.286066Z",
     "shell.execute_reply.started": "2024-11-27T00:34:16.281903Z"
    }
   },
   "outputs": [],
   "source": [
    "def localisateur_gaussien(intensity_grid, centre):\n",
    "    x = np.arange(intensity_grid.shape[1])\n",
    "    y = np.arange(intensity_grid.shape[0])\n",
    "    X, Y = np.meshgrid(x, y)\n",
    "\n",
    "    # Préparer les données pour le fit\n",
    "    (xdata, ydata), zdata = prepare_data(X, Y, intensity_grid)\n",
    "    model = lmfit.Model(gaussian_2d)\n",
    "    max_idx = np.unravel_index(np.argmax(intensity_grid), intensity_grid.shape)\n",
    "    initial_x0 = x[max_idx[1]]\n",
    "    initial_y0 = y[max_idx[0]]\n",
    "\n",
    "    # Définir les paramètres du modèle\n",
    "    params = model.make_params(\n",
    "        amplitude=np.max(intensity_grid),\n",
    "        x0=initial_x0,\n",
    "        y0=initial_y0,\n",
    "        sigma_x=1,\n",
    "        sigma_y=1,\n",
    "        offset=2\n",
    "    )\n",
    "\n",
    "    # Ajouter des bornes sur les paramètres x0 et y0\n",
    "    params['x0'].min = 0    # Limite inférieure pour x0\n",
    "    params['x0'].max = intensity_grid.shape[1] - 1  # Limite supérieure pour x0\n",
    "    params['y0'].min = 0    # Limite inférieure pour y0\n",
    "    params['y0'].max = intensity_grid.shape[0] - 1  # Limite supérieure pour y0\n",
    "\n",
    "    # Ajouter des bornes sur les paramètres sigma\n",
    "    params['sigma_x'].min = 1  # Limite inférieure de sigma_x\n",
    "    params['sigma_x'].max = 20 # Limite supérieure de sigma_x\n",
    "    params['sigma_y'].min = 1  # Limite inférieure de sigma_y\n",
    "    params['sigma_y'].max = 20 # Limite supérieure de sigma_y\n",
    "\n",
    "    # Effectuer l'ajustement\n",
    "    result = model.fit(zdata, params, xy=(xdata, ydata))\n",
    "    \n",
    "    x_position = result.params['x0'].value + centre[0] - crop_sze_x/4\n",
    "    y_position = result.params['y0'].value + centre[1] - crop_sze_y/4\n",
    "\n",
    "    return [x_position, y_position], result.params['sigma_x'].value, result.params['sigma_y'].value"
   ]
  },
  {
   "cell_type": "markdown",
   "id": "647422c5-d9bb-4e71-9481-76349ea02eca",
   "metadata": {},
   "source": [
    "# Process d'image (enlever le bruit)\n",
    "\n",
    "**semble faire du trouble**"
   ]
  },
  {
   "cell_type": "code",
   "execution_count": 49,
   "id": "c3df48fe-ec70-413c-8172-84f9754a0bcf",
   "metadata": {
    "execution": {
     "iopub.execute_input": "2024-11-27T00:34:16.287655Z",
     "iopub.status.busy": "2024-11-27T00:34:16.287395Z",
     "iopub.status.idle": "2024-11-27T00:34:16.291801Z",
     "shell.execute_reply": "2024-11-27T00:34:16.291266Z",
     "shell.execute_reply.started": "2024-11-27T00:34:16.287612Z"
    }
   },
   "outputs": [],
   "source": [
    "def denoise(image):\n",
    "    clahe = cv2.createCLAHE(clipLimit=10.0, tileGridSize=(30, 30))\n",
    "    preprocessed = clahe.apply(image)\n",
    "    \n",
    "    blurred = cv2.medianBlur(preprocessed, 115)\n",
    "    preprocessed2 = cv2.subtract(preprocessed, blurred)\n",
    "    \n",
    "    return cv2.fastNlMeansDenoising(preprocessed2, None, 15, 7, 41)"
   ]
  },
  {
   "cell_type": "markdown",
   "id": "10149e95",
   "metadata": {},
   "source": [
    "# Identifier la particule et donner sa nouvelle position"
   ]
  },
  {
   "cell_type": "code",
   "execution_count": 50,
   "id": "4e08893b",
   "metadata": {},
   "outputs": [],
   "source": [
    "def is_within_bounds(position):\n",
    "    \"\"\"\n",
    "    Vérifie si la position est à l'intérieur des limites du cadre (100 à 1300 en x et 100 à 980 en y).\n",
    "    \"\"\"\n",
    "    x, y = position\n",
    "\n",
    "    # Définir les bornes du cadre\n",
    "    x_min, x_max = 100, 1300\n",
    "    y_min, y_max = 100, 980\n",
    "\n",
    "    # Vérifier si la position est dans les bornes du cadre\n",
    "    if x_min <= x <= x_max and y_min <= y <= y_max:\n",
    "        return True\n",
    "    else:\n",
    "        return False\n"
   ]
  },
  {
   "cell_type": "code",
   "execution_count": 51,
   "id": "11c4d94f",
   "metadata": {},
   "outputs": [],
   "source": [
    "def empreinte_digitale(image, threshold=24, eps=3, min_samples=1):\n",
    "    # 1. Observer chaque particule approximativement\n",
    "    #neighborhood_size = 3  \n",
    "    #local_max = ndimage.maximum_filter(image, size=neighborhood_size)\n",
    "    visionneur(image, f'particule choisie')\n",
    "\n",
    "    maxima = (image > threshold)\n",
    "    \n",
    "    coordinates = np.column_stack(np.where(maxima))  \n",
    "    if coordinates.shape[0] == 0:\n",
    "        print(\"Aucune particule détectée.\")\n",
    "        return [], image\n",
    "\n",
    "    dbscan = DBSCAN(eps=eps, min_samples=min_samples)\n",
    "    labels = dbscan.fit_predict(coordinates)\n",
    "    unique_labels = np.unique(labels)\n",
    "    size=0\n",
    "\n",
    "    # 2. Déterminer l'empreinte digitale de notre particule\n",
    "    for label in unique_labels:\n",
    "        if label != -1:  # -1 correspond au bruit dans DBSCAN\n",
    "            cluster_points = coordinates[labels == label]\n",
    "            plt.scatter(cluster_points[:, 1], cluster_points[:, 0], label=f'Particule {label}')\n",
    "\n",
    "            if cluster_points.shape[0]>size:\n",
    "                size = cluster_points.shape[0]\n",
    "                luminosity = np.mean(image[cluster_points[:, 0], cluster_points[:, 1]])\n",
    "\n",
    "    seuil=np.max(image)*0.5\n",
    "    print(seuil)\n",
    "    # 3. Afficher les résultats et filtrer les particules selon leur taille et luminosité\n",
    "    plt.imshow(image, origin='lower', cmap='gray')\n",
    "    plt.title(f\"Empreinte digitale de la particule, lum={luminosity} et taille={size}\")\n",
    "    plt.legend()\n",
    "    plt.colorbar()  \n",
    "    plt.show()\n",
    "\n",
    "    return size, luminosity, seuil"
   ]
  },
  {
   "cell_type": "code",
   "execution_count": 52,
   "id": "f690236d",
   "metadata": {},
   "outputs": [],
   "source": [
    "def detect_nbre_particles(image, threshold, eps=5, min_samples=1):\n",
    "    # 1. Appliquer un filtre de voisinage pour détecter les maxima locaux\n",
    "    neighborhood_size = 3  # Taille du voisinage pour détecter les maxima locaux\n",
    "    local_max = ndimage.maximum_filter(image, size=neighborhood_size)\n",
    "    # 2. Comparer l'image originale et les maxima locaux pour identifier les vrais maxima\n",
    "    maxima = (image == local_max) & (image > threshold)\n",
    "\n",
    "    # 3. Extraire les coordonnées des maxima (particules)\n",
    "    coordinates = np.column_stack(np.where(maxima))  # Extraire les indices des pixels maximaux\n",
    "    if coordinates.shape[0] == 0:\n",
    "        print(\"Aucune particule détectée.\")\n",
    "        visionneur(image, f'détection du nombre de particules')\n",
    "\n",
    "        return [], image\n",
    "\n",
    "    # 4. Appliquer DBSCAN pour regrouper les particules proches (cluster les maxima détectés)\n",
    "    dbscan = DBSCAN(eps=eps, min_samples=min_samples)\n",
    "    labels = dbscan.fit_predict(coordinates)\n",
    "\n",
    "    #5. Déterminer le nombre de particules\n",
    "    unique_labels = np.unique(labels)\n",
    "    nb_particules = len(unique_labels)\n",
    "        \n",
    "    # 6. Afficher les résultats et filtrer les particules selon leur taille et luminosité\n",
    "    # plt.imshow(image, origin='lower', cmap='gray')\n",
    "    # plt.title(\"Détection des particules\")\n",
    "    \n",
    "    positions=[]\n",
    "    for label in unique_labels:\n",
    "        if label != -1:  # -1 correspond au bruit dans DBSCAN\n",
    "            cluster_points = coordinates[labels == label]\n",
    "            #plt.scatter(cluster_points[:, 1], cluster_points[:, 0], label=f'Particule {label}')\n",
    "        positions.append((np.mean(cluster_points[:, 1]), np.mean(cluster_points[:, 0])))\n",
    "        \n",
    "\n",
    "    # plt.colorbar()  \n",
    "    # plt.legend()\n",
    "    # plt.show()\n",
    "\n",
    "    # Retourner les coordonnées des particules filtrées\n",
    "    return nb_particules, positions"
   ]
  },
  {
   "cell_type": "code",
   "execution_count": 53,
   "id": "ddfe6898",
   "metadata": {},
   "outputs": [],
   "source": [
    "def identificateur_particles(image, ref_size, ref_luminosity, threshold=25, eps=5, min_samples=1):\n",
    "    # 1. Obtenir le plus d'info sur la particule\n",
    "    maxima = (image > threshold)\n",
    "    \n",
    "    coordinates = np.column_stack(np.where(maxima))  \n",
    "    if coordinates.shape[0] == 0:\n",
    "        print(\"Mauvais re-crop empêche identification de la particule.\")\n",
    "        return [], image\n",
    "\n",
    "    dbscan = DBSCAN(eps=eps, min_samples=min_samples)\n",
    "    labels = dbscan.fit_predict(coordinates)\n",
    "    unique_labels = np.unique(labels)\n",
    "\n",
    "    # 2. Parcourir chaque particule et identifier laquelle est celle qu'on suit\n",
    "    distances = []\n",
    "    position_particules = []\n",
    "\n",
    "    for label in unique_labels:\n",
    "        if label != -1:  # -1 correspond au bruit dans DBSCAN\n",
    "            cluster_points = coordinates[labels == label]\n",
    "            \n",
    "            size = cluster_points.shape[0]\n",
    "            luminosity = np.mean(image[cluster_points[:, 0], cluster_points[:, 1]])\n",
    "            size_distance = abs(size - ref_size)  \n",
    "            luminosity_distance = abs(luminosity - ref_luminosity)  \n",
    "            combined_distance = size_distance + luminosity_distance\n",
    "            distances.append(combined_distance)\n",
    "            position_particules.append((np.mean(cluster_points[:, 1]), np.mean(cluster_points[:, 0])))\n",
    "\n",
    "    ecart = np.min(distances)\n",
    "    position_best_particle = position_particules[np.argmin(distances)]  \n",
    "    print(f'ecrat: {ecart}')\n",
    "    # 3. Afficher les résultats et filtrer les particules selon leur taille et luminosité\n",
    "    # plt.imshow(image, origin='lower', cmap='gray')\n",
    "    # plt.title(\"Détection des particules\")\n",
    "    # plt.scatter(position_best_particle[0], position_best_particle[1], color='r', label=f'Particule sélectionnée')\n",
    "    # plt.legend()\n",
    "    # plt.colorbar()  \n",
    "    # plt.show()\n",
    "\n",
    "    return position_best_particle, ecart"
   ]
  },
  {
   "cell_type": "markdown",
   "id": "61f2661b-5185-493a-bd25-97d1c42d712c",
   "metadata": {},
   "source": [
    "# Faire le crop et fit"
   ]
  },
  {
   "cell_type": "code",
   "execution_count": 54,
   "id": "b695a082-5a85-499e-9183-cfd354b4dc5d",
   "metadata": {
    "execution": {
     "iopub.execute_input": "2024-11-27T00:34:16.297421Z",
     "iopub.status.busy": "2024-11-27T00:34:16.297176Z",
     "iopub.status.idle": "2024-11-27T00:34:16.301468Z",
     "shell.execute_reply": "2024-11-27T00:34:16.300888Z",
     "shell.execute_reply.started": "2024-11-27T00:34:16.297403Z"
    }
   },
   "outputs": [],
   "source": [
    "def particle_tracker_simple(image, x, y):\n",
    "    image = denoise(image)\n",
    "\n",
    "    cropped_img = crop(image, x, y, crop_sze_x, crop_sze_y)\n",
    "    \n",
    "    #Gérer plus qu'une particule\n",
    "    cropped_img = np.array(cropped_img)\n",
    "    max_index = np.argmax(cropped_img)\n",
    "    max_coords = np.unravel_index(max_index, cropped_img.shape)\n",
    "\n",
    "    nouveau_x = x - crop_sze_x // 2 + max_coords[1]\n",
    "    nouveau_y = y - crop_sze_y // 2 + max_coords[0]\n",
    "    \n",
    "    second_crop = crop(image, nouveau_x, nouveau_y, crop_sze_x, crop_sze_y)    # Re-crop autour d'une seule particule\n",
    "\n",
    "    result_fit = localisateur_gaussien(second_crop, [nouveau_x, nouveau_y])\n",
    "\n",
    "    x_new, y_new = result_fit[0][0], result_fit[0][1]\n",
    "\n",
    "    return [result_fit, cropped_img, (x_new, y_new), (result_fit[1], result_fit[2])]"
   ]
  },
  {
   "cell_type": "code",
   "execution_count": 55,
   "id": "5625e5b2",
   "metadata": {},
   "outputs": [],
   "source": [
    "#Placés ici pour pouvoir y faire référence dans particule_tracker\n",
    "position_list=[[x,y]]\n",
    "sigma_list = []\n",
    "crop_frames = []\n",
    "big_frames = []"
   ]
  },
  {
   "cell_type": "code",
   "execution_count": 56,
   "id": "0d8ff164",
   "metadata": {},
   "outputs": [],
   "source": [
    "def particle_tracker(imge, x, y, taille_initiale, luminosité_initiale, seuil):\n",
    "    # 1. Ce qu'on voit près de l'ancienne position\n",
    "    image = denoise(imge)\n",
    "\n",
    "    cropped_img = crop(image, x, y, crop_sze_x, crop_sze_y)\n",
    "    \n",
    "    # 2. Déterminer combien il y a de particules et laquelle est la notre\n",
    "    # Utiliser une reconnaissance de particules et si plus qu'une, alors clic pour choisir\n",
    "    nb_part, coordonnées = detect_nbre_particles(cropped_img, seuil)\n",
    "    #print(f'coordonnées des {nb_part} particules:{coordonnées}')\n",
    "\n",
    "    if (nb_part == 0) or (nb_part == []):\n",
    "        # Display the image and let the user select a point interactively\n",
    "        fig, ax = plt.subplots()\n",
    "        ax.imshow(denoise(img), origin='lower', cmap='gray') \n",
    "        plt.title(f\"Frame {len(position_list)-1}: Select a point\")\n",
    "\n",
    "        # Ajouter une croix rouge à la position donnée\n",
    "        cx, cy = position_list[len(position_list)-1]\n",
    "        ax.plot(cx, cy, 'rx', markersize=10) \n",
    "        \n",
    "        # Afficher l'image et demander à l'utilisateur de cliquer\n",
    "        print(\"Please click on the point you want to select.\")\n",
    "        nouveau_x, nouveau_y = plt.ginput(1)[0]  # Attente du clic de l'utilisateur (1 point)\n",
    "        print(f\"Selected point: ({nouveau_x}, {nouveau_y})\")\n",
    "        \n",
    "        # Fermer l'affichage après sélection\n",
    "        plt.close()\n",
    "    elif nb_part > 1:\n",
    "        imperfections, emplacements = [] , []\n",
    "        for num_particule in range(nb_part):\n",
    "            x_identifier=x - crop_sze_x // 2 + coordonnées[num_particule][0]\n",
    "            y_identifier=y - crop_sze_y // 2 + coordonnées[num_particule][1]\n",
    "            crop_pour_identifier = crop(image, x_identifier, y_identifier, crop_sze_x//2, crop_sze_y//2)\n",
    "            emplacement, ecart = identificateur_particles(crop_pour_identifier, taille_initiale, luminosité_initiale, seuil)\n",
    "            imperfections.append(ecart)\n",
    "            emplacements.append(emplacement)\n",
    "        qualité = np.min(imperfections)\n",
    "        print(f'écart:{qualité}')\n",
    "        max_coords = emplacements[np.argmin(imperfections)]  \n",
    "        nouveau_x = x_identifier - crop_sze_x // 4 + max_coords[0]\n",
    "        nouveau_y = y_identifier - crop_sze_y // 4 + max_coords[1]\n",
    "    else:\n",
    "        cropped_img = np.array(cropped_img)\n",
    "        max_index = np.argmax(cropped_img)\n",
    "        max_coords = np.unravel_index(max_index, cropped_img.shape)\n",
    "\n",
    "        nouveau_x = x - crop_sze_x // 2 + max_coords[1] #Oui c'est inversé à cause du unravel juste avant\n",
    "        nouveau_y = y - crop_sze_y // 2 + max_coords[0]\n",
    "\n",
    "    # Vérification s'il fout le camp \n",
    "    if np.sqrt((position_list[-1][0]-nouveau_x)**2+(position_list[-1][1]-nouveau_y)**2)>50:\n",
    "        # Display the image and let the user select a point interactively\n",
    "        fig, ax = plt.subplots()\n",
    "        ax.imshow(denoise(img), origin='lower', cmap='gray') \n",
    "        plt.title(f\"Frame {len(position_list)-1}: Problème d'identification, select a point\")\n",
    "\n",
    "        print('problème d''identification')\n",
    "        # Ajouter une croix rouge à la position donnée\n",
    "        cx, cy = position_list[-1]\n",
    "        ax.plot(cx, cy, 'rx', markersize=10, label=f'Position estimée') \n",
    "        plt.legend()\n",
    "        # Afficher l'image et demander à l'utilisateur de cliquer\n",
    "        print(\"Please click on the point you want to select.\")\n",
    "        nouveau_x, nouveau_y = plt.ginput(1)[0]  # Attente du clic de l'utilisateur (1 point)\n",
    "        print(f\"Selected point: ({nouveau_x}, {nouveau_y})\")\n",
    "        \n",
    "        # Fermer l'affichage après sélection\n",
    "        plt.close()\n",
    "\n",
    "    # 3. Crop atour de notre particule et fit dessus\n",
    "    second_crop = crop(image, nouveau_x, nouveau_y, crop_sze_x//2, crop_sze_y//2)    # Re-crop autour d'une seule particule\n",
    "\n",
    "\n",
    "    result_fit = localisateur_gaussien(second_crop, [nouveau_x, nouveau_y])\n",
    "\n",
    "    x_new, y_new = result_fit[0][0], result_fit[0][1]\n",
    "\n",
    "    # Affiche l'accord entre le fit gaussien et le blob (pour comparer)\n",
    "    if len(position_list)==5:    \n",
    "        x_list, y_list = zip(*position_list)\n",
    "        x_list = list(x_list)  # Convertir en liste\n",
    "        y_list = list(y_list)  # Convertir en liste        \n",
    "        x_list.append(x_new)\n",
    "        y_list.append(y_new)   \n",
    "        plt.imshow(image, origin='lower', cmap='gray')#, extent=[x_position.min(), x_position.max(), y_position.min(), y_position.max()])\n",
    "        plt.title(\"tracking de la particule\")\n",
    "        plt.scatter(x_list, y_list, color='b', label=f'Positions précédentes')\n",
    "        plt.scatter(x_new, y_new, color='r', label=f'Position actuelle estimée par fit gaussien')\n",
    "        plt.plot(x_list, y_list, color='b', linestyle='-', linewidth=1)\n",
    "        plt.xlabel('Position horizontale (nombre de pixel)')\n",
    "        plt.ylabel('Position veticale (nombre de pixel)')\n",
    "        plt.legend()\n",
    "        plt.show()\n",
    "\n",
    "    return [result_fit, second_crop, (x_new, y_new), (result_fit[1], result_fit[2])]"
   ]
  },
  {
   "cell_type": "markdown",
   "id": "8002acc8-bac7-4c69-846a-381ee31f08ff",
   "metadata": {},
   "source": [
    "# Main loop"
   ]
  },
  {
   "cell_type": "code",
   "execution_count": 57,
   "id": "e7a5dba4-849a-4171-8fbb-6d05453ed795",
   "metadata": {
    "execution": {
     "iopub.execute_input": "2024-11-27T00:34:16.302483Z",
     "iopub.status.busy": "2024-11-27T00:34:16.302259Z",
     "iopub.status.idle": "2024-11-27T00:35:56.804477Z",
     "shell.execute_reply": "2024-11-27T00:35:56.803536Z",
     "shell.execute_reply.started": "2024-11-27T00:34:16.302464Z"
    }
   },
   "outputs": [
    {
     "name": "stdout",
     "output_type": "stream",
     "text": [
      "21.0\n",
      "position initiale: [[652.2922077922079, 514.3701298701299]]\n",
      "x=652.2922077922079\n",
      "liste des positions frame 1:[[652.2922077922079, 514.3701298701299], (652.6180143405277, 501.3899868054946)]\n",
      "x=652.6180143405277\n",
      "liste des positions frame 2:[[652.2922077922079, 514.3701298701299], (652.6180143405277, 501.3899868054946), (652.0508540778346, 502.25456595075264)]\n",
      "x=652.0508540778346\n",
      "liste des positions frame 3:[[652.2922077922079, 514.3701298701299], (652.6180143405277, 501.3899868054946), (652.0508540778346, 502.25456595075264), (653.5065079424955, 504.1941912514603)]\n",
      "x=653.5065079424955\n",
      "liste des positions frame 4:[[652.2922077922079, 514.3701298701299], (652.6180143405277, 501.3899868054946), (652.0508540778346, 502.25456595075264), (653.5065079424955, 504.1941912514603), (645.7979828752552, 501.53879458963945)]\n",
      "x=645.7979828752552\n",
      "liste des positions frame 5:[[652.2922077922079, 514.3701298701299], (652.6180143405277, 501.3899868054946), (652.0508540778346, 502.25456595075264), (653.5065079424955, 504.1941912514603), (645.7979828752552, 501.53879458963945), (644.8061886456463, 501.90175469479584)]\n",
      "x=644.8061886456463\n",
      "liste des positions frame 6:[[652.2922077922079, 514.3701298701299], (652.6180143405277, 501.3899868054946), (652.0508540778346, 502.25456595075264), (653.5065079424955, 504.1941912514603), (645.7979828752552, 501.53879458963945), (644.8061886456463, 501.90175469479584), (645.8299450893071, 501.81612622439286)]\n",
      "x=645.8299450893071\n",
      "liste des positions frame 7:[[652.2922077922079, 514.3701298701299], (652.6180143405277, 501.3899868054946), (652.0508540778346, 502.25456595075264), (653.5065079424955, 504.1941912514603), (645.7979828752552, 501.53879458963945), (644.8061886456463, 501.90175469479584), (645.8299450893071, 501.81612622439286), (643.5474555464955, 500.3743851426683)]\n",
      "x=643.5474555464955\n",
      "frames vide:8\n",
      "liste des positions frame 8:[[652.2922077922079, 514.3701298701299], (652.6180143405277, 501.3899868054946), (652.0508540778346, 502.25456595075264), (653.5065079424955, 504.1941912514603), (645.7979828752552, 501.53879458963945), (644.8061886456463, 501.90175469479584), (645.8299450893071, 501.81612622439286), (643.5474555464955, 500.3743851426683), array([nan, nan])]\n",
      "x=643.5474555464955\n",
      "liste des positions frame 9:[[652.2922077922079, 514.3701298701299], (652.6180143405277, 501.3899868054946), (652.0508540778346, 502.25456595075264), (653.5065079424955, 504.1941912514603), (645.7979828752552, 501.53879458963945), (644.8061886456463, 501.90175469479584), (645.8299450893071, 501.81612622439286), (643.5474555464955, 500.3743851426683), array([nan, nan]), (642.3515033718874, 499.9804505127362)]\n",
      "x=642.3515033718874\n",
      "liste des positions frame 10:[[652.2922077922079, 514.3701298701299], (652.6180143405277, 501.3899868054946), (652.0508540778346, 502.25456595075264), (653.5065079424955, 504.1941912514603), (645.7979828752552, 501.53879458963945), (644.8061886456463, 501.90175469479584), (645.8299450893071, 501.81612622439286), (643.5474555464955, 500.3743851426683), array([nan, nan]), (642.3515033718874, 499.9804505127362), (644.8679934126344, 498.36073490721645)]\n",
      "x=644.8679934126344\n",
      "liste des positions frame 11:[[652.2922077922079, 514.3701298701299], (652.6180143405277, 501.3899868054946), (652.0508540778346, 502.25456595075264), (653.5065079424955, 504.1941912514603), (645.7979828752552, 501.53879458963945), (644.8061886456463, 501.90175469479584), (645.8299450893071, 501.81612622439286), (643.5474555464955, 500.3743851426683), array([nan, nan]), (642.3515033718874, 499.9804505127362), (644.8679934126344, 498.36073490721645), (644.5558269154735, 496.80301319617433)]\n",
      "x=644.5558269154735\n",
      "liste des positions frame 12:[[652.2922077922079, 514.3701298701299], (652.6180143405277, 501.3899868054946), (652.0508540778346, 502.25456595075264), (653.5065079424955, 504.1941912514603), (645.7979828752552, 501.53879458963945), (644.8061886456463, 501.90175469479584), (645.8299450893071, 501.81612622439286), (643.5474555464955, 500.3743851426683), array([nan, nan]), (642.3515033718874, 499.9804505127362), (644.8679934126344, 498.36073490721645), (644.5558269154735, 496.80301319617433), (645.1237921981618, 496.5783030077491)]\n",
      "x=645.1237921981618\n",
      "liste des positions frame 13:[[652.2922077922079, 514.3701298701299], (652.6180143405277, 501.3899868054946), (652.0508540778346, 502.25456595075264), (653.5065079424955, 504.1941912514603), (645.7979828752552, 501.53879458963945), (644.8061886456463, 501.90175469479584), (645.8299450893071, 501.81612622439286), (643.5474555464955, 500.3743851426683), array([nan, nan]), (642.3515033718874, 499.9804505127362), (644.8679934126344, 498.36073490721645), (644.5558269154735, 496.80301319617433), (645.1237921981618, 496.5783030077491), (637.3402838784159, 493.5937138410586)]\n",
      "x=637.3402838784159\n",
      "liste des positions frame 14:[[652.2922077922079, 514.3701298701299], (652.6180143405277, 501.3899868054946), (652.0508540778346, 502.25456595075264), (653.5065079424955, 504.1941912514603), (645.7979828752552, 501.53879458963945), (644.8061886456463, 501.90175469479584), (645.8299450893071, 501.81612622439286), (643.5474555464955, 500.3743851426683), array([nan, nan]), (642.3515033718874, 499.9804505127362), (644.8679934126344, 498.36073490721645), (644.5558269154735, 496.80301319617433), (645.1237921981618, 496.5783030077491), (637.3402838784159, 493.5937138410586), (633.5797026866542, 494.9282076264845)]\n",
      "x=633.5797026866542\n",
      "liste des positions frame 15:[[652.2922077922079, 514.3701298701299], (652.6180143405277, 501.3899868054946), (652.0508540778346, 502.25456595075264), (653.5065079424955, 504.1941912514603), (645.7979828752552, 501.53879458963945), (644.8061886456463, 501.90175469479584), (645.8299450893071, 501.81612622439286), (643.5474555464955, 500.3743851426683), array([nan, nan]), (642.3515033718874, 499.9804505127362), (644.8679934126344, 498.36073490721645), (644.5558269154735, 496.80301319617433), (645.1237921981618, 496.5783030077491), (637.3402838784159, 493.5937138410586), (633.5797026866542, 494.9282076264845), (636.5448099417731, 496.4668333579294)]\n",
      "x=636.5448099417731\n",
      "frames vide:16\n",
      "liste des positions frame 16:[[652.2922077922079, 514.3701298701299], (652.6180143405277, 501.3899868054946), (652.0508540778346, 502.25456595075264), (653.5065079424955, 504.1941912514603), (645.7979828752552, 501.53879458963945), (644.8061886456463, 501.90175469479584), (645.8299450893071, 501.81612622439286), (643.5474555464955, 500.3743851426683), array([nan, nan]), (642.3515033718874, 499.9804505127362), (644.8679934126344, 498.36073490721645), (644.5558269154735, 496.80301319617433), (645.1237921981618, 496.5783030077491), (637.3402838784159, 493.5937138410586), (633.5797026866542, 494.9282076264845), (636.5448099417731, 496.4668333579294), array([nan, nan])]\n",
      "x=636.5448099417731\n",
      "frames vide:17\n",
      "liste des positions frame 17:[[652.2922077922079, 514.3701298701299], (652.6180143405277, 501.3899868054946), (652.0508540778346, 502.25456595075264), (653.5065079424955, 504.1941912514603), (645.7979828752552, 501.53879458963945), (644.8061886456463, 501.90175469479584), (645.8299450893071, 501.81612622439286), (643.5474555464955, 500.3743851426683), array([nan, nan]), (642.3515033718874, 499.9804505127362), (644.8679934126344, 498.36073490721645), (644.5558269154735, 496.80301319617433), (645.1237921981618, 496.5783030077491), (637.3402838784159, 493.5937138410586), (633.5797026866542, 494.9282076264845), (636.5448099417731, 496.4668333579294), array([nan, nan]), array([nan, nan])]\n",
      "x=636.5448099417731\n",
      "liste des positions frame 18:[[652.2922077922079, 514.3701298701299], (652.6180143405277, 501.3899868054946), (652.0508540778346, 502.25456595075264), (653.5065079424955, 504.1941912514603), (645.7979828752552, 501.53879458963945), (644.8061886456463, 501.90175469479584), (645.8299450893071, 501.81612622439286), (643.5474555464955, 500.3743851426683), array([nan, nan]), (642.3515033718874, 499.9804505127362), (644.8679934126344, 498.36073490721645), (644.5558269154735, 496.80301319617433), (645.1237921981618, 496.5783030077491), (637.3402838784159, 493.5937138410586), (633.5797026866542, 494.9282076264845), (636.5448099417731, 496.4668333579294), array([nan, nan]), array([nan, nan]), (632.2537151434803, 499.00925384824825)]\n",
      "x=632.2537151434803\n",
      "liste des positions frame 19:[[652.2922077922079, 514.3701298701299], (652.6180143405277, 501.3899868054946), (652.0508540778346, 502.25456595075264), (653.5065079424955, 504.1941912514603), (645.7979828752552, 501.53879458963945), (644.8061886456463, 501.90175469479584), (645.8299450893071, 501.81612622439286), (643.5474555464955, 500.3743851426683), array([nan, nan]), (642.3515033718874, 499.9804505127362), (644.8679934126344, 498.36073490721645), (644.5558269154735, 496.80301319617433), (645.1237921981618, 496.5783030077491), (637.3402838784159, 493.5937138410586), (633.5797026866542, 494.9282076264845), (636.5448099417731, 496.4668333579294), array([nan, nan]), array([nan, nan]), (632.2537151434803, 499.00925384824825), (643.5595883307869, 488.8924313979061)]\n",
      "x=643.5595883307869\n",
      "frames vide:20\n",
      "liste des positions frame 20:[[652.2922077922079, 514.3701298701299], (652.6180143405277, 501.3899868054946), (652.0508540778346, 502.25456595075264), (653.5065079424955, 504.1941912514603), (645.7979828752552, 501.53879458963945), (644.8061886456463, 501.90175469479584), (645.8299450893071, 501.81612622439286), (643.5474555464955, 500.3743851426683), array([nan, nan]), (642.3515033718874, 499.9804505127362), (644.8679934126344, 498.36073490721645), (644.5558269154735, 496.80301319617433), (645.1237921981618, 496.5783030077491), (637.3402838784159, 493.5937138410586), (633.5797026866542, 494.9282076264845), (636.5448099417731, 496.4668333579294), array([nan, nan]), array([nan, nan]), (632.2537151434803, 499.00925384824825), (643.5595883307869, 488.8924313979061), array([nan, nan])]\n",
      "x=643.5595883307869\n",
      "frames vide:21\n",
      "liste des positions frame 21:[[652.2922077922079, 514.3701298701299], (652.6180143405277, 501.3899868054946), (652.0508540778346, 502.25456595075264), (653.5065079424955, 504.1941912514603), (645.7979828752552, 501.53879458963945), (644.8061886456463, 501.90175469479584), (645.8299450893071, 501.81612622439286), (643.5474555464955, 500.3743851426683), array([nan, nan]), (642.3515033718874, 499.9804505127362), (644.8679934126344, 498.36073490721645), (644.5558269154735, 496.80301319617433), (645.1237921981618, 496.5783030077491), (637.3402838784159, 493.5937138410586), (633.5797026866542, 494.9282076264845), (636.5448099417731, 496.4668333579294), array([nan, nan]), array([nan, nan]), (632.2537151434803, 499.00925384824825), (643.5595883307869, 488.8924313979061), array([nan, nan]), array([nan, nan])]\n",
      "x=643.5595883307869\n",
      "liste des positions frame 22:[[652.2922077922079, 514.3701298701299], (652.6180143405277, 501.3899868054946), (652.0508540778346, 502.25456595075264), (653.5065079424955, 504.1941912514603), (645.7979828752552, 501.53879458963945), (644.8061886456463, 501.90175469479584), (645.8299450893071, 501.81612622439286), (643.5474555464955, 500.3743851426683), array([nan, nan]), (642.3515033718874, 499.9804505127362), (644.8679934126344, 498.36073490721645), (644.5558269154735, 496.80301319617433), (645.1237921981618, 496.5783030077491), (637.3402838784159, 493.5937138410586), (633.5797026866542, 494.9282076264845), (636.5448099417731, 496.4668333579294), array([nan, nan]), array([nan, nan]), (632.2537151434803, 499.00925384824825), (643.5595883307869, 488.8924313979061), array([nan, nan]), array([nan, nan]), (643.5574804183402, 487.265377871481)]\n",
      "x=643.5574804183402\n",
      "liste des positions frame 23:[[652.2922077922079, 514.3701298701299], (652.6180143405277, 501.3899868054946), (652.0508540778346, 502.25456595075264), (653.5065079424955, 504.1941912514603), (645.7979828752552, 501.53879458963945), (644.8061886456463, 501.90175469479584), (645.8299450893071, 501.81612622439286), (643.5474555464955, 500.3743851426683), array([nan, nan]), (642.3515033718874, 499.9804505127362), (644.8679934126344, 498.36073490721645), (644.5558269154735, 496.80301319617433), (645.1237921981618, 496.5783030077491), (637.3402838784159, 493.5937138410586), (633.5797026866542, 494.9282076264845), (636.5448099417731, 496.4668333579294), array([nan, nan]), array([nan, nan]), (632.2537151434803, 499.00925384824825), (643.5595883307869, 488.8924313979061), array([nan, nan]), array([nan, nan]), (643.5574804183402, 487.265377871481), (649.4785024812059, 484.0901567710937)]\n",
      "x=649.4785024812059\n",
      "liste des positions frame 24:[[652.2922077922079, 514.3701298701299], (652.6180143405277, 501.3899868054946), (652.0508540778346, 502.25456595075264), (653.5065079424955, 504.1941912514603), (645.7979828752552, 501.53879458963945), (644.8061886456463, 501.90175469479584), (645.8299450893071, 501.81612622439286), (643.5474555464955, 500.3743851426683), array([nan, nan]), (642.3515033718874, 499.9804505127362), (644.8679934126344, 498.36073490721645), (644.5558269154735, 496.80301319617433), (645.1237921981618, 496.5783030077491), (637.3402838784159, 493.5937138410586), (633.5797026866542, 494.9282076264845), (636.5448099417731, 496.4668333579294), array([nan, nan]), array([nan, nan]), (632.2537151434803, 499.00925384824825), (643.5595883307869, 488.8924313979061), array([nan, nan]), array([nan, nan]), (643.5574804183402, 487.265377871481), (649.4785024812059, 484.0901567710937), (646.6562619897295, 486.98478475196447)]\n",
      "x=646.6562619897295\n",
      "liste des positions frame 25:[[652.2922077922079, 514.3701298701299], (652.6180143405277, 501.3899868054946), (652.0508540778346, 502.25456595075264), (653.5065079424955, 504.1941912514603), (645.7979828752552, 501.53879458963945), (644.8061886456463, 501.90175469479584), (645.8299450893071, 501.81612622439286), (643.5474555464955, 500.3743851426683), array([nan, nan]), (642.3515033718874, 499.9804505127362), (644.8679934126344, 498.36073490721645), (644.5558269154735, 496.80301319617433), (645.1237921981618, 496.5783030077491), (637.3402838784159, 493.5937138410586), (633.5797026866542, 494.9282076264845), (636.5448099417731, 496.4668333579294), array([nan, nan]), array([nan, nan]), (632.2537151434803, 499.00925384824825), (643.5595883307869, 488.8924313979061), array([nan, nan]), array([nan, nan]), (643.5574804183402, 487.265377871481), (649.4785024812059, 484.0901567710937), (646.6562619897295, 486.98478475196447), (642.2997628677473, 490.29611710644303)]\n",
      "x=642.2997628677473\n",
      "ecrat: 9.66300366300366\n",
      "ecrat: 9.66300366300366\n",
      "écart:9.66300366300366\n",
      "liste des positions frame 26:[[652.2922077922079, 514.3701298701299], (652.6180143405277, 501.3899868054946), (652.0508540778346, 502.25456595075264), (653.5065079424955, 504.1941912514603), (645.7979828752552, 501.53879458963945), (644.8061886456463, 501.90175469479584), (645.8299450893071, 501.81612622439286), (643.5474555464955, 500.3743851426683), array([nan, nan]), (642.3515033718874, 499.9804505127362), (644.8679934126344, 498.36073490721645), (644.5558269154735, 496.80301319617433), (645.1237921981618, 496.5783030077491), (637.3402838784159, 493.5937138410586), (633.5797026866542, 494.9282076264845), (636.5448099417731, 496.4668333579294), array([nan, nan]), array([nan, nan]), (632.2537151434803, 499.00925384824825), (643.5595883307869, 488.8924313979061), array([nan, nan]), array([nan, nan]), (643.5574804183402, 487.265377871481), (649.4785024812059, 484.0901567710937), (646.6562619897295, 486.98478475196447), (642.2997628677473, 490.29611710644303), (645.6367861651717, 486.7151443372147)]\n",
      "x=645.6367861651717\n",
      "liste des positions frame 27:[[652.2922077922079, 514.3701298701299], (652.6180143405277, 501.3899868054946), (652.0508540778346, 502.25456595075264), (653.5065079424955, 504.1941912514603), (645.7979828752552, 501.53879458963945), (644.8061886456463, 501.90175469479584), (645.8299450893071, 501.81612622439286), (643.5474555464955, 500.3743851426683), array([nan, nan]), (642.3515033718874, 499.9804505127362), (644.8679934126344, 498.36073490721645), (644.5558269154735, 496.80301319617433), (645.1237921981618, 496.5783030077491), (637.3402838784159, 493.5937138410586), (633.5797026866542, 494.9282076264845), (636.5448099417731, 496.4668333579294), array([nan, nan]), array([nan, nan]), (632.2537151434803, 499.00925384824825), (643.5595883307869, 488.8924313979061), array([nan, nan]), array([nan, nan]), (643.5574804183402, 487.265377871481), (649.4785024812059, 484.0901567710937), (646.6562619897295, 486.98478475196447), (642.2997628677473, 490.29611710644303), (645.6367861651717, 486.7151443372147), (652.3937352203545, 489.9866941134687)]\n",
      "x=652.3937352203545\n",
      "liste des positions frame 28:[[652.2922077922079, 514.3701298701299], (652.6180143405277, 501.3899868054946), (652.0508540778346, 502.25456595075264), (653.5065079424955, 504.1941912514603), (645.7979828752552, 501.53879458963945), (644.8061886456463, 501.90175469479584), (645.8299450893071, 501.81612622439286), (643.5474555464955, 500.3743851426683), array([nan, nan]), (642.3515033718874, 499.9804505127362), (644.8679934126344, 498.36073490721645), (644.5558269154735, 496.80301319617433), (645.1237921981618, 496.5783030077491), (637.3402838784159, 493.5937138410586), (633.5797026866542, 494.9282076264845), (636.5448099417731, 496.4668333579294), array([nan, nan]), array([nan, nan]), (632.2537151434803, 499.00925384824825), (643.5595883307869, 488.8924313979061), array([nan, nan]), array([nan, nan]), (643.5574804183402, 487.265377871481), (649.4785024812059, 484.0901567710937), (646.6562619897295, 486.98478475196447), (642.2997628677473, 490.29611710644303), (645.6367861651717, 486.7151443372147), (652.3937352203545, 489.9866941134687), (652.1424970997476, 490.215591965805)]\n",
      "x=652.1424970997476\n",
      "liste des positions frame 29:[[652.2922077922079, 514.3701298701299], (652.6180143405277, 501.3899868054946), (652.0508540778346, 502.25456595075264), (653.5065079424955, 504.1941912514603), (645.7979828752552, 501.53879458963945), (644.8061886456463, 501.90175469479584), (645.8299450893071, 501.81612622439286), (643.5474555464955, 500.3743851426683), array([nan, nan]), (642.3515033718874, 499.9804505127362), (644.8679934126344, 498.36073490721645), (644.5558269154735, 496.80301319617433), (645.1237921981618, 496.5783030077491), (637.3402838784159, 493.5937138410586), (633.5797026866542, 494.9282076264845), (636.5448099417731, 496.4668333579294), array([nan, nan]), array([nan, nan]), (632.2537151434803, 499.00925384824825), (643.5595883307869, 488.8924313979061), array([nan, nan]), array([nan, nan]), (643.5574804183402, 487.265377871481), (649.4785024812059, 484.0901567710937), (646.6562619897295, 486.98478475196447), (642.2997628677473, 490.29611710644303), (645.6367861651717, 486.7151443372147), (652.3937352203545, 489.9866941134687), (652.1424970997476, 490.215591965805), (652.8082414337719, 492.8534660930622)]\n",
      "x=652.8082414337719\n",
      "frames vide:30\n",
      "liste des positions frame 30:[[652.2922077922079, 514.3701298701299], (652.6180143405277, 501.3899868054946), (652.0508540778346, 502.25456595075264), (653.5065079424955, 504.1941912514603), (645.7979828752552, 501.53879458963945), (644.8061886456463, 501.90175469479584), (645.8299450893071, 501.81612622439286), (643.5474555464955, 500.3743851426683), array([nan, nan]), (642.3515033718874, 499.9804505127362), (644.8679934126344, 498.36073490721645), (644.5558269154735, 496.80301319617433), (645.1237921981618, 496.5783030077491), (637.3402838784159, 493.5937138410586), (633.5797026866542, 494.9282076264845), (636.5448099417731, 496.4668333579294), array([nan, nan]), array([nan, nan]), (632.2537151434803, 499.00925384824825), (643.5595883307869, 488.8924313979061), array([nan, nan]), array([nan, nan]), (643.5574804183402, 487.265377871481), (649.4785024812059, 484.0901567710937), (646.6562619897295, 486.98478475196447), (642.2997628677473, 490.29611710644303), (645.6367861651717, 486.7151443372147), (652.3937352203545, 489.9866941134687), (652.1424970997476, 490.215591965805), (652.8082414337719, 492.8534660930622), array([nan, nan])]\n",
      "x=652.8082414337719\n",
      "frames vide:31\n",
      "liste des positions frame 31:[[652.2922077922079, 514.3701298701299], (652.6180143405277, 501.3899868054946), (652.0508540778346, 502.25456595075264), (653.5065079424955, 504.1941912514603), (645.7979828752552, 501.53879458963945), (644.8061886456463, 501.90175469479584), (645.8299450893071, 501.81612622439286), (643.5474555464955, 500.3743851426683), array([nan, nan]), (642.3515033718874, 499.9804505127362), (644.8679934126344, 498.36073490721645), (644.5558269154735, 496.80301319617433), (645.1237921981618, 496.5783030077491), (637.3402838784159, 493.5937138410586), (633.5797026866542, 494.9282076264845), (636.5448099417731, 496.4668333579294), array([nan, nan]), array([nan, nan]), (632.2537151434803, 499.00925384824825), (643.5595883307869, 488.8924313979061), array([nan, nan]), array([nan, nan]), (643.5574804183402, 487.265377871481), (649.4785024812059, 484.0901567710937), (646.6562619897295, 486.98478475196447), (642.2997628677473, 490.29611710644303), (645.6367861651717, 486.7151443372147), (652.3937352203545, 489.9866941134687), (652.1424970997476, 490.215591965805), (652.8082414337719, 492.8534660930622), array([nan, nan]), array([nan, nan])]\n",
      "x=652.8082414337719\n",
      "liste des positions frame 32:[[652.2922077922079, 514.3701298701299], (652.6180143405277, 501.3899868054946), (652.0508540778346, 502.25456595075264), (653.5065079424955, 504.1941912514603), (645.7979828752552, 501.53879458963945), (644.8061886456463, 501.90175469479584), (645.8299450893071, 501.81612622439286), (643.5474555464955, 500.3743851426683), array([nan, nan]), (642.3515033718874, 499.9804505127362), (644.8679934126344, 498.36073490721645), (644.5558269154735, 496.80301319617433), (645.1237921981618, 496.5783030077491), (637.3402838784159, 493.5937138410586), (633.5797026866542, 494.9282076264845), (636.5448099417731, 496.4668333579294), array([nan, nan]), array([nan, nan]), (632.2537151434803, 499.00925384824825), (643.5595883307869, 488.8924313979061), array([nan, nan]), array([nan, nan]), (643.5574804183402, 487.265377871481), (649.4785024812059, 484.0901567710937), (646.6562619897295, 486.98478475196447), (642.2997628677473, 490.29611710644303), (645.6367861651717, 486.7151443372147), (652.3937352203545, 489.9866941134687), (652.1424970997476, 490.215591965805), (652.8082414337719, 492.8534660930622), array([nan, nan]), array([nan, nan]), (650.8379782675273, 495.8746613523936)]\n",
      "x=650.8379782675273\n",
      "liste des positions frame 33:[[652.2922077922079, 514.3701298701299], (652.6180143405277, 501.3899868054946), (652.0508540778346, 502.25456595075264), (653.5065079424955, 504.1941912514603), (645.7979828752552, 501.53879458963945), (644.8061886456463, 501.90175469479584), (645.8299450893071, 501.81612622439286), (643.5474555464955, 500.3743851426683), array([nan, nan]), (642.3515033718874, 499.9804505127362), (644.8679934126344, 498.36073490721645), (644.5558269154735, 496.80301319617433), (645.1237921981618, 496.5783030077491), (637.3402838784159, 493.5937138410586), (633.5797026866542, 494.9282076264845), (636.5448099417731, 496.4668333579294), array([nan, nan]), array([nan, nan]), (632.2537151434803, 499.00925384824825), (643.5595883307869, 488.8924313979061), array([nan, nan]), array([nan, nan]), (643.5574804183402, 487.265377871481), (649.4785024812059, 484.0901567710937), (646.6562619897295, 486.98478475196447), (642.2997628677473, 490.29611710644303), (645.6367861651717, 486.7151443372147), (652.3937352203545, 489.9866941134687), (652.1424970997476, 490.215591965805), (652.8082414337719, 492.8534660930622), array([nan, nan]), array([nan, nan]), (650.8379782675273, 495.8746613523936), (642.2494276317117, 497.8007440190455)]\n",
      "x=642.2494276317117\n",
      "liste des positions frame 34:[[652.2922077922079, 514.3701298701299], (652.6180143405277, 501.3899868054946), (652.0508540778346, 502.25456595075264), (653.5065079424955, 504.1941912514603), (645.7979828752552, 501.53879458963945), (644.8061886456463, 501.90175469479584), (645.8299450893071, 501.81612622439286), (643.5474555464955, 500.3743851426683), array([nan, nan]), (642.3515033718874, 499.9804505127362), (644.8679934126344, 498.36073490721645), (644.5558269154735, 496.80301319617433), (645.1237921981618, 496.5783030077491), (637.3402838784159, 493.5937138410586), (633.5797026866542, 494.9282076264845), (636.5448099417731, 496.4668333579294), array([nan, nan]), array([nan, nan]), (632.2537151434803, 499.00925384824825), (643.5595883307869, 488.8924313979061), array([nan, nan]), array([nan, nan]), (643.5574804183402, 487.265377871481), (649.4785024812059, 484.0901567710937), (646.6562619897295, 486.98478475196447), (642.2997628677473, 490.29611710644303), (645.6367861651717, 486.7151443372147), (652.3937352203545, 489.9866941134687), (652.1424970997476, 490.215591965805), (652.8082414337719, 492.8534660930622), array([nan, nan]), array([nan, nan]), (650.8379782675273, 495.8746613523936), (642.2494276317117, 497.8007440190455), (641.6910495485679, 493.660369421159)]\n",
      "x=641.6910495485679\n",
      "liste des positions frame 35:[[652.2922077922079, 514.3701298701299], (652.6180143405277, 501.3899868054946), (652.0508540778346, 502.25456595075264), (653.5065079424955, 504.1941912514603), (645.7979828752552, 501.53879458963945), (644.8061886456463, 501.90175469479584), (645.8299450893071, 501.81612622439286), (643.5474555464955, 500.3743851426683), array([nan, nan]), (642.3515033718874, 499.9804505127362), (644.8679934126344, 498.36073490721645), (644.5558269154735, 496.80301319617433), (645.1237921981618, 496.5783030077491), (637.3402838784159, 493.5937138410586), (633.5797026866542, 494.9282076264845), (636.5448099417731, 496.4668333579294), array([nan, nan]), array([nan, nan]), (632.2537151434803, 499.00925384824825), (643.5595883307869, 488.8924313979061), array([nan, nan]), array([nan, nan]), (643.5574804183402, 487.265377871481), (649.4785024812059, 484.0901567710937), (646.6562619897295, 486.98478475196447), (642.2997628677473, 490.29611710644303), (645.6367861651717, 486.7151443372147), (652.3937352203545, 489.9866941134687), (652.1424970997476, 490.215591965805), (652.8082414337719, 492.8534660930622), array([nan, nan]), array([nan, nan]), (650.8379782675273, 495.8746613523936), (642.2494276317117, 497.8007440190455), (641.6910495485679, 493.660369421159), (641.1208711090806, 492.1991558785266)]\n",
      "x=641.1208711090806\n",
      "liste des positions frame 36:[[652.2922077922079, 514.3701298701299], (652.6180143405277, 501.3899868054946), (652.0508540778346, 502.25456595075264), (653.5065079424955, 504.1941912514603), (645.7979828752552, 501.53879458963945), (644.8061886456463, 501.90175469479584), (645.8299450893071, 501.81612622439286), (643.5474555464955, 500.3743851426683), array([nan, nan]), (642.3515033718874, 499.9804505127362), (644.8679934126344, 498.36073490721645), (644.5558269154735, 496.80301319617433), (645.1237921981618, 496.5783030077491), (637.3402838784159, 493.5937138410586), (633.5797026866542, 494.9282076264845), (636.5448099417731, 496.4668333579294), array([nan, nan]), array([nan, nan]), (632.2537151434803, 499.00925384824825), (643.5595883307869, 488.8924313979061), array([nan, nan]), array([nan, nan]), (643.5574804183402, 487.265377871481), (649.4785024812059, 484.0901567710937), (646.6562619897295, 486.98478475196447), (642.2997628677473, 490.29611710644303), (645.6367861651717, 486.7151443372147), (652.3937352203545, 489.9866941134687), (652.1424970997476, 490.215591965805), (652.8082414337719, 492.8534660930622), array([nan, nan]), array([nan, nan]), (650.8379782675273, 495.8746613523936), (642.2494276317117, 497.8007440190455), (641.6910495485679, 493.660369421159), (641.1208711090806, 492.1991558785266), (638.0315991410604, 498.4181144193025)]\n",
      "x=638.0315991410604\n",
      "ecrat: 34.57327935222672\n",
      "ecrat: 34.57327935222672\n",
      "écart:34.57327935222672\n",
      "liste des positions frame 37:[[652.2922077922079, 514.3701298701299], (652.6180143405277, 501.3899868054946), (652.0508540778346, 502.25456595075264), (653.5065079424955, 504.1941912514603), (645.7979828752552, 501.53879458963945), (644.8061886456463, 501.90175469479584), (645.8299450893071, 501.81612622439286), (643.5474555464955, 500.3743851426683), array([nan, nan]), (642.3515033718874, 499.9804505127362), (644.8679934126344, 498.36073490721645), (644.5558269154735, 496.80301319617433), (645.1237921981618, 496.5783030077491), (637.3402838784159, 493.5937138410586), (633.5797026866542, 494.9282076264845), (636.5448099417731, 496.4668333579294), array([nan, nan]), array([nan, nan]), (632.2537151434803, 499.00925384824825), (643.5595883307869, 488.8924313979061), array([nan, nan]), array([nan, nan]), (643.5574804183402, 487.265377871481), (649.4785024812059, 484.0901567710937), (646.6562619897295, 486.98478475196447), (642.2997628677473, 490.29611710644303), (645.6367861651717, 486.7151443372147), (652.3937352203545, 489.9866941134687), (652.1424970997476, 490.215591965805), (652.8082414337719, 492.8534660930622), array([nan, nan]), array([nan, nan]), (650.8379782675273, 495.8746613523936), (642.2494276317117, 497.8007440190455), (641.6910495485679, 493.660369421159), (641.1208711090806, 492.1991558785266), (638.0315991410604, 498.4181144193025), (638.5141043449267, 494.49891516444666)]\n",
      "x=638.5141043449267\n",
      "liste des positions frame 38:[[652.2922077922079, 514.3701298701299], (652.6180143405277, 501.3899868054946), (652.0508540778346, 502.25456595075264), (653.5065079424955, 504.1941912514603), (645.7979828752552, 501.53879458963945), (644.8061886456463, 501.90175469479584), (645.8299450893071, 501.81612622439286), (643.5474555464955, 500.3743851426683), array([nan, nan]), (642.3515033718874, 499.9804505127362), (644.8679934126344, 498.36073490721645), (644.5558269154735, 496.80301319617433), (645.1237921981618, 496.5783030077491), (637.3402838784159, 493.5937138410586), (633.5797026866542, 494.9282076264845), (636.5448099417731, 496.4668333579294), array([nan, nan]), array([nan, nan]), (632.2537151434803, 499.00925384824825), (643.5595883307869, 488.8924313979061), array([nan, nan]), array([nan, nan]), (643.5574804183402, 487.265377871481), (649.4785024812059, 484.0901567710937), (646.6562619897295, 486.98478475196447), (642.2997628677473, 490.29611710644303), (645.6367861651717, 486.7151443372147), (652.3937352203545, 489.9866941134687), (652.1424970997476, 490.215591965805), (652.8082414337719, 492.8534660930622), array([nan, nan]), array([nan, nan]), (650.8379782675273, 495.8746613523936), (642.2494276317117, 497.8007440190455), (641.6910495485679, 493.660369421159), (641.1208711090806, 492.1991558785266), (638.0315991410604, 498.4181144193025), (638.5141043449267, 494.49891516444666), (640.4072028156116, 497.9536394301967)]\n",
      "x=640.4072028156116\n",
      "liste des positions frame 39:[[652.2922077922079, 514.3701298701299], (652.6180143405277, 501.3899868054946), (652.0508540778346, 502.25456595075264), (653.5065079424955, 504.1941912514603), (645.7979828752552, 501.53879458963945), (644.8061886456463, 501.90175469479584), (645.8299450893071, 501.81612622439286), (643.5474555464955, 500.3743851426683), array([nan, nan]), (642.3515033718874, 499.9804505127362), (644.8679934126344, 498.36073490721645), (644.5558269154735, 496.80301319617433), (645.1237921981618, 496.5783030077491), (637.3402838784159, 493.5937138410586), (633.5797026866542, 494.9282076264845), (636.5448099417731, 496.4668333579294), array([nan, nan]), array([nan, nan]), (632.2537151434803, 499.00925384824825), (643.5595883307869, 488.8924313979061), array([nan, nan]), array([nan, nan]), (643.5574804183402, 487.265377871481), (649.4785024812059, 484.0901567710937), (646.6562619897295, 486.98478475196447), (642.2997628677473, 490.29611710644303), (645.6367861651717, 486.7151443372147), (652.3937352203545, 489.9866941134687), (652.1424970997476, 490.215591965805), (652.8082414337719, 492.8534660930622), array([nan, nan]), array([nan, nan]), (650.8379782675273, 495.8746613523936), (642.2494276317117, 497.8007440190455), (641.6910495485679, 493.660369421159), (641.1208711090806, 492.1991558785266), (638.0315991410604, 498.4181144193025), (638.5141043449267, 494.49891516444666), (640.4072028156116, 497.9536394301967), (642.0058882533601, 497.50130846297145)]\n",
      "x=642.0058882533601\n",
      "liste des positions frame 40:[[652.2922077922079, 514.3701298701299], (652.6180143405277, 501.3899868054946), (652.0508540778346, 502.25456595075264), (653.5065079424955, 504.1941912514603), (645.7979828752552, 501.53879458963945), (644.8061886456463, 501.90175469479584), (645.8299450893071, 501.81612622439286), (643.5474555464955, 500.3743851426683), array([nan, nan]), (642.3515033718874, 499.9804505127362), (644.8679934126344, 498.36073490721645), (644.5558269154735, 496.80301319617433), (645.1237921981618, 496.5783030077491), (637.3402838784159, 493.5937138410586), (633.5797026866542, 494.9282076264845), (636.5448099417731, 496.4668333579294), array([nan, nan]), array([nan, nan]), (632.2537151434803, 499.00925384824825), (643.5595883307869, 488.8924313979061), array([nan, nan]), array([nan, nan]), (643.5574804183402, 487.265377871481), (649.4785024812059, 484.0901567710937), (646.6562619897295, 486.98478475196447), (642.2997628677473, 490.29611710644303), (645.6367861651717, 486.7151443372147), (652.3937352203545, 489.9866941134687), (652.1424970997476, 490.215591965805), (652.8082414337719, 492.8534660930622), array([nan, nan]), array([nan, nan]), (650.8379782675273, 495.8746613523936), (642.2494276317117, 497.8007440190455), (641.6910495485679, 493.660369421159), (641.1208711090806, 492.1991558785266), (638.0315991410604, 498.4181144193025), (638.5141043449267, 494.49891516444666), (640.4072028156116, 497.9536394301967), (642.0058882533601, 497.50130846297145), (637.2387158568858, 494.22945944222516)]\n",
      "x=637.2387158568858\n",
      "liste des positions frame 41:[[652.2922077922079, 514.3701298701299], (652.6180143405277, 501.3899868054946), (652.0508540778346, 502.25456595075264), (653.5065079424955, 504.1941912514603), (645.7979828752552, 501.53879458963945), (644.8061886456463, 501.90175469479584), (645.8299450893071, 501.81612622439286), (643.5474555464955, 500.3743851426683), array([nan, nan]), (642.3515033718874, 499.9804505127362), (644.8679934126344, 498.36073490721645), (644.5558269154735, 496.80301319617433), (645.1237921981618, 496.5783030077491), (637.3402838784159, 493.5937138410586), (633.5797026866542, 494.9282076264845), (636.5448099417731, 496.4668333579294), array([nan, nan]), array([nan, nan]), (632.2537151434803, 499.00925384824825), (643.5595883307869, 488.8924313979061), array([nan, nan]), array([nan, nan]), (643.5574804183402, 487.265377871481), (649.4785024812059, 484.0901567710937), (646.6562619897295, 486.98478475196447), (642.2997628677473, 490.29611710644303), (645.6367861651717, 486.7151443372147), (652.3937352203545, 489.9866941134687), (652.1424970997476, 490.215591965805), (652.8082414337719, 492.8534660930622), array([nan, nan]), array([nan, nan]), (650.8379782675273, 495.8746613523936), (642.2494276317117, 497.8007440190455), (641.6910495485679, 493.660369421159), (641.1208711090806, 492.1991558785266), (638.0315991410604, 498.4181144193025), (638.5141043449267, 494.49891516444666), (640.4072028156116, 497.9536394301967), (642.0058882533601, 497.50130846297145), (637.2387158568858, 494.22945944222516), (639.9325284228358, 489.86969092988994)]\n",
      "x=639.9325284228358\n",
      "liste des positions frame 42:[[652.2922077922079, 514.3701298701299], (652.6180143405277, 501.3899868054946), (652.0508540778346, 502.25456595075264), (653.5065079424955, 504.1941912514603), (645.7979828752552, 501.53879458963945), (644.8061886456463, 501.90175469479584), (645.8299450893071, 501.81612622439286), (643.5474555464955, 500.3743851426683), array([nan, nan]), (642.3515033718874, 499.9804505127362), (644.8679934126344, 498.36073490721645), (644.5558269154735, 496.80301319617433), (645.1237921981618, 496.5783030077491), (637.3402838784159, 493.5937138410586), (633.5797026866542, 494.9282076264845), (636.5448099417731, 496.4668333579294), array([nan, nan]), array([nan, nan]), (632.2537151434803, 499.00925384824825), (643.5595883307869, 488.8924313979061), array([nan, nan]), array([nan, nan]), (643.5574804183402, 487.265377871481), (649.4785024812059, 484.0901567710937), (646.6562619897295, 486.98478475196447), (642.2997628677473, 490.29611710644303), (645.6367861651717, 486.7151443372147), (652.3937352203545, 489.9866941134687), (652.1424970997476, 490.215591965805), (652.8082414337719, 492.8534660930622), array([nan, nan]), array([nan, nan]), (650.8379782675273, 495.8746613523936), (642.2494276317117, 497.8007440190455), (641.6910495485679, 493.660369421159), (641.1208711090806, 492.1991558785266), (638.0315991410604, 498.4181144193025), (638.5141043449267, 494.49891516444666), (640.4072028156116, 497.9536394301967), (642.0058882533601, 497.50130846297145), (637.2387158568858, 494.22945944222516), (639.9325284228358, 489.86969092988994), (640.5843713348982, 486.2730052613813)]\n",
      "x=640.5843713348982\n",
      "liste des positions frame 43:[[652.2922077922079, 514.3701298701299], (652.6180143405277, 501.3899868054946), (652.0508540778346, 502.25456595075264), (653.5065079424955, 504.1941912514603), (645.7979828752552, 501.53879458963945), (644.8061886456463, 501.90175469479584), (645.8299450893071, 501.81612622439286), (643.5474555464955, 500.3743851426683), array([nan, nan]), (642.3515033718874, 499.9804505127362), (644.8679934126344, 498.36073490721645), (644.5558269154735, 496.80301319617433), (645.1237921981618, 496.5783030077491), (637.3402838784159, 493.5937138410586), (633.5797026866542, 494.9282076264845), (636.5448099417731, 496.4668333579294), array([nan, nan]), array([nan, nan]), (632.2537151434803, 499.00925384824825), (643.5595883307869, 488.8924313979061), array([nan, nan]), array([nan, nan]), (643.5574804183402, 487.265377871481), (649.4785024812059, 484.0901567710937), (646.6562619897295, 486.98478475196447), (642.2997628677473, 490.29611710644303), (645.6367861651717, 486.7151443372147), (652.3937352203545, 489.9866941134687), (652.1424970997476, 490.215591965805), (652.8082414337719, 492.8534660930622), array([nan, nan]), array([nan, nan]), (650.8379782675273, 495.8746613523936), (642.2494276317117, 497.8007440190455), (641.6910495485679, 493.660369421159), (641.1208711090806, 492.1991558785266), (638.0315991410604, 498.4181144193025), (638.5141043449267, 494.49891516444666), (640.4072028156116, 497.9536394301967), (642.0058882533601, 497.50130846297145), (637.2387158568858, 494.22945944222516), (639.9325284228358, 489.86969092988994), (640.5843713348982, 486.2730052613813), (637.6285930624664, 485.59006260916084)]\n",
      "x=637.6285930624664\n",
      "liste des positions frame 44:[[652.2922077922079, 514.3701298701299], (652.6180143405277, 501.3899868054946), (652.0508540778346, 502.25456595075264), (653.5065079424955, 504.1941912514603), (645.7979828752552, 501.53879458963945), (644.8061886456463, 501.90175469479584), (645.8299450893071, 501.81612622439286), (643.5474555464955, 500.3743851426683), array([nan, nan]), (642.3515033718874, 499.9804505127362), (644.8679934126344, 498.36073490721645), (644.5558269154735, 496.80301319617433), (645.1237921981618, 496.5783030077491), (637.3402838784159, 493.5937138410586), (633.5797026866542, 494.9282076264845), (636.5448099417731, 496.4668333579294), array([nan, nan]), array([nan, nan]), (632.2537151434803, 499.00925384824825), (643.5595883307869, 488.8924313979061), array([nan, nan]), array([nan, nan]), (643.5574804183402, 487.265377871481), (649.4785024812059, 484.0901567710937), (646.6562619897295, 486.98478475196447), (642.2997628677473, 490.29611710644303), (645.6367861651717, 486.7151443372147), (652.3937352203545, 489.9866941134687), (652.1424970997476, 490.215591965805), (652.8082414337719, 492.8534660930622), array([nan, nan]), array([nan, nan]), (650.8379782675273, 495.8746613523936), (642.2494276317117, 497.8007440190455), (641.6910495485679, 493.660369421159), (641.1208711090806, 492.1991558785266), (638.0315991410604, 498.4181144193025), (638.5141043449267, 494.49891516444666), (640.4072028156116, 497.9536394301967), (642.0058882533601, 497.50130846297145), (637.2387158568858, 494.22945944222516), (639.9325284228358, 489.86969092988994), (640.5843713348982, 486.2730052613813), (637.6285930624664, 485.59006260916084), (636.2671098413556, 485.3028867858365)]\n",
      "x=636.2671098413556\n",
      "liste des positions frame 45:[[652.2922077922079, 514.3701298701299], (652.6180143405277, 501.3899868054946), (652.0508540778346, 502.25456595075264), (653.5065079424955, 504.1941912514603), (645.7979828752552, 501.53879458963945), (644.8061886456463, 501.90175469479584), (645.8299450893071, 501.81612622439286), (643.5474555464955, 500.3743851426683), array([nan, nan]), (642.3515033718874, 499.9804505127362), (644.8679934126344, 498.36073490721645), (644.5558269154735, 496.80301319617433), (645.1237921981618, 496.5783030077491), (637.3402838784159, 493.5937138410586), (633.5797026866542, 494.9282076264845), (636.5448099417731, 496.4668333579294), array([nan, nan]), array([nan, nan]), (632.2537151434803, 499.00925384824825), (643.5595883307869, 488.8924313979061), array([nan, nan]), array([nan, nan]), (643.5574804183402, 487.265377871481), (649.4785024812059, 484.0901567710937), (646.6562619897295, 486.98478475196447), (642.2997628677473, 490.29611710644303), (645.6367861651717, 486.7151443372147), (652.3937352203545, 489.9866941134687), (652.1424970997476, 490.215591965805), (652.8082414337719, 492.8534660930622), array([nan, nan]), array([nan, nan]), (650.8379782675273, 495.8746613523936), (642.2494276317117, 497.8007440190455), (641.6910495485679, 493.660369421159), (641.1208711090806, 492.1991558785266), (638.0315991410604, 498.4181144193025), (638.5141043449267, 494.49891516444666), (640.4072028156116, 497.9536394301967), (642.0058882533601, 497.50130846297145), (637.2387158568858, 494.22945944222516), (639.9325284228358, 489.86969092988994), (640.5843713348982, 486.2730052613813), (637.6285930624664, 485.59006260916084), (636.2671098413556, 485.3028867858365), (644.3721294620475, 483.87733853256407)]\n",
      "x=644.3721294620475\n",
      "liste des positions frame 46:[[652.2922077922079, 514.3701298701299], (652.6180143405277, 501.3899868054946), (652.0508540778346, 502.25456595075264), (653.5065079424955, 504.1941912514603), (645.7979828752552, 501.53879458963945), (644.8061886456463, 501.90175469479584), (645.8299450893071, 501.81612622439286), (643.5474555464955, 500.3743851426683), array([nan, nan]), (642.3515033718874, 499.9804505127362), (644.8679934126344, 498.36073490721645), (644.5558269154735, 496.80301319617433), (645.1237921981618, 496.5783030077491), (637.3402838784159, 493.5937138410586), (633.5797026866542, 494.9282076264845), (636.5448099417731, 496.4668333579294), array([nan, nan]), array([nan, nan]), (632.2537151434803, 499.00925384824825), (643.5595883307869, 488.8924313979061), array([nan, nan]), array([nan, nan]), (643.5574804183402, 487.265377871481), (649.4785024812059, 484.0901567710937), (646.6562619897295, 486.98478475196447), (642.2997628677473, 490.29611710644303), (645.6367861651717, 486.7151443372147), (652.3937352203545, 489.9866941134687), (652.1424970997476, 490.215591965805), (652.8082414337719, 492.8534660930622), array([nan, nan]), array([nan, nan]), (650.8379782675273, 495.8746613523936), (642.2494276317117, 497.8007440190455), (641.6910495485679, 493.660369421159), (641.1208711090806, 492.1991558785266), (638.0315991410604, 498.4181144193025), (638.5141043449267, 494.49891516444666), (640.4072028156116, 497.9536394301967), (642.0058882533601, 497.50130846297145), (637.2387158568858, 494.22945944222516), (639.9325284228358, 489.86969092988994), (640.5843713348982, 486.2730052613813), (637.6285930624664, 485.59006260916084), (636.2671098413556, 485.3028867858365), (644.3721294620475, 483.87733853256407), (639.2776263527577, 482.80400325174213)]\n",
      "x=639.2776263527577\n",
      "liste des positions frame 47:[[652.2922077922079, 514.3701298701299], (652.6180143405277, 501.3899868054946), (652.0508540778346, 502.25456595075264), (653.5065079424955, 504.1941912514603), (645.7979828752552, 501.53879458963945), (644.8061886456463, 501.90175469479584), (645.8299450893071, 501.81612622439286), (643.5474555464955, 500.3743851426683), array([nan, nan]), (642.3515033718874, 499.9804505127362), (644.8679934126344, 498.36073490721645), (644.5558269154735, 496.80301319617433), (645.1237921981618, 496.5783030077491), (637.3402838784159, 493.5937138410586), (633.5797026866542, 494.9282076264845), (636.5448099417731, 496.4668333579294), array([nan, nan]), array([nan, nan]), (632.2537151434803, 499.00925384824825), (643.5595883307869, 488.8924313979061), array([nan, nan]), array([nan, nan]), (643.5574804183402, 487.265377871481), (649.4785024812059, 484.0901567710937), (646.6562619897295, 486.98478475196447), (642.2997628677473, 490.29611710644303), (645.6367861651717, 486.7151443372147), (652.3937352203545, 489.9866941134687), (652.1424970997476, 490.215591965805), (652.8082414337719, 492.8534660930622), array([nan, nan]), array([nan, nan]), (650.8379782675273, 495.8746613523936), (642.2494276317117, 497.8007440190455), (641.6910495485679, 493.660369421159), (641.1208711090806, 492.1991558785266), (638.0315991410604, 498.4181144193025), (638.5141043449267, 494.49891516444666), (640.4072028156116, 497.9536394301967), (642.0058882533601, 497.50130846297145), (637.2387158568858, 494.22945944222516), (639.9325284228358, 489.86969092988994), (640.5843713348982, 486.2730052613813), (637.6285930624664, 485.59006260916084), (636.2671098413556, 485.3028867858365), (644.3721294620475, 483.87733853256407), (639.2776263527577, 482.80400325174213), (641.517280619049, 478.90221991611014)]\n",
      "x=641.517280619049\n",
      "ecrat: 18.545209176788124\n",
      "ecrat: 18.545209176788124\n",
      "écart:18.545209176788124\n",
      "liste des positions frame 48:[[652.2922077922079, 514.3701298701299], (652.6180143405277, 501.3899868054946), (652.0508540778346, 502.25456595075264), (653.5065079424955, 504.1941912514603), (645.7979828752552, 501.53879458963945), (644.8061886456463, 501.90175469479584), (645.8299450893071, 501.81612622439286), (643.5474555464955, 500.3743851426683), array([nan, nan]), (642.3515033718874, 499.9804505127362), (644.8679934126344, 498.36073490721645), (644.5558269154735, 496.80301319617433), (645.1237921981618, 496.5783030077491), (637.3402838784159, 493.5937138410586), (633.5797026866542, 494.9282076264845), (636.5448099417731, 496.4668333579294), array([nan, nan]), array([nan, nan]), (632.2537151434803, 499.00925384824825), (643.5595883307869, 488.8924313979061), array([nan, nan]), array([nan, nan]), (643.5574804183402, 487.265377871481), (649.4785024812059, 484.0901567710937), (646.6562619897295, 486.98478475196447), (642.2997628677473, 490.29611710644303), (645.6367861651717, 486.7151443372147), (652.3937352203545, 489.9866941134687), (652.1424970997476, 490.215591965805), (652.8082414337719, 492.8534660930622), array([nan, nan]), array([nan, nan]), (650.8379782675273, 495.8746613523936), (642.2494276317117, 497.8007440190455), (641.6910495485679, 493.660369421159), (641.1208711090806, 492.1991558785266), (638.0315991410604, 498.4181144193025), (638.5141043449267, 494.49891516444666), (640.4072028156116, 497.9536394301967), (642.0058882533601, 497.50130846297145), (637.2387158568858, 494.22945944222516), (639.9325284228358, 489.86969092988994), (640.5843713348982, 486.2730052613813), (637.6285930624664, 485.59006260916084), (636.2671098413556, 485.3028867858365), (644.3721294620475, 483.87733853256407), (639.2776263527577, 482.80400325174213), (641.517280619049, 478.90221991611014), (639.4024240039171, 477.82074852180216)]\n",
      "x=639.4024240039171\n",
      "liste des positions frame 49:[[652.2922077922079, 514.3701298701299], (652.6180143405277, 501.3899868054946), (652.0508540778346, 502.25456595075264), (653.5065079424955, 504.1941912514603), (645.7979828752552, 501.53879458963945), (644.8061886456463, 501.90175469479584), (645.8299450893071, 501.81612622439286), (643.5474555464955, 500.3743851426683), array([nan, nan]), (642.3515033718874, 499.9804505127362), (644.8679934126344, 498.36073490721645), (644.5558269154735, 496.80301319617433), (645.1237921981618, 496.5783030077491), (637.3402838784159, 493.5937138410586), (633.5797026866542, 494.9282076264845), (636.5448099417731, 496.4668333579294), array([nan, nan]), array([nan, nan]), (632.2537151434803, 499.00925384824825), (643.5595883307869, 488.8924313979061), array([nan, nan]), array([nan, nan]), (643.5574804183402, 487.265377871481), (649.4785024812059, 484.0901567710937), (646.6562619897295, 486.98478475196447), (642.2997628677473, 490.29611710644303), (645.6367861651717, 486.7151443372147), (652.3937352203545, 489.9866941134687), (652.1424970997476, 490.215591965805), (652.8082414337719, 492.8534660930622), array([nan, nan]), array([nan, nan]), (650.8379782675273, 495.8746613523936), (642.2494276317117, 497.8007440190455), (641.6910495485679, 493.660369421159), (641.1208711090806, 492.1991558785266), (638.0315991410604, 498.4181144193025), (638.5141043449267, 494.49891516444666), (640.4072028156116, 497.9536394301967), (642.0058882533601, 497.50130846297145), (637.2387158568858, 494.22945944222516), (639.9325284228358, 489.86969092988994), (640.5843713348982, 486.2730052613813), (637.6285930624664, 485.59006260916084), (636.2671098413556, 485.3028867858365), (644.3721294620475, 483.87733853256407), (639.2776263527577, 482.80400325174213), (641.517280619049, 478.90221991611014), (639.4024240039171, 477.82074852180216), (642.6486157835241, 474.33626355923855)]\n",
      "x=642.6486157835241\n",
      "liste des positions frame 50:[[652.2922077922079, 514.3701298701299], (652.6180143405277, 501.3899868054946), (652.0508540778346, 502.25456595075264), (653.5065079424955, 504.1941912514603), (645.7979828752552, 501.53879458963945), (644.8061886456463, 501.90175469479584), (645.8299450893071, 501.81612622439286), (643.5474555464955, 500.3743851426683), array([nan, nan]), (642.3515033718874, 499.9804505127362), (644.8679934126344, 498.36073490721645), (644.5558269154735, 496.80301319617433), (645.1237921981618, 496.5783030077491), (637.3402838784159, 493.5937138410586), (633.5797026866542, 494.9282076264845), (636.5448099417731, 496.4668333579294), array([nan, nan]), array([nan, nan]), (632.2537151434803, 499.00925384824825), (643.5595883307869, 488.8924313979061), array([nan, nan]), array([nan, nan]), (643.5574804183402, 487.265377871481), (649.4785024812059, 484.0901567710937), (646.6562619897295, 486.98478475196447), (642.2997628677473, 490.29611710644303), (645.6367861651717, 486.7151443372147), (652.3937352203545, 489.9866941134687), (652.1424970997476, 490.215591965805), (652.8082414337719, 492.8534660930622), array([nan, nan]), array([nan, nan]), (650.8379782675273, 495.8746613523936), (642.2494276317117, 497.8007440190455), (641.6910495485679, 493.660369421159), (641.1208711090806, 492.1991558785266), (638.0315991410604, 498.4181144193025), (638.5141043449267, 494.49891516444666), (640.4072028156116, 497.9536394301967), (642.0058882533601, 497.50130846297145), (637.2387158568858, 494.22945944222516), (639.9325284228358, 489.86969092988994), (640.5843713348982, 486.2730052613813), (637.6285930624664, 485.59006260916084), (636.2671098413556, 485.3028867858365), (644.3721294620475, 483.87733853256407), (639.2776263527577, 482.80400325174213), (641.517280619049, 478.90221991611014), (639.4024240039171, 477.82074852180216), (642.6486157835241, 474.33626355923855), (641.6524838761956, 476.984564771188)]\n",
      "x=641.6524838761956\n",
      "frames vide:51\n",
      "liste des positions frame 51:[[652.2922077922079, 514.3701298701299], (652.6180143405277, 501.3899868054946), (652.0508540778346, 502.25456595075264), (653.5065079424955, 504.1941912514603), (645.7979828752552, 501.53879458963945), (644.8061886456463, 501.90175469479584), (645.8299450893071, 501.81612622439286), (643.5474555464955, 500.3743851426683), array([nan, nan]), (642.3515033718874, 499.9804505127362), (644.8679934126344, 498.36073490721645), (644.5558269154735, 496.80301319617433), (645.1237921981618, 496.5783030077491), (637.3402838784159, 493.5937138410586), (633.5797026866542, 494.9282076264845), (636.5448099417731, 496.4668333579294), array([nan, nan]), array([nan, nan]), (632.2537151434803, 499.00925384824825), (643.5595883307869, 488.8924313979061), array([nan, nan]), array([nan, nan]), (643.5574804183402, 487.265377871481), (649.4785024812059, 484.0901567710937), (646.6562619897295, 486.98478475196447), (642.2997628677473, 490.29611710644303), (645.6367861651717, 486.7151443372147), (652.3937352203545, 489.9866941134687), (652.1424970997476, 490.215591965805), (652.8082414337719, 492.8534660930622), array([nan, nan]), array([nan, nan]), (650.8379782675273, 495.8746613523936), (642.2494276317117, 497.8007440190455), (641.6910495485679, 493.660369421159), (641.1208711090806, 492.1991558785266), (638.0315991410604, 498.4181144193025), (638.5141043449267, 494.49891516444666), (640.4072028156116, 497.9536394301967), (642.0058882533601, 497.50130846297145), (637.2387158568858, 494.22945944222516), (639.9325284228358, 489.86969092988994), (640.5843713348982, 486.2730052613813), (637.6285930624664, 485.59006260916084), (636.2671098413556, 485.3028867858365), (644.3721294620475, 483.87733853256407), (639.2776263527577, 482.80400325174213), (641.517280619049, 478.90221991611014), (639.4024240039171, 477.82074852180216), (642.6486157835241, 474.33626355923855), (641.6524838761956, 476.984564771188), array([nan, nan])]\n",
      "x=641.6524838761956\n",
      "frames vide:52\n",
      "liste des positions frame 52:[[652.2922077922079, 514.3701298701299], (652.6180143405277, 501.3899868054946), (652.0508540778346, 502.25456595075264), (653.5065079424955, 504.1941912514603), (645.7979828752552, 501.53879458963945), (644.8061886456463, 501.90175469479584), (645.8299450893071, 501.81612622439286), (643.5474555464955, 500.3743851426683), array([nan, nan]), (642.3515033718874, 499.9804505127362), (644.8679934126344, 498.36073490721645), (644.5558269154735, 496.80301319617433), (645.1237921981618, 496.5783030077491), (637.3402838784159, 493.5937138410586), (633.5797026866542, 494.9282076264845), (636.5448099417731, 496.4668333579294), array([nan, nan]), array([nan, nan]), (632.2537151434803, 499.00925384824825), (643.5595883307869, 488.8924313979061), array([nan, nan]), array([nan, nan]), (643.5574804183402, 487.265377871481), (649.4785024812059, 484.0901567710937), (646.6562619897295, 486.98478475196447), (642.2997628677473, 490.29611710644303), (645.6367861651717, 486.7151443372147), (652.3937352203545, 489.9866941134687), (652.1424970997476, 490.215591965805), (652.8082414337719, 492.8534660930622), array([nan, nan]), array([nan, nan]), (650.8379782675273, 495.8746613523936), (642.2494276317117, 497.8007440190455), (641.6910495485679, 493.660369421159), (641.1208711090806, 492.1991558785266), (638.0315991410604, 498.4181144193025), (638.5141043449267, 494.49891516444666), (640.4072028156116, 497.9536394301967), (642.0058882533601, 497.50130846297145), (637.2387158568858, 494.22945944222516), (639.9325284228358, 489.86969092988994), (640.5843713348982, 486.2730052613813), (637.6285930624664, 485.59006260916084), (636.2671098413556, 485.3028867858365), (644.3721294620475, 483.87733853256407), (639.2776263527577, 482.80400325174213), (641.517280619049, 478.90221991611014), (639.4024240039171, 477.82074852180216), (642.6486157835241, 474.33626355923855), (641.6524838761956, 476.984564771188), array([nan, nan]), array([nan, nan])]\n",
      "x=641.6524838761956\n",
      "liste des positions frame 53:[[652.2922077922079, 514.3701298701299], (652.6180143405277, 501.3899868054946), (652.0508540778346, 502.25456595075264), (653.5065079424955, 504.1941912514603), (645.7979828752552, 501.53879458963945), (644.8061886456463, 501.90175469479584), (645.8299450893071, 501.81612622439286), (643.5474555464955, 500.3743851426683), array([nan, nan]), (642.3515033718874, 499.9804505127362), (644.8679934126344, 498.36073490721645), (644.5558269154735, 496.80301319617433), (645.1237921981618, 496.5783030077491), (637.3402838784159, 493.5937138410586), (633.5797026866542, 494.9282076264845), (636.5448099417731, 496.4668333579294), array([nan, nan]), array([nan, nan]), (632.2537151434803, 499.00925384824825), (643.5595883307869, 488.8924313979061), array([nan, nan]), array([nan, nan]), (643.5574804183402, 487.265377871481), (649.4785024812059, 484.0901567710937), (646.6562619897295, 486.98478475196447), (642.2997628677473, 490.29611710644303), (645.6367861651717, 486.7151443372147), (652.3937352203545, 489.9866941134687), (652.1424970997476, 490.215591965805), (652.8082414337719, 492.8534660930622), array([nan, nan]), array([nan, nan]), (650.8379782675273, 495.8746613523936), (642.2494276317117, 497.8007440190455), (641.6910495485679, 493.660369421159), (641.1208711090806, 492.1991558785266), (638.0315991410604, 498.4181144193025), (638.5141043449267, 494.49891516444666), (640.4072028156116, 497.9536394301967), (642.0058882533601, 497.50130846297145), (637.2387158568858, 494.22945944222516), (639.9325284228358, 489.86969092988994), (640.5843713348982, 486.2730052613813), (637.6285930624664, 485.59006260916084), (636.2671098413556, 485.3028867858365), (644.3721294620475, 483.87733853256407), (639.2776263527577, 482.80400325174213), (641.517280619049, 478.90221991611014), (639.4024240039171, 477.82074852180216), (642.6486157835241, 474.33626355923855), (641.6524838761956, 476.984564771188), array([nan, nan]), array([nan, nan]), (639.0315537021044, 477.87230937284704)]\n",
      "x=639.0315537021044\n",
      "liste des positions frame 54:[[652.2922077922079, 514.3701298701299], (652.6180143405277, 501.3899868054946), (652.0508540778346, 502.25456595075264), (653.5065079424955, 504.1941912514603), (645.7979828752552, 501.53879458963945), (644.8061886456463, 501.90175469479584), (645.8299450893071, 501.81612622439286), (643.5474555464955, 500.3743851426683), array([nan, nan]), (642.3515033718874, 499.9804505127362), (644.8679934126344, 498.36073490721645), (644.5558269154735, 496.80301319617433), (645.1237921981618, 496.5783030077491), (637.3402838784159, 493.5937138410586), (633.5797026866542, 494.9282076264845), (636.5448099417731, 496.4668333579294), array([nan, nan]), array([nan, nan]), (632.2537151434803, 499.00925384824825), (643.5595883307869, 488.8924313979061), array([nan, nan]), array([nan, nan]), (643.5574804183402, 487.265377871481), (649.4785024812059, 484.0901567710937), (646.6562619897295, 486.98478475196447), (642.2997628677473, 490.29611710644303), (645.6367861651717, 486.7151443372147), (652.3937352203545, 489.9866941134687), (652.1424970997476, 490.215591965805), (652.8082414337719, 492.8534660930622), array([nan, nan]), array([nan, nan]), (650.8379782675273, 495.8746613523936), (642.2494276317117, 497.8007440190455), (641.6910495485679, 493.660369421159), (641.1208711090806, 492.1991558785266), (638.0315991410604, 498.4181144193025), (638.5141043449267, 494.49891516444666), (640.4072028156116, 497.9536394301967), (642.0058882533601, 497.50130846297145), (637.2387158568858, 494.22945944222516), (639.9325284228358, 489.86969092988994), (640.5843713348982, 486.2730052613813), (637.6285930624664, 485.59006260916084), (636.2671098413556, 485.3028867858365), (644.3721294620475, 483.87733853256407), (639.2776263527577, 482.80400325174213), (641.517280619049, 478.90221991611014), (639.4024240039171, 477.82074852180216), (642.6486157835241, 474.33626355923855), (641.6524838761956, 476.984564771188), array([nan, nan]), array([nan, nan]), (639.0315537021044, 477.87230937284704), (640.332467669907, 470.54777677710075)]\n",
      "x=640.332467669907\n",
      "ecrat: 20.741966893865627\n",
      "ecrat: 20.741966893865627\n",
      "écart:20.741966893865627\n",
      "liste des positions frame 55:[[652.2922077922079, 514.3701298701299], (652.6180143405277, 501.3899868054946), (652.0508540778346, 502.25456595075264), (653.5065079424955, 504.1941912514603), (645.7979828752552, 501.53879458963945), (644.8061886456463, 501.90175469479584), (645.8299450893071, 501.81612622439286), (643.5474555464955, 500.3743851426683), array([nan, nan]), (642.3515033718874, 499.9804505127362), (644.8679934126344, 498.36073490721645), (644.5558269154735, 496.80301319617433), (645.1237921981618, 496.5783030077491), (637.3402838784159, 493.5937138410586), (633.5797026866542, 494.9282076264845), (636.5448099417731, 496.4668333579294), array([nan, nan]), array([nan, nan]), (632.2537151434803, 499.00925384824825), (643.5595883307869, 488.8924313979061), array([nan, nan]), array([nan, nan]), (643.5574804183402, 487.265377871481), (649.4785024812059, 484.0901567710937), (646.6562619897295, 486.98478475196447), (642.2997628677473, 490.29611710644303), (645.6367861651717, 486.7151443372147), (652.3937352203545, 489.9866941134687), (652.1424970997476, 490.215591965805), (652.8082414337719, 492.8534660930622), array([nan, nan]), array([nan, nan]), (650.8379782675273, 495.8746613523936), (642.2494276317117, 497.8007440190455), (641.6910495485679, 493.660369421159), (641.1208711090806, 492.1991558785266), (638.0315991410604, 498.4181144193025), (638.5141043449267, 494.49891516444666), (640.4072028156116, 497.9536394301967), (642.0058882533601, 497.50130846297145), (637.2387158568858, 494.22945944222516), (639.9325284228358, 489.86969092988994), (640.5843713348982, 486.2730052613813), (637.6285930624664, 485.59006260916084), (636.2671098413556, 485.3028867858365), (644.3721294620475, 483.87733853256407), (639.2776263527577, 482.80400325174213), (641.517280619049, 478.90221991611014), (639.4024240039171, 477.82074852180216), (642.6486157835241, 474.33626355923855), (641.6524838761956, 476.984564771188), array([nan, nan]), array([nan, nan]), (639.0315537021044, 477.87230937284704), (640.332467669907, 470.54777677710075), (643.2044730597228, 467.7936023806248)]\n",
      "x=643.2044730597228\n",
      "ecrat: 24.862298195631528\n",
      "ecrat: 24.862298195631528\n",
      "écart:24.862298195631528\n",
      "liste des positions frame 56:[[652.2922077922079, 514.3701298701299], (652.6180143405277, 501.3899868054946), (652.0508540778346, 502.25456595075264), (653.5065079424955, 504.1941912514603), (645.7979828752552, 501.53879458963945), (644.8061886456463, 501.90175469479584), (645.8299450893071, 501.81612622439286), (643.5474555464955, 500.3743851426683), array([nan, nan]), (642.3515033718874, 499.9804505127362), (644.8679934126344, 498.36073490721645), (644.5558269154735, 496.80301319617433), (645.1237921981618, 496.5783030077491), (637.3402838784159, 493.5937138410586), (633.5797026866542, 494.9282076264845), (636.5448099417731, 496.4668333579294), array([nan, nan]), array([nan, nan]), (632.2537151434803, 499.00925384824825), (643.5595883307869, 488.8924313979061), array([nan, nan]), array([nan, nan]), (643.5574804183402, 487.265377871481), (649.4785024812059, 484.0901567710937), (646.6562619897295, 486.98478475196447), (642.2997628677473, 490.29611710644303), (645.6367861651717, 486.7151443372147), (652.3937352203545, 489.9866941134687), (652.1424970997476, 490.215591965805), (652.8082414337719, 492.8534660930622), array([nan, nan]), array([nan, nan]), (650.8379782675273, 495.8746613523936), (642.2494276317117, 497.8007440190455), (641.6910495485679, 493.660369421159), (641.1208711090806, 492.1991558785266), (638.0315991410604, 498.4181144193025), (638.5141043449267, 494.49891516444666), (640.4072028156116, 497.9536394301967), (642.0058882533601, 497.50130846297145), (637.2387158568858, 494.22945944222516), (639.9325284228358, 489.86969092988994), (640.5843713348982, 486.2730052613813), (637.6285930624664, 485.59006260916084), (636.2671098413556, 485.3028867858365), (644.3721294620475, 483.87733853256407), (639.2776263527577, 482.80400325174213), (641.517280619049, 478.90221991611014), (639.4024240039171, 477.82074852180216), (642.6486157835241, 474.33626355923855), (641.6524838761956, 476.984564771188), array([nan, nan]), array([nan, nan]), (639.0315537021044, 477.87230937284704), (640.332467669907, 470.54777677710075), (643.2044730597228, 467.7936023806248), (642.9648419030594, 467.3665143557921)]\n",
      "x=642.9648419030594\n",
      "liste des positions frame 57:[[652.2922077922079, 514.3701298701299], (652.6180143405277, 501.3899868054946), (652.0508540778346, 502.25456595075264), (653.5065079424955, 504.1941912514603), (645.7979828752552, 501.53879458963945), (644.8061886456463, 501.90175469479584), (645.8299450893071, 501.81612622439286), (643.5474555464955, 500.3743851426683), array([nan, nan]), (642.3515033718874, 499.9804505127362), (644.8679934126344, 498.36073490721645), (644.5558269154735, 496.80301319617433), (645.1237921981618, 496.5783030077491), (637.3402838784159, 493.5937138410586), (633.5797026866542, 494.9282076264845), (636.5448099417731, 496.4668333579294), array([nan, nan]), array([nan, nan]), (632.2537151434803, 499.00925384824825), (643.5595883307869, 488.8924313979061), array([nan, nan]), array([nan, nan]), (643.5574804183402, 487.265377871481), (649.4785024812059, 484.0901567710937), (646.6562619897295, 486.98478475196447), (642.2997628677473, 490.29611710644303), (645.6367861651717, 486.7151443372147), (652.3937352203545, 489.9866941134687), (652.1424970997476, 490.215591965805), (652.8082414337719, 492.8534660930622), array([nan, nan]), array([nan, nan]), (650.8379782675273, 495.8746613523936), (642.2494276317117, 497.8007440190455), (641.6910495485679, 493.660369421159), (641.1208711090806, 492.1991558785266), (638.0315991410604, 498.4181144193025), (638.5141043449267, 494.49891516444666), (640.4072028156116, 497.9536394301967), (642.0058882533601, 497.50130846297145), (637.2387158568858, 494.22945944222516), (639.9325284228358, 489.86969092988994), (640.5843713348982, 486.2730052613813), (637.6285930624664, 485.59006260916084), (636.2671098413556, 485.3028867858365), (644.3721294620475, 483.87733853256407), (639.2776263527577, 482.80400325174213), (641.517280619049, 478.90221991611014), (639.4024240039171, 477.82074852180216), (642.6486157835241, 474.33626355923855), (641.6524838761956, 476.984564771188), array([nan, nan]), array([nan, nan]), (639.0315537021044, 477.87230937284704), (640.332467669907, 470.54777677710075), (643.2044730597228, 467.7936023806248), (642.9648419030594, 467.3665143557921), (640.3852052172507, 473.89640304223974)]\n",
      "x=640.3852052172507\n",
      "liste des positions frame 58:[[652.2922077922079, 514.3701298701299], (652.6180143405277, 501.3899868054946), (652.0508540778346, 502.25456595075264), (653.5065079424955, 504.1941912514603), (645.7979828752552, 501.53879458963945), (644.8061886456463, 501.90175469479584), (645.8299450893071, 501.81612622439286), (643.5474555464955, 500.3743851426683), array([nan, nan]), (642.3515033718874, 499.9804505127362), (644.8679934126344, 498.36073490721645), (644.5558269154735, 496.80301319617433), (645.1237921981618, 496.5783030077491), (637.3402838784159, 493.5937138410586), (633.5797026866542, 494.9282076264845), (636.5448099417731, 496.4668333579294), array([nan, nan]), array([nan, nan]), (632.2537151434803, 499.00925384824825), (643.5595883307869, 488.8924313979061), array([nan, nan]), array([nan, nan]), (643.5574804183402, 487.265377871481), (649.4785024812059, 484.0901567710937), (646.6562619897295, 486.98478475196447), (642.2997628677473, 490.29611710644303), (645.6367861651717, 486.7151443372147), (652.3937352203545, 489.9866941134687), (652.1424970997476, 490.215591965805), (652.8082414337719, 492.8534660930622), array([nan, nan]), array([nan, nan]), (650.8379782675273, 495.8746613523936), (642.2494276317117, 497.8007440190455), (641.6910495485679, 493.660369421159), (641.1208711090806, 492.1991558785266), (638.0315991410604, 498.4181144193025), (638.5141043449267, 494.49891516444666), (640.4072028156116, 497.9536394301967), (642.0058882533601, 497.50130846297145), (637.2387158568858, 494.22945944222516), (639.9325284228358, 489.86969092988994), (640.5843713348982, 486.2730052613813), (637.6285930624664, 485.59006260916084), (636.2671098413556, 485.3028867858365), (644.3721294620475, 483.87733853256407), (639.2776263527577, 482.80400325174213), (641.517280619049, 478.90221991611014), (639.4024240039171, 477.82074852180216), (642.6486157835241, 474.33626355923855), (641.6524838761956, 476.984564771188), array([nan, nan]), array([nan, nan]), (639.0315537021044, 477.87230937284704), (640.332467669907, 470.54777677710075), (643.2044730597228, 467.7936023806248), (642.9648419030594, 467.3665143557921), (640.3852052172507, 473.89640304223974), (635.0612308678376, 474.0439464826028)]\n",
      "x=635.0612308678376\n",
      "liste des positions frame 59:[[652.2922077922079, 514.3701298701299], (652.6180143405277, 501.3899868054946), (652.0508540778346, 502.25456595075264), (653.5065079424955, 504.1941912514603), (645.7979828752552, 501.53879458963945), (644.8061886456463, 501.90175469479584), (645.8299450893071, 501.81612622439286), (643.5474555464955, 500.3743851426683), array([nan, nan]), (642.3515033718874, 499.9804505127362), (644.8679934126344, 498.36073490721645), (644.5558269154735, 496.80301319617433), (645.1237921981618, 496.5783030077491), (637.3402838784159, 493.5937138410586), (633.5797026866542, 494.9282076264845), (636.5448099417731, 496.4668333579294), array([nan, nan]), array([nan, nan]), (632.2537151434803, 499.00925384824825), (643.5595883307869, 488.8924313979061), array([nan, nan]), array([nan, nan]), (643.5574804183402, 487.265377871481), (649.4785024812059, 484.0901567710937), (646.6562619897295, 486.98478475196447), (642.2997628677473, 490.29611710644303), (645.6367861651717, 486.7151443372147), (652.3937352203545, 489.9866941134687), (652.1424970997476, 490.215591965805), (652.8082414337719, 492.8534660930622), array([nan, nan]), array([nan, nan]), (650.8379782675273, 495.8746613523936), (642.2494276317117, 497.8007440190455), (641.6910495485679, 493.660369421159), (641.1208711090806, 492.1991558785266), (638.0315991410604, 498.4181144193025), (638.5141043449267, 494.49891516444666), (640.4072028156116, 497.9536394301967), (642.0058882533601, 497.50130846297145), (637.2387158568858, 494.22945944222516), (639.9325284228358, 489.86969092988994), (640.5843713348982, 486.2730052613813), (637.6285930624664, 485.59006260916084), (636.2671098413556, 485.3028867858365), (644.3721294620475, 483.87733853256407), (639.2776263527577, 482.80400325174213), (641.517280619049, 478.90221991611014), (639.4024240039171, 477.82074852180216), (642.6486157835241, 474.33626355923855), (641.6524838761956, 476.984564771188), array([nan, nan]), array([nan, nan]), (639.0315537021044, 477.87230937284704), (640.332467669907, 470.54777677710075), (643.2044730597228, 467.7936023806248), (642.9648419030594, 467.3665143557921), (640.3852052172507, 473.89640304223974), (635.0612308678376, 474.0439464826028), (636.4143509581713, 472.28458121110515)]\n",
      "x=636.4143509581713\n",
      "ecrat: 22.37179487179487\n",
      "ecrat: 14.258241758241756\n",
      "écart:14.258241758241756\n",
      "liste des positions frame 60:[[652.2922077922079, 514.3701298701299], (652.6180143405277, 501.3899868054946), (652.0508540778346, 502.25456595075264), (653.5065079424955, 504.1941912514603), (645.7979828752552, 501.53879458963945), (644.8061886456463, 501.90175469479584), (645.8299450893071, 501.81612622439286), (643.5474555464955, 500.3743851426683), array([nan, nan]), (642.3515033718874, 499.9804505127362), (644.8679934126344, 498.36073490721645), (644.5558269154735, 496.80301319617433), (645.1237921981618, 496.5783030077491), (637.3402838784159, 493.5937138410586), (633.5797026866542, 494.9282076264845), (636.5448099417731, 496.4668333579294), array([nan, nan]), array([nan, nan]), (632.2537151434803, 499.00925384824825), (643.5595883307869, 488.8924313979061), array([nan, nan]), array([nan, nan]), (643.5574804183402, 487.265377871481), (649.4785024812059, 484.0901567710937), (646.6562619897295, 486.98478475196447), (642.2997628677473, 490.29611710644303), (645.6367861651717, 486.7151443372147), (652.3937352203545, 489.9866941134687), (652.1424970997476, 490.215591965805), (652.8082414337719, 492.8534660930622), array([nan, nan]), array([nan, nan]), (650.8379782675273, 495.8746613523936), (642.2494276317117, 497.8007440190455), (641.6910495485679, 493.660369421159), (641.1208711090806, 492.1991558785266), (638.0315991410604, 498.4181144193025), (638.5141043449267, 494.49891516444666), (640.4072028156116, 497.9536394301967), (642.0058882533601, 497.50130846297145), (637.2387158568858, 494.22945944222516), (639.9325284228358, 489.86969092988994), (640.5843713348982, 486.2730052613813), (637.6285930624664, 485.59006260916084), (636.2671098413556, 485.3028867858365), (644.3721294620475, 483.87733853256407), (639.2776263527577, 482.80400325174213), (641.517280619049, 478.90221991611014), (639.4024240039171, 477.82074852180216), (642.6486157835241, 474.33626355923855), (641.6524838761956, 476.984564771188), array([nan, nan]), array([nan, nan]), (639.0315537021044, 477.87230937284704), (640.332467669907, 470.54777677710075), (643.2044730597228, 467.7936023806248), (642.9648419030594, 467.3665143557921), (640.3852052172507, 473.89640304223974), (635.0612308678376, 474.0439464826028), (636.4143509581713, 472.28458121110515), (636.6543944500941, 471.05317553319793)]\n",
      "x=636.6543944500941\n",
      "liste des positions frame 61:[[652.2922077922079, 514.3701298701299], (652.6180143405277, 501.3899868054946), (652.0508540778346, 502.25456595075264), (653.5065079424955, 504.1941912514603), (645.7979828752552, 501.53879458963945), (644.8061886456463, 501.90175469479584), (645.8299450893071, 501.81612622439286), (643.5474555464955, 500.3743851426683), array([nan, nan]), (642.3515033718874, 499.9804505127362), (644.8679934126344, 498.36073490721645), (644.5558269154735, 496.80301319617433), (645.1237921981618, 496.5783030077491), (637.3402838784159, 493.5937138410586), (633.5797026866542, 494.9282076264845), (636.5448099417731, 496.4668333579294), array([nan, nan]), array([nan, nan]), (632.2537151434803, 499.00925384824825), (643.5595883307869, 488.8924313979061), array([nan, nan]), array([nan, nan]), (643.5574804183402, 487.265377871481), (649.4785024812059, 484.0901567710937), (646.6562619897295, 486.98478475196447), (642.2997628677473, 490.29611710644303), (645.6367861651717, 486.7151443372147), (652.3937352203545, 489.9866941134687), (652.1424970997476, 490.215591965805), (652.8082414337719, 492.8534660930622), array([nan, nan]), array([nan, nan]), (650.8379782675273, 495.8746613523936), (642.2494276317117, 497.8007440190455), (641.6910495485679, 493.660369421159), (641.1208711090806, 492.1991558785266), (638.0315991410604, 498.4181144193025), (638.5141043449267, 494.49891516444666), (640.4072028156116, 497.9536394301967), (642.0058882533601, 497.50130846297145), (637.2387158568858, 494.22945944222516), (639.9325284228358, 489.86969092988994), (640.5843713348982, 486.2730052613813), (637.6285930624664, 485.59006260916084), (636.2671098413556, 485.3028867858365), (644.3721294620475, 483.87733853256407), (639.2776263527577, 482.80400325174213), (641.517280619049, 478.90221991611014), (639.4024240039171, 477.82074852180216), (642.6486157835241, 474.33626355923855), (641.6524838761956, 476.984564771188), array([nan, nan]), array([nan, nan]), (639.0315537021044, 477.87230937284704), (640.332467669907, 470.54777677710075), (643.2044730597228, 467.7936023806248), (642.9648419030594, 467.3665143557921), (640.3852052172507, 473.89640304223974), (635.0612308678376, 474.0439464826028), (636.4143509581713, 472.28458121110515), (636.6543944500941, 471.05317553319793), (638.7461588619467, 465.90057616958467)]\n",
      "x=638.7461588619467\n",
      "liste des positions frame 62:[[652.2922077922079, 514.3701298701299], (652.6180143405277, 501.3899868054946), (652.0508540778346, 502.25456595075264), (653.5065079424955, 504.1941912514603), (645.7979828752552, 501.53879458963945), (644.8061886456463, 501.90175469479584), (645.8299450893071, 501.81612622439286), (643.5474555464955, 500.3743851426683), array([nan, nan]), (642.3515033718874, 499.9804505127362), (644.8679934126344, 498.36073490721645), (644.5558269154735, 496.80301319617433), (645.1237921981618, 496.5783030077491), (637.3402838784159, 493.5937138410586), (633.5797026866542, 494.9282076264845), (636.5448099417731, 496.4668333579294), array([nan, nan]), array([nan, nan]), (632.2537151434803, 499.00925384824825), (643.5595883307869, 488.8924313979061), array([nan, nan]), array([nan, nan]), (643.5574804183402, 487.265377871481), (649.4785024812059, 484.0901567710937), (646.6562619897295, 486.98478475196447), (642.2997628677473, 490.29611710644303), (645.6367861651717, 486.7151443372147), (652.3937352203545, 489.9866941134687), (652.1424970997476, 490.215591965805), (652.8082414337719, 492.8534660930622), array([nan, nan]), array([nan, nan]), (650.8379782675273, 495.8746613523936), (642.2494276317117, 497.8007440190455), (641.6910495485679, 493.660369421159), (641.1208711090806, 492.1991558785266), (638.0315991410604, 498.4181144193025), (638.5141043449267, 494.49891516444666), (640.4072028156116, 497.9536394301967), (642.0058882533601, 497.50130846297145), (637.2387158568858, 494.22945944222516), (639.9325284228358, 489.86969092988994), (640.5843713348982, 486.2730052613813), (637.6285930624664, 485.59006260916084), (636.2671098413556, 485.3028867858365), (644.3721294620475, 483.87733853256407), (639.2776263527577, 482.80400325174213), (641.517280619049, 478.90221991611014), (639.4024240039171, 477.82074852180216), (642.6486157835241, 474.33626355923855), (641.6524838761956, 476.984564771188), array([nan, nan]), array([nan, nan]), (639.0315537021044, 477.87230937284704), (640.332467669907, 470.54777677710075), (643.2044730597228, 467.7936023806248), (642.9648419030594, 467.3665143557921), (640.3852052172507, 473.89640304223974), (635.0612308678376, 474.0439464826028), (636.4143509581713, 472.28458121110515), (636.6543944500941, 471.05317553319793), (638.7461588619467, 465.90057616958467), (645.7128783152287, 466.2740580939521)]\n",
      "x=645.7128783152287\n",
      "liste des positions frame 63:[[652.2922077922079, 514.3701298701299], (652.6180143405277, 501.3899868054946), (652.0508540778346, 502.25456595075264), (653.5065079424955, 504.1941912514603), (645.7979828752552, 501.53879458963945), (644.8061886456463, 501.90175469479584), (645.8299450893071, 501.81612622439286), (643.5474555464955, 500.3743851426683), array([nan, nan]), (642.3515033718874, 499.9804505127362), (644.8679934126344, 498.36073490721645), (644.5558269154735, 496.80301319617433), (645.1237921981618, 496.5783030077491), (637.3402838784159, 493.5937138410586), (633.5797026866542, 494.9282076264845), (636.5448099417731, 496.4668333579294), array([nan, nan]), array([nan, nan]), (632.2537151434803, 499.00925384824825), (643.5595883307869, 488.8924313979061), array([nan, nan]), array([nan, nan]), (643.5574804183402, 487.265377871481), (649.4785024812059, 484.0901567710937), (646.6562619897295, 486.98478475196447), (642.2997628677473, 490.29611710644303), (645.6367861651717, 486.7151443372147), (652.3937352203545, 489.9866941134687), (652.1424970997476, 490.215591965805), (652.8082414337719, 492.8534660930622), array([nan, nan]), array([nan, nan]), (650.8379782675273, 495.8746613523936), (642.2494276317117, 497.8007440190455), (641.6910495485679, 493.660369421159), (641.1208711090806, 492.1991558785266), (638.0315991410604, 498.4181144193025), (638.5141043449267, 494.49891516444666), (640.4072028156116, 497.9536394301967), (642.0058882533601, 497.50130846297145), (637.2387158568858, 494.22945944222516), (639.9325284228358, 489.86969092988994), (640.5843713348982, 486.2730052613813), (637.6285930624664, 485.59006260916084), (636.2671098413556, 485.3028867858365), (644.3721294620475, 483.87733853256407), (639.2776263527577, 482.80400325174213), (641.517280619049, 478.90221991611014), (639.4024240039171, 477.82074852180216), (642.6486157835241, 474.33626355923855), (641.6524838761956, 476.984564771188), array([nan, nan]), array([nan, nan]), (639.0315537021044, 477.87230937284704), (640.332467669907, 470.54777677710075), (643.2044730597228, 467.7936023806248), (642.9648419030594, 467.3665143557921), (640.3852052172507, 473.89640304223974), (635.0612308678376, 474.0439464826028), (636.4143509581713, 472.28458121110515), (636.6543944500941, 471.05317553319793), (638.7461588619467, 465.90057616958467), (645.7128783152287, 466.2740580939521), (644.0841678845311, 470.2423866913689)]\n",
      "x=644.0841678845311\n",
      "liste des positions frame 64:[[652.2922077922079, 514.3701298701299], (652.6180143405277, 501.3899868054946), (652.0508540778346, 502.25456595075264), (653.5065079424955, 504.1941912514603), (645.7979828752552, 501.53879458963945), (644.8061886456463, 501.90175469479584), (645.8299450893071, 501.81612622439286), (643.5474555464955, 500.3743851426683), array([nan, nan]), (642.3515033718874, 499.9804505127362), (644.8679934126344, 498.36073490721645), (644.5558269154735, 496.80301319617433), (645.1237921981618, 496.5783030077491), (637.3402838784159, 493.5937138410586), (633.5797026866542, 494.9282076264845), (636.5448099417731, 496.4668333579294), array([nan, nan]), array([nan, nan]), (632.2537151434803, 499.00925384824825), (643.5595883307869, 488.8924313979061), array([nan, nan]), array([nan, nan]), (643.5574804183402, 487.265377871481), (649.4785024812059, 484.0901567710937), (646.6562619897295, 486.98478475196447), (642.2997628677473, 490.29611710644303), (645.6367861651717, 486.7151443372147), (652.3937352203545, 489.9866941134687), (652.1424970997476, 490.215591965805), (652.8082414337719, 492.8534660930622), array([nan, nan]), array([nan, nan]), (650.8379782675273, 495.8746613523936), (642.2494276317117, 497.8007440190455), (641.6910495485679, 493.660369421159), (641.1208711090806, 492.1991558785266), (638.0315991410604, 498.4181144193025), (638.5141043449267, 494.49891516444666), (640.4072028156116, 497.9536394301967), (642.0058882533601, 497.50130846297145), (637.2387158568858, 494.22945944222516), (639.9325284228358, 489.86969092988994), (640.5843713348982, 486.2730052613813), (637.6285930624664, 485.59006260916084), (636.2671098413556, 485.3028867858365), (644.3721294620475, 483.87733853256407), (639.2776263527577, 482.80400325174213), (641.517280619049, 478.90221991611014), (639.4024240039171, 477.82074852180216), (642.6486157835241, 474.33626355923855), (641.6524838761956, 476.984564771188), array([nan, nan]), array([nan, nan]), (639.0315537021044, 477.87230937284704), (640.332467669907, 470.54777677710075), (643.2044730597228, 467.7936023806248), (642.9648419030594, 467.3665143557921), (640.3852052172507, 473.89640304223974), (635.0612308678376, 474.0439464826028), (636.4143509581713, 472.28458121110515), (636.6543944500941, 471.05317553319793), (638.7461588619467, 465.90057616958467), (645.7128783152287, 466.2740580939521), (644.0841678845311, 470.2423866913689), (638.6537619356541, 464.0193704395763)]\n"
     ]
    }
   ],
   "source": [
    "taille_initiale, luminosité_initiale, seuil = empreinte_digitale(crop(img,x,y,35,35))\n",
    "print(f'position initiale: {position_list}')\n",
    "\n",
    "for i in range(first_frame+1,actual_frames):\n",
    "    tiff.seek(i)\n",
    "    if np.sum(np.array(tiff))==0:\n",
    "        print(f'x={x}')\n",
    "        position_list.append(np.array([np.nan,np.nan]))\n",
    "        sigma_list.append(np.array([np.nan,np.nan]))\n",
    "        print(f'frames vide:{i}')\n",
    "    else:\n",
    "        print(f'x={x}')\n",
    "        data = particle_tracker(img, x, y, taille_initiale, luminosité_initiale, seuil)\n",
    "        position_list.append(data[2])\n",
    "        # x,y = position_list[i-first_frame+1] Valeur de First frame n'a pas d'impact apparemment\n",
    "        x,y = position_list[i]\n",
    "        sigma_list.append(data[3])\n",
    "        tiff.seek(i)\n",
    "        img = np.array(tiff)\n",
    "        big_frames.append(img)\n",
    "        # plt.imshow(img)\n",
    "        # plt.show()\n",
    "        crop_frames.append(data[1])\n",
    "        if is_within_bounds(position_list[-1]):\n",
    "            pass\n",
    "        else:\n",
    "            break\n",
    "    print(f'liste des positions frame {i}:{position_list}')\n",
    "    \n",
    "    \n",
    "position_list=position_list[1:] #On ignore le premier point cliqué car incertitude non définie"
   ]
  },
  {
   "cell_type": "code",
   "execution_count": 58,
   "id": "b7a84351",
   "metadata": {},
   "outputs": [
    {
     "name": "stdout",
     "output_type": "stream",
     "text": [
      "[[1.20081715e-04 9.22557576e-05]\n",
      " [1.19977357e-04 9.24148401e-05]\n",
      " [1.20245197e-04 9.27717312e-05]\n",
      " [1.18826829e-04 9.22831382e-05]\n",
      " [1.18644339e-04 9.23499229e-05]\n",
      " [1.18832710e-04 9.23341672e-05]\n",
      " [1.18412732e-04 9.20688869e-05]\n",
      " [           nan            nan]\n",
      " [1.18192677e-04 9.19964029e-05]\n",
      " [1.18655711e-04 9.16983752e-05]\n",
      " [1.18598272e-04 9.14117544e-05]\n",
      " [1.18702778e-04 9.13704078e-05]\n",
      " [1.17270612e-04 9.08212433e-05]\n",
      " [1.16578665e-04 9.10667902e-05]\n",
      " [1.17124245e-04 9.13498973e-05]\n",
      " [           nan            nan]\n",
      " [           nan            nan]\n",
      " [1.16334684e-04 9.18177027e-05]\n",
      " [1.18414964e-04 8.99562074e-05]\n",
      " [           nan            nan]\n",
      " [           nan            nan]\n",
      " [1.18414576e-04 8.96568295e-05]\n",
      " [1.19504044e-04 8.90725888e-05]\n",
      " [1.18984752e-04 8.96052004e-05]\n",
      " [1.18183156e-04 9.02144855e-05]\n",
      " [1.18797169e-04 8.95555866e-05]\n",
      " [1.20040447e-04 9.01575517e-05]\n",
      " [1.19994219e-04 9.01996689e-05]\n",
      " [1.20116716e-04 9.06850378e-05]\n",
      " [           nan            nan]\n",
      " [           nan            nan]\n",
      " [1.19754188e-04 9.12409377e-05]\n",
      " [1.18173895e-04 9.15953369e-05]\n",
      " [1.18071153e-04 9.08335080e-05]\n",
      " [1.17966240e-04 9.05646447e-05]\n",
      " [1.17397814e-04 9.17089331e-05]\n",
      " [1.17486595e-04 9.09878004e-05]\n",
      " [1.17834925e-04 9.16234697e-05]\n",
      " [1.18129083e-04 9.15402408e-05]\n",
      " [1.17251924e-04 9.09382205e-05]\n",
      " [1.17747585e-04 9.01360231e-05]\n",
      " [1.17867524e-04 8.94742330e-05]\n",
      " [1.17323661e-04 8.93485715e-05]\n",
      " [1.17073148e-04 8.92957312e-05]\n",
      " [1.18564472e-04 8.90334303e-05]\n",
      " [1.17627083e-04 8.88359366e-05]\n",
      " [1.18039180e-04 8.81180085e-05]\n",
      " [1.17650046e-04 8.79190177e-05]\n",
      " [1.18247345e-04 8.72778725e-05]\n",
      " [1.18064057e-04 8.77651599e-05]\n",
      " [           nan            nan]\n",
      " [           nan            nan]\n",
      " [1.17581806e-04 8.79285049e-05]\n",
      " [1.17821174e-04 8.65807909e-05]\n",
      " [1.18349623e-04 8.60740228e-05]\n",
      " [1.18305531e-04 8.59954386e-05]\n",
      " [1.17830878e-04 8.71969382e-05]\n",
      " [1.16851266e-04 8.72240862e-05]\n",
      " [1.17100241e-04 8.69003629e-05]\n",
      " [1.17144409e-04 8.66737843e-05]\n",
      " [1.17529293e-04 8.57257060e-05]\n",
      " [1.18811170e-04 8.57944267e-05]\n",
      " [1.18511487e-04 8.65245992e-05]\n",
      " [1.17512292e-04 8.53795642e-05]]\n"
     ]
    }
   ],
   "source": [
    "pixel_size = 3.45 # Taille absolue\n",
    "f2 = 150  # Focale de L2\n",
    "M_theo = 20  # Magnification of the objective\n",
    "pxl = pixel_size / (f2 * M_theo / 160)  # Pixel size in um dans le plan de la particule\n",
    "\n",
    "sigma_arr=np.array(sigma_list)* pxl * 10**(-6)\n",
    "position_arr=np.array(position_list)* pxl * 10**(-6)\n",
    "print(position_arr)"
   ]
  },
  {
   "cell_type": "code",
   "execution_count": 59,
   "id": "3381e213",
   "metadata": {},
   "outputs": [
    {
     "data": {
      "text/plain": [
       "(array([7.18825624e-13, 9.54204779e-13, 1.18134245e-12, 1.65847895e-12,\n",
       "        1.90550292e-12, 2.01869341e-12, 2.30963419e-12, 3.19180206e-12,\n",
       "        3.86274383e-12, 4.23263899e-12, 4.57819414e-12, 4.70497018e-12,\n",
       "        5.06032145e-12, 5.79124327e-12, 5.81360208e-12, 6.32226426e-12,\n",
       "        6.86126223e-12, 6.62099506e-12, 6.90500857e-12, 7.57252690e-12,\n",
       "        8.24823404e-12, 8.16177060e-12, 7.94397562e-12, 7.72260118e-12,\n",
       "        7.73342167e-12, 7.51867716e-12, 7.39783518e-12, 7.22107593e-12,\n",
       "        7.13735878e-12, 7.41941665e-12, 7.90445190e-12, 7.93671628e-12,\n",
       "        6.70747258e-12, 7.56395073e-12, 9.37206588e-12, 9.69337232e-12,\n",
       "        9.99230152e-12, 9.99444509e-12, 1.03975538e-11, 1.11794933e-11,\n",
       "        1.23246688e-11, 1.35650206e-11, 1.51538920e-11, 1.64508649e-11,\n",
       "        1.75206106e-11, 1.86830341e-11, 1.85783171e-11, 2.01071975e-11,\n",
       "        2.33768276e-11, 2.43265786e-11, 2.72160629e-11, 3.11209496e-11,\n",
       "        3.20588916e-11, 3.30887517e-11, 3.46714312e-11, 3.30843153e-11,\n",
       "        4.11912275e-11, 4.36238401e-11, 4.48781162e-11, 4.64415120e-11,\n",
       "        4.74399002e-11, 4.54417226e-11, 5.38839675e-11]),\n",
       " array([1.84672556e-12, 2.17834741e-12, 2.48859477e-12, 2.93011918e-12,\n",
       "        3.15840221e-12, 3.39033733e-12, 3.71156320e-12, 4.33449989e-12,\n",
       "        4.77112873e-12, 5.09426062e-12, 5.30597971e-12, 5.36762479e-12,\n",
       "        5.64586682e-12, 6.10829946e-12, 6.32051383e-12, 6.72768716e-12,\n",
       "        7.02551328e-12, 6.94328613e-12, 7.14253317e-12, 7.61140530e-12,\n",
       "        7.93141889e-12, 7.98059148e-12, 7.90613519e-12, 7.76823710e-12,\n",
       "        7.64668058e-12, 7.52789720e-12, 7.47657616e-12, 7.41273283e-12,\n",
       "        7.15517878e-12, 7.22443325e-12, 7.28979919e-12, 7.06959003e-12,\n",
       "        6.51801098e-12, 6.93133960e-12, 7.80622887e-12, 7.94584971e-12,\n",
       "        7.94457567e-12, 8.21861972e-12, 8.25610219e-12, 8.60901672e-12,\n",
       "        9.11729839e-12, 9.64440346e-12, 1.01679458e-11, 1.06936805e-11,\n",
       "        1.10524416e-11, 1.14720602e-11, 1.15365930e-11, 1.18565376e-11,\n",
       "        1.29407472e-11, 1.32392490e-11, 1.37721408e-11, 1.46153888e-11,\n",
       "        1.49733425e-11, 1.49985590e-11, 1.53259965e-11, 1.45162139e-11,\n",
       "        1.61789998e-11, 1.64833104e-11, 1.65960521e-11, 1.67339919e-11,\n",
       "        1.69637410e-11, 1.64516701e-11, 1.87203850e-11]))"
      ]
     },
     "execution_count": 59,
     "metadata": {},
     "output_type": "execute_result"
    }
   ],
   "source": [
    "def calculate_msd_with_uncertainty(position_arr, delta_x, delta_y):\n",
    "    \"\"\"\n",
    "    Calcule les MSD avec propagation des incertitudes analytiques.\n",
    "    \"\"\"\n",
    "\n",
    "    msd = []\n",
    "    uncertainties = []\n",
    "    for d in range(1, len(position_arr)):\n",
    "        diff_pairs = np.zeros_like(position_arr[d:])\n",
    "        dx = np.zeros_like(delta_x[d:])\n",
    "        dy = np.zeros_like(delta_y[d:])\n",
    "\n",
    "        # Masque pour détecter les NaN\n",
    "        nan_mask_pos = np.isnan(position_arr[d:]) | np.isnan(position_arr[:-d])\n",
    "        nan_mask_delta = np.isnan(delta_x[d:]) | np.isnan(delta_x[:-d])\n",
    "        \n",
    "        # Calculer les différences uniquement où nan_mask est False\n",
    "        valid_mask_pos = ~nan_mask_pos.any(axis=1)  # Inverser le masque pour obtenir les position_arr valides\n",
    "        valid_mask_delta = ~nan_mask_delta\n",
    "\n",
    "        diff_pairs[valid_mask_pos] = position_arr[d:][valid_mask_pos, :] - position_arr[:-d][valid_mask_pos, :]\n",
    "\n",
    "        distances_squared = np.sum(diff_pairs**2, axis=1)\n",
    "        msd.append(np.mean(distances_squared))  \n",
    "\n",
    "        dx[valid_mask_delta] = delta_x[d:][valid_mask_delta] + delta_x[:-d][valid_mask_delta]\n",
    "        dy[valid_mask_delta] = delta_y[d:][valid_mask_delta] + delta_y[:-d][valid_mask_delta]\n",
    "\n",
    "        term_x = 2 * (diff_pairs[:, 0]**2) * (dx**2)\n",
    "        term_y = 2 * (diff_pairs[:, 1]**2) * (dy**2)\n",
    "        \n",
    "        # Propagation des incertitudes\n",
    "        total_uncertainty = np.mean(term_x + term_y)\n",
    "        uncertainties.append(np.sqrt(total_uncertainty))\n",
    "\n",
    "    return np.array(msd), np.array(uncertainties)\n",
    "\n",
    "calculate_msd_with_uncertainty(position_arr, sigma_arr[:, 0], sigma_arr[:, 1])"
   ]
  },
  {
   "cell_type": "markdown",
   "id": "c355c5f0-6c28-4f45-abbe-9d17f257161b",
   "metadata": {},
   "source": [
    "# Résultats"
   ]
  },
  {
   "cell_type": "code",
   "execution_count": 60,
   "id": "4fb3cff6-dfd3-4c03-96fa-219eb0185e70",
   "metadata": {
    "execution": {
     "iopub.execute_input": "2024-11-27T00:35:56.812822Z",
     "iopub.status.busy": "2024-11-27T00:35:56.812598Z",
     "iopub.status.idle": "2024-11-27T00:35:56.821085Z",
     "shell.execute_reply": "2024-11-27T00:35:56.819985Z",
     "shell.execute_reply.started": "2024-11-27T00:35:56.812806Z"
    }
   },
   "outputs": [
    {
     "name": "stdout",
     "output_type": "stream",
     "text": [
      "coucou\n"
     ]
    }
   ],
   "source": [
    "# Assuming msd_values is the result of your MSD calculation\n",
    "msd_values, uncertainties = calculate_msd_with_uncertainty(position_arr, sigma_arr[:, 0], sigma_arr[:, 1])\n",
    "print('coucou')\n",
    "# Time intervals for the x-axis (assuming a uniform time step)\n",
    "time_intervals = np.arange(1, len(msd_values) + 1) * 0.5\n",
    "\n",
    "# Plotting the MSD\n",
    "plt.figure(figsize=(8, 6))\n",
    "plt.errorbar(time_intervals, msd_values, yerr=uncertainties, fmt='o', label='MSD', color='blue')\n",
    "\n",
    "# Customize the plot\n",
    "plt.title(\"MSD en fonction de l'intervalle de temps\")\n",
    "plt.xlabel(\"Intervalle de temps\")\n",
    "plt.ylabel(\"MSD\")\n",
    "plt.grid(True)\n",
    "plt.legend()\n",
    "\n",
    "# Show the plot\n",
    "plt.show()"
   ]
  },
  {
   "cell_type": "code",
   "execution_count": 61,
   "id": "cf9032b2",
   "metadata": {},
   "outputs": [
    {
     "name": "stdout",
     "output_type": "stream",
     "text": [
      "Coefficients du polynôme ajusté :\n",
      "[2.38654506e-14 1.64278306e-13 5.26956413e-13]\n",
      "Matrice de covariance des coefficients :\n",
      "[[ 3.51170939e-28 -1.97784156e-27  2.08651819e-27]\n",
      " [-1.97784156e-27  1.16328912e-26 -1.29632147e-26]\n",
      " [ 2.08651819e-27 -1.29632147e-26  1.62897985e-26]]\n",
      "Incertitudes sur les coefficients : [1.87395555e-14 1.07855882e-13 1.27631495e-13]\n",
      "Taille de la particule (m): 5.35e-06 m, avec une incertitude : 3.51e-06\n"
     ]
    }
   ],
   "source": [
    "# Fonction quadratique pour l'ajustement\n",
    "def quadratic(x, a, b, c):\n",
    "    return a * x**2 + b * x + c\n",
    "\n",
    "# Assuming msd_values is the result of your MSD calculation\n",
    "msd_values, uncertainties = calculate_msd_with_uncertainty(position_arr, sigma_arr[:, 0], sigma_arr[:, 1])\n",
    "\n",
    "cropped_msd = msd_values[:5]\n",
    "cropped_inc = uncertainties[:5]\n",
    "\n",
    "# Time intervals for the x-axis (assuming a uniform time step)\n",
    "time_intervals = np.arange(1, len(cropped_msd) + 1)\n",
    "\n",
    "# Perform a quadratic fit using curve_fit, which gives both coefficients and covariance matrix\n",
    "popt, pcov = curve_fit(quadratic, time_intervals, cropped_msd, sigma=cropped_inc)\n",
    "\n",
    "# popt contains the optimal coefficients\n",
    "coeffs = popt\n",
    "\n",
    "# pcov is the covariance matrix, which we can use to compute uncertainties\n",
    "coeff_uncertainties = np.sqrt(np.diag(pcov))  # Incertitudes sur les coefficients sont les éléments diagonaux\n",
    "\n",
    "# Affichage des coefficients séparément\n",
    "print(\"Coefficients du polynôme ajusté :\")\n",
    "print(coeffs)\n",
    "\n",
    "# Affichage de la matrice de covariance séparément\n",
    "print(\"Matrice de covariance des coefficients :\")\n",
    "print(pcov)\n",
    "\n",
    "# Création de la fonction quadratique de l'ajustement\n",
    "quadratic_fit = np.poly1d(coeffs)\n",
    "\n",
    "# Génération des valeurs ajustées pour afficher la courbe\n",
    "fitted_msd = quadratic_fit(time_intervals)\n",
    "\n",
    "# Affichage du MSD avec les barres d'erreur\n",
    "plt.figure(figsize=(8, 6))\n",
    "plt.errorbar(time_intervals, cropped_msd, yerr=cropped_inc, fmt='o', label='MSD', color='blue')\n",
    "plt.plot(time_intervals, fitted_msd, label='Quadratic Fit', color='red', linestyle='--')\n",
    "\n",
    "# Personnalisation du graphique\n",
    "plt.title(\"MSD en fonction de l'intervalle de temps\")\n",
    "plt.xlabel(\"Intervalle de temps\")\n",
    "plt.ylabel(\"MSD\")\n",
    "plt.grid(True)\n",
    "plt.legend()\n",
    "\n",
    "# Afficher le graphique\n",
    "plt.show()\n",
    "\n",
    "# Affichage des incertitudes sur les coefficients\n",
    "print(f\"Incertitudes sur les coefficients : {coeff_uncertainties}\")\n",
    "\n",
    "# Calcul du coefficient de diffusion et de la taille de la particule\n",
    "r = (4 * 1.38 * 10**(-23) * 300 / (6 * np.pi * 10**(-3) * coeffs[1]))  # Coefficient de diffusion\n",
    "r_uncertainty = (4 * 1.38 * 10**(-23) * 300 * coeff_uncertainties[1] / (6 * np.pi * 10**(-3) * (coeffs[1])**2))  # Coefficient de diffusion\n",
    "\n",
    "# Affichage de la taille de la particule avec incertitude\n",
    "print(f\"Taille de la particule (m): {r:.2e} m, avec une incertitude : {r_uncertainty:.2e}\")\n"
   ]
  },
  {
   "cell_type": "code",
   "execution_count": 62,
   "id": "625b1770-9368-4a91-baa2-a62960106b77",
   "metadata": {
    "execution": {
     "iopub.execute_input": "2024-11-27T00:35:56.821952Z",
     "iopub.status.busy": "2024-11-27T00:35:56.821739Z",
     "iopub.status.idle": "2024-11-27T00:35:56.893091Z",
     "shell.execute_reply": "2024-11-27T00:35:56.891915Z",
     "shell.execute_reply.started": "2024-11-27T00:35:56.821935Z"
    }
   },
   "outputs": [],
   "source": [
    "x_plt, y_plt = zip(*position_list)\n",
    "# Create the plot\n",
    "plt.figure(figsize=(10, 8))  # Optional: Adjust the figure size\n",
    "plt.plot(x_plt, y_plt, marker='o', linestyle='-', color='b', label='Connected Points')\n",
    "\n",
    "# Inverser l'axe Y\n",
    "plt.gca().invert_yaxis()\n",
    "\n",
    "# Set grid limits to match the 1440x1080 grid\n",
    "plt.xlim(0, 1440)\n",
    "plt.ylim(0, 1080)\n",
    "\n",
    "# Add labels and title\n",
    "plt.xlabel('X-axis')\n",
    "plt.ylabel('Y-axis')\n",
    "plt.title('2D Connected Points Plot')\n",
    "plt.legend()\n",
    "\n",
    "# Optional: Add grid lines\n",
    "plt.grid(True)\n",
    "\n",
    "# Afficher le graphique\n",
    "plt.show()"
   ]
  },
  {
   "cell_type": "markdown",
   "id": "5fae7658-ee40-44d3-ace6-763079316aca",
   "metadata": {},
   "source": [
    "## anim toutes les particules"
   ]
  },
  {
   "cell_type": "code",
   "execution_count": 63,
   "id": "3f852688-0624-4f98-bc43-437e31b430a4",
   "metadata": {
    "execution": {
     "iopub.execute_input": "2024-11-27T00:35:56.894366Z",
     "iopub.status.busy": "2024-11-27T00:35:56.894056Z",
     "iopub.status.idle": "2024-11-27T00:35:56.898702Z",
     "shell.execute_reply": "2024-11-27T00:35:56.897463Z",
     "shell.execute_reply.started": "2024-11-27T00:35:56.894346Z"
    }
   },
   "outputs": [],
   "source": [
    "fig, ax = plt.subplots()\n",
    "img = ax.imshow(big_frames[0], origin='lower', cmap='gray', animated=True)\n",
    "\n",
    "\n",
    "# Update function\n",
    "def update(frame):\n",
    "    img.set_array(frame)\n",
    "    return img,\n",
    "    \n",
    "ani = animation.FuncAnimation(fig, update, frames=big_frames, interval=50, blit=True)\n",
    "plt.show()"
   ]
  },
  {
   "cell_type": "code",
   "execution_count": null,
   "id": "b0e7bdea",
   "metadata": {},
   "outputs": [
    {
     "ename": "TypeError",
     "evalue": "Invalid shape () for image data",
     "output_type": "error",
     "traceback": [
      "\u001b[1;31m---------------------------------------------------------------------------\u001b[0m",
      "\u001b[1;31mTypeError\u001b[0m                                 Traceback (most recent call last)",
      "Cell \u001b[1;32mIn[64], line 16\u001b[0m\n\u001b[0;32m     13\u001b[0m writer \u001b[38;5;241m=\u001b[39m animation\u001b[38;5;241m.\u001b[39mFFMpegWriter(fps\u001b[38;5;241m=\u001b[39m\u001b[38;5;241m5\u001b[39m, metadata\u001b[38;5;241m=\u001b[39m\u001b[38;5;28mdict\u001b[39m(artist\u001b[38;5;241m=\u001b[39m\u001b[38;5;124m'\u001b[39m\u001b[38;5;124mMe\u001b[39m\u001b[38;5;124m'\u001b[39m), bitrate\u001b[38;5;241m=\u001b[39m\u001b[38;5;241m1800\u001b[39m)\n\u001b[0;32m     15\u001b[0m \u001b[38;5;66;03m# Animation\u001b[39;00m\n\u001b[1;32m---> 16\u001b[0m ani \u001b[38;5;241m=\u001b[39m \u001b[43manimation\u001b[49m\u001b[38;5;241;43m.\u001b[39;49m\u001b[43mFuncAnimation\u001b[49m\u001b[43m(\u001b[49m\u001b[43mfig\u001b[49m\u001b[43m,\u001b[49m\u001b[43m \u001b[49m\u001b[43mupdate\u001b[49m\u001b[43m,\u001b[49m\u001b[43m \u001b[49m\u001b[43mframes\u001b[49m\u001b[38;5;241;43m=\u001b[39;49m\u001b[38;5;28;43mlen\u001b[39;49m\u001b[43m(\u001b[49m\u001b[43mbig_frames\u001b[49m\u001b[43m)\u001b[49m\u001b[43m,\u001b[49m\u001b[43m \u001b[49m\u001b[43minterval\u001b[49m\u001b[38;5;241;43m=\u001b[39;49m\u001b[38;5;241;43m100\u001b[39;49m\u001b[43m,\u001b[49m\u001b[43m \u001b[49m\u001b[43mblit\u001b[49m\u001b[38;5;241;43m=\u001b[39;49m\u001b[38;5;28;43;01mTrue\u001b[39;49;00m\u001b[43m)\u001b[49m\n\u001b[0;32m     18\u001b[0m \u001b[38;5;66;03m# Sauvegarder l'animation en .mp4\u001b[39;00m\n\u001b[0;32m     19\u001b[0m ani\u001b[38;5;241m.\u001b[39msave(\u001b[38;5;124m\"\u001b[39m\u001b[38;5;124mtest.mp4\u001b[39m\u001b[38;5;124m\"\u001b[39m, writer\u001b[38;5;241m=\u001b[39mwriter)\n",
      "File \u001b[1;32m~\\AppData\\Local\\Packages\\PythonSoftwareFoundation.Python.3.12_qbz5n2kfra8p0\\LocalCache\\local-packages\\Python312\\site-packages\\matplotlib\\animation.py:1673\u001b[0m, in \u001b[0;36mFuncAnimation.__init__\u001b[1;34m(self, fig, func, frames, init_func, fargs, save_count, cache_frame_data, **kwargs)\u001b[0m\n\u001b[0;32m   1670\u001b[0m \u001b[38;5;66;03m# Needs to be initialized so the draw functions work without checking\u001b[39;00m\n\u001b[0;32m   1671\u001b[0m \u001b[38;5;28mself\u001b[39m\u001b[38;5;241m.\u001b[39m_save_seq \u001b[38;5;241m=\u001b[39m []\n\u001b[1;32m-> 1673\u001b[0m \u001b[38;5;28;43msuper\u001b[39;49m\u001b[43m(\u001b[49m\u001b[43m)\u001b[49m\u001b[38;5;241;43m.\u001b[39;49m\u001b[38;5;21;43m__init__\u001b[39;49m\u001b[43m(\u001b[49m\u001b[43mfig\u001b[49m\u001b[43m,\u001b[49m\u001b[43m \u001b[49m\u001b[38;5;241;43m*\u001b[39;49m\u001b[38;5;241;43m*\u001b[39;49m\u001b[43mkwargs\u001b[49m\u001b[43m)\u001b[49m\n\u001b[0;32m   1675\u001b[0m \u001b[38;5;66;03m# Need to reset the saved seq, since right now it will contain data\u001b[39;00m\n\u001b[0;32m   1676\u001b[0m \u001b[38;5;66;03m# for a single frame from init, which is not what we want.\u001b[39;00m\n\u001b[0;32m   1677\u001b[0m \u001b[38;5;28mself\u001b[39m\u001b[38;5;241m.\u001b[39m_save_seq \u001b[38;5;241m=\u001b[39m []\n",
      "File \u001b[1;32m~\\AppData\\Local\\Packages\\PythonSoftwareFoundation.Python.3.12_qbz5n2kfra8p0\\LocalCache\\local-packages\\Python312\\site-packages\\matplotlib\\animation.py:1397\u001b[0m, in \u001b[0;36mTimedAnimation.__init__\u001b[1;34m(self, fig, interval, repeat_delay, repeat, event_source, *args, **kwargs)\u001b[0m\n\u001b[0;32m   1395\u001b[0m \u001b[38;5;28;01mif\u001b[39;00m event_source \u001b[38;5;129;01mis\u001b[39;00m \u001b[38;5;28;01mNone\u001b[39;00m:\n\u001b[0;32m   1396\u001b[0m     event_source \u001b[38;5;241m=\u001b[39m fig\u001b[38;5;241m.\u001b[39mcanvas\u001b[38;5;241m.\u001b[39mnew_timer(interval\u001b[38;5;241m=\u001b[39m\u001b[38;5;28mself\u001b[39m\u001b[38;5;241m.\u001b[39m_interval)\n\u001b[1;32m-> 1397\u001b[0m \u001b[38;5;28;43msuper\u001b[39;49m\u001b[43m(\u001b[49m\u001b[43m)\u001b[49m\u001b[38;5;241;43m.\u001b[39;49m\u001b[38;5;21;43m__init__\u001b[39;49m\u001b[43m(\u001b[49m\u001b[43mfig\u001b[49m\u001b[43m,\u001b[49m\u001b[43m \u001b[49m\u001b[43mevent_source\u001b[49m\u001b[38;5;241;43m=\u001b[39;49m\u001b[43mevent_source\u001b[49m\u001b[43m,\u001b[49m\u001b[43m \u001b[49m\u001b[38;5;241;43m*\u001b[39;49m\u001b[43margs\u001b[49m\u001b[43m,\u001b[49m\u001b[43m \u001b[49m\u001b[38;5;241;43m*\u001b[39;49m\u001b[38;5;241;43m*\u001b[39;49m\u001b[43mkwargs\u001b[49m\u001b[43m)\u001b[49m\n",
      "File \u001b[1;32m~\\AppData\\Local\\Packages\\PythonSoftwareFoundation.Python.3.12_qbz5n2kfra8p0\\LocalCache\\local-packages\\Python312\\site-packages\\matplotlib\\animation.py:868\u001b[0m, in \u001b[0;36mAnimation.__init__\u001b[1;34m(self, fig, event_source, blit)\u001b[0m\n\u001b[0;32m    865\u001b[0m \u001b[38;5;28mself\u001b[39m\u001b[38;5;241m.\u001b[39m_close_id \u001b[38;5;241m=\u001b[39m \u001b[38;5;28mself\u001b[39m\u001b[38;5;241m.\u001b[39m_fig\u001b[38;5;241m.\u001b[39mcanvas\u001b[38;5;241m.\u001b[39mmpl_connect(\u001b[38;5;124m'\u001b[39m\u001b[38;5;124mclose_event\u001b[39m\u001b[38;5;124m'\u001b[39m,\n\u001b[0;32m    866\u001b[0m                                               \u001b[38;5;28mself\u001b[39m\u001b[38;5;241m.\u001b[39m_stop)\n\u001b[0;32m    867\u001b[0m \u001b[38;5;28;01mif\u001b[39;00m \u001b[38;5;28mself\u001b[39m\u001b[38;5;241m.\u001b[39m_blit:\n\u001b[1;32m--> 868\u001b[0m     \u001b[38;5;28;43mself\u001b[39;49m\u001b[38;5;241;43m.\u001b[39;49m\u001b[43m_setup_blit\u001b[49m\u001b[43m(\u001b[49m\u001b[43m)\u001b[49m\n",
      "File \u001b[1;32m~\\AppData\\Local\\Packages\\PythonSoftwareFoundation.Python.3.12_qbz5n2kfra8p0\\LocalCache\\local-packages\\Python312\\site-packages\\matplotlib\\animation.py:1196\u001b[0m, in \u001b[0;36mAnimation._setup_blit\u001b[1;34m(self)\u001b[0m\n\u001b[0;32m   1191\u001b[0m \u001b[38;5;28mself\u001b[39m\u001b[38;5;241m.\u001b[39m_post_draw(\u001b[38;5;28;01mNone\u001b[39;00m, \u001b[38;5;28mself\u001b[39m\u001b[38;5;241m.\u001b[39m_blit)\n\u001b[0;32m   1192\u001b[0m \u001b[38;5;66;03m# Then we need to clear the Frame for the initial draw\u001b[39;00m\n\u001b[0;32m   1193\u001b[0m \u001b[38;5;66;03m# This is typically handled in _on_resize because QT and Tk\u001b[39;00m\n\u001b[0;32m   1194\u001b[0m \u001b[38;5;66;03m# emit a resize event on launch, but the macosx backend does not,\u001b[39;00m\n\u001b[0;32m   1195\u001b[0m \u001b[38;5;66;03m# thus we force it here for everyone for consistency\u001b[39;00m\n\u001b[1;32m-> 1196\u001b[0m \u001b[38;5;28;43mself\u001b[39;49m\u001b[38;5;241;43m.\u001b[39;49m\u001b[43m_init_draw\u001b[49m\u001b[43m(\u001b[49m\u001b[43m)\u001b[49m\n\u001b[0;32m   1197\u001b[0m \u001b[38;5;66;03m# Connect to future resize events\u001b[39;00m\n\u001b[0;32m   1198\u001b[0m \u001b[38;5;28mself\u001b[39m\u001b[38;5;241m.\u001b[39m_resize_id \u001b[38;5;241m=\u001b[39m \u001b[38;5;28mself\u001b[39m\u001b[38;5;241m.\u001b[39m_fig\u001b[38;5;241m.\u001b[39mcanvas\u001b[38;5;241m.\u001b[39mmpl_connect(\u001b[38;5;124m'\u001b[39m\u001b[38;5;124mresize_event\u001b[39m\u001b[38;5;124m'\u001b[39m,\n\u001b[0;32m   1199\u001b[0m                                                \u001b[38;5;28mself\u001b[39m\u001b[38;5;241m.\u001b[39m_on_resize)\n",
      "File \u001b[1;32m~\\AppData\\Local\\Packages\\PythonSoftwareFoundation.Python.3.12_qbz5n2kfra8p0\\LocalCache\\local-packages\\Python312\\site-packages\\matplotlib\\animation.py:1727\u001b[0m, in \u001b[0;36mFuncAnimation._init_draw\u001b[1;34m(self)\u001b[0m\n\u001b[0;32m   1719\u001b[0m         warnings\u001b[38;5;241m.\u001b[39mwarn(\n\u001b[0;32m   1720\u001b[0m             \u001b[38;5;124m\"\u001b[39m\u001b[38;5;124mCan not start iterating the frames for the initial draw. \u001b[39m\u001b[38;5;124m\"\u001b[39m\n\u001b[0;32m   1721\u001b[0m             \u001b[38;5;124m\"\u001b[39m\u001b[38;5;124mThis can be caused by passing in a 0 length sequence \u001b[39m\u001b[38;5;124m\"\u001b[39m\n\u001b[1;32m   (...)\u001b[0m\n\u001b[0;32m   1724\u001b[0m             \u001b[38;5;124m\"\u001b[39m\u001b[38;5;124mit may be exhausted due to a previous display or save.\u001b[39m\u001b[38;5;124m\"\u001b[39m\n\u001b[0;32m   1725\u001b[0m         )\n\u001b[0;32m   1726\u001b[0m         \u001b[38;5;28;01mreturn\u001b[39;00m\n\u001b[1;32m-> 1727\u001b[0m     \u001b[38;5;28;43mself\u001b[39;49m\u001b[38;5;241;43m.\u001b[39;49m\u001b[43m_draw_frame\u001b[49m\u001b[43m(\u001b[49m\u001b[43mframe_data\u001b[49m\u001b[43m)\u001b[49m\n\u001b[0;32m   1728\u001b[0m \u001b[38;5;28;01melse\u001b[39;00m:\n\u001b[0;32m   1729\u001b[0m     \u001b[38;5;28mself\u001b[39m\u001b[38;5;241m.\u001b[39m_drawn_artists \u001b[38;5;241m=\u001b[39m \u001b[38;5;28mself\u001b[39m\u001b[38;5;241m.\u001b[39m_init_func()\n",
      "File \u001b[1;32m~\\AppData\\Local\\Packages\\PythonSoftwareFoundation.Python.3.12_qbz5n2kfra8p0\\LocalCache\\local-packages\\Python312\\site-packages\\matplotlib\\animation.py:1746\u001b[0m, in \u001b[0;36mFuncAnimation._draw_frame\u001b[1;34m(self, framedata)\u001b[0m\n\u001b[0;32m   1742\u001b[0m     \u001b[38;5;28mself\u001b[39m\u001b[38;5;241m.\u001b[39m_save_seq \u001b[38;5;241m=\u001b[39m \u001b[38;5;28mself\u001b[39m\u001b[38;5;241m.\u001b[39m_save_seq[\u001b[38;5;241m-\u001b[39m\u001b[38;5;28mself\u001b[39m\u001b[38;5;241m.\u001b[39m_save_count:]\n\u001b[0;32m   1744\u001b[0m \u001b[38;5;66;03m# Call the func with framedata and args. If blitting is desired,\u001b[39;00m\n\u001b[0;32m   1745\u001b[0m \u001b[38;5;66;03m# func needs to return a sequence of any artists that were modified.\u001b[39;00m\n\u001b[1;32m-> 1746\u001b[0m \u001b[38;5;28mself\u001b[39m\u001b[38;5;241m.\u001b[39m_drawn_artists \u001b[38;5;241m=\u001b[39m \u001b[38;5;28;43mself\u001b[39;49m\u001b[38;5;241;43m.\u001b[39;49m\u001b[43m_func\u001b[49m\u001b[43m(\u001b[49m\u001b[43mframedata\u001b[49m\u001b[43m,\u001b[49m\u001b[43m \u001b[49m\u001b[38;5;241;43m*\u001b[39;49m\u001b[38;5;28;43mself\u001b[39;49m\u001b[38;5;241;43m.\u001b[39;49m\u001b[43m_args\u001b[49m\u001b[43m)\u001b[49m\n\u001b[0;32m   1748\u001b[0m \u001b[38;5;28;01mif\u001b[39;00m \u001b[38;5;28mself\u001b[39m\u001b[38;5;241m.\u001b[39m_blit:\n\u001b[0;32m   1750\u001b[0m     err \u001b[38;5;241m=\u001b[39m \u001b[38;5;167;01mRuntimeError\u001b[39;00m(\u001b[38;5;124m'\u001b[39m\u001b[38;5;124mThe animation function must return a sequence \u001b[39m\u001b[38;5;124m'\u001b[39m\n\u001b[0;32m   1751\u001b[0m                        \u001b[38;5;124m'\u001b[39m\u001b[38;5;124mof Artist objects.\u001b[39m\u001b[38;5;124m'\u001b[39m)\n",
      "Cell \u001b[1;32mIn[64], line 7\u001b[0m, in \u001b[0;36mupdate\u001b[1;34m(frame)\u001b[0m\n\u001b[0;32m      6\u001b[0m \u001b[38;5;28;01mdef\u001b[39;00m \u001b[38;5;21mupdate\u001b[39m(frame):\n\u001b[1;32m----> 7\u001b[0m     \u001b[43mimg\u001b[49m\u001b[38;5;241;43m.\u001b[39;49m\u001b[43mset_array\u001b[49m\u001b[43m(\u001b[49m\u001b[43mframe\u001b[49m\u001b[43m)\u001b[49m\n\u001b[0;32m      8\u001b[0m     \u001b[38;5;28;01mreturn\u001b[39;00m img,\n",
      "File \u001b[1;32m~\\AppData\\Local\\Packages\\PythonSoftwareFoundation.Python.3.12_qbz5n2kfra8p0\\LocalCache\\local-packages\\Python312\\site-packages\\matplotlib\\image.py:743\u001b[0m, in \u001b[0;36m_ImageBase.set_array\u001b[1;34m(self, A)\u001b[0m\n\u001b[0;32m    734\u001b[0m \u001b[38;5;250m\u001b[39m\u001b[38;5;124;03m\"\"\"\u001b[39;00m\n\u001b[0;32m    735\u001b[0m \u001b[38;5;124;03mRetained for backwards compatibility - use set_data instead.\u001b[39;00m\n\u001b[0;32m    736\u001b[0m \n\u001b[1;32m   (...)\u001b[0m\n\u001b[0;32m    739\u001b[0m \u001b[38;5;124;03mA : array-like\u001b[39;00m\n\u001b[0;32m    740\u001b[0m \u001b[38;5;124;03m\"\"\"\u001b[39;00m\n\u001b[0;32m    741\u001b[0m \u001b[38;5;66;03m# This also needs to be here to override the inherited\u001b[39;00m\n\u001b[0;32m    742\u001b[0m \u001b[38;5;66;03m# cm.ScalarMappable.set_array method so it is not invoked by mistake.\u001b[39;00m\n\u001b[1;32m--> 743\u001b[0m \u001b[38;5;28;43mself\u001b[39;49m\u001b[38;5;241;43m.\u001b[39;49m\u001b[43mset_data\u001b[49m\u001b[43m(\u001b[49m\u001b[43mA\u001b[49m\u001b[43m)\u001b[49m\n",
      "File \u001b[1;32m~\\AppData\\Local\\Packages\\PythonSoftwareFoundation.Python.3.12_qbz5n2kfra8p0\\LocalCache\\local-packages\\Python312\\site-packages\\matplotlib\\image.py:729\u001b[0m, in \u001b[0;36m_ImageBase.set_data\u001b[1;34m(self, A)\u001b[0m\n\u001b[0;32m    727\u001b[0m \u001b[38;5;28;01mif\u001b[39;00m \u001b[38;5;28misinstance\u001b[39m(A, PIL\u001b[38;5;241m.\u001b[39mImage\u001b[38;5;241m.\u001b[39mImage):\n\u001b[0;32m    728\u001b[0m     A \u001b[38;5;241m=\u001b[39m pil_to_array(A)  \u001b[38;5;66;03m# Needed e.g. to apply png palette.\u001b[39;00m\n\u001b[1;32m--> 729\u001b[0m \u001b[38;5;28mself\u001b[39m\u001b[38;5;241m.\u001b[39m_A \u001b[38;5;241m=\u001b[39m \u001b[38;5;28;43mself\u001b[39;49m\u001b[38;5;241;43m.\u001b[39;49m\u001b[43m_normalize_image_array\u001b[49m\u001b[43m(\u001b[49m\u001b[43mA\u001b[49m\u001b[43m)\u001b[49m\n\u001b[0;32m    730\u001b[0m \u001b[38;5;28mself\u001b[39m\u001b[38;5;241m.\u001b[39m_imcache \u001b[38;5;241m=\u001b[39m \u001b[38;5;28;01mNone\u001b[39;00m\n\u001b[0;32m    731\u001b[0m \u001b[38;5;28mself\u001b[39m\u001b[38;5;241m.\u001b[39mstale \u001b[38;5;241m=\u001b[39m \u001b[38;5;28;01mTrue\u001b[39;00m\n",
      "File \u001b[1;32m~\\AppData\\Local\\Packages\\PythonSoftwareFoundation.Python.3.12_qbz5n2kfra8p0\\LocalCache\\local-packages\\Python312\\site-packages\\matplotlib\\image.py:697\u001b[0m, in \u001b[0;36m_ImageBase._normalize_image_array\u001b[1;34m(A)\u001b[0m\n\u001b[0;32m    695\u001b[0m     A \u001b[38;5;241m=\u001b[39m A\u001b[38;5;241m.\u001b[39msqueeze(\u001b[38;5;241m-\u001b[39m\u001b[38;5;241m1\u001b[39m)  \u001b[38;5;66;03m# If just (M, N, 1), assume scalar and apply colormap.\u001b[39;00m\n\u001b[0;32m    696\u001b[0m \u001b[38;5;28;01mif\u001b[39;00m \u001b[38;5;129;01mnot\u001b[39;00m (A\u001b[38;5;241m.\u001b[39mndim \u001b[38;5;241m==\u001b[39m \u001b[38;5;241m2\u001b[39m \u001b[38;5;129;01mor\u001b[39;00m A\u001b[38;5;241m.\u001b[39mndim \u001b[38;5;241m==\u001b[39m \u001b[38;5;241m3\u001b[39m \u001b[38;5;129;01mand\u001b[39;00m A\u001b[38;5;241m.\u001b[39mshape[\u001b[38;5;241m-\u001b[39m\u001b[38;5;241m1\u001b[39m] \u001b[38;5;129;01min\u001b[39;00m [\u001b[38;5;241m3\u001b[39m, \u001b[38;5;241m4\u001b[39m]):\n\u001b[1;32m--> 697\u001b[0m     \u001b[38;5;28;01mraise\u001b[39;00m \u001b[38;5;167;01mTypeError\u001b[39;00m(\u001b[38;5;124mf\u001b[39m\u001b[38;5;124m\"\u001b[39m\u001b[38;5;124mInvalid shape \u001b[39m\u001b[38;5;132;01m{\u001b[39;00mA\u001b[38;5;241m.\u001b[39mshape\u001b[38;5;132;01m}\u001b[39;00m\u001b[38;5;124m for image data\u001b[39m\u001b[38;5;124m\"\u001b[39m)\n\u001b[0;32m    698\u001b[0m \u001b[38;5;28;01mif\u001b[39;00m A\u001b[38;5;241m.\u001b[39mndim \u001b[38;5;241m==\u001b[39m \u001b[38;5;241m3\u001b[39m:\n\u001b[0;32m    699\u001b[0m     \u001b[38;5;66;03m# If the input data has values outside the valid range (after\u001b[39;00m\n\u001b[0;32m    700\u001b[0m     \u001b[38;5;66;03m# normalisation), we issue a warning and then clip X to the bounds\u001b[39;00m\n\u001b[0;32m    701\u001b[0m     \u001b[38;5;66;03m# - otherwise casting wraps extreme values, hiding outliers and\u001b[39;00m\n\u001b[0;32m    702\u001b[0m     \u001b[38;5;66;03m# making reliable interpretation impossible.\u001b[39;00m\n\u001b[0;32m    703\u001b[0m     high \u001b[38;5;241m=\u001b[39m \u001b[38;5;241m255\u001b[39m \u001b[38;5;28;01mif\u001b[39;00m np\u001b[38;5;241m.\u001b[39missubdtype(A\u001b[38;5;241m.\u001b[39mdtype, np\u001b[38;5;241m.\u001b[39minteger) \u001b[38;5;28;01melse\u001b[39;00m \u001b[38;5;241m1\u001b[39m\n",
      "\u001b[1;31mTypeError\u001b[0m: Invalid shape () for image data"
     ]
    },
    {
     "name": "stderr",
     "output_type": "stream",
     "text": [
      "Traceback (most recent call last):\n",
      "  File \"C:\\Users\\maxim\\AppData\\Local\\Packages\\PythonSoftwareFoundation.Python.3.12_qbz5n2kfra8p0\\LocalCache\\local-packages\\Python312\\site-packages\\matplotlib\\cbook.py\", line 298, in process\n",
      "    func(*args, **kwargs)\n",
      "  File \"C:\\Users\\maxim\\AppData\\Local\\Packages\\PythonSoftwareFoundation.Python.3.12_qbz5n2kfra8p0\\LocalCache\\local-packages\\Python312\\site-packages\\matplotlib\\animation.py\", line 892, in _start\n",
      "    self._init_draw()\n",
      "  File \"C:\\Users\\maxim\\AppData\\Local\\Packages\\PythonSoftwareFoundation.Python.3.12_qbz5n2kfra8p0\\LocalCache\\local-packages\\Python312\\site-packages\\matplotlib\\animation.py\", line 1727, in _init_draw\n",
      "    self._draw_frame(frame_data)\n",
      "  File \"C:\\Users\\maxim\\AppData\\Local\\Packages\\PythonSoftwareFoundation.Python.3.12_qbz5n2kfra8p0\\LocalCache\\local-packages\\Python312\\site-packages\\matplotlib\\animation.py\", line 1746, in _draw_frame\n",
      "    self._drawn_artists = self._func(framedata, *self._args)\n",
      "                          ^^^^^^^^^^^^^^^^^^^^^^^^^^^^^^^^^^\n",
      "  File \"C:\\Users\\maxim\\AppData\\Local\\Temp\\ipykernel_16496\\1649909858.py\", line 7, in update\n",
      "    img.set_array(frame)\n",
      "  File \"C:\\Users\\maxim\\AppData\\Local\\Packages\\PythonSoftwareFoundation.Python.3.12_qbz5n2kfra8p0\\LocalCache\\local-packages\\Python312\\site-packages\\matplotlib\\image.py\", line 743, in set_array\n",
      "    self.set_data(A)\n",
      "  File \"C:\\Users\\maxim\\AppData\\Local\\Packages\\PythonSoftwareFoundation.Python.3.12_qbz5n2kfra8p0\\LocalCache\\local-packages\\Python312\\site-packages\\matplotlib\\image.py\", line 729, in set_data\n",
      "    self._A = self._normalize_image_array(A)\n",
      "              ^^^^^^^^^^^^^^^^^^^^^^^^^^^^^^\n",
      "  File \"C:\\Users\\maxim\\AppData\\Local\\Packages\\PythonSoftwareFoundation.Python.3.12_qbz5n2kfra8p0\\LocalCache\\local-packages\\Python312\\site-packages\\matplotlib\\image.py\", line 697, in _normalize_image_array\n",
      "    raise TypeError(f\"Invalid shape {A.shape} for image data\")\n",
      "TypeError: Invalid shape () for image data\n"
     ]
    }
   ],
   "source": [
    "fig, ax = plt.subplots()\n",
    "img = ax.imshow(crop_frames[0], origin='lower', cmap='gray', animated=True)\n",
    "\n",
    "\n",
    "# Update function\n",
    "def update(frame):\n",
    "    img.set_array(frame)\n",
    "    return img,\n",
    "    \n",
    "ani = animation.FuncAnimation(fig, update, frames=big_frames, interval=50, blit=True)\n",
    "plt.show()\n",
    "# Choisir le writer FFMpeg\n",
    "writer = animation.FFMpegWriter(fps=5, metadata=dict(artist='Me'), bitrate=1800)\n",
    "\n",
    "# Animation\n",
    "ani = animation.FuncAnimation(fig, update, frames=len(big_frames), interval=100, blit=True)\n",
    "\n",
    "# Sauvegarder l'animation en .mp4\n",
    "ani.save(\"test.mp4\", writer=writer)\n",
    "\n",
    "# Afficher la vidéo\n",
    "plt.show()"
   ]
  },
  {
   "cell_type": "markdown",
   "id": "111a50d8-6fce-40cc-bf48-775bfd002c3d",
   "metadata": {},
   "source": [
    "## anim crop"
   ]
  },
  {
   "cell_type": "code",
   "execution_count": null,
   "id": "0d6554b7-0c86-4ee5-8a32-4bd994f881f4",
   "metadata": {
    "execution": {
     "iopub.execute_input": "2024-11-27T00:35:56.899778Z",
     "iopub.status.busy": "2024-11-27T00:35:56.899533Z",
     "iopub.status.idle": "2024-11-27T00:35:56.955616Z",
     "shell.execute_reply": "2024-11-27T00:35:56.954725Z",
     "shell.execute_reply.started": "2024-11-27T00:35:56.899759Z"
    }
   },
   "outputs": [],
   "source": [
    "fig, ax = plt.subplots()\n",
    "img = ax.imshow(crop_frames[0], origin='lower', cmap='gray', animated=True)\n",
    "\n",
    "\n",
    "def update(frame):\n",
    "    img.set_array(frame)\n",
    "    return img,\n",
    "    \n",
    "ani = animation.FuncAnimation(fig, update, frames=crop_frames, interval=50, blit=True)\n",
    "plt.show()"
   ]
  },
  {
   "cell_type": "code",
   "execution_count": null,
   "id": "a57b3c57-a5c5-4f11-b5ce-c32e975a7d83",
   "metadata": {},
   "outputs": [
    {
     "name": "stdout",
     "output_type": "stream",
     "text": [
      "Vidéo enregistrée sous 'particle_brownian_motion.mp4'.\n"
     ]
    }
   ],
   "source": [
    "# Exemple de grid setup (comme précédemment)\n",
    "x = np.linspace(0, 1440)  # ajusté pour créer une grille plus fine\n",
    "y = np.linspace(0, 1080)\n",
    "X, Y = np.meshgrid(x, y)\n",
    "\n",
    "# Créer des images (frames)\n",
    "frames = []\n",
    "for i in range(len(big_frames)):\n",
    "    frame = big_frames[i]\n",
    "    posi = position_list[i]\n",
    "    frames.append([frame, posi])\n",
    "\n",
    "# Paramètres de la figure\n",
    "fig, ax = plt.subplots()\n",
    "ax.set_title(\"Mouvement brownien de la particule\")\n",
    "ax.set_xlim(0, 1440)\n",
    "ax.set_ylim(0, 1080)\n",
    "ax.set_aspect('equal')\n",
    "plt.xlabel('Position horizontale (en pixel)')\n",
    "plt.ylabel('Position verticale (en pixel)')\n",
    "\n",
    "# Initialisation de l'image\n",
    "img = ax.imshow(big_frames[0], cmap='gray', animated=True)\n",
    "cb = plt.colorbar(img, ax=ax, label='Intensité')\n",
    "\n",
    "# Utiliser une liste pour stocker les indices à supprimer\n",
    "indices_a_supprimer = []\n",
    "\n",
    "# Identifiant des indices à supprimer\n",
    "for index in range(len(position_list)):\n",
    "    if np.isnan(position_list[index][0]):  # Vérifier si la première valeur de la position est NaN\n",
    "        indices_a_supprimer.append(index)\n",
    "\n",
    "# Supprimer les éléments de position_list et frames dans l'ordre inverse pour éviter de perturber l'indice\n",
    "for index in reversed(indices_a_supprimer):\n",
    "    position_list.pop(index)\n",
    "    frames.pop(index)\n",
    "\n",
    "# Fonction de mise à jour\n",
    "def update(frame):\n",
    "    img.set_array(frame[0])\n",
    "    pos=frame[1]\n",
    "    ax.scatter(pos[0], pos[1], color='r', s=2)  # Point blanc de taille 50\n",
    "    return img,\n",
    "\n",
    "# Choisir le writer FFMpeg\n",
    "writer = animation.FFMpegWriter(fps=5, metadata=dict(artist='Me'), bitrate=1800)\n",
    "\n",
    "# Animation\n",
    "ani = animation.FuncAnimation(fig, update, frames=frames, interval=50, blit=True)\n",
    "\n",
    "# Sauvegarder l'animation en .mp4\n",
    "ani.save(\"particle_brownian_motion.mp4\", writer=writer)\n",
    "\n",
    "# Afficher la vidéo\n",
    "plt.show()\n",
    "\n",
    "# Vérification : Si la vidéo est correctement enregistrée\n",
    "print(\"Vidéo enregistrée sous 'particle_brownian_motion.mp4'.\")\n"
   ]
  }
 ],
 "metadata": {
  "kernelspec": {
   "display_name": "Python 3",
   "language": "python",
   "name": "python3"
  },
  "language_info": {
   "codemirror_mode": {
    "name": "ipython",
    "version": 3
   },
   "file_extension": ".py",
   "mimetype": "text/x-python",
   "name": "python",
   "nbconvert_exporter": "python",
   "pygments_lexer": "ipython3",
   "version": "3.12.8"
  }
 },
 "nbformat": 4,
 "nbformat_minor": 5
}
