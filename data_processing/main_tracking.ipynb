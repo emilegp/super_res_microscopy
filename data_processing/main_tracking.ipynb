{
 "cells": [
  {
   "cell_type": "markdown",
   "id": "a1bbf155-d46a-4bbb-a7bc-6857ef1672de",
   "metadata": {},
   "source": [
    "# Initialisation"
   ]
  },
  {
   "cell_type": "code",
   "execution_count": 1,
   "id": "49fff9c0-1a10-465b-b5d6-cf2853a133db",
   "metadata": {
    "execution": {
     "iopub.execute_input": "2024-11-27T00:33:55.015775Z",
     "iopub.status.busy": "2024-11-27T00:33:55.015362Z",
     "iopub.status.idle": "2024-11-27T00:33:56.248500Z",
     "shell.execute_reply": "2024-11-27T00:33:56.247904Z",
     "shell.execute_reply.started": "2024-11-27T00:33:55.015736Z"
    }
   },
   "outputs": [],
   "source": [
    "import matplotlib\n",
    "matplotlib.use('Qt5Agg')  # Utiliser le backend Qt5Agg pour Windows\n",
    "import matplotlib.pyplot as plt\n",
    "import matplotlib.animation as animation\n",
    "from scipy.optimize import curve_fit\n",
    "import cv2\n",
    "import numpy as np\n",
    "import os\n",
    "from PIL import Image\n",
    "import lmfit\n",
    "#import tifffile\n",
    "#%matplotlib tk #pour Linux"
   ]
  },
  {
   "cell_type": "code",
   "execution_count": 2,
   "id": "5244023b",
   "metadata": {},
   "outputs": [],
   "source": [
    "import scipy.ndimage as ndimage\n",
    "from sklearn.cluster import DBSCAN\n",
    "import matplotlib.animation as animation\n"
   ]
  },
  {
   "cell_type": "markdown",
   "id": "3c857432-f4a0-4d37-b1c3-d5115974f0f5",
   "metadata": {},
   "source": [
    "# Importer fichier"
   ]
  },
  {
   "cell_type": "code",
   "execution_count": 3,
   "id": "72d00744-e863-4ed8-b83b-112156869997",
   "metadata": {
    "execution": {
     "iopub.execute_input": "2024-11-27T00:33:56.249387Z",
     "iopub.status.busy": "2024-11-27T00:33:56.249142Z",
     "iopub.status.idle": "2024-11-27T00:33:56.288891Z",
     "shell.execute_reply": "2024-11-27T00:33:56.287953Z",
     "shell.execute_reply.started": "2024-11-27T00:33:56.249368Z"
    }
   },
   "outputs": [],
   "source": [
    "# path_to_tiff = os.path.join(\"..\", \"acquisition\", \"video_output_carac_125ms_2im_1um.tiff\")\n",
    "path_to_tiff = os.path.join(\"..\", \"acquisition\", \"essai_10um_2im_50ms.tiff\")\n",
    "\n",
    "tiff = Image.open(path_to_tiff)"
   ]
  },
  {
   "cell_type": "markdown",
   "id": "a9542b9e-bfef-4abf-86f4-db78b05a8be8",
   "metadata": {},
   "source": [
    "# Nombre de frames pas vide"
   ]
  },
  {
   "cell_type": "code",
   "execution_count": 4,
   "id": "dcf8b520-316f-4ac0-b860-fd1d965ea732",
   "metadata": {
    "execution": {
     "iopub.execute_input": "2024-11-27T00:33:56.289986Z",
     "iopub.status.busy": "2024-11-27T00:33:56.289746Z",
     "iopub.status.idle": "2024-11-27T00:33:57.058878Z",
     "shell.execute_reply": "2024-11-27T00:33:57.057944Z",
     "shell.execute_reply.started": "2024-11-27T00:33:56.289967Z"
    }
   },
   "outputs": [
    {
     "name": "stdout",
     "output_type": "stream",
     "text": [
      "All frames processed.\n"
     ]
    },
    {
     "data": {
      "text/plain": [
       "73"
      ]
     },
     "execution_count": 4,
     "metadata": {},
     "output_type": "execute_result"
    }
   ],
   "source": [
    "with Image.open(path_to_tiff) as img:\n",
    "    frame_number = 0\n",
    "    actual_frames = 0\n",
    "    try:\n",
    "        while True:\n",
    "            frame_number += 1\n",
    "            if np.sum(np.array(img)) != 0:\n",
    "                actual_frames += 1\n",
    "                \n",
    "            img.seek(frame_number)\n",
    "    except EOFError:\n",
    "        print(\"All frames processed.\")\n",
    "\n",
    "actual_frames"
   ]
  },
  {
   "cell_type": "markdown",
   "id": "4ce4927e-f7ec-4e65-ad5d-cef9195b6cbc",
   "metadata": {},
   "source": [
    "# 1re frame\n",
    "\n",
    "**Le nombre de frames ignorés n'est pas pris en compte**"
   ]
  },
  {
   "cell_type": "code",
   "execution_count": 5,
   "id": "26577059-48c2-4f3a-8e52-a89c99dbccd3",
   "metadata": {
    "execution": {
     "iopub.execute_input": "2024-11-27T00:33:57.059925Z",
     "iopub.status.busy": "2024-11-27T00:33:57.059662Z",
     "iopub.status.idle": "2024-11-27T00:33:57.082939Z",
     "shell.execute_reply": "2024-11-27T00:33:57.082043Z",
     "shell.execute_reply.started": "2024-11-27T00:33:57.059898Z"
    }
   },
   "outputs": [],
   "source": [
    "frame_index = 0\n",
    "first_frame = 0\n",
    "tiff.seek(frame_index)\n",
    "original_image = np.array(tiff)\n",
    "\n",
    "while np.sum(original_image) == 0:\n",
    "    frame_index += 1\n",
    "    tiff.seek(frame_index)\n",
    "    original_image = np.array(tiff)\n",
    "    first_frame += 1\n",
    "    print(frame_index)\n",
    "\n",
    "\n"
   ]
  },
  {
   "cell_type": "markdown",
   "id": "e1d8711a-7b97-4eb1-8556-60a0ce1f5253",
   "metadata": {},
   "source": [
    "# Traitement d'image"
   ]
  },
  {
   "cell_type": "code",
   "execution_count": 6,
   "id": "3a91746d-ed20-4b11-841a-4384c3c9f610",
   "metadata": {
    "execution": {
     "iopub.execute_input": "2024-11-27T00:33:57.083712Z",
     "iopub.status.busy": "2024-11-27T00:33:57.083500Z",
     "iopub.status.idle": "2024-11-27T00:33:57.942225Z",
     "shell.execute_reply": "2024-11-27T00:33:57.941368Z",
     "shell.execute_reply.started": "2024-11-27T00:33:57.083690Z"
    }
   },
   "outputs": [],
   "source": [
    "clahe = cv2.createCLAHE(clipLimit=10.0, tileGridSize=(30, 30))\n",
    "preprocessed = clahe.apply(original_image)\n",
    "\n",
    "blurred = cv2.medianBlur(preprocessed, 115)\n",
    "preprocessed2 = cv2.subtract(preprocessed, blurred)\n",
    "\n",
    "# Apply Non-Local Means Denoising\n",
    "img = cv2.fastNlMeansDenoising(preprocessed2, None, 15, 7, 41)\n"
   ]
  },
  {
   "cell_type": "markdown",
   "id": "9f52f7fc-b595-4b76-8cc3-0755544c12bd",
   "metadata": {},
   "source": [
    "# Sélection du point à tracker"
   ]
  },
  {
   "cell_type": "code",
   "execution_count": 7,
   "id": "5a934439-4314-4c28-a4cd-c0d9113c98e9",
   "metadata": {
    "execution": {
     "iopub.execute_input": "2024-11-27T00:33:57.944451Z",
     "iopub.status.busy": "2024-11-27T00:33:57.944269Z",
     "iopub.status.idle": "2024-11-27T00:33:57.947894Z",
     "shell.execute_reply": "2024-11-27T00:33:57.947259Z",
     "shell.execute_reply.started": "2024-11-27T00:33:57.944433Z"
    }
   },
   "outputs": [],
   "source": [
    "def crop(img, x, y, crop_size_x, crop_size_y):\n",
    "    x_start = int(x - crop_size_x // 2)\n",
    "    x_end = int(x + crop_size_x // 2)\n",
    "    y_start = int(y - crop_size_y // 2)\n",
    "    y_end = int(y + crop_size_y // 2)\n",
    "\n",
    "    return img[y_start:y_end, x_start:x_end]"
   ]
  },
  {
   "cell_type": "code",
   "execution_count": 8,
   "id": "60e9cbb8-923d-4281-89f9-accc9565c831",
   "metadata": {
    "execution": {
     "iopub.execute_input": "2024-11-27T00:33:57.948819Z",
     "iopub.status.busy": "2024-11-27T00:33:57.948575Z",
     "iopub.status.idle": "2024-11-27T00:34:16.244046Z",
     "shell.execute_reply": "2024-11-27T00:34:16.243397Z",
     "shell.execute_reply.started": "2024-11-27T00:33:57.948800Z"
    }
   },
   "outputs": [
    {
     "name": "stdout",
     "output_type": "stream",
     "text": [
      "Please click on the point you want to select.\n",
      "Selected point: (1105.2142857142858, 575.7337662337662)\n"
     ]
    }
   ],
   "source": [
    "# Display the image and let the user select a point interactively\n",
    "fig, ax = plt.subplots()\n",
    "ax.imshow(img, origin='lower', cmap='gray')  # Use 'gray' for better visibility of grayscale images\n",
    "plt.title(f\"Frame {frame_index}: Select a point\")\n",
    "plt.xlabel(f'Position horizontale (pixel)')\n",
    "plt.ylabel(f'Position verticale (pixel)')\n",
    "\n",
    "# Ask for a point to be selected\n",
    "print(\"Please click on the point you want to select.\")\n",
    "x, y = plt.ginput(1)[0]  # This will get the coordinates of the clicked point\n",
    "print(f\"Selected point: ({x}, {y})\")\n",
    "plt.close()\n",
    "\n",
    "crop_sze = crop_sze_x = crop_sze_y = 50"
   ]
  },
  {
   "cell_type": "markdown",
   "id": "383a659b",
   "metadata": {},
   "source": [
    "Debogueur"
   ]
  },
  {
   "cell_type": "code",
   "execution_count": 9,
   "id": "6184609f",
   "metadata": {},
   "outputs": [],
   "source": [
    "def visionneur(frame, titre):\n",
    "    plt.figure(figsize=(10, 5))\n",
    "    plt.clf() \n",
    "    plt.imshow(frame, origin='lower', cmap='gray')\n",
    "    plt.title(titre)\n",
    "    plt.colorbar()  \n",
    "    plt.show()"
   ]
  },
  {
   "cell_type": "markdown",
   "id": "6a9490a9-7dce-451b-81ff-0ae267584ee3",
   "metadata": {},
   "source": [
    "# Fit gaussien sur le point sélectionné"
   ]
  },
  {
   "cell_type": "code",
   "execution_count": 10,
   "id": "5fc5b874-d129-40a2-985c-03a724b3cb95",
   "metadata": {
    "execution": {
     "iopub.execute_input": "2024-11-27T00:34:16.245037Z",
     "iopub.status.busy": "2024-11-27T00:34:16.244816Z",
     "iopub.status.idle": "2024-11-27T00:34:16.248322Z",
     "shell.execute_reply": "2024-11-27T00:34:16.247669Z",
     "shell.execute_reply.started": "2024-11-27T00:34:16.245020Z"
    }
   },
   "outputs": [],
   "source": [
    "def prepare_data(x, y, z):\n",
    "    return (x.flatten(), y.flatten()), z.flatten()"
   ]
  },
  {
   "cell_type": "code",
   "execution_count": 11,
   "id": "1fb18b6a-7295-4ea7-b0fb-84f5a41fbdbb",
   "metadata": {
    "execution": {
     "iopub.execute_input": "2024-11-27T00:34:16.249457Z",
     "iopub.status.busy": "2024-11-27T00:34:16.248979Z",
     "iopub.status.idle": "2024-11-27T00:34:16.280319Z",
     "shell.execute_reply": "2024-11-27T00:34:16.279600Z",
     "shell.execute_reply.started": "2024-11-27T00:34:16.249435Z"
    }
   },
   "outputs": [],
   "source": [
    "def gaussian_2d(xy, amplitude, x0, y0, sigma_x, sigma_y, offset):\n",
    "    x, y = xy\n",
    "    a = 1 / (2 * sigma_x**2)\n",
    "    b = 1 / (2 * sigma_y**2)\n",
    "    return offset + amplitude * np.exp(- (a * (x - x0)**2 + b * (y - y0)**2))"
   ]
  },
  {
   "cell_type": "code",
   "execution_count": 12,
   "id": "b2f948a1-d8e5-4fa8-acfe-ac569383012d",
   "metadata": {
    "execution": {
     "iopub.execute_input": "2024-11-27T00:34:16.281928Z",
     "iopub.status.busy": "2024-11-27T00:34:16.281279Z",
     "iopub.status.idle": "2024-11-27T00:34:16.286665Z",
     "shell.execute_reply": "2024-11-27T00:34:16.286066Z",
     "shell.execute_reply.started": "2024-11-27T00:34:16.281903Z"
    }
   },
   "outputs": [],
   "source": [
    "def localisateur_gaussien(intensity_grid, centre):\n",
    "    x = np.arange(intensity_grid.shape[1])\n",
    "    y = np.arange(intensity_grid.shape[0])\n",
    "    X, Y = np.meshgrid(x, y)\n",
    "\n",
    "    # Préparer les données pour le fit\n",
    "    (xdata, ydata), zdata = prepare_data(X, Y, intensity_grid)\n",
    "    model = lmfit.Model(gaussian_2d)\n",
    "    max_idx = np.unravel_index(np.argmax(intensity_grid), intensity_grid.shape)\n",
    "    initial_x0 = x[max_idx[1]]\n",
    "    initial_y0 = y[max_idx[0]]\n",
    "\n",
    "    # Définir les paramètres du modèle\n",
    "    params = model.make_params(\n",
    "        amplitude=np.max(intensity_grid),\n",
    "        x0=initial_x0,\n",
    "        y0=initial_y0,\n",
    "        sigma_x=1,\n",
    "        sigma_y=1,\n",
    "        offset=2\n",
    "    )\n",
    "\n",
    "    # Ajouter des bornes sur les paramètres x0 et y0\n",
    "    params['x0'].min = 0    # Limite inférieure pour x0\n",
    "    params['x0'].max = intensity_grid.shape[1] - 1  # Limite supérieure pour x0\n",
    "    params['y0'].min = 0    # Limite inférieure pour y0\n",
    "    params['y0'].max = intensity_grid.shape[0] - 1  # Limite supérieure pour y0\n",
    "\n",
    "    # Ajouter des bornes sur les paramètres sigma\n",
    "    params['sigma_x'].min = 1  # Limite inférieure de sigma_x\n",
    "    params['sigma_x'].max = 20 # Limite supérieure de sigma_x\n",
    "    params['sigma_y'].min = 1  # Limite inférieure de sigma_y\n",
    "    params['sigma_y'].max = 20 # Limite supérieure de sigma_y\n",
    "\n",
    "    # Effectuer l'ajustement\n",
    "    result = model.fit(zdata, params, xy=(xdata, ydata))\n",
    "    \n",
    "    x_position = result.params['x0'].value + centre[0] - crop_sze_x/4\n",
    "    y_position = result.params['y0'].value + centre[1] - crop_sze_y/4\n",
    "\n",
    "    return [x_position, y_position], result.params['sigma_x'].value, result.params['sigma_y'].value"
   ]
  },
  {
   "cell_type": "markdown",
   "id": "647422c5-d9bb-4e71-9481-76349ea02eca",
   "metadata": {},
   "source": [
    "# Process d'image (enlever le bruit)\n",
    "\n",
    "**semble faire du trouble**"
   ]
  },
  {
   "cell_type": "code",
   "execution_count": 13,
   "id": "c3df48fe-ec70-413c-8172-84f9754a0bcf",
   "metadata": {
    "execution": {
     "iopub.execute_input": "2024-11-27T00:34:16.287655Z",
     "iopub.status.busy": "2024-11-27T00:34:16.287395Z",
     "iopub.status.idle": "2024-11-27T00:34:16.291801Z",
     "shell.execute_reply": "2024-11-27T00:34:16.291266Z",
     "shell.execute_reply.started": "2024-11-27T00:34:16.287612Z"
    }
   },
   "outputs": [],
   "source": [
    "def denoise(image):\n",
    "    clahe = cv2.createCLAHE(clipLimit=10.0, tileGridSize=(30, 30))\n",
    "    preprocessed = clahe.apply(image)\n",
    "    \n",
    "    blurred = cv2.medianBlur(preprocessed, 115)\n",
    "    preprocessed2 = cv2.subtract(preprocessed, blurred)\n",
    "    \n",
    "    return cv2.fastNlMeansDenoising(preprocessed2, None, 15, 7, 41)"
   ]
  },
  {
   "cell_type": "markdown",
   "id": "10149e95",
   "metadata": {},
   "source": [
    "# Identifier la particule et donner sa nouvelle position"
   ]
  },
  {
   "cell_type": "code",
   "execution_count": 14,
   "id": "4e08893b",
   "metadata": {},
   "outputs": [],
   "source": [
    "def is_within_bounds(position):\n",
    "    \"\"\"\n",
    "    Vérifie si la position est à l'intérieur des limites du cadre (100 à 1300 en x et 100 à 980 en y).\n",
    "    \"\"\"\n",
    "    x, y = position\n",
    "\n",
    "    # Définir les bornes du cadre\n",
    "    x_min, x_max = 100, 1300\n",
    "    y_min, y_max = 100, 980\n",
    "\n",
    "    # Vérifier si la position est dans les bornes du cadre\n",
    "    if x_min <= x <= x_max and y_min <= y <= y_max:\n",
    "        return True\n",
    "    else:\n",
    "        return False\n"
   ]
  },
  {
   "cell_type": "code",
   "execution_count": 15,
   "id": "11c4d94f",
   "metadata": {},
   "outputs": [],
   "source": [
    "def empreinte_digitale(image, threshold=16, eps=3, min_samples=1):\n",
    "    # 1. Observer chaque particule approximativement\n",
    "    #neighborhood_size = 3  \n",
    "    #local_max = ndimage.maximum_filter(image, size=neighborhood_size)\n",
    "    visionneur(image, f'particule choisie')\n",
    "\n",
    "    maxima = (image > threshold)\n",
    "    \n",
    "    coordinates = np.column_stack(np.where(maxima))  \n",
    "    if coordinates.shape[0] == 0:\n",
    "        print(\"Aucune particule détectée.\")\n",
    "        return [], image\n",
    "\n",
    "    dbscan = DBSCAN(eps=eps, min_samples=min_samples)\n",
    "    labels = dbscan.fit_predict(coordinates)\n",
    "    unique_labels = np.unique(labels)\n",
    "    size=0\n",
    "\n",
    "    # 2. Déterminer l'empreinte digitale de notre particule\n",
    "    for label in unique_labels:\n",
    "        if label != -1:  # -1 correspond au bruit dans DBSCAN\n",
    "            cluster_points = coordinates[labels == label]\n",
    "            plt.scatter(cluster_points[:, 1], cluster_points[:, 0], label=f'Particule {label}')\n",
    "\n",
    "            if cluster_points.shape[0]>size:\n",
    "                size = cluster_points.shape[0]\n",
    "                luminosity = np.mean(image[cluster_points[:, 0], cluster_points[:, 1]])\n",
    "\n",
    "    seuil=np.max(image)*0.5\n",
    "    print(seuil)\n",
    "    # 3. Afficher les résultats et filtrer les particules selon leur taille et luminosité\n",
    "    plt.imshow(image, origin='lower', cmap='gray')\n",
    "    plt.title(f\"Empreinte digitale de la particule, lum={luminosity} et taille={size}\")\n",
    "    plt.legend()\n",
    "    plt.colorbar()  \n",
    "    plt.show()\n",
    "\n",
    "    return size, luminosity, seuil"
   ]
  },
  {
   "cell_type": "code",
   "execution_count": 16,
   "id": "f690236d",
   "metadata": {},
   "outputs": [],
   "source": [
    "def detect_nbre_particles(image, threshold, eps=5, min_samples=1):\n",
    "    # 1. Appliquer un filtre de voisinage pour détecter les maxima locaux\n",
    "    neighborhood_size = 3  # Taille du voisinage pour détecter les maxima locaux\n",
    "    local_max = ndimage.maximum_filter(image, size=neighborhood_size)\n",
    "    # 2. Comparer l'image originale et les maxima locaux pour identifier les vrais maxima\n",
    "    maxima = (image == local_max) & (image > threshold)\n",
    "\n",
    "    # 3. Extraire les coordonnées des maxima (particules)\n",
    "    coordinates = np.column_stack(np.where(maxima))  # Extraire les indices des pixels maximaux\n",
    "    if coordinates.shape[0] == 0:\n",
    "        print(\"Aucune particule détectée.\")\n",
    "        visionneur(image, f'détection du nombre de particules')\n",
    "\n",
    "        return [], image\n",
    "\n",
    "    # 4. Appliquer DBSCAN pour regrouper les particules proches (cluster les maxima détectés)\n",
    "    dbscan = DBSCAN(eps=eps, min_samples=min_samples)\n",
    "    labels = dbscan.fit_predict(coordinates)\n",
    "\n",
    "    #5. Déterminer le nombre de particules\n",
    "    unique_labels = np.unique(labels)\n",
    "    nb_particules = len(unique_labels)\n",
    "        \n",
    "    # 6. Afficher les résultats et filtrer les particules selon leur taille et luminosité\n",
    "    # plt.imshow(image, origin='lower', cmap='gray')\n",
    "    # plt.title(\"Détection des particules\")\n",
    "    \n",
    "    positions=[]\n",
    "    for label in unique_labels:\n",
    "        if label != -1:  # -1 correspond au bruit dans DBSCAN\n",
    "            cluster_points = coordinates[labels == label]\n",
    "            #plt.scatter(cluster_points[:, 1], cluster_points[:, 0], label=f'Particule {label}')\n",
    "        positions.append((np.mean(cluster_points[:, 1]), np.mean(cluster_points[:, 0])))\n",
    "        \n",
    "\n",
    "    # plt.colorbar()  \n",
    "    # plt.legend()\n",
    "    # plt.show()\n",
    "\n",
    "    # Retourner les coordonnées des particules filtrées\n",
    "    return nb_particules, positions"
   ]
  },
  {
   "cell_type": "code",
   "execution_count": 17,
   "id": "ddfe6898",
   "metadata": {},
   "outputs": [],
   "source": [
    "def identificateur_particles(image, ref_size, ref_luminosity, threshold=25, eps=5, min_samples=1):\n",
    "    # 1. Obtenir le plus d'info sur la particule\n",
    "    maxima = (image > threshold)\n",
    "    \n",
    "    coordinates = np.column_stack(np.where(maxima))  \n",
    "    if coordinates.shape[0] == 0:\n",
    "        print(\"Mauvais re-crop empêche identification de la particule.\")\n",
    "        return [], image\n",
    "\n",
    "    dbscan = DBSCAN(eps=eps, min_samples=min_samples)\n",
    "    labels = dbscan.fit_predict(coordinates)\n",
    "    unique_labels = np.unique(labels)\n",
    "\n",
    "    # 2. Parcourir chaque particule et identifier laquelle est celle qu'on suit\n",
    "    distances = []\n",
    "    position_particules = []\n",
    "\n",
    "    for label in unique_labels:\n",
    "        if label != -1:  # -1 correspond au bruit dans DBSCAN\n",
    "            cluster_points = coordinates[labels == label]\n",
    "            \n",
    "            size = cluster_points.shape[0]\n",
    "            luminosity = np.mean(image[cluster_points[:, 0], cluster_points[:, 1]])\n",
    "            size_distance = abs(size - ref_size)  \n",
    "            luminosity_distance = abs(luminosity - ref_luminosity)  \n",
    "            combined_distance = size_distance + luminosity_distance\n",
    "            distances.append(combined_distance)\n",
    "            position_particules.append((np.mean(cluster_points[:, 1]), np.mean(cluster_points[:, 0])))\n",
    "\n",
    "    ecart = np.min(distances)\n",
    "    position_best_particle = position_particules[np.argmin(distances)]  \n",
    "    print(f'ecrat: {ecart}')\n",
    "    # 3. Afficher les résultats et filtrer les particules selon leur taille et luminosité\n",
    "    # plt.imshow(image, origin='lower', cmap='gray')\n",
    "    # plt.title(\"Détection des particules\")\n",
    "    # plt.scatter(position_best_particle[0], position_best_particle[1], color='r', label=f'Particule sélectionnée')\n",
    "    # plt.legend()\n",
    "    # plt.colorbar()  \n",
    "    # plt.show()\n",
    "\n",
    "    return position_best_particle, ecart"
   ]
  },
  {
   "cell_type": "markdown",
   "id": "61f2661b-5185-493a-bd25-97d1c42d712c",
   "metadata": {},
   "source": [
    "# Faire le crop et fit"
   ]
  },
  {
   "cell_type": "code",
   "execution_count": 18,
   "id": "b695a082-5a85-499e-9183-cfd354b4dc5d",
   "metadata": {
    "execution": {
     "iopub.execute_input": "2024-11-27T00:34:16.297421Z",
     "iopub.status.busy": "2024-11-27T00:34:16.297176Z",
     "iopub.status.idle": "2024-11-27T00:34:16.301468Z",
     "shell.execute_reply": "2024-11-27T00:34:16.300888Z",
     "shell.execute_reply.started": "2024-11-27T00:34:16.297403Z"
    }
   },
   "outputs": [],
   "source": [
    "def particle_tracker_simple(image, x, y):\n",
    "    image = denoise(image)\n",
    "\n",
    "    cropped_img = crop(image, x, y, crop_sze_x, crop_sze_y)\n",
    "    \n",
    "    #Gérer plus qu'une particule\n",
    "    cropped_img = np.array(cropped_img)\n",
    "    max_index = np.argmax(cropped_img)\n",
    "    max_coords = np.unravel_index(max_index, cropped_img.shape)\n",
    "\n",
    "    nouveau_x = x - crop_sze_x // 2 + max_coords[1]\n",
    "    nouveau_y = y - crop_sze_y // 2 + max_coords[0]\n",
    "    \n",
    "    second_crop = crop(image, nouveau_x, nouveau_y, crop_sze_x, crop_sze_y)    # Re-crop autour d'une seule particule\n",
    "\n",
    "    result_fit = localisateur_gaussien(second_crop, [nouveau_x, nouveau_y])\n",
    "\n",
    "    x_new, y_new = result_fit[0][0], result_fit[0][1]\n",
    "\n",
    "    return [result_fit, cropped_img, (x_new, y_new), (result_fit[1], result_fit[2])]"
   ]
  },
  {
   "cell_type": "code",
   "execution_count": 19,
   "id": "5625e5b2",
   "metadata": {},
   "outputs": [],
   "source": [
    "#Placés ici pour pouvoir y faire référence dans particule_tracker\n",
    "position_list=[[x,y]]\n",
    "sigma_list = []\n",
    "crop_frames = []\n",
    "big_frames = []"
   ]
  },
  {
   "cell_type": "code",
   "execution_count": 20,
   "id": "0d8ff164",
   "metadata": {},
   "outputs": [],
   "source": [
    "def particle_tracker(imge, x, y, taille_initiale, luminosité_initiale, seuil):\n",
    "    # 1. Ce qu'on voit près de l'ancienne position\n",
    "    image = denoise(imge)\n",
    "\n",
    "    cropped_img = crop(image, x, y, crop_sze_x, crop_sze_y)\n",
    "    \n",
    "    # 2. Déterminer combien il y a de particules et laquelle est la notre\n",
    "    # Utiliser une reconnaissance de particules et si plus qu'une, alors clic pour choisir\n",
    "    nb_part, coordonnées = detect_nbre_particles(cropped_img, seuil)\n",
    "    #print(f'coordonnées des {nb_part} particules:{coordonnées}')\n",
    "\n",
    "    if (nb_part == 0) or (nb_part == []):\n",
    "        # Display the image and let the user select a point interactively\n",
    "        fig, ax = plt.subplots()\n",
    "        ax.imshow(denoise(img), origin='lower', cmap='gray') \n",
    "        plt.title(f\"Frame {len(position_list)-1}: Select a point\")\n",
    "\n",
    "        # Ajouter une croix rouge à la position donnée\n",
    "        cx, cy = position_list[len(position_list)-1]\n",
    "        ax.plot(cx, cy, 'rx', markersize=10) \n",
    "        \n",
    "        # Afficher l'image et demander à l'utilisateur de cliquer\n",
    "        print(\"Please click on the point you want to select.\")\n",
    "        nouveau_x, nouveau_y = plt.ginput(1)[0]  # Attente du clic de l'utilisateur (1 point)\n",
    "        print(f\"Selected point: ({nouveau_x}, {nouveau_y})\")\n",
    "        \n",
    "        # Fermer l'affichage après sélection\n",
    "        plt.close()\n",
    "    elif nb_part > 1:\n",
    "        imperfections, emplacements = [] , []\n",
    "        for num_particule in range(nb_part):\n",
    "            x_identifier=x - crop_sze_x // 2 + coordonnées[num_particule][0]\n",
    "            y_identifier=y - crop_sze_y // 2 + coordonnées[num_particule][1]\n",
    "            crop_pour_identifier = crop(image, x_identifier, y_identifier, crop_sze_x//2, crop_sze_y//2)\n",
    "            emplacement, ecart = identificateur_particles(crop_pour_identifier, taille_initiale, luminosité_initiale, seuil)\n",
    "            imperfections.append(ecart)\n",
    "            emplacements.append(emplacement)\n",
    "        qualité = np.min(imperfections)\n",
    "        print(f'écart:{qualité}')\n",
    "        max_coords = emplacements[np.argmin(imperfections)]  \n",
    "        nouveau_x = x_identifier - crop_sze_x // 4 + max_coords[0]\n",
    "        nouveau_y = y_identifier - crop_sze_y // 4 + max_coords[1]\n",
    "    else:\n",
    "        cropped_img = np.array(cropped_img)\n",
    "        max_index = np.argmax(cropped_img)\n",
    "        max_coords = np.unravel_index(max_index, cropped_img.shape)\n",
    "\n",
    "        nouveau_x = x - crop_sze_x // 2 + max_coords[1] #Oui c'est inversé à cause du unravel juste avant\n",
    "        nouveau_y = y - crop_sze_y // 2 + max_coords[0]\n",
    "\n",
    "    # Vérification s'il fout le camp \n",
    "    if np.sqrt((position_list[-1][0]-nouveau_x)**2+(position_list[-1][1]-nouveau_y)**2)>50:\n",
    "        # Display the image and let the user select a point interactively\n",
    "        fig, ax = plt.subplots()\n",
    "        ax.imshow(denoise(img), origin='lower', cmap='gray') \n",
    "        plt.title(f\"Frame {len(position_list)-1}: Problème d'identification, select a point\")\n",
    "\n",
    "        print('problème d''identification')\n",
    "        # Ajouter une croix rouge à la position donnée\n",
    "        cx, cy = position_list[-1]\n",
    "        ax.plot(cx, cy, 'rx', markersize=10, label=f'Position estimée') \n",
    "        plt.legend()\n",
    "        # Afficher l'image et demander à l'utilisateur de cliquer\n",
    "        print(\"Please click on the point you want to select.\")\n",
    "        nouveau_x, nouveau_y = plt.ginput(1)[0]  # Attente du clic de l'utilisateur (1 point)\n",
    "        print(f\"Selected point: ({nouveau_x}, {nouveau_y})\")\n",
    "        \n",
    "        # Fermer l'affichage après sélection\n",
    "        plt.close()\n",
    "\n",
    "    # 3. Crop atour de notre particule et fit dessus\n",
    "    second_crop = crop(image, nouveau_x, nouveau_y, crop_sze_x//2, crop_sze_y//2)    # Re-crop autour d'une seule particule\n",
    "\n",
    "\n",
    "    result_fit = localisateur_gaussien(second_crop, [nouveau_x, nouveau_y])\n",
    "\n",
    "    x_new, y_new = result_fit[0][0], result_fit[0][1]\n",
    "\n",
    "    # Affiche l'accord entre le fit gaussien et le blob (pour comparer)\n",
    "    # if len(position_list)==5:    \n",
    "    #     x_list, y_list = zip(*position_list)\n",
    "    #     x_list = list(x_list)  # Convertir en liste\n",
    "    #     y_list = list(y_list)  # Convertir en liste        \n",
    "    #     x_list.append(x_new)\n",
    "    #     y_list.append(y_new)   \n",
    "    #     plt.imshow(image, origin='lower', cmap='gray')#, extent=[x_position.min(), x_position.max(), y_position.min(), y_position.max()])\n",
    "    #     plt.title(\"tracking de la particule\")\n",
    "    #     plt.scatter(x_list, y_list, color='b', label=f'Positions précédentes')\n",
    "    #     plt.scatter(x_new, y_new, color='r', label=f'Position actuelle estimée par fit gaussien')\n",
    "    #     plt.plot(x_list, y_list, color='b', linestyle='-', linewidth=1)\n",
    "    #     plt.xlabel('Position horizontale (nombre de pixel)')\n",
    "    #     plt.ylabel('Position veticale (nombre de pixel)')\n",
    "    #     plt.legend()\n",
    "    #     plt.show()\n",
    "\n",
    "    return [result_fit, second_crop, (x_new, y_new), (result_fit[1], result_fit[2])]"
   ]
  },
  {
   "cell_type": "markdown",
   "id": "8002acc8-bac7-4c69-846a-381ee31f08ff",
   "metadata": {},
   "source": [
    "# Main loop"
   ]
  },
  {
   "cell_type": "code",
   "execution_count": 21,
   "id": "e7a5dba4-849a-4171-8fbb-6d05453ed795",
   "metadata": {
    "execution": {
     "iopub.execute_input": "2024-11-27T00:34:16.302483Z",
     "iopub.status.busy": "2024-11-27T00:34:16.302259Z",
     "iopub.status.idle": "2024-11-27T00:35:56.804477Z",
     "shell.execute_reply": "2024-11-27T00:35:56.803536Z",
     "shell.execute_reply.started": "2024-11-27T00:34:16.302464Z"
    }
   },
   "outputs": [
    {
     "name": "stdout",
     "output_type": "stream",
     "text": [
      "92.0\n",
      "position initiale: [[1105.2142857142858, 575.7337662337662]]\n",
      "liste des positions frame 1:[[1105.2142857142858, 575.7337662337662], (1104.3706477248586, 570.3208167865637)]\n",
      "liste des positions frame 2:[[1105.2142857142858, 575.7337662337662], (1104.3706477248586, 570.3208167865637), (1106.0442057055843, 565.3697396322322)]\n",
      "liste des positions frame 3:[[1105.2142857142858, 575.7337662337662], (1104.3706477248586, 570.3208167865637), (1106.0442057055843, 565.3697396322322), (1106.493370165924, 561.003292216581)]\n",
      "liste des positions frame 4:[[1105.2142857142858, 575.7337662337662], (1104.3706477248586, 570.3208167865637), (1106.0442057055843, 565.3697396322322), (1106.493370165924, 561.003292216581), (1107.2593896608923, 556.1733260857792)]\n",
      "liste des positions frame 5:[[1105.2142857142858, 575.7337662337662], (1104.3706477248586, 570.3208167865637), (1106.0442057055843, 565.3697396322322), (1106.493370165924, 561.003292216581), (1107.2593896608923, 556.1733260857792), (1108.7922644537596, 551.4447951520623)]\n",
      "ecrat: 580.792159265667\n",
      "ecrat: 590.8720203767782\n",
      "écart:580.792159265667\n",
      "liste des positions frame 6:[[1105.2142857142858, 575.7337662337662], (1104.3706477248586, 570.3208167865637), (1106.0442057055843, 565.3697396322322), (1106.493370165924, 561.003292216581), (1107.2593896608923, 556.1733260857792), (1108.7922644537596, 551.4447951520623), (1107.5035141843182, 546.4982683040189)]\n",
      "ecrat: 586.4283268454441\n",
      "ecrat: 587.120284265667\n",
      "écart:586.4283268454441\n",
      "liste des positions frame 7:[[1105.2142857142858, 575.7337662337662], (1104.3706477248586, 570.3208167865637), (1106.0442057055843, 565.3697396322322), (1106.493370165924, 561.003292216581), (1107.2593896608923, 556.1733260857792), (1108.7922644537596, 551.4447951520623), (1107.5035141843182, 546.4982683040189), (1106.334875903997, 536.8554595844384)]\n",
      "liste des positions frame 8:[[1105.2142857142858, 575.7337662337662], (1104.3706477248586, 570.3208167865637), (1106.0442057055843, 565.3697396322322), (1106.493370165924, 561.003292216581), (1107.2593896608923, 556.1733260857792), (1108.7922644537596, 551.4447951520623), (1107.5035141843182, 546.4982683040189), (1106.334875903997, 536.8554595844384), (1109.098333917336, 535.7438288120311)]\n",
      "liste des positions frame 9:[[1105.2142857142858, 575.7337662337662], (1104.3706477248586, 570.3208167865637), (1106.0442057055843, 565.3697396322322), (1106.493370165924, 561.003292216581), (1107.2593896608923, 556.1733260857792), (1108.7922644537596, 551.4447951520623), (1107.5035141843182, 546.4982683040189), (1106.334875903997, 536.8554595844384), (1109.098333917336, 535.7438288120311), (1109.006364408671, 529.8373016044399)]\n",
      "ecrat: 586.9779231545559\n",
      "ecrat: 609.3442425990004\n",
      "ecrat: 785.035935783832\n",
      "écart:586.9779231545559\n",
      "liste des positions frame 10:[[1105.2142857142858, 575.7337662337662], (1104.3706477248586, 570.3208167865637), (1106.0442057055843, 565.3697396322322), (1106.493370165924, 561.003292216581), (1107.2593896608923, 556.1733260857792), (1108.7922644537596, 551.4447951520623), (1107.5035141843182, 546.4982683040189), (1106.334875903997, 536.8554595844384), (1109.098333917336, 535.7438288120311), (1109.006364408671, 529.8373016044399), (1128.5895134823202, 563.8354040044056)]\n",
      "liste des positions frame 11:[[1105.2142857142858, 575.7337662337662], (1104.3706477248586, 570.3208167865637), (1106.0442057055843, 565.3697396322322), (1106.493370165924, 561.003292216581), (1107.2593896608923, 556.1733260857792), (1108.7922644537596, 551.4447951520623), (1107.5035141843182, 546.4982683040189), (1106.334875903997, 536.8554595844384), (1109.098333917336, 535.7438288120311), (1109.006364408671, 529.8373016044399), (1128.5895134823202, 563.8354040044056), (1110.2299574853575, 548.0343284312374)]\n",
      "liste des positions frame 12:[[1105.2142857142858, 575.7337662337662], (1104.3706477248586, 570.3208167865637), (1106.0442057055843, 565.3697396322322), (1106.493370165924, 561.003292216581), (1107.2593896608923, 556.1733260857792), (1108.7922644537596, 551.4447951520623), (1107.5035141843182, 546.4982683040189), (1106.334875903997, 536.8554595844384), (1109.098333917336, 535.7438288120311), (1109.006364408671, 529.8373016044399), (1128.5895134823202, 563.8354040044056), (1110.2299574853575, 548.0343284312374), (1109.8199473189, 517.1614836094382)]\n",
      "frames vide:13\n",
      "liste des positions frame 13:[[1105.2142857142858, 575.7337662337662], (1104.3706477248586, 570.3208167865637), (1106.0442057055843, 565.3697396322322), (1106.493370165924, 561.003292216581), (1107.2593896608923, 556.1733260857792), (1108.7922644537596, 551.4447951520623), (1107.5035141843182, 546.4982683040189), (1106.334875903997, 536.8554595844384), (1109.098333917336, 535.7438288120311), (1109.006364408671, 529.8373016044399), (1128.5895134823202, 563.8354040044056), (1110.2299574853575, 548.0343284312374), (1109.8199473189, 517.1614836094382), array([nan, nan])]\n",
      "frames vide:14\n",
      "liste des positions frame 14:[[1105.2142857142858, 575.7337662337662], (1104.3706477248586, 570.3208167865637), (1106.0442057055843, 565.3697396322322), (1106.493370165924, 561.003292216581), (1107.2593896608923, 556.1733260857792), (1108.7922644537596, 551.4447951520623), (1107.5035141843182, 546.4982683040189), (1106.334875903997, 536.8554595844384), (1109.098333917336, 535.7438288120311), (1109.006364408671, 529.8373016044399), (1128.5895134823202, 563.8354040044056), (1110.2299574853575, 548.0343284312374), (1109.8199473189, 517.1614836094382), array([nan, nan]), array([nan, nan])]\n",
      "liste des positions frame 15:[[1105.2142857142858, 575.7337662337662], (1104.3706477248586, 570.3208167865637), (1106.0442057055843, 565.3697396322322), (1106.493370165924, 561.003292216581), (1107.2593896608923, 556.1733260857792), (1108.7922644537596, 551.4447951520623), (1107.5035141843182, 546.4982683040189), (1106.334875903997, 536.8554595844384), (1109.098333917336, 535.7438288120311), (1109.006364408671, 529.8373016044399), (1128.5895134823202, 563.8354040044056), (1110.2299574853575, 548.0343284312374), (1109.8199473189, 517.1614836094382), array([nan, nan]), array([nan, nan]), (1111.390478959253, 511.82491689720916)]\n",
      "liste des positions frame 16:[[1105.2142857142858, 575.7337662337662], (1104.3706477248586, 570.3208167865637), (1106.0442057055843, 565.3697396322322), (1106.493370165924, 561.003292216581), (1107.2593896608923, 556.1733260857792), (1108.7922644537596, 551.4447951520623), (1107.5035141843182, 546.4982683040189), (1106.334875903997, 536.8554595844384), (1109.098333917336, 535.7438288120311), (1109.006364408671, 529.8373016044399), (1128.5895134823202, 563.8354040044056), (1110.2299574853575, 548.0343284312374), (1109.8199473189, 517.1614836094382), array([nan, nan]), array([nan, nan]), (1111.390478959253, 511.82491689720916), (1115.078097698496, 498.47750382441706)]\n",
      "ecrat: 592.5431227618858\n",
      "ecrat: 612.0649377706118\n",
      "écart:592.5431227618858\n",
      "liste des positions frame 17:[[1105.2142857142858, 575.7337662337662], (1104.3706477248586, 570.3208167865637), (1106.0442057055843, 565.3697396322322), (1106.493370165924, 561.003292216581), (1107.2593896608923, 556.1733260857792), (1108.7922644537596, 551.4447951520623), (1107.5035141843182, 546.4982683040189), (1106.334875903997, 536.8554595844384), (1109.098333917336, 535.7438288120311), (1109.006364408671, 529.8373016044399), (1128.5895134823202, 563.8354040044056), (1110.2299574853575, 548.0343284312374), (1109.8199473189, 517.1614836094382), array([nan, nan]), array([nan, nan]), (1111.390478959253, 511.82491689720916), (1115.078097698496, 498.47750382441706), (1118.0268742191836, 498.53961551667555)]\n",
      "ecrat: 601.7399178276441\n",
      "ecrat: 769.8468192706947\n",
      "écart:601.7399178276441\n",
      "liste des positions frame 18:[[1105.2142857142858, 575.7337662337662], (1104.3706477248586, 570.3208167865637), (1106.0442057055843, 565.3697396322322), (1106.493370165924, 561.003292216581), (1107.2593896608923, 556.1733260857792), (1108.7922644537596, 551.4447951520623), (1107.5035141843182, 546.4982683040189), (1106.334875903997, 536.8554595844384), (1109.098333917336, 535.7438288120311), (1109.006364408671, 529.8373016044399), (1128.5895134823202, 563.8354040044056), (1110.2299574853575, 548.0343284312374), (1109.8199473189, 517.1614836094382), array([nan, nan]), array([nan, nan]), (1111.390478959253, 511.82491689720916), (1115.078097698496, 498.47750382441706), (1118.0268742191836, 498.53961551667555), (1120.2249905847818, 502.87634214576656)]\n",
      "ecrat: 601.3459787101115\n",
      "ecrat: 980.2539648212226\n",
      "écart:601.3459787101115\n",
      "liste des positions frame 19:[[1105.2142857142858, 575.7337662337662], (1104.3706477248586, 570.3208167865637), (1106.0442057055843, 565.3697396322322), (1106.493370165924, 561.003292216581), (1107.2593896608923, 556.1733260857792), (1108.7922644537596, 551.4447951520623), (1107.5035141843182, 546.4982683040189), (1106.334875903997, 536.8554595844384), (1109.098333917336, 535.7438288120311), (1109.006364408671, 529.8373016044399), (1128.5895134823202, 563.8354040044056), (1110.2299574853575, 548.0343284312374), (1109.8199473189, 517.1614836094382), array([nan, nan]), array([nan, nan]), (1111.390478959253, 511.82491689720916), (1115.078097698496, 498.47750382441706), (1118.0268742191836, 498.53961551667555), (1120.2249905847818, 502.87634214576656), (1119.233874198703, 496.88668843392674)]\n",
      "liste des positions frame 20:[[1105.2142857142858, 575.7337662337662], (1104.3706477248586, 570.3208167865637), (1106.0442057055843, 565.3697396322322), (1106.493370165924, 561.003292216581), (1107.2593896608923, 556.1733260857792), (1108.7922644537596, 551.4447951520623), (1107.5035141843182, 546.4982683040189), (1106.334875903997, 536.8554595844384), (1109.098333917336, 535.7438288120311), (1109.006364408671, 529.8373016044399), (1128.5895134823202, 563.8354040044056), (1110.2299574853575, 548.0343284312374), (1109.8199473189, 517.1614836094382), array([nan, nan]), array([nan, nan]), (1111.390478959253, 511.82491689720916), (1115.078097698496, 498.47750382441706), (1118.0268742191836, 498.53961551667555), (1120.2249905847818, 502.87634214576656), (1119.233874198703, 496.88668843392674), (1119.8890268515008, 475.9801315581792)]\n",
      "liste des positions frame 21:[[1105.2142857142858, 575.7337662337662], (1104.3706477248586, 570.3208167865637), (1106.0442057055843, 565.3697396322322), (1106.493370165924, 561.003292216581), (1107.2593896608923, 556.1733260857792), (1108.7922644537596, 551.4447951520623), (1107.5035141843182, 546.4982683040189), (1106.334875903997, 536.8554595844384), (1109.098333917336, 535.7438288120311), (1109.006364408671, 529.8373016044399), (1128.5895134823202, 563.8354040044056), (1110.2299574853575, 548.0343284312374), (1109.8199473189, 517.1614836094382), array([nan, nan]), array([nan, nan]), (1111.390478959253, 511.82491689720916), (1115.078097698496, 498.47750382441706), (1118.0268742191836, 498.53961551667555), (1120.2249905847818, 502.87634214576656), (1119.233874198703, 496.88668843392674), (1119.8890268515008, 475.9801315581792), (1122.872415128432, 472.0416780024363)]\n",
      "liste des positions frame 22:[[1105.2142857142858, 575.7337662337662], (1104.3706477248586, 570.3208167865637), (1106.0442057055843, 565.3697396322322), (1106.493370165924, 561.003292216581), (1107.2593896608923, 556.1733260857792), (1108.7922644537596, 551.4447951520623), (1107.5035141843182, 546.4982683040189), (1106.334875903997, 536.8554595844384), (1109.098333917336, 535.7438288120311), (1109.006364408671, 529.8373016044399), (1128.5895134823202, 563.8354040044056), (1110.2299574853575, 548.0343284312374), (1109.8199473189, 517.1614836094382), array([nan, nan]), array([nan, nan]), (1111.390478959253, 511.82491689720916), (1115.078097698496, 498.47750382441706), (1118.0268742191836, 498.53961551667555), (1120.2249905847818, 502.87634214576656), (1119.233874198703, 496.88668843392674), (1119.8890268515008, 475.9801315581792), (1122.872415128432, 472.0416780024363), (1123.6436027607594, 468.33260126138174)]\n",
      "liste des positions frame 23:[[1105.2142857142858, 575.7337662337662], (1104.3706477248586, 570.3208167865637), (1106.0442057055843, 565.3697396322322), (1106.493370165924, 561.003292216581), (1107.2593896608923, 556.1733260857792), (1108.7922644537596, 551.4447951520623), (1107.5035141843182, 546.4982683040189), (1106.334875903997, 536.8554595844384), (1109.098333917336, 535.7438288120311), (1109.006364408671, 529.8373016044399), (1128.5895134823202, 563.8354040044056), (1110.2299574853575, 548.0343284312374), (1109.8199473189, 517.1614836094382), array([nan, nan]), array([nan, nan]), (1111.390478959253, 511.82491689720916), (1115.078097698496, 498.47750382441706), (1118.0268742191836, 498.53961551667555), (1120.2249905847818, 502.87634214576656), (1119.233874198703, 496.88668843392674), (1119.8890268515008, 475.9801315581792), (1122.872415128432, 472.0416780024363), (1123.6436027607594, 468.33260126138174), (1123.574223533677, 465.52391468235027)]\n",
      "liste des positions frame 24:[[1105.2142857142858, 575.7337662337662], (1104.3706477248586, 570.3208167865637), (1106.0442057055843, 565.3697396322322), (1106.493370165924, 561.003292216581), (1107.2593896608923, 556.1733260857792), (1108.7922644537596, 551.4447951520623), (1107.5035141843182, 546.4982683040189), (1106.334875903997, 536.8554595844384), (1109.098333917336, 535.7438288120311), (1109.006364408671, 529.8373016044399), (1128.5895134823202, 563.8354040044056), (1110.2299574853575, 548.0343284312374), (1109.8199473189, 517.1614836094382), array([nan, nan]), array([nan, nan]), (1111.390478959253, 511.82491689720916), (1115.078097698496, 498.47750382441706), (1118.0268742191836, 498.53961551667555), (1120.2249905847818, 502.87634214576656), (1119.233874198703, 496.88668843392674), (1119.8890268515008, 475.9801315581792), (1122.872415128432, 472.0416780024363), (1123.6436027607594, 468.33260126138174), (1123.574223533677, 465.52391468235027), (1124.9472675454208, 460.28100403454744)]\n",
      "ecrat: 624.9029343552728\n",
      "ecrat: 898.7524532544508\n",
      "écart:624.9029343552728\n",
      "liste des positions frame 25:[[1105.2142857142858, 575.7337662337662], (1104.3706477248586, 570.3208167865637), (1106.0442057055843, 565.3697396322322), (1106.493370165924, 561.003292216581), (1107.2593896608923, 556.1733260857792), (1108.7922644537596, 551.4447951520623), (1107.5035141843182, 546.4982683040189), (1106.334875903997, 536.8554595844384), (1109.098333917336, 535.7438288120311), (1109.006364408671, 529.8373016044399), (1128.5895134823202, 563.8354040044056), (1110.2299574853575, 548.0343284312374), (1109.8199473189, 517.1614836094382), array([nan, nan]), array([nan, nan]), (1111.390478959253, 511.82491689720916), (1115.078097698496, 498.47750382441706), (1118.0268742191836, 498.53961551667555), (1120.2249905847818, 502.87634214576656), (1119.233874198703, 496.88668843392674), (1119.8890268515008, 475.9801315581792), (1122.872415128432, 472.0416780024363), (1123.6436027607594, 468.33260126138174), (1123.574223533677, 465.52391468235027), (1124.9472675454208, 460.28100403454744), (1128.2754373511484, 472.7215388148989)]\n",
      "liste des positions frame 26:[[1105.2142857142858, 575.7337662337662], (1104.3706477248586, 570.3208167865637), (1106.0442057055843, 565.3697396322322), (1106.493370165924, 561.003292216581), (1107.2593896608923, 556.1733260857792), (1108.7922644537596, 551.4447951520623), (1107.5035141843182, 546.4982683040189), (1106.334875903997, 536.8554595844384), (1109.098333917336, 535.7438288120311), (1109.006364408671, 529.8373016044399), (1128.5895134823202, 563.8354040044056), (1110.2299574853575, 548.0343284312374), (1109.8199473189, 517.1614836094382), array([nan, nan]), array([nan, nan]), (1111.390478959253, 511.82491689720916), (1115.078097698496, 498.47750382441706), (1118.0268742191836, 498.53961551667555), (1120.2249905847818, 502.87634214576656), (1119.233874198703, 496.88668843392674), (1119.8890268515008, 475.9801315581792), (1122.872415128432, 472.0416780024363), (1123.6436027607594, 468.33260126138174), (1123.574223533677, 465.52391468235027), (1124.9472675454208, 460.28100403454744), (1128.2754373511484, 472.7215388148989), (1125.8559023830262, 447.16860806773917)]\n",
      "ecrat: 626.4470994594195\n",
      "ecrat: 598.401534265667\n",
      "écart:598.401534265667\n",
      "liste des positions frame 27:[[1105.2142857142858, 575.7337662337662], (1104.3706477248586, 570.3208167865637), (1106.0442057055843, 565.3697396322322), (1106.493370165924, 561.003292216581), (1107.2593896608923, 556.1733260857792), (1108.7922644537596, 551.4447951520623), (1107.5035141843182, 546.4982683040189), (1106.334875903997, 536.8554595844384), (1109.098333917336, 535.7438288120311), (1109.006364408671, 529.8373016044399), (1128.5895134823202, 563.8354040044056), (1110.2299574853575, 548.0343284312374), (1109.8199473189, 517.1614836094382), array([nan, nan]), array([nan, nan]), (1111.390478959253, 511.82491689720916), (1115.078097698496, 498.47750382441706), (1118.0268742191836, 498.53961551667555), (1120.2249905847818, 502.87634214576656), (1119.233874198703, 496.88668843392674), (1119.8890268515008, 475.9801315581792), (1122.872415128432, 472.0416780024363), (1123.6436027607594, 468.33260126138174), (1123.574223533677, 465.52391468235027), (1124.9472675454208, 460.28100403454744), (1128.2754373511484, 472.7215388148989), (1125.8559023830262, 447.16860806773917), (1125.2575676511583, 440.23910807070536)]\n",
      "liste des positions frame 28:[[1105.2142857142858, 575.7337662337662], (1104.3706477248586, 570.3208167865637), (1106.0442057055843, 565.3697396322322), (1106.493370165924, 561.003292216581), (1107.2593896608923, 556.1733260857792), (1108.7922644537596, 551.4447951520623), (1107.5035141843182, 546.4982683040189), (1106.334875903997, 536.8554595844384), (1109.098333917336, 535.7438288120311), (1109.006364408671, 529.8373016044399), (1128.5895134823202, 563.8354040044056), (1110.2299574853575, 548.0343284312374), (1109.8199473189, 517.1614836094382), array([nan, nan]), array([nan, nan]), (1111.390478959253, 511.82491689720916), (1115.078097698496, 498.47750382441706), (1118.0268742191836, 498.53961551667555), (1120.2249905847818, 502.87634214576656), (1119.233874198703, 496.88668843392674), (1119.8890268515008, 475.9801315581792), (1122.872415128432, 472.0416780024363), (1123.6436027607594, 468.33260126138174), (1123.574223533677, 465.52391468235027), (1124.9472675454208, 460.28100403454744), (1128.2754373511484, 472.7215388148989), (1125.8559023830262, 447.16860806773917), (1125.2575676511583, 440.23910807070536), (1125.6784692561268, 436.4742069399868)]\n",
      "liste des positions frame 29:[[1105.2142857142858, 575.7337662337662], (1104.3706477248586, 570.3208167865637), (1106.0442057055843, 565.3697396322322), (1106.493370165924, 561.003292216581), (1107.2593896608923, 556.1733260857792), (1108.7922644537596, 551.4447951520623), (1107.5035141843182, 546.4982683040189), (1106.334875903997, 536.8554595844384), (1109.098333917336, 535.7438288120311), (1109.006364408671, 529.8373016044399), (1128.5895134823202, 563.8354040044056), (1110.2299574853575, 548.0343284312374), (1109.8199473189, 517.1614836094382), array([nan, nan]), array([nan, nan]), (1111.390478959253, 511.82491689720916), (1115.078097698496, 498.47750382441706), (1118.0268742191836, 498.53961551667555), (1120.2249905847818, 502.87634214576656), (1119.233874198703, 496.88668843392674), (1119.8890268515008, 475.9801315581792), (1122.872415128432, 472.0416780024363), (1123.6436027607594, 468.33260126138174), (1123.574223533677, 465.52391468235027), (1124.9472675454208, 460.28100403454744), (1128.2754373511484, 472.7215388148989), (1125.8559023830262, 447.16860806773917), (1125.2575676511583, 440.23910807070536), (1125.6784692561268, 436.4742069399868), (1126.4288927226396, 433.18046050345544)]\n",
      "liste des positions frame 30:[[1105.2142857142858, 575.7337662337662], (1104.3706477248586, 570.3208167865637), (1106.0442057055843, 565.3697396322322), (1106.493370165924, 561.003292216581), (1107.2593896608923, 556.1733260857792), (1108.7922644537596, 551.4447951520623), (1107.5035141843182, 546.4982683040189), (1106.334875903997, 536.8554595844384), (1109.098333917336, 535.7438288120311), (1109.006364408671, 529.8373016044399), (1128.5895134823202, 563.8354040044056), (1110.2299574853575, 548.0343284312374), (1109.8199473189, 517.1614836094382), array([nan, nan]), array([nan, nan]), (1111.390478959253, 511.82491689720916), (1115.078097698496, 498.47750382441706), (1118.0268742191836, 498.53961551667555), (1120.2249905847818, 502.87634214576656), (1119.233874198703, 496.88668843392674), (1119.8890268515008, 475.9801315581792), (1122.872415128432, 472.0416780024363), (1123.6436027607594, 468.33260126138174), (1123.574223533677, 465.52391468235027), (1124.9472675454208, 460.28100403454744), (1128.2754373511484, 472.7215388148989), (1125.8559023830262, 447.16860806773917), (1125.2575676511583, 440.23910807070536), (1125.6784692561268, 436.4742069399868), (1126.4288927226396, 433.18046050345544), (1127.0201613369422, 429.81510009921146)]\n",
      "liste des positions frame 31:[[1105.2142857142858, 575.7337662337662], (1104.3706477248586, 570.3208167865637), (1106.0442057055843, 565.3697396322322), (1106.493370165924, 561.003292216581), (1107.2593896608923, 556.1733260857792), (1108.7922644537596, 551.4447951520623), (1107.5035141843182, 546.4982683040189), (1106.334875903997, 536.8554595844384), (1109.098333917336, 535.7438288120311), (1109.006364408671, 529.8373016044399), (1128.5895134823202, 563.8354040044056), (1110.2299574853575, 548.0343284312374), (1109.8199473189, 517.1614836094382), array([nan, nan]), array([nan, nan]), (1111.390478959253, 511.82491689720916), (1115.078097698496, 498.47750382441706), (1118.0268742191836, 498.53961551667555), (1120.2249905847818, 502.87634214576656), (1119.233874198703, 496.88668843392674), (1119.8890268515008, 475.9801315581792), (1122.872415128432, 472.0416780024363), (1123.6436027607594, 468.33260126138174), (1123.574223533677, 465.52391468235027), (1124.9472675454208, 460.28100403454744), (1128.2754373511484, 472.7215388148989), (1125.8559023830262, 447.16860806773917), (1125.2575676511583, 440.23910807070536), (1125.6784692561268, 436.4742069399868), (1126.4288927226396, 433.18046050345544), (1127.0201613369422, 429.81510009921146), (1127.6559782745508, 426.46201049647294)]\n",
      "liste des positions frame 32:[[1105.2142857142858, 575.7337662337662], (1104.3706477248586, 570.3208167865637), (1106.0442057055843, 565.3697396322322), (1106.493370165924, 561.003292216581), (1107.2593896608923, 556.1733260857792), (1108.7922644537596, 551.4447951520623), (1107.5035141843182, 546.4982683040189), (1106.334875903997, 536.8554595844384), (1109.098333917336, 535.7438288120311), (1109.006364408671, 529.8373016044399), (1128.5895134823202, 563.8354040044056), (1110.2299574853575, 548.0343284312374), (1109.8199473189, 517.1614836094382), array([nan, nan]), array([nan, nan]), (1111.390478959253, 511.82491689720916), (1115.078097698496, 498.47750382441706), (1118.0268742191836, 498.53961551667555), (1120.2249905847818, 502.87634214576656), (1119.233874198703, 496.88668843392674), (1119.8890268515008, 475.9801315581792), (1122.872415128432, 472.0416780024363), (1123.6436027607594, 468.33260126138174), (1123.574223533677, 465.52391468235027), (1124.9472675454208, 460.28100403454744), (1128.2754373511484, 472.7215388148989), (1125.8559023830262, 447.16860806773917), (1125.2575676511583, 440.23910807070536), (1125.6784692561268, 436.4742069399868), (1126.4288927226396, 433.18046050345544), (1127.0201613369422, 429.81510009921146), (1127.6559782745508, 426.46201049647294), (1126.9935966302817, 422.3411939821711)]\n",
      "ecrat: 618.5439721958539\n",
      "ecrat: 759.7403537101115\n",
      "écart:618.5439721958539\n",
      "liste des positions frame 33:[[1105.2142857142858, 575.7337662337662], (1104.3706477248586, 570.3208167865637), (1106.0442057055843, 565.3697396322322), (1106.493370165924, 561.003292216581), (1107.2593896608923, 556.1733260857792), (1108.7922644537596, 551.4447951520623), (1107.5035141843182, 546.4982683040189), (1106.334875903997, 536.8554595844384), (1109.098333917336, 535.7438288120311), (1109.006364408671, 529.8373016044399), (1128.5895134823202, 563.8354040044056), (1110.2299574853575, 548.0343284312374), (1109.8199473189, 517.1614836094382), array([nan, nan]), array([nan, nan]), (1111.390478959253, 511.82491689720916), (1115.078097698496, 498.47750382441706), (1118.0268742191836, 498.53961551667555), (1120.2249905847818, 502.87634214576656), (1119.233874198703, 496.88668843392674), (1119.8890268515008, 475.9801315581792), (1122.872415128432, 472.0416780024363), (1123.6436027607594, 468.33260126138174), (1123.574223533677, 465.52391468235027), (1124.9472675454208, 460.28100403454744), (1128.2754373511484, 472.7215388148989), (1125.8559023830262, 447.16860806773917), (1125.2575676511583, 440.23910807070536), (1125.6784692561268, 436.4742069399868), (1126.4288927226396, 433.18046050345544), (1127.0201613369422, 429.81510009921146), (1127.6559782745508, 426.46201049647294), (1126.9935966302817, 422.3411939821711), (1128.4534419778672, 423.54527636694075)]\n",
      "liste des positions frame 34:[[1105.2142857142858, 575.7337662337662], (1104.3706477248586, 570.3208167865637), (1106.0442057055843, 565.3697396322322), (1106.493370165924, 561.003292216581), (1107.2593896608923, 556.1733260857792), (1108.7922644537596, 551.4447951520623), (1107.5035141843182, 546.4982683040189), (1106.334875903997, 536.8554595844384), (1109.098333917336, 535.7438288120311), (1109.006364408671, 529.8373016044399), (1128.5895134823202, 563.8354040044056), (1110.2299574853575, 548.0343284312374), (1109.8199473189, 517.1614836094382), array([nan, nan]), array([nan, nan]), (1111.390478959253, 511.82491689720916), (1115.078097698496, 498.47750382441706), (1118.0268742191836, 498.53961551667555), (1120.2249905847818, 502.87634214576656), (1119.233874198703, 496.88668843392674), (1119.8890268515008, 475.9801315581792), (1122.872415128432, 472.0416780024363), (1123.6436027607594, 468.33260126138174), (1123.574223533677, 465.52391468235027), (1124.9472675454208, 460.28100403454744), (1128.2754373511484, 472.7215388148989), (1125.8559023830262, 447.16860806773917), (1125.2575676511583, 440.23910807070536), (1125.6784692561268, 436.4742069399868), (1126.4288927226396, 433.18046050345544), (1127.0201613369422, 429.81510009921146), (1127.6559782745508, 426.46201049647294), (1126.9935966302817, 422.3411939821711), (1128.4534419778672, 423.54527636694075), (1129.3400433817005, 410.3422946418606)]\n",
      "liste des positions frame 35:[[1105.2142857142858, 575.7337662337662], (1104.3706477248586, 570.3208167865637), (1106.0442057055843, 565.3697396322322), (1106.493370165924, 561.003292216581), (1107.2593896608923, 556.1733260857792), (1108.7922644537596, 551.4447951520623), (1107.5035141843182, 546.4982683040189), (1106.334875903997, 536.8554595844384), (1109.098333917336, 535.7438288120311), (1109.006364408671, 529.8373016044399), (1128.5895134823202, 563.8354040044056), (1110.2299574853575, 548.0343284312374), (1109.8199473189, 517.1614836094382), array([nan, nan]), array([nan, nan]), (1111.390478959253, 511.82491689720916), (1115.078097698496, 498.47750382441706), (1118.0268742191836, 498.53961551667555), (1120.2249905847818, 502.87634214576656), (1119.233874198703, 496.88668843392674), (1119.8890268515008, 475.9801315581792), (1122.872415128432, 472.0416780024363), (1123.6436027607594, 468.33260126138174), (1123.574223533677, 465.52391468235027), (1124.9472675454208, 460.28100403454744), (1128.2754373511484, 472.7215388148989), (1125.8559023830262, 447.16860806773917), (1125.2575676511583, 440.23910807070536), (1125.6784692561268, 436.4742069399868), (1126.4288927226396, 433.18046050345544), (1127.0201613369422, 429.81510009921146), (1127.6559782745508, 426.46201049647294), (1126.9935966302817, 422.3411939821711), (1128.4534419778672, 423.54527636694075), (1129.3400433817005, 410.3422946418606), (1130.8390617558239, 403.2211442203027)]\n",
      "liste des positions frame 36:[[1105.2142857142858, 575.7337662337662], (1104.3706477248586, 570.3208167865637), (1106.0442057055843, 565.3697396322322), (1106.493370165924, 561.003292216581), (1107.2593896608923, 556.1733260857792), (1108.7922644537596, 551.4447951520623), (1107.5035141843182, 546.4982683040189), (1106.334875903997, 536.8554595844384), (1109.098333917336, 535.7438288120311), (1109.006364408671, 529.8373016044399), (1128.5895134823202, 563.8354040044056), (1110.2299574853575, 548.0343284312374), (1109.8199473189, 517.1614836094382), array([nan, nan]), array([nan, nan]), (1111.390478959253, 511.82491689720916), (1115.078097698496, 498.47750382441706), (1118.0268742191836, 498.53961551667555), (1120.2249905847818, 502.87634214576656), (1119.233874198703, 496.88668843392674), (1119.8890268515008, 475.9801315581792), (1122.872415128432, 472.0416780024363), (1123.6436027607594, 468.33260126138174), (1123.574223533677, 465.52391468235027), (1124.9472675454208, 460.28100403454744), (1128.2754373511484, 472.7215388148989), (1125.8559023830262, 447.16860806773917), (1125.2575676511583, 440.23910807070536), (1125.6784692561268, 436.4742069399868), (1126.4288927226396, 433.18046050345544), (1127.0201613369422, 429.81510009921146), (1127.6559782745508, 426.46201049647294), (1126.9935966302817, 422.3411939821711), (1128.4534419778672, 423.54527636694075), (1129.3400433817005, 410.3422946418606), (1130.8390617558239, 403.2211442203027), (1131.3628101968854, 399.3584621176501)]\n",
      "liste des positions frame 37:[[1105.2142857142858, 575.7337662337662], (1104.3706477248586, 570.3208167865637), (1106.0442057055843, 565.3697396322322), (1106.493370165924, 561.003292216581), (1107.2593896608923, 556.1733260857792), (1108.7922644537596, 551.4447951520623), (1107.5035141843182, 546.4982683040189), (1106.334875903997, 536.8554595844384), (1109.098333917336, 535.7438288120311), (1109.006364408671, 529.8373016044399), (1128.5895134823202, 563.8354040044056), (1110.2299574853575, 548.0343284312374), (1109.8199473189, 517.1614836094382), array([nan, nan]), array([nan, nan]), (1111.390478959253, 511.82491689720916), (1115.078097698496, 498.47750382441706), (1118.0268742191836, 498.53961551667555), (1120.2249905847818, 502.87634214576656), (1119.233874198703, 496.88668843392674), (1119.8890268515008, 475.9801315581792), (1122.872415128432, 472.0416780024363), (1123.6436027607594, 468.33260126138174), (1123.574223533677, 465.52391468235027), (1124.9472675454208, 460.28100403454744), (1128.2754373511484, 472.7215388148989), (1125.8559023830262, 447.16860806773917), (1125.2575676511583, 440.23910807070536), (1125.6784692561268, 436.4742069399868), (1126.4288927226396, 433.18046050345544), (1127.0201613369422, 429.81510009921146), (1127.6559782745508, 426.46201049647294), (1126.9935966302817, 422.3411939821711), (1128.4534419778672, 423.54527636694075), (1129.3400433817005, 410.3422946418606), (1130.8390617558239, 403.2211442203027), (1131.3628101968854, 399.3584621176501), (1131.935479181916, 395.95925283146516)]\n",
      "liste des positions frame 38:[[1105.2142857142858, 575.7337662337662], (1104.3706477248586, 570.3208167865637), (1106.0442057055843, 565.3697396322322), (1106.493370165924, 561.003292216581), (1107.2593896608923, 556.1733260857792), (1108.7922644537596, 551.4447951520623), (1107.5035141843182, 546.4982683040189), (1106.334875903997, 536.8554595844384), (1109.098333917336, 535.7438288120311), (1109.006364408671, 529.8373016044399), (1128.5895134823202, 563.8354040044056), (1110.2299574853575, 548.0343284312374), (1109.8199473189, 517.1614836094382), array([nan, nan]), array([nan, nan]), (1111.390478959253, 511.82491689720916), (1115.078097698496, 498.47750382441706), (1118.0268742191836, 498.53961551667555), (1120.2249905847818, 502.87634214576656), (1119.233874198703, 496.88668843392674), (1119.8890268515008, 475.9801315581792), (1122.872415128432, 472.0416780024363), (1123.6436027607594, 468.33260126138174), (1123.574223533677, 465.52391468235027), (1124.9472675454208, 460.28100403454744), (1128.2754373511484, 472.7215388148989), (1125.8559023830262, 447.16860806773917), (1125.2575676511583, 440.23910807070536), (1125.6784692561268, 436.4742069399868), (1126.4288927226396, 433.18046050345544), (1127.0201613369422, 429.81510009921146), (1127.6559782745508, 426.46201049647294), (1126.9935966302817, 422.3411939821711), (1128.4534419778672, 423.54527636694075), (1129.3400433817005, 410.3422946418606), (1130.8390617558239, 403.2211442203027), (1131.3628101968854, 399.3584621176501), (1131.935479181916, 395.95925283146516), (1134.238080031847, 393.20539102697535)]\n",
      "liste des positions frame 39:[[1105.2142857142858, 575.7337662337662], (1104.3706477248586, 570.3208167865637), (1106.0442057055843, 565.3697396322322), (1106.493370165924, 561.003292216581), (1107.2593896608923, 556.1733260857792), (1108.7922644537596, 551.4447951520623), (1107.5035141843182, 546.4982683040189), (1106.334875903997, 536.8554595844384), (1109.098333917336, 535.7438288120311), (1109.006364408671, 529.8373016044399), (1128.5895134823202, 563.8354040044056), (1110.2299574853575, 548.0343284312374), (1109.8199473189, 517.1614836094382), array([nan, nan]), array([nan, nan]), (1111.390478959253, 511.82491689720916), (1115.078097698496, 498.47750382441706), (1118.0268742191836, 498.53961551667555), (1120.2249905847818, 502.87634214576656), (1119.233874198703, 496.88668843392674), (1119.8890268515008, 475.9801315581792), (1122.872415128432, 472.0416780024363), (1123.6436027607594, 468.33260126138174), (1123.574223533677, 465.52391468235027), (1124.9472675454208, 460.28100403454744), (1128.2754373511484, 472.7215388148989), (1125.8559023830262, 447.16860806773917), (1125.2575676511583, 440.23910807070536), (1125.6784692561268, 436.4742069399868), (1126.4288927226396, 433.18046050345544), (1127.0201613369422, 429.81510009921146), (1127.6559782745508, 426.46201049647294), (1126.9935966302817, 422.3411939821711), (1128.4534419778672, 423.54527636694075), (1129.3400433817005, 410.3422946418606), (1130.8390617558239, 403.2211442203027), (1131.3628101968854, 399.3584621176501), (1131.935479181916, 395.95925283146516), (1134.238080031847, 393.20539102697535), (1134.46956699192, 388.68351164630644)]\n",
      "liste des positions frame 40:[[1105.2142857142858, 575.7337662337662], (1104.3706477248586, 570.3208167865637), (1106.0442057055843, 565.3697396322322), (1106.493370165924, 561.003292216581), (1107.2593896608923, 556.1733260857792), (1108.7922644537596, 551.4447951520623), (1107.5035141843182, 546.4982683040189), (1106.334875903997, 536.8554595844384), (1109.098333917336, 535.7438288120311), (1109.006364408671, 529.8373016044399), (1128.5895134823202, 563.8354040044056), (1110.2299574853575, 548.0343284312374), (1109.8199473189, 517.1614836094382), array([nan, nan]), array([nan, nan]), (1111.390478959253, 511.82491689720916), (1115.078097698496, 498.47750382441706), (1118.0268742191836, 498.53961551667555), (1120.2249905847818, 502.87634214576656), (1119.233874198703, 496.88668843392674), (1119.8890268515008, 475.9801315581792), (1122.872415128432, 472.0416780024363), (1123.6436027607594, 468.33260126138174), (1123.574223533677, 465.52391468235027), (1124.9472675454208, 460.28100403454744), (1128.2754373511484, 472.7215388148989), (1125.8559023830262, 447.16860806773917), (1125.2575676511583, 440.23910807070536), (1125.6784692561268, 436.4742069399868), (1126.4288927226396, 433.18046050345544), (1127.0201613369422, 429.81510009921146), (1127.6559782745508, 426.46201049647294), (1126.9935966302817, 422.3411939821711), (1128.4534419778672, 423.54527636694075), (1129.3400433817005, 410.3422946418606), (1130.8390617558239, 403.2211442203027), (1131.3628101968854, 399.3584621176501), (1131.935479181916, 395.95925283146516), (1134.238080031847, 393.20539102697535), (1134.46956699192, 388.68351164630644), (1136.59023144421, 385.0150271278667)]\n",
      "liste des positions frame 41:[[1105.2142857142858, 575.7337662337662], (1104.3706477248586, 570.3208167865637), (1106.0442057055843, 565.3697396322322), (1106.493370165924, 561.003292216581), (1107.2593896608923, 556.1733260857792), (1108.7922644537596, 551.4447951520623), (1107.5035141843182, 546.4982683040189), (1106.334875903997, 536.8554595844384), (1109.098333917336, 535.7438288120311), (1109.006364408671, 529.8373016044399), (1128.5895134823202, 563.8354040044056), (1110.2299574853575, 548.0343284312374), (1109.8199473189, 517.1614836094382), array([nan, nan]), array([nan, nan]), (1111.390478959253, 511.82491689720916), (1115.078097698496, 498.47750382441706), (1118.0268742191836, 498.53961551667555), (1120.2249905847818, 502.87634214576656), (1119.233874198703, 496.88668843392674), (1119.8890268515008, 475.9801315581792), (1122.872415128432, 472.0416780024363), (1123.6436027607594, 468.33260126138174), (1123.574223533677, 465.52391468235027), (1124.9472675454208, 460.28100403454744), (1128.2754373511484, 472.7215388148989), (1125.8559023830262, 447.16860806773917), (1125.2575676511583, 440.23910807070536), (1125.6784692561268, 436.4742069399868), (1126.4288927226396, 433.18046050345544), (1127.0201613369422, 429.81510009921146), (1127.6559782745508, 426.46201049647294), (1126.9935966302817, 422.3411939821711), (1128.4534419778672, 423.54527636694075), (1129.3400433817005, 410.3422946418606), (1130.8390617558239, 403.2211442203027), (1131.3628101968854, 399.3584621176501), (1131.935479181916, 395.95925283146516), (1134.238080031847, 393.20539102697535), (1134.46956699192, 388.68351164630644), (1136.59023144421, 385.0150271278667), (1138.862652108498, 377.173964130304)]\n",
      "liste des positions frame 42:[[1105.2142857142858, 575.7337662337662], (1104.3706477248586, 570.3208167865637), (1106.0442057055843, 565.3697396322322), (1106.493370165924, 561.003292216581), (1107.2593896608923, 556.1733260857792), (1108.7922644537596, 551.4447951520623), (1107.5035141843182, 546.4982683040189), (1106.334875903997, 536.8554595844384), (1109.098333917336, 535.7438288120311), (1109.006364408671, 529.8373016044399), (1128.5895134823202, 563.8354040044056), (1110.2299574853575, 548.0343284312374), (1109.8199473189, 517.1614836094382), array([nan, nan]), array([nan, nan]), (1111.390478959253, 511.82491689720916), (1115.078097698496, 498.47750382441706), (1118.0268742191836, 498.53961551667555), (1120.2249905847818, 502.87634214576656), (1119.233874198703, 496.88668843392674), (1119.8890268515008, 475.9801315581792), (1122.872415128432, 472.0416780024363), (1123.6436027607594, 468.33260126138174), (1123.574223533677, 465.52391468235027), (1124.9472675454208, 460.28100403454744), (1128.2754373511484, 472.7215388148989), (1125.8559023830262, 447.16860806773917), (1125.2575676511583, 440.23910807070536), (1125.6784692561268, 436.4742069399868), (1126.4288927226396, 433.18046050345544), (1127.0201613369422, 429.81510009921146), (1127.6559782745508, 426.46201049647294), (1126.9935966302817, 422.3411939821711), (1128.4534419778672, 423.54527636694075), (1129.3400433817005, 410.3422946418606), (1130.8390617558239, 403.2211442203027), (1131.3628101968854, 399.3584621176501), (1131.935479181916, 395.95925283146516), (1134.238080031847, 393.20539102697535), (1134.46956699192, 388.68351164630644), (1136.59023144421, 385.0150271278667), (1138.862652108498, 377.173964130304), (1140.0355836170788, 372.534109590988)]\n",
      "liste des positions frame 43:[[1105.2142857142858, 575.7337662337662], (1104.3706477248586, 570.3208167865637), (1106.0442057055843, 565.3697396322322), (1106.493370165924, 561.003292216581), (1107.2593896608923, 556.1733260857792), (1108.7922644537596, 551.4447951520623), (1107.5035141843182, 546.4982683040189), (1106.334875903997, 536.8554595844384), (1109.098333917336, 535.7438288120311), (1109.006364408671, 529.8373016044399), (1128.5895134823202, 563.8354040044056), (1110.2299574853575, 548.0343284312374), (1109.8199473189, 517.1614836094382), array([nan, nan]), array([nan, nan]), (1111.390478959253, 511.82491689720916), (1115.078097698496, 498.47750382441706), (1118.0268742191836, 498.53961551667555), (1120.2249905847818, 502.87634214576656), (1119.233874198703, 496.88668843392674), (1119.8890268515008, 475.9801315581792), (1122.872415128432, 472.0416780024363), (1123.6436027607594, 468.33260126138174), (1123.574223533677, 465.52391468235027), (1124.9472675454208, 460.28100403454744), (1128.2754373511484, 472.7215388148989), (1125.8559023830262, 447.16860806773917), (1125.2575676511583, 440.23910807070536), (1125.6784692561268, 436.4742069399868), (1126.4288927226396, 433.18046050345544), (1127.0201613369422, 429.81510009921146), (1127.6559782745508, 426.46201049647294), (1126.9935966302817, 422.3411939821711), (1128.4534419778672, 423.54527636694075), (1129.3400433817005, 410.3422946418606), (1130.8390617558239, 403.2211442203027), (1131.3628101968854, 399.3584621176501), (1131.935479181916, 395.95925283146516), (1134.238080031847, 393.20539102697535), (1134.46956699192, 388.68351164630644), (1136.59023144421, 385.0150271278667), (1138.862652108498, 377.173964130304), (1140.0355836170788, 372.534109590988), (1138.9618736049424, 366.4540128944856)]\n",
      "liste des positions frame 44:[[1105.2142857142858, 575.7337662337662], (1104.3706477248586, 570.3208167865637), (1106.0442057055843, 565.3697396322322), (1106.493370165924, 561.003292216581), (1107.2593896608923, 556.1733260857792), (1108.7922644537596, 551.4447951520623), (1107.5035141843182, 546.4982683040189), (1106.334875903997, 536.8554595844384), (1109.098333917336, 535.7438288120311), (1109.006364408671, 529.8373016044399), (1128.5895134823202, 563.8354040044056), (1110.2299574853575, 548.0343284312374), (1109.8199473189, 517.1614836094382), array([nan, nan]), array([nan, nan]), (1111.390478959253, 511.82491689720916), (1115.078097698496, 498.47750382441706), (1118.0268742191836, 498.53961551667555), (1120.2249905847818, 502.87634214576656), (1119.233874198703, 496.88668843392674), (1119.8890268515008, 475.9801315581792), (1122.872415128432, 472.0416780024363), (1123.6436027607594, 468.33260126138174), (1123.574223533677, 465.52391468235027), (1124.9472675454208, 460.28100403454744), (1128.2754373511484, 472.7215388148989), (1125.8559023830262, 447.16860806773917), (1125.2575676511583, 440.23910807070536), (1125.6784692561268, 436.4742069399868), (1126.4288927226396, 433.18046050345544), (1127.0201613369422, 429.81510009921146), (1127.6559782745508, 426.46201049647294), (1126.9935966302817, 422.3411939821711), (1128.4534419778672, 423.54527636694075), (1129.3400433817005, 410.3422946418606), (1130.8390617558239, 403.2211442203027), (1131.3628101968854, 399.3584621176501), (1131.935479181916, 395.95925283146516), (1134.238080031847, 393.20539102697535), (1134.46956699192, 388.68351164630644), (1136.59023144421, 385.0150271278667), (1138.862652108498, 377.173964130304), (1140.0355836170788, 372.534109590988), (1138.9618736049424, 366.4540128944856), (1140.4740216521961, 362.85277496401864)]\n",
      "liste des positions frame 45:[[1105.2142857142858, 575.7337662337662], (1104.3706477248586, 570.3208167865637), (1106.0442057055843, 565.3697396322322), (1106.493370165924, 561.003292216581), (1107.2593896608923, 556.1733260857792), (1108.7922644537596, 551.4447951520623), (1107.5035141843182, 546.4982683040189), (1106.334875903997, 536.8554595844384), (1109.098333917336, 535.7438288120311), (1109.006364408671, 529.8373016044399), (1128.5895134823202, 563.8354040044056), (1110.2299574853575, 548.0343284312374), (1109.8199473189, 517.1614836094382), array([nan, nan]), array([nan, nan]), (1111.390478959253, 511.82491689720916), (1115.078097698496, 498.47750382441706), (1118.0268742191836, 498.53961551667555), (1120.2249905847818, 502.87634214576656), (1119.233874198703, 496.88668843392674), (1119.8890268515008, 475.9801315581792), (1122.872415128432, 472.0416780024363), (1123.6436027607594, 468.33260126138174), (1123.574223533677, 465.52391468235027), (1124.9472675454208, 460.28100403454744), (1128.2754373511484, 472.7215388148989), (1125.8559023830262, 447.16860806773917), (1125.2575676511583, 440.23910807070536), (1125.6784692561268, 436.4742069399868), (1126.4288927226396, 433.18046050345544), (1127.0201613369422, 429.81510009921146), (1127.6559782745508, 426.46201049647294), (1126.9935966302817, 422.3411939821711), (1128.4534419778672, 423.54527636694075), (1129.3400433817005, 410.3422946418606), (1130.8390617558239, 403.2211442203027), (1131.3628101968854, 399.3584621176501), (1131.935479181916, 395.95925283146516), (1134.238080031847, 393.20539102697535), (1134.46956699192, 388.68351164630644), (1136.59023144421, 385.0150271278667), (1138.862652108498, 377.173964130304), (1140.0355836170788, 372.534109590988), (1138.9618736049424, 366.4540128944856), (1140.4740216521961, 362.85277496401864), (1140.9753447067653, 359.91893664342274)]\n",
      "liste des positions frame 46:[[1105.2142857142858, 575.7337662337662], (1104.3706477248586, 570.3208167865637), (1106.0442057055843, 565.3697396322322), (1106.493370165924, 561.003292216581), (1107.2593896608923, 556.1733260857792), (1108.7922644537596, 551.4447951520623), (1107.5035141843182, 546.4982683040189), (1106.334875903997, 536.8554595844384), (1109.098333917336, 535.7438288120311), (1109.006364408671, 529.8373016044399), (1128.5895134823202, 563.8354040044056), (1110.2299574853575, 548.0343284312374), (1109.8199473189, 517.1614836094382), array([nan, nan]), array([nan, nan]), (1111.390478959253, 511.82491689720916), (1115.078097698496, 498.47750382441706), (1118.0268742191836, 498.53961551667555), (1120.2249905847818, 502.87634214576656), (1119.233874198703, 496.88668843392674), (1119.8890268515008, 475.9801315581792), (1122.872415128432, 472.0416780024363), (1123.6436027607594, 468.33260126138174), (1123.574223533677, 465.52391468235027), (1124.9472675454208, 460.28100403454744), (1128.2754373511484, 472.7215388148989), (1125.8559023830262, 447.16860806773917), (1125.2575676511583, 440.23910807070536), (1125.6784692561268, 436.4742069399868), (1126.4288927226396, 433.18046050345544), (1127.0201613369422, 429.81510009921146), (1127.6559782745508, 426.46201049647294), (1126.9935966302817, 422.3411939821711), (1128.4534419778672, 423.54527636694075), (1129.3400433817005, 410.3422946418606), (1130.8390617558239, 403.2211442203027), (1131.3628101968854, 399.3584621176501), (1131.935479181916, 395.95925283146516), (1134.238080031847, 393.20539102697535), (1134.46956699192, 388.68351164630644), (1136.59023144421, 385.0150271278667), (1138.862652108498, 377.173964130304), (1140.0355836170788, 372.534109590988), (1138.9618736049424, 366.4540128944856), (1140.4740216521961, 362.85277496401864), (1140.9753447067653, 359.91893664342274), (1143.1474637269505, 356.43461344342796)]\n",
      "liste des positions frame 47:[[1105.2142857142858, 575.7337662337662], (1104.3706477248586, 570.3208167865637), (1106.0442057055843, 565.3697396322322), (1106.493370165924, 561.003292216581), (1107.2593896608923, 556.1733260857792), (1108.7922644537596, 551.4447951520623), (1107.5035141843182, 546.4982683040189), (1106.334875903997, 536.8554595844384), (1109.098333917336, 535.7438288120311), (1109.006364408671, 529.8373016044399), (1128.5895134823202, 563.8354040044056), (1110.2299574853575, 548.0343284312374), (1109.8199473189, 517.1614836094382), array([nan, nan]), array([nan, nan]), (1111.390478959253, 511.82491689720916), (1115.078097698496, 498.47750382441706), (1118.0268742191836, 498.53961551667555), (1120.2249905847818, 502.87634214576656), (1119.233874198703, 496.88668843392674), (1119.8890268515008, 475.9801315581792), (1122.872415128432, 472.0416780024363), (1123.6436027607594, 468.33260126138174), (1123.574223533677, 465.52391468235027), (1124.9472675454208, 460.28100403454744), (1128.2754373511484, 472.7215388148989), (1125.8559023830262, 447.16860806773917), (1125.2575676511583, 440.23910807070536), (1125.6784692561268, 436.4742069399868), (1126.4288927226396, 433.18046050345544), (1127.0201613369422, 429.81510009921146), (1127.6559782745508, 426.46201049647294), (1126.9935966302817, 422.3411939821711), (1128.4534419778672, 423.54527636694075), (1129.3400433817005, 410.3422946418606), (1130.8390617558239, 403.2211442203027), (1131.3628101968854, 399.3584621176501), (1131.935479181916, 395.95925283146516), (1134.238080031847, 393.20539102697535), (1134.46956699192, 388.68351164630644), (1136.59023144421, 385.0150271278667), (1138.862652108498, 377.173964130304), (1140.0355836170788, 372.534109590988), (1138.9618736049424, 366.4540128944856), (1140.4740216521961, 362.85277496401864), (1140.9753447067653, 359.91893664342274), (1143.1474637269505, 356.43461344342796), (1142.5105694802965, 351.93508474781873)]\n",
      "liste des positions frame 48:[[1105.2142857142858, 575.7337662337662], (1104.3706477248586, 570.3208167865637), (1106.0442057055843, 565.3697396322322), (1106.493370165924, 561.003292216581), (1107.2593896608923, 556.1733260857792), (1108.7922644537596, 551.4447951520623), (1107.5035141843182, 546.4982683040189), (1106.334875903997, 536.8554595844384), (1109.098333917336, 535.7438288120311), (1109.006364408671, 529.8373016044399), (1128.5895134823202, 563.8354040044056), (1110.2299574853575, 548.0343284312374), (1109.8199473189, 517.1614836094382), array([nan, nan]), array([nan, nan]), (1111.390478959253, 511.82491689720916), (1115.078097698496, 498.47750382441706), (1118.0268742191836, 498.53961551667555), (1120.2249905847818, 502.87634214576656), (1119.233874198703, 496.88668843392674), (1119.8890268515008, 475.9801315581792), (1122.872415128432, 472.0416780024363), (1123.6436027607594, 468.33260126138174), (1123.574223533677, 465.52391468235027), (1124.9472675454208, 460.28100403454744), (1128.2754373511484, 472.7215388148989), (1125.8559023830262, 447.16860806773917), (1125.2575676511583, 440.23910807070536), (1125.6784692561268, 436.4742069399868), (1126.4288927226396, 433.18046050345544), (1127.0201613369422, 429.81510009921146), (1127.6559782745508, 426.46201049647294), (1126.9935966302817, 422.3411939821711), (1128.4534419778672, 423.54527636694075), (1129.3400433817005, 410.3422946418606), (1130.8390617558239, 403.2211442203027), (1131.3628101968854, 399.3584621176501), (1131.935479181916, 395.95925283146516), (1134.238080031847, 393.20539102697535), (1134.46956699192, 388.68351164630644), (1136.59023144421, 385.0150271278667), (1138.862652108498, 377.173964130304), (1140.0355836170788, 372.534109590988), (1138.9618736049424, 366.4540128944856), (1140.4740216521961, 362.85277496401864), (1140.9753447067653, 359.91893664342274), (1143.1474637269505, 356.43461344342796), (1142.5105694802965, 351.93508474781873), (1144.3967221347193, 347.5356232920079)]\n",
      "liste des positions frame 49:[[1105.2142857142858, 575.7337662337662], (1104.3706477248586, 570.3208167865637), (1106.0442057055843, 565.3697396322322), (1106.493370165924, 561.003292216581), (1107.2593896608923, 556.1733260857792), (1108.7922644537596, 551.4447951520623), (1107.5035141843182, 546.4982683040189), (1106.334875903997, 536.8554595844384), (1109.098333917336, 535.7438288120311), (1109.006364408671, 529.8373016044399), (1128.5895134823202, 563.8354040044056), (1110.2299574853575, 548.0343284312374), (1109.8199473189, 517.1614836094382), array([nan, nan]), array([nan, nan]), (1111.390478959253, 511.82491689720916), (1115.078097698496, 498.47750382441706), (1118.0268742191836, 498.53961551667555), (1120.2249905847818, 502.87634214576656), (1119.233874198703, 496.88668843392674), (1119.8890268515008, 475.9801315581792), (1122.872415128432, 472.0416780024363), (1123.6436027607594, 468.33260126138174), (1123.574223533677, 465.52391468235027), (1124.9472675454208, 460.28100403454744), (1128.2754373511484, 472.7215388148989), (1125.8559023830262, 447.16860806773917), (1125.2575676511583, 440.23910807070536), (1125.6784692561268, 436.4742069399868), (1126.4288927226396, 433.18046050345544), (1127.0201613369422, 429.81510009921146), (1127.6559782745508, 426.46201049647294), (1126.9935966302817, 422.3411939821711), (1128.4534419778672, 423.54527636694075), (1129.3400433817005, 410.3422946418606), (1130.8390617558239, 403.2211442203027), (1131.3628101968854, 399.3584621176501), (1131.935479181916, 395.95925283146516), (1134.238080031847, 393.20539102697535), (1134.46956699192, 388.68351164630644), (1136.59023144421, 385.0150271278667), (1138.862652108498, 377.173964130304), (1140.0355836170788, 372.534109590988), (1138.9618736049424, 366.4540128944856), (1140.4740216521961, 362.85277496401864), (1140.9753447067653, 359.91893664342274), (1143.1474637269505, 356.43461344342796), (1142.5105694802965, 351.93508474781873), (1144.3967221347193, 347.5356232920079), (1144.5544937074264, 341.9733669337061)]\n",
      "liste des positions frame 50:[[1105.2142857142858, 575.7337662337662], (1104.3706477248586, 570.3208167865637), (1106.0442057055843, 565.3697396322322), (1106.493370165924, 561.003292216581), (1107.2593896608923, 556.1733260857792), (1108.7922644537596, 551.4447951520623), (1107.5035141843182, 546.4982683040189), (1106.334875903997, 536.8554595844384), (1109.098333917336, 535.7438288120311), (1109.006364408671, 529.8373016044399), (1128.5895134823202, 563.8354040044056), (1110.2299574853575, 548.0343284312374), (1109.8199473189, 517.1614836094382), array([nan, nan]), array([nan, nan]), (1111.390478959253, 511.82491689720916), (1115.078097698496, 498.47750382441706), (1118.0268742191836, 498.53961551667555), (1120.2249905847818, 502.87634214576656), (1119.233874198703, 496.88668843392674), (1119.8890268515008, 475.9801315581792), (1122.872415128432, 472.0416780024363), (1123.6436027607594, 468.33260126138174), (1123.574223533677, 465.52391468235027), (1124.9472675454208, 460.28100403454744), (1128.2754373511484, 472.7215388148989), (1125.8559023830262, 447.16860806773917), (1125.2575676511583, 440.23910807070536), (1125.6784692561268, 436.4742069399868), (1126.4288927226396, 433.18046050345544), (1127.0201613369422, 429.81510009921146), (1127.6559782745508, 426.46201049647294), (1126.9935966302817, 422.3411939821711), (1128.4534419778672, 423.54527636694075), (1129.3400433817005, 410.3422946418606), (1130.8390617558239, 403.2211442203027), (1131.3628101968854, 399.3584621176501), (1131.935479181916, 395.95925283146516), (1134.238080031847, 393.20539102697535), (1134.46956699192, 388.68351164630644), (1136.59023144421, 385.0150271278667), (1138.862652108498, 377.173964130304), (1140.0355836170788, 372.534109590988), (1138.9618736049424, 366.4540128944856), (1140.4740216521961, 362.85277496401864), (1140.9753447067653, 359.91893664342274), (1143.1474637269505, 356.43461344342796), (1142.5105694802965, 351.93508474781873), (1144.3967221347193, 347.5356232920079), (1144.5544937074264, 341.9733669337061), (1145.09950517639, 338.5118891852207)]\n",
      "liste des positions frame 51:[[1105.2142857142858, 575.7337662337662], (1104.3706477248586, 570.3208167865637), (1106.0442057055843, 565.3697396322322), (1106.493370165924, 561.003292216581), (1107.2593896608923, 556.1733260857792), (1108.7922644537596, 551.4447951520623), (1107.5035141843182, 546.4982683040189), (1106.334875903997, 536.8554595844384), (1109.098333917336, 535.7438288120311), (1109.006364408671, 529.8373016044399), (1128.5895134823202, 563.8354040044056), (1110.2299574853575, 548.0343284312374), (1109.8199473189, 517.1614836094382), array([nan, nan]), array([nan, nan]), (1111.390478959253, 511.82491689720916), (1115.078097698496, 498.47750382441706), (1118.0268742191836, 498.53961551667555), (1120.2249905847818, 502.87634214576656), (1119.233874198703, 496.88668843392674), (1119.8890268515008, 475.9801315581792), (1122.872415128432, 472.0416780024363), (1123.6436027607594, 468.33260126138174), (1123.574223533677, 465.52391468235027), (1124.9472675454208, 460.28100403454744), (1128.2754373511484, 472.7215388148989), (1125.8559023830262, 447.16860806773917), (1125.2575676511583, 440.23910807070536), (1125.6784692561268, 436.4742069399868), (1126.4288927226396, 433.18046050345544), (1127.0201613369422, 429.81510009921146), (1127.6559782745508, 426.46201049647294), (1126.9935966302817, 422.3411939821711), (1128.4534419778672, 423.54527636694075), (1129.3400433817005, 410.3422946418606), (1130.8390617558239, 403.2211442203027), (1131.3628101968854, 399.3584621176501), (1131.935479181916, 395.95925283146516), (1134.238080031847, 393.20539102697535), (1134.46956699192, 388.68351164630644), (1136.59023144421, 385.0150271278667), (1138.862652108498, 377.173964130304), (1140.0355836170788, 372.534109590988), (1138.9618736049424, 366.4540128944856), (1140.4740216521961, 362.85277496401864), (1140.9753447067653, 359.91893664342274), (1143.1474637269505, 356.43461344342796), (1142.5105694802965, 351.93508474781873), (1144.3967221347193, 347.5356232920079), (1144.5544937074264, 341.9733669337061), (1145.09950517639, 338.5118891852207), (1144.5097121018555, 333.25606473611833)]\n",
      "liste des positions frame 52:[[1105.2142857142858, 575.7337662337662], (1104.3706477248586, 570.3208167865637), (1106.0442057055843, 565.3697396322322), (1106.493370165924, 561.003292216581), (1107.2593896608923, 556.1733260857792), (1108.7922644537596, 551.4447951520623), (1107.5035141843182, 546.4982683040189), (1106.334875903997, 536.8554595844384), (1109.098333917336, 535.7438288120311), (1109.006364408671, 529.8373016044399), (1128.5895134823202, 563.8354040044056), (1110.2299574853575, 548.0343284312374), (1109.8199473189, 517.1614836094382), array([nan, nan]), array([nan, nan]), (1111.390478959253, 511.82491689720916), (1115.078097698496, 498.47750382441706), (1118.0268742191836, 498.53961551667555), (1120.2249905847818, 502.87634214576656), (1119.233874198703, 496.88668843392674), (1119.8890268515008, 475.9801315581792), (1122.872415128432, 472.0416780024363), (1123.6436027607594, 468.33260126138174), (1123.574223533677, 465.52391468235027), (1124.9472675454208, 460.28100403454744), (1128.2754373511484, 472.7215388148989), (1125.8559023830262, 447.16860806773917), (1125.2575676511583, 440.23910807070536), (1125.6784692561268, 436.4742069399868), (1126.4288927226396, 433.18046050345544), (1127.0201613369422, 429.81510009921146), (1127.6559782745508, 426.46201049647294), (1126.9935966302817, 422.3411939821711), (1128.4534419778672, 423.54527636694075), (1129.3400433817005, 410.3422946418606), (1130.8390617558239, 403.2211442203027), (1131.3628101968854, 399.3584621176501), (1131.935479181916, 395.95925283146516), (1134.238080031847, 393.20539102697535), (1134.46956699192, 388.68351164630644), (1136.59023144421, 385.0150271278667), (1138.862652108498, 377.173964130304), (1140.0355836170788, 372.534109590988), (1138.9618736049424, 366.4540128944856), (1140.4740216521961, 362.85277496401864), (1140.9753447067653, 359.91893664342274), (1143.1474637269505, 356.43461344342796), (1142.5105694802965, 351.93508474781873), (1144.3967221347193, 347.5356232920079), (1144.5544937074264, 341.9733669337061), (1145.09950517639, 338.5118891852207), (1144.5097121018555, 333.25606473611833), (1144.7576573629767, 328.4650772997889)]\n",
      "liste des positions frame 53:[[1105.2142857142858, 575.7337662337662], (1104.3706477248586, 570.3208167865637), (1106.0442057055843, 565.3697396322322), (1106.493370165924, 561.003292216581), (1107.2593896608923, 556.1733260857792), (1108.7922644537596, 551.4447951520623), (1107.5035141843182, 546.4982683040189), (1106.334875903997, 536.8554595844384), (1109.098333917336, 535.7438288120311), (1109.006364408671, 529.8373016044399), (1128.5895134823202, 563.8354040044056), (1110.2299574853575, 548.0343284312374), (1109.8199473189, 517.1614836094382), array([nan, nan]), array([nan, nan]), (1111.390478959253, 511.82491689720916), (1115.078097698496, 498.47750382441706), (1118.0268742191836, 498.53961551667555), (1120.2249905847818, 502.87634214576656), (1119.233874198703, 496.88668843392674), (1119.8890268515008, 475.9801315581792), (1122.872415128432, 472.0416780024363), (1123.6436027607594, 468.33260126138174), (1123.574223533677, 465.52391468235027), (1124.9472675454208, 460.28100403454744), (1128.2754373511484, 472.7215388148989), (1125.8559023830262, 447.16860806773917), (1125.2575676511583, 440.23910807070536), (1125.6784692561268, 436.4742069399868), (1126.4288927226396, 433.18046050345544), (1127.0201613369422, 429.81510009921146), (1127.6559782745508, 426.46201049647294), (1126.9935966302817, 422.3411939821711), (1128.4534419778672, 423.54527636694075), (1129.3400433817005, 410.3422946418606), (1130.8390617558239, 403.2211442203027), (1131.3628101968854, 399.3584621176501), (1131.935479181916, 395.95925283146516), (1134.238080031847, 393.20539102697535), (1134.46956699192, 388.68351164630644), (1136.59023144421, 385.0150271278667), (1138.862652108498, 377.173964130304), (1140.0355836170788, 372.534109590988), (1138.9618736049424, 366.4540128944856), (1140.4740216521961, 362.85277496401864), (1140.9753447067653, 359.91893664342274), (1143.1474637269505, 356.43461344342796), (1142.5105694802965, 351.93508474781873), (1144.3967221347193, 347.5356232920079), (1144.5544937074264, 341.9733669337061), (1145.09950517639, 338.5118891852207), (1144.5097121018555, 333.25606473611833), (1144.7576573629767, 328.4650772997889), (1145.3382702457543, 324.01850340639305)]\n",
      "liste des positions frame 54:[[1105.2142857142858, 575.7337662337662], (1104.3706477248586, 570.3208167865637), (1106.0442057055843, 565.3697396322322), (1106.493370165924, 561.003292216581), (1107.2593896608923, 556.1733260857792), (1108.7922644537596, 551.4447951520623), (1107.5035141843182, 546.4982683040189), (1106.334875903997, 536.8554595844384), (1109.098333917336, 535.7438288120311), (1109.006364408671, 529.8373016044399), (1128.5895134823202, 563.8354040044056), (1110.2299574853575, 548.0343284312374), (1109.8199473189, 517.1614836094382), array([nan, nan]), array([nan, nan]), (1111.390478959253, 511.82491689720916), (1115.078097698496, 498.47750382441706), (1118.0268742191836, 498.53961551667555), (1120.2249905847818, 502.87634214576656), (1119.233874198703, 496.88668843392674), (1119.8890268515008, 475.9801315581792), (1122.872415128432, 472.0416780024363), (1123.6436027607594, 468.33260126138174), (1123.574223533677, 465.52391468235027), (1124.9472675454208, 460.28100403454744), (1128.2754373511484, 472.7215388148989), (1125.8559023830262, 447.16860806773917), (1125.2575676511583, 440.23910807070536), (1125.6784692561268, 436.4742069399868), (1126.4288927226396, 433.18046050345544), (1127.0201613369422, 429.81510009921146), (1127.6559782745508, 426.46201049647294), (1126.9935966302817, 422.3411939821711), (1128.4534419778672, 423.54527636694075), (1129.3400433817005, 410.3422946418606), (1130.8390617558239, 403.2211442203027), (1131.3628101968854, 399.3584621176501), (1131.935479181916, 395.95925283146516), (1134.238080031847, 393.20539102697535), (1134.46956699192, 388.68351164630644), (1136.59023144421, 385.0150271278667), (1138.862652108498, 377.173964130304), (1140.0355836170788, 372.534109590988), (1138.9618736049424, 366.4540128944856), (1140.4740216521961, 362.85277496401864), (1140.9753447067653, 359.91893664342274), (1143.1474637269505, 356.43461344342796), (1142.5105694802965, 351.93508474781873), (1144.3967221347193, 347.5356232920079), (1144.5544937074264, 341.9733669337061), (1145.09950517639, 338.5118891852207), (1144.5097121018555, 333.25606473611833), (1144.7576573629767, 328.4650772997889), (1145.3382702457543, 324.01850340639305), (1147.1676441592217, 320.0094252637193)]\n",
      "liste des positions frame 55:[[1105.2142857142858, 575.7337662337662], (1104.3706477248586, 570.3208167865637), (1106.0442057055843, 565.3697396322322), (1106.493370165924, 561.003292216581), (1107.2593896608923, 556.1733260857792), (1108.7922644537596, 551.4447951520623), (1107.5035141843182, 546.4982683040189), (1106.334875903997, 536.8554595844384), (1109.098333917336, 535.7438288120311), (1109.006364408671, 529.8373016044399), (1128.5895134823202, 563.8354040044056), (1110.2299574853575, 548.0343284312374), (1109.8199473189, 517.1614836094382), array([nan, nan]), array([nan, nan]), (1111.390478959253, 511.82491689720916), (1115.078097698496, 498.47750382441706), (1118.0268742191836, 498.53961551667555), (1120.2249905847818, 502.87634214576656), (1119.233874198703, 496.88668843392674), (1119.8890268515008, 475.9801315581792), (1122.872415128432, 472.0416780024363), (1123.6436027607594, 468.33260126138174), (1123.574223533677, 465.52391468235027), (1124.9472675454208, 460.28100403454744), (1128.2754373511484, 472.7215388148989), (1125.8559023830262, 447.16860806773917), (1125.2575676511583, 440.23910807070536), (1125.6784692561268, 436.4742069399868), (1126.4288927226396, 433.18046050345544), (1127.0201613369422, 429.81510009921146), (1127.6559782745508, 426.46201049647294), (1126.9935966302817, 422.3411939821711), (1128.4534419778672, 423.54527636694075), (1129.3400433817005, 410.3422946418606), (1130.8390617558239, 403.2211442203027), (1131.3628101968854, 399.3584621176501), (1131.935479181916, 395.95925283146516), (1134.238080031847, 393.20539102697535), (1134.46956699192, 388.68351164630644), (1136.59023144421, 385.0150271278667), (1138.862652108498, 377.173964130304), (1140.0355836170788, 372.534109590988), (1138.9618736049424, 366.4540128944856), (1140.4740216521961, 362.85277496401864), (1140.9753447067653, 359.91893664342274), (1143.1474637269505, 356.43461344342796), (1142.5105694802965, 351.93508474781873), (1144.3967221347193, 347.5356232920079), (1144.5544937074264, 341.9733669337061), (1145.09950517639, 338.5118891852207), (1144.5097121018555, 333.25606473611833), (1144.7576573629767, 328.4650772997889), (1145.3382702457543, 324.01850340639305), (1147.1676441592217, 320.0094252637193), (1147.835733614402, 314.1996883817629)]\n",
      "liste des positions frame 56:[[1105.2142857142858, 575.7337662337662], (1104.3706477248586, 570.3208167865637), (1106.0442057055843, 565.3697396322322), (1106.493370165924, 561.003292216581), (1107.2593896608923, 556.1733260857792), (1108.7922644537596, 551.4447951520623), (1107.5035141843182, 546.4982683040189), (1106.334875903997, 536.8554595844384), (1109.098333917336, 535.7438288120311), (1109.006364408671, 529.8373016044399), (1128.5895134823202, 563.8354040044056), (1110.2299574853575, 548.0343284312374), (1109.8199473189, 517.1614836094382), array([nan, nan]), array([nan, nan]), (1111.390478959253, 511.82491689720916), (1115.078097698496, 498.47750382441706), (1118.0268742191836, 498.53961551667555), (1120.2249905847818, 502.87634214576656), (1119.233874198703, 496.88668843392674), (1119.8890268515008, 475.9801315581792), (1122.872415128432, 472.0416780024363), (1123.6436027607594, 468.33260126138174), (1123.574223533677, 465.52391468235027), (1124.9472675454208, 460.28100403454744), (1128.2754373511484, 472.7215388148989), (1125.8559023830262, 447.16860806773917), (1125.2575676511583, 440.23910807070536), (1125.6784692561268, 436.4742069399868), (1126.4288927226396, 433.18046050345544), (1127.0201613369422, 429.81510009921146), (1127.6559782745508, 426.46201049647294), (1126.9935966302817, 422.3411939821711), (1128.4534419778672, 423.54527636694075), (1129.3400433817005, 410.3422946418606), (1130.8390617558239, 403.2211442203027), (1131.3628101968854, 399.3584621176501), (1131.935479181916, 395.95925283146516), (1134.238080031847, 393.20539102697535), (1134.46956699192, 388.68351164630644), (1136.59023144421, 385.0150271278667), (1138.862652108498, 377.173964130304), (1140.0355836170788, 372.534109590988), (1138.9618736049424, 366.4540128944856), (1140.4740216521961, 362.85277496401864), (1140.9753447067653, 359.91893664342274), (1143.1474637269505, 356.43461344342796), (1142.5105694802965, 351.93508474781873), (1144.3967221347193, 347.5356232920079), (1144.5544937074264, 341.9733669337061), (1145.09950517639, 338.5118891852207), (1144.5097121018555, 333.25606473611833), (1144.7576573629767, 328.4650772997889), (1145.3382702457543, 324.01850340639305), (1147.1676441592217, 320.0094252637193), (1147.835733614402, 314.1996883817629), (1148.844945225464, 309.81555482227174)]\n",
      "liste des positions frame 57:[[1105.2142857142858, 575.7337662337662], (1104.3706477248586, 570.3208167865637), (1106.0442057055843, 565.3697396322322), (1106.493370165924, 561.003292216581), (1107.2593896608923, 556.1733260857792), (1108.7922644537596, 551.4447951520623), (1107.5035141843182, 546.4982683040189), (1106.334875903997, 536.8554595844384), (1109.098333917336, 535.7438288120311), (1109.006364408671, 529.8373016044399), (1128.5895134823202, 563.8354040044056), (1110.2299574853575, 548.0343284312374), (1109.8199473189, 517.1614836094382), array([nan, nan]), array([nan, nan]), (1111.390478959253, 511.82491689720916), (1115.078097698496, 498.47750382441706), (1118.0268742191836, 498.53961551667555), (1120.2249905847818, 502.87634214576656), (1119.233874198703, 496.88668843392674), (1119.8890268515008, 475.9801315581792), (1122.872415128432, 472.0416780024363), (1123.6436027607594, 468.33260126138174), (1123.574223533677, 465.52391468235027), (1124.9472675454208, 460.28100403454744), (1128.2754373511484, 472.7215388148989), (1125.8559023830262, 447.16860806773917), (1125.2575676511583, 440.23910807070536), (1125.6784692561268, 436.4742069399868), (1126.4288927226396, 433.18046050345544), (1127.0201613369422, 429.81510009921146), (1127.6559782745508, 426.46201049647294), (1126.9935966302817, 422.3411939821711), (1128.4534419778672, 423.54527636694075), (1129.3400433817005, 410.3422946418606), (1130.8390617558239, 403.2211442203027), (1131.3628101968854, 399.3584621176501), (1131.935479181916, 395.95925283146516), (1134.238080031847, 393.20539102697535), (1134.46956699192, 388.68351164630644), (1136.59023144421, 385.0150271278667), (1138.862652108498, 377.173964130304), (1140.0355836170788, 372.534109590988), (1138.9618736049424, 366.4540128944856), (1140.4740216521961, 362.85277496401864), (1140.9753447067653, 359.91893664342274), (1143.1474637269505, 356.43461344342796), (1142.5105694802965, 351.93508474781873), (1144.3967221347193, 347.5356232920079), (1144.5544937074264, 341.9733669337061), (1145.09950517639, 338.5118891852207), (1144.5097121018555, 333.25606473611833), (1144.7576573629767, 328.4650772997889), (1145.3382702457543, 324.01850340639305), (1147.1676441592217, 320.0094252637193), (1147.835733614402, 314.1996883817629), (1148.844945225464, 309.81555482227174), (1149.4170776178084, 304.9400385482327)]\n",
      "liste des positions frame 58:[[1105.2142857142858, 575.7337662337662], (1104.3706477248586, 570.3208167865637), (1106.0442057055843, 565.3697396322322), (1106.493370165924, 561.003292216581), (1107.2593896608923, 556.1733260857792), (1108.7922644537596, 551.4447951520623), (1107.5035141843182, 546.4982683040189), (1106.334875903997, 536.8554595844384), (1109.098333917336, 535.7438288120311), (1109.006364408671, 529.8373016044399), (1128.5895134823202, 563.8354040044056), (1110.2299574853575, 548.0343284312374), (1109.8199473189, 517.1614836094382), array([nan, nan]), array([nan, nan]), (1111.390478959253, 511.82491689720916), (1115.078097698496, 498.47750382441706), (1118.0268742191836, 498.53961551667555), (1120.2249905847818, 502.87634214576656), (1119.233874198703, 496.88668843392674), (1119.8890268515008, 475.9801315581792), (1122.872415128432, 472.0416780024363), (1123.6436027607594, 468.33260126138174), (1123.574223533677, 465.52391468235027), (1124.9472675454208, 460.28100403454744), (1128.2754373511484, 472.7215388148989), (1125.8559023830262, 447.16860806773917), (1125.2575676511583, 440.23910807070536), (1125.6784692561268, 436.4742069399868), (1126.4288927226396, 433.18046050345544), (1127.0201613369422, 429.81510009921146), (1127.6559782745508, 426.46201049647294), (1126.9935966302817, 422.3411939821711), (1128.4534419778672, 423.54527636694075), (1129.3400433817005, 410.3422946418606), (1130.8390617558239, 403.2211442203027), (1131.3628101968854, 399.3584621176501), (1131.935479181916, 395.95925283146516), (1134.238080031847, 393.20539102697535), (1134.46956699192, 388.68351164630644), (1136.59023144421, 385.0150271278667), (1138.862652108498, 377.173964130304), (1140.0355836170788, 372.534109590988), (1138.9618736049424, 366.4540128944856), (1140.4740216521961, 362.85277496401864), (1140.9753447067653, 359.91893664342274), (1143.1474637269505, 356.43461344342796), (1142.5105694802965, 351.93508474781873), (1144.3967221347193, 347.5356232920079), (1144.5544937074264, 341.9733669337061), (1145.09950517639, 338.5118891852207), (1144.5097121018555, 333.25606473611833), (1144.7576573629767, 328.4650772997889), (1145.3382702457543, 324.01850340639305), (1147.1676441592217, 320.0094252637193), (1147.835733614402, 314.1996883817629), (1148.844945225464, 309.81555482227174), (1149.4170776178084, 304.9400385482327), (1149.140434560931, 300.5739702507471)]\n",
      "liste des positions frame 59:[[1105.2142857142858, 575.7337662337662], (1104.3706477248586, 570.3208167865637), (1106.0442057055843, 565.3697396322322), (1106.493370165924, 561.003292216581), (1107.2593896608923, 556.1733260857792), (1108.7922644537596, 551.4447951520623), (1107.5035141843182, 546.4982683040189), (1106.334875903997, 536.8554595844384), (1109.098333917336, 535.7438288120311), (1109.006364408671, 529.8373016044399), (1128.5895134823202, 563.8354040044056), (1110.2299574853575, 548.0343284312374), (1109.8199473189, 517.1614836094382), array([nan, nan]), array([nan, nan]), (1111.390478959253, 511.82491689720916), (1115.078097698496, 498.47750382441706), (1118.0268742191836, 498.53961551667555), (1120.2249905847818, 502.87634214576656), (1119.233874198703, 496.88668843392674), (1119.8890268515008, 475.9801315581792), (1122.872415128432, 472.0416780024363), (1123.6436027607594, 468.33260126138174), (1123.574223533677, 465.52391468235027), (1124.9472675454208, 460.28100403454744), (1128.2754373511484, 472.7215388148989), (1125.8559023830262, 447.16860806773917), (1125.2575676511583, 440.23910807070536), (1125.6784692561268, 436.4742069399868), (1126.4288927226396, 433.18046050345544), (1127.0201613369422, 429.81510009921146), (1127.6559782745508, 426.46201049647294), (1126.9935966302817, 422.3411939821711), (1128.4534419778672, 423.54527636694075), (1129.3400433817005, 410.3422946418606), (1130.8390617558239, 403.2211442203027), (1131.3628101968854, 399.3584621176501), (1131.935479181916, 395.95925283146516), (1134.238080031847, 393.20539102697535), (1134.46956699192, 388.68351164630644), (1136.59023144421, 385.0150271278667), (1138.862652108498, 377.173964130304), (1140.0355836170788, 372.534109590988), (1138.9618736049424, 366.4540128944856), (1140.4740216521961, 362.85277496401864), (1140.9753447067653, 359.91893664342274), (1143.1474637269505, 356.43461344342796), (1142.5105694802965, 351.93508474781873), (1144.3967221347193, 347.5356232920079), (1144.5544937074264, 341.9733669337061), (1145.09950517639, 338.5118891852207), (1144.5097121018555, 333.25606473611833), (1144.7576573629767, 328.4650772997889), (1145.3382702457543, 324.01850340639305), (1147.1676441592217, 320.0094252637193), (1147.835733614402, 314.1996883817629), (1148.844945225464, 309.81555482227174), (1149.4170776178084, 304.9400385482327), (1149.140434560931, 300.5739702507471), (1147.6002614223387, 294.45876339052865)]\n",
      "liste des positions frame 60:[[1105.2142857142858, 575.7337662337662], (1104.3706477248586, 570.3208167865637), (1106.0442057055843, 565.3697396322322), (1106.493370165924, 561.003292216581), (1107.2593896608923, 556.1733260857792), (1108.7922644537596, 551.4447951520623), (1107.5035141843182, 546.4982683040189), (1106.334875903997, 536.8554595844384), (1109.098333917336, 535.7438288120311), (1109.006364408671, 529.8373016044399), (1128.5895134823202, 563.8354040044056), (1110.2299574853575, 548.0343284312374), (1109.8199473189, 517.1614836094382), array([nan, nan]), array([nan, nan]), (1111.390478959253, 511.82491689720916), (1115.078097698496, 498.47750382441706), (1118.0268742191836, 498.53961551667555), (1120.2249905847818, 502.87634214576656), (1119.233874198703, 496.88668843392674), (1119.8890268515008, 475.9801315581792), (1122.872415128432, 472.0416780024363), (1123.6436027607594, 468.33260126138174), (1123.574223533677, 465.52391468235027), (1124.9472675454208, 460.28100403454744), (1128.2754373511484, 472.7215388148989), (1125.8559023830262, 447.16860806773917), (1125.2575676511583, 440.23910807070536), (1125.6784692561268, 436.4742069399868), (1126.4288927226396, 433.18046050345544), (1127.0201613369422, 429.81510009921146), (1127.6559782745508, 426.46201049647294), (1126.9935966302817, 422.3411939821711), (1128.4534419778672, 423.54527636694075), (1129.3400433817005, 410.3422946418606), (1130.8390617558239, 403.2211442203027), (1131.3628101968854, 399.3584621176501), (1131.935479181916, 395.95925283146516), (1134.238080031847, 393.20539102697535), (1134.46956699192, 388.68351164630644), (1136.59023144421, 385.0150271278667), (1138.862652108498, 377.173964130304), (1140.0355836170788, 372.534109590988), (1138.9618736049424, 366.4540128944856), (1140.4740216521961, 362.85277496401864), (1140.9753447067653, 359.91893664342274), (1143.1474637269505, 356.43461344342796), (1142.5105694802965, 351.93508474781873), (1144.3967221347193, 347.5356232920079), (1144.5544937074264, 341.9733669337061), (1145.09950517639, 338.5118891852207), (1144.5097121018555, 333.25606473611833), (1144.7576573629767, 328.4650772997889), (1145.3382702457543, 324.01850340639305), (1147.1676441592217, 320.0094252637193), (1147.835733614402, 314.1996883817629), (1148.844945225464, 309.81555482227174), (1149.4170776178084, 304.9400385482327), (1149.140434560931, 300.5739702507471), (1147.6002614223387, 294.45876339052865), (1150.45256570899, 288.76651292184795)]\n",
      "liste des positions frame 61:[[1105.2142857142858, 575.7337662337662], (1104.3706477248586, 570.3208167865637), (1106.0442057055843, 565.3697396322322), (1106.493370165924, 561.003292216581), (1107.2593896608923, 556.1733260857792), (1108.7922644537596, 551.4447951520623), (1107.5035141843182, 546.4982683040189), (1106.334875903997, 536.8554595844384), (1109.098333917336, 535.7438288120311), (1109.006364408671, 529.8373016044399), (1128.5895134823202, 563.8354040044056), (1110.2299574853575, 548.0343284312374), (1109.8199473189, 517.1614836094382), array([nan, nan]), array([nan, nan]), (1111.390478959253, 511.82491689720916), (1115.078097698496, 498.47750382441706), (1118.0268742191836, 498.53961551667555), (1120.2249905847818, 502.87634214576656), (1119.233874198703, 496.88668843392674), (1119.8890268515008, 475.9801315581792), (1122.872415128432, 472.0416780024363), (1123.6436027607594, 468.33260126138174), (1123.574223533677, 465.52391468235027), (1124.9472675454208, 460.28100403454744), (1128.2754373511484, 472.7215388148989), (1125.8559023830262, 447.16860806773917), (1125.2575676511583, 440.23910807070536), (1125.6784692561268, 436.4742069399868), (1126.4288927226396, 433.18046050345544), (1127.0201613369422, 429.81510009921146), (1127.6559782745508, 426.46201049647294), (1126.9935966302817, 422.3411939821711), (1128.4534419778672, 423.54527636694075), (1129.3400433817005, 410.3422946418606), (1130.8390617558239, 403.2211442203027), (1131.3628101968854, 399.3584621176501), (1131.935479181916, 395.95925283146516), (1134.238080031847, 393.20539102697535), (1134.46956699192, 388.68351164630644), (1136.59023144421, 385.0150271278667), (1138.862652108498, 377.173964130304), (1140.0355836170788, 372.534109590988), (1138.9618736049424, 366.4540128944856), (1140.4740216521961, 362.85277496401864), (1140.9753447067653, 359.91893664342274), (1143.1474637269505, 356.43461344342796), (1142.5105694802965, 351.93508474781873), (1144.3967221347193, 347.5356232920079), (1144.5544937074264, 341.9733669337061), (1145.09950517639, 338.5118891852207), (1144.5097121018555, 333.25606473611833), (1144.7576573629767, 328.4650772997889), (1145.3382702457543, 324.01850340639305), (1147.1676441592217, 320.0094252637193), (1147.835733614402, 314.1996883817629), (1148.844945225464, 309.81555482227174), (1149.4170776178084, 304.9400385482327), (1149.140434560931, 300.5739702507471), (1147.6002614223387, 294.45876339052865), (1150.45256570899, 288.76651292184795), (1151.1603927893593, 281.53183599134826)]\n",
      "liste des positions frame 62:[[1105.2142857142858, 575.7337662337662], (1104.3706477248586, 570.3208167865637), (1106.0442057055843, 565.3697396322322), (1106.493370165924, 561.003292216581), (1107.2593896608923, 556.1733260857792), (1108.7922644537596, 551.4447951520623), (1107.5035141843182, 546.4982683040189), (1106.334875903997, 536.8554595844384), (1109.098333917336, 535.7438288120311), (1109.006364408671, 529.8373016044399), (1128.5895134823202, 563.8354040044056), (1110.2299574853575, 548.0343284312374), (1109.8199473189, 517.1614836094382), array([nan, nan]), array([nan, nan]), (1111.390478959253, 511.82491689720916), (1115.078097698496, 498.47750382441706), (1118.0268742191836, 498.53961551667555), (1120.2249905847818, 502.87634214576656), (1119.233874198703, 496.88668843392674), (1119.8890268515008, 475.9801315581792), (1122.872415128432, 472.0416780024363), (1123.6436027607594, 468.33260126138174), (1123.574223533677, 465.52391468235027), (1124.9472675454208, 460.28100403454744), (1128.2754373511484, 472.7215388148989), (1125.8559023830262, 447.16860806773917), (1125.2575676511583, 440.23910807070536), (1125.6784692561268, 436.4742069399868), (1126.4288927226396, 433.18046050345544), (1127.0201613369422, 429.81510009921146), (1127.6559782745508, 426.46201049647294), (1126.9935966302817, 422.3411939821711), (1128.4534419778672, 423.54527636694075), (1129.3400433817005, 410.3422946418606), (1130.8390617558239, 403.2211442203027), (1131.3628101968854, 399.3584621176501), (1131.935479181916, 395.95925283146516), (1134.238080031847, 393.20539102697535), (1134.46956699192, 388.68351164630644), (1136.59023144421, 385.0150271278667), (1138.862652108498, 377.173964130304), (1140.0355836170788, 372.534109590988), (1138.9618736049424, 366.4540128944856), (1140.4740216521961, 362.85277496401864), (1140.9753447067653, 359.91893664342274), (1143.1474637269505, 356.43461344342796), (1142.5105694802965, 351.93508474781873), (1144.3967221347193, 347.5356232920079), (1144.5544937074264, 341.9733669337061), (1145.09950517639, 338.5118891852207), (1144.5097121018555, 333.25606473611833), (1144.7576573629767, 328.4650772997889), (1145.3382702457543, 324.01850340639305), (1147.1676441592217, 320.0094252637193), (1147.835733614402, 314.1996883817629), (1148.844945225464, 309.81555482227174), (1149.4170776178084, 304.9400385482327), (1149.140434560931, 300.5739702507471), (1147.6002614223387, 294.45876339052865), (1150.45256570899, 288.76651292184795), (1151.1603927893593, 281.53183599134826), (1151.9402912700548, 275.7859156211762)]\n",
      "liste des positions frame 63:[[1105.2142857142858, 575.7337662337662], (1104.3706477248586, 570.3208167865637), (1106.0442057055843, 565.3697396322322), (1106.493370165924, 561.003292216581), (1107.2593896608923, 556.1733260857792), (1108.7922644537596, 551.4447951520623), (1107.5035141843182, 546.4982683040189), (1106.334875903997, 536.8554595844384), (1109.098333917336, 535.7438288120311), (1109.006364408671, 529.8373016044399), (1128.5895134823202, 563.8354040044056), (1110.2299574853575, 548.0343284312374), (1109.8199473189, 517.1614836094382), array([nan, nan]), array([nan, nan]), (1111.390478959253, 511.82491689720916), (1115.078097698496, 498.47750382441706), (1118.0268742191836, 498.53961551667555), (1120.2249905847818, 502.87634214576656), (1119.233874198703, 496.88668843392674), (1119.8890268515008, 475.9801315581792), (1122.872415128432, 472.0416780024363), (1123.6436027607594, 468.33260126138174), (1123.574223533677, 465.52391468235027), (1124.9472675454208, 460.28100403454744), (1128.2754373511484, 472.7215388148989), (1125.8559023830262, 447.16860806773917), (1125.2575676511583, 440.23910807070536), (1125.6784692561268, 436.4742069399868), (1126.4288927226396, 433.18046050345544), (1127.0201613369422, 429.81510009921146), (1127.6559782745508, 426.46201049647294), (1126.9935966302817, 422.3411939821711), (1128.4534419778672, 423.54527636694075), (1129.3400433817005, 410.3422946418606), (1130.8390617558239, 403.2211442203027), (1131.3628101968854, 399.3584621176501), (1131.935479181916, 395.95925283146516), (1134.238080031847, 393.20539102697535), (1134.46956699192, 388.68351164630644), (1136.59023144421, 385.0150271278667), (1138.862652108498, 377.173964130304), (1140.0355836170788, 372.534109590988), (1138.9618736049424, 366.4540128944856), (1140.4740216521961, 362.85277496401864), (1140.9753447067653, 359.91893664342274), (1143.1474637269505, 356.43461344342796), (1142.5105694802965, 351.93508474781873), (1144.3967221347193, 347.5356232920079), (1144.5544937074264, 341.9733669337061), (1145.09950517639, 338.5118891852207), (1144.5097121018555, 333.25606473611833), (1144.7576573629767, 328.4650772997889), (1145.3382702457543, 324.01850340639305), (1147.1676441592217, 320.0094252637193), (1147.835733614402, 314.1996883817629), (1148.844945225464, 309.81555482227174), (1149.4170776178084, 304.9400385482327), (1149.140434560931, 300.5739702507471), (1147.6002614223387, 294.45876339052865), (1150.45256570899, 288.76651292184795), (1151.1603927893593, 281.53183599134826), (1151.9402912700548, 275.7859156211762), (1153.709175583594, 271.6701158129575)]\n",
      "liste des positions frame 64:[[1105.2142857142858, 575.7337662337662], (1104.3706477248586, 570.3208167865637), (1106.0442057055843, 565.3697396322322), (1106.493370165924, 561.003292216581), (1107.2593896608923, 556.1733260857792), (1108.7922644537596, 551.4447951520623), (1107.5035141843182, 546.4982683040189), (1106.334875903997, 536.8554595844384), (1109.098333917336, 535.7438288120311), (1109.006364408671, 529.8373016044399), (1128.5895134823202, 563.8354040044056), (1110.2299574853575, 548.0343284312374), (1109.8199473189, 517.1614836094382), array([nan, nan]), array([nan, nan]), (1111.390478959253, 511.82491689720916), (1115.078097698496, 498.47750382441706), (1118.0268742191836, 498.53961551667555), (1120.2249905847818, 502.87634214576656), (1119.233874198703, 496.88668843392674), (1119.8890268515008, 475.9801315581792), (1122.872415128432, 472.0416780024363), (1123.6436027607594, 468.33260126138174), (1123.574223533677, 465.52391468235027), (1124.9472675454208, 460.28100403454744), (1128.2754373511484, 472.7215388148989), (1125.8559023830262, 447.16860806773917), (1125.2575676511583, 440.23910807070536), (1125.6784692561268, 436.4742069399868), (1126.4288927226396, 433.18046050345544), (1127.0201613369422, 429.81510009921146), (1127.6559782745508, 426.46201049647294), (1126.9935966302817, 422.3411939821711), (1128.4534419778672, 423.54527636694075), (1129.3400433817005, 410.3422946418606), (1130.8390617558239, 403.2211442203027), (1131.3628101968854, 399.3584621176501), (1131.935479181916, 395.95925283146516), (1134.238080031847, 393.20539102697535), (1134.46956699192, 388.68351164630644), (1136.59023144421, 385.0150271278667), (1138.862652108498, 377.173964130304), (1140.0355836170788, 372.534109590988), (1138.9618736049424, 366.4540128944856), (1140.4740216521961, 362.85277496401864), (1140.9753447067653, 359.91893664342274), (1143.1474637269505, 356.43461344342796), (1142.5105694802965, 351.93508474781873), (1144.3967221347193, 347.5356232920079), (1144.5544937074264, 341.9733669337061), (1145.09950517639, 338.5118891852207), (1144.5097121018555, 333.25606473611833), (1144.7576573629767, 328.4650772997889), (1145.3382702457543, 324.01850340639305), (1147.1676441592217, 320.0094252637193), (1147.835733614402, 314.1996883817629), (1148.844945225464, 309.81555482227174), (1149.4170776178084, 304.9400385482327), (1149.140434560931, 300.5739702507471), (1147.6002614223387, 294.45876339052865), (1150.45256570899, 288.76651292184795), (1151.1603927893593, 281.53183599134826), (1151.9402912700548, 275.7859156211762), (1153.709175583594, 271.6701158129575), (1155.0887766620094, 266.75677731872366)]\n",
      "liste des positions frame 65:[[1105.2142857142858, 575.7337662337662], (1104.3706477248586, 570.3208167865637), (1106.0442057055843, 565.3697396322322), (1106.493370165924, 561.003292216581), (1107.2593896608923, 556.1733260857792), (1108.7922644537596, 551.4447951520623), (1107.5035141843182, 546.4982683040189), (1106.334875903997, 536.8554595844384), (1109.098333917336, 535.7438288120311), (1109.006364408671, 529.8373016044399), (1128.5895134823202, 563.8354040044056), (1110.2299574853575, 548.0343284312374), (1109.8199473189, 517.1614836094382), array([nan, nan]), array([nan, nan]), (1111.390478959253, 511.82491689720916), (1115.078097698496, 498.47750382441706), (1118.0268742191836, 498.53961551667555), (1120.2249905847818, 502.87634214576656), (1119.233874198703, 496.88668843392674), (1119.8890268515008, 475.9801315581792), (1122.872415128432, 472.0416780024363), (1123.6436027607594, 468.33260126138174), (1123.574223533677, 465.52391468235027), (1124.9472675454208, 460.28100403454744), (1128.2754373511484, 472.7215388148989), (1125.8559023830262, 447.16860806773917), (1125.2575676511583, 440.23910807070536), (1125.6784692561268, 436.4742069399868), (1126.4288927226396, 433.18046050345544), (1127.0201613369422, 429.81510009921146), (1127.6559782745508, 426.46201049647294), (1126.9935966302817, 422.3411939821711), (1128.4534419778672, 423.54527636694075), (1129.3400433817005, 410.3422946418606), (1130.8390617558239, 403.2211442203027), (1131.3628101968854, 399.3584621176501), (1131.935479181916, 395.95925283146516), (1134.238080031847, 393.20539102697535), (1134.46956699192, 388.68351164630644), (1136.59023144421, 385.0150271278667), (1138.862652108498, 377.173964130304), (1140.0355836170788, 372.534109590988), (1138.9618736049424, 366.4540128944856), (1140.4740216521961, 362.85277496401864), (1140.9753447067653, 359.91893664342274), (1143.1474637269505, 356.43461344342796), (1142.5105694802965, 351.93508474781873), (1144.3967221347193, 347.5356232920079), (1144.5544937074264, 341.9733669337061), (1145.09950517639, 338.5118891852207), (1144.5097121018555, 333.25606473611833), (1144.7576573629767, 328.4650772997889), (1145.3382702457543, 324.01850340639305), (1147.1676441592217, 320.0094252637193), (1147.835733614402, 314.1996883817629), (1148.844945225464, 309.81555482227174), (1149.4170776178084, 304.9400385482327), (1149.140434560931, 300.5739702507471), (1147.6002614223387, 294.45876339052865), (1150.45256570899, 288.76651292184795), (1151.1603927893593, 281.53183599134826), (1151.9402912700548, 275.7859156211762), (1153.709175583594, 271.6701158129575), (1155.0887766620094, 266.75677731872366), (1156.0199728730859, 260.77017096792537)]\n",
      "ecrat: 587.6314518454441\n",
      "ecrat: 581.698409265667\n",
      "écart:581.698409265667\n",
      "liste des positions frame 66:[[1105.2142857142858, 575.7337662337662], (1104.3706477248586, 570.3208167865637), (1106.0442057055843, 565.3697396322322), (1106.493370165924, 561.003292216581), (1107.2593896608923, 556.1733260857792), (1108.7922644537596, 551.4447951520623), (1107.5035141843182, 546.4982683040189), (1106.334875903997, 536.8554595844384), (1109.098333917336, 535.7438288120311), (1109.006364408671, 529.8373016044399), (1128.5895134823202, 563.8354040044056), (1110.2299574853575, 548.0343284312374), (1109.8199473189, 517.1614836094382), array([nan, nan]), array([nan, nan]), (1111.390478959253, 511.82491689720916), (1115.078097698496, 498.47750382441706), (1118.0268742191836, 498.53961551667555), (1120.2249905847818, 502.87634214576656), (1119.233874198703, 496.88668843392674), (1119.8890268515008, 475.9801315581792), (1122.872415128432, 472.0416780024363), (1123.6436027607594, 468.33260126138174), (1123.574223533677, 465.52391468235027), (1124.9472675454208, 460.28100403454744), (1128.2754373511484, 472.7215388148989), (1125.8559023830262, 447.16860806773917), (1125.2575676511583, 440.23910807070536), (1125.6784692561268, 436.4742069399868), (1126.4288927226396, 433.18046050345544), (1127.0201613369422, 429.81510009921146), (1127.6559782745508, 426.46201049647294), (1126.9935966302817, 422.3411939821711), (1128.4534419778672, 423.54527636694075), (1129.3400433817005, 410.3422946418606), (1130.8390617558239, 403.2211442203027), (1131.3628101968854, 399.3584621176501), (1131.935479181916, 395.95925283146516), (1134.238080031847, 393.20539102697535), (1134.46956699192, 388.68351164630644), (1136.59023144421, 385.0150271278667), (1138.862652108498, 377.173964130304), (1140.0355836170788, 372.534109590988), (1138.9618736049424, 366.4540128944856), (1140.4740216521961, 362.85277496401864), (1140.9753447067653, 359.91893664342274), (1143.1474637269505, 356.43461344342796), (1142.5105694802965, 351.93508474781873), (1144.3967221347193, 347.5356232920079), (1144.5544937074264, 341.9733669337061), (1145.09950517639, 338.5118891852207), (1144.5097121018555, 333.25606473611833), (1144.7576573629767, 328.4650772997889), (1145.3382702457543, 324.01850340639305), (1147.1676441592217, 320.0094252637193), (1147.835733614402, 314.1996883817629), (1148.844945225464, 309.81555482227174), (1149.4170776178084, 304.9400385482327), (1149.140434560931, 300.5739702507471), (1147.6002614223387, 294.45876339052865), (1150.45256570899, 288.76651292184795), (1151.1603927893593, 281.53183599134826), (1151.9402912700548, 275.7859156211762), (1153.709175583594, 271.6701158129575), (1155.0887766620094, 266.75677731872366), (1156.0199728730859, 260.77017096792537), (1154.9487092940346, 251.81091321565418)]\n",
      "liste des positions frame 67:[[1105.2142857142858, 575.7337662337662], (1104.3706477248586, 570.3208167865637), (1106.0442057055843, 565.3697396322322), (1106.493370165924, 561.003292216581), (1107.2593896608923, 556.1733260857792), (1108.7922644537596, 551.4447951520623), (1107.5035141843182, 546.4982683040189), (1106.334875903997, 536.8554595844384), (1109.098333917336, 535.7438288120311), (1109.006364408671, 529.8373016044399), (1128.5895134823202, 563.8354040044056), (1110.2299574853575, 548.0343284312374), (1109.8199473189, 517.1614836094382), array([nan, nan]), array([nan, nan]), (1111.390478959253, 511.82491689720916), (1115.078097698496, 498.47750382441706), (1118.0268742191836, 498.53961551667555), (1120.2249905847818, 502.87634214576656), (1119.233874198703, 496.88668843392674), (1119.8890268515008, 475.9801315581792), (1122.872415128432, 472.0416780024363), (1123.6436027607594, 468.33260126138174), (1123.574223533677, 465.52391468235027), (1124.9472675454208, 460.28100403454744), (1128.2754373511484, 472.7215388148989), (1125.8559023830262, 447.16860806773917), (1125.2575676511583, 440.23910807070536), (1125.6784692561268, 436.4742069399868), (1126.4288927226396, 433.18046050345544), (1127.0201613369422, 429.81510009921146), (1127.6559782745508, 426.46201049647294), (1126.9935966302817, 422.3411939821711), (1128.4534419778672, 423.54527636694075), (1129.3400433817005, 410.3422946418606), (1130.8390617558239, 403.2211442203027), (1131.3628101968854, 399.3584621176501), (1131.935479181916, 395.95925283146516), (1134.238080031847, 393.20539102697535), (1134.46956699192, 388.68351164630644), (1136.59023144421, 385.0150271278667), (1138.862652108498, 377.173964130304), (1140.0355836170788, 372.534109590988), (1138.9618736049424, 366.4540128944856), (1140.4740216521961, 362.85277496401864), (1140.9753447067653, 359.91893664342274), (1143.1474637269505, 356.43461344342796), (1142.5105694802965, 351.93508474781873), (1144.3967221347193, 347.5356232920079), (1144.5544937074264, 341.9733669337061), (1145.09950517639, 338.5118891852207), (1144.5097121018555, 333.25606473611833), (1144.7576573629767, 328.4650772997889), (1145.3382702457543, 324.01850340639305), (1147.1676441592217, 320.0094252637193), (1147.835733614402, 314.1996883817629), (1148.844945225464, 309.81555482227174), (1149.4170776178084, 304.9400385482327), (1149.140434560931, 300.5739702507471), (1147.6002614223387, 294.45876339052865), (1150.45256570899, 288.76651292184795), (1151.1603927893593, 281.53183599134826), (1151.9402912700548, 275.7859156211762), (1153.709175583594, 271.6701158129575), (1155.0887766620094, 266.75677731872366), (1156.0199728730859, 260.77017096792537), (1154.9487092940346, 251.81091321565418), (1158.3543539627408, 250.22187762804612)]\n",
      "liste des positions frame 68:[[1105.2142857142858, 575.7337662337662], (1104.3706477248586, 570.3208167865637), (1106.0442057055843, 565.3697396322322), (1106.493370165924, 561.003292216581), (1107.2593896608923, 556.1733260857792), (1108.7922644537596, 551.4447951520623), (1107.5035141843182, 546.4982683040189), (1106.334875903997, 536.8554595844384), (1109.098333917336, 535.7438288120311), (1109.006364408671, 529.8373016044399), (1128.5895134823202, 563.8354040044056), (1110.2299574853575, 548.0343284312374), (1109.8199473189, 517.1614836094382), array([nan, nan]), array([nan, nan]), (1111.390478959253, 511.82491689720916), (1115.078097698496, 498.47750382441706), (1118.0268742191836, 498.53961551667555), (1120.2249905847818, 502.87634214576656), (1119.233874198703, 496.88668843392674), (1119.8890268515008, 475.9801315581792), (1122.872415128432, 472.0416780024363), (1123.6436027607594, 468.33260126138174), (1123.574223533677, 465.52391468235027), (1124.9472675454208, 460.28100403454744), (1128.2754373511484, 472.7215388148989), (1125.8559023830262, 447.16860806773917), (1125.2575676511583, 440.23910807070536), (1125.6784692561268, 436.4742069399868), (1126.4288927226396, 433.18046050345544), (1127.0201613369422, 429.81510009921146), (1127.6559782745508, 426.46201049647294), (1126.9935966302817, 422.3411939821711), (1128.4534419778672, 423.54527636694075), (1129.3400433817005, 410.3422946418606), (1130.8390617558239, 403.2211442203027), (1131.3628101968854, 399.3584621176501), (1131.935479181916, 395.95925283146516), (1134.238080031847, 393.20539102697535), (1134.46956699192, 388.68351164630644), (1136.59023144421, 385.0150271278667), (1138.862652108498, 377.173964130304), (1140.0355836170788, 372.534109590988), (1138.9618736049424, 366.4540128944856), (1140.4740216521961, 362.85277496401864), (1140.9753447067653, 359.91893664342274), (1143.1474637269505, 356.43461344342796), (1142.5105694802965, 351.93508474781873), (1144.3967221347193, 347.5356232920079), (1144.5544937074264, 341.9733669337061), (1145.09950517639, 338.5118891852207), (1144.5097121018555, 333.25606473611833), (1144.7576573629767, 328.4650772997889), (1145.3382702457543, 324.01850340639305), (1147.1676441592217, 320.0094252637193), (1147.835733614402, 314.1996883817629), (1148.844945225464, 309.81555482227174), (1149.4170776178084, 304.9400385482327), (1149.140434560931, 300.5739702507471), (1147.6002614223387, 294.45876339052865), (1150.45256570899, 288.76651292184795), (1151.1603927893593, 281.53183599134826), (1151.9402912700548, 275.7859156211762), (1153.709175583594, 271.6701158129575), (1155.0887766620094, 266.75677731872366), (1156.0199728730859, 260.77017096792537), (1154.9487092940346, 251.81091321565418), (1158.3543539627408, 250.22187762804612), (1158.5954748091174, 245.73952497594712)]\n",
      "liste des positions frame 69:[[1105.2142857142858, 575.7337662337662], (1104.3706477248586, 570.3208167865637), (1106.0442057055843, 565.3697396322322), (1106.493370165924, 561.003292216581), (1107.2593896608923, 556.1733260857792), (1108.7922644537596, 551.4447951520623), (1107.5035141843182, 546.4982683040189), (1106.334875903997, 536.8554595844384), (1109.098333917336, 535.7438288120311), (1109.006364408671, 529.8373016044399), (1128.5895134823202, 563.8354040044056), (1110.2299574853575, 548.0343284312374), (1109.8199473189, 517.1614836094382), array([nan, nan]), array([nan, nan]), (1111.390478959253, 511.82491689720916), (1115.078097698496, 498.47750382441706), (1118.0268742191836, 498.53961551667555), (1120.2249905847818, 502.87634214576656), (1119.233874198703, 496.88668843392674), (1119.8890268515008, 475.9801315581792), (1122.872415128432, 472.0416780024363), (1123.6436027607594, 468.33260126138174), (1123.574223533677, 465.52391468235027), (1124.9472675454208, 460.28100403454744), (1128.2754373511484, 472.7215388148989), (1125.8559023830262, 447.16860806773917), (1125.2575676511583, 440.23910807070536), (1125.6784692561268, 436.4742069399868), (1126.4288927226396, 433.18046050345544), (1127.0201613369422, 429.81510009921146), (1127.6559782745508, 426.46201049647294), (1126.9935966302817, 422.3411939821711), (1128.4534419778672, 423.54527636694075), (1129.3400433817005, 410.3422946418606), (1130.8390617558239, 403.2211442203027), (1131.3628101968854, 399.3584621176501), (1131.935479181916, 395.95925283146516), (1134.238080031847, 393.20539102697535), (1134.46956699192, 388.68351164630644), (1136.59023144421, 385.0150271278667), (1138.862652108498, 377.173964130304), (1140.0355836170788, 372.534109590988), (1138.9618736049424, 366.4540128944856), (1140.4740216521961, 362.85277496401864), (1140.9753447067653, 359.91893664342274), (1143.1474637269505, 356.43461344342796), (1142.5105694802965, 351.93508474781873), (1144.3967221347193, 347.5356232920079), (1144.5544937074264, 341.9733669337061), (1145.09950517639, 338.5118891852207), (1144.5097121018555, 333.25606473611833), (1144.7576573629767, 328.4650772997889), (1145.3382702457543, 324.01850340639305), (1147.1676441592217, 320.0094252637193), (1147.835733614402, 314.1996883817629), (1148.844945225464, 309.81555482227174), (1149.4170776178084, 304.9400385482327), (1149.140434560931, 300.5739702507471), (1147.6002614223387, 294.45876339052865), (1150.45256570899, 288.76651292184795), (1151.1603927893593, 281.53183599134826), (1151.9402912700548, 275.7859156211762), (1153.709175583594, 271.6701158129575), (1155.0887766620094, 266.75677731872366), (1156.0199728730859, 260.77017096792537), (1154.9487092940346, 251.81091321565418), (1158.3543539627408, 250.22187762804612), (1158.5954748091174, 245.73952497594712), (1159.4745128379666, 241.68161754512877)]\n",
      "liste des positions frame 70:[[1105.2142857142858, 575.7337662337662], (1104.3706477248586, 570.3208167865637), (1106.0442057055843, 565.3697396322322), (1106.493370165924, 561.003292216581), (1107.2593896608923, 556.1733260857792), (1108.7922644537596, 551.4447951520623), (1107.5035141843182, 546.4982683040189), (1106.334875903997, 536.8554595844384), (1109.098333917336, 535.7438288120311), (1109.006364408671, 529.8373016044399), (1128.5895134823202, 563.8354040044056), (1110.2299574853575, 548.0343284312374), (1109.8199473189, 517.1614836094382), array([nan, nan]), array([nan, nan]), (1111.390478959253, 511.82491689720916), (1115.078097698496, 498.47750382441706), (1118.0268742191836, 498.53961551667555), (1120.2249905847818, 502.87634214576656), (1119.233874198703, 496.88668843392674), (1119.8890268515008, 475.9801315581792), (1122.872415128432, 472.0416780024363), (1123.6436027607594, 468.33260126138174), (1123.574223533677, 465.52391468235027), (1124.9472675454208, 460.28100403454744), (1128.2754373511484, 472.7215388148989), (1125.8559023830262, 447.16860806773917), (1125.2575676511583, 440.23910807070536), (1125.6784692561268, 436.4742069399868), (1126.4288927226396, 433.18046050345544), (1127.0201613369422, 429.81510009921146), (1127.6559782745508, 426.46201049647294), (1126.9935966302817, 422.3411939821711), (1128.4534419778672, 423.54527636694075), (1129.3400433817005, 410.3422946418606), (1130.8390617558239, 403.2211442203027), (1131.3628101968854, 399.3584621176501), (1131.935479181916, 395.95925283146516), (1134.238080031847, 393.20539102697535), (1134.46956699192, 388.68351164630644), (1136.59023144421, 385.0150271278667), (1138.862652108498, 377.173964130304), (1140.0355836170788, 372.534109590988), (1138.9618736049424, 366.4540128944856), (1140.4740216521961, 362.85277496401864), (1140.9753447067653, 359.91893664342274), (1143.1474637269505, 356.43461344342796), (1142.5105694802965, 351.93508474781873), (1144.3967221347193, 347.5356232920079), (1144.5544937074264, 341.9733669337061), (1145.09950517639, 338.5118891852207), (1144.5097121018555, 333.25606473611833), (1144.7576573629767, 328.4650772997889), (1145.3382702457543, 324.01850340639305), (1147.1676441592217, 320.0094252637193), (1147.835733614402, 314.1996883817629), (1148.844945225464, 309.81555482227174), (1149.4170776178084, 304.9400385482327), (1149.140434560931, 300.5739702507471), (1147.6002614223387, 294.45876339052865), (1150.45256570899, 288.76651292184795), (1151.1603927893593, 281.53183599134826), (1151.9402912700548, 275.7859156211762), (1153.709175583594, 271.6701158129575), (1155.0887766620094, 266.75677731872366), (1156.0199728730859, 260.77017096792537), (1154.9487092940346, 251.81091321565418), (1158.3543539627408, 250.22187762804612), (1158.5954748091174, 245.73952497594712), (1159.4745128379666, 241.68161754512877), (1160.4957085015249, 235.7978095623276)]\n",
      "liste des positions frame 71:[[1105.2142857142858, 575.7337662337662], (1104.3706477248586, 570.3208167865637), (1106.0442057055843, 565.3697396322322), (1106.493370165924, 561.003292216581), (1107.2593896608923, 556.1733260857792), (1108.7922644537596, 551.4447951520623), (1107.5035141843182, 546.4982683040189), (1106.334875903997, 536.8554595844384), (1109.098333917336, 535.7438288120311), (1109.006364408671, 529.8373016044399), (1128.5895134823202, 563.8354040044056), (1110.2299574853575, 548.0343284312374), (1109.8199473189, 517.1614836094382), array([nan, nan]), array([nan, nan]), (1111.390478959253, 511.82491689720916), (1115.078097698496, 498.47750382441706), (1118.0268742191836, 498.53961551667555), (1120.2249905847818, 502.87634214576656), (1119.233874198703, 496.88668843392674), (1119.8890268515008, 475.9801315581792), (1122.872415128432, 472.0416780024363), (1123.6436027607594, 468.33260126138174), (1123.574223533677, 465.52391468235027), (1124.9472675454208, 460.28100403454744), (1128.2754373511484, 472.7215388148989), (1125.8559023830262, 447.16860806773917), (1125.2575676511583, 440.23910807070536), (1125.6784692561268, 436.4742069399868), (1126.4288927226396, 433.18046050345544), (1127.0201613369422, 429.81510009921146), (1127.6559782745508, 426.46201049647294), (1126.9935966302817, 422.3411939821711), (1128.4534419778672, 423.54527636694075), (1129.3400433817005, 410.3422946418606), (1130.8390617558239, 403.2211442203027), (1131.3628101968854, 399.3584621176501), (1131.935479181916, 395.95925283146516), (1134.238080031847, 393.20539102697535), (1134.46956699192, 388.68351164630644), (1136.59023144421, 385.0150271278667), (1138.862652108498, 377.173964130304), (1140.0355836170788, 372.534109590988), (1138.9618736049424, 366.4540128944856), (1140.4740216521961, 362.85277496401864), (1140.9753447067653, 359.91893664342274), (1143.1474637269505, 356.43461344342796), (1142.5105694802965, 351.93508474781873), (1144.3967221347193, 347.5356232920079), (1144.5544937074264, 341.9733669337061), (1145.09950517639, 338.5118891852207), (1144.5097121018555, 333.25606473611833), (1144.7576573629767, 328.4650772997889), (1145.3382702457543, 324.01850340639305), (1147.1676441592217, 320.0094252637193), (1147.835733614402, 314.1996883817629), (1148.844945225464, 309.81555482227174), (1149.4170776178084, 304.9400385482327), (1149.140434560931, 300.5739702507471), (1147.6002614223387, 294.45876339052865), (1150.45256570899, 288.76651292184795), (1151.1603927893593, 281.53183599134826), (1151.9402912700548, 275.7859156211762), (1153.709175583594, 271.6701158129575), (1155.0887766620094, 266.75677731872366), (1156.0199728730859, 260.77017096792537), (1154.9487092940346, 251.81091321565418), (1158.3543539627408, 250.22187762804612), (1158.5954748091174, 245.73952497594712), (1159.4745128379666, 241.68161754512877), (1160.4957085015249, 235.7978095623276), (1162.2027423819284, 230.35279298746318)]\n",
      "liste des positions frame 72:[[1105.2142857142858, 575.7337662337662], (1104.3706477248586, 570.3208167865637), (1106.0442057055843, 565.3697396322322), (1106.493370165924, 561.003292216581), (1107.2593896608923, 556.1733260857792), (1108.7922644537596, 551.4447951520623), (1107.5035141843182, 546.4982683040189), (1106.334875903997, 536.8554595844384), (1109.098333917336, 535.7438288120311), (1109.006364408671, 529.8373016044399), (1128.5895134823202, 563.8354040044056), (1110.2299574853575, 548.0343284312374), (1109.8199473189, 517.1614836094382), array([nan, nan]), array([nan, nan]), (1111.390478959253, 511.82491689720916), (1115.078097698496, 498.47750382441706), (1118.0268742191836, 498.53961551667555), (1120.2249905847818, 502.87634214576656), (1119.233874198703, 496.88668843392674), (1119.8890268515008, 475.9801315581792), (1122.872415128432, 472.0416780024363), (1123.6436027607594, 468.33260126138174), (1123.574223533677, 465.52391468235027), (1124.9472675454208, 460.28100403454744), (1128.2754373511484, 472.7215388148989), (1125.8559023830262, 447.16860806773917), (1125.2575676511583, 440.23910807070536), (1125.6784692561268, 436.4742069399868), (1126.4288927226396, 433.18046050345544), (1127.0201613369422, 429.81510009921146), (1127.6559782745508, 426.46201049647294), (1126.9935966302817, 422.3411939821711), (1128.4534419778672, 423.54527636694075), (1129.3400433817005, 410.3422946418606), (1130.8390617558239, 403.2211442203027), (1131.3628101968854, 399.3584621176501), (1131.935479181916, 395.95925283146516), (1134.238080031847, 393.20539102697535), (1134.46956699192, 388.68351164630644), (1136.59023144421, 385.0150271278667), (1138.862652108498, 377.173964130304), (1140.0355836170788, 372.534109590988), (1138.9618736049424, 366.4540128944856), (1140.4740216521961, 362.85277496401864), (1140.9753447067653, 359.91893664342274), (1143.1474637269505, 356.43461344342796), (1142.5105694802965, 351.93508474781873), (1144.3967221347193, 347.5356232920079), (1144.5544937074264, 341.9733669337061), (1145.09950517639, 338.5118891852207), (1144.5097121018555, 333.25606473611833), (1144.7576573629767, 328.4650772997889), (1145.3382702457543, 324.01850340639305), (1147.1676441592217, 320.0094252637193), (1147.835733614402, 314.1996883817629), (1148.844945225464, 309.81555482227174), (1149.4170776178084, 304.9400385482327), (1149.140434560931, 300.5739702507471), (1147.6002614223387, 294.45876339052865), (1150.45256570899, 288.76651292184795), (1151.1603927893593, 281.53183599134826), (1151.9402912700548, 275.7859156211762), (1153.709175583594, 271.6701158129575), (1155.0887766620094, 266.75677731872366), (1156.0199728730859, 260.77017096792537), (1154.9487092940346, 251.81091321565418), (1158.3543539627408, 250.22187762804612), (1158.5954748091174, 245.73952497594712), (1159.4745128379666, 241.68161754512877), (1160.4957085015249, 235.7978095623276), (1162.2027423819284, 230.35279298746318), (1165.1892090412398, 221.87865418695011)]\n"
     ]
    }
   ],
   "source": [
    "taille_initiale, luminosité_initiale, seuil = empreinte_digitale(crop(img,x,y,35,35))\n",
    "print(f'position initiale: {position_list}')\n",
    "\n",
    "for i in range(first_frame+1,actual_frames):\n",
    "    tiff.seek(i)\n",
    "    if np.sum(np.array(tiff))==0:\n",
    "        #print(f'x={x}')\n",
    "        position_list.append(np.array([np.nan,np.nan]))\n",
    "        sigma_list.append(np.array([np.nan,np.nan]))\n",
    "        print(f'frames vide:{i}')\n",
    "    else:\n",
    "        #print(f'x={x}')\n",
    "        data = particle_tracker(img, x, y, taille_initiale, luminosité_initiale, seuil)\n",
    "        position_list.append(data[2])\n",
    "        # x,y = position_list[i-first_frame+1] Valeur de First frame n'a pas d'impact apparemment\n",
    "        x,y = position_list[i]\n",
    "        sigma_list.append(data[3])\n",
    "        tiff.seek(i)\n",
    "        img = np.array(tiff)\n",
    "        big_frames.append(img)\n",
    "        # plt.imshow(img)\n",
    "        # plt.show()\n",
    "        crop_frames.append(data[1])\n",
    "        if is_within_bounds(position_list[-1]):\n",
    "            pass\n",
    "        else:\n",
    "            break\n",
    "    print(f'liste des positions frame {i}:{position_list}')\n",
    "    \n",
    "    \n",
    "position_list=position_list[1:] #On ignore le premier point cliqué car incertitude non définie"
   ]
  },
  {
   "cell_type": "code",
   "execution_count": 22,
   "id": "b7a84351",
   "metadata": {},
   "outputs": [
    {
     "name": "stdout",
     "output_type": "stream",
     "text": [
      "[[2.03204199e-04 1.04939030e-04]\n",
      " [2.03512134e-04 1.04028032e-04]\n",
      " [2.03594780e-04 1.03224606e-04]\n",
      " [2.03735728e-04 1.02335892e-04]\n",
      " [2.04017777e-04 1.01465842e-04]\n",
      " [2.03780647e-04 1.00555681e-04]\n",
      " [2.03565617e-04 9.87814046e-05]\n",
      " [2.04074093e-04 9.85768645e-05]\n",
      " [2.04057171e-04 9.74900635e-05]\n",
      " [2.07660470e-04 1.03745714e-04]\n",
      " [2.04282312e-04 1.00838316e-04]\n",
      " [2.04206870e-04 9.51577130e-05]\n",
      " [           nan            nan]\n",
      " [           nan            nan]\n",
      " [2.04495848e-04 9.41757847e-05]\n",
      " [2.05174370e-04 9.17198607e-05]\n",
      " [2.05716945e-04 9.17312893e-05]\n",
      " [2.06121398e-04 9.25292470e-05]\n",
      " [2.05939033e-04 9.14271507e-05]\n",
      " [2.06059581e-04 8.75803442e-05]\n",
      " [2.06608524e-04 8.68556688e-05]\n",
      " [2.06750423e-04 8.61731986e-05]\n",
      " [2.06737657e-04 8.56564003e-05]\n",
      " [2.06990297e-04 8.46917047e-05]\n",
      " [2.07602680e-04 8.69807631e-05]\n",
      " [2.07157486e-04 8.22790239e-05]\n",
      " [2.07047392e-04 8.10039959e-05]\n",
      " [2.07124838e-04 8.03112541e-05]\n",
      " [2.07262916e-04 7.97052047e-05]\n",
      " [2.07371710e-04 7.90859784e-05]\n",
      " [2.07488700e-04 7.84690099e-05]\n",
      " [2.07366822e-04 7.77107797e-05]\n",
      " [2.07635433e-04 7.79323309e-05]\n",
      " [2.07798568e-04 7.55029822e-05]\n",
      " [2.08074387e-04 7.41926905e-05]\n",
      " [2.08170757e-04 7.34819570e-05]\n",
      " [2.08276128e-04 7.28565025e-05]\n",
      " [2.08699807e-04 7.23497919e-05]\n",
      " [2.08742400e-04 7.15177661e-05]\n",
      " [2.09132603e-04 7.08427650e-05]\n",
      " [2.09550728e-04 6.94000094e-05]\n",
      " [2.09766547e-04 6.85462762e-05]\n",
      " [2.09568985e-04 6.74275384e-05]\n",
      " [2.09847220e-04 6.67649106e-05]\n",
      " [2.09939463e-04 6.62250843e-05]\n",
      " [2.10339133e-04 6.55839689e-05]\n",
      " [2.10221945e-04 6.47560556e-05]\n",
      " [2.10568997e-04 6.39465547e-05]\n",
      " [2.10598027e-04 6.29230995e-05]\n",
      " [2.10698309e-04 6.22861876e-05]\n",
      " [2.10589787e-04 6.13191159e-05]\n",
      " [2.10635409e-04 6.04375742e-05]\n",
      " [2.10742242e-04 5.96194046e-05]\n",
      " [2.11078847e-04 5.88817342e-05]\n",
      " [2.11201775e-04 5.78127427e-05]\n",
      " [2.11387470e-04 5.70060621e-05]\n",
      " [2.11492742e-04 5.61089671e-05]\n",
      " [2.11441840e-04 5.53056105e-05]\n",
      " [2.11158448e-04 5.41804125e-05]\n",
      " [2.11683272e-04 5.31330384e-05]\n",
      " [2.11813512e-04 5.18018578e-05]\n",
      " [2.11957014e-04 5.07446085e-05]\n",
      " [2.12282488e-04 4.99873013e-05]\n",
      " [2.12536335e-04 4.90832470e-05]\n",
      " [2.12707675e-04 4.79817115e-05]\n",
      " [2.12510563e-04 4.63332080e-05]\n",
      " [2.13137201e-04 4.60408255e-05]\n",
      " [2.13181567e-04 4.52160726e-05]\n",
      " [2.13343310e-04 4.44694176e-05]\n",
      " [2.13531210e-04 4.33867970e-05]\n",
      " [2.13845305e-04 4.23849139e-05]\n",
      " [2.14394814e-04 4.08256724e-05]]\n"
     ]
    }
   ],
   "source": [
    "pixel_size = 3.45 # Taille absolue\n",
    "f2 = 150  # Focale de L2\n",
    "M_theo = 20  # Magnification of the objective\n",
    "pxl = pixel_size / (f2 * M_theo / 160)  # Pixel size in um dans le plan de la particule\n",
    "\n",
    "sigma_arr=np.array(sigma_list)* pxl * 10**(-6)\n",
    "position_arr=np.array(position_list)* pxl * 10**(-6)\n",
    "print(position_arr)"
   ]
  },
  {
   "cell_type": "code",
   "execution_count": 23,
   "id": "3381e213",
   "metadata": {},
   "outputs": [
    {
     "data": {
      "text/plain": [
       "(array([3.02227808e-12, 6.13334865e-12, 8.82964032e-12, 1.46553849e-11,\n",
       "        2.33009197e-11, 3.15274936e-11, 4.06275593e-11, 5.18817713e-11,\n",
       "        6.58371059e-11, 8.18832037e-11, 1.00127118e-10, 1.17650293e-10,\n",
       "        1.37461029e-10, 1.60162622e-10, 1.83499466e-10, 2.09317389e-10,\n",
       "        2.35924652e-10, 2.64807638e-10, 2.95480597e-10, 3.25016323e-10,\n",
       "        3.54968108e-10, 3.87617423e-10, 4.22729325e-10, 4.60245280e-10,\n",
       "        5.01056625e-10, 5.40057728e-10, 5.79197925e-10, 6.19976299e-10,\n",
       "        6.63406312e-10, 7.09185542e-10, 7.57328464e-10, 8.07223002e-10,\n",
       "        8.59070310e-10, 9.09820850e-10, 9.60860467e-10, 1.01451590e-09,\n",
       "        1.07081876e-09, 1.12899993e-09, 1.18813797e-09, 1.24563967e-09,\n",
       "        1.30516880e-09, 1.36574657e-09, 1.42812402e-09, 1.49290039e-09,\n",
       "        1.56042282e-09, 1.62937637e-09, 1.69826209e-09, 1.75426409e-09,\n",
       "        1.82363114e-09, 1.89465970e-09, 1.96701355e-09, 2.03746711e-09,\n",
       "        2.11264921e-09, 2.17700794e-09, 2.23628139e-09, 2.30226678e-09,\n",
       "        2.36909239e-09, 2.41853206e-09, 2.70375719e-09, 3.04383840e-09,\n",
       "        3.15705215e-09, 3.21739840e-09, 3.24778695e-09, 3.36049041e-09,\n",
       "        3.47129923e-09, 3.58427196e-09, 3.69415852e-09, 3.81019538e-09,\n",
       "        3.93741355e-09, 4.06961081e-09, 4.23575253e-09]),\n",
       " array([1.43576213e-11, 2.18576870e-11, 2.80054539e-11, 3.59309859e-11,\n",
       "        4.46058130e-11, 5.24045728e-11, 5.93643577e-11, 6.67429681e-11,\n",
       "        7.50110564e-11, 8.41768915e-11, 9.36015508e-11, 1.02407147e-10,\n",
       "        1.10548227e-10, 1.19230262e-10, 1.27238556e-10, 1.35522344e-10,\n",
       "        1.44407772e-10, 1.53225185e-10, 1.62944474e-10, 1.71574809e-10,\n",
       "        1.78464169e-10, 1.85289068e-10, 1.93631323e-10, 2.02013309e-10,\n",
       "        2.10714997e-10, 2.19582103e-10, 2.26970796e-10, 2.34606959e-10,\n",
       "        2.42116810e-10, 2.49620846e-10, 2.57259596e-10, 2.64499289e-10,\n",
       "        2.73847188e-10, 2.83422839e-10, 2.91331491e-10, 2.98973050e-10,\n",
       "        3.04990394e-10, 3.10741890e-10, 3.19898848e-10, 3.29570939e-10,\n",
       "        3.37143075e-10, 3.44868443e-10, 3.51047329e-10, 3.56505069e-10,\n",
       "        3.62091598e-10, 3.67024988e-10, 3.78334750e-10, 3.86449813e-10,\n",
       "        3.93538280e-10, 4.00166333e-10, 4.02231316e-10, 4.03552753e-10,\n",
       "        4.07934063e-10, 4.19260795e-10, 4.22319472e-10, 4.27879036e-10,\n",
       "        4.32584065e-10, 4.37075547e-10, 4.62845738e-10, 4.92399360e-10,\n",
       "        5.01394275e-10, 5.21220493e-10, 5.46515534e-10, 5.62434814e-10,\n",
       "        5.69843508e-10, 5.77702458e-10, 5.79970239e-10, 5.84056153e-10,\n",
       "        5.78762038e-10, 5.85348673e-10, 6.10949938e-10]))"
      ]
     },
     "execution_count": 23,
     "metadata": {},
     "output_type": "execute_result"
    }
   ],
   "source": [
    "def calculate_msd_with_uncertainty(position_arr, delta_x, delta_y):\n",
    "    \"\"\"\n",
    "    Calcule les MSD avec propagation des incertitudes analytiques.\n",
    "    \"\"\"\n",
    "\n",
    "    msd = []\n",
    "    uncertainties = []\n",
    "    for d in range(1, len(position_arr)):\n",
    "        diff_pairs = np.zeros_like(position_arr[d:])\n",
    "        dx = np.zeros_like(delta_x[d:])\n",
    "        dy = np.zeros_like(delta_y[d:])\n",
    "\n",
    "        # Masque pour détecter les NaN\n",
    "        nan_mask_pos = np.isnan(position_arr[d:]) | np.isnan(position_arr[:-d])\n",
    "        nan_mask_delta = np.isnan(delta_x[d:]) | np.isnan(delta_x[:-d])\n",
    "        \n",
    "        # Calculer les différences uniquement où nan_mask est False\n",
    "        valid_mask_pos = ~nan_mask_pos.any(axis=1)  # Inverser le masque pour obtenir les position_arr valides\n",
    "        valid_mask_delta = ~nan_mask_delta\n",
    "\n",
    "        diff_pairs[valid_mask_pos] = position_arr[d:][valid_mask_pos, :] - position_arr[:-d][valid_mask_pos, :]\n",
    "\n",
    "        distances_squared = np.sum(diff_pairs**2, axis=1)\n",
    "        msd.append(np.mean(distances_squared))  \n",
    "\n",
    "        dx[valid_mask_delta] = delta_x[d:][valid_mask_delta] + delta_x[:-d][valid_mask_delta]\n",
    "        dy[valid_mask_delta] = delta_y[d:][valid_mask_delta] + delta_y[:-d][valid_mask_delta]\n",
    "\n",
    "        term_x = 2 * (diff_pairs[:, 0]**2) * (dx**2)\n",
    "        term_y = 2 * (diff_pairs[:, 1]**2) * (dy**2)\n",
    "        \n",
    "        # Propagation des incertitudes\n",
    "        total_uncertainty = np.mean(term_x + term_y)\n",
    "        uncertainties.append(np.sqrt(total_uncertainty))\n",
    "\n",
    "    return np.array(msd), np.array(uncertainties)\n",
    "\n",
    "calculate_msd_with_uncertainty(position_arr, sigma_arr[:, 0], sigma_arr[:, 1])"
   ]
  },
  {
   "cell_type": "markdown",
   "id": "c355c5f0-6c28-4f45-abbe-9d17f257161b",
   "metadata": {},
   "source": [
    "# Résultats"
   ]
  },
  {
   "cell_type": "code",
   "execution_count": 24,
   "id": "4fb3cff6-dfd3-4c03-96fa-219eb0185e70",
   "metadata": {
    "execution": {
     "iopub.execute_input": "2024-11-27T00:35:56.812822Z",
     "iopub.status.busy": "2024-11-27T00:35:56.812598Z",
     "iopub.status.idle": "2024-11-27T00:35:56.821085Z",
     "shell.execute_reply": "2024-11-27T00:35:56.819985Z",
     "shell.execute_reply.started": "2024-11-27T00:35:56.812806Z"
    }
   },
   "outputs": [
    {
     "name": "stdout",
     "output_type": "stream",
     "text": [
      "coucou\n"
     ]
    }
   ],
   "source": [
    "# Assuming msd_values is the result of your MSD calculation\n",
    "msd_values, uncertainties = calculate_msd_with_uncertainty(position_arr, sigma_arr[:, 0], sigma_arr[:, 1])\n",
    "print('coucou')\n",
    "# Time intervals for the x-axis (assuming a uniform time step)\n",
    "time_intervals = np.arange(1, len(msd_values) + 1) * 0.5\n",
    "\n",
    "# Plotting the MSD\n",
    "plt.figure(figsize=(8, 6))\n",
    "plt.errorbar(time_intervals, msd_values, yerr=uncertainties, fmt='o', label='MSD', color='blue')\n",
    "\n",
    "# Customize the plot\n",
    "plt.title(\"MSD en fonction de l'intervalle de temps\")\n",
    "plt.xlabel(\"Intervalle de temps\")\n",
    "plt.ylabel(\"MSD\")\n",
    "plt.grid(True)\n",
    "plt.legend()\n",
    "\n",
    "# Show the plot\n",
    "plt.show()"
   ]
  },
  {
   "cell_type": "code",
   "execution_count": 25,
   "id": "cf9032b2",
   "metadata": {},
   "outputs": [
    {
     "name": "stdout",
     "output_type": "stream",
     "text": [
      "Coefficients du polynôme ajusté :\n",
      "[ 8.60433091e-13 -2.90375107e-13  2.57546918e-12]\n",
      "Matrice de covariance des coefficients :\n",
      "[[ 5.47489228e-26 -2.86605512e-25  2.71260409e-25]\n",
      " [-2.86605512e-25  1.57380137e-24 -1.56290446e-24]\n",
      " [ 2.71260409e-25 -1.56290446e-24  1.72805668e-24]]\n",
      "Incertitudes sur les coefficients : [2.33984877e-13 1.25451240e-12 1.31455570e-12]\n",
      "Taille de la particule (m): -3.03e-06 m, avec une incertitude : 1.31e-05\n"
     ]
    }
   ],
   "source": [
    "# Fonction quadratique pour l'ajustement\n",
    "def quadratic(x, a, b, c):\n",
    "    return a * x**2 + b * x + c\n",
    "\n",
    "# Assuming msd_values is the result of your MSD calculation\n",
    "msd_values, uncertainties = calculate_msd_with_uncertainty(position_arr, sigma_arr[:, 0], sigma_arr[:, 1])\n",
    "\n",
    "cropped_msd = msd_values[:5]\n",
    "cropped_inc = uncertainties[:5]\n",
    "\n",
    "# Time intervals for the x-axis (assuming a uniform time step)\n",
    "time_intervals = np.arange(1, len(cropped_msd) + 1)\n",
    "\n",
    "# Perform a quadratic fit using curve_fit, which gives both coefficients and covariance matrix\n",
    "popt, pcov = curve_fit(quadratic, time_intervals, cropped_msd, sigma=cropped_inc)\n",
    "\n",
    "# popt contains the optimal coefficients\n",
    "coeffs = popt\n",
    "\n",
    "# pcov is the covariance matrix, which we can use to compute uncertainties\n",
    "coeff_uncertainties = np.sqrt(np.diag(pcov))  # Incertitudes sur les coefficients sont les éléments diagonaux\n",
    "\n",
    "# Affichage des coefficients séparément\n",
    "print(\"Coefficients du polynôme ajusté :\")\n",
    "print(coeffs)\n",
    "\n",
    "# Affichage de la matrice de covariance séparément\n",
    "print(\"Matrice de covariance des coefficients :\")\n",
    "print(pcov)\n",
    "\n",
    "# Création de la fonction quadratique de l'ajustement\n",
    "quadratic_fit = np.poly1d(coeffs)\n",
    "\n",
    "# Génération des valeurs ajustées pour afficher la courbe\n",
    "fitted_msd = quadratic_fit(time_intervals)\n",
    "\n",
    "# Affichage du MSD avec les barres d'erreur\n",
    "plt.figure(figsize=(8, 6))\n",
    "plt.errorbar(time_intervals, cropped_msd, yerr=cropped_inc, fmt='o', label='MSD', color='blue')\n",
    "plt.plot(time_intervals, fitted_msd, label='Quadratic Fit', color='red', linestyle='--')\n",
    "\n",
    "# Personnalisation du graphique\n",
    "plt.title(\"MSD en fonction de l'intervalle de temps\")\n",
    "plt.xlabel(\"Intervalle de temps\")\n",
    "plt.ylabel(\"MSD\")\n",
    "plt.grid(True)\n",
    "plt.legend()\n",
    "\n",
    "# Afficher le graphique\n",
    "plt.show()\n",
    "\n",
    "# Affichage des incertitudes sur les coefficients\n",
    "print(f\"Incertitudes sur les coefficients : {coeff_uncertainties}\")\n",
    "\n",
    "# Calcul du coefficient de diffusion et de la taille de la particule\n",
    "r = (4 * 1.38 * 10**(-23) * 300 / (6 * np.pi * 10**(-3) * coeffs[1]))  # Coefficient de diffusion\n",
    "r_uncertainty = (4 * 1.38 * 10**(-23) * 300 * coeff_uncertainties[1] / (6 * np.pi * 10**(-3) * (coeffs[1])**2))  # Coefficient de diffusion\n",
    "\n",
    "# Affichage de la taille de la particule avec incertitude\n",
    "print(f\"Taille de la particule (m): {r:.2e} m, avec une incertitude : {r_uncertainty:.2e}\")\n"
   ]
  },
  {
   "cell_type": "markdown",
   "id": "89c6aa7d",
   "metadata": {},
   "source": []
  },
  {
   "cell_type": "code",
   "execution_count": 26,
   "id": "625b1770-9368-4a91-baa2-a62960106b77",
   "metadata": {
    "execution": {
     "iopub.execute_input": "2024-11-27T00:35:56.821952Z",
     "iopub.status.busy": "2024-11-27T00:35:56.821739Z",
     "iopub.status.idle": "2024-11-27T00:35:56.893091Z",
     "shell.execute_reply": "2024-11-27T00:35:56.891915Z",
     "shell.execute_reply.started": "2024-11-27T00:35:56.821935Z"
    }
   },
   "outputs": [],
   "source": [
    "x_plt, y_plt = zip(*position_list)\n",
    "# Create the plot\n",
    "plt.figure(figsize=(10, 8))  # Optional: Adjust the figure size\n",
    "plt.plot(x_plt, y_plt, marker='o', linestyle='-', color='b', label='Connected Points')\n",
    "\n",
    "# Inverser l'axe Y\n",
    "plt.gca().invert_yaxis()\n",
    "\n",
    "# Set grid limits to match the 1440x1080 grid\n",
    "plt.xlim(0, 1440)\n",
    "plt.ylim(0, 1080)\n",
    "\n",
    "# Add labels and title\n",
    "plt.xlabel('X-axis')\n",
    "plt.ylabel('Y-axis')\n",
    "plt.title('2D Connected Points Plot')\n",
    "plt.legend()\n",
    "\n",
    "# Optional: Add grid lines\n",
    "plt.grid(True)\n",
    "\n",
    "# Afficher le graphique\n",
    "plt.show()"
   ]
  },
  {
   "cell_type": "markdown",
   "id": "5fae7658-ee40-44d3-ace6-763079316aca",
   "metadata": {},
   "source": [
    "## anim toutes les particules"
   ]
  },
  {
   "cell_type": "code",
   "execution_count": 27,
   "id": "3f852688-0624-4f98-bc43-437e31b430a4",
   "metadata": {
    "execution": {
     "iopub.execute_input": "2024-11-27T00:35:56.894366Z",
     "iopub.status.busy": "2024-11-27T00:35:56.894056Z",
     "iopub.status.idle": "2024-11-27T00:35:56.898702Z",
     "shell.execute_reply": "2024-11-27T00:35:56.897463Z",
     "shell.execute_reply.started": "2024-11-27T00:35:56.894346Z"
    }
   },
   "outputs": [],
   "source": [
    "fig, ax = plt.subplots()\n",
    "img = ax.imshow(big_frames[0], origin='lower', cmap='gray', animated=True)\n",
    "\n",
    "\n",
    "# Update function\n",
    "def update(frame):\n",
    "    img.set_array(frame)\n",
    "    return img,\n",
    "    \n",
    "ani = animation.FuncAnimation(fig, update, frames=big_frames, interval=50, blit=True)\n",
    "plt.show()"
   ]
  },
  {
   "cell_type": "markdown",
   "id": "111a50d8-6fce-40cc-bf48-775bfd002c3d",
   "metadata": {},
   "source": [
    "## anim crop"
   ]
  },
  {
   "cell_type": "code",
   "execution_count": 28,
   "id": "0d6554b7-0c86-4ee5-8a32-4bd994f881f4",
   "metadata": {
    "execution": {
     "iopub.execute_input": "2024-11-27T00:35:56.899778Z",
     "iopub.status.busy": "2024-11-27T00:35:56.899533Z",
     "iopub.status.idle": "2024-11-27T00:35:56.955616Z",
     "shell.execute_reply": "2024-11-27T00:35:56.954725Z",
     "shell.execute_reply.started": "2024-11-27T00:35:56.899759Z"
    }
   },
   "outputs": [],
   "source": [
    "fig, ax = plt.subplots()\n",
    "img = ax.imshow(crop_frames[0], origin='lower', cmap='gray', animated=True)\n",
    "\n",
    "\n",
    "def update(frame):\n",
    "    img.set_array(frame)\n",
    "    return img,\n",
    "    \n",
    "ani = animation.FuncAnimation(fig, update, frames=crop_frames, interval=50, blit=True)\n",
    "plt.show()"
   ]
  },
  {
   "cell_type": "code",
   "execution_count": 29,
   "id": "a57b3c57-a5c5-4f11-b5ce-c32e975a7d83",
   "metadata": {},
   "outputs": [
    {
     "name": "stdout",
     "output_type": "stream",
     "text": [
      "Vidéo enregistrée sous 'particle_brownian_motion.mp4'.\n"
     ]
    }
   ],
   "source": [
    "# Exemple de grid setup (comme précédemment)\n",
    "x = np.linspace(0, 1440)  # ajusté pour créer une grille plus fine\n",
    "y = np.linspace(0, 1080)\n",
    "X, Y = np.meshgrid(x, y)\n",
    "\n",
    "# Créer des images (frames)\n",
    "frames = []\n",
    "for i in range(len(big_frames)):\n",
    "    frame = big_frames[i]\n",
    "    posi = position_list[i]\n",
    "    frames.append([frame, posi])\n",
    "\n",
    "# Paramètres de la figure\n",
    "fig, ax = plt.subplots()\n",
    "ax.set_title(\"Mouvement brownien de la particule\")\n",
    "ax.set_xlim(0, 1440)\n",
    "ax.set_ylim(0, 1080)\n",
    "ax.set_aspect('equal')\n",
    "plt.xlabel('Position horizontale (en pixel)')\n",
    "plt.ylabel('Position verticale (en pixel)')\n",
    "\n",
    "# Initialisation de l'image\n",
    "img = ax.imshow(big_frames[0], cmap='gray', animated=True)\n",
    "cb = plt.colorbar(img, ax=ax, label='Intensité')\n",
    "\n",
    "# Utiliser une liste pour stocker les indices à supprimer\n",
    "indices_a_supprimer = []\n",
    "\n",
    "# Identifiant des indices à supprimer\n",
    "for index in range(len(position_list)):\n",
    "    if np.isnan(position_list[index][0]):  # Vérifier si la première valeur de la position est NaN\n",
    "        indices_a_supprimer.append(index)\n",
    "\n",
    "# Supprimer les éléments de position_list et frames dans l'ordre inverse pour éviter de perturber l'indice\n",
    "for index in reversed(indices_a_supprimer):\n",
    "    position_list.pop(index)\n",
    "    frames.pop(index)\n",
    "\n",
    "# Fonction de mise à jour\n",
    "def update(frame):\n",
    "    img.set_array(frame[0])\n",
    "    pos=frame[1]\n",
    "    ax.scatter(pos[0], pos[1], color='r', s=2)  # Point blanc de taille 50\n",
    "    return img,\n",
    "\n",
    "# Choisir le writer FFMpeg\n",
    "writer = animation.FFMpegWriter(fps=5, metadata=dict(artist='Me'), bitrate=1800)\n",
    "\n",
    "# Animation\n",
    "ani = animation.FuncAnimation(fig, update, frames=frames, interval=50, blit=True)\n",
    "\n",
    "# Sauvegarder l'animation en .mp4\n",
    "ani.save(\"particle_brownian_motion.mp4\", writer=writer)\n",
    "\n",
    "# Afficher la vidéo\n",
    "plt.show()\n",
    "\n",
    "# Vérification : Si la vidéo est correctement enregistrée\n",
    "print(\"Vidéo enregistrée sous 'particle_brownian_motion.mp4'.\")\n"
   ]
  }
 ],
 "metadata": {
  "kernelspec": {
   "display_name": "Python 3",
   "language": "python",
   "name": "python3"
  },
  "language_info": {
   "codemirror_mode": {
    "name": "ipython",
    "version": 3
   },
   "file_extension": ".py",
   "mimetype": "text/x-python",
   "name": "python",
   "nbconvert_exporter": "python",
   "pygments_lexer": "ipython3",
   "version": "3.12.8"
  }
 },
 "nbformat": 4,
 "nbformat_minor": 5
}
