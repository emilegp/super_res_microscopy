{
 "cells": [
  {
   "cell_type": "markdown",
   "id": "a1bbf155-d46a-4bbb-a7bc-6857ef1672de",
   "metadata": {},
   "source": [
    "# Initialisation"
   ]
  },
  {
   "cell_type": "code",
   "execution_count": 1,
   "id": "49fff9c0-1a10-465b-b5d6-cf2853a133db",
   "metadata": {
    "execution": {
     "iopub.execute_input": "2024-11-27T00:33:55.015775Z",
     "iopub.status.busy": "2024-11-27T00:33:55.015362Z",
     "iopub.status.idle": "2024-11-27T00:33:56.248500Z",
     "shell.execute_reply": "2024-11-27T00:33:56.247904Z",
     "shell.execute_reply.started": "2024-11-27T00:33:55.015736Z"
    }
   },
   "outputs": [],
   "source": [
    "import matplotlib.pyplot as plt\n",
    "import matplotlib.animation as animation\n",
    "import cv2\n",
    "import numpy as np\n",
    "import os\n",
    "from PIL import Image\n",
    "import lmfit\n",
    "%matplotlib tk"
   ]
  },
  {
   "cell_type": "markdown",
   "id": "3c857432-f4a0-4d37-b1c3-d5115974f0f5",
   "metadata": {},
   "source": [
    "# Importer fichier"
   ]
  },
  {
   "cell_type": "code",
   "execution_count": 2,
   "id": "72d00744-e863-4ed8-b83b-112156869997",
   "metadata": {
    "execution": {
     "iopub.execute_input": "2024-11-27T00:33:56.249387Z",
     "iopub.status.busy": "2024-11-27T00:33:56.249142Z",
     "iopub.status.idle": "2024-11-27T00:33:56.288891Z",
     "shell.execute_reply": "2024-11-27T00:33:56.287953Z",
     "shell.execute_reply.started": "2024-11-27T00:33:56.249368Z"
    }
   },
   "outputs": [],
   "source": [
    "path_to_tiff = os.path.join(\"..\", \"acquisition\", \"video_output_carac_150ms_1im_1um.tiff\")\n",
    "\n",
    "tiff = Image.open(path_to_tiff)"
   ]
  },
  {
   "cell_type": "markdown",
   "id": "a9542b9e-bfef-4abf-86f4-db78b05a8be8",
   "metadata": {},
   "source": [
    "# Nombre de frames pas vide"
   ]
  },
  {
   "cell_type": "code",
   "execution_count": 3,
   "id": "dcf8b520-316f-4ac0-b860-fd1d965ea732",
   "metadata": {
    "execution": {
     "iopub.execute_input": "2024-11-27T00:33:56.289986Z",
     "iopub.status.busy": "2024-11-27T00:33:56.289746Z",
     "iopub.status.idle": "2024-11-27T00:33:57.058878Z",
     "shell.execute_reply": "2024-11-27T00:33:57.057944Z",
     "shell.execute_reply.started": "2024-11-27T00:33:56.289967Z"
    }
   },
   "outputs": [
    {
     "name": "stdout",
     "output_type": "stream",
     "text": [
      "All frames processed.\n"
     ]
    },
    {
     "data": {
      "text/plain": [
       "71"
      ]
     },
     "execution_count": 3,
     "metadata": {},
     "output_type": "execute_result"
    }
   ],
   "source": [
    "with Image.open(path_to_tiff) as img:\n",
    "    frame_number = 0\n",
    "    actual_frames = 0\n",
    "    try:\n",
    "        while True:\n",
    "            frame_number += 1\n",
    "            if np.sum(np.array(img)) != 0:\n",
    "                actual_frames += 1\n",
    "                \n",
    "            img.seek(frame_number)\n",
    "    except EOFError:\n",
    "        print(\"All frames processed.\")\n",
    "\n",
    "actual_frames"
   ]
  },
  {
   "cell_type": "markdown",
   "id": "4ce4927e-f7ec-4e65-ad5d-cef9195b6cbc",
   "metadata": {},
   "source": [
    "# 1re frame\n",
    "\n",
    "**Le nombre de frames ignorés n'est pas pris en compte**"
   ]
  },
  {
   "cell_type": "code",
   "execution_count": 4,
   "id": "26577059-48c2-4f3a-8e52-a89c99dbccd3",
   "metadata": {
    "execution": {
     "iopub.execute_input": "2024-11-27T00:33:57.059925Z",
     "iopub.status.busy": "2024-11-27T00:33:57.059662Z",
     "iopub.status.idle": "2024-11-27T00:33:57.082939Z",
     "shell.execute_reply": "2024-11-27T00:33:57.082043Z",
     "shell.execute_reply.started": "2024-11-27T00:33:57.059898Z"
    }
   },
   "outputs": [
    {
     "name": "stdout",
     "output_type": "stream",
     "text": [
      "1\n"
     ]
    }
   ],
   "source": [
    "frame_index = 0\n",
    "tiff.seek(frame_index)\n",
    "original_image = np.array(tiff)\n",
    "\n",
    "while np.sum(original_image) == 0:\n",
    "    frame_index += 1\n",
    "    tiff.seek(frame_index)\n",
    "    original_image = np.array(tiff)\n",
    "    print(frame_index)"
   ]
  },
  {
   "cell_type": "markdown",
   "id": "e1d8711a-7b97-4eb1-8556-60a0ce1f5253",
   "metadata": {},
   "source": [
    "# Traitement d'image"
   ]
  },
  {
   "cell_type": "code",
   "execution_count": 5,
   "id": "3a91746d-ed20-4b11-841a-4384c3c9f610",
   "metadata": {
    "execution": {
     "iopub.execute_input": "2024-11-27T00:33:57.083712Z",
     "iopub.status.busy": "2024-11-27T00:33:57.083500Z",
     "iopub.status.idle": "2024-11-27T00:33:57.942225Z",
     "shell.execute_reply": "2024-11-27T00:33:57.941368Z",
     "shell.execute_reply.started": "2024-11-27T00:33:57.083690Z"
    }
   },
   "outputs": [],
   "source": [
    "clahe = cv2.createCLAHE(clipLimit=10.0, tileGridSize=(30, 30))\n",
    "preprocessed = clahe.apply(original_image)\n",
    "\n",
    "blurred = cv2.medianBlur(preprocessed, 115)\n",
    "preprocessed2 = cv2.subtract(preprocessed, blurred)\n",
    "\n",
    "# Apply Non-Local Means Denoising\n",
    "img = cv2.fastNlMeansDenoising(preprocessed2, None, 15, 7, 41)"
   ]
  },
  {
   "cell_type": "markdown",
   "id": "9f52f7fc-b595-4b76-8cc3-0755544c12bd",
   "metadata": {},
   "source": [
    "# Sélection du point à tracker"
   ]
  },
  {
   "cell_type": "code",
   "execution_count": 6,
   "id": "5a934439-4314-4c28-a4cd-c0d9113c98e9",
   "metadata": {
    "execution": {
     "iopub.execute_input": "2024-11-27T00:33:57.944451Z",
     "iopub.status.busy": "2024-11-27T00:33:57.944269Z",
     "iopub.status.idle": "2024-11-27T00:33:57.947894Z",
     "shell.execute_reply": "2024-11-27T00:33:57.947259Z",
     "shell.execute_reply.started": "2024-11-27T00:33:57.944433Z"
    }
   },
   "outputs": [],
   "source": [
    "def crop(img, x, y, crop_size=100):\n",
    "    x_start = int(x - crop_size // 2)\n",
    "    x_end = int(x + crop_size // 2)\n",
    "    y_start = int(y - crop_size // 2)\n",
    "    y_end = int(y + crop_size // 2)\n",
    "\n",
    "    return img[y_start:y_end, x_start:x_end]"
   ]
  },
  {
   "cell_type": "code",
   "execution_count": 7,
   "id": "60e9cbb8-923d-4281-89f9-accc9565c831",
   "metadata": {
    "execution": {
     "iopub.execute_input": "2024-11-27T00:33:57.948819Z",
     "iopub.status.busy": "2024-11-27T00:33:57.948575Z",
     "iopub.status.idle": "2024-11-27T00:34:16.244046Z",
     "shell.execute_reply": "2024-11-27T00:34:16.243397Z",
     "shell.execute_reply.started": "2024-11-27T00:33:57.948800Z"
    }
   },
   "outputs": [
    {
     "name": "stdout",
     "output_type": "stream",
     "text": [
      "Please click on the point you want to select.\n",
      "Selected point: (442.5742129008896, 570.0094001702893)\n"
     ]
    }
   ],
   "source": [
    "# Display the image and let the user select a point interactively\n",
    "fig, ax = plt.subplots()\n",
    "ax.imshow(img, cmap='gray')  # Use 'gray' for better visibility of grayscale images\n",
    "plt.title(f\"Frame {frame_index}: Select a point\")\n",
    "\n",
    "# Ask for a point to be selected\n",
    "print(\"Please click on the point you want to select.\")\n",
    "x, y = plt.ginput(1)[0]  # This will get the coordinates of the clicked point\n",
    "print(f\"Selected point: ({x}, {y})\")\n",
    "plt.close()\n",
    "\n",
    "crop_sze = 100"
   ]
  },
  {
   "cell_type": "markdown",
   "id": "6a9490a9-7dce-451b-81ff-0ae267584ee3",
   "metadata": {},
   "source": [
    "# Fit gaussien sur le point sélectionné"
   ]
  },
  {
   "cell_type": "code",
   "execution_count": 8,
   "id": "5fc5b874-d129-40a2-985c-03a724b3cb95",
   "metadata": {
    "execution": {
     "iopub.execute_input": "2024-11-27T00:34:16.245037Z",
     "iopub.status.busy": "2024-11-27T00:34:16.244816Z",
     "iopub.status.idle": "2024-11-27T00:34:16.248322Z",
     "shell.execute_reply": "2024-11-27T00:34:16.247669Z",
     "shell.execute_reply.started": "2024-11-27T00:34:16.245020Z"
    }
   },
   "outputs": [],
   "source": [
    "def prepare_data(x, y, z):\n",
    "    return (x.flatten(), y.flatten()), z.flatten()"
   ]
  },
  {
   "cell_type": "code",
   "execution_count": 9,
   "id": "1fb18b6a-7295-4ea7-b0fb-84f5a41fbdbb",
   "metadata": {
    "execution": {
     "iopub.execute_input": "2024-11-27T00:34:16.249457Z",
     "iopub.status.busy": "2024-11-27T00:34:16.248979Z",
     "iopub.status.idle": "2024-11-27T00:34:16.280319Z",
     "shell.execute_reply": "2024-11-27T00:34:16.279600Z",
     "shell.execute_reply.started": "2024-11-27T00:34:16.249435Z"
    }
   },
   "outputs": [],
   "source": [
    "def gaussian_2d(xy, amplitude, x0, y0, sigma_x, sigma_y, offset):\n",
    "    x, y = xy\n",
    "    a = 1 / (2 * sigma_x**2)\n",
    "    b = 1 / (2 * sigma_y**2)\n",
    "    return offset + amplitude * np.exp(- (a * (x - x0)**2 + b * (y - y0)**2))"
   ]
  },
  {
   "cell_type": "code",
   "execution_count": 10,
   "id": "b2f948a1-d8e5-4fa8-acfe-ac569383012d",
   "metadata": {
    "execution": {
     "iopub.execute_input": "2024-11-27T00:34:16.281928Z",
     "iopub.status.busy": "2024-11-27T00:34:16.281279Z",
     "iopub.status.idle": "2024-11-27T00:34:16.286665Z",
     "shell.execute_reply": "2024-11-27T00:34:16.286066Z",
     "shell.execute_reply.started": "2024-11-27T00:34:16.281903Z"
    }
   },
   "outputs": [],
   "source": [
    "def localisateur_gaussien(intensity_grid, maxi):\n",
    "    x = np.arange(intensity_grid.shape[0])\n",
    "    y = np.arange(intensity_grid.shape[1])\n",
    "    X, Y = np.meshgrid(x, y)\n",
    "\n",
    "    # Préparer les données pour le fit\n",
    "    (xdata, ydata), zdata = prepare_data(X, Y, intensity_grid)\n",
    "    model = lmfit.Model(gaussian_2d)\n",
    "    max_idx = np.unravel_index(np.argmax(intensity_grid), intensity_grid.shape)\n",
    "    initial_x0 = x[max_idx[0]]\n",
    "    initial_y0 = y[max_idx[1]]\n",
    "\n",
    "    # Définir les paramètres du modèle\n",
    "    params = model.make_params(\n",
    "        amplitude=np.max(intensity_grid),\n",
    "        x0=initial_x0,\n",
    "        y0=initial_y0,\n",
    "        sigma_x=1,\n",
    "        sigma_y=1,\n",
    "        offset=2\n",
    "    )\n",
    "\n",
    "    # Effectuer l'ajustement\n",
    "    result = model.fit(zdata, params, xy=(xdata, ydata))\n",
    "\n",
    "    x_position = result.params['x0'].value + maxi[0] - 24.5\n",
    "    y_position = result.params['y0'].value + maxi[1] - 24.5\n",
    "\n",
    "    return [x_position, y_position], result.params['sigma_x'].value, result.params['sigma_y'].value"
   ]
  },
  {
   "cell_type": "markdown",
   "id": "647422c5-d9bb-4e71-9481-76349ea02eca",
   "metadata": {},
   "source": [
    "# Process d'image (enlever le bruit)\n",
    "\n",
    "**semble faire du trouble**"
   ]
  },
  {
   "cell_type": "code",
   "execution_count": 11,
   "id": "c3df48fe-ec70-413c-8172-84f9754a0bcf",
   "metadata": {
    "execution": {
     "iopub.execute_input": "2024-11-27T00:34:16.287655Z",
     "iopub.status.busy": "2024-11-27T00:34:16.287395Z",
     "iopub.status.idle": "2024-11-27T00:34:16.291801Z",
     "shell.execute_reply": "2024-11-27T00:34:16.291266Z",
     "shell.execute_reply.started": "2024-11-27T00:34:16.287612Z"
    }
   },
   "outputs": [],
   "source": [
    "def denoise(image):\n",
    "    clahe = cv2.createCLAHE(clipLimit=10.0, tileGridSize=(30, 30))\n",
    "    preprocessed = clahe.apply(image)\n",
    "    \n",
    "    blurred = cv2.medianBlur(preprocessed, 115)\n",
    "    preprocessed2 = cv2.subtract(preprocessed, blurred)\n",
    "    \n",
    "    return cv2.fastNlMeansDenoising(preprocessed2, None, 15, 7, 41)"
   ]
  },
  {
   "cell_type": "markdown",
   "id": "eb65a3ff-f48b-4c28-8c66-4326caaae144",
   "metadata": {},
   "source": [
    "# Passe au prochain frame"
   ]
  },
  {
   "cell_type": "code",
   "execution_count": 12,
   "id": "ce5cd50e-eb81-4b51-a600-e3d315c227d7",
   "metadata": {
    "execution": {
     "iopub.execute_input": "2024-11-27T00:34:16.292788Z",
     "iopub.status.busy": "2024-11-27T00:34:16.292525Z",
     "iopub.status.idle": "2024-11-27T00:34:16.296432Z",
     "shell.execute_reply": "2024-11-27T00:34:16.295813Z",
     "shell.execute_reply.started": "2024-11-27T00:34:16.292769Z"
    }
   },
   "outputs": [],
   "source": [
    "def next_frame(frame_index):\n",
    "    frame_index += 1\n",
    "    tiff.seek(frame_index)\n",
    "    original_image = np.array(tiff)\n",
    "    \n",
    "    while np.sum(original_image) == 0:\n",
    "        frame_index += 1\n",
    "        tiff.seek(frame_index)\n",
    "        original_image = np.array(tiff)\n",
    "\n",
    "    return [frame_index, original_image]"
   ]
  },
  {
   "cell_type": "markdown",
   "id": "61f2661b-5185-493a-bd25-97d1c42d712c",
   "metadata": {},
   "source": [
    "# Faire le crop et fit"
   ]
  },
  {
   "cell_type": "code",
   "execution_count": 13,
   "id": "b695a082-5a85-499e-9183-cfd354b4dc5d",
   "metadata": {
    "execution": {
     "iopub.execute_input": "2024-11-27T00:34:16.297421Z",
     "iopub.status.busy": "2024-11-27T00:34:16.297176Z",
     "iopub.status.idle": "2024-11-27T00:34:16.301468Z",
     "shell.execute_reply": "2024-11-27T00:34:16.300888Z",
     "shell.execute_reply.started": "2024-11-27T00:34:16.297403Z"
    }
   },
   "outputs": [],
   "source": [
    "def particle_tracker(image, x, y, frame_index):\n",
    "    image = denoise(image)\n",
    "    \n",
    "    cropped_img = crop(image, x, y, crop_sze)\n",
    "\n",
    "    result_fit = localisateur_gaussien(cropped_img, [x, y])\n",
    "\n",
    "    x_new, y_new = result_fit[0][0], result_fit[0][1]\n",
    "\n",
    "    return [result_fit, cropped_img, (x_new, y_new), (result_fit[1], result_fit[2])]"
   ]
  },
  {
   "cell_type": "markdown",
   "id": "8002acc8-bac7-4c69-846a-381ee31f08ff",
   "metadata": {},
   "source": [
    "# Main loop"
   ]
  },
  {
   "cell_type": "code",
   "execution_count": 14,
   "id": "e7a5dba4-849a-4171-8fbb-6d05453ed795",
   "metadata": {
    "execution": {
     "iopub.execute_input": "2024-11-27T00:34:16.302483Z",
     "iopub.status.busy": "2024-11-27T00:34:16.302259Z",
     "iopub.status.idle": "2024-11-27T00:35:56.804477Z",
     "shell.execute_reply": "2024-11-27T00:35:56.803536Z",
     "shell.execute_reply.started": "2024-11-27T00:34:16.302464Z"
    }
   },
   "outputs": [],
   "source": [
    "position_list = []\n",
    "sigma_list = []\n",
    "crop_frames = []\n",
    "big_frames = []\n",
    "\n",
    "for _ in range(actual_frames - 1):\n",
    "    data = particle_tracker(img, x, y, frame_index)\n",
    "    position_list.append(data[2])\n",
    "    sigma_list.append(data[3])\n",
    "    frame_index, img = next_frame(frame_index)\n",
    "    big_frames.append(img)\n",
    "    crop_frames.append(data[1])"
   ]
  },
  {
   "cell_type": "markdown",
   "id": "c355c5f0-6c28-4f45-abbe-9d17f257161b",
   "metadata": {},
   "source": [
    "# Résultats"
   ]
  },
  {
   "cell_type": "code",
   "execution_count": 15,
   "id": "2a6241a8-7a37-4b69-a66c-0a24bed76fb8",
   "metadata": {
    "execution": {
     "iopub.execute_input": "2024-11-27T00:35:56.805695Z",
     "iopub.status.busy": "2024-11-27T00:35:56.805472Z",
     "iopub.status.idle": "2024-11-27T00:35:56.811852Z",
     "shell.execute_reply": "2024-11-27T00:35:56.810929Z",
     "shell.execute_reply.started": "2024-11-27T00:35:56.805678Z"
    }
   },
   "outputs": [
    {
     "data": {
      "text/plain": [
       "[(np.float64(468.7651814922473), np.float64(594.5428668702059)),\n",
       " (np.float64(471.7276632319729), np.float64(600.6586031303884)),\n",
       " (np.float64(475.0458324462252), np.float64(607.7033640740087)),\n",
       " (np.float64(503.625608668681), np.float64(588.8695006951373)),\n",
       " (np.float64(484.40146645757625), np.float64(600.108583622248)),\n",
       " (np.float64(459.5397946532712), np.float64(560.4446483529156)),\n",
       " (np.float64(477.94629803231203), np.float64(613.764035490999)),\n",
       " (np.float64(505.69422939999913), np.float64(591.1661238576139)),\n",
       " (np.float64(506.9661895197163), np.float64(597.5212333339709)),\n",
       " (np.float64(506.0946255035899), np.float64(569.0537778997862)),\n",
       " (np.float64(500.12711013639773), np.float64(605.4553065447037)),\n",
       " (np.float64(-11994.20428957374), np.float64(576.7553657293998)),\n",
       " (np.float64(-480.10583410548395), np.float64(575.4508492517572)),\n",
       " (np.float64(-15345.226618631512), np.float64(576.0590673534973)),\n",
       " (np.float64(-7807.362475788953), np.float64(573.0236759804926)),\n",
       " (np.float64(506.91299713731905), np.float64(569.6926080839903)),\n",
       " (np.float64(-8404.663176516131), np.float64(577.367201236579)),\n",
       " (np.float64(-587.0427527841058), np.float64(571.6521199859033)),\n",
       " (np.float64(-1190.3844018589534), np.float64(575.2989309766326)),\n",
       " (np.float64(-7830.43740183281), np.float64(568.111731817108)),\n",
       " (np.float64(493.99137698185007), np.float64(602.856016244076)),\n",
       " (np.float64(15432.563841405015), np.float64(571.460108639968)),\n",
       " (np.float64(-444.81943543355646), np.float64(570.7441306347378)),\n",
       " (np.float64(206.4214357023549), np.float64(572.7938659578666)),\n",
       " (np.float64(-868.0300050973395), np.float64(570.4094446190161)),\n",
       " (np.float64(504.1728699742141), np.float64(587.4851757224706)),\n",
       " (np.float64(435.3849271304177), np.float64(596.1389694811755)),\n",
       " (np.float64(-18043.3082964382), np.float64(576.942332872945)),\n",
       " (np.float64(-9758.371827496765), np.float64(568.1094045137165)),\n",
       " (np.float64(495.1988877015), np.float64(618.4727059929425)),\n",
       " (np.float64(-14470.305688556205), np.float64(578.5878957708503)),\n",
       " (np.float64(525.3234199684156), np.float64(600.7446492646623)),\n",
       " (np.float64(506.3485366030286), np.float64(607.9551615800206)),\n",
       " (np.float64(506.53009744551935), np.float64(610.8707577734929)),\n",
       " (np.float64(506.9278607311336), np.float64(610.292202440171)),\n",
       " (np.float64(412.6303622990036), np.float64(567.4350341276087)),\n",
       " (np.float64(504.09205106654963), np.float64(606.9972818896721)),\n",
       " (np.float64(330.0961554032987), np.float64(565.4971804392956)),\n",
       " (np.float64(497.0128780619996), np.float64(603.6832791280647)),\n",
       " (np.float64(499.1818865634475), np.float64(596.0068185115107)),\n",
       " (np.float64(501.65296054683665), np.float64(616.7479614903867)),\n",
       " (np.float64(501.92361294691943), np.float64(580.1045222009786)),\n",
       " (np.float64(496.3979707139588), np.float64(578.9978695946337)),\n",
       " (np.float64(498.82356963762265), np.float64(590.5119314312411)),\n",
       " (np.float64(-59.778169675388654), np.float64(571.1000180802087)),\n",
       " (np.float64(363.8167900350139), np.float64(569.7989229723225)),\n",
       " (np.float64(484.07281661534546), np.float64(579.5095909621914)),\n",
       " (np.float64(191.80116086672135), np.float64(579.88900706211)),\n",
       " (np.float64(-500.7500940259258), np.float64(575.3068261975225)),\n",
       " (np.float64(494.98323682186583), np.float64(579.331257924613)),\n",
       " (np.float64(501.94098233578154), np.float64(605.0810180577505)),\n",
       " (np.float64(289.1179793892186), np.float64(578.612627947936)),\n",
       " (np.float64(490.5856486144186), np.float64(573.9913031613645)),\n",
       " (np.float64(506.5855309377092), np.float64(621.8549609892749)),\n",
       " (np.float64(501.1411246115756), np.float64(577.4306389124622)),\n",
       " (np.float64(487.98917813340995), np.float64(581.000119629518)),\n",
       " (np.float64(494.2328610019781), np.float64(576.2411005411623)),\n",
       " (np.float64(474.2779538752767), np.float64(571.6944967793083)),\n",
       " (np.float64(490.4391771165268), np.float64(574.5177417719015)),\n",
       " (np.float64(492.61402306958314), np.float64(573.5363350304494)),\n",
       " (np.float64(497.55595387228766), np.float64(569.0549762798483)),\n",
       " (np.float64(485.8389363959333), np.float64(566.3249603004433)),\n",
       " (np.float64(536.7565454909898), np.float64(561.6771196590473)),\n",
       " (np.float64(843.5554148899879), np.float64(564.8823187449597)),\n",
       " (np.float64(183.98525430031728), np.float64(568.8850510373813)),\n",
       " (np.float64(473.3334816093057), np.float64(570.2169935371534)),\n",
       " (np.float64(177.08260500744012), np.float64(569.6364034976349)),\n",
       " (np.float64(476.4170878466229), np.float64(-227877.1048348377)),\n",
       " (np.float64(486.2459808847424), np.float64(555.0199146686704)),\n",
       " (np.float64(491.0232079247013), np.float64(581.1751274741487))]"
      ]
     },
     "execution_count": 15,
     "metadata": {},
     "output_type": "execute_result"
    }
   ],
   "source": [
    "position_list"
   ]
  },
  {
   "cell_type": "code",
   "execution_count": 16,
   "id": "4fb3cff6-dfd3-4c03-96fa-219eb0185e70",
   "metadata": {
    "execution": {
     "iopub.execute_input": "2024-11-27T00:35:56.812822Z",
     "iopub.status.busy": "2024-11-27T00:35:56.812598Z",
     "iopub.status.idle": "2024-11-27T00:35:56.821085Z",
     "shell.execute_reply": "2024-11-27T00:35:56.819985Z",
     "shell.execute_reply.started": "2024-11-27T00:35:56.812806Z"
    }
   },
   "outputs": [
    {
     "data": {
      "text/plain": [
       "[(np.float64(3.2048482443533084), np.float64(4.343094504303097)),\n",
       " (np.float64(3.0966976973507783), np.float64(4.809020895109953)),\n",
       " (np.float64(-2.958671161174716), np.float64(-4.580959823711562)),\n",
       " (np.float64(-10.698249204472878), np.float64(95.44858291473166)),\n",
       " (np.float64(-1.8428326595930646), np.float64(-0.3112297671596119)),\n",
       " (np.float64(59.145265692678414), np.float64(22.646713471369385)),\n",
       " (np.float64(2.4965621729124177), np.float64(4.1936539195410125)),\n",
       " (np.float64(9.386864434311946), np.float64(45.74804175133058)),\n",
       " (np.float64(9.751836231746827), np.float64(47.03548507289736)),\n",
       " (np.float64(11.80429264555293), np.float64(77.30549380409302)),\n",
       " (np.float64(1.3048885979138758), np.float64(-0.194539028694731)),\n",
       " (np.float64(7141.444923986571), np.float64(31.456125448600684)),\n",
       " (np.float64(577.4435781215673), np.float64(30.379652418995143)),\n",
       " (np.float64(-4208.172128757842), np.float64(-78.28004872249184)),\n",
       " (np.float64(-4793.646450236605), np.float64(-35.274304955823496)),\n",
       " (np.float64(9.305470615705724), np.float64(72.7487387513798)),\n",
       " (np.float64(-2265.79779664681), np.float64(-37.89249355067336)),\n",
       " (np.float64(-669.7678771393159), np.float64(30.89427228430354)),\n",
       " (np.float64(962.5253280740661), np.float64(37.80212960599104)),\n",
       " (np.float64(2717.2644491673773), np.float64(48.27587259975479)),\n",
       " (np.float64(-0.12449286266193572), np.float64(0.035249762776843316)),\n",
       " (np.float64(-4310.770161487929), np.float64(-47.23544744820708)),\n",
       " (np.float64(395.2562920621715), np.float64(27.50320792477711)),\n",
       " (np.float64(-439.2332015593142), np.float64(-27.684637959434177)),\n",
       " (np.float64(638.2819560151178), np.float64(29.276616494431202)),\n",
       " (np.float64(-10.783128678315157), np.float64(-63.63380419444339)),\n",
       " (np.float64(223.11811103134238), np.float64(11.947271590657188)),\n",
       " (np.float64(-6808.680220184171), np.float64(-104.17453442042229)),\n",
       " (np.float64(-3486.1436268921143), np.float64(-56.033146292903595)),\n",
       " (np.float64(-0.15755728182317702), np.float64(-24.607691172545326)),\n",
       " (np.float64(-4295.924814740073), np.float64(-53.19273491404543)),\n",
       " (np.float64(61.048808656415595), np.float64(9.401846871309957)),\n",
       " (np.float64(10.999555643419544), np.float64(16.846273558303572)),\n",
       " (np.float64(9.789027785457593), np.float64(18.15923509831398)),\n",
       " (np.float64(8.639731832108541), np.float64(16.972547478457955)),\n",
       " (np.float64(629.2239487770921), np.float64(31.18079785502977)),\n",
       " (np.float64(10.780027555606166), np.float64(19.053104495074404)),\n",
       " (np.float64(-168.5708235336154), np.float64(-25.249306661663933)),\n",
       " (np.float64(19.316178037274405), np.float64(11.213667183487333)),\n",
       " (np.float64(-0.10058901596431086), np.float64(0.3053707456021012)),\n",
       " (np.float64(-10.011269641929713), np.float64(-19.284389239538836)),\n",
       " (np.float64(13.899293326186738), np.float64(95.89100563304079)),\n",
       " (np.float64(14.829056514426007), np.float64(46.507839105469586)),\n",
       " (np.float64(-0.1071610679348611), np.float64(-0.053674441172840454)),\n",
       " (np.float64(686.9607567738597), np.float64(31.813221906328454)),\n",
       " (np.float64(224.29580092187035), np.float64(23.168870331800814)),\n",
       " (np.float64(0.3738941485384497), np.float64(-0.37336936852043534)),\n",
       " (np.float64(268.2095366013901), np.float64(22.818311487588932)),\n",
       " (np.float64(631.2020746207623), np.float64(28.689259698481465)),\n",
       " (np.float64(0.16362543272298477), np.float64(0.13341303403789756)),\n",
       " (np.float64(-14.250396866050068), np.float64(11.728310370487447)),\n",
       " (np.float64(241.48926757986877), np.float64(25.990512740249283)),\n",
       " (np.float64(7.704911438076715), np.float64(4.406728664077262)),\n",
       " (np.float64(-16.225662427178396), np.float64(-181.1914561589617)),\n",
       " (np.float64(-0.8873831837953343), np.float64(0.9796358828472669)),\n",
       " (np.float64(5.812215189638985), np.float64(-1.9622823285306341)),\n",
       " (np.float64(12.612812025214733), np.float64(5.439394123036581)),\n",
       " (np.float64(7.067402034452868), np.float64(7.9711365138258605)),\n",
       " (np.float64(15.872246370951634), np.float64(7.5648454409009025)),\n",
       " (np.float64(3.7313516473632222), np.float64(7.366851797937622)),\n",
       " (np.float64(1.044723008682169), np.float64(1.0979667331217948)),\n",
       " (np.float64(-8000.970222326677), np.float64(-7007.37646305304)),\n",
       " (np.float64(-16891.18956876254), np.float64(-10293.799314293727)),\n",
       " (np.float64(690.4658243981975), np.float64(27.131472017988806)),\n",
       " (np.float64(451.0507691988604), np.float64(32.44281704881586)),\n",
       " (np.float64(167.86575204814565), np.float64(26.873104006284347)),\n",
       " (np.float64(176.66028444569244), np.float64(18.626378094169624)),\n",
       " (np.float64(4990.803339515428), np.float64(464901.20428900066)),\n",
       " (np.float64(-7.3201471716825), np.float64(-2.95892729128653)),\n",
       " (np.float64(-5.6754009951092845), np.float64(5.165452424755741))]"
      ]
     },
     "execution_count": 16,
     "metadata": {},
     "output_type": "execute_result"
    }
   ],
   "source": [
    "sigma_list"
   ]
  },
  {
   "cell_type": "code",
   "execution_count": 17,
   "id": "625b1770-9368-4a91-baa2-a62960106b77",
   "metadata": {
    "execution": {
     "iopub.execute_input": "2024-11-27T00:35:56.821952Z",
     "iopub.status.busy": "2024-11-27T00:35:56.821739Z",
     "iopub.status.idle": "2024-11-27T00:35:56.893091Z",
     "shell.execute_reply": "2024-11-27T00:35:56.891915Z",
     "shell.execute_reply.started": "2024-11-27T00:35:56.821935Z"
    }
   },
   "outputs": [],
   "source": [
    "x_plt, y_plt = zip(*position_list)\n",
    "# Create the plot\n",
    "plt.figure(figsize=(10, 8))  # Optional: Adjust the figure size\n",
    "plt.plot(x_plt, y_plt, marker='o', linestyle='-', color='b', label='Connected Points')\n",
    "\n",
    "# Set grid limits to match the 1440x1080 grid\n",
    "plt.xlim(0, 1440)\n",
    "plt.ylim(0, 1080)\n",
    "\n",
    "# Add labels and title\n",
    "plt.xlabel('X-axis')\n",
    "plt.ylabel('Y-axis')\n",
    "plt.title('2D Connected Points Plot')\n",
    "plt.legend()\n",
    "\n",
    "# Optional: Add grid lines\n",
    "plt.grid(True)"
   ]
  },
  {
   "cell_type": "markdown",
   "id": "5fae7658-ee40-44d3-ace6-763079316aca",
   "metadata": {},
   "source": [
    "## anim toutes les particules"
   ]
  },
  {
   "cell_type": "code",
   "execution_count": 18,
   "id": "3f852688-0624-4f98-bc43-437e31b430a4",
   "metadata": {
    "execution": {
     "iopub.execute_input": "2024-11-27T00:35:56.894366Z",
     "iopub.status.busy": "2024-11-27T00:35:56.894056Z",
     "iopub.status.idle": "2024-11-27T00:35:56.898702Z",
     "shell.execute_reply": "2024-11-27T00:35:56.897463Z",
     "shell.execute_reply.started": "2024-11-27T00:35:56.894346Z"
    }
   },
   "outputs": [],
   "source": [
    "# fig, ax = plt.subplots()\n",
    "# img = ax.imshow(big_frames[0], cmap='gray', animated=True)\n",
    "\n",
    "\n",
    "# # Update function\n",
    "# def update(frame):\n",
    "#     img.set_array(frame)\n",
    "#     return img,\n",
    "    \n",
    "# ani = animation.FuncAnimation(fig, update, frames=big_frames, interval=50, blit=True)\n",
    "# plt.show()"
   ]
  },
  {
   "cell_type": "markdown",
   "id": "111a50d8-6fce-40cc-bf48-775bfd002c3d",
   "metadata": {},
   "source": [
    "## anim crop"
   ]
  },
  {
   "cell_type": "code",
   "execution_count": 19,
   "id": "0d6554b7-0c86-4ee5-8a32-4bd994f881f4",
   "metadata": {
    "execution": {
     "iopub.execute_input": "2024-11-27T00:35:56.899778Z",
     "iopub.status.busy": "2024-11-27T00:35:56.899533Z",
     "iopub.status.idle": "2024-11-27T00:35:56.955616Z",
     "shell.execute_reply": "2024-11-27T00:35:56.954725Z",
     "shell.execute_reply.started": "2024-11-27T00:35:56.899759Z"
    }
   },
   "outputs": [],
   "source": [
    "fig, ax = plt.subplots()\n",
    "img = ax.imshow(crop_frames[0], cmap='gray', animated=True)\n",
    "\n",
    "\n",
    "def update(frame):\n",
    "    img.set_array(frame)\n",
    "    return img,\n",
    "    \n",
    "ani = animation.FuncAnimation(fig, update, frames=crop_frames, interval=50, blit=True)\n",
    "plt.show()"
   ]
  },
  {
   "cell_type": "code",
   "execution_count": null,
   "id": "a57b3c57-a5c5-4f11-b5ce-c32e975a7d83",
   "metadata": {},
   "outputs": [],
   "source": []
  }
 ],
 "metadata": {
  "kernelspec": {
   "display_name": "Python 3.12",
   "language": "python",
   "name": "python3.12"
  },
  "language_info": {
   "codemirror_mode": {
    "name": "ipython",
    "version": 3
   },
   "file_extension": ".py",
   "mimetype": "text/x-python",
   "name": "python",
   "nbconvert_exporter": "python",
   "pygments_lexer": "ipython3",
   "version": "3.12.7"
  }
 },
 "nbformat": 4,
 "nbformat_minor": 5
}
