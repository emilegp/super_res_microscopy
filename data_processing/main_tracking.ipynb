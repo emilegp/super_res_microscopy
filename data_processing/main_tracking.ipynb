{
 "cells": [
  {
   "cell_type": "markdown",
   "id": "a1bbf155-d46a-4bbb-a7bc-6857ef1672de",
   "metadata": {},
   "source": [
    "# Initialisation"
   ]
  },
  {
   "cell_type": "code",
   "execution_count": 28,
   "id": "49fff9c0-1a10-465b-b5d6-cf2853a133db",
   "metadata": {
    "execution": {
     "iopub.execute_input": "2024-11-27T00:33:55.015775Z",
     "iopub.status.busy": "2024-11-27T00:33:55.015362Z",
     "iopub.status.idle": "2024-11-27T00:33:56.248500Z",
     "shell.execute_reply": "2024-11-27T00:33:56.247904Z",
     "shell.execute_reply.started": "2024-11-27T00:33:55.015736Z"
    }
   },
   "outputs": [],
   "source": [
    "import matplotlib\n",
    "matplotlib.use('Qt5Agg')  # Utiliser le backend Qt5Agg pour Windows\n",
    "import matplotlib.pyplot as plt\n",
    "import matplotlib.animation as animation\n",
    "from scipy.optimize import curve_fit\n",
    "import cv2\n",
    "import numpy as np\n",
    "import os\n",
    "from PIL import Image\n",
    "import lmfit\n",
    "#import tifffile\n",
    "#%matplotlib tk #pour Linux"
   ]
  },
  {
   "cell_type": "code",
   "execution_count": 29,
   "id": "5244023b",
   "metadata": {},
   "outputs": [],
   "source": [
    "import scipy.ndimage as ndimage\n",
    "from sklearn.cluster import DBSCAN"
   ]
  },
  {
   "cell_type": "markdown",
   "id": "3c857432-f4a0-4d37-b1c3-d5115974f0f5",
   "metadata": {},
   "source": [
    "# Importer fichier"
   ]
  },
  {
   "cell_type": "code",
   "execution_count": 30,
   "id": "72d00744-e863-4ed8-b83b-112156869997",
   "metadata": {
    "execution": {
     "iopub.execute_input": "2024-11-27T00:33:56.249387Z",
     "iopub.status.busy": "2024-11-27T00:33:56.249142Z",
     "iopub.status.idle": "2024-11-27T00:33:56.288891Z",
     "shell.execute_reply": "2024-11-27T00:33:56.287953Z",
     "shell.execute_reply.started": "2024-11-27T00:33:56.249368Z"
    }
   },
   "outputs": [],
   "source": [
    "path_to_tiff = os.path.join(\"..\", \"acquisition\", \"video_output_carac_150ms_1im_1um.tiff\")\n",
    "\n",
    "tiff = Image.open(path_to_tiff)"
   ]
  },
  {
   "cell_type": "markdown",
   "id": "a9542b9e-bfef-4abf-86f4-db78b05a8be8",
   "metadata": {},
   "source": [
    "# Nombre de frames pas vide"
   ]
  },
  {
   "cell_type": "code",
   "execution_count": 31,
   "id": "dcf8b520-316f-4ac0-b860-fd1d965ea732",
   "metadata": {
    "execution": {
     "iopub.execute_input": "2024-11-27T00:33:56.289986Z",
     "iopub.status.busy": "2024-11-27T00:33:56.289746Z",
     "iopub.status.idle": "2024-11-27T00:33:57.058878Z",
     "shell.execute_reply": "2024-11-27T00:33:57.057944Z",
     "shell.execute_reply.started": "2024-11-27T00:33:56.289967Z"
    }
   },
   "outputs": [
    {
     "name": "stdout",
     "output_type": "stream",
     "text": [
      "All frames processed.\n"
     ]
    },
    {
     "data": {
      "text/plain": [
       "71"
      ]
     },
     "execution_count": 31,
     "metadata": {},
     "output_type": "execute_result"
    }
   ],
   "source": [
    "with Image.open(path_to_tiff) as img:\n",
    "    frame_number = 0\n",
    "    actual_frames = 0\n",
    "    try:\n",
    "        while True:\n",
    "            frame_number += 1\n",
    "            if np.sum(np.array(img)) != 0:\n",
    "                actual_frames += 1\n",
    "                \n",
    "            img.seek(frame_number)\n",
    "    except EOFError:\n",
    "        print(\"All frames processed.\")\n",
    "\n",
    "actual_frames"
   ]
  },
  {
   "cell_type": "markdown",
   "id": "4ce4927e-f7ec-4e65-ad5d-cef9195b6cbc",
   "metadata": {},
   "source": [
    "# 1re frame\n",
    "\n",
    "**Le nombre de frames ignorés n'est pas pris en compte**"
   ]
  },
  {
   "cell_type": "code",
   "execution_count": 32,
   "id": "26577059-48c2-4f3a-8e52-a89c99dbccd3",
   "metadata": {
    "execution": {
     "iopub.execute_input": "2024-11-27T00:33:57.059925Z",
     "iopub.status.busy": "2024-11-27T00:33:57.059662Z",
     "iopub.status.idle": "2024-11-27T00:33:57.082939Z",
     "shell.execute_reply": "2024-11-27T00:33:57.082043Z",
     "shell.execute_reply.started": "2024-11-27T00:33:57.059898Z"
    }
   },
   "outputs": [
    {
     "name": "stdout",
     "output_type": "stream",
     "text": [
      "1\n"
     ]
    }
   ],
   "source": [
    "frame_index = 0\n",
    "first_frame = 0\n",
    "tiff.seek(frame_index)\n",
    "original_image = np.array(tiff)\n",
    "\n",
    "while np.sum(original_image) == 0:\n",
    "    frame_index += 1\n",
    "    tiff.seek(frame_index)\n",
    "    original_image = np.array(tiff)\n",
    "    first_frame += 1\n",
    "    print(frame_index)\n",
    "\n",
    "\n"
   ]
  },
  {
   "cell_type": "markdown",
   "id": "e1d8711a-7b97-4eb1-8556-60a0ce1f5253",
   "metadata": {},
   "source": [
    "# Traitement d'image"
   ]
  },
  {
   "cell_type": "code",
   "execution_count": 33,
   "id": "3a91746d-ed20-4b11-841a-4384c3c9f610",
   "metadata": {
    "execution": {
     "iopub.execute_input": "2024-11-27T00:33:57.083712Z",
     "iopub.status.busy": "2024-11-27T00:33:57.083500Z",
     "iopub.status.idle": "2024-11-27T00:33:57.942225Z",
     "shell.execute_reply": "2024-11-27T00:33:57.941368Z",
     "shell.execute_reply.started": "2024-11-27T00:33:57.083690Z"
    }
   },
   "outputs": [],
   "source": [
    "clahe = cv2.createCLAHE(clipLimit=10.0, tileGridSize=(30, 30))\n",
    "preprocessed = clahe.apply(original_image)\n",
    "\n",
    "blurred = cv2.medianBlur(preprocessed, 115)\n",
    "preprocessed2 = cv2.subtract(preprocessed, blurred)\n",
    "\n",
    "# Apply Non-Local Means Denoising\n",
    "img = cv2.fastNlMeansDenoising(preprocessed2, None, 15, 7, 41)\n"
   ]
  },
  {
   "cell_type": "markdown",
   "id": "9f52f7fc-b595-4b76-8cc3-0755544c12bd",
   "metadata": {},
   "source": [
    "# Sélection du point à tracker"
   ]
  },
  {
   "cell_type": "code",
   "execution_count": 34,
   "id": "5a934439-4314-4c28-a4cd-c0d9113c98e9",
   "metadata": {
    "execution": {
     "iopub.execute_input": "2024-11-27T00:33:57.944451Z",
     "iopub.status.busy": "2024-11-27T00:33:57.944269Z",
     "iopub.status.idle": "2024-11-27T00:33:57.947894Z",
     "shell.execute_reply": "2024-11-27T00:33:57.947259Z",
     "shell.execute_reply.started": "2024-11-27T00:33:57.944433Z"
    }
   },
   "outputs": [],
   "source": [
    "def crop(img, x, y, crop_size_x, crop_size_y):\n",
    "    x_start = int(x - crop_size_x // 2)\n",
    "    x_end = int(x + crop_size_x // 2)\n",
    "    y_start = int(y - crop_size_y // 2)\n",
    "    y_end = int(y + crop_size_y // 2)\n",
    "\n",
    "    return img[y_start:y_end, x_start:x_end]"
   ]
  },
  {
   "cell_type": "code",
   "execution_count": 35,
   "id": "60e9cbb8-923d-4281-89f9-accc9565c831",
   "metadata": {
    "execution": {
     "iopub.execute_input": "2024-11-27T00:33:57.948819Z",
     "iopub.status.busy": "2024-11-27T00:33:57.948575Z",
     "iopub.status.idle": "2024-11-27T00:34:16.244046Z",
     "shell.execute_reply": "2024-11-27T00:34:16.243397Z",
     "shell.execute_reply.started": "2024-11-27T00:33:57.948800Z"
    }
   },
   "outputs": [
    {
     "name": "stdout",
     "output_type": "stream",
     "text": [
      "Please click on the point you want to select.\n",
      "Selected point: (489.3027163676021, 954.7116585704371)\n"
     ]
    }
   ],
   "source": [
    "# Display the image and let the user select a point interactively\n",
    "fig, ax = plt.subplots()\n",
    "ax.imshow(img, origin='lower', cmap='gray')  # Use 'gray' for better visibility of grayscale images\n",
    "plt.title(f\"Frame {frame_index}: Select a point\")\n",
    "\n",
    "# Ask for a point to be selected\n",
    "print(\"Please click on the point you want to select.\")\n",
    "x, y = plt.ginput(1)[0]  # This will get the coordinates of the clicked point\n",
    "print(f\"Selected point: ({x}, {y})\")\n",
    "plt.close()\n",
    "\n",
    "crop_sze = crop_sze_x = crop_sze_y = 50"
   ]
  },
  {
   "cell_type": "markdown",
   "id": "383a659b",
   "metadata": {},
   "source": [
    "Debogueur"
   ]
  },
  {
   "cell_type": "code",
   "execution_count": 36,
   "id": "6184609f",
   "metadata": {},
   "outputs": [],
   "source": [
    "def visionneur(frame, titre):\n",
    "    plt.figure(figsize=(10, 5))\n",
    "    plt.clf() \n",
    "    plt.imshow(frame, origin='lower', cmap='gray')\n",
    "    plt.title(titre)\n",
    "    plt.colorbar()  \n",
    "    plt.show()"
   ]
  },
  {
   "cell_type": "markdown",
   "id": "6a9490a9-7dce-451b-81ff-0ae267584ee3",
   "metadata": {},
   "source": [
    "# Fit gaussien sur le point sélectionné"
   ]
  },
  {
   "cell_type": "code",
   "execution_count": 37,
   "id": "5fc5b874-d129-40a2-985c-03a724b3cb95",
   "metadata": {
    "execution": {
     "iopub.execute_input": "2024-11-27T00:34:16.245037Z",
     "iopub.status.busy": "2024-11-27T00:34:16.244816Z",
     "iopub.status.idle": "2024-11-27T00:34:16.248322Z",
     "shell.execute_reply": "2024-11-27T00:34:16.247669Z",
     "shell.execute_reply.started": "2024-11-27T00:34:16.245020Z"
    }
   },
   "outputs": [],
   "source": [
    "def prepare_data(x, y, z):\n",
    "    return (x.flatten(), y.flatten()), z.flatten()"
   ]
  },
  {
   "cell_type": "code",
   "execution_count": 38,
   "id": "1fb18b6a-7295-4ea7-b0fb-84f5a41fbdbb",
   "metadata": {
    "execution": {
     "iopub.execute_input": "2024-11-27T00:34:16.249457Z",
     "iopub.status.busy": "2024-11-27T00:34:16.248979Z",
     "iopub.status.idle": "2024-11-27T00:34:16.280319Z",
     "shell.execute_reply": "2024-11-27T00:34:16.279600Z",
     "shell.execute_reply.started": "2024-11-27T00:34:16.249435Z"
    }
   },
   "outputs": [],
   "source": [
    "def gaussian_2d(xy, amplitude, x0, y0, sigma_x, sigma_y, offset):\n",
    "    x, y = xy\n",
    "    a = 1 / (2 * sigma_x**2)\n",
    "    b = 1 / (2 * sigma_y**2)\n",
    "    return offset + amplitude * np.exp(- (a * (x - x0)**2 + b * (y - y0)**2))"
   ]
  },
  {
   "cell_type": "code",
   "execution_count": 39,
   "id": "b2f948a1-d8e5-4fa8-acfe-ac569383012d",
   "metadata": {
    "execution": {
     "iopub.execute_input": "2024-11-27T00:34:16.281928Z",
     "iopub.status.busy": "2024-11-27T00:34:16.281279Z",
     "iopub.status.idle": "2024-11-27T00:34:16.286665Z",
     "shell.execute_reply": "2024-11-27T00:34:16.286066Z",
     "shell.execute_reply.started": "2024-11-27T00:34:16.281903Z"
    }
   },
   "outputs": [],
   "source": [
    "def localisateur_gaussien(intensity_grid, centre):\n",
    "    x = np.arange(intensity_grid.shape[1])\n",
    "    y = np.arange(intensity_grid.shape[0])\n",
    "    X, Y = np.meshgrid(x, y)\n",
    "\n",
    "    # Préparer les données pour le fit\n",
    "    (xdata, ydata), zdata = prepare_data(X, Y, intensity_grid)\n",
    "    model = lmfit.Model(gaussian_2d)\n",
    "    max_idx = np.unravel_index(np.argmax(intensity_grid), intensity_grid.shape)\n",
    "    initial_x0 = x[max_idx[1]]\n",
    "    initial_y0 = y[max_idx[0]]\n",
    "\n",
    "    # Définir les paramètres du modèle\n",
    "    params = model.make_params(\n",
    "        amplitude=np.max(intensity_grid),\n",
    "        x0=initial_x0,\n",
    "        y0=initial_y0,\n",
    "        sigma_x=1,\n",
    "        sigma_y=1,\n",
    "        offset=2\n",
    "    )\n",
    "\n",
    "    # Ajouter des bornes sur les paramètres x0 et y0\n",
    "    params['x0'].min = 0    # Limite inférieure pour x0\n",
    "    params['x0'].max = intensity_grid.shape[1] - 1  # Limite supérieure pour x0\n",
    "    params['y0'].min = 0    # Limite inférieure pour y0\n",
    "    params['y0'].max = intensity_grid.shape[0] - 1  # Limite supérieure pour y0\n",
    "\n",
    "    # Ajouter des bornes sur les paramètres sigma\n",
    "    params['sigma_x'].min = 1  # Limite inférieure de sigma_x\n",
    "    params['sigma_x'].max = 20 # Limite supérieure de sigma_x\n",
    "    params['sigma_y'].min = 1  # Limite inférieure de sigma_y\n",
    "    params['sigma_y'].max = 20 # Limite supérieure de sigma_y\n",
    "\n",
    "    # Effectuer l'ajustement\n",
    "    result = model.fit(zdata, params, xy=(xdata, ydata))\n",
    "    \n",
    "    x_position = result.params['x0'].value + centre[0] - crop_sze_x/2\n",
    "    y_position = result.params['y0'].value + centre[1] - crop_sze_y/2\n",
    "\n",
    "    return [x_position, y_position], result.params['sigma_x'].value, result.params['sigma_y'].value"
   ]
  },
  {
   "cell_type": "markdown",
   "id": "647422c5-d9bb-4e71-9481-76349ea02eca",
   "metadata": {},
   "source": [
    "# Process d'image (enlever le bruit)\n",
    "\n",
    "**semble faire du trouble**"
   ]
  },
  {
   "cell_type": "code",
   "execution_count": 40,
   "id": "c3df48fe-ec70-413c-8172-84f9754a0bcf",
   "metadata": {
    "execution": {
     "iopub.execute_input": "2024-11-27T00:34:16.287655Z",
     "iopub.status.busy": "2024-11-27T00:34:16.287395Z",
     "iopub.status.idle": "2024-11-27T00:34:16.291801Z",
     "shell.execute_reply": "2024-11-27T00:34:16.291266Z",
     "shell.execute_reply.started": "2024-11-27T00:34:16.287612Z"
    }
   },
   "outputs": [],
   "source": [
    "def denoise(image):\n",
    "    clahe = cv2.createCLAHE(clipLimit=10.0, tileGridSize=(30, 30))\n",
    "    preprocessed = clahe.apply(image)\n",
    "    \n",
    "    blurred = cv2.medianBlur(preprocessed, 115)\n",
    "    preprocessed2 = cv2.subtract(preprocessed, blurred)\n",
    "    \n",
    "    return cv2.fastNlMeansDenoising(preprocessed2, None, 15, 7, 41)"
   ]
  },
  {
   "cell_type": "markdown",
   "id": "10149e95",
   "metadata": {},
   "source": [
    "# Identifier la particule et donner sa nouvelle position"
   ]
  },
  {
   "cell_type": "code",
   "execution_count": null,
   "id": "4e08893b",
   "metadata": {},
   "outputs": [],
   "source": [
    "def is_within_bounds(position):\n",
    "    \"\"\"\n",
    "    Vérifie si la position est à l'intérieur des limites du cadre (100 à 1300 en x et 100 à 980 en y).\n",
    "    \"\"\"\n",
    "    x, y = position\n",
    "\n",
    "    # Définir les bornes du cadre\n",
    "    x_min, x_max = 100, 1300\n",
    "    y_min, y_max = 100, 980\n",
    "\n",
    "    # Vérifier si la position est dans les bornes du cadre\n",
    "    if x_min <= x <= x_max and y_min <= y <= y_max:\n",
    "        return True\n",
    "    else:\n",
    "        return False\n"
   ]
  },
  {
   "cell_type": "code",
   "execution_count": 41,
   "id": "11c4d94f",
   "metadata": {},
   "outputs": [],
   "source": [
    "def empreinte_digitale(image, threshold=12, eps=3, min_samples=1):\n",
    "    # 1. Observer chaque particule approximativement\n",
    "    #neighborhood_size = 3  \n",
    "    #local_max = ndimage.maximum_filter(image, size=neighborhood_size)\n",
    "    visionneur(image, f'particule choisie')\n",
    "\n",
    "    maxima = (image > threshold)\n",
    "    \n",
    "    coordinates = np.column_stack(np.where(maxima))  \n",
    "    if coordinates.shape[0] == 0:\n",
    "        print(\"Aucune particule détectée.\")\n",
    "        return [], image\n",
    "\n",
    "    dbscan = DBSCAN(eps=eps, min_samples=min_samples)\n",
    "    labels = dbscan.fit_predict(coordinates)\n",
    "    unique_labels = np.unique(labels)\n",
    "    size=0\n",
    "\n",
    "    # 2. Déterminer l'empreinte digitale de notre particule\n",
    "    for label in unique_labels:\n",
    "        if label != -1:  # -1 correspond au bruit dans DBSCAN\n",
    "            cluster_points = coordinates[labels == label]\n",
    "            plt.scatter(cluster_points[:, 1], cluster_points[:, 0], label=f'Particule {label}')\n",
    "\n",
    "            if cluster_points.shape[0]>size:\n",
    "                size = cluster_points.shape[0]\n",
    "                luminosity = np.mean(image[cluster_points[:, 0], cluster_points[:, 1]])\n",
    "\n",
    "    seuil=np.max(image)*0.5\n",
    "    print(seuil)\n",
    "    # 3. Afficher les résultats et filtrer les particules selon leur taille et luminosité\n",
    "    plt.imshow(image, origin='lower', cmap='gray')\n",
    "    plt.title(f\"Empreinte digitale de la particule, lum={luminosity} et taille={size}\")\n",
    "    plt.legend()\n",
    "    plt.colorbar()  \n",
    "    plt.show()\n",
    "\n",
    "    return size, luminosity, seuil"
   ]
  },
  {
   "cell_type": "code",
   "execution_count": 42,
   "id": "f690236d",
   "metadata": {},
   "outputs": [],
   "source": [
    "def detect_nbre_particles(image, threshold, eps=5, min_samples=1):\n",
    "    # 1. Appliquer un filtre de voisinage pour détecter les maxima locaux\n",
    "    neighborhood_size = 3  # Taille du voisinage pour détecter les maxima locaux\n",
    "    local_max = ndimage.maximum_filter(image, size=neighborhood_size)\n",
    "    # 2. Comparer l'image originale et les maxima locaux pour identifier les vrais maxima\n",
    "    maxima = (image == local_max) & (image > threshold)\n",
    "\n",
    "    # 3. Extraire les coordonnées des maxima (particules)\n",
    "    coordinates = np.column_stack(np.where(maxima))  # Extraire les indices des pixels maximaux\n",
    "    if coordinates.shape[0] == 0:\n",
    "        print(\"Aucune particule détectée.\")\n",
    "        visionneur(image, f'détection du nombre de particules')\n",
    "\n",
    "        return [], image\n",
    "\n",
    "    # 4. Appliquer DBSCAN pour regrouper les particules proches (cluster les maxima détectés)\n",
    "    dbscan = DBSCAN(eps=eps, min_samples=min_samples)\n",
    "    labels = dbscan.fit_predict(coordinates)\n",
    "\n",
    "    #5. Déterminer le nombre de particules\n",
    "    unique_labels = np.unique(labels)\n",
    "    nb_particules = len(unique_labels)\n",
    "        \n",
    "    # 6. Afficher les résultats et filtrer les particules selon leur taille et luminosité\n",
    "    # plt.imshow(image, origin='lower', cmap='gray')\n",
    "    # plt.title(\"Détection des particules\")\n",
    "    \n",
    "    positions=[]\n",
    "    for label in unique_labels:\n",
    "        if label != -1:  # -1 correspond au bruit dans DBSCAN\n",
    "            cluster_points = coordinates[labels == label]\n",
    "            plt.scatter(cluster_points[:, 1], cluster_points[:, 0], label=f'Particule {label}')\n",
    "        positions.append((np.mean(cluster_points[:, 1]), np.mean(cluster_points[:, 0])))\n",
    "        \n",
    "\n",
    "    # plt.colorbar()  \n",
    "    # plt.legend()\n",
    "    # plt.show()\n",
    "\n",
    "    # Retourner les coordonnées des particules filtrées\n",
    "    return nb_particules, positions"
   ]
  },
  {
   "cell_type": "code",
   "execution_count": 43,
   "id": "ddfe6898",
   "metadata": {},
   "outputs": [],
   "source": [
    "def identificateur_particles(image, ref_size, ref_luminosity, threshold=25, eps=5, min_samples=1):\n",
    "    # 1. Obtenir le plus d'info sur la particule\n",
    "    maxima = (image > threshold)\n",
    "    \n",
    "    coordinates = np.column_stack(np.where(maxima))  \n",
    "    if coordinates.shape[0] == 0:\n",
    "        print(\"Mauvais re-crop empêche identification de la particule.\")\n",
    "        return [], image\n",
    "\n",
    "    dbscan = DBSCAN(eps=eps, min_samples=min_samples)\n",
    "    labels = dbscan.fit_predict(coordinates)\n",
    "    unique_labels = np.unique(labels)\n",
    "\n",
    "    # 2. Parcourir chaque particule et identifier laquelle est celle qu'on suit\n",
    "    distances = []\n",
    "    position_particules = []\n",
    "\n",
    "    for label in unique_labels:\n",
    "        if label != -1:  # -1 correspond au bruit dans DBSCAN\n",
    "            cluster_points = coordinates[labels == label]\n",
    "            \n",
    "            size = cluster_points.shape[0]\n",
    "            luminosity = np.mean(image[cluster_points[:, 0], cluster_points[:, 1]])\n",
    "            size_distance = abs(size - ref_size)  \n",
    "            luminosity_distance = abs(luminosity - ref_luminosity)  \n",
    "            combined_distance = size_distance + luminosity_distance\n",
    "            distances.append(combined_distance)\n",
    "            position_particules.append((np.mean(cluster_points[:, 1]), np.mean(cluster_points[:, 0])))\n",
    "\n",
    "    ecart = np.min(distances)\n",
    "    position_best_particle = position_particules[np.argmin(distances)]  \n",
    "    print(f'ecrat: {ecart}')\n",
    "    # 3. Afficher les résultats et filtrer les particules selon leur taille et luminosité\n",
    "    # plt.imshow(image, origin='lower', cmap='gray')\n",
    "    # plt.title(\"Détection des particules\")\n",
    "    # plt.scatter(position_best_particle[0], position_best_particle[1], color='r', label=f'Particule sélectionnée')\n",
    "    # plt.legend()\n",
    "    # plt.colorbar()  \n",
    "    # plt.show()\n",
    "\n",
    "    return position_best_particle, ecart"
   ]
  },
  {
   "cell_type": "markdown",
   "id": "61f2661b-5185-493a-bd25-97d1c42d712c",
   "metadata": {},
   "source": [
    "# Faire le crop et fit"
   ]
  },
  {
   "cell_type": "code",
   "execution_count": 44,
   "id": "b695a082-5a85-499e-9183-cfd354b4dc5d",
   "metadata": {
    "execution": {
     "iopub.execute_input": "2024-11-27T00:34:16.297421Z",
     "iopub.status.busy": "2024-11-27T00:34:16.297176Z",
     "iopub.status.idle": "2024-11-27T00:34:16.301468Z",
     "shell.execute_reply": "2024-11-27T00:34:16.300888Z",
     "shell.execute_reply.started": "2024-11-27T00:34:16.297403Z"
    }
   },
   "outputs": [],
   "source": [
    "def particle_tracker_simple(image, x, y):\n",
    "    image = denoise(image)\n",
    "\n",
    "    cropped_img = crop(image, x, y, crop_sze_x, crop_sze_y)\n",
    "    \n",
    "    #Gérer plus qu'une particule\n",
    "    cropped_img = np.array(cropped_img)\n",
    "    max_index = np.argmax(cropped_img)\n",
    "    max_coords = np.unravel_index(max_index, cropped_img.shape)\n",
    "\n",
    "    nouveau_x = x - crop_sze_x // 2 + max_coords[1]\n",
    "    nouveau_y = y - crop_sze_y // 2 + max_coords[0]\n",
    "    \n",
    "    second_crop = crop(image, nouveau_x, nouveau_y, crop_sze_x, crop_sze_y)    # Re-crop autour d'une seule particule\n",
    "\n",
    "    result_fit = localisateur_gaussien(second_crop, [nouveau_x, nouveau_y])\n",
    "\n",
    "    x_new, y_new = result_fit[0][0], result_fit[0][1]\n",
    "\n",
    "    return [result_fit, cropped_img, (x_new, y_new), (result_fit[1], result_fit[2])]"
   ]
  },
  {
   "cell_type": "code",
   "execution_count": 45,
   "id": "5625e5b2",
   "metadata": {},
   "outputs": [],
   "source": [
    "#Placés ici pour pouvoir y faire référence dans particule_tracker\n",
    "position_list=[[x,y]]\n",
    "sigma_list = []\n",
    "crop_frames = []\n",
    "big_frames = []"
   ]
  },
  {
   "cell_type": "code",
   "execution_count": 46,
   "id": "0d8ff164",
   "metadata": {},
   "outputs": [],
   "source": [
    "def particle_tracker(imge, x, y, taille_initiale, luminosité_initiale, seuil):\n",
    "    # 1. Ce qu'on voit près de l'ancienne position\n",
    "    image = denoise(imge)\n",
    "\n",
    "    cropped_img = crop(image, x, y, crop_sze_x, crop_sze_y)\n",
    "    \n",
    "    # 2. Déterminer combien il y a de particules et laquelle est la notre\n",
    "    # Utiliser une reconnaissance de particules et si plus qu'une, alors clic pour choisir\n",
    "    nb_part, coordonnées = detect_nbre_particles(cropped_img, seuil)\n",
    "    #print(f'coordonnées des {nb_part} particules:{coordonnées}')\n",
    "\n",
    "    if (nb_part == 0) or (nb_part == []):\n",
    "        # Display the image and let the user select a point interactively\n",
    "        fig, ax = plt.subplots()\n",
    "        ax.imshow(denoise(img), origin='lower', cmap='gray') \n",
    "        plt.title(f\"Frame {len(position_list)-1}: Select a point\")\n",
    "\n",
    "        # Ajouter une croix rouge à la position donnée\n",
    "        cx, cy = position_list[len(position_list)-1]\n",
    "        ax.plot(cx, cy, 'rx', markersize=10) \n",
    "        \n",
    "        # Afficher l'image et demander à l'utilisateur de cliquer\n",
    "        print(\"Please click on the point you want to select.\")\n",
    "        nouveau_x, nouveau_y = plt.ginput(1)[0]  # Attente du clic de l'utilisateur (1 point)\n",
    "        print(f\"Selected point: ({nouveau_x}, {nouveau_y})\")\n",
    "        \n",
    "        # Fermer l'affichage après sélection\n",
    "        plt.close()\n",
    "    elif nb_part > 1:\n",
    "        imperfections, emplacements = [] , []\n",
    "        for num_particule in range(nb_part):\n",
    "            x_identifier=x - crop_sze_x // 2 + coordonnées[num_particule][0]\n",
    "            y_identifier=y - crop_sze_y // 2 + coordonnées[num_particule][1]\n",
    "            crop_pour_identifier = crop(image, x_identifier, y_identifier, crop_sze_x//2, crop_sze_y//2)\n",
    "            emplacement, ecart = identificateur_particles(crop_pour_identifier, taille_initiale, luminosité_initiale, seuil)\n",
    "            imperfections.append(ecart)\n",
    "            emplacements.append(emplacement)\n",
    "        qualité = np.min(imperfections)\n",
    "        print(f'écart:{qualité}')\n",
    "        max_coords = emplacements[np.argmin(imperfections)]  \n",
    "        nouveau_x = x_identifier - crop_sze_x // 4 + max_coords[0]\n",
    "        nouveau_y = y_identifier - crop_sze_y // 4 + max_coords[1]\n",
    "    else:\n",
    "        cropped_img = np.array(cropped_img)\n",
    "        max_index = np.argmax(cropped_img)\n",
    "        max_coords = np.unravel_index(max_index, cropped_img.shape)\n",
    "\n",
    "        nouveau_x = x - crop_sze_x // 2 + max_coords[1] #Oui c'est inversé à cause du unravel juste avant\n",
    "        nouveau_y = y - crop_sze_y // 2 + max_coords[0]\n",
    "\n",
    "    # Vérification s'il fout le camp \n",
    "    if np.sqrt((position_list[-1][0]-nouveau_x)**2+(position_list[-1][1]-nouveau_y)**2)>50:\n",
    "        # Display the image and let the user select a point interactively\n",
    "        fig, ax = plt.subplots()\n",
    "        ax.imshow(denoise(img), origin='lower', cmap='gray') \n",
    "        plt.title(f\"Frame {len(position_list)-1}: Problème d'identification, select a point\")\n",
    "\n",
    "        print('problème d''identification')\n",
    "        # Ajouter une croix rouge à la position donnée\n",
    "        cx, cy = position_list[-1]\n",
    "        ax.plot(cx, cy, 'rx', markersize=10, label=f'Position estimée') \n",
    "        plt.legend()\n",
    "        # Afficher l'image et demander à l'utilisateur de cliquer\n",
    "        print(\"Please click on the point you want to select.\")\n",
    "        nouveau_x, nouveau_y = plt.ginput(1)[0]  # Attente du clic de l'utilisateur (1 point)\n",
    "        print(f\"Selected point: ({nouveau_x}, {nouveau_y})\")\n",
    "        \n",
    "        # Fermer l'affichage après sélection\n",
    "        plt.close()\n",
    "\n",
    "    # 3. Crop atour de notre particule et fit dessus\n",
    "    second_crop = crop(image, nouveau_x, nouveau_y, crop_sze_x//2, crop_sze_y//2)    # Re-crop autour d'une seule particule\n",
    "\n",
    "\n",
    "    result_fit = localisateur_gaussien(second_crop, [nouveau_x, nouveau_y])\n",
    "\n",
    "    x_new, y_new = result_fit[0][0], result_fit[0][1]\n",
    "\n",
    "    #Affiche l'accord entre le fit gaussien et le blob (pour comparer)\n",
    "    # x_range = np.arange(crop_sze_x) - crop_sze_x//2 \n",
    "    # y_range = np.arange(crop_sze_y) - crop_sze_y//2\n",
    "    # x_position = x_range + x_new  \n",
    "    # y_position = y_range + y_new \n",
    "    # plt.imshow(second_crop, origin='lower', cmap='gray', extent=[x_position.min(), x_position.max(), y_position.min(), y_position.max()])\n",
    "    # plt.title(\"positionnement de la particule\")\n",
    "    # plt.scatter(x_new, y_new, color='r', label=f'Position estimée par fit gaussien')\n",
    "    # plt.scatter(nouveau_x-12.5, nouveau_y-12.5, color='r', marker='+', label=f'Position meilleure particule')\n",
    "    # plt.legend()\n",
    "    # plt.colorbar()  \n",
    "    # plt.show()\n",
    "\n",
    "    return [result_fit, second_crop, (x_new, y_new), (result_fit[1], result_fit[2])]"
   ]
  },
  {
   "cell_type": "markdown",
   "id": "8002acc8-bac7-4c69-846a-381ee31f08ff",
   "metadata": {},
   "source": [
    "# Main loop"
   ]
  },
  {
   "cell_type": "code",
   "execution_count": null,
   "id": "e7a5dba4-849a-4171-8fbb-6d05453ed795",
   "metadata": {
    "execution": {
     "iopub.execute_input": "2024-11-27T00:34:16.302483Z",
     "iopub.status.busy": "2024-11-27T00:34:16.302259Z",
     "iopub.status.idle": "2024-11-27T00:35:56.804477Z",
     "shell.execute_reply": "2024-11-27T00:35:56.803536Z",
     "shell.execute_reply.started": "2024-11-27T00:34:16.302464Z"
    }
   },
   "outputs": [
    {
     "name": "stdout",
     "output_type": "stream",
     "text": [
      "25.0\n",
      "position initiale: [[489.3027163676021, 954.7116585704371]]\n",
      "liste des positions frame 1:[[489.3027163676021, 954.7116585704371], (477.5488489796354, 941.6662539267068)]\n",
      "liste des positions frame 2:[[489.3027163676021, 954.7116585704371], (477.5488489796354, 941.6662539267068), (477.81450601179085, 942.2997181437652)]\n",
      "liste des positions frame 3:[[489.3027163676021, 954.7116585704371], (477.5488489796354, 941.6662539267068), (477.81450601179085, 942.2997181437652), (478.28436608359624, 947.1860182222795)]\n",
      "liste des positions frame 4:[[489.3027163676021, 954.7116585704371], (477.5488489796354, 941.6662539267068), (477.81450601179085, 942.2997181437652), (478.28436608359624, 947.1860182222795), (481.6696853656077, 953.972354354947)]\n",
      "liste des positions frame 5:[[489.3027163676021, 954.7116585704371], (477.5488489796354, 941.6662539267068), (477.81450601179085, 942.2997181437652), (478.28436608359624, 947.1860182222795), (481.6696853656077, 953.972354354947), (490.97819008774434, 955.4555612110119)]\n",
      "liste des positions frame 6:[[489.3027163676021, 954.7116585704371], (477.5488489796354, 941.6662539267068), (477.81450601179085, 942.2997181437652), (478.28436608359624, 947.1860182222795), (481.6696853656077, 953.972354354947), (490.97819008774434, 955.4555612110119), (490.64851164169374, 957.9493905084935)]\n",
      "liste des positions frame 7:[[489.3027163676021, 954.7116585704371], (477.5488489796354, 941.6662539267068), (477.81450601179085, 942.2997181437652), (478.28436608359624, 947.1860182222795), (481.6696853656077, 953.972354354947), (490.97819008774434, 955.4555612110119), (490.64851164169374, 957.9493905084935), (490.7733945308728, 965.188534628132)]\n",
      "liste des positions frame 8:[[489.3027163676021, 954.7116585704371], (477.5488489796354, 941.6662539267068), (477.81450601179085, 942.2997181437652), (478.28436608359624, 947.1860182222795), (481.6696853656077, 953.972354354947), (490.97819008774434, 955.4555612110119), (490.64851164169374, 957.9493905084935), (490.7733945308728, 965.188534628132), (493.40739737506624, 959.880154647234)]\n",
      "liste des positions frame 9:[[489.3027163676021, 954.7116585704371], (477.5488489796354, 941.6662539267068), (477.81450601179085, 942.2997181437652), (478.28436608359624, 947.1860182222795), (481.6696853656077, 953.972354354947), (490.97819008774434, 955.4555612110119), (490.64851164169374, 957.9493905084935), (490.7733945308728, 965.188534628132), (493.40739737506624, 959.880154647234), (491.1392159914303, 959.5231998986732)]\n",
      "liste des positions frame 10:[[489.3027163676021, 954.7116585704371], (477.5488489796354, 941.6662539267068), (477.81450601179085, 942.2997181437652), (478.28436608359624, 947.1860182222795), (481.6696853656077, 953.972354354947), (490.97819008774434, 955.4555612110119), (490.64851164169374, 957.9493905084935), (490.7733945308728, 965.188534628132), (493.40739737506624, 959.880154647234), (491.1392159914303, 959.5231998986732), (493.23530923892656, 965.4687417362859)]\n",
      "liste des positions frame 11:[[489.3027163676021, 954.7116585704371], (477.5488489796354, 941.6662539267068), (477.81450601179085, 942.2997181437652), (478.28436608359624, 947.1860182222795), (481.6696853656077, 953.972354354947), (490.97819008774434, 955.4555612110119), (490.64851164169374, 957.9493905084935), (490.7733945308728, 965.188534628132), (493.40739737506624, 959.880154647234), (491.1392159914303, 959.5231998986732), (493.23530923892656, 965.4687417362859), (486.4010596287751, 963.3331328172565)]\n",
      "liste des positions frame 12:[[489.3027163676021, 954.7116585704371], (477.5488489796354, 941.6662539267068), (477.81450601179085, 942.2997181437652), (478.28436608359624, 947.1860182222795), (481.6696853656077, 953.972354354947), (490.97819008774434, 955.4555612110119), (490.64851164169374, 957.9493905084935), (490.7733945308728, 965.188534628132), (493.40739737506624, 959.880154647234), (491.1392159914303, 959.5231998986732), (493.23530923892656, 965.4687417362859), (486.4010596287751, 963.3331328172565), (487.503623268095, 953.5063829017386)]\n",
      "liste des positions frame 13:[[489.3027163676021, 954.7116585704371], (477.5488489796354, 941.6662539267068), (477.81450601179085, 942.2997181437652), (478.28436608359624, 947.1860182222795), (481.6696853656077, 953.972354354947), (490.97819008774434, 955.4555612110119), (490.64851164169374, 957.9493905084935), (490.7733945308728, 965.188534628132), (493.40739737506624, 959.880154647234), (491.1392159914303, 959.5231998986732), (493.23530923892656, 965.4687417362859), (486.4010596287751, 963.3331328172565), (487.503623268095, 953.5063829017386), (482.6759840856909, 960.0394284607518)]\n",
      "liste des positions frame 14:[[489.3027163676021, 954.7116585704371], (477.5488489796354, 941.6662539267068), (477.81450601179085, 942.2997181437652), (478.28436608359624, 947.1860182222795), (481.6696853656077, 953.972354354947), (490.97819008774434, 955.4555612110119), (490.64851164169374, 957.9493905084935), (490.7733945308728, 965.188534628132), (493.40739737506624, 959.880154647234), (491.1392159914303, 959.5231998986732), (493.23530923892656, 965.4687417362859), (486.4010596287751, 963.3331328172565), (487.503623268095, 953.5063829017386), (482.6759840856909, 960.0394284607518), (483.3365511259079, 961.1477804562006)]\n",
      "liste des positions frame 15:[[489.3027163676021, 954.7116585704371], (477.5488489796354, 941.6662539267068), (477.81450601179085, 942.2997181437652), (478.28436608359624, 947.1860182222795), (481.6696853656077, 953.972354354947), (490.97819008774434, 955.4555612110119), (490.64851164169374, 957.9493905084935), (490.7733945308728, 965.188534628132), (493.40739737506624, 959.880154647234), (491.1392159914303, 959.5231998986732), (493.23530923892656, 965.4687417362859), (486.4010596287751, 963.3331328172565), (487.503623268095, 953.5063829017386), (482.6759840856909, 960.0394284607518), (483.3365511259079, 961.1477804562006), (481.12129752121575, 957.1299285244412)]\n",
      "liste des positions frame 16:[[489.3027163676021, 954.7116585704371], (477.5488489796354, 941.6662539267068), (477.81450601179085, 942.2997181437652), (478.28436608359624, 947.1860182222795), (481.6696853656077, 953.972354354947), (490.97819008774434, 955.4555612110119), (490.64851164169374, 957.9493905084935), (490.7733945308728, 965.188534628132), (493.40739737506624, 959.880154647234), (491.1392159914303, 959.5231998986732), (493.23530923892656, 965.4687417362859), (486.4010596287751, 963.3331328172565), (487.503623268095, 953.5063829017386), (482.6759840856909, 960.0394284607518), (483.3365511259079, 961.1477804562006), (481.12129752121575, 957.1299285244412), (484.7643260281535, 955.4572020688153)]\n",
      "liste des positions frame 17:[[489.3027163676021, 954.7116585704371], (477.5488489796354, 941.6662539267068), (477.81450601179085, 942.2997181437652), (478.28436608359624, 947.1860182222795), (481.6696853656077, 953.972354354947), (490.97819008774434, 955.4555612110119), (490.64851164169374, 957.9493905084935), (490.7733945308728, 965.188534628132), (493.40739737506624, 959.880154647234), (491.1392159914303, 959.5231998986732), (493.23530923892656, 965.4687417362859), (486.4010596287751, 963.3331328172565), (487.503623268095, 953.5063829017386), (482.6759840856909, 960.0394284607518), (483.3365511259079, 961.1477804562006), (481.12129752121575, 957.1299285244412), (484.7643260281535, 955.4572020688153), (490.1386299544024, 957.8880035364499)]\n",
      "ecrat: 140.70667550839966\n",
      "ecrat: 54.44042415412012\n",
      "écart:54.44042415412012\n",
      "liste des positions frame 18:[[489.3027163676021, 954.7116585704371], (477.5488489796354, 941.6662539267068), (477.81450601179085, 942.2997181437652), (478.28436608359624, 947.1860182222795), (481.6696853656077, 953.972354354947), (490.97819008774434, 955.4555612110119), (490.64851164169374, 957.9493905084935), (490.7733945308728, 965.188534628132), (493.40739737506624, 959.880154647234), (491.1392159914303, 959.5231998986732), (493.23530923892656, 965.4687417362859), (486.4010596287751, 963.3331328172565), (487.503623268095, 953.5063829017386), (482.6759840856909, 960.0394284607518), (483.3365511259079, 961.1477804562006), (481.12129752121575, 957.1299285244412), (484.7643260281535, 955.4572020688153), (490.1386299544024, 957.8880035364499), (509.2145087891332, 966.0314846035378)]\n",
      "ecrat: 160.56436781609196\n",
      "ecrat: 117.25787430959845\n",
      "ecrat: 119.59103448275863\n",
      "écart:117.25787430959845\n",
      "liste des positions frame 19:[[489.3027163676021, 954.7116585704371], (477.5488489796354, 941.6662539267068), (477.81450601179085, 942.2997181437652), (478.28436608359624, 947.1860182222795), (481.6696853656077, 953.972354354947), (490.97819008774434, 955.4555612110119), (490.64851164169374, 957.9493905084935), (490.7733945308728, 965.188534628132), (493.40739737506624, 959.880154647234), (491.1392159914303, 959.5231998986732), (493.23530923892656, 965.4687417362859), (486.4010596287751, 963.3331328172565), (487.503623268095, 953.5063829017386), (482.6759840856909, 960.0394284607518), (483.3365511259079, 961.1477804562006), (481.12129752121575, 957.1299285244412), (484.7643260281535, 955.4572020688153), (490.1386299544024, 957.8880035364499), (509.2145087891332, 966.0314846035378), (503.5942122855869, 965.675264732725)]\n",
      "ecrat: 152.7088122605364\n",
      "ecrat: 117.70026525198939\n",
      "ecrat: 113.480417198808\n",
      "écart:113.480417198808\n",
      "liste des positions frame 20:[[489.3027163676021, 954.7116585704371], (477.5488489796354, 941.6662539267068), (477.81450601179085, 942.2997181437652), (478.28436608359624, 947.1860182222795), (481.6696853656077, 953.972354354947), (490.97819008774434, 955.4555612110119), (490.64851164169374, 957.9493905084935), (490.7733945308728, 965.188534628132), (493.40739737506624, 959.880154647234), (491.1392159914303, 959.5231998986732), (493.23530923892656, 965.4687417362859), (486.4010596287751, 963.3331328172565), (487.503623268095, 953.5063829017386), (482.6759840856909, 960.0394284607518), (483.3365511259079, 961.1477804562006), (481.12129752121575, 957.1299285244412), (484.7643260281535, 955.4572020688153), (490.1386299544024, 957.8880035364499), (509.2145087891332, 966.0314846035378), (503.5942122855869, 965.675264732725), (501.2699963978017, 981.0283675800367)]\n",
      "ecrat: 148.28709508881923\n",
      "ecrat: 136.64367816091954\n",
      "ecrat: 113.32389162561577\n",
      "écart:113.32389162561577\n",
      "liste des positions frame 21:[[489.3027163676021, 954.7116585704371], (477.5488489796354, 941.6662539267068), (477.81450601179085, 942.2997181437652), (478.28436608359624, 947.1860182222795), (481.6696853656077, 953.972354354947), (490.97819008774434, 955.4555612110119), (490.64851164169374, 957.9493905084935), (490.7733945308728, 965.188534628132), (493.40739737506624, 959.880154647234), (491.1392159914303, 959.5231998986732), (493.23530923892656, 965.4687417362859), (486.4010596287751, 963.3331328172565), (487.503623268095, 953.5063829017386), (482.6759840856909, 960.0394284607518), (483.3365511259079, 961.1477804562006), (481.12129752121575, 957.1299285244412), (484.7643260281535, 955.4572020688153), (490.1386299544024, 957.8880035364499), (509.2145087891332, 966.0314846035378), (503.5942122855869, 965.675264732725), (501.2699963978017, 981.0283675800367), (503.83730419961944, 980.2496308714224)]\n",
      "ecrat: 138.6215106732348\n",
      "ecrat: 115.66310199330715\n",
      "ecrat: 115.81436781609196\n",
      "écart:115.66310199330715\n",
      "liste des positions frame 22:[[489.3027163676021, 954.7116585704371], (477.5488489796354, 941.6662539267068), (477.81450601179085, 942.2997181437652), (478.28436608359624, 947.1860182222795), (481.6696853656077, 953.972354354947), (490.97819008774434, 955.4555612110119), (490.64851164169374, 957.9493905084935), (490.7733945308728, 965.188534628132), (493.40739737506624, 959.880154647234), (491.1392159914303, 959.5231998986732), (493.23530923892656, 965.4687417362859), (486.4010596287751, 963.3331328172565), (487.503623268095, 953.5063829017386), (482.6759840856909, 960.0394284607518), (483.3365511259079, 961.1477804562006), (481.12129752121575, 957.1299285244412), (484.7643260281535, 955.4572020688153), (490.1386299544024, 957.8880035364499), (509.2145087891332, 966.0314846035378), (503.5942122855869, 965.675264732725), (501.2699963978017, 981.0283675800367), (503.83730419961944, 980.2496308714224), (505.9591812134952, 982.6543671212276)]\n",
      "ecrat: 161.34129089301504\n",
      "ecrat: 141.4310344827586\n",
      "ecrat: 128.9583976668382\n",
      "écart:128.9583976668382\n",
      "liste des positions frame 23:[[489.3027163676021, 954.7116585704371], (477.5488489796354, 941.6662539267068), (477.81450601179085, 942.2997181437652), (478.28436608359624, 947.1860182222795), (481.6696853656077, 953.972354354947), (490.97819008774434, 955.4555612110119), (490.64851164169374, 957.9493905084935), (490.7733945308728, 965.188534628132), (493.40739737506624, 959.880154647234), (491.1392159914303, 959.5231998986732), (493.23530923892656, 965.4687417362859), (486.4010596287751, 963.3331328172565), (487.503623268095, 953.5063829017386), (482.6759840856909, 960.0394284607518), (483.3365511259079, 961.1477804562006), (481.12129752121575, 957.1299285244412), (484.7643260281535, 955.4572020688153), (490.1386299544024, 957.8880035364499), (509.2145087891332, 966.0314846035378), (503.5942122855869, 965.675264732725), (501.2699963978017, 981.0283675800367), (503.83730419961944, 980.2496308714224), (505.9591812134952, 982.6543671212276), (504.88438136636796, 987.8165137652703)]\n",
      "ecrat: 145.36436781609194\n",
      "ecrat: 110.59966193373901\n",
      "ecrat: 108.16666666666666\n",
      "écart:108.16666666666666\n",
      "liste des positions frame 24:[[489.3027163676021, 954.7116585704371], (477.5488489796354, 941.6662539267068), (477.81450601179085, 942.2997181437652), (478.28436608359624, 947.1860182222795), (481.6696853656077, 953.972354354947), (490.97819008774434, 955.4555612110119), (490.64851164169374, 957.9493905084935), (490.7733945308728, 965.188534628132), (493.40739737506624, 959.880154647234), (491.1392159914303, 959.5231998986732), (493.23530923892656, 965.4687417362859), (486.4010596287751, 963.3331328172565), (487.503623268095, 953.5063829017386), (482.6759840856909, 960.0394284607518), (483.3365511259079, 961.1477804562006), (481.12129752121575, 957.1299285244412), (484.7643260281535, 955.4572020688153), (490.1386299544024, 957.8880035364499), (509.2145087891332, 966.0314846035378), (503.5942122855869, 965.675264732725), (501.2699963978017, 981.0283675800367), (503.83730419961944, 980.2496308714224), (505.9591812134952, 982.6543671212276), (504.88438136636796, 987.8165137652703), (506.4665668468609, 985.4049575065326)]\n",
      "ecrat: 135.94770114942528\n",
      "ecrat: 131.022432332221\n",
      "ecrat: 106.02873563218391\n",
      "écart:106.02873563218391\n",
      "liste des positions frame 25:[[489.3027163676021, 954.7116585704371], (477.5488489796354, 941.6662539267068), (477.81450601179085, 942.2997181437652), (478.28436608359624, 947.1860182222795), (481.6696853656077, 953.972354354947), (490.97819008774434, 955.4555612110119), (490.64851164169374, 957.9493905084935), (490.7733945308728, 965.188534628132), (493.40739737506624, 959.880154647234), (491.1392159914303, 959.5231998986732), (493.23530923892656, 965.4687417362859), (486.4010596287751, 963.3331328172565), (487.503623268095, 953.5063829017386), (482.6759840856909, 960.0394284607518), (483.3365511259079, 961.1477804562006), (481.12129752121575, 957.1299285244412), (484.7643260281535, 955.4572020688153), (490.1386299544024, 957.8880035364499), (509.2145087891332, 966.0314846035378), (503.5942122855869, 965.675264732725), (501.2699963978017, 981.0283675800367), (503.83730419961944, 980.2496308714224), (505.9591812134952, 982.6543671212276), (504.88438136636796, 987.8165137652703), (506.4665668468609, 985.4049575065326), (504.34693349072336, 988.1487465289395)]\n",
      "ecrat: 133.522432332221\n",
      "ecrat: 131.07081942899518\n",
      "écart:131.07081942899518\n",
      "liste des positions frame 26:[[489.3027163676021, 954.7116585704371], (477.5488489796354, 941.6662539267068), (477.81450601179085, 942.2997181437652), (478.28436608359624, 947.1860182222795), (481.6696853656077, 953.972354354947), (490.97819008774434, 955.4555612110119), (490.64851164169374, 957.9493905084935), (490.7733945308728, 965.188534628132), (493.40739737506624, 959.880154647234), (491.1392159914303, 959.5231998986732), (493.23530923892656, 965.4687417362859), (486.4010596287751, 963.3331328172565), (487.503623268095, 953.5063829017386), (482.6759840856909, 960.0394284607518), (483.3365511259079, 961.1477804562006), (481.12129752121575, 957.1299285244412), (484.7643260281535, 955.4572020688153), (490.1386299544024, 957.8880035364499), (509.2145087891332, 966.0314846035378), (503.5942122855869, 965.675264732725), (501.2699963978017, 981.0283675800367), (503.83730419961944, 980.2496308714224), (505.9591812134952, 982.6543671212276), (504.88438136636796, 987.8165137652703), (506.4665668468609, 985.4049575065326), (504.34693349072336, 988.1487465289395), (506.6256908882833, 990.1658016786777)]\n",
      "frames vide:27\n",
      "liste des positions frame 27:[[489.3027163676021, 954.7116585704371], (477.5488489796354, 941.6662539267068), (477.81450601179085, 942.2997181437652), (478.28436608359624, 947.1860182222795), (481.6696853656077, 953.972354354947), (490.97819008774434, 955.4555612110119), (490.64851164169374, 957.9493905084935), (490.7733945308728, 965.188534628132), (493.40739737506624, 959.880154647234), (491.1392159914303, 959.5231998986732), (493.23530923892656, 965.4687417362859), (486.4010596287751, 963.3331328172565), (487.503623268095, 953.5063829017386), (482.6759840856909, 960.0394284607518), (483.3365511259079, 961.1477804562006), (481.12129752121575, 957.1299285244412), (484.7643260281535, 955.4572020688153), (490.1386299544024, 957.8880035364499), (509.2145087891332, 966.0314846035378), (503.5942122855869, 965.675264732725), (501.2699963978017, 981.0283675800367), (503.83730419961944, 980.2496308714224), (505.9591812134952, 982.6543671212276), (504.88438136636796, 987.8165137652703), (506.4665668468609, 985.4049575065326), (504.34693349072336, 988.1487465289395), (506.6256908882833, 990.1658016786777), array([nan, nan])]\n",
      "ecrat: 135.06945256185466\n",
      "ecrat: 124.80662133721871\n",
      "écart:124.80662133721871\n",
      "liste des positions frame 28:[[489.3027163676021, 954.7116585704371], (477.5488489796354, 941.6662539267068), (477.81450601179085, 942.2997181437652), (478.28436608359624, 947.1860182222795), (481.6696853656077, 953.972354354947), (490.97819008774434, 955.4555612110119), (490.64851164169374, 957.9493905084935), (490.7733945308728, 965.188534628132), (493.40739737506624, 959.880154647234), (491.1392159914303, 959.5231998986732), (493.23530923892656, 965.4687417362859), (486.4010596287751, 963.3331328172565), (487.503623268095, 953.5063829017386), (482.6759840856909, 960.0394284607518), (483.3365511259079, 961.1477804562006), (481.12129752121575, 957.1299285244412), (484.7643260281535, 955.4572020688153), (490.1386299544024, 957.8880035364499), (509.2145087891332, 966.0314846035378), (503.5942122855869, 965.675264732725), (501.2699963978017, 981.0283675800367), (503.83730419961944, 980.2496308714224), (505.9591812134952, 982.6543671212276), (504.88438136636796, 987.8165137652703), (506.4665668468609, 985.4049575065326), (504.34693349072336, 988.1487465289395), (506.6256908882833, 990.1658016786777), array([nan, nan]), (506.30640773498794, 996.8566513317171)]\n",
      "frames vide:29\n",
      "liste des positions frame 29:[[489.3027163676021, 954.7116585704371], (477.5488489796354, 941.6662539267068), (477.81450601179085, 942.2997181437652), (478.28436608359624, 947.1860182222795), (481.6696853656077, 953.972354354947), (490.97819008774434, 955.4555612110119), (490.64851164169374, 957.9493905084935), (490.7733945308728, 965.188534628132), (493.40739737506624, 959.880154647234), (491.1392159914303, 959.5231998986732), (493.23530923892656, 965.4687417362859), (486.4010596287751, 963.3331328172565), (487.503623268095, 953.5063829017386), (482.6759840856909, 960.0394284607518), (483.3365511259079, 961.1477804562006), (481.12129752121575, 957.1299285244412), (484.7643260281535, 955.4572020688153), (490.1386299544024, 957.8880035364499), (509.2145087891332, 966.0314846035378), (503.5942122855869, 965.675264732725), (501.2699963978017, 981.0283675800367), (503.83730419961944, 980.2496308714224), (505.9591812134952, 982.6543671212276), (504.88438136636796, 987.8165137652703), (506.4665668468609, 985.4049575065326), (504.34693349072336, 988.1487465289395), (506.6256908882833, 990.1658016786777), array([nan, nan]), (506.30640773498794, 996.8566513317171), array([nan, nan])]\n",
      "ecrat: 124.67741129435282\n",
      "ecrat: 128.85811781609195\n",
      "écart:124.67741129435282\n",
      "liste des positions frame 30:[[489.3027163676021, 954.7116585704371], (477.5488489796354, 941.6662539267068), (477.81450601179085, 942.2997181437652), (478.28436608359624, 947.1860182222795), (481.6696853656077, 953.972354354947), (490.97819008774434, 955.4555612110119), (490.64851164169374, 957.9493905084935), (490.7733945308728, 965.188534628132), (493.40739737506624, 959.880154647234), (491.1392159914303, 959.5231998986732), (493.23530923892656, 965.4687417362859), (486.4010596287751, 963.3331328172565), (487.503623268095, 953.5063829017386), (482.6759840856909, 960.0394284607518), (483.3365511259079, 961.1477804562006), (481.12129752121575, 957.1299285244412), (484.7643260281535, 955.4572020688153), (490.1386299544024, 957.8880035364499), (509.2145087891332, 966.0314846035378), (503.5942122855869, 965.675264732725), (501.2699963978017, 981.0283675800367), (503.83730419961944, 980.2496308714224), (505.9591812134952, 982.6543671212276), (504.88438136636796, 987.8165137652703), (506.4665668468609, 985.4049575065326), (504.34693349072336, 988.1487465289395), (506.6256908882833, 990.1658016786777), array([nan, nan]), (506.30640773498794, 996.8566513317171), array([nan, nan]), (506.3905338386073, 995.5299885670524)]\n",
      "ecrat: 130.14532019704433\n",
      "ecrat: 111.8619287917017\n",
      "écart:111.8619287917017\n",
      "liste des positions frame 31:[[489.3027163676021, 954.7116585704371], (477.5488489796354, 941.6662539267068), (477.81450601179085, 942.2997181437652), (478.28436608359624, 947.1860182222795), (481.6696853656077, 953.972354354947), (490.97819008774434, 955.4555612110119), (490.64851164169374, 957.9493905084935), (490.7733945308728, 965.188534628132), (493.40739737506624, 959.880154647234), (491.1392159914303, 959.5231998986732), (493.23530923892656, 965.4687417362859), (486.4010596287751, 963.3331328172565), (487.503623268095, 953.5063829017386), (482.6759840856909, 960.0394284607518), (483.3365511259079, 961.1477804562006), (481.12129752121575, 957.1299285244412), (484.7643260281535, 955.4572020688153), (490.1386299544024, 957.8880035364499), (509.2145087891332, 966.0314846035378), (503.5942122855869, 965.675264732725), (501.2699963978017, 981.0283675800367), (503.83730419961944, 980.2496308714224), (505.9591812134952, 982.6543671212276), (504.88438136636796, 987.8165137652703), (506.4665668468609, 985.4049575065326), (504.34693349072336, 988.1487465289395), (506.6256908882833, 990.1658016786777), array([nan, nan]), (506.30640773498794, 996.8566513317171), array([nan, nan]), (506.3905338386073, 995.5299885670524), (508.4995316518284, 980.0413359469427)]\n",
      "ecrat: 143.5602861834389\n",
      "ecrat: 124.37865353037768\n",
      "ecrat: 118.49513704686119\n",
      "écart:118.49513704686119\n",
      "liste des positions frame 32:[[489.3027163676021, 954.7116585704371], (477.5488489796354, 941.6662539267068), (477.81450601179085, 942.2997181437652), (478.28436608359624, 947.1860182222795), (481.6696853656077, 953.972354354947), (490.97819008774434, 955.4555612110119), (490.64851164169374, 957.9493905084935), (490.7733945308728, 965.188534628132), (493.40739737506624, 959.880154647234), (491.1392159914303, 959.5231998986732), (493.23530923892656, 965.4687417362859), (486.4010596287751, 963.3331328172565), (487.503623268095, 953.5063829017386), (482.6759840856909, 960.0394284607518), (483.3365511259079, 961.1477804562006), (481.12129752121575, 957.1299285244412), (484.7643260281535, 955.4572020688153), (490.1386299544024, 957.8880035364499), (509.2145087891332, 966.0314846035378), (503.5942122855869, 965.675264732725), (501.2699963978017, 981.0283675800367), (503.83730419961944, 980.2496308714224), (505.9591812134952, 982.6543671212276), (504.88438136636796, 987.8165137652703), (506.4665668468609, 985.4049575065326), (504.34693349072336, 988.1487465289395), (506.6256908882833, 990.1658016786777), array([nan, nan]), (506.30640773498794, 996.8566513317171), array([nan, nan]), (506.3905338386073, 995.5299885670524), (508.4995316518284, 980.0413359469427), (504.27225952329843, 980.8869882640091)]\n",
      "ecrat: 134.36754241926656\n",
      "ecrat: 140.39898320070733\n",
      "ecrat: 127.12151067323481\n",
      "écart:127.12151067323481\n",
      "liste des positions frame 33:[[489.3027163676021, 954.7116585704371], (477.5488489796354, 941.6662539267068), (477.81450601179085, 942.2997181437652), (478.28436608359624, 947.1860182222795), (481.6696853656077, 953.972354354947), (490.97819008774434, 955.4555612110119), (490.64851164169374, 957.9493905084935), (490.7733945308728, 965.188534628132), (493.40739737506624, 959.880154647234), (491.1392159914303, 959.5231998986732), (493.23530923892656, 965.4687417362859), (486.4010596287751, 963.3331328172565), (487.503623268095, 953.5063829017386), (482.6759840856909, 960.0394284607518), (483.3365511259079, 961.1477804562006), (481.12129752121575, 957.1299285244412), (484.7643260281535, 955.4572020688153), (490.1386299544024, 957.8880035364499), (509.2145087891332, 966.0314846035378), (503.5942122855869, 965.675264732725), (501.2699963978017, 981.0283675800367), (503.83730419961944, 980.2496308714224), (505.9591812134952, 982.6543671212276), (504.88438136636796, 987.8165137652703), (506.4665668468609, 985.4049575065326), (504.34693349072336, 988.1487465289395), (506.6256908882833, 990.1658016786777), array([nan, nan]), (506.30640773498794, 996.8566513317171), array([nan, nan]), (506.3905338386073, 995.5299885670524), (508.4995316518284, 980.0413359469427), (504.27225952329843, 980.8869882640091), (497.9736593918519, 985.9463531137911)]\n",
      "ecrat: 152.13936781609195\n",
      "ecrat: 136.01891327063743\n",
      "ecrat: 114.27054065559813\n",
      "écart:114.27054065559813\n",
      "liste des positions frame 34:[[489.3027163676021, 954.7116585704371], (477.5488489796354, 941.6662539267068), (477.81450601179085, 942.2997181437652), (478.28436608359624, 947.1860182222795), (481.6696853656077, 953.972354354947), (490.97819008774434, 955.4555612110119), (490.64851164169374, 957.9493905084935), (490.7733945308728, 965.188534628132), (493.40739737506624, 959.880154647234), (491.1392159914303, 959.5231998986732), (493.23530923892656, 965.4687417362859), (486.4010596287751, 963.3331328172565), (487.503623268095, 953.5063829017386), (482.6759840856909, 960.0394284607518), (483.3365511259079, 961.1477804562006), (481.12129752121575, 957.1299285244412), (484.7643260281535, 955.4572020688153), (490.1386299544024, 957.8880035364499), (509.2145087891332, 966.0314846035378), (503.5942122855869, 965.675264732725), (501.2699963978017, 981.0283675800367), (503.83730419961944, 980.2496308714224), (505.9591812134952, 982.6543671212276), (504.88438136636796, 987.8165137652703), (506.4665668468609, 985.4049575065326), (504.34693349072336, 988.1487465289395), (506.6256908882833, 990.1658016786777), array([nan, nan]), (506.30640773498794, 996.8566513317171), array([nan, nan]), (506.3905338386073, 995.5299885670524), (508.4995316518284, 980.0413359469427), (504.27225952329843, 980.8869882640091), (497.9736593918519, 985.9463531137911), (497.4925320438708, 984.470932042678)]\n",
      "ecrat: 145.22088955522239\n",
      "ecrat: 131.1929392446634\n",
      "ecrat: 115.38631903560415\n",
      "écart:115.38631903560415\n",
      "liste des positions frame 35:[[489.3027163676021, 954.7116585704371], (477.5488489796354, 941.6662539267068), (477.81450601179085, 942.2997181437652), (478.28436608359624, 947.1860182222795), (481.6696853656077, 953.972354354947), (490.97819008774434, 955.4555612110119), (490.64851164169374, 957.9493905084935), (490.7733945308728, 965.188534628132), (493.40739737506624, 959.880154647234), (491.1392159914303, 959.5231998986732), (493.23530923892656, 965.4687417362859), (486.4010596287751, 963.3331328172565), (487.503623268095, 953.5063829017386), (482.6759840856909, 960.0394284607518), (483.3365511259079, 961.1477804562006), (481.12129752121575, 957.1299285244412), (484.7643260281535, 955.4572020688153), (490.1386299544024, 957.8880035364499), (509.2145087891332, 966.0314846035378), (503.5942122855869, 965.675264732725), (501.2699963978017, 981.0283675800367), (503.83730419961944, 980.2496308714224), (505.9591812134952, 982.6543671212276), (504.88438136636796, 987.8165137652703), (506.4665668468609, 985.4049575065326), (504.34693349072336, 988.1487465289395), (506.6256908882833, 990.1658016786777), array([nan, nan]), (506.30640773498794, 996.8566513317171), array([nan, nan]), (506.3905338386073, 995.5299885670524), (508.4995316518284, 980.0413359469427), (504.27225952329843, 980.8869882640091), (497.9736593918519, 985.9463531137911), (497.4925320438708, 984.470932042678), (496.3183467776745, 988.1602852882846)]\n",
      "ecrat: 126.49571109967405\n",
      "ecrat: 117.2960133857122\n",
      "écart:117.2960133857122\n",
      "liste des positions frame 36:[[489.3027163676021, 954.7116585704371], (477.5488489796354, 941.6662539267068), (477.81450601179085, 942.2997181437652), (478.28436608359624, 947.1860182222795), (481.6696853656077, 953.972354354947), (490.97819008774434, 955.4555612110119), (490.64851164169374, 957.9493905084935), (490.7733945308728, 965.188534628132), (493.40739737506624, 959.880154647234), (491.1392159914303, 959.5231998986732), (493.23530923892656, 965.4687417362859), (486.4010596287751, 963.3331328172565), (487.503623268095, 953.5063829017386), (482.6759840856909, 960.0394284607518), (483.3365511259079, 961.1477804562006), (481.12129752121575, 957.1299285244412), (484.7643260281535, 955.4572020688153), (490.1386299544024, 957.8880035364499), (509.2145087891332, 966.0314846035378), (503.5942122855869, 965.675264732725), (501.2699963978017, 981.0283675800367), (503.83730419961944, 980.2496308714224), (505.9591812134952, 982.6543671212276), (504.88438136636796, 987.8165137652703), (506.4665668468609, 985.4049575065326), (504.34693349072336, 988.1487465289395), (506.6256908882833, 990.1658016786777), array([nan, nan]), (506.30640773498794, 996.8566513317171), array([nan, nan]), (506.3905338386073, 995.5299885670524), (508.4995316518284, 980.0413359469427), (504.27225952329843, 980.8869882640091), (497.9736593918519, 985.9463531137911), (497.4925320438708, 984.470932042678), (496.3183467776745, 988.1602852882846), (499.0695741236523, 986.0093410701937)]\n",
      "ecrat: 132.64572374829535\n",
      "ecrat: 126.65008210180625\n",
      "ecrat: 117.36930608769688\n",
      "écart:117.36930608769688\n",
      "liste des positions frame 37:[[489.3027163676021, 954.7116585704371], (477.5488489796354, 941.6662539267068), (477.81450601179085, 942.2997181437652), (478.28436608359624, 947.1860182222795), (481.6696853656077, 953.972354354947), (490.97819008774434, 955.4555612110119), (490.64851164169374, 957.9493905084935), (490.7733945308728, 965.188534628132), (493.40739737506624, 959.880154647234), (491.1392159914303, 959.5231998986732), (493.23530923892656, 965.4687417362859), (486.4010596287751, 963.3331328172565), (487.503623268095, 953.5063829017386), (482.6759840856909, 960.0394284607518), (483.3365511259079, 961.1477804562006), (481.12129752121575, 957.1299285244412), (484.7643260281535, 955.4572020688153), (490.1386299544024, 957.8880035364499), (509.2145087891332, 966.0314846035378), (503.5942122855869, 965.675264732725), (501.2699963978017, 981.0283675800367), (503.83730419961944, 980.2496308714224), (505.9591812134952, 982.6543671212276), (504.88438136636796, 987.8165137652703), (506.4665668468609, 985.4049575065326), (504.34693349072336, 988.1487465289395), (506.6256908882833, 990.1658016786777), array([nan, nan]), (506.30640773498794, 996.8566513317171), array([nan, nan]), (506.3905338386073, 995.5299885670524), (508.4995316518284, 980.0413359469427), (504.27225952329843, 980.8869882640091), (497.9736593918519, 985.9463531137911), (497.4925320438708, 984.470932042678), (496.3183467776745, 988.1602852882846), (499.0695741236523, 986.0093410701937), (499.0109273590548, 985.6992474435403)]\n",
      "ecrat: 152.73659003831418\n",
      "ecrat: 123.73619880200745\n",
      "ecrat: 134.37453730761737\n",
      "écart:123.73619880200745\n",
      "liste des positions frame 38:[[489.3027163676021, 954.7116585704371], (477.5488489796354, 941.6662539267068), (477.81450601179085, 942.2997181437652), (478.28436608359624, 947.1860182222795), (481.6696853656077, 953.972354354947), (490.97819008774434, 955.4555612110119), (490.64851164169374, 957.9493905084935), (490.7733945308728, 965.188534628132), (493.40739737506624, 959.880154647234), (491.1392159914303, 959.5231998986732), (493.23530923892656, 965.4687417362859), (486.4010596287751, 963.3331328172565), (487.503623268095, 953.5063829017386), (482.6759840856909, 960.0394284607518), (483.3365511259079, 961.1477804562006), (481.12129752121575, 957.1299285244412), (484.7643260281535, 955.4572020688153), (490.1386299544024, 957.8880035364499), (509.2145087891332, 966.0314846035378), (503.5942122855869, 965.675264732725), (501.2699963978017, 981.0283675800367), (503.83730419961944, 980.2496308714224), (505.9591812134952, 982.6543671212276), (504.88438136636796, 987.8165137652703), (506.4665668468609, 985.4049575065326), (504.34693349072336, 988.1487465289395), (506.6256908882833, 990.1658016786777), array([nan, nan]), (506.30640773498794, 996.8566513317171), array([nan, nan]), (506.3905338386073, 995.5299885670524), (508.4995316518284, 980.0413359469427), (504.27225952329843, 980.8869882640091), (497.9736593918519, 985.9463531137911), (497.4925320438708, 984.470932042678), (496.3183467776745, 988.1602852882846), (499.0695741236523, 986.0093410701937), (499.0109273590548, 985.6992474435403), (501.33792429759797, 992.7846749391421)]\n",
      "ecrat: 127.42613252197431\n",
      "ecrat: 125.08789722785666\n",
      "écart:125.08789722785666\n",
      "liste des positions frame 39:[[489.3027163676021, 954.7116585704371], (477.5488489796354, 941.6662539267068), (477.81450601179085, 942.2997181437652), (478.28436608359624, 947.1860182222795), (481.6696853656077, 953.972354354947), (490.97819008774434, 955.4555612110119), (490.64851164169374, 957.9493905084935), (490.7733945308728, 965.188534628132), (493.40739737506624, 959.880154647234), (491.1392159914303, 959.5231998986732), (493.23530923892656, 965.4687417362859), (486.4010596287751, 963.3331328172565), (487.503623268095, 953.5063829017386), (482.6759840856909, 960.0394284607518), (483.3365511259079, 961.1477804562006), (481.12129752121575, 957.1299285244412), (484.7643260281535, 955.4572020688153), (490.1386299544024, 957.8880035364499), (509.2145087891332, 966.0314846035378), (503.5942122855869, 965.675264732725), (501.2699963978017, 981.0283675800367), (503.83730419961944, 980.2496308714224), (505.9591812134952, 982.6543671212276), (504.88438136636796, 987.8165137652703), (506.4665668468609, 985.4049575065326), (504.34693349072336, 988.1487465289395), (506.6256908882833, 990.1658016786777), array([nan, nan]), (506.30640773498794, 996.8566513317171), array([nan, nan]), (506.3905338386073, 995.5299885670524), (508.4995316518284, 980.0413359469427), (504.27225952329843, 980.8869882640091), (497.9736593918519, 985.9463531137911), (497.4925320438708, 984.470932042678), (496.3183467776745, 988.1602852882846), (499.0695741236523, 986.0093410701937), (499.0109273590548, 985.6992474435403), (501.33792429759797, 992.7846749391421), (497.6009369912076, 996.7101634434684)]\n",
      "ecrat: 117.94158300596537\n",
      "ecrat: 123.69293924466339\n",
      "écart:117.94158300596537\n",
      "liste des positions frame 40:[[489.3027163676021, 954.7116585704371], (477.5488489796354, 941.6662539267068), (477.81450601179085, 942.2997181437652), (478.28436608359624, 947.1860182222795), (481.6696853656077, 953.972354354947), (490.97819008774434, 955.4555612110119), (490.64851164169374, 957.9493905084935), (490.7733945308728, 965.188534628132), (493.40739737506624, 959.880154647234), (491.1392159914303, 959.5231998986732), (493.23530923892656, 965.4687417362859), (486.4010596287751, 963.3331328172565), (487.503623268095, 953.5063829017386), (482.6759840856909, 960.0394284607518), (483.3365511259079, 961.1477804562006), (481.12129752121575, 957.1299285244412), (484.7643260281535, 955.4572020688153), (490.1386299544024, 957.8880035364499), (509.2145087891332, 966.0314846035378), (503.5942122855869, 965.675264732725), (501.2699963978017, 981.0283675800367), (503.83730419961944, 980.2496308714224), (505.9591812134952, 982.6543671212276), (504.88438136636796, 987.8165137652703), (506.4665668468609, 985.4049575065326), (504.34693349072336, 988.1487465289395), (506.6256908882833, 990.1658016786777), array([nan, nan]), (506.30640773498794, 996.8566513317171), array([nan, nan]), (506.3905338386073, 995.5299885670524), (508.4995316518284, 980.0413359469427), (504.27225952329843, 980.8869882640091), (497.9736593918519, 985.9463531137911), (497.4925320438708, 984.470932042678), (496.3183467776745, 988.1602852882846), (499.0695741236523, 986.0093410701937), (499.0109273590548, 985.6992474435403), (501.33792429759797, 992.7846749391421), (497.6009369912076, 996.7101634434684), (496.42326194337454, 992.0495300303369)]\n",
      "ecrat: 132.57686781609195\n",
      "ecrat: 126.60494752623688\n",
      "écart:126.60494752623688\n",
      "liste des positions frame 41:[[489.3027163676021, 954.7116585704371], (477.5488489796354, 941.6662539267068), (477.81450601179085, 942.2997181437652), (478.28436608359624, 947.1860182222795), (481.6696853656077, 953.972354354947), (490.97819008774434, 955.4555612110119), (490.64851164169374, 957.9493905084935), (490.7733945308728, 965.188534628132), (493.40739737506624, 959.880154647234), (491.1392159914303, 959.5231998986732), (493.23530923892656, 965.4687417362859), (486.4010596287751, 963.3331328172565), (487.503623268095, 953.5063829017386), (482.6759840856909, 960.0394284607518), (483.3365511259079, 961.1477804562006), (481.12129752121575, 957.1299285244412), (484.7643260281535, 955.4572020688153), (490.1386299544024, 957.8880035364499), (509.2145087891332, 966.0314846035378), (503.5942122855869, 965.675264732725), (501.2699963978017, 981.0283675800367), (503.83730419961944, 980.2496308714224), (505.9591812134952, 982.6543671212276), (504.88438136636796, 987.8165137652703), (506.4665668468609, 985.4049575065326), (504.34693349072336, 988.1487465289395), (506.6256908882833, 990.1658016786777), array([nan, nan]), (506.30640773498794, 996.8566513317171), array([nan, nan]), (506.3905338386073, 995.5299885670524), (508.4995316518284, 980.0413359469427), (504.27225952329843, 980.8869882640091), (497.9736593918519, 985.9463531137911), (497.4925320438708, 984.470932042678), (496.3183467776745, 988.1602852882846), (499.0695741236523, 986.0093410701937), (499.0109273590548, 985.6992474435403), (501.33792429759797, 992.7846749391421), (497.6009369912076, 996.7101634434684), (496.42326194337454, 992.0495300303369), (489.7999868898987, 1000.8691923107692)]\n",
      "ecrat: 129.68744473916888\n",
      "ecrat: 126.30722495894909\n",
      "écart:126.30722495894909\n",
      "liste des positions frame 42:[[489.3027163676021, 954.7116585704371], (477.5488489796354, 941.6662539267068), (477.81450601179085, 942.2997181437652), (478.28436608359624, 947.1860182222795), (481.6696853656077, 953.972354354947), (490.97819008774434, 955.4555612110119), (490.64851164169374, 957.9493905084935), (490.7733945308728, 965.188534628132), (493.40739737506624, 959.880154647234), (491.1392159914303, 959.5231998986732), (493.23530923892656, 965.4687417362859), (486.4010596287751, 963.3331328172565), (487.503623268095, 953.5063829017386), (482.6759840856909, 960.0394284607518), (483.3365511259079, 961.1477804562006), (481.12129752121575, 957.1299285244412), (484.7643260281535, 955.4572020688153), (490.1386299544024, 957.8880035364499), (509.2145087891332, 966.0314846035378), (503.5942122855869, 965.675264732725), (501.2699963978017, 981.0283675800367), (503.83730419961944, 980.2496308714224), (505.9591812134952, 982.6543671212276), (504.88438136636796, 987.8165137652703), (506.4665668468609, 985.4049575065326), (504.34693349072336, 988.1487465289395), (506.6256908882833, 990.1658016786777), array([nan, nan]), (506.30640773498794, 996.8566513317171), array([nan, nan]), (506.3905338386073, 995.5299885670524), (508.4995316518284, 980.0413359469427), (504.27225952329843, 980.8869882640091), (497.9736593918519, 985.9463531137911), (497.4925320438708, 984.470932042678), (496.3183467776745, 988.1602852882846), (499.0695741236523, 986.0093410701937), (499.0109273590548, 985.6992474435403), (501.33792429759797, 992.7846749391421), (497.6009369912076, 996.7101634434684), (496.42326194337454, 992.0495300303369), (489.7999868898987, 1000.8691923107692), (492.062887390388, 1003.3812521622663)]\n",
      "liste des positions frame 43:[[489.3027163676021, 954.7116585704371], (477.5488489796354, 941.6662539267068), (477.81450601179085, 942.2997181437652), (478.28436608359624, 947.1860182222795), (481.6696853656077, 953.972354354947), (490.97819008774434, 955.4555612110119), (490.64851164169374, 957.9493905084935), (490.7733945308728, 965.188534628132), (493.40739737506624, 959.880154647234), (491.1392159914303, 959.5231998986732), (493.23530923892656, 965.4687417362859), (486.4010596287751, 963.3331328172565), (487.503623268095, 953.5063829017386), (482.6759840856909, 960.0394284607518), (483.3365511259079, 961.1477804562006), (481.12129752121575, 957.1299285244412), (484.7643260281535, 955.4572020688153), (490.1386299544024, 957.8880035364499), (509.2145087891332, 966.0314846035378), (503.5942122855869, 965.675264732725), (501.2699963978017, 981.0283675800367), (503.83730419961944, 980.2496308714224), (505.9591812134952, 982.6543671212276), (504.88438136636796, 987.8165137652703), (506.4665668468609, 985.4049575065326), (504.34693349072336, 988.1487465289395), (506.6256908882833, 990.1658016786777), array([nan, nan]), (506.30640773498794, 996.8566513317171), array([nan, nan]), (506.3905338386073, 995.5299885670524), (508.4995316518284, 980.0413359469427), (504.27225952329843, 980.8869882640091), (497.9736593918519, 985.9463531137911), (497.4925320438708, 984.470932042678), (496.3183467776745, 988.1602852882846), (499.0695741236523, 986.0093410701937), (499.0109273590548, 985.6992474435403), (501.33792429759797, 992.7846749391421), (497.6009369912076, 996.7101634434684), (496.42326194337454, 992.0495300303369), (489.7999868898987, 1000.8691923107692), (492.062887390388, 1003.3812521622663), (488.44540501820643, 998.3380139810783)]\n",
      "ecrat: 124.49676218228913\n",
      "ecrat: 129.19083840432725\n",
      "écart:124.49676218228913\n",
      "liste des positions frame 44:[[489.3027163676021, 954.7116585704371], (477.5488489796354, 941.6662539267068), (477.81450601179085, 942.2997181437652), (478.28436608359624, 947.1860182222795), (481.6696853656077, 953.972354354947), (490.97819008774434, 955.4555612110119), (490.64851164169374, 957.9493905084935), (490.7733945308728, 965.188534628132), (493.40739737506624, 959.880154647234), (491.1392159914303, 959.5231998986732), (493.23530923892656, 965.4687417362859), (486.4010596287751, 963.3331328172565), (487.503623268095, 953.5063829017386), (482.6759840856909, 960.0394284607518), (483.3365511259079, 961.1477804562006), (481.12129752121575, 957.1299285244412), (484.7643260281535, 955.4572020688153), (490.1386299544024, 957.8880035364499), (509.2145087891332, 966.0314846035378), (503.5942122855869, 965.675264732725), (501.2699963978017, 981.0283675800367), (503.83730419961944, 980.2496308714224), (505.9591812134952, 982.6543671212276), (504.88438136636796, 987.8165137652703), (506.4665668468609, 985.4049575065326), (504.34693349072336, 988.1487465289395), (506.6256908882833, 990.1658016786777), array([nan, nan]), (506.30640773498794, 996.8566513317171), array([nan, nan]), (506.3905338386073, 995.5299885670524), (508.4995316518284, 980.0413359469427), (504.27225952329843, 980.8869882640091), (497.9736593918519, 985.9463531137911), (497.4925320438708, 984.470932042678), (496.3183467776745, 988.1602852882846), (499.0695741236523, 986.0093410701937), (499.0109273590548, 985.6992474435403), (501.33792429759797, 992.7846749391421), (497.6009369912076, 996.7101634434684), (496.42326194337454, 992.0495300303369), (489.7999868898987, 1000.8691923107692), (492.062887390388, 1003.3812521622663), (488.44540501820643, 998.3380139810783), (485.3761180477723, 1007.9228849903527)]\n",
      "ecrat: 138.1794621557146\n",
      "ecrat: 125.47865353037767\n",
      "écart:125.47865353037767\n",
      "liste des positions frame 45:[[489.3027163676021, 954.7116585704371], (477.5488489796354, 941.6662539267068), (477.81450601179085, 942.2997181437652), (478.28436608359624, 947.1860182222795), (481.6696853656077, 953.972354354947), (490.97819008774434, 955.4555612110119), (490.64851164169374, 957.9493905084935), (490.7733945308728, 965.188534628132), (493.40739737506624, 959.880154647234), (491.1392159914303, 959.5231998986732), (493.23530923892656, 965.4687417362859), (486.4010596287751, 963.3331328172565), (487.503623268095, 953.5063829017386), (482.6759840856909, 960.0394284607518), (483.3365511259079, 961.1477804562006), (481.12129752121575, 957.1299285244412), (484.7643260281535, 955.4572020688153), (490.1386299544024, 957.8880035364499), (509.2145087891332, 966.0314846035378), (503.5942122855869, 965.675264732725), (501.2699963978017, 981.0283675800367), (503.83730419961944, 980.2496308714224), (505.9591812134952, 982.6543671212276), (504.88438136636796, 987.8165137652703), (506.4665668468609, 985.4049575065326), (504.34693349072336, 988.1487465289395), (506.6256908882833, 990.1658016786777), array([nan, nan]), (506.30640773498794, 996.8566513317171), array([nan, nan]), (506.3905338386073, 995.5299885670524), (508.4995316518284, 980.0413359469427), (504.27225952329843, 980.8869882640091), (497.9736593918519, 985.9463531137911), (497.4925320438708, 984.470932042678), (496.3183467776745, 988.1602852882846), (499.0695741236523, 986.0093410701937), (499.0109273590548, 985.6992474435403), (501.33792429759797, 992.7846749391421), (497.6009369912076, 996.7101634434684), (496.42326194337454, 992.0495300303369), (489.7999868898987, 1000.8691923107692), (492.062887390388, 1003.3812521622663), (488.44540501820643, 998.3380139810783), (485.3761180477723, 1007.9228849903527), (488.8111684058672, 1010.9887141690654)]\n",
      "ecrat: 127.32497387669801\n",
      "ecrat: 133.89551535707557\n",
      "écart:127.32497387669801\n",
      "liste des positions frame 46:[[489.3027163676021, 954.7116585704371], (477.5488489796354, 941.6662539267068), (477.81450601179085, 942.2997181437652), (478.28436608359624, 947.1860182222795), (481.6696853656077, 953.972354354947), (490.97819008774434, 955.4555612110119), (490.64851164169374, 957.9493905084935), (490.7733945308728, 965.188534628132), (493.40739737506624, 959.880154647234), (491.1392159914303, 959.5231998986732), (493.23530923892656, 965.4687417362859), (486.4010596287751, 963.3331328172565), (487.503623268095, 953.5063829017386), (482.6759840856909, 960.0394284607518), (483.3365511259079, 961.1477804562006), (481.12129752121575, 957.1299285244412), (484.7643260281535, 955.4572020688153), (490.1386299544024, 957.8880035364499), (509.2145087891332, 966.0314846035378), (503.5942122855869, 965.675264732725), (501.2699963978017, 981.0283675800367), (503.83730419961944, 980.2496308714224), (505.9591812134952, 982.6543671212276), (504.88438136636796, 987.8165137652703), (506.4665668468609, 985.4049575065326), (504.34693349072336, 988.1487465289395), (506.6256908882833, 990.1658016786777), array([nan, nan]), (506.30640773498794, 996.8566513317171), array([nan, nan]), (506.3905338386073, 995.5299885670524), (508.4995316518284, 980.0413359469427), (504.27225952329843, 980.8869882640091), (497.9736593918519, 985.9463531137911), (497.4925320438708, 984.470932042678), (496.3183467776745, 988.1602852882846), (499.0695741236523, 986.0093410701937), (499.0109273590548, 985.6992474435403), (501.33792429759797, 992.7846749391421), (497.6009369912076, 996.7101634434684), (496.42326194337454, 992.0495300303369), (489.7999868898987, 1000.8691923107692), (492.062887390388, 1003.3812521622663), (488.44540501820643, 998.3380139810783), (485.3761180477723, 1007.9228849903527), (488.8111684058672, 1010.9887141690654), (490.274717300343, 1010.3634306383497)]\n",
      "ecrat: 120.57865353037766\n",
      "ecrat: 126.79467084639498\n",
      "écart:120.57865353037766\n",
      "liste des positions frame 47:[[489.3027163676021, 954.7116585704371], (477.5488489796354, 941.6662539267068), (477.81450601179085, 942.2997181437652), (478.28436608359624, 947.1860182222795), (481.6696853656077, 953.972354354947), (490.97819008774434, 955.4555612110119), (490.64851164169374, 957.9493905084935), (490.7733945308728, 965.188534628132), (493.40739737506624, 959.880154647234), (491.1392159914303, 959.5231998986732), (493.23530923892656, 965.4687417362859), (486.4010596287751, 963.3331328172565), (487.503623268095, 953.5063829017386), (482.6759840856909, 960.0394284607518), (483.3365511259079, 961.1477804562006), (481.12129752121575, 957.1299285244412), (484.7643260281535, 955.4572020688153), (490.1386299544024, 957.8880035364499), (509.2145087891332, 966.0314846035378), (503.5942122855869, 965.675264732725), (501.2699963978017, 981.0283675800367), (503.83730419961944, 980.2496308714224), (505.9591812134952, 982.6543671212276), (504.88438136636796, 987.8165137652703), (506.4665668468609, 985.4049575065326), (504.34693349072336, 988.1487465289395), (506.6256908882833, 990.1658016786777), array([nan, nan]), (506.30640773498794, 996.8566513317171), array([nan, nan]), (506.3905338386073, 995.5299885670524), (508.4995316518284, 980.0413359469427), (504.27225952329843, 980.8869882640091), (497.9736593918519, 985.9463531137911), (497.4925320438708, 984.470932042678), (496.3183467776745, 988.1602852882846), (499.0695741236523, 986.0093410701937), (499.0109273590548, 985.6992474435403), (501.33792429759797, 992.7846749391421), (497.6009369912076, 996.7101634434684), (496.42326194337454, 992.0495300303369), (489.7999868898987, 1000.8691923107692), (492.062887390388, 1003.3812521622663), (488.44540501820643, 998.3380139810783), (485.3761180477723, 1007.9228849903527), (488.8111684058672, 1010.9887141690654), (490.274717300343, 1010.3634306383497), (496.1647589177684, 1014.3858798276642)]\n",
      "ecrat: 114.30186781609196\n",
      "ecrat: 130.6998516870597\n",
      "écart:114.30186781609196\n",
      "liste des positions frame 48:[[489.3027163676021, 954.7116585704371], (477.5488489796354, 941.6662539267068), (477.81450601179085, 942.2997181437652), (478.28436608359624, 947.1860182222795), (481.6696853656077, 953.972354354947), (490.97819008774434, 955.4555612110119), (490.64851164169374, 957.9493905084935), (490.7733945308728, 965.188534628132), (493.40739737506624, 959.880154647234), (491.1392159914303, 959.5231998986732), (493.23530923892656, 965.4687417362859), (486.4010596287751, 963.3331328172565), (487.503623268095, 953.5063829017386), (482.6759840856909, 960.0394284607518), (483.3365511259079, 961.1477804562006), (481.12129752121575, 957.1299285244412), (484.7643260281535, 955.4572020688153), (490.1386299544024, 957.8880035364499), (509.2145087891332, 966.0314846035378), (503.5942122855869, 965.675264732725), (501.2699963978017, 981.0283675800367), (503.83730419961944, 980.2496308714224), (505.9591812134952, 982.6543671212276), (504.88438136636796, 987.8165137652703), (506.4665668468609, 985.4049575065326), (504.34693349072336, 988.1487465289395), (506.6256908882833, 990.1658016786777), array([nan, nan]), (506.30640773498794, 996.8566513317171), array([nan, nan]), (506.3905338386073, 995.5299885670524), (508.4995316518284, 980.0413359469427), (504.27225952329843, 980.8869882640091), (497.9736593918519, 985.9463531137911), (497.4925320438708, 984.470932042678), (496.3183467776745, 988.1602852882846), (499.0695741236523, 986.0093410701937), (499.0109273590548, 985.6992474435403), (501.33792429759797, 992.7846749391421), (497.6009369912076, 996.7101634434684), (496.42326194337454, 992.0495300303369), (489.7999868898987, 1000.8691923107692), (492.062887390388, 1003.3812521622663), (488.44540501820643, 998.3380139810783), (485.3761180477723, 1007.9228849903527), (488.8111684058672, 1010.9887141690654), (490.274717300343, 1010.3634306383497), (496.1647589177684, 1014.3858798276642), (493.94686483246574, 1017.0723492328134)]\n",
      "ecrat: 127.76436781609195\n",
      "ecrat: 138.98436781609195\n",
      "écart:127.76436781609195\n",
      "liste des positions frame 49:[[489.3027163676021, 954.7116585704371], (477.5488489796354, 941.6662539267068), (477.81450601179085, 942.2997181437652), (478.28436608359624, 947.1860182222795), (481.6696853656077, 953.972354354947), (490.97819008774434, 955.4555612110119), (490.64851164169374, 957.9493905084935), (490.7733945308728, 965.188534628132), (493.40739737506624, 959.880154647234), (491.1392159914303, 959.5231998986732), (493.23530923892656, 965.4687417362859), (486.4010596287751, 963.3331328172565), (487.503623268095, 953.5063829017386), (482.6759840856909, 960.0394284607518), (483.3365511259079, 961.1477804562006), (481.12129752121575, 957.1299285244412), (484.7643260281535, 955.4572020688153), (490.1386299544024, 957.8880035364499), (509.2145087891332, 966.0314846035378), (503.5942122855869, 965.675264732725), (501.2699963978017, 981.0283675800367), (503.83730419961944, 980.2496308714224), (505.9591812134952, 982.6543671212276), (504.88438136636796, 987.8165137652703), (506.4665668468609, 985.4049575065326), (504.34693349072336, 988.1487465289395), (506.6256908882833, 990.1658016786777), array([nan, nan]), (506.30640773498794, 996.8566513317171), array([nan, nan]), (506.3905338386073, 995.5299885670524), (508.4995316518284, 980.0413359469427), (504.27225952329843, 980.8869882640091), (497.9736593918519, 985.9463531137911), (497.4925320438708, 984.470932042678), (496.3183467776745, 988.1602852882846), (499.0695741236523, 986.0093410701937), (499.0109273590548, 985.6992474435403), (501.33792429759797, 992.7846749391421), (497.6009369912076, 996.7101634434684), (496.42326194337454, 992.0495300303369), (489.7999868898987, 1000.8691923107692), (492.062887390388, 1003.3812521622663), (488.44540501820643, 998.3380139810783), (485.3761180477723, 1007.9228849903527), (488.8111684058672, 1010.9887141690654), (490.274717300343, 1010.3634306383497), (496.1647589177684, 1014.3858798276642), (493.94686483246574, 1017.0723492328134), (458.0107470666423, 1032.5452594679778)]\n",
      "liste des positions frame 50:[[489.3027163676021, 954.7116585704371], (477.5488489796354, 941.6662539267068), (477.81450601179085, 942.2997181437652), (478.28436608359624, 947.1860182222795), (481.6696853656077, 953.972354354947), (490.97819008774434, 955.4555612110119), (490.64851164169374, 957.9493905084935), (490.7733945308728, 965.188534628132), (493.40739737506624, 959.880154647234), (491.1392159914303, 959.5231998986732), (493.23530923892656, 965.4687417362859), (486.4010596287751, 963.3331328172565), (487.503623268095, 953.5063829017386), (482.6759840856909, 960.0394284607518), (483.3365511259079, 961.1477804562006), (481.12129752121575, 957.1299285244412), (484.7643260281535, 955.4572020688153), (490.1386299544024, 957.8880035364499), (509.2145087891332, 966.0314846035378), (503.5942122855869, 965.675264732725), (501.2699963978017, 981.0283675800367), (503.83730419961944, 980.2496308714224), (505.9591812134952, 982.6543671212276), (504.88438136636796, 987.8165137652703), (506.4665668468609, 985.4049575065326), (504.34693349072336, 988.1487465289395), (506.6256908882833, 990.1658016786777), array([nan, nan]), (506.30640773498794, 996.8566513317171), array([nan, nan]), (506.3905338386073, 995.5299885670524), (508.4995316518284, 980.0413359469427), (504.27225952329843, 980.8869882640091), (497.9736593918519, 985.9463531137911), (497.4925320438708, 984.470932042678), (496.3183467776745, 988.1602852882846), (499.0695741236523, 986.0093410701937), (499.0109273590548, 985.6992474435403), (501.33792429759797, 992.7846749391421), (497.6009369912076, 996.7101634434684), (496.42326194337454, 992.0495300303369), (489.7999868898987, 1000.8691923107692), (492.062887390388, 1003.3812521622663), (488.44540501820643, 998.3380139810783), (485.3761180477723, 1007.9228849903527), (488.8111684058672, 1010.9887141690654), (490.274717300343, 1010.3634306383497), (496.1647589177684, 1014.3858798276642), (493.94686483246574, 1017.0723492328134), (458.0107470666423, 1032.5452594679778), (457.85201877557114, 1033.0806554059827)]\n",
      "liste des positions frame 51:[[489.3027163676021, 954.7116585704371], (477.5488489796354, 941.6662539267068), (477.81450601179085, 942.2997181437652), (478.28436608359624, 947.1860182222795), (481.6696853656077, 953.972354354947), (490.97819008774434, 955.4555612110119), (490.64851164169374, 957.9493905084935), (490.7733945308728, 965.188534628132), (493.40739737506624, 959.880154647234), (491.1392159914303, 959.5231998986732), (493.23530923892656, 965.4687417362859), (486.4010596287751, 963.3331328172565), (487.503623268095, 953.5063829017386), (482.6759840856909, 960.0394284607518), (483.3365511259079, 961.1477804562006), (481.12129752121575, 957.1299285244412), (484.7643260281535, 955.4572020688153), (490.1386299544024, 957.8880035364499), (509.2145087891332, 966.0314846035378), (503.5942122855869, 965.675264732725), (501.2699963978017, 981.0283675800367), (503.83730419961944, 980.2496308714224), (505.9591812134952, 982.6543671212276), (504.88438136636796, 987.8165137652703), (506.4665668468609, 985.4049575065326), (504.34693349072336, 988.1487465289395), (506.6256908882833, 990.1658016786777), array([nan, nan]), (506.30640773498794, 996.8566513317171), array([nan, nan]), (506.3905338386073, 995.5299885670524), (508.4995316518284, 980.0413359469427), (504.27225952329843, 980.8869882640091), (497.9736593918519, 985.9463531137911), (497.4925320438708, 984.470932042678), (496.3183467776745, 988.1602852882846), (499.0695741236523, 986.0093410701937), (499.0109273590548, 985.6992474435403), (501.33792429759797, 992.7846749391421), (497.6009369912076, 996.7101634434684), (496.42326194337454, 992.0495300303369), (489.7999868898987, 1000.8691923107692), (492.062887390388, 1003.3812521622663), (488.44540501820643, 998.3380139810783), (485.3761180477723, 1007.9228849903527), (488.8111684058672, 1010.9887141690654), (490.274717300343, 1010.3634306383497), (496.1647589177684, 1014.3858798276642), (493.94686483246574, 1017.0723492328134), (458.0107470666423, 1032.5452594679778), (457.85201877557114, 1033.0806554059827), (458.6412292916839, 1032.543962753011)]\n",
      "liste des positions frame 52:[[489.3027163676021, 954.7116585704371], (477.5488489796354, 941.6662539267068), (477.81450601179085, 942.2997181437652), (478.28436608359624, 947.1860182222795), (481.6696853656077, 953.972354354947), (490.97819008774434, 955.4555612110119), (490.64851164169374, 957.9493905084935), (490.7733945308728, 965.188534628132), (493.40739737506624, 959.880154647234), (491.1392159914303, 959.5231998986732), (493.23530923892656, 965.4687417362859), (486.4010596287751, 963.3331328172565), (487.503623268095, 953.5063829017386), (482.6759840856909, 960.0394284607518), (483.3365511259079, 961.1477804562006), (481.12129752121575, 957.1299285244412), (484.7643260281535, 955.4572020688153), (490.1386299544024, 957.8880035364499), (509.2145087891332, 966.0314846035378), (503.5942122855869, 965.675264732725), (501.2699963978017, 981.0283675800367), (503.83730419961944, 980.2496308714224), (505.9591812134952, 982.6543671212276), (504.88438136636796, 987.8165137652703), (506.4665668468609, 985.4049575065326), (504.34693349072336, 988.1487465289395), (506.6256908882833, 990.1658016786777), array([nan, nan]), (506.30640773498794, 996.8566513317171), array([nan, nan]), (506.3905338386073, 995.5299885670524), (508.4995316518284, 980.0413359469427), (504.27225952329843, 980.8869882640091), (497.9736593918519, 985.9463531137911), (497.4925320438708, 984.470932042678), (496.3183467776745, 988.1602852882846), (499.0695741236523, 986.0093410701937), (499.0109273590548, 985.6992474435403), (501.33792429759797, 992.7846749391421), (497.6009369912076, 996.7101634434684), (496.42326194337454, 992.0495300303369), (489.7999868898987, 1000.8691923107692), (492.062887390388, 1003.3812521622663), (488.44540501820643, 998.3380139810783), (485.3761180477723, 1007.9228849903527), (488.8111684058672, 1010.9887141690654), (490.274717300343, 1010.3634306383497), (496.1647589177684, 1014.3858798276642), (493.94686483246574, 1017.0723492328134), (458.0107470666423, 1032.5452594679778), (457.85201877557114, 1033.0806554059827), (458.6412292916839, 1032.543962753011), (458.28979077122744, 1032.6379761795365)]\n",
      "liste des positions frame 53:[[489.3027163676021, 954.7116585704371], (477.5488489796354, 941.6662539267068), (477.81450601179085, 942.2997181437652), (478.28436608359624, 947.1860182222795), (481.6696853656077, 953.972354354947), (490.97819008774434, 955.4555612110119), (490.64851164169374, 957.9493905084935), (490.7733945308728, 965.188534628132), (493.40739737506624, 959.880154647234), (491.1392159914303, 959.5231998986732), (493.23530923892656, 965.4687417362859), (486.4010596287751, 963.3331328172565), (487.503623268095, 953.5063829017386), (482.6759840856909, 960.0394284607518), (483.3365511259079, 961.1477804562006), (481.12129752121575, 957.1299285244412), (484.7643260281535, 955.4572020688153), (490.1386299544024, 957.8880035364499), (509.2145087891332, 966.0314846035378), (503.5942122855869, 965.675264732725), (501.2699963978017, 981.0283675800367), (503.83730419961944, 980.2496308714224), (505.9591812134952, 982.6543671212276), (504.88438136636796, 987.8165137652703), (506.4665668468609, 985.4049575065326), (504.34693349072336, 988.1487465289395), (506.6256908882833, 990.1658016786777), array([nan, nan]), (506.30640773498794, 996.8566513317171), array([nan, nan]), (506.3905338386073, 995.5299885670524), (508.4995316518284, 980.0413359469427), (504.27225952329843, 980.8869882640091), (497.9736593918519, 985.9463531137911), (497.4925320438708, 984.470932042678), (496.3183467776745, 988.1602852882846), (499.0695741236523, 986.0093410701937), (499.0109273590548, 985.6992474435403), (501.33792429759797, 992.7846749391421), (497.6009369912076, 996.7101634434684), (496.42326194337454, 992.0495300303369), (489.7999868898987, 1000.8691923107692), (492.062887390388, 1003.3812521622663), (488.44540501820643, 998.3380139810783), (485.3761180477723, 1007.9228849903527), (488.8111684058672, 1010.9887141690654), (490.274717300343, 1010.3634306383497), (496.1647589177684, 1014.3858798276642), (493.94686483246574, 1017.0723492328134), (458.0107470666423, 1032.5452594679778), (457.85201877557114, 1033.0806554059827), (458.6412292916839, 1032.543962753011), (458.28979077122744, 1032.6379761795365), (457.97663505556307, 1032.969710282238)]\n",
      "liste des positions frame 54:[[489.3027163676021, 954.7116585704371], (477.5488489796354, 941.6662539267068), (477.81450601179085, 942.2997181437652), (478.28436608359624, 947.1860182222795), (481.6696853656077, 953.972354354947), (490.97819008774434, 955.4555612110119), (490.64851164169374, 957.9493905084935), (490.7733945308728, 965.188534628132), (493.40739737506624, 959.880154647234), (491.1392159914303, 959.5231998986732), (493.23530923892656, 965.4687417362859), (486.4010596287751, 963.3331328172565), (487.503623268095, 953.5063829017386), (482.6759840856909, 960.0394284607518), (483.3365511259079, 961.1477804562006), (481.12129752121575, 957.1299285244412), (484.7643260281535, 955.4572020688153), (490.1386299544024, 957.8880035364499), (509.2145087891332, 966.0314846035378), (503.5942122855869, 965.675264732725), (501.2699963978017, 981.0283675800367), (503.83730419961944, 980.2496308714224), (505.9591812134952, 982.6543671212276), (504.88438136636796, 987.8165137652703), (506.4665668468609, 985.4049575065326), (504.34693349072336, 988.1487465289395), (506.6256908882833, 990.1658016786777), array([nan, nan]), (506.30640773498794, 996.8566513317171), array([nan, nan]), (506.3905338386073, 995.5299885670524), (508.4995316518284, 980.0413359469427), (504.27225952329843, 980.8869882640091), (497.9736593918519, 985.9463531137911), (497.4925320438708, 984.470932042678), (496.3183467776745, 988.1602852882846), (499.0695741236523, 986.0093410701937), (499.0109273590548, 985.6992474435403), (501.33792429759797, 992.7846749391421), (497.6009369912076, 996.7101634434684), (496.42326194337454, 992.0495300303369), (489.7999868898987, 1000.8691923107692), (492.062887390388, 1003.3812521622663), (488.44540501820643, 998.3380139810783), (485.3761180477723, 1007.9228849903527), (488.8111684058672, 1010.9887141690654), (490.274717300343, 1010.3634306383497), (496.1647589177684, 1014.3858798276642), (493.94686483246574, 1017.0723492328134), (458.0107470666423, 1032.5452594679778), (457.85201877557114, 1033.0806554059827), (458.6412292916839, 1032.543962753011), (458.28979077122744, 1032.6379761795365), (457.97663505556307, 1032.969710282238), (458.86979310700053, 1033.4990772468611)]\n",
      "liste des positions frame 55:[[489.3027163676021, 954.7116585704371], (477.5488489796354, 941.6662539267068), (477.81450601179085, 942.2997181437652), (478.28436608359624, 947.1860182222795), (481.6696853656077, 953.972354354947), (490.97819008774434, 955.4555612110119), (490.64851164169374, 957.9493905084935), (490.7733945308728, 965.188534628132), (493.40739737506624, 959.880154647234), (491.1392159914303, 959.5231998986732), (493.23530923892656, 965.4687417362859), (486.4010596287751, 963.3331328172565), (487.503623268095, 953.5063829017386), (482.6759840856909, 960.0394284607518), (483.3365511259079, 961.1477804562006), (481.12129752121575, 957.1299285244412), (484.7643260281535, 955.4572020688153), (490.1386299544024, 957.8880035364499), (509.2145087891332, 966.0314846035378), (503.5942122855869, 965.675264732725), (501.2699963978017, 981.0283675800367), (503.83730419961944, 980.2496308714224), (505.9591812134952, 982.6543671212276), (504.88438136636796, 987.8165137652703), (506.4665668468609, 985.4049575065326), (504.34693349072336, 988.1487465289395), (506.6256908882833, 990.1658016786777), array([nan, nan]), (506.30640773498794, 996.8566513317171), array([nan, nan]), (506.3905338386073, 995.5299885670524), (508.4995316518284, 980.0413359469427), (504.27225952329843, 980.8869882640091), (497.9736593918519, 985.9463531137911), (497.4925320438708, 984.470932042678), (496.3183467776745, 988.1602852882846), (499.0695741236523, 986.0093410701937), (499.0109273590548, 985.6992474435403), (501.33792429759797, 992.7846749391421), (497.6009369912076, 996.7101634434684), (496.42326194337454, 992.0495300303369), (489.7999868898987, 1000.8691923107692), (492.062887390388, 1003.3812521622663), (488.44540501820643, 998.3380139810783), (485.3761180477723, 1007.9228849903527), (488.8111684058672, 1010.9887141690654), (490.274717300343, 1010.3634306383497), (496.1647589177684, 1014.3858798276642), (493.94686483246574, 1017.0723492328134), (458.0107470666423, 1032.5452594679778), (457.85201877557114, 1033.0806554059827), (458.6412292916839, 1032.543962753011), (458.28979077122744, 1032.6379761795365), (457.97663505556307, 1032.969710282238), (458.86979310700053, 1033.4990772468611), (458.49441952836554, 1032.9228029191463)]\n",
      "liste des positions frame 56:[[489.3027163676021, 954.7116585704371], (477.5488489796354, 941.6662539267068), (477.81450601179085, 942.2997181437652), (478.28436608359624, 947.1860182222795), (481.6696853656077, 953.972354354947), (490.97819008774434, 955.4555612110119), (490.64851164169374, 957.9493905084935), (490.7733945308728, 965.188534628132), (493.40739737506624, 959.880154647234), (491.1392159914303, 959.5231998986732), (493.23530923892656, 965.4687417362859), (486.4010596287751, 963.3331328172565), (487.503623268095, 953.5063829017386), (482.6759840856909, 960.0394284607518), (483.3365511259079, 961.1477804562006), (481.12129752121575, 957.1299285244412), (484.7643260281535, 955.4572020688153), (490.1386299544024, 957.8880035364499), (509.2145087891332, 966.0314846035378), (503.5942122855869, 965.675264732725), (501.2699963978017, 981.0283675800367), (503.83730419961944, 980.2496308714224), (505.9591812134952, 982.6543671212276), (504.88438136636796, 987.8165137652703), (506.4665668468609, 985.4049575065326), (504.34693349072336, 988.1487465289395), (506.6256908882833, 990.1658016786777), array([nan, nan]), (506.30640773498794, 996.8566513317171), array([nan, nan]), (506.3905338386073, 995.5299885670524), (508.4995316518284, 980.0413359469427), (504.27225952329843, 980.8869882640091), (497.9736593918519, 985.9463531137911), (497.4925320438708, 984.470932042678), (496.3183467776745, 988.1602852882846), (499.0695741236523, 986.0093410701937), (499.0109273590548, 985.6992474435403), (501.33792429759797, 992.7846749391421), (497.6009369912076, 996.7101634434684), (496.42326194337454, 992.0495300303369), (489.7999868898987, 1000.8691923107692), (492.062887390388, 1003.3812521622663), (488.44540501820643, 998.3380139810783), (485.3761180477723, 1007.9228849903527), (488.8111684058672, 1010.9887141690654), (490.274717300343, 1010.3634306383497), (496.1647589177684, 1014.3858798276642), (493.94686483246574, 1017.0723492328134), (458.0107470666423, 1032.5452594679778), (457.85201877557114, 1033.0806554059827), (458.6412292916839, 1032.543962753011), (458.28979077122744, 1032.6379761795365), (457.97663505556307, 1032.969710282238), (458.86979310700053, 1033.4990772468611), (458.49441952836554, 1032.9228029191463), (458.1487847323833, 1033.3554002059018)]\n",
      "liste des positions frame 57:[[489.3027163676021, 954.7116585704371], (477.5488489796354, 941.6662539267068), (477.81450601179085, 942.2997181437652), (478.28436608359624, 947.1860182222795), (481.6696853656077, 953.972354354947), (490.97819008774434, 955.4555612110119), (490.64851164169374, 957.9493905084935), (490.7733945308728, 965.188534628132), (493.40739737506624, 959.880154647234), (491.1392159914303, 959.5231998986732), (493.23530923892656, 965.4687417362859), (486.4010596287751, 963.3331328172565), (487.503623268095, 953.5063829017386), (482.6759840856909, 960.0394284607518), (483.3365511259079, 961.1477804562006), (481.12129752121575, 957.1299285244412), (484.7643260281535, 955.4572020688153), (490.1386299544024, 957.8880035364499), (509.2145087891332, 966.0314846035378), (503.5942122855869, 965.675264732725), (501.2699963978017, 981.0283675800367), (503.83730419961944, 980.2496308714224), (505.9591812134952, 982.6543671212276), (504.88438136636796, 987.8165137652703), (506.4665668468609, 985.4049575065326), (504.34693349072336, 988.1487465289395), (506.6256908882833, 990.1658016786777), array([nan, nan]), (506.30640773498794, 996.8566513317171), array([nan, nan]), (506.3905338386073, 995.5299885670524), (508.4995316518284, 980.0413359469427), (504.27225952329843, 980.8869882640091), (497.9736593918519, 985.9463531137911), (497.4925320438708, 984.470932042678), (496.3183467776745, 988.1602852882846), (499.0695741236523, 986.0093410701937), (499.0109273590548, 985.6992474435403), (501.33792429759797, 992.7846749391421), (497.6009369912076, 996.7101634434684), (496.42326194337454, 992.0495300303369), (489.7999868898987, 1000.8691923107692), (492.062887390388, 1003.3812521622663), (488.44540501820643, 998.3380139810783), (485.3761180477723, 1007.9228849903527), (488.8111684058672, 1010.9887141690654), (490.274717300343, 1010.3634306383497), (496.1647589177684, 1014.3858798276642), (493.94686483246574, 1017.0723492328134), (458.0107470666423, 1032.5452594679778), (457.85201877557114, 1033.0806554059827), (458.6412292916839, 1032.543962753011), (458.28979077122744, 1032.6379761795365), (457.97663505556307, 1032.969710282238), (458.86979310700053, 1033.4990772468611), (458.49441952836554, 1032.9228029191463), (458.1487847323833, 1033.3554002059018), (458.17333127721486, 1032.5569335934342)]\n",
      "liste des positions frame 58:[[489.3027163676021, 954.7116585704371], (477.5488489796354, 941.6662539267068), (477.81450601179085, 942.2997181437652), (478.28436608359624, 947.1860182222795), (481.6696853656077, 953.972354354947), (490.97819008774434, 955.4555612110119), (490.64851164169374, 957.9493905084935), (490.7733945308728, 965.188534628132), (493.40739737506624, 959.880154647234), (491.1392159914303, 959.5231998986732), (493.23530923892656, 965.4687417362859), (486.4010596287751, 963.3331328172565), (487.503623268095, 953.5063829017386), (482.6759840856909, 960.0394284607518), (483.3365511259079, 961.1477804562006), (481.12129752121575, 957.1299285244412), (484.7643260281535, 955.4572020688153), (490.1386299544024, 957.8880035364499), (509.2145087891332, 966.0314846035378), (503.5942122855869, 965.675264732725), (501.2699963978017, 981.0283675800367), (503.83730419961944, 980.2496308714224), (505.9591812134952, 982.6543671212276), (504.88438136636796, 987.8165137652703), (506.4665668468609, 985.4049575065326), (504.34693349072336, 988.1487465289395), (506.6256908882833, 990.1658016786777), array([nan, nan]), (506.30640773498794, 996.8566513317171), array([nan, nan]), (506.3905338386073, 995.5299885670524), (508.4995316518284, 980.0413359469427), (504.27225952329843, 980.8869882640091), (497.9736593918519, 985.9463531137911), (497.4925320438708, 984.470932042678), (496.3183467776745, 988.1602852882846), (499.0695741236523, 986.0093410701937), (499.0109273590548, 985.6992474435403), (501.33792429759797, 992.7846749391421), (497.6009369912076, 996.7101634434684), (496.42326194337454, 992.0495300303369), (489.7999868898987, 1000.8691923107692), (492.062887390388, 1003.3812521622663), (488.44540501820643, 998.3380139810783), (485.3761180477723, 1007.9228849903527), (488.8111684058672, 1010.9887141690654), (490.274717300343, 1010.3634306383497), (496.1647589177684, 1014.3858798276642), (493.94686483246574, 1017.0723492328134), (458.0107470666423, 1032.5452594679778), (457.85201877557114, 1033.0806554059827), (458.6412292916839, 1032.543962753011), (458.28979077122744, 1032.6379761795365), (457.97663505556307, 1032.969710282238), (458.86979310700053, 1033.4990772468611), (458.49441952836554, 1032.9228029191463), (458.1487847323833, 1033.3554002059018), (458.17333127721486, 1032.5569335934342), (458.17273717487313, 1032.633134544871)]\n",
      "liste des positions frame 59:[[489.3027163676021, 954.7116585704371], (477.5488489796354, 941.6662539267068), (477.81450601179085, 942.2997181437652), (478.28436608359624, 947.1860182222795), (481.6696853656077, 953.972354354947), (490.97819008774434, 955.4555612110119), (490.64851164169374, 957.9493905084935), (490.7733945308728, 965.188534628132), (493.40739737506624, 959.880154647234), (491.1392159914303, 959.5231998986732), (493.23530923892656, 965.4687417362859), (486.4010596287751, 963.3331328172565), (487.503623268095, 953.5063829017386), (482.6759840856909, 960.0394284607518), (483.3365511259079, 961.1477804562006), (481.12129752121575, 957.1299285244412), (484.7643260281535, 955.4572020688153), (490.1386299544024, 957.8880035364499), (509.2145087891332, 966.0314846035378), (503.5942122855869, 965.675264732725), (501.2699963978017, 981.0283675800367), (503.83730419961944, 980.2496308714224), (505.9591812134952, 982.6543671212276), (504.88438136636796, 987.8165137652703), (506.4665668468609, 985.4049575065326), (504.34693349072336, 988.1487465289395), (506.6256908882833, 990.1658016786777), array([nan, nan]), (506.30640773498794, 996.8566513317171), array([nan, nan]), (506.3905338386073, 995.5299885670524), (508.4995316518284, 980.0413359469427), (504.27225952329843, 980.8869882640091), (497.9736593918519, 985.9463531137911), (497.4925320438708, 984.470932042678), (496.3183467776745, 988.1602852882846), (499.0695741236523, 986.0093410701937), (499.0109273590548, 985.6992474435403), (501.33792429759797, 992.7846749391421), (497.6009369912076, 996.7101634434684), (496.42326194337454, 992.0495300303369), (489.7999868898987, 1000.8691923107692), (492.062887390388, 1003.3812521622663), (488.44540501820643, 998.3380139810783), (485.3761180477723, 1007.9228849903527), (488.8111684058672, 1010.9887141690654), (490.274717300343, 1010.3634306383497), (496.1647589177684, 1014.3858798276642), (493.94686483246574, 1017.0723492328134), (458.0107470666423, 1032.5452594679778), (457.85201877557114, 1033.0806554059827), (458.6412292916839, 1032.543962753011), (458.28979077122744, 1032.6379761795365), (457.97663505556307, 1032.969710282238), (458.86979310700053, 1033.4990772468611), (458.49441952836554, 1032.9228029191463), (458.1487847323833, 1033.3554002059018), (458.17333127721486, 1032.5569335934342), (458.17273717487313, 1032.633134544871), (457.839109775977, 1032.9697342098032)]\n",
      "liste des positions frame 60:[[489.3027163676021, 954.7116585704371], (477.5488489796354, 941.6662539267068), (477.81450601179085, 942.2997181437652), (478.28436608359624, 947.1860182222795), (481.6696853656077, 953.972354354947), (490.97819008774434, 955.4555612110119), (490.64851164169374, 957.9493905084935), (490.7733945308728, 965.188534628132), (493.40739737506624, 959.880154647234), (491.1392159914303, 959.5231998986732), (493.23530923892656, 965.4687417362859), (486.4010596287751, 963.3331328172565), (487.503623268095, 953.5063829017386), (482.6759840856909, 960.0394284607518), (483.3365511259079, 961.1477804562006), (481.12129752121575, 957.1299285244412), (484.7643260281535, 955.4572020688153), (490.1386299544024, 957.8880035364499), (509.2145087891332, 966.0314846035378), (503.5942122855869, 965.675264732725), (501.2699963978017, 981.0283675800367), (503.83730419961944, 980.2496308714224), (505.9591812134952, 982.6543671212276), (504.88438136636796, 987.8165137652703), (506.4665668468609, 985.4049575065326), (504.34693349072336, 988.1487465289395), (506.6256908882833, 990.1658016786777), array([nan, nan]), (506.30640773498794, 996.8566513317171), array([nan, nan]), (506.3905338386073, 995.5299885670524), (508.4995316518284, 980.0413359469427), (504.27225952329843, 980.8869882640091), (497.9736593918519, 985.9463531137911), (497.4925320438708, 984.470932042678), (496.3183467776745, 988.1602852882846), (499.0695741236523, 986.0093410701937), (499.0109273590548, 985.6992474435403), (501.33792429759797, 992.7846749391421), (497.6009369912076, 996.7101634434684), (496.42326194337454, 992.0495300303369), (489.7999868898987, 1000.8691923107692), (492.062887390388, 1003.3812521622663), (488.44540501820643, 998.3380139810783), (485.3761180477723, 1007.9228849903527), (488.8111684058672, 1010.9887141690654), (490.274717300343, 1010.3634306383497), (496.1647589177684, 1014.3858798276642), (493.94686483246574, 1017.0723492328134), (458.0107470666423, 1032.5452594679778), (457.85201877557114, 1033.0806554059827), (458.6412292916839, 1032.543962753011), (458.28979077122744, 1032.6379761795365), (457.97663505556307, 1032.969710282238), (458.86979310700053, 1033.4990772468611), (458.49441952836554, 1032.9228029191463), (458.1487847323833, 1033.3554002059018), (458.17333127721486, 1032.5569335934342), (458.17273717487313, 1032.633134544871), (457.839109775977, 1032.9697342098032), (458.60363868062296, 1032.6845569669308)]\n",
      "frames vide:61\n",
      "liste des positions frame 61:[[489.3027163676021, 954.7116585704371], (477.5488489796354, 941.6662539267068), (477.81450601179085, 942.2997181437652), (478.28436608359624, 947.1860182222795), (481.6696853656077, 953.972354354947), (490.97819008774434, 955.4555612110119), (490.64851164169374, 957.9493905084935), (490.7733945308728, 965.188534628132), (493.40739737506624, 959.880154647234), (491.1392159914303, 959.5231998986732), (493.23530923892656, 965.4687417362859), (486.4010596287751, 963.3331328172565), (487.503623268095, 953.5063829017386), (482.6759840856909, 960.0394284607518), (483.3365511259079, 961.1477804562006), (481.12129752121575, 957.1299285244412), (484.7643260281535, 955.4572020688153), (490.1386299544024, 957.8880035364499), (509.2145087891332, 966.0314846035378), (503.5942122855869, 965.675264732725), (501.2699963978017, 981.0283675800367), (503.83730419961944, 980.2496308714224), (505.9591812134952, 982.6543671212276), (504.88438136636796, 987.8165137652703), (506.4665668468609, 985.4049575065326), (504.34693349072336, 988.1487465289395), (506.6256908882833, 990.1658016786777), array([nan, nan]), (506.30640773498794, 996.8566513317171), array([nan, nan]), (506.3905338386073, 995.5299885670524), (508.4995316518284, 980.0413359469427), (504.27225952329843, 980.8869882640091), (497.9736593918519, 985.9463531137911), (497.4925320438708, 984.470932042678), (496.3183467776745, 988.1602852882846), (499.0695741236523, 986.0093410701937), (499.0109273590548, 985.6992474435403), (501.33792429759797, 992.7846749391421), (497.6009369912076, 996.7101634434684), (496.42326194337454, 992.0495300303369), (489.7999868898987, 1000.8691923107692), (492.062887390388, 1003.3812521622663), (488.44540501820643, 998.3380139810783), (485.3761180477723, 1007.9228849903527), (488.8111684058672, 1010.9887141690654), (490.274717300343, 1010.3634306383497), (496.1647589177684, 1014.3858798276642), (493.94686483246574, 1017.0723492328134), (458.0107470666423, 1032.5452594679778), (457.85201877557114, 1033.0806554059827), (458.6412292916839, 1032.543962753011), (458.28979077122744, 1032.6379761795365), (457.97663505556307, 1032.969710282238), (458.86979310700053, 1033.4990772468611), (458.49441952836554, 1032.9228029191463), (458.1487847323833, 1033.3554002059018), (458.17333127721486, 1032.5569335934342), (458.17273717487313, 1032.633134544871), (457.839109775977, 1032.9697342098032), (458.60363868062296, 1032.6845569669308), array([nan, nan])]\n",
      "liste des positions frame 62:[[489.3027163676021, 954.7116585704371], (477.5488489796354, 941.6662539267068), (477.81450601179085, 942.2997181437652), (478.28436608359624, 947.1860182222795), (481.6696853656077, 953.972354354947), (490.97819008774434, 955.4555612110119), (490.64851164169374, 957.9493905084935), (490.7733945308728, 965.188534628132), (493.40739737506624, 959.880154647234), (491.1392159914303, 959.5231998986732), (493.23530923892656, 965.4687417362859), (486.4010596287751, 963.3331328172565), (487.503623268095, 953.5063829017386), (482.6759840856909, 960.0394284607518), (483.3365511259079, 961.1477804562006), (481.12129752121575, 957.1299285244412), (484.7643260281535, 955.4572020688153), (490.1386299544024, 957.8880035364499), (509.2145087891332, 966.0314846035378), (503.5942122855869, 965.675264732725), (501.2699963978017, 981.0283675800367), (503.83730419961944, 980.2496308714224), (505.9591812134952, 982.6543671212276), (504.88438136636796, 987.8165137652703), (506.4665668468609, 985.4049575065326), (504.34693349072336, 988.1487465289395), (506.6256908882833, 990.1658016786777), array([nan, nan]), (506.30640773498794, 996.8566513317171), array([nan, nan]), (506.3905338386073, 995.5299885670524), (508.4995316518284, 980.0413359469427), (504.27225952329843, 980.8869882640091), (497.9736593918519, 985.9463531137911), (497.4925320438708, 984.470932042678), (496.3183467776745, 988.1602852882846), (499.0695741236523, 986.0093410701937), (499.0109273590548, 985.6992474435403), (501.33792429759797, 992.7846749391421), (497.6009369912076, 996.7101634434684), (496.42326194337454, 992.0495300303369), (489.7999868898987, 1000.8691923107692), (492.062887390388, 1003.3812521622663), (488.44540501820643, 998.3380139810783), (485.3761180477723, 1007.9228849903527), (488.8111684058672, 1010.9887141690654), (490.274717300343, 1010.3634306383497), (496.1647589177684, 1014.3858798276642), (493.94686483246574, 1017.0723492328134), (458.0107470666423, 1032.5452594679778), (457.85201877557114, 1033.0806554059827), (458.6412292916839, 1032.543962753011), (458.28979077122744, 1032.6379761795365), (457.97663505556307, 1032.969710282238), (458.86979310700053, 1033.4990772468611), (458.49441952836554, 1032.9228029191463), (458.1487847323833, 1033.3554002059018), (458.17333127721486, 1032.5569335934342), (458.17273717487313, 1032.633134544871), (457.839109775977, 1032.9697342098032), (458.60363868062296, 1032.6845569669308), array([nan, nan]), (458.27065317971477, 1033.0416206770944)]\n",
      "liste des positions frame 63:[[489.3027163676021, 954.7116585704371], (477.5488489796354, 941.6662539267068), (477.81450601179085, 942.2997181437652), (478.28436608359624, 947.1860182222795), (481.6696853656077, 953.972354354947), (490.97819008774434, 955.4555612110119), (490.64851164169374, 957.9493905084935), (490.7733945308728, 965.188534628132), (493.40739737506624, 959.880154647234), (491.1392159914303, 959.5231998986732), (493.23530923892656, 965.4687417362859), (486.4010596287751, 963.3331328172565), (487.503623268095, 953.5063829017386), (482.6759840856909, 960.0394284607518), (483.3365511259079, 961.1477804562006), (481.12129752121575, 957.1299285244412), (484.7643260281535, 955.4572020688153), (490.1386299544024, 957.8880035364499), (509.2145087891332, 966.0314846035378), (503.5942122855869, 965.675264732725), (501.2699963978017, 981.0283675800367), (503.83730419961944, 980.2496308714224), (505.9591812134952, 982.6543671212276), (504.88438136636796, 987.8165137652703), (506.4665668468609, 985.4049575065326), (504.34693349072336, 988.1487465289395), (506.6256908882833, 990.1658016786777), array([nan, nan]), (506.30640773498794, 996.8566513317171), array([nan, nan]), (506.3905338386073, 995.5299885670524), (508.4995316518284, 980.0413359469427), (504.27225952329843, 980.8869882640091), (497.9736593918519, 985.9463531137911), (497.4925320438708, 984.470932042678), (496.3183467776745, 988.1602852882846), (499.0695741236523, 986.0093410701937), (499.0109273590548, 985.6992474435403), (501.33792429759797, 992.7846749391421), (497.6009369912076, 996.7101634434684), (496.42326194337454, 992.0495300303369), (489.7999868898987, 1000.8691923107692), (492.062887390388, 1003.3812521622663), (488.44540501820643, 998.3380139810783), (485.3761180477723, 1007.9228849903527), (488.8111684058672, 1010.9887141690654), (490.274717300343, 1010.3634306383497), (496.1647589177684, 1014.3858798276642), (493.94686483246574, 1017.0723492328134), (458.0107470666423, 1032.5452594679778), (457.85201877557114, 1033.0806554059827), (458.6412292916839, 1032.543962753011), (458.28979077122744, 1032.6379761795365), (457.97663505556307, 1032.969710282238), (458.86979310700053, 1033.4990772468611), (458.49441952836554, 1032.9228029191463), (458.1487847323833, 1033.3554002059018), (458.17333127721486, 1032.5569335934342), (458.17273717487313, 1032.633134544871), (457.839109775977, 1032.9697342098032), (458.60363868062296, 1032.6845569669308), array([nan, nan]), (458.27065317971477, 1033.0416206770944), (458.0831368010888, 1032.4124068488475)]\n",
      "liste des positions frame 64:[[489.3027163676021, 954.7116585704371], (477.5488489796354, 941.6662539267068), (477.81450601179085, 942.2997181437652), (478.28436608359624, 947.1860182222795), (481.6696853656077, 953.972354354947), (490.97819008774434, 955.4555612110119), (490.64851164169374, 957.9493905084935), (490.7733945308728, 965.188534628132), (493.40739737506624, 959.880154647234), (491.1392159914303, 959.5231998986732), (493.23530923892656, 965.4687417362859), (486.4010596287751, 963.3331328172565), (487.503623268095, 953.5063829017386), (482.6759840856909, 960.0394284607518), (483.3365511259079, 961.1477804562006), (481.12129752121575, 957.1299285244412), (484.7643260281535, 955.4572020688153), (490.1386299544024, 957.8880035364499), (509.2145087891332, 966.0314846035378), (503.5942122855869, 965.675264732725), (501.2699963978017, 981.0283675800367), (503.83730419961944, 980.2496308714224), (505.9591812134952, 982.6543671212276), (504.88438136636796, 987.8165137652703), (506.4665668468609, 985.4049575065326), (504.34693349072336, 988.1487465289395), (506.6256908882833, 990.1658016786777), array([nan, nan]), (506.30640773498794, 996.8566513317171), array([nan, nan]), (506.3905338386073, 995.5299885670524), (508.4995316518284, 980.0413359469427), (504.27225952329843, 980.8869882640091), (497.9736593918519, 985.9463531137911), (497.4925320438708, 984.470932042678), (496.3183467776745, 988.1602852882846), (499.0695741236523, 986.0093410701937), (499.0109273590548, 985.6992474435403), (501.33792429759797, 992.7846749391421), (497.6009369912076, 996.7101634434684), (496.42326194337454, 992.0495300303369), (489.7999868898987, 1000.8691923107692), (492.062887390388, 1003.3812521622663), (488.44540501820643, 998.3380139810783), (485.3761180477723, 1007.9228849903527), (488.8111684058672, 1010.9887141690654), (490.274717300343, 1010.3634306383497), (496.1647589177684, 1014.3858798276642), (493.94686483246574, 1017.0723492328134), (458.0107470666423, 1032.5452594679778), (457.85201877557114, 1033.0806554059827), (458.6412292916839, 1032.543962753011), (458.28979077122744, 1032.6379761795365), (457.97663505556307, 1032.969710282238), (458.86979310700053, 1033.4990772468611), (458.49441952836554, 1032.9228029191463), (458.1487847323833, 1033.3554002059018), (458.17333127721486, 1032.5569335934342), (458.17273717487313, 1032.633134544871), (457.839109775977, 1032.9697342098032), (458.60363868062296, 1032.6845569669308), array([nan, nan]), (458.27065317971477, 1033.0416206770944), (458.0831368010888, 1032.4124068488475), (457.7511738287849, 1032.5736134563506)]\n",
      "liste des positions frame 65:[[489.3027163676021, 954.7116585704371], (477.5488489796354, 941.6662539267068), (477.81450601179085, 942.2997181437652), (478.28436608359624, 947.1860182222795), (481.6696853656077, 953.972354354947), (490.97819008774434, 955.4555612110119), (490.64851164169374, 957.9493905084935), (490.7733945308728, 965.188534628132), (493.40739737506624, 959.880154647234), (491.1392159914303, 959.5231998986732), (493.23530923892656, 965.4687417362859), (486.4010596287751, 963.3331328172565), (487.503623268095, 953.5063829017386), (482.6759840856909, 960.0394284607518), (483.3365511259079, 961.1477804562006), (481.12129752121575, 957.1299285244412), (484.7643260281535, 955.4572020688153), (490.1386299544024, 957.8880035364499), (509.2145087891332, 966.0314846035378), (503.5942122855869, 965.675264732725), (501.2699963978017, 981.0283675800367), (503.83730419961944, 980.2496308714224), (505.9591812134952, 982.6543671212276), (504.88438136636796, 987.8165137652703), (506.4665668468609, 985.4049575065326), (504.34693349072336, 988.1487465289395), (506.6256908882833, 990.1658016786777), array([nan, nan]), (506.30640773498794, 996.8566513317171), array([nan, nan]), (506.3905338386073, 995.5299885670524), (508.4995316518284, 980.0413359469427), (504.27225952329843, 980.8869882640091), (497.9736593918519, 985.9463531137911), (497.4925320438708, 984.470932042678), (496.3183467776745, 988.1602852882846), (499.0695741236523, 986.0093410701937), (499.0109273590548, 985.6992474435403), (501.33792429759797, 992.7846749391421), (497.6009369912076, 996.7101634434684), (496.42326194337454, 992.0495300303369), (489.7999868898987, 1000.8691923107692), (492.062887390388, 1003.3812521622663), (488.44540501820643, 998.3380139810783), (485.3761180477723, 1007.9228849903527), (488.8111684058672, 1010.9887141690654), (490.274717300343, 1010.3634306383497), (496.1647589177684, 1014.3858798276642), (493.94686483246574, 1017.0723492328134), (458.0107470666423, 1032.5452594679778), (457.85201877557114, 1033.0806554059827), (458.6412292916839, 1032.543962753011), (458.28979077122744, 1032.6379761795365), (457.97663505556307, 1032.969710282238), (458.86979310700053, 1033.4990772468611), (458.49441952836554, 1032.9228029191463), (458.1487847323833, 1033.3554002059018), (458.17333127721486, 1032.5569335934342), (458.17273717487313, 1032.633134544871), (457.839109775977, 1032.9697342098032), (458.60363868062296, 1032.6845569669308), array([nan, nan]), (458.27065317971477, 1033.0416206770944), (458.0831368010888, 1032.4124068488475), (457.7511738287849, 1032.5736134563506), (458.57848765750464, 1032.7298705161968)]\n",
      "liste des positions frame 66:[[489.3027163676021, 954.7116585704371], (477.5488489796354, 941.6662539267068), (477.81450601179085, 942.2997181437652), (478.28436608359624, 947.1860182222795), (481.6696853656077, 953.972354354947), (490.97819008774434, 955.4555612110119), (490.64851164169374, 957.9493905084935), (490.7733945308728, 965.188534628132), (493.40739737506624, 959.880154647234), (491.1392159914303, 959.5231998986732), (493.23530923892656, 965.4687417362859), (486.4010596287751, 963.3331328172565), (487.503623268095, 953.5063829017386), (482.6759840856909, 960.0394284607518), (483.3365511259079, 961.1477804562006), (481.12129752121575, 957.1299285244412), (484.7643260281535, 955.4572020688153), (490.1386299544024, 957.8880035364499), (509.2145087891332, 966.0314846035378), (503.5942122855869, 965.675264732725), (501.2699963978017, 981.0283675800367), (503.83730419961944, 980.2496308714224), (505.9591812134952, 982.6543671212276), (504.88438136636796, 987.8165137652703), (506.4665668468609, 985.4049575065326), (504.34693349072336, 988.1487465289395), (506.6256908882833, 990.1658016786777), array([nan, nan]), (506.30640773498794, 996.8566513317171), array([nan, nan]), (506.3905338386073, 995.5299885670524), (508.4995316518284, 980.0413359469427), (504.27225952329843, 980.8869882640091), (497.9736593918519, 985.9463531137911), (497.4925320438708, 984.470932042678), (496.3183467776745, 988.1602852882846), (499.0695741236523, 986.0093410701937), (499.0109273590548, 985.6992474435403), (501.33792429759797, 992.7846749391421), (497.6009369912076, 996.7101634434684), (496.42326194337454, 992.0495300303369), (489.7999868898987, 1000.8691923107692), (492.062887390388, 1003.3812521622663), (488.44540501820643, 998.3380139810783), (485.3761180477723, 1007.9228849903527), (488.8111684058672, 1010.9887141690654), (490.274717300343, 1010.3634306383497), (496.1647589177684, 1014.3858798276642), (493.94686483246574, 1017.0723492328134), (458.0107470666423, 1032.5452594679778), (457.85201877557114, 1033.0806554059827), (458.6412292916839, 1032.543962753011), (458.28979077122744, 1032.6379761795365), (457.97663505556307, 1032.969710282238), (458.86979310700053, 1033.4990772468611), (458.49441952836554, 1032.9228029191463), (458.1487847323833, 1033.3554002059018), (458.17333127721486, 1032.5569335934342), (458.17273717487313, 1032.633134544871), (457.839109775977, 1032.9697342098032), (458.60363868062296, 1032.6845569669308), array([nan, nan]), (458.27065317971477, 1033.0416206770944), (458.0831368010888, 1032.4124068488475), (457.7511738287849, 1032.5736134563506), (458.57848765750464, 1032.7298705161968), (458.63645201597603, 1033.0048022324204)]\n",
      "liste des positions frame 67:[[489.3027163676021, 954.7116585704371], (477.5488489796354, 941.6662539267068), (477.81450601179085, 942.2997181437652), (478.28436608359624, 947.1860182222795), (481.6696853656077, 953.972354354947), (490.97819008774434, 955.4555612110119), (490.64851164169374, 957.9493905084935), (490.7733945308728, 965.188534628132), (493.40739737506624, 959.880154647234), (491.1392159914303, 959.5231998986732), (493.23530923892656, 965.4687417362859), (486.4010596287751, 963.3331328172565), (487.503623268095, 953.5063829017386), (482.6759840856909, 960.0394284607518), (483.3365511259079, 961.1477804562006), (481.12129752121575, 957.1299285244412), (484.7643260281535, 955.4572020688153), (490.1386299544024, 957.8880035364499), (509.2145087891332, 966.0314846035378), (503.5942122855869, 965.675264732725), (501.2699963978017, 981.0283675800367), (503.83730419961944, 980.2496308714224), (505.9591812134952, 982.6543671212276), (504.88438136636796, 987.8165137652703), (506.4665668468609, 985.4049575065326), (504.34693349072336, 988.1487465289395), (506.6256908882833, 990.1658016786777), array([nan, nan]), (506.30640773498794, 996.8566513317171), array([nan, nan]), (506.3905338386073, 995.5299885670524), (508.4995316518284, 980.0413359469427), (504.27225952329843, 980.8869882640091), (497.9736593918519, 985.9463531137911), (497.4925320438708, 984.470932042678), (496.3183467776745, 988.1602852882846), (499.0695741236523, 986.0093410701937), (499.0109273590548, 985.6992474435403), (501.33792429759797, 992.7846749391421), (497.6009369912076, 996.7101634434684), (496.42326194337454, 992.0495300303369), (489.7999868898987, 1000.8691923107692), (492.062887390388, 1003.3812521622663), (488.44540501820643, 998.3380139810783), (485.3761180477723, 1007.9228849903527), (488.8111684058672, 1010.9887141690654), (490.274717300343, 1010.3634306383497), (496.1647589177684, 1014.3858798276642), (493.94686483246574, 1017.0723492328134), (458.0107470666423, 1032.5452594679778), (457.85201877557114, 1033.0806554059827), (458.6412292916839, 1032.543962753011), (458.28979077122744, 1032.6379761795365), (457.97663505556307, 1032.969710282238), (458.86979310700053, 1033.4990772468611), (458.49441952836554, 1032.9228029191463), (458.1487847323833, 1033.3554002059018), (458.17333127721486, 1032.5569335934342), (458.17273717487313, 1032.633134544871), (457.839109775977, 1032.9697342098032), (458.60363868062296, 1032.6845569669308), array([nan, nan]), (458.27065317971477, 1033.0416206770944), (458.0831368010888, 1032.4124068488475), (457.7511738287849, 1032.5736134563506), (458.57848765750464, 1032.7298705161968), (458.63645201597603, 1033.0048022324204), (458.1520162897817, 1032.4481073458753)]\n",
      "liste des positions frame 68:[[489.3027163676021, 954.7116585704371], (477.5488489796354, 941.6662539267068), (477.81450601179085, 942.2997181437652), (478.28436608359624, 947.1860182222795), (481.6696853656077, 953.972354354947), (490.97819008774434, 955.4555612110119), (490.64851164169374, 957.9493905084935), (490.7733945308728, 965.188534628132), (493.40739737506624, 959.880154647234), (491.1392159914303, 959.5231998986732), (493.23530923892656, 965.4687417362859), (486.4010596287751, 963.3331328172565), (487.503623268095, 953.5063829017386), (482.6759840856909, 960.0394284607518), (483.3365511259079, 961.1477804562006), (481.12129752121575, 957.1299285244412), (484.7643260281535, 955.4572020688153), (490.1386299544024, 957.8880035364499), (509.2145087891332, 966.0314846035378), (503.5942122855869, 965.675264732725), (501.2699963978017, 981.0283675800367), (503.83730419961944, 980.2496308714224), (505.9591812134952, 982.6543671212276), (504.88438136636796, 987.8165137652703), (506.4665668468609, 985.4049575065326), (504.34693349072336, 988.1487465289395), (506.6256908882833, 990.1658016786777), array([nan, nan]), (506.30640773498794, 996.8566513317171), array([nan, nan]), (506.3905338386073, 995.5299885670524), (508.4995316518284, 980.0413359469427), (504.27225952329843, 980.8869882640091), (497.9736593918519, 985.9463531137911), (497.4925320438708, 984.470932042678), (496.3183467776745, 988.1602852882846), (499.0695741236523, 986.0093410701937), (499.0109273590548, 985.6992474435403), (501.33792429759797, 992.7846749391421), (497.6009369912076, 996.7101634434684), (496.42326194337454, 992.0495300303369), (489.7999868898987, 1000.8691923107692), (492.062887390388, 1003.3812521622663), (488.44540501820643, 998.3380139810783), (485.3761180477723, 1007.9228849903527), (488.8111684058672, 1010.9887141690654), (490.274717300343, 1010.3634306383497), (496.1647589177684, 1014.3858798276642), (493.94686483246574, 1017.0723492328134), (458.0107470666423, 1032.5452594679778), (457.85201877557114, 1033.0806554059827), (458.6412292916839, 1032.543962753011), (458.28979077122744, 1032.6379761795365), (457.97663505556307, 1032.969710282238), (458.86979310700053, 1033.4990772468611), (458.49441952836554, 1032.9228029191463), (458.1487847323833, 1033.3554002059018), (458.17333127721486, 1032.5569335934342), (458.17273717487313, 1032.633134544871), (457.839109775977, 1032.9697342098032), (458.60363868062296, 1032.6845569669308), array([nan, nan]), (458.27065317971477, 1033.0416206770944), (458.0831368010888, 1032.4124068488475), (457.7511738287849, 1032.5736134563506), (458.57848765750464, 1032.7298705161968), (458.63645201597603, 1033.0048022324204), (458.1520162897817, 1032.4481073458753), (458.11979378848076, 1032.8005151777415)]\n",
      "liste des positions frame 69:[[489.3027163676021, 954.7116585704371], (477.5488489796354, 941.6662539267068), (477.81450601179085, 942.2997181437652), (478.28436608359624, 947.1860182222795), (481.6696853656077, 953.972354354947), (490.97819008774434, 955.4555612110119), (490.64851164169374, 957.9493905084935), (490.7733945308728, 965.188534628132), (493.40739737506624, 959.880154647234), (491.1392159914303, 959.5231998986732), (493.23530923892656, 965.4687417362859), (486.4010596287751, 963.3331328172565), (487.503623268095, 953.5063829017386), (482.6759840856909, 960.0394284607518), (483.3365511259079, 961.1477804562006), (481.12129752121575, 957.1299285244412), (484.7643260281535, 955.4572020688153), (490.1386299544024, 957.8880035364499), (509.2145087891332, 966.0314846035378), (503.5942122855869, 965.675264732725), (501.2699963978017, 981.0283675800367), (503.83730419961944, 980.2496308714224), (505.9591812134952, 982.6543671212276), (504.88438136636796, 987.8165137652703), (506.4665668468609, 985.4049575065326), (504.34693349072336, 988.1487465289395), (506.6256908882833, 990.1658016786777), array([nan, nan]), (506.30640773498794, 996.8566513317171), array([nan, nan]), (506.3905338386073, 995.5299885670524), (508.4995316518284, 980.0413359469427), (504.27225952329843, 980.8869882640091), (497.9736593918519, 985.9463531137911), (497.4925320438708, 984.470932042678), (496.3183467776745, 988.1602852882846), (499.0695741236523, 986.0093410701937), (499.0109273590548, 985.6992474435403), (501.33792429759797, 992.7846749391421), (497.6009369912076, 996.7101634434684), (496.42326194337454, 992.0495300303369), (489.7999868898987, 1000.8691923107692), (492.062887390388, 1003.3812521622663), (488.44540501820643, 998.3380139810783), (485.3761180477723, 1007.9228849903527), (488.8111684058672, 1010.9887141690654), (490.274717300343, 1010.3634306383497), (496.1647589177684, 1014.3858798276642), (493.94686483246574, 1017.0723492328134), (458.0107470666423, 1032.5452594679778), (457.85201877557114, 1033.0806554059827), (458.6412292916839, 1032.543962753011), (458.28979077122744, 1032.6379761795365), (457.97663505556307, 1032.969710282238), (458.86979310700053, 1033.4990772468611), (458.49441952836554, 1032.9228029191463), (458.1487847323833, 1033.3554002059018), (458.17333127721486, 1032.5569335934342), (458.17273717487313, 1032.633134544871), (457.839109775977, 1032.9697342098032), (458.60363868062296, 1032.6845569669308), array([nan, nan]), (458.27065317971477, 1033.0416206770944), (458.0831368010888, 1032.4124068488475), (457.7511738287849, 1032.5736134563506), (458.57848765750464, 1032.7298705161968), (458.63645201597603, 1033.0048022324204), (458.1520162897817, 1032.4481073458753), (458.11979378848076, 1032.8005151777415), (457.934170840815, 1033.144029206377)]\n",
      "liste des positions frame 70:[[489.3027163676021, 954.7116585704371], (477.5488489796354, 941.6662539267068), (477.81450601179085, 942.2997181437652), (478.28436608359624, 947.1860182222795), (481.6696853656077, 953.972354354947), (490.97819008774434, 955.4555612110119), (490.64851164169374, 957.9493905084935), (490.7733945308728, 965.188534628132), (493.40739737506624, 959.880154647234), (491.1392159914303, 959.5231998986732), (493.23530923892656, 965.4687417362859), (486.4010596287751, 963.3331328172565), (487.503623268095, 953.5063829017386), (482.6759840856909, 960.0394284607518), (483.3365511259079, 961.1477804562006), (481.12129752121575, 957.1299285244412), (484.7643260281535, 955.4572020688153), (490.1386299544024, 957.8880035364499), (509.2145087891332, 966.0314846035378), (503.5942122855869, 965.675264732725), (501.2699963978017, 981.0283675800367), (503.83730419961944, 980.2496308714224), (505.9591812134952, 982.6543671212276), (504.88438136636796, 987.8165137652703), (506.4665668468609, 985.4049575065326), (504.34693349072336, 988.1487465289395), (506.6256908882833, 990.1658016786777), array([nan, nan]), (506.30640773498794, 996.8566513317171), array([nan, nan]), (506.3905338386073, 995.5299885670524), (508.4995316518284, 980.0413359469427), (504.27225952329843, 980.8869882640091), (497.9736593918519, 985.9463531137911), (497.4925320438708, 984.470932042678), (496.3183467776745, 988.1602852882846), (499.0695741236523, 986.0093410701937), (499.0109273590548, 985.6992474435403), (501.33792429759797, 992.7846749391421), (497.6009369912076, 996.7101634434684), (496.42326194337454, 992.0495300303369), (489.7999868898987, 1000.8691923107692), (492.062887390388, 1003.3812521622663), (488.44540501820643, 998.3380139810783), (485.3761180477723, 1007.9228849903527), (488.8111684058672, 1010.9887141690654), (490.274717300343, 1010.3634306383497), (496.1647589177684, 1014.3858798276642), (493.94686483246574, 1017.0723492328134), (458.0107470666423, 1032.5452594679778), (457.85201877557114, 1033.0806554059827), (458.6412292916839, 1032.543962753011), (458.28979077122744, 1032.6379761795365), (457.97663505556307, 1032.969710282238), (458.86979310700053, 1033.4990772468611), (458.49441952836554, 1032.9228029191463), (458.1487847323833, 1033.3554002059018), (458.17333127721486, 1032.5569335934342), (458.17273717487313, 1032.633134544871), (457.839109775977, 1032.9697342098032), (458.60363868062296, 1032.6845569669308), array([nan, nan]), (458.27065317971477, 1033.0416206770944), (458.0831368010888, 1032.4124068488475), (457.7511738287849, 1032.5736134563506), (458.57848765750464, 1032.7298705161968), (458.63645201597603, 1033.0048022324204), (458.1520162897817, 1032.4481073458753), (458.11979378848076, 1032.8005151777415), (457.934170840815, 1033.144029206377), (458.54698203287535, 1032.2471123527494)]\n"
     ]
    }
   ],
   "source": [
    "taille_initiale, luminosité_initiale, seuil = empreinte_digitale(crop(img,x,y,35,35))\n",
    "print(f'position initiale: {position_list}')\n",
    "\n",
    "for i in range(first_frame,actual_frames):\n",
    "    tiff.seek(i)\n",
    "    if np.sum(np.array(tiff))==0:\n",
    "        position_list.append(np.array([np.nan,np.nan]))\n",
    "        sigma_list.append(np.array([np.nan,np.nan]))\n",
    "        print(f'frames vide:{i}')\n",
    "    else:\n",
    "        data = particle_tracker(img, x, y, taille_initiale, luminosité_initiale, seuil)\n",
    "        position_list.append(data[2])\n",
    "        # x,y = position_list[i-first_frame+1] Valeur de First frame n'a pas d'impact apparemment\n",
    "        x,y = position_list[i]\n",
    "        sigma_list.append(data[3])\n",
    "        tiff.seek(i)\n",
    "        img = np.array(tiff)\n",
    "        big_frames.append(img)\n",
    "        crop_frames.append(data[1])\n",
    "    print(f'liste des positions frame {i}:{position_list}')\n",
    "    if is_within_bounds(position_list[-1]):\n",
    "        pass\n",
    "    else:\n",
    "        break\n",
    "    \n",
    "position_list=position_list[1:] #On ignore le premier point cliqué car incertitude non définie"
   ]
  },
  {
   "cell_type": "code",
   "execution_count": 48,
   "id": "b7a84351",
   "metadata": {},
   "outputs": [
    {
     "name": "stdout",
     "output_type": "stream",
     "text": [
      "[[8.78689882e-05 1.73266591e-04]\n",
      " [8.79178691e-05 1.73383148e-04]\n",
      " [8.80043234e-05 1.74282227e-04]\n",
      " [8.86272221e-05 1.75530913e-04]\n",
      " [9.03399870e-05 1.75803823e-04]\n",
      " [9.02793261e-05 1.76262688e-04]\n",
      " [9.03023046e-05 1.77594690e-04]\n",
      " [9.07869611e-05 1.76617948e-04]\n",
      " [9.03696157e-05 1.76552269e-04]\n",
      " [9.07552969e-05 1.77646248e-04]\n",
      " [8.94977950e-05 1.77253296e-04]\n",
      " [8.97006667e-05 1.75445174e-04]\n",
      " [8.88123811e-05 1.76647255e-04]\n",
      " [8.89339254e-05 1.76851192e-04]\n",
      " [8.85263187e-05 1.76111907e-04]\n",
      " [8.91966360e-05 1.75804125e-04]\n",
      " [9.01855079e-05 1.76251393e-04]\n",
      " [9.36954696e-05 1.77749793e-04]\n",
      " [9.26613351e-05 1.77684249e-04]\n",
      " [9.22336793e-05 1.80509220e-04]\n",
      " [9.27060640e-05 1.80365932e-04]\n",
      " [9.30964893e-05 1.80808404e-04]\n",
      " [9.28987262e-05 1.81758239e-04]\n",
      " [9.31898483e-05 1.81314512e-04]\n",
      " [9.27998358e-05 1.81819369e-04]\n",
      " [9.32191271e-05 1.82190508e-04]\n",
      " [           nan            nan]\n",
      " [9.31603790e-05 1.83421624e-04]\n",
      " [           nan            nan]\n",
      " [9.31758582e-05 1.83177518e-04]\n",
      " [9.35639138e-05 1.80327606e-04]\n",
      " [9.27860958e-05 1.80483206e-04]\n",
      " [9.16271533e-05 1.81414129e-04]\n",
      " [9.15386259e-05 1.81142651e-04]\n",
      " [9.13225758e-05 1.81821492e-04]\n",
      " [9.18288016e-05 1.81425719e-04]\n",
      " [9.18180106e-05 1.81368662e-04]\n",
      " [9.22461781e-05 1.82672380e-04]\n",
      " [9.15585724e-05 1.83394670e-04]\n",
      " [9.13418802e-05 1.82537114e-04]\n",
      " [9.01231976e-05 1.84159931e-04]\n",
      " [9.05395713e-05 1.84622150e-04]\n",
      " [8.98739545e-05 1.83694195e-04]\n",
      " [8.93092057e-05 1.85457811e-04]\n",
      " [8.99412550e-05 1.86021923e-04]\n",
      " [9.02105480e-05 1.85906871e-04]\n",
      " [9.12943156e-05 1.86647002e-04]\n",
      " [9.08862231e-05 1.87141312e-04]\n",
      " [8.42739775e-05 1.89988328e-04]\n",
      " [8.42447715e-05 1.90086841e-04]\n",
      " [8.43899862e-05 1.89988089e-04]\n",
      " [8.43253215e-05 1.90005388e-04]\n",
      " [8.42677009e-05 1.90066427e-04]\n",
      " [8.44320419e-05 1.90163830e-04]\n",
      " [8.43629732e-05 1.90057796e-04]\n",
      " [8.42993764e-05 1.90137394e-04]\n",
      " [8.43038930e-05 1.89990476e-04]\n",
      " [8.43037836e-05 1.90004497e-04]\n",
      " [8.42423962e-05 1.90066431e-04]\n",
      " [8.43830695e-05 1.90013958e-04]\n",
      " [           nan            nan]\n",
      " [8.43218002e-05 1.90079658e-04]\n",
      " [8.42872972e-05 1.89963883e-04]\n",
      " [8.42262160e-05 1.89993545e-04]\n",
      " [8.43784417e-05 1.90022296e-04]\n",
      " [8.43891072e-05 1.90072884e-04]\n",
      " [8.42999710e-05 1.89970452e-04]\n",
      " [8.42940421e-05 1.90035295e-04]\n",
      " [8.42598874e-05 1.90098501e-04]\n",
      " [8.43726447e-05 1.89933469e-04]]\n"
     ]
    }
   ],
   "source": [
    "pixel_size = 3.45 # Taille absolue\n",
    "f2 = 150  # Focale de L2\n",
    "M_theo = 20  # Magnification of the objective\n",
    "pxl = pixel_size / (f2 * M_theo / 160)  # Pixel size in um dans le plan de la particule\n",
    "\n",
    "sigma_arr=np.array(sigma_list)* pxl * 10**(-6)\n",
    "position_arr=np.array(position_list)* pxl * 10**(-6)\n",
    "print(position_arr)"
   ]
  },
  {
   "cell_type": "code",
   "execution_count": 49,
   "id": "3381e213",
   "metadata": {},
   "outputs": [
    {
     "data": {
      "text/plain": [
       "(array([1.83563871e-12, 3.65690390e-12, 5.45856019e-12, 7.54154599e-12,\n",
       "        9.50234489e-12, 1.16536292e-11, 1.37892487e-11, 1.57388561e-11,\n",
       "        1.84504315e-11, 2.02174315e-11, 2.31953667e-11, 2.56821416e-11,\n",
       "        2.81023024e-11, 3.11384420e-11, 3.50064886e-11, 3.93969348e-11,\n",
       "        4.39187536e-11, 4.78300176e-11, 5.24586857e-11, 5.46254252e-11,\n",
       "        5.80749840e-11, 6.10239550e-11, 6.36915422e-11, 6.64336878e-11,\n",
       "        7.01124679e-11, 7.39451078e-11, 8.02603924e-11, 8.37513650e-11,\n",
       "        8.97913711e-11, 9.41340355e-11, 1.01043294e-10, 1.09786937e-10,\n",
       "        1.11536923e-10, 1.19288372e-10, 1.19935746e-10, 1.25593480e-10,\n",
       "        1.30684707e-10, 1.36192659e-10, 1.40048322e-10, 1.44819148e-10,\n",
       "        1.51795412e-10, 1.60059366e-10, 1.68031579e-10, 1.81000569e-10,\n",
       "        1.87429713e-10, 1.95177073e-10, 2.02127335e-10, 2.08823027e-10,\n",
       "        2.09111832e-10, 2.13910417e-10, 2.16941252e-10, 2.15397286e-10,\n",
       "        2.13774285e-10, 2.14842441e-10, 2.11676566e-10, 2.10504729e-10,\n",
       "        2.12576724e-10, 2.10945861e-10, 2.05437639e-10, 2.06700740e-10,\n",
       "        2.40602896e-10, 2.43184384e-10, 2.46606785e-10, 2.56002954e-10,\n",
       "        2.62251698e-10, 2.67973331e-10, 2.81634662e-10, 2.91410275e-10,\n",
       "        2.90009239e-10]),\n",
       " array([2.21557213e-12, 3.13559197e-12, 3.78336779e-12, 4.39998481e-12,\n",
       "        4.93325512e-12, 5.38515987e-12, 5.84404274e-12, 6.32374856e-12,\n",
       "        6.66325402e-12, 7.09396448e-12, 7.44884558e-12, 7.97377879e-12,\n",
       "        8.26705141e-12, 8.75729798e-12, 9.33894802e-12, 9.89428724e-12,\n",
       "        1.05501471e-11, 1.08256645e-11, 1.14136364e-11, 1.14951817e-11,\n",
       "        1.19468712e-11, 1.22026559e-11, 1.25279209e-11, 1.28167836e-11,\n",
       "        1.31888656e-11, 1.35255475e-11, 1.42497723e-11, 1.45040446e-11,\n",
       "        1.51400233e-11, 1.53964569e-11, 1.62488376e-11, 1.69028256e-11,\n",
       "        1.70415097e-11, 1.75736512e-11, 1.75674045e-11, 1.78998440e-11,\n",
       "        1.81568903e-11, 1.85821949e-11, 1.87496027e-11, 1.90516845e-11,\n",
       "        1.92652685e-11, 2.01045767e-11, 1.97764947e-11, 2.10627819e-11,\n",
       "        2.13941813e-11, 2.19163354e-11, 2.22182729e-11, 2.26416892e-11,\n",
       "        2.26898755e-11, 2.29456517e-11, 2.29051043e-11, 2.27721918e-11,\n",
       "        2.19661719e-11, 2.17775951e-11, 2.17736981e-11, 2.18344863e-11,\n",
       "        2.20137342e-11, 2.16581197e-11, 2.16381681e-11, 2.09852774e-11,\n",
       "        2.33262155e-11, 2.32312689e-11, 2.35604229e-11, 2.37976445e-11,\n",
       "        2.40720076e-11, 2.49169484e-11, 2.59677484e-11, 2.67081062e-11,\n",
       "        2.86280945e-11]))"
      ]
     },
     "execution_count": 49,
     "metadata": {},
     "output_type": "execute_result"
    }
   ],
   "source": [
    "def calculate_msd_with_uncertainty(position_arr, delta_x, delta_y):\n",
    "    \"\"\"\n",
    "    Calcule les MSD avec propagation des incertitudes analytiques.\n",
    "    \"\"\"\n",
    "\n",
    "    msd = []\n",
    "    uncertainties = []\n",
    "    for d in range(1, len(position_arr)):\n",
    "        diff_pairs = np.zeros_like(position_arr[d:])\n",
    "        dx = np.zeros_like(delta_x[d:])\n",
    "        dy = np.zeros_like(delta_y[d:])\n",
    "\n",
    "        # Masque pour détecter les NaN\n",
    "        nan_mask_pos = np.isnan(position_arr[d:]) | np.isnan(position_arr[:-d])\n",
    "        nan_mask_delta = np.isnan(delta_x[d:]) | np.isnan(delta_x[:-d])\n",
    "        \n",
    "        # Calculer les différences uniquement où nan_mask est False\n",
    "        valid_mask_pos = ~nan_mask_pos.any(axis=1)  # Inverser le masque pour obtenir les position_arr valides\n",
    "        valid_mask_delta = ~nan_mask_delta\n",
    "\n",
    "        diff_pairs[valid_mask_pos] = position_arr[d:][valid_mask_pos, :] - position_arr[:-d][valid_mask_pos, :]\n",
    "\n",
    "        distances_squared = np.sum(diff_pairs**2, axis=1)\n",
    "        msd.append(np.mean(distances_squared))  \n",
    "\n",
    "        dx[valid_mask_delta] = delta_x[d:][valid_mask_delta] + delta_x[:-d][valid_mask_delta]\n",
    "        dy[valid_mask_delta] = delta_y[d:][valid_mask_delta] + delta_y[:-d][valid_mask_delta]\n",
    "\n",
    "        term_x = 2 * (diff_pairs[:, 0]**2) * (dx**2)\n",
    "        term_y = 2 * (diff_pairs[:, 1]**2) * (dy**2)\n",
    "        \n",
    "        # Propagation des incertitudes\n",
    "        total_uncertainty = np.mean(term_x + term_y)\n",
    "        uncertainties.append(np.sqrt(total_uncertainty))\n",
    "\n",
    "    return np.array(msd), np.array(uncertainties)\n",
    "\n",
    "calculate_msd_with_uncertainty(position_arr, sigma_arr[:, 0], sigma_arr[:, 1])"
   ]
  },
  {
   "cell_type": "markdown",
   "id": "c355c5f0-6c28-4f45-abbe-9d17f257161b",
   "metadata": {},
   "source": [
    "# Résultats"
   ]
  },
  {
   "cell_type": "code",
   "execution_count": 50,
   "id": "4fb3cff6-dfd3-4c03-96fa-219eb0185e70",
   "metadata": {
    "execution": {
     "iopub.execute_input": "2024-11-27T00:35:56.812822Z",
     "iopub.status.busy": "2024-11-27T00:35:56.812598Z",
     "iopub.status.idle": "2024-11-27T00:35:56.821085Z",
     "shell.execute_reply": "2024-11-27T00:35:56.819985Z",
     "shell.execute_reply.started": "2024-11-27T00:35:56.812806Z"
    }
   },
   "outputs": [
    {
     "name": "stdout",
     "output_type": "stream",
     "text": [
      "coucou\n"
     ]
    }
   ],
   "source": [
    "# Assuming msd_values is the result of your MSD calculation\n",
    "msd_values, uncertainties = calculate_msd_with_uncertainty(position_arr, sigma_arr[:, 0], sigma_arr[:, 1])\n",
    "print('coucou')\n",
    "# Time intervals for the x-axis (assuming a uniform time step)\n",
    "time_intervals = np.arange(1, len(msd_values) + 1) * 0.5\n",
    "\n",
    "# Plotting the MSD\n",
    "plt.figure(figsize=(8, 6))\n",
    "plt.errorbar(time_intervals, msd_values, yerr=uncertainties, fmt='o', label='MSD', color='blue')\n",
    "\n",
    "# Customize the plot\n",
    "plt.title(\"MSD en fonction de l'intervalle de temps\")\n",
    "plt.xlabel(\"Intervalle de temps\")\n",
    "plt.ylabel(\"MSD\")\n",
    "plt.grid(True)\n",
    "plt.legend()\n",
    "\n",
    "# Show the plot\n",
    "plt.show()"
   ]
  },
  {
   "cell_type": "code",
   "execution_count": 51,
   "id": "cf9032b2",
   "metadata": {},
   "outputs": [
    {
     "name": "stdout",
     "output_type": "stream",
     "text": [
      "Coefficients du polynôme ajusté :\n",
      "[4.12821748e-14 1.67416525e-12 1.22198612e-13]\n",
      "Matrice de covariance des coefficients :\n",
      "[[ 2.28587276e-28 -1.24979602e-27  1.23655674e-27]\n",
      " [-1.24979602e-27  7.13384987e-27 -7.42163571e-27]\n",
      " [ 1.23655674e-27 -7.42163571e-27  8.67586927e-27]]\n",
      "Incertitudes sur les coefficients : [1.51191030e-14 8.44621209e-14 9.31443464e-14]\n",
      "Taille de la particule (m): 5.25e-07 m, avec une incertitude : 2.65e-08\n"
     ]
    }
   ],
   "source": [
    "# Fonction quadratique pour l'ajustement\n",
    "def quadratic(x, a, b, c):\n",
    "    return a * x**2 + b * x + c\n",
    "\n",
    "# Assuming msd_values is the result of your MSD calculation\n",
    "msd_values, uncertainties = calculate_msd_with_uncertainty(position_arr, sigma_arr[:, 0], sigma_arr[:, 1])\n",
    "\n",
    "cropped_msd = msd_values[:5]\n",
    "cropped_inc = uncertainties[:5]\n",
    "\n",
    "# Time intervals for the x-axis (assuming a uniform time step)\n",
    "time_intervals = np.arange(1, len(cropped_msd) + 1)\n",
    "\n",
    "# Perform a quadratic fit using curve_fit, which gives both coefficients and covariance matrix\n",
    "popt, pcov = curve_fit(quadratic, time_intervals, cropped_msd, sigma=cropped_inc)\n",
    "\n",
    "# popt contains the optimal coefficients\n",
    "coeffs = popt\n",
    "\n",
    "# pcov is the covariance matrix, which we can use to compute uncertainties\n",
    "coeff_uncertainties = np.sqrt(np.diag(pcov))  # Incertitudes sur les coefficients sont les éléments diagonaux\n",
    "\n",
    "# Affichage des coefficients séparément\n",
    "print(\"Coefficients du polynôme ajusté :\")\n",
    "print(coeffs)\n",
    "\n",
    "# Affichage de la matrice de covariance séparément\n",
    "print(\"Matrice de covariance des coefficients :\")\n",
    "print(pcov)\n",
    "\n",
    "# Création de la fonction quadratique de l'ajustement\n",
    "quadratic_fit = np.poly1d(coeffs)\n",
    "\n",
    "# Génération des valeurs ajustées pour afficher la courbe\n",
    "fitted_msd = quadratic_fit(time_intervals)\n",
    "\n",
    "# Affichage du MSD avec les barres d'erreur\n",
    "plt.figure(figsize=(8, 6))\n",
    "plt.errorbar(time_intervals, cropped_msd, yerr=cropped_inc, fmt='o', label='MSD', color='blue')\n",
    "plt.plot(time_intervals, fitted_msd, label='Quadratic Fit', color='red', linestyle='--')\n",
    "\n",
    "# Personnalisation du graphique\n",
    "plt.title(\"MSD en fonction de l'intervalle de temps\")\n",
    "plt.xlabel(\"Intervalle de temps\")\n",
    "plt.ylabel(\"MSD\")\n",
    "plt.grid(True)\n",
    "plt.legend()\n",
    "\n",
    "# Afficher le graphique\n",
    "plt.show()\n",
    "\n",
    "# Affichage des incertitudes sur les coefficients\n",
    "print(f\"Incertitudes sur les coefficients : {coeff_uncertainties}\")\n",
    "\n",
    "# Calcul du coefficient de diffusion et de la taille de la particule\n",
    "r = (4 * 1.38 * 10**(-23) * 300 / (6 * np.pi * 10**(-3) * coeffs[1]))  # Coefficient de diffusion\n",
    "r_uncertainty = (4 * 1.38 * 10**(-23) * 300 * coeff_uncertainties[1] / (6 * np.pi * 10**(-3) * (coeffs[1])**2))  # Coefficient de diffusion\n",
    "\n",
    "# Affichage de la taille de la particule avec incertitude\n",
    "print(f\"Taille de la particule (m): {r:.2e} m, avec une incertitude : {r_uncertainty:.2e}\")\n"
   ]
  },
  {
   "cell_type": "code",
   "execution_count": 52,
   "id": "625b1770-9368-4a91-baa2-a62960106b77",
   "metadata": {
    "execution": {
     "iopub.execute_input": "2024-11-27T00:35:56.821952Z",
     "iopub.status.busy": "2024-11-27T00:35:56.821739Z",
     "iopub.status.idle": "2024-11-27T00:35:56.893091Z",
     "shell.execute_reply": "2024-11-27T00:35:56.891915Z",
     "shell.execute_reply.started": "2024-11-27T00:35:56.821935Z"
    }
   },
   "outputs": [],
   "source": [
    "x_plt, y_plt = zip(*position_list)\n",
    "# Create the plot\n",
    "plt.figure(figsize=(10, 8))  # Optional: Adjust the figure size\n",
    "plt.plot(x_plt, y_plt, marker='o', linestyle='-', color='b', label='Connected Points')\n",
    "\n",
    "# Inverser l'axe Y\n",
    "plt.gca().invert_yaxis()\n",
    "\n",
    "# Set grid limits to match the 1440x1080 grid\n",
    "plt.xlim(0, 1440)\n",
    "plt.ylim(0, 1080)\n",
    "\n",
    "# Add labels and title\n",
    "plt.xlabel('X-axis')\n",
    "plt.ylabel('Y-axis')\n",
    "plt.title('2D Connected Points Plot')\n",
    "plt.legend()\n",
    "\n",
    "# Optional: Add grid lines\n",
    "plt.grid(True)\n",
    "\n",
    "# Afficher le graphique\n",
    "plt.show()"
   ]
  },
  {
   "cell_type": "markdown",
   "id": "5fae7658-ee40-44d3-ace6-763079316aca",
   "metadata": {},
   "source": [
    "## anim toutes les particules"
   ]
  },
  {
   "cell_type": "code",
   "execution_count": 53,
   "id": "3f852688-0624-4f98-bc43-437e31b430a4",
   "metadata": {
    "execution": {
     "iopub.execute_input": "2024-11-27T00:35:56.894366Z",
     "iopub.status.busy": "2024-11-27T00:35:56.894056Z",
     "iopub.status.idle": "2024-11-27T00:35:56.898702Z",
     "shell.execute_reply": "2024-11-27T00:35:56.897463Z",
     "shell.execute_reply.started": "2024-11-27T00:35:56.894346Z"
    }
   },
   "outputs": [],
   "source": [
    "fig, ax = plt.subplots()\n",
    "img = ax.imshow(big_frames[0], origin='lower', cmap='gray', animated=True)\n",
    "\n",
    "\n",
    "# Update function\n",
    "def update(frame):\n",
    "    img.set_array(frame)\n",
    "    return img,\n",
    "    \n",
    "ani = animation.FuncAnimation(fig, update, frames=big_frames, interval=50, blit=True)\n",
    "plt.show()"
   ]
  },
  {
   "cell_type": "markdown",
   "id": "111a50d8-6fce-40cc-bf48-775bfd002c3d",
   "metadata": {},
   "source": [
    "## anim crop"
   ]
  },
  {
   "cell_type": "code",
   "execution_count": 54,
   "id": "0d6554b7-0c86-4ee5-8a32-4bd994f881f4",
   "metadata": {
    "execution": {
     "iopub.execute_input": "2024-11-27T00:35:56.899778Z",
     "iopub.status.busy": "2024-11-27T00:35:56.899533Z",
     "iopub.status.idle": "2024-11-27T00:35:56.955616Z",
     "shell.execute_reply": "2024-11-27T00:35:56.954725Z",
     "shell.execute_reply.started": "2024-11-27T00:35:56.899759Z"
    }
   },
   "outputs": [],
   "source": [
    "fig, ax = plt.subplots()\n",
    "img = ax.imshow(crop_frames[0], origin='lower', cmap='gray', animated=True)\n",
    "\n",
    "\n",
    "def update(frame):\n",
    "    img.set_array(frame)\n",
    "    return img,\n",
    "    \n",
    "ani = animation.FuncAnimation(fig, update, frames=crop_frames, interval=50, blit=True)\n",
    "plt.show()"
   ]
  },
  {
   "cell_type": "code",
   "execution_count": null,
   "id": "a57b3c57-a5c5-4f11-b5ce-c32e975a7d83",
   "metadata": {},
   "outputs": [],
   "source": []
  }
 ],
 "metadata": {
  "kernelspec": {
   "display_name": "Python 3",
   "language": "python",
   "name": "python3"
  },
  "language_info": {
   "codemirror_mode": {
    "name": "ipython",
    "version": 3
   },
   "file_extension": ".py",
   "mimetype": "text/x-python",
   "name": "python",
   "nbconvert_exporter": "python",
   "pygments_lexer": "ipython3",
   "version": "3.12.7"
  }
 },
 "nbformat": 4,
 "nbformat_minor": 5
}
