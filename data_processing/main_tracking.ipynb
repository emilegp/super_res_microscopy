{
 "cells": [
  {
   "cell_type": "markdown",
   "id": "a1bbf155-d46a-4bbb-a7bc-6857ef1672de",
   "metadata": {},
   "source": [
    "# Initialisation"
   ]
  },
  {
   "cell_type": "code",
   "execution_count": 492,
   "id": "49fff9c0-1a10-465b-b5d6-cf2853a133db",
   "metadata": {
    "execution": {
     "iopub.execute_input": "2024-11-27T00:33:55.015775Z",
     "iopub.status.busy": "2024-11-27T00:33:55.015362Z",
     "iopub.status.idle": "2024-11-27T00:33:56.248500Z",
     "shell.execute_reply": "2024-11-27T00:33:56.247904Z",
     "shell.execute_reply.started": "2024-11-27T00:33:55.015736Z"
    }
   },
   "outputs": [],
   "source": [
    "import matplotlib\n",
    "matplotlib.use('Qt5Agg')  # Utiliser le backend Qt5Agg pour Windows\n",
    "import matplotlib.pyplot as plt\n",
    "import matplotlib.animation as animation\n",
    "import cv2\n",
    "import numpy as np\n",
    "import os\n",
    "from PIL import Image\n",
    "import lmfit\n",
    "#import tifffile\n",
    "#%matplotlib tk #pour Linux"
   ]
  },
  {
   "cell_type": "code",
   "execution_count": 493,
   "id": "5244023b",
   "metadata": {},
   "outputs": [],
   "source": [
    "import scipy.ndimage as ndimage\n",
    "from sklearn.cluster import DBSCAN"
   ]
  },
  {
   "cell_type": "markdown",
   "id": "3c857432-f4a0-4d37-b1c3-d5115974f0f5",
   "metadata": {},
   "source": [
    "# Importer fichier"
   ]
  },
  {
   "cell_type": "code",
   "execution_count": 494,
   "id": "72d00744-e863-4ed8-b83b-112156869997",
   "metadata": {
    "execution": {
     "iopub.execute_input": "2024-11-27T00:33:56.249387Z",
     "iopub.status.busy": "2024-11-27T00:33:56.249142Z",
     "iopub.status.idle": "2024-11-27T00:33:56.288891Z",
     "shell.execute_reply": "2024-11-27T00:33:56.287953Z",
     "shell.execute_reply.started": "2024-11-27T00:33:56.249368Z"
    }
   },
   "outputs": [],
   "source": [
    "path_to_tiff = os.path.join(\"..\", \"acquisition\", \"video_output_carac_150ms_1im_1um.tiff\")\n",
    "\n",
    "tiff = Image.open(path_to_tiff)"
   ]
  },
  {
   "cell_type": "markdown",
   "id": "a9542b9e-bfef-4abf-86f4-db78b05a8be8",
   "metadata": {},
   "source": [
    "# Nombre de frames pas vide"
   ]
  },
  {
   "cell_type": "code",
   "execution_count": 495,
   "id": "dcf8b520-316f-4ac0-b860-fd1d965ea732",
   "metadata": {
    "execution": {
     "iopub.execute_input": "2024-11-27T00:33:56.289986Z",
     "iopub.status.busy": "2024-11-27T00:33:56.289746Z",
     "iopub.status.idle": "2024-11-27T00:33:57.058878Z",
     "shell.execute_reply": "2024-11-27T00:33:57.057944Z",
     "shell.execute_reply.started": "2024-11-27T00:33:56.289967Z"
    }
   },
   "outputs": [
    {
     "name": "stdout",
     "output_type": "stream",
     "text": [
      "All frames processed.\n"
     ]
    },
    {
     "data": {
      "text/plain": [
       "71"
      ]
     },
     "execution_count": 495,
     "metadata": {},
     "output_type": "execute_result"
    }
   ],
   "source": [
    "with Image.open(path_to_tiff) as img:\n",
    "    frame_number = 0\n",
    "    actual_frames = 0\n",
    "    try:\n",
    "        while True:\n",
    "            frame_number += 1\n",
    "            if np.sum(np.array(img)) != 0:\n",
    "                actual_frames += 1\n",
    "                \n",
    "            img.seek(frame_number)\n",
    "    except EOFError:\n",
    "        print(\"All frames processed.\")\n",
    "\n",
    "actual_frames"
   ]
  },
  {
   "cell_type": "markdown",
   "id": "4ce4927e-f7ec-4e65-ad5d-cef9195b6cbc",
   "metadata": {},
   "source": [
    "# 1re frame\n",
    "\n",
    "**Le nombre de frames ignorés n'est pas pris en compte**"
   ]
  },
  {
   "cell_type": "code",
   "execution_count": 496,
   "id": "26577059-48c2-4f3a-8e52-a89c99dbccd3",
   "metadata": {
    "execution": {
     "iopub.execute_input": "2024-11-27T00:33:57.059925Z",
     "iopub.status.busy": "2024-11-27T00:33:57.059662Z",
     "iopub.status.idle": "2024-11-27T00:33:57.082939Z",
     "shell.execute_reply": "2024-11-27T00:33:57.082043Z",
     "shell.execute_reply.started": "2024-11-27T00:33:57.059898Z"
    }
   },
   "outputs": [
    {
     "name": "stdout",
     "output_type": "stream",
     "text": [
      "1\n"
     ]
    }
   ],
   "source": [
    "frame_index = 0\n",
    "first_frame = 0\n",
    "tiff.seek(frame_index)\n",
    "original_image = np.array(tiff)\n",
    "\n",
    "while np.sum(original_image) == 0:\n",
    "    frame_index += 1\n",
    "    tiff.seek(frame_index)\n",
    "    original_image = np.array(tiff)\n",
    "    first_frame += 1\n",
    "    print(frame_index)\n",
    "\n",
    "\n"
   ]
  },
  {
   "cell_type": "markdown",
   "id": "e1d8711a-7b97-4eb1-8556-60a0ce1f5253",
   "metadata": {},
   "source": [
    "# Traitement d'image"
   ]
  },
  {
   "cell_type": "code",
   "execution_count": 497,
   "id": "3a91746d-ed20-4b11-841a-4384c3c9f610",
   "metadata": {
    "execution": {
     "iopub.execute_input": "2024-11-27T00:33:57.083712Z",
     "iopub.status.busy": "2024-11-27T00:33:57.083500Z",
     "iopub.status.idle": "2024-11-27T00:33:57.942225Z",
     "shell.execute_reply": "2024-11-27T00:33:57.941368Z",
     "shell.execute_reply.started": "2024-11-27T00:33:57.083690Z"
    }
   },
   "outputs": [
    {
     "name": "stdout",
     "output_type": "stream",
     "text": [
      "[[ 9 10 10 ... 11 11 11]\n",
      " [10 10 10 ... 11 11 11]\n",
      " [ 9  9 10 ... 11 12 12]\n",
      " ...\n",
      " [ 9  9 10 ...  8  8  8]\n",
      " [ 8  9  9 ...  8  8  8]\n",
      " [ 8  9  9 ...  8  9  8]]\n"
     ]
    }
   ],
   "source": [
    "clahe = cv2.createCLAHE(clipLimit=10.0, tileGridSize=(30, 30))\n",
    "preprocessed = clahe.apply(original_image)\n",
    "\n",
    "blurred = cv2.medianBlur(preprocessed, 115)\n",
    "preprocessed2 = cv2.subtract(preprocessed, blurred)\n",
    "\n",
    "# Apply Non-Local Means Denoising\n",
    "img = cv2.fastNlMeansDenoising(preprocessed2, None, 15, 7, 41)\n",
    "print(img)"
   ]
  },
  {
   "cell_type": "markdown",
   "id": "9f52f7fc-b595-4b76-8cc3-0755544c12bd",
   "metadata": {},
   "source": [
    "# Sélection du point à tracker"
   ]
  },
  {
   "cell_type": "code",
   "execution_count": 498,
   "id": "5a934439-4314-4c28-a4cd-c0d9113c98e9",
   "metadata": {
    "execution": {
     "iopub.execute_input": "2024-11-27T00:33:57.944451Z",
     "iopub.status.busy": "2024-11-27T00:33:57.944269Z",
     "iopub.status.idle": "2024-11-27T00:33:57.947894Z",
     "shell.execute_reply": "2024-11-27T00:33:57.947259Z",
     "shell.execute_reply.started": "2024-11-27T00:33:57.944433Z"
    }
   },
   "outputs": [],
   "source": [
    "def crop(img, x, y, crop_size_x, crop_size_y):\n",
    "    x_start = int(x - crop_size_x // 2)\n",
    "    x_end = int(x + crop_size_x // 2)\n",
    "    y_start = int(y - crop_size_y // 2)\n",
    "    y_end = int(y + crop_size_y // 2)\n",
    "\n",
    "    return img[y_start:y_end, x_start:x_end]"
   ]
  },
  {
   "cell_type": "code",
   "execution_count": 499,
   "id": "60e9cbb8-923d-4281-89f9-accc9565c831",
   "metadata": {
    "execution": {
     "iopub.execute_input": "2024-11-27T00:33:57.948819Z",
     "iopub.status.busy": "2024-11-27T00:33:57.948575Z",
     "iopub.status.idle": "2024-11-27T00:34:16.244046Z",
     "shell.execute_reply": "2024-11-27T00:34:16.243397Z",
     "shell.execute_reply.started": "2024-11-27T00:33:57.948800Z"
    }
   },
   "outputs": [
    {
     "name": "stdout",
     "output_type": "stream",
     "text": [
      "Please click on the point you want to select.\n",
      "Selected point: (865.6038961038963, 654.6298701298701)\n"
     ]
    }
   ],
   "source": [
    "# Display the image and let the user select a point interactively\n",
    "fig, ax = plt.subplots()\n",
    "ax.imshow(img, origin='lower', cmap='gray')  # Use 'gray' for better visibility of grayscale images\n",
    "plt.title(f\"Frame {frame_index}: Select a point\")\n",
    "\n",
    "# Ask for a point to be selected\n",
    "print(\"Please click on the point you want to select.\")\n",
    "x, y = plt.ginput(1)[0]  # This will get the coordinates of the clicked point\n",
    "print(f\"Selected point: ({x}, {y})\")\n",
    "plt.close()\n",
    "\n",
    "crop_sze = crop_sze_x = crop_sze_y = 50"
   ]
  },
  {
   "cell_type": "markdown",
   "id": "383a659b",
   "metadata": {},
   "source": [
    "Debogueur"
   ]
  },
  {
   "cell_type": "code",
   "execution_count": 500,
   "id": "6184609f",
   "metadata": {},
   "outputs": [],
   "source": [
    "def visionneur(frame, titre):\n",
    "    plt.figure(figsize=(10, 5))\n",
    "    plt.clf() \n",
    "    plt.imshow(frame, origin='lower', cmap='gray')\n",
    "    plt.title(titre)\n",
    "    plt.colorbar()  \n",
    "    plt.show()"
   ]
  },
  {
   "cell_type": "markdown",
   "id": "6a9490a9-7dce-451b-81ff-0ae267584ee3",
   "metadata": {},
   "source": [
    "# Fit gaussien sur le point sélectionné"
   ]
  },
  {
   "cell_type": "code",
   "execution_count": 501,
   "id": "5fc5b874-d129-40a2-985c-03a724b3cb95",
   "metadata": {
    "execution": {
     "iopub.execute_input": "2024-11-27T00:34:16.245037Z",
     "iopub.status.busy": "2024-11-27T00:34:16.244816Z",
     "iopub.status.idle": "2024-11-27T00:34:16.248322Z",
     "shell.execute_reply": "2024-11-27T00:34:16.247669Z",
     "shell.execute_reply.started": "2024-11-27T00:34:16.245020Z"
    }
   },
   "outputs": [],
   "source": [
    "def prepare_data(x, y, z):\n",
    "    return (x.flatten(), y.flatten()), z.flatten()"
   ]
  },
  {
   "cell_type": "code",
   "execution_count": 502,
   "id": "1fb18b6a-7295-4ea7-b0fb-84f5a41fbdbb",
   "metadata": {
    "execution": {
     "iopub.execute_input": "2024-11-27T00:34:16.249457Z",
     "iopub.status.busy": "2024-11-27T00:34:16.248979Z",
     "iopub.status.idle": "2024-11-27T00:34:16.280319Z",
     "shell.execute_reply": "2024-11-27T00:34:16.279600Z",
     "shell.execute_reply.started": "2024-11-27T00:34:16.249435Z"
    }
   },
   "outputs": [],
   "source": [
    "def gaussian_2d(xy, amplitude, x0, y0, sigma_x, sigma_y, offset):\n",
    "    x, y = xy\n",
    "    a = 1 / (2 * sigma_x**2)\n",
    "    b = 1 / (2 * sigma_y**2)\n",
    "    return offset + amplitude * np.exp(- (a * (x - x0)**2 + b * (y - y0)**2))"
   ]
  },
  {
   "cell_type": "code",
   "execution_count": 503,
   "id": "b2f948a1-d8e5-4fa8-acfe-ac569383012d",
   "metadata": {
    "execution": {
     "iopub.execute_input": "2024-11-27T00:34:16.281928Z",
     "iopub.status.busy": "2024-11-27T00:34:16.281279Z",
     "iopub.status.idle": "2024-11-27T00:34:16.286665Z",
     "shell.execute_reply": "2024-11-27T00:34:16.286066Z",
     "shell.execute_reply.started": "2024-11-27T00:34:16.281903Z"
    }
   },
   "outputs": [],
   "source": [
    "def localisateur_gaussien(intensity_grid, centre):\n",
    "    x = np.arange(intensity_grid.shape[0])\n",
    "    y = np.arange(intensity_grid.shape[1])\n",
    "    X, Y = np.meshgrid(x, y)\n",
    "\n",
    "    # Préparer les données pour le fit\n",
    "    (xdata, ydata), zdata = prepare_data(X, Y, intensity_grid)\n",
    "    model = lmfit.Model(gaussian_2d)\n",
    "    max_idx = np.unravel_index(np.argmax(intensity_grid), intensity_grid.shape)\n",
    "    initial_x0 = x[max_idx[0]]\n",
    "    initial_y0 = y[max_idx[1]]\n",
    "\n",
    "    # Définir les paramètres du modèle\n",
    "    params = model.make_params(\n",
    "        amplitude=np.max(intensity_grid),\n",
    "        x0=initial_x0,\n",
    "        y0=initial_y0,\n",
    "        sigma_x=1,\n",
    "        sigma_y=1,\n",
    "        offset=2\n",
    "    )\n",
    "\n",
    "    # Effectuer l'ajustement\n",
    "    result = model.fit(zdata, params, xy=(xdata, ydata))\n",
    "    \n",
    "    x_position = result.params['x0'].value + centre[0] - crop_sze_x/2\n",
    "    y_position = result.params['y0'].value + centre[1] - crop_sze_y/2\n",
    "\n",
    "    return [x_position, y_position], result.params['sigma_x'].value, result.params['sigma_y'].value"
   ]
  },
  {
   "cell_type": "markdown",
   "id": "647422c5-d9bb-4e71-9481-76349ea02eca",
   "metadata": {},
   "source": [
    "# Process d'image (enlever le bruit)\n",
    "\n",
    "**semble faire du trouble**"
   ]
  },
  {
   "cell_type": "code",
   "execution_count": 504,
   "id": "c3df48fe-ec70-413c-8172-84f9754a0bcf",
   "metadata": {
    "execution": {
     "iopub.execute_input": "2024-11-27T00:34:16.287655Z",
     "iopub.status.busy": "2024-11-27T00:34:16.287395Z",
     "iopub.status.idle": "2024-11-27T00:34:16.291801Z",
     "shell.execute_reply": "2024-11-27T00:34:16.291266Z",
     "shell.execute_reply.started": "2024-11-27T00:34:16.287612Z"
    }
   },
   "outputs": [],
   "source": [
    "def denoise(image):\n",
    "    clahe = cv2.createCLAHE(clipLimit=10.0, tileGridSize=(30, 30))\n",
    "    preprocessed = clahe.apply(image)\n",
    "    \n",
    "    blurred = cv2.medianBlur(preprocessed, 115)\n",
    "    preprocessed2 = cv2.subtract(preprocessed, blurred)\n",
    "    \n",
    "    return cv2.fastNlMeansDenoising(preprocessed2, None, 15, 7, 41)"
   ]
  },
  {
   "cell_type": "markdown",
   "id": "10149e95",
   "metadata": {},
   "source": [
    "# Identifier la particule et donner sa nouvelle position"
   ]
  },
  {
   "cell_type": "code",
   "execution_count": 505,
   "id": "11c4d94f",
   "metadata": {},
   "outputs": [],
   "source": [
    "def empreinte_digitale(image, threshold=12, eps=3, min_samples=1):\n",
    "    # 1. Observer chaque particule approximativement\n",
    "    #neighborhood_size = 3  \n",
    "    #local_max = ndimage.maximum_filter(image, size=neighborhood_size)\n",
    "    visionneur(image, f'particule choisie')\n",
    "\n",
    "    maxima = (image > threshold)\n",
    "    \n",
    "    coordinates = np.column_stack(np.where(maxima))  \n",
    "    if coordinates.shape[0] == 0:\n",
    "        print(\"Aucune particule détectée.\")\n",
    "        return [], image\n",
    "\n",
    "    dbscan = DBSCAN(eps=eps, min_samples=min_samples)\n",
    "    labels = dbscan.fit_predict(coordinates)\n",
    "    unique_labels = np.unique(labels)\n",
    "    size=0\n",
    "\n",
    "    # 2. Déterminer l'empreinte digitale de notre particule\n",
    "    for label in unique_labels:\n",
    "        if label != -1:  # -1 correspond au bruit dans DBSCAN\n",
    "            cluster_points = coordinates[labels == label]\n",
    "            plt.scatter(cluster_points[:, 1], cluster_points[:, 0], label=f'Particule {label}')\n",
    "\n",
    "            if cluster_points.shape[0]>size:\n",
    "                size = cluster_points.shape[0]\n",
    "                luminosity = np.mean(image[cluster_points[:, 0], cluster_points[:, 1]])\n",
    "\n",
    "    seuil=np.max(image)*0.4\n",
    "    print(seuil)\n",
    "    # 3. Afficher les résultats et filtrer les particules selon leur taille et luminosité\n",
    "    plt.imshow(image, origin='lower', cmap='gray')\n",
    "    plt.title(f\"Empreinte digitale de la particule, lum={luminosity} et taille={size}\")\n",
    "    plt.legend()\n",
    "    plt.colorbar()  \n",
    "    plt.show()\n",
    "\n",
    "    return size, luminosity, seuil"
   ]
  },
  {
   "cell_type": "code",
   "execution_count": 506,
   "id": "f690236d",
   "metadata": {},
   "outputs": [],
   "source": [
    "def detect_nbre_particles(image, threshold, eps=3, min_samples=1):\n",
    "    # 1. Appliquer un filtre de voisinage pour détecter les maxima locaux\n",
    "    neighborhood_size = 3  # Taille du voisinage pour détecter les maxima locaux\n",
    "    local_max = ndimage.maximum_filter(image, size=neighborhood_size)\n",
    "    # 2. Comparer l'image originale et les maxima locaux pour identifier les vrais maxima\n",
    "    maxima = (image == local_max) & (image > threshold)\n",
    "\n",
    "    # 3. Extraire les coordonnées des maxima (particules)\n",
    "    coordinates = np.column_stack(np.where(maxima))  # Extraire les indices des pixels maximaux\n",
    "    if coordinates.shape[0] == 0:\n",
    "        print(\"Aucune particule détectée.\")\n",
    "        visionneur(image, f'détection du nombre de particules')\n",
    "\n",
    "        return [], image\n",
    "\n",
    "    # 4. Appliquer DBSCAN pour regrouper les particules proches (cluster les maxima détectés)\n",
    "    dbscan = DBSCAN(eps=eps, min_samples=min_samples)\n",
    "    labels = dbscan.fit_predict(coordinates)\n",
    "\n",
    "    #5. Déterminer le nombre de particules\n",
    "    unique_labels = np.unique(labels)\n",
    "    nb_particules = len(unique_labels)\n",
    "        \n",
    "    # 6. Afficher les résultats et filtrer les particules selon leur taille et luminosité\n",
    "    plt.imshow(image, origin='lower', cmap='gray')\n",
    "    plt.title(\"Détection des particules\")\n",
    "    \n",
    "    positions=[]\n",
    "    for label in unique_labels:\n",
    "        if label != -1:  # -1 correspond au bruit dans DBSCAN\n",
    "            cluster_points = coordinates[labels == label]\n",
    "            plt.scatter(cluster_points[:, 1], cluster_points[:, 0], label=f'Particule {label}')\n",
    "#        if nb_particules > 1:\n",
    "        positions.append((np.mean(cluster_points[:, 1]), np.mean(cluster_points[:, 0])))\n",
    "        \n",
    "\n",
    "    plt.colorbar()  \n",
    "    plt.legend()\n",
    "    plt.show()\n",
    "\n",
    "    # Retourner les coordonnées des particules filtrées\n",
    "    return nb_particules, positions"
   ]
  },
  {
   "cell_type": "code",
   "execution_count": 507,
   "id": "ddfe6898",
   "metadata": {},
   "outputs": [],
   "source": [
    "def identificateur_particles(image, ref_size, ref_luminosity, threshold=25, eps=3, min_samples=1):\n",
    "    # 1. Obtenir le plus d'info sur la particule\n",
    "    maxima = (image > threshold)\n",
    "    \n",
    "    coordinates = np.column_stack(np.where(maxima))  \n",
    "    if coordinates.shape[0] == 0:\n",
    "        print(\"Mauvais re-crop empêche identification de la particule.\")\n",
    "        return [], image\n",
    "\n",
    "    dbscan = DBSCAN(eps=eps, min_samples=min_samples)\n",
    "    labels = dbscan.fit_predict(coordinates)\n",
    "    unique_labels = np.unique(labels)\n",
    "\n",
    "    # 2. Parcourir chaque particule et identifier laquelle est celle qu'on suit\n",
    "    distances = []\n",
    "    position_particules = []\n",
    "\n",
    "    for label in unique_labels:\n",
    "        if label != -1:  # -1 correspond au bruit dans DBSCAN\n",
    "            cluster_points = coordinates[labels == label]\n",
    "            \n",
    "            size = cluster_points.shape[0]\n",
    "            luminosity = np.mean(image[cluster_points[:, 0], cluster_points[:, 1]])\n",
    "            size_distance = abs(size - ref_size)  \n",
    "            luminosity_distance = abs(luminosity - ref_luminosity)  \n",
    "            combined_distance = size_distance + luminosity_distance\n",
    "            distances.append(combined_distance)\n",
    "            position_particules.append((np.mean(cluster_points[:, 1]), np.mean(cluster_points[:, 0])))\n",
    "\n",
    "    ecart = np.min(distances)\n",
    "    position_best_particle = position_particules[np.argmin(distances)]  \n",
    "    print(f'ecrat: {ecart}')\n",
    "    # 3. Afficher les résultats et filtrer les particules selon leur taille et luminosité\n",
    "    plt.imshow(image, origin='lower', cmap='gray')\n",
    "    plt.title(\"Détection des particules\")\n",
    "    plt.scatter(position_best_particle[0], position_best_particle[1], color='r', label=f'Particule sélectionnée')\n",
    "    plt.legend()\n",
    "    plt.colorbar()  \n",
    "    plt.show()\n",
    "\n",
    "    return position_best_particle, ecart"
   ]
  },
  {
   "cell_type": "markdown",
   "id": "61f2661b-5185-493a-bd25-97d1c42d712c",
   "metadata": {},
   "source": [
    "# Faire le crop et fit"
   ]
  },
  {
   "cell_type": "code",
   "execution_count": 508,
   "id": "b695a082-5a85-499e-9183-cfd354b4dc5d",
   "metadata": {
    "execution": {
     "iopub.execute_input": "2024-11-27T00:34:16.297421Z",
     "iopub.status.busy": "2024-11-27T00:34:16.297176Z",
     "iopub.status.idle": "2024-11-27T00:34:16.301468Z",
     "shell.execute_reply": "2024-11-27T00:34:16.300888Z",
     "shell.execute_reply.started": "2024-11-27T00:34:16.297403Z"
    }
   },
   "outputs": [],
   "source": [
    "def particle_tracker_simple(image, x, y):\n",
    "    image = denoise(image)\n",
    "\n",
    "    cropped_img = crop(image, x, y, crop_sze_x, crop_sze_y)\n",
    "    \n",
    "    #Gérer plus qu'une particule\n",
    "    cropped_img = np.array(cropped_img)\n",
    "    max_index = np.argmax(cropped_img)\n",
    "    max_coords = np.unravel_index(max_index, cropped_img.shape)\n",
    "\n",
    "    nouveau_x = x - crop_sze_x // 2 + max_coords[1]\n",
    "    nouveau_y = y - crop_sze_y // 2 + max_coords[0]\n",
    "    \n",
    "    second_crop = crop(image, nouveau_x, nouveau_y, crop_sze_x, crop_sze_y)    # Re-crop autour d'une seule particule\n",
    "\n",
    "    result_fit = localisateur_gaussien(second_crop, [nouveau_x, nouveau_y])\n",
    "\n",
    "    x_new, y_new = result_fit[0][0], result_fit[0][1]\n",
    "\n",
    "    return [result_fit, cropped_img, (x_new, y_new), (result_fit[1], result_fit[2])]"
   ]
  },
  {
   "cell_type": "code",
   "execution_count": 509,
   "id": "5625e5b2",
   "metadata": {},
   "outputs": [],
   "source": [
    "#Placés ici pour pouvoir y faire référence dans particule_tracker\n",
    "position_list=[]\n",
    "sigma_list = []\n",
    "crop_frames = []\n",
    "big_frames = []"
   ]
  },
  {
   "cell_type": "code",
   "execution_count": 510,
   "id": "0d8ff164",
   "metadata": {},
   "outputs": [],
   "source": [
    "def particle_tracker(image, x, y, taille_initiale, luminosité_initiale, seuil):\n",
    "    # 1. Ce qu'on voit près de l'ancienne position\n",
    "    image = denoise(image)\n",
    "\n",
    "    cropped_img = crop(image, x, y, crop_sze_x, crop_sze_y)\n",
    "    \n",
    "    # 2. Déterminer combien il y a de particules et laquelle est la notre\n",
    "    # Utiliser une reconnaissance de particules et si plus qu'une, alors clic pour choisir\n",
    "    nb_part, coordonnées = detect_nbre_particles(cropped_img, seuil)\n",
    "    print(f'coordonnées des {nb_part} particules:{coordonnées}')\n",
    "\n",
    "    if (nb_part == 0) or (nb_part == []):\n",
    "        # Display the image and let the user select a point interactively\n",
    "        fig, ax = plt.subplots()\n",
    "        ax.imshow(denoise(img), origin='lower', cmap='gray') \n",
    "        plt.title(f\"Frame {len(position_list)-1}: Select a point\")\n",
    "\n",
    "        # Ajouter une croix rouge à la position donnée\n",
    "        cx, cy = position_list[len(position_list)-1]\n",
    "        ax.plot(cx, cy, 'rx', markersize=10) \n",
    "        \n",
    "        # Afficher l'image et demander à l'utilisateur de cliquer\n",
    "        print(\"Please click on the point you want to select.\")\n",
    "        nouveau_x, nouveau_y = plt.ginput(1)[0]  # Attente du clic de l'utilisateur (1 point)\n",
    "        print(f\"Selected point: ({x}, {y})\")\n",
    "        \n",
    "        # Fermer l'affichage après sélection\n",
    "        plt.close()\n",
    "    elif nb_part > 1:\n",
    "        imperfections, emplacements = [] , []\n",
    "        for num_particule in range(nb_part):\n",
    "            x_identifier=x - crop_sze_x // 2 + coordonnées[num_particule][0]\n",
    "            y_identifier=y - crop_sze_y // 2 + coordonnées[num_particule][1]\n",
    "            crop_pour_identifier = crop(image, x_identifier, y_identifier, crop_sze_x//2, crop_sze_y//2)\n",
    "            emplacement, ecart = identificateur_particles(crop_pour_identifier, taille_initiale, luminosité_initiale, seuil)\n",
    "            imperfections.append(ecart)\n",
    "            emplacements.append(emplacement)\n",
    "        qualité = np.min(imperfections)\n",
    "        print(f'écart:{qualité}')\n",
    "        max_coords = emplacements[np.argmin(imperfections)]  \n",
    "        nouveau_x = x_identifier - crop_sze_x // 4 + max_coords[0]\n",
    "        nouveau_y = y_identifier - crop_sze_y // 4 + max_coords[1]\n",
    "    else:\n",
    "        cropped_img = np.array(cropped_img)\n",
    "        max_index = np.argmax(cropped_img)\n",
    "        max_coords = np.unravel_index(max_index, cropped_img.shape)\n",
    "    #print(F'coordonnées du max dans le premier crop: ({max_coords[1]},{max_coords[0]})')\n",
    "\n",
    "        nouveau_x = x - crop_sze_x // 2 + max_coords[1] #Oui c'est inversé à cause du unravel juste avant\n",
    "        nouveau_y = y - crop_sze_y // 2 + max_coords[0]\n",
    "\n",
    "    #print(f'(x,y) central du second crop: {nouveau_x, nouveau_y}')\n",
    "    \n",
    "    # 3. Crop atour de notre particule et fit dessus\n",
    "    second_crop = crop(image, nouveau_x, nouveau_y, crop_sze_x//2, crop_sze_y//2)    # Re-crop autour d'une seule particule\n",
    "\n",
    "\n",
    "    result_fit = localisateur_gaussien(second_crop, [nouveau_x, nouveau_y])\n",
    "    #print(f'écart-type: ({result_fit[1]}, {result_fit[2]})')\n",
    "\n",
    "    x_new, y_new = result_fit[0][0], result_fit[0][1]\n",
    "\n",
    "    x_range = np.arange(crop_sze_x) - crop_sze_x//2 \n",
    "    y_range = np.arange(crop_sze_y) - crop_sze_y//2\n",
    "    x_position = x_range + x_new  \n",
    "    y_position = y_range + y_new \n",
    "    plt.imshow(second_crop, origin='lower', cmap='gray', extent=[x_position.min(), x_position.max(), y_position.min(), y_position.max()])\n",
    "    plt.title(\"positionnement de la particule\")\n",
    "    plt.scatter(x_new, y_new, color='r', label=f'Position estimée')\n",
    "    plt.legend()\n",
    "    plt.colorbar()  \n",
    "    plt.show()\n",
    "\n",
    "    return [result_fit, second_crop, (x_new, y_new), (result_fit[1], result_fit[2])]"
   ]
  },
  {
   "cell_type": "markdown",
   "id": "8002acc8-bac7-4c69-846a-381ee31f08ff",
   "metadata": {},
   "source": [
    "# Main loop"
   ]
  },
  {
   "cell_type": "code",
   "execution_count": 511,
   "id": "e7a5dba4-849a-4171-8fbb-6d05453ed795",
   "metadata": {
    "execution": {
     "iopub.execute_input": "2024-11-27T00:34:16.302483Z",
     "iopub.status.busy": "2024-11-27T00:34:16.302259Z",
     "iopub.status.idle": "2024-11-27T00:35:56.804477Z",
     "shell.execute_reply": "2024-11-27T00:35:56.803536Z",
     "shell.execute_reply.started": "2024-11-27T00:34:16.302464Z"
    }
   },
   "outputs": [
    {
     "name": "stdout",
     "output_type": "stream",
     "text": [
      "18.8\n",
      "coordonnées des 1 particules:[(24.5, 25.5)]\n",
      "[(852.7143890003176, 641.296118842698)]\n",
      "coordonnées des 2 particules:[(41.0, 29.0), (37.5, 37.5)]\n",
      "ecrat: 163.7204678362573\n",
      "ecrat: 119.07201125175808\n",
      "écart:119.07201125175808\n",
      "[(852.7143890003176, 641.296118842698), (852.5617121324624, 641.223392712375)]\n",
      "coordonnées des 1 particules:[(38.0, 38.5)]\n",
      "[(852.7143890003176, 641.296118842698), (852.5617121324624, 641.223392712375), (852.8350033051489, 641.5175747526624)]\n",
      "coordonnées des 1 particules:[(33.75, 39.0)]\n",
      "[(852.7143890003176, 641.296118842698), (852.5617121324624, 641.223392712375), (852.8350033051489, 641.5175747526624), (848.5476272955149, 642.5248135754223)]\n",
      "coordonnées des 1 particules:[(38.0, 43.2)]\n",
      "[(852.7143890003176, 641.296118842698), (852.5617121324624, 641.223392712375), (852.8350033051489, 641.5175747526624), (848.5476272955149, 642.5248135754223), (848.6277615183529, 648.0499535263502)]\n",
      "coordonnées des 2 particules:[(37.0, 31.0), (35.5, 40.5)]\n",
      "ecrat: 183.38055555555556\n",
      "ecrat: 146.10517961570594\n",
      "écart:146.10517961570594\n",
      "[(852.7143890003176, 641.296118842698), (852.5617121324624, 641.223392712375), (852.8350033051489, 641.5175747526624), (848.5476272955149, 642.5248135754223), (848.6277615183529, 648.0499535263502), (845.9552567291397, 649.9419799582985)]\n",
      "coordonnées des 1 particules:[(41.333333333333336, 40.166666666666664)]\n",
      "[(852.7143890003176, 641.296118842698), (852.5617121324624, 641.223392712375), (852.8350033051489, 641.5175747526624), (848.5476272955149, 642.5248135754223), (848.6277615183529, 648.0499535263502), (845.9552567291397, 649.9419799582985), (849.4173335397138, 651.4612511407727)]\n",
      "coordonnées des 1 particules:[(38.0, 35.0)]\n",
      "[(852.7143890003176, 641.296118842698), (852.5617121324624, 641.223392712375), (852.8350033051489, 641.5175747526624), (848.5476272955149, 642.5248135754223), (848.6277615183529, 648.0499535263502), (845.9552567291397, 649.9419799582985), (849.4173335397138, 651.4612511407727), (849.3164951616249, 647.7053394316556)]\n",
      "coordonnées des 1 particules:[(41.0, 37.5)]\n",
      "[(852.7143890003176, 641.296118842698), (852.5617121324624, 641.223392712375), (852.8350033051489, 641.5175747526624), (848.5476272955149, 642.5248135754223), (848.6277615183529, 648.0499535263502), (845.9552567291397, 649.9419799582985), (849.4173335397138, 651.4612511407727), (849.3164951616249, 647.7053394316556), (852.3180384826819, 647.983720841792)]\n",
      "coordonnées des 1 particules:[(30.5, 43.5)]\n",
      "[(852.7143890003176, 641.296118842698), (852.5617121324624, 641.223392712375), (852.8350033051489, 641.5175747526624), (848.5476272955149, 642.5248135754223), (848.6277615183529, 648.0499535263502), (845.9552567291397, 649.9419799582985), (849.4173335397138, 651.4612511407727), (849.3164951616249, 647.7053394316556), (852.3180384826819, 647.983720841792), (845.1558627284946, 652.9052644675874)]\n",
      "coordonnées des 1 particules:[(34.0, 36.333333333333336)]\n",
      "[(852.7143890003176, 641.296118842698), (852.5617121324624, 641.223392712375), (852.8350033051489, 641.5175747526624), (848.5476272955149, 642.5248135754223), (848.6277615183529, 648.0499535263502), (845.9552567291397, 649.9419799582985), (849.4173335397138, 651.4612511407727), (849.3164951616249, 647.7053394316556), (852.3180384826819, 647.983720841792), (845.1558627284946, 652.9052644675874), (840.9123190899963, 652.034807759)]\n",
      "coordonnées des 1 particules:[(44.5, 38.75)]\n",
      "[(852.7143890003176, 641.296118842698), (852.5617121324624, 641.223392712375), (852.8350033051489, 641.5175747526624), (848.5476272955149, 642.5248135754223), (848.6277615183529, 648.0499535263502), (845.9552567291397, 649.9419799582985), (849.4173335397138, 651.4612511407727), (849.3164951616249, 647.7053394316556), (852.3180384826819, 647.983720841792), (845.1558627284946, 652.9052644675874), (840.9123190899963, 652.034807759), (847.9001344094107, 652.4744525921975)]\n",
      "coordonnées des 1 particules:[(41.0, 40.75)]\n",
      "[(852.7143890003176, 641.296118842698), (852.5617121324624, 641.223392712375), (852.8350033051489, 641.5175747526624), (848.5476272955149, 642.5248135754223), (848.6277615183529, 648.0499535263502), (845.9552567291397, 649.9419799582985), (849.4173335397138, 651.4612511407727), (849.3164951616249, 647.7053394316556), (852.3180384826819, 647.983720841792), (845.1558627284946, 652.9052644675874), (840.9123190899963, 652.034807759), (847.9001344094107, 652.4744525921975), (850.8689386954654, 654.1766945240636)]\n",
      "coordonnées des 1 particules:[(47.0, 38.5)]\n",
      "[(852.7143890003176, 641.296118842698), (852.5617121324624, 641.223392712375), (852.8350033051489, 641.5175747526624), (848.5476272955149, 642.5248135754223), (848.6277615183529, 648.0499535263502), (845.9552567291397, 649.9419799582985), (849.4173335397138, 651.4612511407727), (849.3164951616249, 647.7053394316556), (852.3180384826819, 647.983720841792), (845.1558627284946, 652.9052644675874), (840.9123190899963, 652.034807759), (847.9001344094107, 652.4744525921975), (850.8689386954654, 654.1766945240636), (860.4240133968866, 655.1884432689443)]\n"
     ]
    }
   ],
   "source": [
    "taille_initiale, luminosité_initiale, seuil = empreinte_digitale(crop(img,x,y,35,35))\n",
    "\n",
    "\n",
    "#for i in range(first_frame,actual_frames):\n",
    "for i in range(first_frame,15):\n",
    "    tiff.seek(i)\n",
    "    if np.sum(np.array(tiff))==0:\n",
    "        position_list.append(np.array([np.nan,np.nan]))\n",
    "        sigma_list.append(np.array([np.nan,np.nan]))\n",
    "        print(\"hello\")\n",
    "    else:\n",
    "        data = particle_tracker(img, x, y, taille_initiale, luminosité_initiale, seuil)\n",
    "        position_list.append(data[2])\n",
    "        x,y = position_list[i-first_frame]\n",
    "        sigma_list.append(data[3])\n",
    "        tiff.seek(i)\n",
    "        img = np.array(tiff)\n",
    "        big_frames.append(img)\n",
    "        crop_frames.append(data[1])\n",
    "    print(position_list)\n"
   ]
  },
  {
   "cell_type": "code",
   "execution_count": 512,
   "id": "3381e213",
   "metadata": {},
   "outputs": [],
   "source": [
    "def calculate_msd_with_uncertainty(positions, delta_x, delta_y):\n",
    "    \"\"\"\n",
    "    Calcule les MSD avec propagation des incertitudes analytiques.\n",
    "    \"\"\"\n",
    "    msd = []\n",
    "    uncertainties = []\n",
    "    for d in range(1, len(positions)):\n",
    "        diff_pairs = positions[d:] - positions[:-d]\n",
    "        dx = delta_x[d:] + delta_x[:-d]\n",
    "        dy = delta_y[d:] + delta_y[:-d]\n",
    "        term_x = 2 * (diff_pairs[:, 0]**2) * (dx**2)\n",
    "        term_y = 2 * (diff_pairs[:, 1]**2) * (dy**2)\n",
    "\n",
    "        distances_squared = np.sum(diff_pairs**2, axis=1)\n",
    "        msd.append(np.mean(distances_squared))  \n",
    "        \n",
    "        # Propagation des incertitudes\n",
    "        total_uncertainty = np.mean(term_x + term_y)\n",
    "        uncertainties.append(np.sqrt(total_uncertainty))\n",
    "    \n",
    "    return np.array(msd), np.array(uncertainties)"
   ]
  },
  {
   "cell_type": "markdown",
   "id": "c355c5f0-6c28-4f45-abbe-9d17f257161b",
   "metadata": {},
   "source": [
    "# Résultats"
   ]
  },
  {
   "cell_type": "code",
   "execution_count": 513,
   "id": "4fb3cff6-dfd3-4c03-96fa-219eb0185e70",
   "metadata": {
    "execution": {
     "iopub.execute_input": "2024-11-27T00:35:56.812822Z",
     "iopub.status.busy": "2024-11-27T00:35:56.812598Z",
     "iopub.status.idle": "2024-11-27T00:35:56.821085Z",
     "shell.execute_reply": "2024-11-27T00:35:56.819985Z",
     "shell.execute_reply.started": "2024-11-27T00:35:56.812806Z"
    }
   },
   "outputs": [
    {
     "data": {
      "text/plain": [
       "[(4.81613527641922, 5.615947856004609),\n",
       " (3.6169646881911692, 4.754793338362959),\n",
       " (3.4416227408166695, 4.442691105424915),\n",
       " (3.4410934319648736, 4.237715599059012),\n",
       " (3.3515526157746285, 4.571869322139503),\n",
       " (2.994411246990326, 4.837143705043078),\n",
       " (2.8277029269095557, 5.559860649484158),\n",
       " (3.037838117357258, 4.631740412819397),\n",
       " (2.9910793070918116, 4.714120074640651),\n",
       " (2.8003834951861513, 4.633636832793034),\n",
       " (2.843764986049514, 4.632428224865064),\n",
       " (2.6932138843516085, 4.848733337004061),\n",
       " (2.7876282675043376, 4.544093112556272),\n",
       " (2.736707027528531, 3.638045534189175)]"
      ]
     },
     "execution_count": 513,
     "metadata": {},
     "output_type": "execute_result"
    }
   ],
   "source": [
    "sigma_list"
   ]
  },
  {
   "cell_type": "code",
   "execution_count": 514,
   "id": "625b1770-9368-4a91-baa2-a62960106b77",
   "metadata": {
    "execution": {
     "iopub.execute_input": "2024-11-27T00:35:56.821952Z",
     "iopub.status.busy": "2024-11-27T00:35:56.821739Z",
     "iopub.status.idle": "2024-11-27T00:35:56.893091Z",
     "shell.execute_reply": "2024-11-27T00:35:56.891915Z",
     "shell.execute_reply.started": "2024-11-27T00:35:56.821935Z"
    }
   },
   "outputs": [],
   "source": [
    "x_plt, y_plt = zip(*position_list)\n",
    "# Create the plot\n",
    "plt.figure(figsize=(10, 8))  # Optional: Adjust the figure size\n",
    "plt.plot(x_plt, y_plt, marker='o', linestyle='-', color='b', label='Connected Points')\n",
    "\n",
    "# Inverser l'axe Y\n",
    "plt.gca().invert_yaxis()\n",
    "\n",
    "# Set grid limits to match the 1440x1080 grid\n",
    "plt.xlim(0, 1440)\n",
    "plt.ylim(0, 1080)\n",
    "\n",
    "# Add labels and title\n",
    "plt.xlabel('X-axis')\n",
    "plt.ylabel('Y-axis')\n",
    "plt.title('2D Connected Points Plot')\n",
    "plt.legend()\n",
    "\n",
    "# Optional: Add grid lines\n",
    "plt.grid(True)\n",
    "\n",
    "# Afficher le graphique\n",
    "plt.show()"
   ]
  },
  {
   "cell_type": "markdown",
   "id": "5fae7658-ee40-44d3-ace6-763079316aca",
   "metadata": {},
   "source": [
    "## anim toutes les particules"
   ]
  },
  {
   "cell_type": "code",
   "execution_count": 515,
   "id": "3f852688-0624-4f98-bc43-437e31b430a4",
   "metadata": {
    "execution": {
     "iopub.execute_input": "2024-11-27T00:35:56.894366Z",
     "iopub.status.busy": "2024-11-27T00:35:56.894056Z",
     "iopub.status.idle": "2024-11-27T00:35:56.898702Z",
     "shell.execute_reply": "2024-11-27T00:35:56.897463Z",
     "shell.execute_reply.started": "2024-11-27T00:35:56.894346Z"
    }
   },
   "outputs": [],
   "source": [
    "fig, ax = plt.subplots()\n",
    "img = ax.imshow(big_frames[0], origin='lower', cmap='gray', animated=True)\n",
    "\n",
    "\n",
    "# Update function\n",
    "def update(frame):\n",
    "    img.set_array(frame)\n",
    "    return img,\n",
    "    \n",
    "ani = animation.FuncAnimation(fig, update, frames=big_frames, interval=50, blit=True)\n",
    "plt.show()"
   ]
  },
  {
   "cell_type": "markdown",
   "id": "111a50d8-6fce-40cc-bf48-775bfd002c3d",
   "metadata": {},
   "source": [
    "## anim crop"
   ]
  },
  {
   "cell_type": "code",
   "execution_count": 516,
   "id": "0d6554b7-0c86-4ee5-8a32-4bd994f881f4",
   "metadata": {
    "execution": {
     "iopub.execute_input": "2024-11-27T00:35:56.899778Z",
     "iopub.status.busy": "2024-11-27T00:35:56.899533Z",
     "iopub.status.idle": "2024-11-27T00:35:56.955616Z",
     "shell.execute_reply": "2024-11-27T00:35:56.954725Z",
     "shell.execute_reply.started": "2024-11-27T00:35:56.899759Z"
    }
   },
   "outputs": [],
   "source": [
    "fig, ax = plt.subplots()\n",
    "img = ax.imshow(crop_frames[0], origin='lower', cmap='gray', animated=True)\n",
    "\n",
    "\n",
    "def update(frame):\n",
    "    img.set_array(frame)\n",
    "    return img,\n",
    "    \n",
    "ani = animation.FuncAnimation(fig, update, frames=crop_frames, interval=50, blit=True)\n",
    "plt.show()"
   ]
  },
  {
   "cell_type": "code",
   "execution_count": null,
   "id": "a57b3c57-a5c5-4f11-b5ce-c32e975a7d83",
   "metadata": {},
   "outputs": [],
   "source": []
  }
 ],
 "metadata": {
  "kernelspec": {
   "display_name": "Python 3",
   "language": "python",
   "name": "python3"
  },
  "language_info": {
   "codemirror_mode": {
    "name": "ipython",
    "version": 3
   },
   "file_extension": ".py",
   "mimetype": "text/x-python",
   "name": "python",
   "nbconvert_exporter": "python",
   "pygments_lexer": "ipython3",
   "version": "3.12.7"
  }
 },
 "nbformat": 4,
 "nbformat_minor": 5
}
