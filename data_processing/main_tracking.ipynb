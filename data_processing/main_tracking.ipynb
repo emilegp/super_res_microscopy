{
 "cells": [
  {
   "cell_type": "markdown",
   "id": "a1bbf155-d46a-4bbb-a7bc-6857ef1672de",
   "metadata": {},
   "source": [
    "# Initialisation"
   ]
  },
  {
   "cell_type": "code",
   "execution_count": 1347,
   "id": "49fff9c0-1a10-465b-b5d6-cf2853a133db",
   "metadata": {
    "execution": {
     "iopub.execute_input": "2024-11-27T00:33:55.015775Z",
     "iopub.status.busy": "2024-11-27T00:33:55.015362Z",
     "iopub.status.idle": "2024-11-27T00:33:56.248500Z",
     "shell.execute_reply": "2024-11-27T00:33:56.247904Z",
     "shell.execute_reply.started": "2024-11-27T00:33:55.015736Z"
    }
   },
   "outputs": [],
   "source": [
    "import matplotlib\n",
    "matplotlib.use('Qt5Agg')  # Utiliser le backend Qt5Agg pour Windows\n",
    "import matplotlib.pyplot as plt\n",
    "import matplotlib.animation as animation\n",
    "from scipy.optimize import curve_fit\n",
    "import cv2\n",
    "import numpy as np\n",
    "import os\n",
    "from PIL import Image\n",
    "import lmfit\n",
    "#import tifffile\n",
    "#%matplotlib tk #pour Linux"
   ]
  },
  {
   "cell_type": "code",
   "execution_count": 1348,
   "id": "5244023b",
   "metadata": {},
   "outputs": [],
   "source": [
    "import scipy.ndimage as ndimage\n",
    "from sklearn.cluster import DBSCAN"
   ]
  },
  {
   "cell_type": "markdown",
   "id": "3c857432-f4a0-4d37-b1c3-d5115974f0f5",
   "metadata": {},
   "source": [
    "# Importer fichier"
   ]
  },
  {
   "cell_type": "code",
   "execution_count": 1349,
   "id": "72d00744-e863-4ed8-b83b-112156869997",
   "metadata": {
    "execution": {
     "iopub.execute_input": "2024-11-27T00:33:56.249387Z",
     "iopub.status.busy": "2024-11-27T00:33:56.249142Z",
     "iopub.status.idle": "2024-11-27T00:33:56.288891Z",
     "shell.execute_reply": "2024-11-27T00:33:56.287953Z",
     "shell.execute_reply.started": "2024-11-27T00:33:56.249368Z"
    }
   },
   "outputs": [],
   "source": [
    "path_to_tiff = os.path.join(\"..\", \"acquisition\", \"video_output_carac_150ms_1im_1um.tiff\")\n",
    "\n",
    "tiff = Image.open(path_to_tiff)"
   ]
  },
  {
   "cell_type": "markdown",
   "id": "a9542b9e-bfef-4abf-86f4-db78b05a8be8",
   "metadata": {},
   "source": [
    "# Nombre de frames pas vide"
   ]
  },
  {
   "cell_type": "code",
   "execution_count": 1350,
   "id": "dcf8b520-316f-4ac0-b860-fd1d965ea732",
   "metadata": {
    "execution": {
     "iopub.execute_input": "2024-11-27T00:33:56.289986Z",
     "iopub.status.busy": "2024-11-27T00:33:56.289746Z",
     "iopub.status.idle": "2024-11-27T00:33:57.058878Z",
     "shell.execute_reply": "2024-11-27T00:33:57.057944Z",
     "shell.execute_reply.started": "2024-11-27T00:33:56.289967Z"
    }
   },
   "outputs": [
    {
     "name": "stdout",
     "output_type": "stream",
     "text": [
      "All frames processed.\n"
     ]
    },
    {
     "data": {
      "text/plain": [
       "71"
      ]
     },
     "execution_count": 1350,
     "metadata": {},
     "output_type": "execute_result"
    }
   ],
   "source": [
    "with Image.open(path_to_tiff) as img:\n",
    "    frame_number = 0\n",
    "    actual_frames = 0\n",
    "    try:\n",
    "        while True:\n",
    "            frame_number += 1\n",
    "            if np.sum(np.array(img)) != 0:\n",
    "                actual_frames += 1\n",
    "                \n",
    "            img.seek(frame_number)\n",
    "    except EOFError:\n",
    "        print(\"All frames processed.\")\n",
    "\n",
    "actual_frames"
   ]
  },
  {
   "cell_type": "markdown",
   "id": "4ce4927e-f7ec-4e65-ad5d-cef9195b6cbc",
   "metadata": {},
   "source": [
    "# 1re frame\n",
    "\n",
    "**Le nombre de frames ignorés n'est pas pris en compte**"
   ]
  },
  {
   "cell_type": "code",
   "execution_count": 1351,
   "id": "26577059-48c2-4f3a-8e52-a89c99dbccd3",
   "metadata": {
    "execution": {
     "iopub.execute_input": "2024-11-27T00:33:57.059925Z",
     "iopub.status.busy": "2024-11-27T00:33:57.059662Z",
     "iopub.status.idle": "2024-11-27T00:33:57.082939Z",
     "shell.execute_reply": "2024-11-27T00:33:57.082043Z",
     "shell.execute_reply.started": "2024-11-27T00:33:57.059898Z"
    }
   },
   "outputs": [
    {
     "name": "stdout",
     "output_type": "stream",
     "text": [
      "1\n"
     ]
    }
   ],
   "source": [
    "frame_index = 0\n",
    "first_frame = 0\n",
    "tiff.seek(frame_index)\n",
    "original_image = np.array(tiff)\n",
    "\n",
    "while np.sum(original_image) == 0:\n",
    "    frame_index += 1\n",
    "    tiff.seek(frame_index)\n",
    "    original_image = np.array(tiff)\n",
    "    first_frame += 1\n",
    "    print(frame_index)\n",
    "\n",
    "\n"
   ]
  },
  {
   "cell_type": "markdown",
   "id": "e1d8711a-7b97-4eb1-8556-60a0ce1f5253",
   "metadata": {},
   "source": [
    "# Traitement d'image"
   ]
  },
  {
   "cell_type": "code",
   "execution_count": 1352,
   "id": "3a91746d-ed20-4b11-841a-4384c3c9f610",
   "metadata": {
    "execution": {
     "iopub.execute_input": "2024-11-27T00:33:57.083712Z",
     "iopub.status.busy": "2024-11-27T00:33:57.083500Z",
     "iopub.status.idle": "2024-11-27T00:33:57.942225Z",
     "shell.execute_reply": "2024-11-27T00:33:57.941368Z",
     "shell.execute_reply.started": "2024-11-27T00:33:57.083690Z"
    }
   },
   "outputs": [],
   "source": [
    "clahe = cv2.createCLAHE(clipLimit=10.0, tileGridSize=(30, 30))\n",
    "preprocessed = clahe.apply(original_image)\n",
    "\n",
    "blurred = cv2.medianBlur(preprocessed, 115)\n",
    "preprocessed2 = cv2.subtract(preprocessed, blurred)\n",
    "\n",
    "# Apply Non-Local Means Denoising\n",
    "img = cv2.fastNlMeansDenoising(preprocessed2, None, 15, 7, 41)\n"
   ]
  },
  {
   "cell_type": "markdown",
   "id": "9f52f7fc-b595-4b76-8cc3-0755544c12bd",
   "metadata": {},
   "source": [
    "# Sélection du point à tracker"
   ]
  },
  {
   "cell_type": "code",
   "execution_count": 1353,
   "id": "5a934439-4314-4c28-a4cd-c0d9113c98e9",
   "metadata": {
    "execution": {
     "iopub.execute_input": "2024-11-27T00:33:57.944451Z",
     "iopub.status.busy": "2024-11-27T00:33:57.944269Z",
     "iopub.status.idle": "2024-11-27T00:33:57.947894Z",
     "shell.execute_reply": "2024-11-27T00:33:57.947259Z",
     "shell.execute_reply.started": "2024-11-27T00:33:57.944433Z"
    }
   },
   "outputs": [],
   "source": [
    "def crop(img, x, y, crop_size_x, crop_size_y):\n",
    "    x_start = int(x - crop_size_x // 2)\n",
    "    x_end = int(x + crop_size_x // 2)\n",
    "    y_start = int(y - crop_size_y // 2)\n",
    "    y_end = int(y + crop_size_y // 2)\n",
    "\n",
    "    return img[y_start:y_end, x_start:x_end]"
   ]
  },
  {
   "cell_type": "code",
   "execution_count": 1354,
   "id": "60e9cbb8-923d-4281-89f9-accc9565c831",
   "metadata": {
    "execution": {
     "iopub.execute_input": "2024-11-27T00:33:57.948819Z",
     "iopub.status.busy": "2024-11-27T00:33:57.948575Z",
     "iopub.status.idle": "2024-11-27T00:34:16.244046Z",
     "shell.execute_reply": "2024-11-27T00:34:16.243397Z",
     "shell.execute_reply.started": "2024-11-27T00:33:57.948800Z"
    }
   },
   "outputs": [
    {
     "name": "stdout",
     "output_type": "stream",
     "text": [
      "Please click on the point you want to select.\n",
      "Selected point: (1002.9415584415586, 312.7467532467532)\n"
     ]
    }
   ],
   "source": [
    "# Display the image and let the user select a point interactively\n",
    "fig, ax = plt.subplots()\n",
    "ax.imshow(img, origin='lower', cmap='gray')  # Use 'gray' for better visibility of grayscale images\n",
    "plt.title(f\"Frame {frame_index}: Select a point\")\n",
    "\n",
    "# Ask for a point to be selected\n",
    "print(\"Please click on the point you want to select.\")\n",
    "x, y = plt.ginput(1)[0]  # This will get the coordinates of the clicked point\n",
    "print(f\"Selected point: ({x}, {y})\")\n",
    "plt.close()\n",
    "\n",
    "crop_sze = crop_sze_x = crop_sze_y = 50"
   ]
  },
  {
   "cell_type": "markdown",
   "id": "383a659b",
   "metadata": {},
   "source": [
    "Debogueur"
   ]
  },
  {
   "cell_type": "code",
   "execution_count": 1355,
   "id": "6184609f",
   "metadata": {},
   "outputs": [],
   "source": [
    "def visionneur(frame, titre):\n",
    "    plt.figure(figsize=(10, 5))\n",
    "    plt.clf() \n",
    "    plt.imshow(frame, origin='lower', cmap='gray')\n",
    "    plt.title(titre)\n",
    "    plt.colorbar()  \n",
    "    plt.show()"
   ]
  },
  {
   "cell_type": "markdown",
   "id": "6a9490a9-7dce-451b-81ff-0ae267584ee3",
   "metadata": {},
   "source": [
    "# Fit gaussien sur le point sélectionné"
   ]
  },
  {
   "cell_type": "code",
   "execution_count": 1356,
   "id": "5fc5b874-d129-40a2-985c-03a724b3cb95",
   "metadata": {
    "execution": {
     "iopub.execute_input": "2024-11-27T00:34:16.245037Z",
     "iopub.status.busy": "2024-11-27T00:34:16.244816Z",
     "iopub.status.idle": "2024-11-27T00:34:16.248322Z",
     "shell.execute_reply": "2024-11-27T00:34:16.247669Z",
     "shell.execute_reply.started": "2024-11-27T00:34:16.245020Z"
    }
   },
   "outputs": [],
   "source": [
    "def prepare_data(x, y, z):\n",
    "    return (x.flatten(), y.flatten()), z.flatten()"
   ]
  },
  {
   "cell_type": "code",
   "execution_count": 1357,
   "id": "1fb18b6a-7295-4ea7-b0fb-84f5a41fbdbb",
   "metadata": {
    "execution": {
     "iopub.execute_input": "2024-11-27T00:34:16.249457Z",
     "iopub.status.busy": "2024-11-27T00:34:16.248979Z",
     "iopub.status.idle": "2024-11-27T00:34:16.280319Z",
     "shell.execute_reply": "2024-11-27T00:34:16.279600Z",
     "shell.execute_reply.started": "2024-11-27T00:34:16.249435Z"
    }
   },
   "outputs": [],
   "source": [
    "def gaussian_2d(xy, amplitude, x0, y0, sigma_x, sigma_y, offset):\n",
    "    x, y = xy\n",
    "    a = 1 / (2 * sigma_x**2)\n",
    "    b = 1 / (2 * sigma_y**2)\n",
    "    return offset + amplitude * np.exp(- (a * (x - x0)**2 + b * (y - y0)**2))"
   ]
  },
  {
   "cell_type": "code",
   "execution_count": 1358,
   "id": "b2f948a1-d8e5-4fa8-acfe-ac569383012d",
   "metadata": {
    "execution": {
     "iopub.execute_input": "2024-11-27T00:34:16.281928Z",
     "iopub.status.busy": "2024-11-27T00:34:16.281279Z",
     "iopub.status.idle": "2024-11-27T00:34:16.286665Z",
     "shell.execute_reply": "2024-11-27T00:34:16.286066Z",
     "shell.execute_reply.started": "2024-11-27T00:34:16.281903Z"
    }
   },
   "outputs": [],
   "source": [
    "def localisateur_gaussien(intensity_grid, centre):\n",
    "    x = np.arange(intensity_grid.shape[1])\n",
    "    y = np.arange(intensity_grid.shape[0])\n",
    "    X, Y = np.meshgrid(x, y)\n",
    "\n",
    "    # Préparer les données pour le fit\n",
    "    (xdata, ydata), zdata = prepare_data(X, Y, intensity_grid)\n",
    "    model = lmfit.Model(gaussian_2d)\n",
    "    max_idx = np.unravel_index(np.argmax(intensity_grid), intensity_grid.shape)\n",
    "    initial_x0 = x[max_idx[1]]\n",
    "    initial_y0 = y[max_idx[0]]\n",
    "\n",
    "    # Définir les paramètres du modèle\n",
    "    params = model.make_params(\n",
    "        amplitude=np.max(intensity_grid),\n",
    "        x0=initial_x0,\n",
    "        y0=initial_y0,\n",
    "        sigma_x=1,\n",
    "        sigma_y=1,\n",
    "        offset=2\n",
    "    )\n",
    "\n",
    "    # Ajouter des bornes sur les paramètres x0 et y0\n",
    "    params['x0'].min = 0    # Limite inférieure pour x0\n",
    "    params['x0'].max = intensity_grid.shape[1] - 1  # Limite supérieure pour x0\n",
    "    params['y0'].min = 0    # Limite inférieure pour y0\n",
    "    params['y0'].max = intensity_grid.shape[0] - 1  # Limite supérieure pour y0\n",
    "\n",
    "    # Ajouter des bornes sur les paramètres sigma\n",
    "    params['sigma_x'].min = 1  # Limite inférieure de sigma_x\n",
    "    params['sigma_x'].max = 20 # Limite supérieure de sigma_x\n",
    "    params['sigma_y'].min = 1  # Limite inférieure de sigma_y\n",
    "    params['sigma_y'].max = 20 # Limite supérieure de sigma_y\n",
    "\n",
    "    # Effectuer l'ajustement\n",
    "    result = model.fit(zdata, params, xy=(xdata, ydata))\n",
    "    \n",
    "    x_position = result.params['x0'].value + centre[0] - crop_sze_x/2\n",
    "    y_position = result.params['y0'].value + centre[1] - crop_sze_y/2\n",
    "\n",
    "    return [x_position, y_position], result.params['sigma_x'].value, result.params['sigma_y'].value"
   ]
  },
  {
   "cell_type": "markdown",
   "id": "647422c5-d9bb-4e71-9481-76349ea02eca",
   "metadata": {},
   "source": [
    "# Process d'image (enlever le bruit)\n",
    "\n",
    "**semble faire du trouble**"
   ]
  },
  {
   "cell_type": "code",
   "execution_count": 1359,
   "id": "c3df48fe-ec70-413c-8172-84f9754a0bcf",
   "metadata": {
    "execution": {
     "iopub.execute_input": "2024-11-27T00:34:16.287655Z",
     "iopub.status.busy": "2024-11-27T00:34:16.287395Z",
     "iopub.status.idle": "2024-11-27T00:34:16.291801Z",
     "shell.execute_reply": "2024-11-27T00:34:16.291266Z",
     "shell.execute_reply.started": "2024-11-27T00:34:16.287612Z"
    }
   },
   "outputs": [],
   "source": [
    "def denoise(image):\n",
    "    clahe = cv2.createCLAHE(clipLimit=10.0, tileGridSize=(30, 30))\n",
    "    preprocessed = clahe.apply(image)\n",
    "    \n",
    "    blurred = cv2.medianBlur(preprocessed, 115)\n",
    "    preprocessed2 = cv2.subtract(preprocessed, blurred)\n",
    "    \n",
    "    return cv2.fastNlMeansDenoising(preprocessed2, None, 15, 7, 41)"
   ]
  },
  {
   "cell_type": "markdown",
   "id": "10149e95",
   "metadata": {},
   "source": [
    "# Identifier la particule et donner sa nouvelle position"
   ]
  },
  {
   "cell_type": "code",
   "execution_count": 1360,
   "id": "11c4d94f",
   "metadata": {},
   "outputs": [],
   "source": [
    "def empreinte_digitale(image, threshold=12, eps=3, min_samples=1):\n",
    "    # 1. Observer chaque particule approximativement\n",
    "    #neighborhood_size = 3  \n",
    "    #local_max = ndimage.maximum_filter(image, size=neighborhood_size)\n",
    "    visionneur(image, f'particule choisie')\n",
    "\n",
    "    maxima = (image > threshold)\n",
    "    \n",
    "    coordinates = np.column_stack(np.where(maxima))  \n",
    "    if coordinates.shape[0] == 0:\n",
    "        print(\"Aucune particule détectée.\")\n",
    "        return [], image\n",
    "\n",
    "    dbscan = DBSCAN(eps=eps, min_samples=min_samples)\n",
    "    labels = dbscan.fit_predict(coordinates)\n",
    "    unique_labels = np.unique(labels)\n",
    "    size=0\n",
    "\n",
    "    # 2. Déterminer l'empreinte digitale de notre particule\n",
    "    for label in unique_labels:\n",
    "        if label != -1:  # -1 correspond au bruit dans DBSCAN\n",
    "            cluster_points = coordinates[labels == label]\n",
    "            plt.scatter(cluster_points[:, 1], cluster_points[:, 0], label=f'Particule {label}')\n",
    "\n",
    "            if cluster_points.shape[0]>size:\n",
    "                size = cluster_points.shape[0]\n",
    "                luminosity = np.mean(image[cluster_points[:, 0], cluster_points[:, 1]])\n",
    "\n",
    "    seuil=np.max(image)*0.5\n",
    "    print(seuil)\n",
    "    # 3. Afficher les résultats et filtrer les particules selon leur taille et luminosité\n",
    "    plt.imshow(image, origin='lower', cmap='gray')\n",
    "    plt.title(f\"Empreinte digitale de la particule, lum={luminosity} et taille={size}\")\n",
    "    plt.legend()\n",
    "    plt.colorbar()  \n",
    "    plt.show()\n",
    "\n",
    "    return size, luminosity, seuil"
   ]
  },
  {
   "cell_type": "code",
   "execution_count": 1361,
   "id": "f690236d",
   "metadata": {},
   "outputs": [],
   "source": [
    "def detect_nbre_particles(image, threshold, eps=5, min_samples=1):\n",
    "    # 1. Appliquer un filtre de voisinage pour détecter les maxima locaux\n",
    "    neighborhood_size = 3  # Taille du voisinage pour détecter les maxima locaux\n",
    "    local_max = ndimage.maximum_filter(image, size=neighborhood_size)\n",
    "    # 2. Comparer l'image originale et les maxima locaux pour identifier les vrais maxima\n",
    "    maxima = (image == local_max) & (image > threshold)\n",
    "\n",
    "    # 3. Extraire les coordonnées des maxima (particules)\n",
    "    coordinates = np.column_stack(np.where(maxima))  # Extraire les indices des pixels maximaux\n",
    "    if coordinates.shape[0] == 0:\n",
    "        print(\"Aucune particule détectée.\")\n",
    "        visionneur(image, f'détection du nombre de particules')\n",
    "\n",
    "        return [], image\n",
    "\n",
    "    # 4. Appliquer DBSCAN pour regrouper les particules proches (cluster les maxima détectés)\n",
    "    dbscan = DBSCAN(eps=eps, min_samples=min_samples)\n",
    "    labels = dbscan.fit_predict(coordinates)\n",
    "\n",
    "    #5. Déterminer le nombre de particules\n",
    "    unique_labels = np.unique(labels)\n",
    "    nb_particules = len(unique_labels)\n",
    "        \n",
    "    # 6. Afficher les résultats et filtrer les particules selon leur taille et luminosité\n",
    "    # plt.imshow(image, origin='lower', cmap='gray')\n",
    "    # plt.title(\"Détection des particules\")\n",
    "    \n",
    "    positions=[]\n",
    "    for label in unique_labels:\n",
    "        if label != -1:  # -1 correspond au bruit dans DBSCAN\n",
    "            cluster_points = coordinates[labels == label]\n",
    "            plt.scatter(cluster_points[:, 1], cluster_points[:, 0], label=f'Particule {label}')\n",
    "        positions.append((np.mean(cluster_points[:, 1]), np.mean(cluster_points[:, 0])))\n",
    "        \n",
    "\n",
    "    # plt.colorbar()  \n",
    "    # plt.legend()\n",
    "    # plt.show()\n",
    "\n",
    "    # Retourner les coordonnées des particules filtrées\n",
    "    return nb_particules, positions"
   ]
  },
  {
   "cell_type": "code",
   "execution_count": 1362,
   "id": "ddfe6898",
   "metadata": {},
   "outputs": [],
   "source": [
    "def identificateur_particles(image, ref_size, ref_luminosity, threshold=25, eps=5, min_samples=1):\n",
    "    # 1. Obtenir le plus d'info sur la particule\n",
    "    maxima = (image > threshold)\n",
    "    \n",
    "    coordinates = np.column_stack(np.where(maxima))  \n",
    "    if coordinates.shape[0] == 0:\n",
    "        print(\"Mauvais re-crop empêche identification de la particule.\")\n",
    "        return [], image\n",
    "\n",
    "    dbscan = DBSCAN(eps=eps, min_samples=min_samples)\n",
    "    labels = dbscan.fit_predict(coordinates)\n",
    "    unique_labels = np.unique(labels)\n",
    "\n",
    "    # 2. Parcourir chaque particule et identifier laquelle est celle qu'on suit\n",
    "    distances = []\n",
    "    position_particules = []\n",
    "\n",
    "    for label in unique_labels:\n",
    "        if label != -1:  # -1 correspond au bruit dans DBSCAN\n",
    "            cluster_points = coordinates[labels == label]\n",
    "            \n",
    "            size = cluster_points.shape[0]\n",
    "            luminosity = np.mean(image[cluster_points[:, 0], cluster_points[:, 1]])\n",
    "            size_distance = abs(size - ref_size)  \n",
    "            luminosity_distance = abs(luminosity - ref_luminosity)  \n",
    "            combined_distance = size_distance + luminosity_distance\n",
    "            distances.append(combined_distance)\n",
    "            position_particules.append((np.mean(cluster_points[:, 1]), np.mean(cluster_points[:, 0])))\n",
    "\n",
    "    ecart = np.min(distances)\n",
    "    position_best_particle = position_particules[np.argmin(distances)]  \n",
    "    print(f'ecrat: {ecart}')\n",
    "    # 3. Afficher les résultats et filtrer les particules selon leur taille et luminosité\n",
    "    # plt.imshow(image, origin='lower', cmap='gray')\n",
    "    # plt.title(\"Détection des particules\")\n",
    "    # plt.scatter(position_best_particle[0], position_best_particle[1], color='r', label=f'Particule sélectionnée')\n",
    "    # plt.legend()\n",
    "    # plt.colorbar()  \n",
    "    # plt.show()\n",
    "\n",
    "    return position_best_particle, ecart"
   ]
  },
  {
   "cell_type": "markdown",
   "id": "61f2661b-5185-493a-bd25-97d1c42d712c",
   "metadata": {},
   "source": [
    "# Faire le crop et fit"
   ]
  },
  {
   "cell_type": "code",
   "execution_count": 1363,
   "id": "b695a082-5a85-499e-9183-cfd354b4dc5d",
   "metadata": {
    "execution": {
     "iopub.execute_input": "2024-11-27T00:34:16.297421Z",
     "iopub.status.busy": "2024-11-27T00:34:16.297176Z",
     "iopub.status.idle": "2024-11-27T00:34:16.301468Z",
     "shell.execute_reply": "2024-11-27T00:34:16.300888Z",
     "shell.execute_reply.started": "2024-11-27T00:34:16.297403Z"
    }
   },
   "outputs": [],
   "source": [
    "def particle_tracker_simple(image, x, y):\n",
    "    image = denoise(image)\n",
    "\n",
    "    cropped_img = crop(image, x, y, crop_sze_x, crop_sze_y)\n",
    "    \n",
    "    #Gérer plus qu'une particule\n",
    "    cropped_img = np.array(cropped_img)\n",
    "    max_index = np.argmax(cropped_img)\n",
    "    max_coords = np.unravel_index(max_index, cropped_img.shape)\n",
    "\n",
    "    nouveau_x = x - crop_sze_x // 2 + max_coords[1]\n",
    "    nouveau_y = y - crop_sze_y // 2 + max_coords[0]\n",
    "    \n",
    "    second_crop = crop(image, nouveau_x, nouveau_y, crop_sze_x, crop_sze_y)    # Re-crop autour d'une seule particule\n",
    "\n",
    "    result_fit = localisateur_gaussien(second_crop, [nouveau_x, nouveau_y])\n",
    "\n",
    "    x_new, y_new = result_fit[0][0], result_fit[0][1]\n",
    "\n",
    "    return [result_fit, cropped_img, (x_new, y_new), (result_fit[1], result_fit[2])]"
   ]
  },
  {
   "cell_type": "code",
   "execution_count": 1364,
   "id": "5625e5b2",
   "metadata": {},
   "outputs": [],
   "source": [
    "#Placés ici pour pouvoir y faire référence dans particule_tracker\n",
    "position_list=[[x,y]]\n",
    "sigma_list = []\n",
    "crop_frames = []\n",
    "big_frames = []"
   ]
  },
  {
   "cell_type": "code",
   "execution_count": 1365,
   "id": "0d8ff164",
   "metadata": {},
   "outputs": [],
   "source": [
    "def particle_tracker(imge, x, y, taille_initiale, luminosité_initiale, seuil):\n",
    "    # 1. Ce qu'on voit près de l'ancienne position\n",
    "    image = denoise(imge)\n",
    "\n",
    "    cropped_img = crop(image, x, y, crop_sze_x, crop_sze_y)\n",
    "    \n",
    "    # 2. Déterminer combien il y a de particules et laquelle est la notre\n",
    "    # Utiliser une reconnaissance de particules et si plus qu'une, alors clic pour choisir\n",
    "    nb_part, coordonnées = detect_nbre_particles(cropped_img, seuil)\n",
    "    #print(f'coordonnées des {nb_part} particules:{coordonnées}')\n",
    "\n",
    "    if (nb_part == 0) or (nb_part == []):\n",
    "        # Display the image and let the user select a point interactively\n",
    "        fig, ax = plt.subplots()\n",
    "        ax.imshow(denoise(img), origin='lower', cmap='gray') \n",
    "        plt.title(f\"Frame {len(position_list)-1}: Select a point\")\n",
    "\n",
    "        # Ajouter une croix rouge à la position donnée\n",
    "        cx, cy = position_list[len(position_list)-1]\n",
    "        ax.plot(cx, cy, 'rx', markersize=10) \n",
    "        \n",
    "        # Afficher l'image et demander à l'utilisateur de cliquer\n",
    "        print(\"Please click on the point you want to select.\")\n",
    "        nouveau_x, nouveau_y = plt.ginput(1)[0]  # Attente du clic de l'utilisateur (1 point)\n",
    "        print(f\"Selected point: ({nouveau_x}, {nouveau_y})\")\n",
    "        \n",
    "        # Fermer l'affichage après sélection\n",
    "        plt.close()\n",
    "    elif nb_part > 1:\n",
    "        imperfections, emplacements = [] , []\n",
    "        for num_particule in range(nb_part):\n",
    "            x_identifier=x - crop_sze_x // 2 + coordonnées[num_particule][0]\n",
    "            y_identifier=y - crop_sze_y // 2 + coordonnées[num_particule][1]\n",
    "            crop_pour_identifier = crop(image, x_identifier, y_identifier, crop_sze_x//2, crop_sze_y//2)\n",
    "            emplacement, ecart = identificateur_particles(crop_pour_identifier, taille_initiale, luminosité_initiale, seuil)\n",
    "            imperfections.append(ecart)\n",
    "            emplacements.append(emplacement)\n",
    "        qualité = np.min(imperfections)\n",
    "        print(f'écart:{qualité}')\n",
    "        max_coords = emplacements[np.argmin(imperfections)]  \n",
    "        nouveau_x = x_identifier - crop_sze_x // 4 + max_coords[0]\n",
    "        nouveau_y = y_identifier - crop_sze_y // 4 + max_coords[1]\n",
    "    else:\n",
    "        cropped_img = np.array(cropped_img)\n",
    "        max_index = np.argmax(cropped_img)\n",
    "        max_coords = np.unravel_index(max_index, cropped_img.shape)\n",
    "\n",
    "        nouveau_x = x - crop_sze_x // 2 + max_coords[1] #Oui c'est inversé à cause du unravel juste avant\n",
    "        nouveau_y = y - crop_sze_y // 2 + max_coords[0]\n",
    "\n",
    "    # Vérification s'il fout le camp \n",
    "    if np.sqrt((position_list[-1][0]-nouveau_x)**2+(position_list[-1][1]-nouveau_y)**2)>50:\n",
    "        # Display the image and let the user select a point interactively\n",
    "        fig, ax = plt.subplots()\n",
    "        ax.imshow(denoise(img), origin='lower', cmap='gray') \n",
    "        plt.title(f\"Frame {len(position_list)-1}: Problème d'identification, select a point\")\n",
    "\n",
    "        print('problème d''identification')\n",
    "        # Ajouter une croix rouge à la position donnée\n",
    "        cx, cy = position_list[-1]\n",
    "        ax.plot(cx, cy, 'rx', markersize=10, label=f'Position estimée') \n",
    "        plt.legend()\n",
    "        # Afficher l'image et demander à l'utilisateur de cliquer\n",
    "        print(\"Please click on the point you want to select.\")\n",
    "        nouveau_x, nouveau_y = plt.ginput(1)[0]  # Attente du clic de l'utilisateur (1 point)\n",
    "        print(f\"Selected point: ({nouveau_x}, {nouveau_y})\")\n",
    "        \n",
    "        # Fermer l'affichage après sélection\n",
    "        plt.close()\n",
    "\n",
    "    # 3. Crop atour de notre particule et fit dessus\n",
    "    second_crop = crop(image, nouveau_x, nouveau_y, crop_sze_x//2, crop_sze_y//2)    # Re-crop autour d'une seule particule\n",
    "\n",
    "\n",
    "    result_fit = localisateur_gaussien(second_crop, [nouveau_x, nouveau_y])\n",
    "\n",
    "    x_new, y_new = result_fit[0][0], result_fit[0][1]\n",
    "\n",
    "    #Affiche l'accord entre le fit gaussien et le blob (pour comparer)\n",
    "    # x_range = np.arange(crop_sze_x) - crop_sze_x//2 \n",
    "    # y_range = np.arange(crop_sze_y) - crop_sze_y//2\n",
    "    # x_position = x_range + x_new  \n",
    "    # y_position = y_range + y_new \n",
    "    # plt.imshow(second_crop, origin='lower', cmap='gray', extent=[x_position.min(), x_position.max(), y_position.min(), y_position.max()])\n",
    "    # plt.title(\"positionnement de la particule\")\n",
    "    # plt.scatter(x_new, y_new, color='r', label=f'Position estimée par fit gaussien')\n",
    "    # plt.scatter(nouveau_x-12.5, nouveau_y-12.5, color='r', marker='+', label=f'Position meilleure particule')\n",
    "    # plt.legend()\n",
    "    # plt.colorbar()  \n",
    "    # plt.show()\n",
    "\n",
    "    return [result_fit, second_crop, (x_new, y_new), (result_fit[1], result_fit[2])]"
   ]
  },
  {
   "cell_type": "markdown",
   "id": "8002acc8-bac7-4c69-846a-381ee31f08ff",
   "metadata": {},
   "source": [
    "# Main loop"
   ]
  },
  {
   "cell_type": "code",
   "execution_count": 1366,
   "id": "e7a5dba4-849a-4171-8fbb-6d05453ed795",
   "metadata": {
    "execution": {
     "iopub.execute_input": "2024-11-27T00:34:16.302483Z",
     "iopub.status.busy": "2024-11-27T00:34:16.302259Z",
     "iopub.status.idle": "2024-11-27T00:35:56.804477Z",
     "shell.execute_reply": "2024-11-27T00:35:56.803536Z",
     "shell.execute_reply.started": "2024-11-27T00:34:16.302464Z"
    }
   },
   "outputs": [
    {
     "name": "stdout",
     "output_type": "stream",
     "text": [
      "22.5\n",
      "position initiale: [[1002.9415584415586, 312.7467532467532]]\n",
      "liste des positions frame 1:[[1002.9415584415586, 312.7467532467532], (989.8125294517786, 296.20680700981427)]\n",
      "liste des positions frame 2:[[1002.9415584415586, 312.7467532467532], (989.8125294517786, 296.20680700981427), (989.4277269334309, 295.77144664602326)]\n",
      "liste des positions frame 3:[[1002.9415584415586, 312.7467532467532], (989.8125294517786, 296.20680700981427), (989.4277269334309, 295.77144664602326), (991.1806111643426, 299.17939396866757)]\n",
      "liste des positions frame 4:[[1002.9415584415586, 312.7467532467532], (989.8125294517786, 296.20680700981427), (989.4277269334309, 295.77144664602326), (991.1806111643426, 299.17939396866757), (993.5906578994459, 299.668566854823)]\n",
      "liste des positions frame 5:[[1002.9415584415586, 312.7467532467532], (989.8125294517786, 296.20680700981427), (989.4277269334309, 295.77144664602326), (991.1806111643426, 299.17939396866757), (993.5906578994459, 299.668566854823), (991.2702422006975, 302.5594462208462)]\n",
      "liste des positions frame 6:[[1002.9415584415586, 312.7467532467532], (989.8125294517786, 296.20680700981427), (989.4277269334309, 295.77144664602326), (991.1806111643426, 299.17939396866757), (993.5906578994459, 299.668566854823), (991.2702422006975, 302.5594462208462), (988.6903027393935, 297.94133488522544)]\n",
      "liste des positions frame 7:[[1002.9415584415586, 312.7467532467532], (989.8125294517786, 296.20680700981427), (989.4277269334309, 295.77144664602326), (991.1806111643426, 299.17939396866757), (993.5906578994459, 299.668566854823), (991.2702422006975, 302.5594462208462), (988.6903027393935, 297.94133488522544), (993.8067664158483, 295.2674063700389)]\n",
      "liste des positions frame 8:[[1002.9415584415586, 312.7467532467532], (989.8125294517786, 296.20680700981427), (989.4277269334309, 295.77144664602326), (991.1806111643426, 299.17939396866757), (993.5906578994459, 299.668566854823), (991.2702422006975, 302.5594462208462), (988.6903027393935, 297.94133488522544), (993.8067664158483, 295.2674063700389), (984.8921586955166, 293.30567379635846)]\n",
      "liste des positions frame 9:[[1002.9415584415586, 312.7467532467532], (989.8125294517786, 296.20680700981427), (989.4277269334309, 295.77144664602326), (991.1806111643426, 299.17939396866757), (993.5906578994459, 299.668566854823), (991.2702422006975, 302.5594462208462), (988.6903027393935, 297.94133488522544), (993.8067664158483, 295.2674063700389), (984.8921586955166, 293.30567379635846), (983.8318118109021, 294.1604443971748)]\n",
      "liste des positions frame 10:[[1002.9415584415586, 312.7467532467532], (989.8125294517786, 296.20680700981427), (989.4277269334309, 295.77144664602326), (991.1806111643426, 299.17939396866757), (993.5906578994459, 299.668566854823), (991.2702422006975, 302.5594462208462), (988.6903027393935, 297.94133488522544), (993.8067664158483, 295.2674063700389), (984.8921586955166, 293.30567379635846), (983.8318118109021, 294.1604443971748), (985.546195298314, 297.0046850781348)]\n",
      "liste des positions frame 11:[[1002.9415584415586, 312.7467532467532], (989.8125294517786, 296.20680700981427), (989.4277269334309, 295.77144664602326), (991.1806111643426, 299.17939396866757), (993.5906578994459, 299.668566854823), (991.2702422006975, 302.5594462208462), (988.6903027393935, 297.94133488522544), (993.8067664158483, 295.2674063700389), (984.8921586955166, 293.30567379635846), (983.8318118109021, 294.1604443971748), (985.546195298314, 297.0046850781348), (981.1121287578699, 298.14455063318786)]\n",
      "liste des positions frame 12:[[1002.9415584415586, 312.7467532467532], (989.8125294517786, 296.20680700981427), (989.4277269334309, 295.77144664602326), (991.1806111643426, 299.17939396866757), (993.5906578994459, 299.668566854823), (991.2702422006975, 302.5594462208462), (988.6903027393935, 297.94133488522544), (993.8067664158483, 295.2674063700389), (984.8921586955166, 293.30567379635846), (983.8318118109021, 294.1604443971748), (985.546195298314, 297.0046850781348), (981.1121287578699, 298.14455063318786), (976.5028118761496, 294.99093496715324)]\n",
      "liste des positions frame 13:[[1002.9415584415586, 312.7467532467532], (989.8125294517786, 296.20680700981427), (989.4277269334309, 295.77144664602326), (991.1806111643426, 299.17939396866757), (993.5906578994459, 299.668566854823), (991.2702422006975, 302.5594462208462), (988.6903027393935, 297.94133488522544), (993.8067664158483, 295.2674063700389), (984.8921586955166, 293.30567379635846), (983.8318118109021, 294.1604443971748), (985.546195298314, 297.0046850781348), (981.1121287578699, 298.14455063318786), (976.5028118761496, 294.99093496715324), (966.8914801780055, 294.2108571581818)]\n",
      "liste des positions frame 14:[[1002.9415584415586, 312.7467532467532], (989.8125294517786, 296.20680700981427), (989.4277269334309, 295.77144664602326), (991.1806111643426, 299.17939396866757), (993.5906578994459, 299.668566854823), (991.2702422006975, 302.5594462208462), (988.6903027393935, 297.94133488522544), (993.8067664158483, 295.2674063700389), (984.8921586955166, 293.30567379635846), (983.8318118109021, 294.1604443971748), (985.546195298314, 297.0046850781348), (981.1121287578699, 298.14455063318786), (976.5028118761496, 294.99093496715324), (966.8914801780055, 294.2108571581818), (977.0724821138992, 297.11840326473794)]\n",
      "liste des positions frame 15:[[1002.9415584415586, 312.7467532467532], (989.8125294517786, 296.20680700981427), (989.4277269334309, 295.77144664602326), (991.1806111643426, 299.17939396866757), (993.5906578994459, 299.668566854823), (991.2702422006975, 302.5594462208462), (988.6903027393935, 297.94133488522544), (993.8067664158483, 295.2674063700389), (984.8921586955166, 293.30567379635846), (983.8318118109021, 294.1604443971748), (985.546195298314, 297.0046850781348), (981.1121287578699, 298.14455063318786), (976.5028118761496, 294.99093496715324), (966.8914801780055, 294.2108571581818), (977.0724821138992, 297.11840326473794), (973.6207875114407, 296.562677592065)]\n",
      "liste des positions frame 16:[[1002.9415584415586, 312.7467532467532], (989.8125294517786, 296.20680700981427), (989.4277269334309, 295.77144664602326), (991.1806111643426, 299.17939396866757), (993.5906578994459, 299.668566854823), (991.2702422006975, 302.5594462208462), (988.6903027393935, 297.94133488522544), (993.8067664158483, 295.2674063700389), (984.8921586955166, 293.30567379635846), (983.8318118109021, 294.1604443971748), (985.546195298314, 297.0046850781348), (981.1121287578699, 298.14455063318786), (976.5028118761496, 294.99093496715324), (966.8914801780055, 294.2108571581818), (977.0724821138992, 297.11840326473794), (973.6207875114407, 296.562677592065), (974.0822201726104, 294.38467837481835)]\n",
      "liste des positions frame 17:[[1002.9415584415586, 312.7467532467532], (989.8125294517786, 296.20680700981427), (989.4277269334309, 295.77144664602326), (991.1806111643426, 299.17939396866757), (993.5906578994459, 299.668566854823), (991.2702422006975, 302.5594462208462), (988.6903027393935, 297.94133488522544), (993.8067664158483, 295.2674063700389), (984.8921586955166, 293.30567379635846), (983.8318118109021, 294.1604443971748), (985.546195298314, 297.0046850781348), (981.1121287578699, 298.14455063318786), (976.5028118761496, 294.99093496715324), (966.8914801780055, 294.2108571581818), (977.0724821138992, 297.11840326473794), (973.6207875114407, 296.562677592065), (974.0822201726104, 294.38467837481835), (966.3314136569632, 297.5799932331165)]\n",
      "liste des positions frame 18:[[1002.9415584415586, 312.7467532467532], (989.8125294517786, 296.20680700981427), (989.4277269334309, 295.77144664602326), (991.1806111643426, 299.17939396866757), (993.5906578994459, 299.668566854823), (991.2702422006975, 302.5594462208462), (988.6903027393935, 297.94133488522544), (993.8067664158483, 295.2674063700389), (984.8921586955166, 293.30567379635846), (983.8318118109021, 294.1604443971748), (985.546195298314, 297.0046850781348), (981.1121287578699, 298.14455063318786), (976.5028118761496, 294.99093496715324), (966.8914801780055, 294.2108571581818), (977.0724821138992, 297.11840326473794), (973.6207875114407, 296.562677592065), (974.0822201726104, 294.38467837481835), (966.3314136569632, 297.5799932331165), (968.2133656311215, 299.1762583692889)]\n",
      "liste des positions frame 19:[[1002.9415584415586, 312.7467532467532], (989.8125294517786, 296.20680700981427), (989.4277269334309, 295.77144664602326), (991.1806111643426, 299.17939396866757), (993.5906578994459, 299.668566854823), (991.2702422006975, 302.5594462208462), (988.6903027393935, 297.94133488522544), (993.8067664158483, 295.2674063700389), (984.8921586955166, 293.30567379635846), (983.8318118109021, 294.1604443971748), (985.546195298314, 297.0046850781348), (981.1121287578699, 298.14455063318786), (976.5028118761496, 294.99093496715324), (966.8914801780055, 294.2108571581818), (977.0724821138992, 297.11840326473794), (973.6207875114407, 296.562677592065), (974.0822201726104, 294.38467837481835), (966.3314136569632, 297.5799932331165), (968.2133656311215, 299.1762583692889), (962.2775627026798, 291.1559407214189)]\n",
      "liste des positions frame 20:[[1002.9415584415586, 312.7467532467532], (989.8125294517786, 296.20680700981427), (989.4277269334309, 295.77144664602326), (991.1806111643426, 299.17939396866757), (993.5906578994459, 299.668566854823), (991.2702422006975, 302.5594462208462), (988.6903027393935, 297.94133488522544), (993.8067664158483, 295.2674063700389), (984.8921586955166, 293.30567379635846), (983.8318118109021, 294.1604443971748), (985.546195298314, 297.0046850781348), (981.1121287578699, 298.14455063318786), (976.5028118761496, 294.99093496715324), (966.8914801780055, 294.2108571581818), (977.0724821138992, 297.11840326473794), (973.6207875114407, 296.562677592065), (974.0822201726104, 294.38467837481835), (966.3314136569632, 297.5799932331165), (968.2133656311215, 299.1762583692889), (962.2775627026798, 291.1559407214189), (957.582950648502, 289.26192986576643)]\n",
      "liste des positions frame 21:[[1002.9415584415586, 312.7467532467532], (989.8125294517786, 296.20680700981427), (989.4277269334309, 295.77144664602326), (991.1806111643426, 299.17939396866757), (993.5906578994459, 299.668566854823), (991.2702422006975, 302.5594462208462), (988.6903027393935, 297.94133488522544), (993.8067664158483, 295.2674063700389), (984.8921586955166, 293.30567379635846), (983.8318118109021, 294.1604443971748), (985.546195298314, 297.0046850781348), (981.1121287578699, 298.14455063318786), (976.5028118761496, 294.99093496715324), (966.8914801780055, 294.2108571581818), (977.0724821138992, 297.11840326473794), (973.6207875114407, 296.562677592065), (974.0822201726104, 294.38467837481835), (966.3314136569632, 297.5799932331165), (968.2133656311215, 299.1762583692889), (962.2775627026798, 291.1559407214189), (957.582950648502, 289.26192986576643), (955.0070317691021, 292.2645377490692)]\n",
      "liste des positions frame 22:[[1002.9415584415586, 312.7467532467532], (989.8125294517786, 296.20680700981427), (989.4277269334309, 295.77144664602326), (991.1806111643426, 299.17939396866757), (993.5906578994459, 299.668566854823), (991.2702422006975, 302.5594462208462), (988.6903027393935, 297.94133488522544), (993.8067664158483, 295.2674063700389), (984.8921586955166, 293.30567379635846), (983.8318118109021, 294.1604443971748), (985.546195298314, 297.0046850781348), (981.1121287578699, 298.14455063318786), (976.5028118761496, 294.99093496715324), (966.8914801780055, 294.2108571581818), (977.0724821138992, 297.11840326473794), (973.6207875114407, 296.562677592065), (974.0822201726104, 294.38467837481835), (966.3314136569632, 297.5799932331165), (968.2133656311215, 299.1762583692889), (962.2775627026798, 291.1559407214189), (957.582950648502, 289.26192986576643), (955.0070317691021, 292.2645377490692), (951.4825689835557, 290.81668207931824)]\n",
      "liste des positions frame 23:[[1002.9415584415586, 312.7467532467532], (989.8125294517786, 296.20680700981427), (989.4277269334309, 295.77144664602326), (991.1806111643426, 299.17939396866757), (993.5906578994459, 299.668566854823), (991.2702422006975, 302.5594462208462), (988.6903027393935, 297.94133488522544), (993.8067664158483, 295.2674063700389), (984.8921586955166, 293.30567379635846), (983.8318118109021, 294.1604443971748), (985.546195298314, 297.0046850781348), (981.1121287578699, 298.14455063318786), (976.5028118761496, 294.99093496715324), (966.8914801780055, 294.2108571581818), (977.0724821138992, 297.11840326473794), (973.6207875114407, 296.562677592065), (974.0822201726104, 294.38467837481835), (966.3314136569632, 297.5799932331165), (968.2133656311215, 299.1762583692889), (962.2775627026798, 291.1559407214189), (957.582950648502, 289.26192986576643), (955.0070317691021, 292.2645377490692), (951.4825689835557, 290.81668207931824), (949.6014916168358, 283.0422756727952)]\n",
      "liste des positions frame 24:[[1002.9415584415586, 312.7467532467532], (989.8125294517786, 296.20680700981427), (989.4277269334309, 295.77144664602326), (991.1806111643426, 299.17939396866757), (993.5906578994459, 299.668566854823), (991.2702422006975, 302.5594462208462), (988.6903027393935, 297.94133488522544), (993.8067664158483, 295.2674063700389), (984.8921586955166, 293.30567379635846), (983.8318118109021, 294.1604443971748), (985.546195298314, 297.0046850781348), (981.1121287578699, 298.14455063318786), (976.5028118761496, 294.99093496715324), (966.8914801780055, 294.2108571581818), (977.0724821138992, 297.11840326473794), (973.6207875114407, 296.562677592065), (974.0822201726104, 294.38467837481835), (966.3314136569632, 297.5799932331165), (968.2133656311215, 299.1762583692889), (962.2775627026798, 291.1559407214189), (957.582950648502, 289.26192986576643), (955.0070317691021, 292.2645377490692), (951.4825689835557, 290.81668207931824), (949.6014916168358, 283.0422756727952), (943.8024958042416, 283.10546242844407)]\n",
      "liste des positions frame 25:[[1002.9415584415586, 312.7467532467532], (989.8125294517786, 296.20680700981427), (989.4277269334309, 295.77144664602326), (991.1806111643426, 299.17939396866757), (993.5906578994459, 299.668566854823), (991.2702422006975, 302.5594462208462), (988.6903027393935, 297.94133488522544), (993.8067664158483, 295.2674063700389), (984.8921586955166, 293.30567379635846), (983.8318118109021, 294.1604443971748), (985.546195298314, 297.0046850781348), (981.1121287578699, 298.14455063318786), (976.5028118761496, 294.99093496715324), (966.8914801780055, 294.2108571581818), (977.0724821138992, 297.11840326473794), (973.6207875114407, 296.562677592065), (974.0822201726104, 294.38467837481835), (966.3314136569632, 297.5799932331165), (968.2133656311215, 299.1762583692889), (962.2775627026798, 291.1559407214189), (957.582950648502, 289.26192986576643), (955.0070317691021, 292.2645377490692), (951.4825689835557, 290.81668207931824), (949.6014916168358, 283.0422756727952), (943.8024958042416, 283.10546242844407), (938.1952994846754, 283.75714547983966)]\n",
      "liste des positions frame 26:[[1002.9415584415586, 312.7467532467532], (989.8125294517786, 296.20680700981427), (989.4277269334309, 295.77144664602326), (991.1806111643426, 299.17939396866757), (993.5906578994459, 299.668566854823), (991.2702422006975, 302.5594462208462), (988.6903027393935, 297.94133488522544), (993.8067664158483, 295.2674063700389), (984.8921586955166, 293.30567379635846), (983.8318118109021, 294.1604443971748), (985.546195298314, 297.0046850781348), (981.1121287578699, 298.14455063318786), (976.5028118761496, 294.99093496715324), (966.8914801780055, 294.2108571581818), (977.0724821138992, 297.11840326473794), (973.6207875114407, 296.562677592065), (974.0822201726104, 294.38467837481835), (966.3314136569632, 297.5799932331165), (968.2133656311215, 299.1762583692889), (962.2775627026798, 291.1559407214189), (957.582950648502, 289.26192986576643), (955.0070317691021, 292.2645377490692), (951.4825689835557, 290.81668207931824), (949.6014916168358, 283.0422756727952), (943.8024958042416, 283.10546242844407), (938.1952994846754, 283.75714547983966), (932.5549052608853, 279.58562216072215)]\n",
      "frames vide:27\n",
      "liste des positions frame 27:[[1002.9415584415586, 312.7467532467532], (989.8125294517786, 296.20680700981427), (989.4277269334309, 295.77144664602326), (991.1806111643426, 299.17939396866757), (993.5906578994459, 299.668566854823), (991.2702422006975, 302.5594462208462), (988.6903027393935, 297.94133488522544), (993.8067664158483, 295.2674063700389), (984.8921586955166, 293.30567379635846), (983.8318118109021, 294.1604443971748), (985.546195298314, 297.0046850781348), (981.1121287578699, 298.14455063318786), (976.5028118761496, 294.99093496715324), (966.8914801780055, 294.2108571581818), (977.0724821138992, 297.11840326473794), (973.6207875114407, 296.562677592065), (974.0822201726104, 294.38467837481835), (966.3314136569632, 297.5799932331165), (968.2133656311215, 299.1762583692889), (962.2775627026798, 291.1559407214189), (957.582950648502, 289.26192986576643), (955.0070317691021, 292.2645377490692), (951.4825689835557, 290.81668207931824), (949.6014916168358, 283.0422756727952), (943.8024958042416, 283.10546242844407), (938.1952994846754, 283.75714547983966), (932.5549052608853, 279.58562216072215), array([nan, nan])]\n",
      "liste des positions frame 28:[[1002.9415584415586, 312.7467532467532], (989.8125294517786, 296.20680700981427), (989.4277269334309, 295.77144664602326), (991.1806111643426, 299.17939396866757), (993.5906578994459, 299.668566854823), (991.2702422006975, 302.5594462208462), (988.6903027393935, 297.94133488522544), (993.8067664158483, 295.2674063700389), (984.8921586955166, 293.30567379635846), (983.8318118109021, 294.1604443971748), (985.546195298314, 297.0046850781348), (981.1121287578699, 298.14455063318786), (976.5028118761496, 294.99093496715324), (966.8914801780055, 294.2108571581818), (977.0724821138992, 297.11840326473794), (973.6207875114407, 296.562677592065), (974.0822201726104, 294.38467837481835), (966.3314136569632, 297.5799932331165), (968.2133656311215, 299.1762583692889), (962.2775627026798, 291.1559407214189), (957.582950648502, 289.26192986576643), (955.0070317691021, 292.2645377490692), (951.4825689835557, 290.81668207931824), (949.6014916168358, 283.0422756727952), (943.8024958042416, 283.10546242844407), (938.1952994846754, 283.75714547983966), (932.5549052608853, 279.58562216072215), array([nan, nan]), (925.0121701476695, 285.44685488469526)]\n",
      "frames vide:29\n",
      "liste des positions frame 29:[[1002.9415584415586, 312.7467532467532], (989.8125294517786, 296.20680700981427), (989.4277269334309, 295.77144664602326), (991.1806111643426, 299.17939396866757), (993.5906578994459, 299.668566854823), (991.2702422006975, 302.5594462208462), (988.6903027393935, 297.94133488522544), (993.8067664158483, 295.2674063700389), (984.8921586955166, 293.30567379635846), (983.8318118109021, 294.1604443971748), (985.546195298314, 297.0046850781348), (981.1121287578699, 298.14455063318786), (976.5028118761496, 294.99093496715324), (966.8914801780055, 294.2108571581818), (977.0724821138992, 297.11840326473794), (973.6207875114407, 296.562677592065), (974.0822201726104, 294.38467837481835), (966.3314136569632, 297.5799932331165), (968.2133656311215, 299.1762583692889), (962.2775627026798, 291.1559407214189), (957.582950648502, 289.26192986576643), (955.0070317691021, 292.2645377490692), (951.4825689835557, 290.81668207931824), (949.6014916168358, 283.0422756727952), (943.8024958042416, 283.10546242844407), (938.1952994846754, 283.75714547983966), (932.5549052608853, 279.58562216072215), array([nan, nan]), (925.0121701476695, 285.44685488469526), array([nan, nan])]\n",
      "liste des positions frame 30:[[1002.9415584415586, 312.7467532467532], (989.8125294517786, 296.20680700981427), (989.4277269334309, 295.77144664602326), (991.1806111643426, 299.17939396866757), (993.5906578994459, 299.668566854823), (991.2702422006975, 302.5594462208462), (988.6903027393935, 297.94133488522544), (993.8067664158483, 295.2674063700389), (984.8921586955166, 293.30567379635846), (983.8318118109021, 294.1604443971748), (985.546195298314, 297.0046850781348), (981.1121287578699, 298.14455063318786), (976.5028118761496, 294.99093496715324), (966.8914801780055, 294.2108571581818), (977.0724821138992, 297.11840326473794), (973.6207875114407, 296.562677592065), (974.0822201726104, 294.38467837481835), (966.3314136569632, 297.5799932331165), (968.2133656311215, 299.1762583692889), (962.2775627026798, 291.1559407214189), (957.582950648502, 289.26192986576643), (955.0070317691021, 292.2645377490692), (951.4825689835557, 290.81668207931824), (949.6014916168358, 283.0422756727952), (943.8024958042416, 283.10546242844407), (938.1952994846754, 283.75714547983966), (932.5549052608853, 279.58562216072215), array([nan, nan]), (925.0121701476695, 285.44685488469526), array([nan, nan]), (924.4521082589024, 286.4372480550069)]\n",
      "liste des positions frame 31:[[1002.9415584415586, 312.7467532467532], (989.8125294517786, 296.20680700981427), (989.4277269334309, 295.77144664602326), (991.1806111643426, 299.17939396866757), (993.5906578994459, 299.668566854823), (991.2702422006975, 302.5594462208462), (988.6903027393935, 297.94133488522544), (993.8067664158483, 295.2674063700389), (984.8921586955166, 293.30567379635846), (983.8318118109021, 294.1604443971748), (985.546195298314, 297.0046850781348), (981.1121287578699, 298.14455063318786), (976.5028118761496, 294.99093496715324), (966.8914801780055, 294.2108571581818), (977.0724821138992, 297.11840326473794), (973.6207875114407, 296.562677592065), (974.0822201726104, 294.38467837481835), (966.3314136569632, 297.5799932331165), (968.2133656311215, 299.1762583692889), (962.2775627026798, 291.1559407214189), (957.582950648502, 289.26192986576643), (955.0070317691021, 292.2645377490692), (951.4825689835557, 290.81668207931824), (949.6014916168358, 283.0422756727952), (943.8024958042416, 283.10546242844407), (938.1952994846754, 283.75714547983966), (932.5549052608853, 279.58562216072215), array([nan, nan]), (925.0121701476695, 285.44685488469526), array([nan, nan]), (924.4521082589024, 286.4372480550069), (928.7996790596908, 281.7082264619672)]\n",
      "liste des positions frame 32:[[1002.9415584415586, 312.7467532467532], (989.8125294517786, 296.20680700981427), (989.4277269334309, 295.77144664602326), (991.1806111643426, 299.17939396866757), (993.5906578994459, 299.668566854823), (991.2702422006975, 302.5594462208462), (988.6903027393935, 297.94133488522544), (993.8067664158483, 295.2674063700389), (984.8921586955166, 293.30567379635846), (983.8318118109021, 294.1604443971748), (985.546195298314, 297.0046850781348), (981.1121287578699, 298.14455063318786), (976.5028118761496, 294.99093496715324), (966.8914801780055, 294.2108571581818), (977.0724821138992, 297.11840326473794), (973.6207875114407, 296.562677592065), (974.0822201726104, 294.38467837481835), (966.3314136569632, 297.5799932331165), (968.2133656311215, 299.1762583692889), (962.2775627026798, 291.1559407214189), (957.582950648502, 289.26192986576643), (955.0070317691021, 292.2645377490692), (951.4825689835557, 290.81668207931824), (949.6014916168358, 283.0422756727952), (943.8024958042416, 283.10546242844407), (938.1952994846754, 283.75714547983966), (932.5549052608853, 279.58562216072215), array([nan, nan]), (925.0121701476695, 285.44685488469526), array([nan, nan]), (924.4521082589024, 286.4372480550069), (928.7996790596908, 281.7082264619672), (930.2123586797784, 282.9432108125444)]\n",
      "liste des positions frame 33:[[1002.9415584415586, 312.7467532467532], (989.8125294517786, 296.20680700981427), (989.4277269334309, 295.77144664602326), (991.1806111643426, 299.17939396866757), (993.5906578994459, 299.668566854823), (991.2702422006975, 302.5594462208462), (988.6903027393935, 297.94133488522544), (993.8067664158483, 295.2674063700389), (984.8921586955166, 293.30567379635846), (983.8318118109021, 294.1604443971748), (985.546195298314, 297.0046850781348), (981.1121287578699, 298.14455063318786), (976.5028118761496, 294.99093496715324), (966.8914801780055, 294.2108571581818), (977.0724821138992, 297.11840326473794), (973.6207875114407, 296.562677592065), (974.0822201726104, 294.38467837481835), (966.3314136569632, 297.5799932331165), (968.2133656311215, 299.1762583692889), (962.2775627026798, 291.1559407214189), (957.582950648502, 289.26192986576643), (955.0070317691021, 292.2645377490692), (951.4825689835557, 290.81668207931824), (949.6014916168358, 283.0422756727952), (943.8024958042416, 283.10546242844407), (938.1952994846754, 283.75714547983966), (932.5549052608853, 279.58562216072215), array([nan, nan]), (925.0121701476695, 285.44685488469526), array([nan, nan]), (924.4521082589024, 286.4372480550069), (928.7996790596908, 281.7082264619672), (930.2123586797784, 282.9432108125444), (924.6747376615862, 282.74577913501935)]\n",
      "liste des positions frame 34:[[1002.9415584415586, 312.7467532467532], (989.8125294517786, 296.20680700981427), (989.4277269334309, 295.77144664602326), (991.1806111643426, 299.17939396866757), (993.5906578994459, 299.668566854823), (991.2702422006975, 302.5594462208462), (988.6903027393935, 297.94133488522544), (993.8067664158483, 295.2674063700389), (984.8921586955166, 293.30567379635846), (983.8318118109021, 294.1604443971748), (985.546195298314, 297.0046850781348), (981.1121287578699, 298.14455063318786), (976.5028118761496, 294.99093496715324), (966.8914801780055, 294.2108571581818), (977.0724821138992, 297.11840326473794), (973.6207875114407, 296.562677592065), (974.0822201726104, 294.38467837481835), (966.3314136569632, 297.5799932331165), (968.2133656311215, 299.1762583692889), (962.2775627026798, 291.1559407214189), (957.582950648502, 289.26192986576643), (955.0070317691021, 292.2645377490692), (951.4825689835557, 290.81668207931824), (949.6014916168358, 283.0422756727952), (943.8024958042416, 283.10546242844407), (938.1952994846754, 283.75714547983966), (932.5549052608853, 279.58562216072215), array([nan, nan]), (925.0121701476695, 285.44685488469526), array([nan, nan]), (924.4521082589024, 286.4372480550069), (928.7996790596908, 281.7082264619672), (930.2123586797784, 282.9432108125444), (924.6747376615862, 282.74577913501935), (925.4245667544308, 286.3138965075025)]\n",
      "liste des positions frame 35:[[1002.9415584415586, 312.7467532467532], (989.8125294517786, 296.20680700981427), (989.4277269334309, 295.77144664602326), (991.1806111643426, 299.17939396866757), (993.5906578994459, 299.668566854823), (991.2702422006975, 302.5594462208462), (988.6903027393935, 297.94133488522544), (993.8067664158483, 295.2674063700389), (984.8921586955166, 293.30567379635846), (983.8318118109021, 294.1604443971748), (985.546195298314, 297.0046850781348), (981.1121287578699, 298.14455063318786), (976.5028118761496, 294.99093496715324), (966.8914801780055, 294.2108571581818), (977.0724821138992, 297.11840326473794), (973.6207875114407, 296.562677592065), (974.0822201726104, 294.38467837481835), (966.3314136569632, 297.5799932331165), (968.2133656311215, 299.1762583692889), (962.2775627026798, 291.1559407214189), (957.582950648502, 289.26192986576643), (955.0070317691021, 292.2645377490692), (951.4825689835557, 290.81668207931824), (949.6014916168358, 283.0422756727952), (943.8024958042416, 283.10546242844407), (938.1952994846754, 283.75714547983966), (932.5549052608853, 279.58562216072215), array([nan, nan]), (925.0121701476695, 285.44685488469526), array([nan, nan]), (924.4521082589024, 286.4372480550069), (928.7996790596908, 281.7082264619672), (930.2123586797784, 282.9432108125444), (924.6747376615862, 282.74577913501935), (925.4245667544308, 286.3138965075025), (930.008487147743, 285.65189473110127)]\n",
      "liste des positions frame 36:[[1002.9415584415586, 312.7467532467532], (989.8125294517786, 296.20680700981427), (989.4277269334309, 295.77144664602326), (991.1806111643426, 299.17939396866757), (993.5906578994459, 299.668566854823), (991.2702422006975, 302.5594462208462), (988.6903027393935, 297.94133488522544), (993.8067664158483, 295.2674063700389), (984.8921586955166, 293.30567379635846), (983.8318118109021, 294.1604443971748), (985.546195298314, 297.0046850781348), (981.1121287578699, 298.14455063318786), (976.5028118761496, 294.99093496715324), (966.8914801780055, 294.2108571581818), (977.0724821138992, 297.11840326473794), (973.6207875114407, 296.562677592065), (974.0822201726104, 294.38467837481835), (966.3314136569632, 297.5799932331165), (968.2133656311215, 299.1762583692889), (962.2775627026798, 291.1559407214189), (957.582950648502, 289.26192986576643), (955.0070317691021, 292.2645377490692), (951.4825689835557, 290.81668207931824), (949.6014916168358, 283.0422756727952), (943.8024958042416, 283.10546242844407), (938.1952994846754, 283.75714547983966), (932.5549052608853, 279.58562216072215), array([nan, nan]), (925.0121701476695, 285.44685488469526), array([nan, nan]), (924.4521082589024, 286.4372480550069), (928.7996790596908, 281.7082264619672), (930.2123586797784, 282.9432108125444), (924.6747376615862, 282.74577913501935), (925.4245667544308, 286.3138965075025), (930.008487147743, 285.65189473110127), (926.4519414030037, 284.51028602289784)]\n",
      "liste des positions frame 37:[[1002.9415584415586, 312.7467532467532], (989.8125294517786, 296.20680700981427), (989.4277269334309, 295.77144664602326), (991.1806111643426, 299.17939396866757), (993.5906578994459, 299.668566854823), (991.2702422006975, 302.5594462208462), (988.6903027393935, 297.94133488522544), (993.8067664158483, 295.2674063700389), (984.8921586955166, 293.30567379635846), (983.8318118109021, 294.1604443971748), (985.546195298314, 297.0046850781348), (981.1121287578699, 298.14455063318786), (976.5028118761496, 294.99093496715324), (966.8914801780055, 294.2108571581818), (977.0724821138992, 297.11840326473794), (973.6207875114407, 296.562677592065), (974.0822201726104, 294.38467837481835), (966.3314136569632, 297.5799932331165), (968.2133656311215, 299.1762583692889), (962.2775627026798, 291.1559407214189), (957.582950648502, 289.26192986576643), (955.0070317691021, 292.2645377490692), (951.4825689835557, 290.81668207931824), (949.6014916168358, 283.0422756727952), (943.8024958042416, 283.10546242844407), (938.1952994846754, 283.75714547983966), (932.5549052608853, 279.58562216072215), array([nan, nan]), (925.0121701476695, 285.44685488469526), array([nan, nan]), (924.4521082589024, 286.4372480550069), (928.7996790596908, 281.7082264619672), (930.2123586797784, 282.9432108125444), (924.6747376615862, 282.74577913501935), (925.4245667544308, 286.3138965075025), (930.008487147743, 285.65189473110127), (926.4519414030037, 284.51028602289784), (927.5456150540037, 280.5884945346875)]\n",
      "liste des positions frame 38:[[1002.9415584415586, 312.7467532467532], (989.8125294517786, 296.20680700981427), (989.4277269334309, 295.77144664602326), (991.1806111643426, 299.17939396866757), (993.5906578994459, 299.668566854823), (991.2702422006975, 302.5594462208462), (988.6903027393935, 297.94133488522544), (993.8067664158483, 295.2674063700389), (984.8921586955166, 293.30567379635846), (983.8318118109021, 294.1604443971748), (985.546195298314, 297.0046850781348), (981.1121287578699, 298.14455063318786), (976.5028118761496, 294.99093496715324), (966.8914801780055, 294.2108571581818), (977.0724821138992, 297.11840326473794), (973.6207875114407, 296.562677592065), (974.0822201726104, 294.38467837481835), (966.3314136569632, 297.5799932331165), (968.2133656311215, 299.1762583692889), (962.2775627026798, 291.1559407214189), (957.582950648502, 289.26192986576643), (955.0070317691021, 292.2645377490692), (951.4825689835557, 290.81668207931824), (949.6014916168358, 283.0422756727952), (943.8024958042416, 283.10546242844407), (938.1952994846754, 283.75714547983966), (932.5549052608853, 279.58562216072215), array([nan, nan]), (925.0121701476695, 285.44685488469526), array([nan, nan]), (924.4521082589024, 286.4372480550069), (928.7996790596908, 281.7082264619672), (930.2123586797784, 282.9432108125444), (924.6747376615862, 282.74577913501935), (925.4245667544308, 286.3138965075025), (930.008487147743, 285.65189473110127), (926.4519414030037, 284.51028602289784), (927.5456150540037, 280.5884945346875), (925.0578979149589, 281.38375576174013)]\n",
      "liste des positions frame 39:[[1002.9415584415586, 312.7467532467532], (989.8125294517786, 296.20680700981427), (989.4277269334309, 295.77144664602326), (991.1806111643426, 299.17939396866757), (993.5906578994459, 299.668566854823), (991.2702422006975, 302.5594462208462), (988.6903027393935, 297.94133488522544), (993.8067664158483, 295.2674063700389), (984.8921586955166, 293.30567379635846), (983.8318118109021, 294.1604443971748), (985.546195298314, 297.0046850781348), (981.1121287578699, 298.14455063318786), (976.5028118761496, 294.99093496715324), (966.8914801780055, 294.2108571581818), (977.0724821138992, 297.11840326473794), (973.6207875114407, 296.562677592065), (974.0822201726104, 294.38467837481835), (966.3314136569632, 297.5799932331165), (968.2133656311215, 299.1762583692889), (962.2775627026798, 291.1559407214189), (957.582950648502, 289.26192986576643), (955.0070317691021, 292.2645377490692), (951.4825689835557, 290.81668207931824), (949.6014916168358, 283.0422756727952), (943.8024958042416, 283.10546242844407), (938.1952994846754, 283.75714547983966), (932.5549052608853, 279.58562216072215), array([nan, nan]), (925.0121701476695, 285.44685488469526), array([nan, nan]), (924.4521082589024, 286.4372480550069), (928.7996790596908, 281.7082264619672), (930.2123586797784, 282.9432108125444), (924.6747376615862, 282.74577913501935), (925.4245667544308, 286.3138965075025), (930.008487147743, 285.65189473110127), (926.4519414030037, 284.51028602289784), (927.5456150540037, 280.5884945346875), (925.0578979149589, 281.38375576174013), (923.5407562325978, 280.44018449693203)]\n",
      "liste des positions frame 40:[[1002.9415584415586, 312.7467532467532], (989.8125294517786, 296.20680700981427), (989.4277269334309, 295.77144664602326), (991.1806111643426, 299.17939396866757), (993.5906578994459, 299.668566854823), (991.2702422006975, 302.5594462208462), (988.6903027393935, 297.94133488522544), (993.8067664158483, 295.2674063700389), (984.8921586955166, 293.30567379635846), (983.8318118109021, 294.1604443971748), (985.546195298314, 297.0046850781348), (981.1121287578699, 298.14455063318786), (976.5028118761496, 294.99093496715324), (966.8914801780055, 294.2108571581818), (977.0724821138992, 297.11840326473794), (973.6207875114407, 296.562677592065), (974.0822201726104, 294.38467837481835), (966.3314136569632, 297.5799932331165), (968.2133656311215, 299.1762583692889), (962.2775627026798, 291.1559407214189), (957.582950648502, 289.26192986576643), (955.0070317691021, 292.2645377490692), (951.4825689835557, 290.81668207931824), (949.6014916168358, 283.0422756727952), (943.8024958042416, 283.10546242844407), (938.1952994846754, 283.75714547983966), (932.5549052608853, 279.58562216072215), array([nan, nan]), (925.0121701476695, 285.44685488469526), array([nan, nan]), (924.4521082589024, 286.4372480550069), (928.7996790596908, 281.7082264619672), (930.2123586797784, 282.9432108125444), (924.6747376615862, 282.74577913501935), (925.4245667544308, 286.3138965075025), (930.008487147743, 285.65189473110127), (926.4519414030037, 284.51028602289784), (927.5456150540037, 280.5884945346875), (925.0578979149589, 281.38375576174013), (923.5407562325978, 280.44018449693203), (925.5230391529562, 277.0410757042797)]\n",
      "liste des positions frame 41:[[1002.9415584415586, 312.7467532467532], (989.8125294517786, 296.20680700981427), (989.4277269334309, 295.77144664602326), (991.1806111643426, 299.17939396866757), (993.5906578994459, 299.668566854823), (991.2702422006975, 302.5594462208462), (988.6903027393935, 297.94133488522544), (993.8067664158483, 295.2674063700389), (984.8921586955166, 293.30567379635846), (983.8318118109021, 294.1604443971748), (985.546195298314, 297.0046850781348), (981.1121287578699, 298.14455063318786), (976.5028118761496, 294.99093496715324), (966.8914801780055, 294.2108571581818), (977.0724821138992, 297.11840326473794), (973.6207875114407, 296.562677592065), (974.0822201726104, 294.38467837481835), (966.3314136569632, 297.5799932331165), (968.2133656311215, 299.1762583692889), (962.2775627026798, 291.1559407214189), (957.582950648502, 289.26192986576643), (955.0070317691021, 292.2645377490692), (951.4825689835557, 290.81668207931824), (949.6014916168358, 283.0422756727952), (943.8024958042416, 283.10546242844407), (938.1952994846754, 283.75714547983966), (932.5549052608853, 279.58562216072215), array([nan, nan]), (925.0121701476695, 285.44685488469526), array([nan, nan]), (924.4521082589024, 286.4372480550069), (928.7996790596908, 281.7082264619672), (930.2123586797784, 282.9432108125444), (924.6747376615862, 282.74577913501935), (925.4245667544308, 286.3138965075025), (930.008487147743, 285.65189473110127), (926.4519414030037, 284.51028602289784), (927.5456150540037, 280.5884945346875), (925.0578979149589, 281.38375576174013), (923.5407562325978, 280.44018449693203), (925.5230391529562, 277.0410757042797), (924.4337657387473, 281.15412065577885)]\n",
      "liste des positions frame 42:[[1002.9415584415586, 312.7467532467532], (989.8125294517786, 296.20680700981427), (989.4277269334309, 295.77144664602326), (991.1806111643426, 299.17939396866757), (993.5906578994459, 299.668566854823), (991.2702422006975, 302.5594462208462), (988.6903027393935, 297.94133488522544), (993.8067664158483, 295.2674063700389), (984.8921586955166, 293.30567379635846), (983.8318118109021, 294.1604443971748), (985.546195298314, 297.0046850781348), (981.1121287578699, 298.14455063318786), (976.5028118761496, 294.99093496715324), (966.8914801780055, 294.2108571581818), (977.0724821138992, 297.11840326473794), (973.6207875114407, 296.562677592065), (974.0822201726104, 294.38467837481835), (966.3314136569632, 297.5799932331165), (968.2133656311215, 299.1762583692889), (962.2775627026798, 291.1559407214189), (957.582950648502, 289.26192986576643), (955.0070317691021, 292.2645377490692), (951.4825689835557, 290.81668207931824), (949.6014916168358, 283.0422756727952), (943.8024958042416, 283.10546242844407), (938.1952994846754, 283.75714547983966), (932.5549052608853, 279.58562216072215), array([nan, nan]), (925.0121701476695, 285.44685488469526), array([nan, nan]), (924.4521082589024, 286.4372480550069), (928.7996790596908, 281.7082264619672), (930.2123586797784, 282.9432108125444), (924.6747376615862, 282.74577913501935), (925.4245667544308, 286.3138965075025), (930.008487147743, 285.65189473110127), (926.4519414030037, 284.51028602289784), (927.5456150540037, 280.5884945346875), (925.0578979149589, 281.38375576174013), (923.5407562325978, 280.44018449693203), (925.5230391529562, 277.0410757042797), (924.4337657387473, 281.15412065577885), (924.3276496197107, 274.89358243684455)]\n",
      "liste des positions frame 43:[[1002.9415584415586, 312.7467532467532], (989.8125294517786, 296.20680700981427), (989.4277269334309, 295.77144664602326), (991.1806111643426, 299.17939396866757), (993.5906578994459, 299.668566854823), (991.2702422006975, 302.5594462208462), (988.6903027393935, 297.94133488522544), (993.8067664158483, 295.2674063700389), (984.8921586955166, 293.30567379635846), (983.8318118109021, 294.1604443971748), (985.546195298314, 297.0046850781348), (981.1121287578699, 298.14455063318786), (976.5028118761496, 294.99093496715324), (966.8914801780055, 294.2108571581818), (977.0724821138992, 297.11840326473794), (973.6207875114407, 296.562677592065), (974.0822201726104, 294.38467837481835), (966.3314136569632, 297.5799932331165), (968.2133656311215, 299.1762583692889), (962.2775627026798, 291.1559407214189), (957.582950648502, 289.26192986576643), (955.0070317691021, 292.2645377490692), (951.4825689835557, 290.81668207931824), (949.6014916168358, 283.0422756727952), (943.8024958042416, 283.10546242844407), (938.1952994846754, 283.75714547983966), (932.5549052608853, 279.58562216072215), array([nan, nan]), (925.0121701476695, 285.44685488469526), array([nan, nan]), (924.4521082589024, 286.4372480550069), (928.7996790596908, 281.7082264619672), (930.2123586797784, 282.9432108125444), (924.6747376615862, 282.74577913501935), (925.4245667544308, 286.3138965075025), (930.008487147743, 285.65189473110127), (926.4519414030037, 284.51028602289784), (927.5456150540037, 280.5884945346875), (925.0578979149589, 281.38375576174013), (923.5407562325978, 280.44018449693203), (925.5230391529562, 277.0410757042797), (924.4337657387473, 281.15412065577885), (924.3276496197107, 274.89358243684455), (922.4423310332561, 273.72874838833667)]\n",
      "liste des positions frame 44:[[1002.9415584415586, 312.7467532467532], (989.8125294517786, 296.20680700981427), (989.4277269334309, 295.77144664602326), (991.1806111643426, 299.17939396866757), (993.5906578994459, 299.668566854823), (991.2702422006975, 302.5594462208462), (988.6903027393935, 297.94133488522544), (993.8067664158483, 295.2674063700389), (984.8921586955166, 293.30567379635846), (983.8318118109021, 294.1604443971748), (985.546195298314, 297.0046850781348), (981.1121287578699, 298.14455063318786), (976.5028118761496, 294.99093496715324), (966.8914801780055, 294.2108571581818), (977.0724821138992, 297.11840326473794), (973.6207875114407, 296.562677592065), (974.0822201726104, 294.38467837481835), (966.3314136569632, 297.5799932331165), (968.2133656311215, 299.1762583692889), (962.2775627026798, 291.1559407214189), (957.582950648502, 289.26192986576643), (955.0070317691021, 292.2645377490692), (951.4825689835557, 290.81668207931824), (949.6014916168358, 283.0422756727952), (943.8024958042416, 283.10546242844407), (938.1952994846754, 283.75714547983966), (932.5549052608853, 279.58562216072215), array([nan, nan]), (925.0121701476695, 285.44685488469526), array([nan, nan]), (924.4521082589024, 286.4372480550069), (928.7996790596908, 281.7082264619672), (930.2123586797784, 282.9432108125444), (924.6747376615862, 282.74577913501935), (925.4245667544308, 286.3138965075025), (930.008487147743, 285.65189473110127), (926.4519414030037, 284.51028602289784), (927.5456150540037, 280.5884945346875), (925.0578979149589, 281.38375576174013), (923.5407562325978, 280.44018449693203), (925.5230391529562, 277.0410757042797), (924.4337657387473, 281.15412065577885), (924.3276496197107, 274.89358243684455), (922.4423310332561, 273.72874838833667), (924.1613602357797, 268.81975908278764)]\n",
      "liste des positions frame 45:[[1002.9415584415586, 312.7467532467532], (989.8125294517786, 296.20680700981427), (989.4277269334309, 295.77144664602326), (991.1806111643426, 299.17939396866757), (993.5906578994459, 299.668566854823), (991.2702422006975, 302.5594462208462), (988.6903027393935, 297.94133488522544), (993.8067664158483, 295.2674063700389), (984.8921586955166, 293.30567379635846), (983.8318118109021, 294.1604443971748), (985.546195298314, 297.0046850781348), (981.1121287578699, 298.14455063318786), (976.5028118761496, 294.99093496715324), (966.8914801780055, 294.2108571581818), (977.0724821138992, 297.11840326473794), (973.6207875114407, 296.562677592065), (974.0822201726104, 294.38467837481835), (966.3314136569632, 297.5799932331165), (968.2133656311215, 299.1762583692889), (962.2775627026798, 291.1559407214189), (957.582950648502, 289.26192986576643), (955.0070317691021, 292.2645377490692), (951.4825689835557, 290.81668207931824), (949.6014916168358, 283.0422756727952), (943.8024958042416, 283.10546242844407), (938.1952994846754, 283.75714547983966), (932.5549052608853, 279.58562216072215), array([nan, nan]), (925.0121701476695, 285.44685488469526), array([nan, nan]), (924.4521082589024, 286.4372480550069), (928.7996790596908, 281.7082264619672), (930.2123586797784, 282.9432108125444), (924.6747376615862, 282.74577913501935), (925.4245667544308, 286.3138965075025), (930.008487147743, 285.65189473110127), (926.4519414030037, 284.51028602289784), (927.5456150540037, 280.5884945346875), (925.0578979149589, 281.38375576174013), (923.5407562325978, 280.44018449693203), (925.5230391529562, 277.0410757042797), (924.4337657387473, 281.15412065577885), (924.3276496197107, 274.89358243684455), (922.4423310332561, 273.72874838833667), (924.1613602357797, 268.81975908278764), (932.1997969757689, 264.3544842327382)]\n",
      "liste des positions frame 46:[[1002.9415584415586, 312.7467532467532], (989.8125294517786, 296.20680700981427), (989.4277269334309, 295.77144664602326), (991.1806111643426, 299.17939396866757), (993.5906578994459, 299.668566854823), (991.2702422006975, 302.5594462208462), (988.6903027393935, 297.94133488522544), (993.8067664158483, 295.2674063700389), (984.8921586955166, 293.30567379635846), (983.8318118109021, 294.1604443971748), (985.546195298314, 297.0046850781348), (981.1121287578699, 298.14455063318786), (976.5028118761496, 294.99093496715324), (966.8914801780055, 294.2108571581818), (977.0724821138992, 297.11840326473794), (973.6207875114407, 296.562677592065), (974.0822201726104, 294.38467837481835), (966.3314136569632, 297.5799932331165), (968.2133656311215, 299.1762583692889), (962.2775627026798, 291.1559407214189), (957.582950648502, 289.26192986576643), (955.0070317691021, 292.2645377490692), (951.4825689835557, 290.81668207931824), (949.6014916168358, 283.0422756727952), (943.8024958042416, 283.10546242844407), (938.1952994846754, 283.75714547983966), (932.5549052608853, 279.58562216072215), array([nan, nan]), (925.0121701476695, 285.44685488469526), array([nan, nan]), (924.4521082589024, 286.4372480550069), (928.7996790596908, 281.7082264619672), (930.2123586797784, 282.9432108125444), (924.6747376615862, 282.74577913501935), (925.4245667544308, 286.3138965075025), (930.008487147743, 285.65189473110127), (926.4519414030037, 284.51028602289784), (927.5456150540037, 280.5884945346875), (925.0578979149589, 281.38375576174013), (923.5407562325978, 280.44018449693203), (925.5230391529562, 277.0410757042797), (924.4337657387473, 281.15412065577885), (924.3276496197107, 274.89358243684455), (922.4423310332561, 273.72874838833667), (924.1613602357797, 268.81975908278764), (932.1997969757689, 264.3544842327382), (938.5529338235989, 259.66767755137295)]\n",
      "liste des positions frame 47:[[1002.9415584415586, 312.7467532467532], (989.8125294517786, 296.20680700981427), (989.4277269334309, 295.77144664602326), (991.1806111643426, 299.17939396866757), (993.5906578994459, 299.668566854823), (991.2702422006975, 302.5594462208462), (988.6903027393935, 297.94133488522544), (993.8067664158483, 295.2674063700389), (984.8921586955166, 293.30567379635846), (983.8318118109021, 294.1604443971748), (985.546195298314, 297.0046850781348), (981.1121287578699, 298.14455063318786), (976.5028118761496, 294.99093496715324), (966.8914801780055, 294.2108571581818), (977.0724821138992, 297.11840326473794), (973.6207875114407, 296.562677592065), (974.0822201726104, 294.38467837481835), (966.3314136569632, 297.5799932331165), (968.2133656311215, 299.1762583692889), (962.2775627026798, 291.1559407214189), (957.582950648502, 289.26192986576643), (955.0070317691021, 292.2645377490692), (951.4825689835557, 290.81668207931824), (949.6014916168358, 283.0422756727952), (943.8024958042416, 283.10546242844407), (938.1952994846754, 283.75714547983966), (932.5549052608853, 279.58562216072215), array([nan, nan]), (925.0121701476695, 285.44685488469526), array([nan, nan]), (924.4521082589024, 286.4372480550069), (928.7996790596908, 281.7082264619672), (930.2123586797784, 282.9432108125444), (924.6747376615862, 282.74577913501935), (925.4245667544308, 286.3138965075025), (930.008487147743, 285.65189473110127), (926.4519414030037, 284.51028602289784), (927.5456150540037, 280.5884945346875), (925.0578979149589, 281.38375576174013), (923.5407562325978, 280.44018449693203), (925.5230391529562, 277.0410757042797), (924.4337657387473, 281.15412065577885), (924.3276496197107, 274.89358243684455), (922.4423310332561, 273.72874838833667), (924.1613602357797, 268.81975908278764), (932.1997969757689, 264.3544842327382), (938.5529338235989, 259.66767755137295), (934.7890274739971, 259.1869106382114)]\n",
      "liste des positions frame 48:[[1002.9415584415586, 312.7467532467532], (989.8125294517786, 296.20680700981427), (989.4277269334309, 295.77144664602326), (991.1806111643426, 299.17939396866757), (993.5906578994459, 299.668566854823), (991.2702422006975, 302.5594462208462), (988.6903027393935, 297.94133488522544), (993.8067664158483, 295.2674063700389), (984.8921586955166, 293.30567379635846), (983.8318118109021, 294.1604443971748), (985.546195298314, 297.0046850781348), (981.1121287578699, 298.14455063318786), (976.5028118761496, 294.99093496715324), (966.8914801780055, 294.2108571581818), (977.0724821138992, 297.11840326473794), (973.6207875114407, 296.562677592065), (974.0822201726104, 294.38467837481835), (966.3314136569632, 297.5799932331165), (968.2133656311215, 299.1762583692889), (962.2775627026798, 291.1559407214189), (957.582950648502, 289.26192986576643), (955.0070317691021, 292.2645377490692), (951.4825689835557, 290.81668207931824), (949.6014916168358, 283.0422756727952), (943.8024958042416, 283.10546242844407), (938.1952994846754, 283.75714547983966), (932.5549052608853, 279.58562216072215), array([nan, nan]), (925.0121701476695, 285.44685488469526), array([nan, nan]), (924.4521082589024, 286.4372480550069), (928.7996790596908, 281.7082264619672), (930.2123586797784, 282.9432108125444), (924.6747376615862, 282.74577913501935), (925.4245667544308, 286.3138965075025), (930.008487147743, 285.65189473110127), (926.4519414030037, 284.51028602289784), (927.5456150540037, 280.5884945346875), (925.0578979149589, 281.38375576174013), (923.5407562325978, 280.44018449693203), (925.5230391529562, 277.0410757042797), (924.4337657387473, 281.15412065577885), (924.3276496197107, 274.89358243684455), (922.4423310332561, 273.72874838833667), (924.1613602357797, 268.81975908278764), (932.1997969757689, 264.3544842327382), (938.5529338235989, 259.66767755137295), (934.7890274739971, 259.1869106382114), (932.465503810946, 253.77705585582163)]\n",
      "liste des positions frame 49:[[1002.9415584415586, 312.7467532467532], (989.8125294517786, 296.20680700981427), (989.4277269334309, 295.77144664602326), (991.1806111643426, 299.17939396866757), (993.5906578994459, 299.668566854823), (991.2702422006975, 302.5594462208462), (988.6903027393935, 297.94133488522544), (993.8067664158483, 295.2674063700389), (984.8921586955166, 293.30567379635846), (983.8318118109021, 294.1604443971748), (985.546195298314, 297.0046850781348), (981.1121287578699, 298.14455063318786), (976.5028118761496, 294.99093496715324), (966.8914801780055, 294.2108571581818), (977.0724821138992, 297.11840326473794), (973.6207875114407, 296.562677592065), (974.0822201726104, 294.38467837481835), (966.3314136569632, 297.5799932331165), (968.2133656311215, 299.1762583692889), (962.2775627026798, 291.1559407214189), (957.582950648502, 289.26192986576643), (955.0070317691021, 292.2645377490692), (951.4825689835557, 290.81668207931824), (949.6014916168358, 283.0422756727952), (943.8024958042416, 283.10546242844407), (938.1952994846754, 283.75714547983966), (932.5549052608853, 279.58562216072215), array([nan, nan]), (925.0121701476695, 285.44685488469526), array([nan, nan]), (924.4521082589024, 286.4372480550069), (928.7996790596908, 281.7082264619672), (930.2123586797784, 282.9432108125444), (924.6747376615862, 282.74577913501935), (925.4245667544308, 286.3138965075025), (930.008487147743, 285.65189473110127), (926.4519414030037, 284.51028602289784), (927.5456150540037, 280.5884945346875), (925.0578979149589, 281.38375576174013), (923.5407562325978, 280.44018449693203), (925.5230391529562, 277.0410757042797), (924.4337657387473, 281.15412065577885), (924.3276496197107, 274.89358243684455), (922.4423310332561, 273.72874838833667), (924.1613602357797, 268.81975908278764), (932.1997969757689, 264.3544842327382), (938.5529338235989, 259.66767755137295), (934.7890274739971, 259.1869106382114), (932.465503810946, 253.77705585582163), (925.5926255941667, 247.83595757083373)]\n",
      "liste des positions frame 50:[[1002.9415584415586, 312.7467532467532], (989.8125294517786, 296.20680700981427), (989.4277269334309, 295.77144664602326), (991.1806111643426, 299.17939396866757), (993.5906578994459, 299.668566854823), (991.2702422006975, 302.5594462208462), (988.6903027393935, 297.94133488522544), (993.8067664158483, 295.2674063700389), (984.8921586955166, 293.30567379635846), (983.8318118109021, 294.1604443971748), (985.546195298314, 297.0046850781348), (981.1121287578699, 298.14455063318786), (976.5028118761496, 294.99093496715324), (966.8914801780055, 294.2108571581818), (977.0724821138992, 297.11840326473794), (973.6207875114407, 296.562677592065), (974.0822201726104, 294.38467837481835), (966.3314136569632, 297.5799932331165), (968.2133656311215, 299.1762583692889), (962.2775627026798, 291.1559407214189), (957.582950648502, 289.26192986576643), (955.0070317691021, 292.2645377490692), (951.4825689835557, 290.81668207931824), (949.6014916168358, 283.0422756727952), (943.8024958042416, 283.10546242844407), (938.1952994846754, 283.75714547983966), (932.5549052608853, 279.58562216072215), array([nan, nan]), (925.0121701476695, 285.44685488469526), array([nan, nan]), (924.4521082589024, 286.4372480550069), (928.7996790596908, 281.7082264619672), (930.2123586797784, 282.9432108125444), (924.6747376615862, 282.74577913501935), (925.4245667544308, 286.3138965075025), (930.008487147743, 285.65189473110127), (926.4519414030037, 284.51028602289784), (927.5456150540037, 280.5884945346875), (925.0578979149589, 281.38375576174013), (923.5407562325978, 280.44018449693203), (925.5230391529562, 277.0410757042797), (924.4337657387473, 281.15412065577885), (924.3276496197107, 274.89358243684455), (922.4423310332561, 273.72874838833667), (924.1613602357797, 268.81975908278764), (932.1997969757689, 264.3544842327382), (938.5529338235989, 259.66767755137295), (934.7890274739971, 259.1869106382114), (932.465503810946, 253.77705585582163), (925.5926255941667, 247.83595757083373), (926.7529658173677, 241.16871210476728)]\n",
      "liste des positions frame 51:[[1002.9415584415586, 312.7467532467532], (989.8125294517786, 296.20680700981427), (989.4277269334309, 295.77144664602326), (991.1806111643426, 299.17939396866757), (993.5906578994459, 299.668566854823), (991.2702422006975, 302.5594462208462), (988.6903027393935, 297.94133488522544), (993.8067664158483, 295.2674063700389), (984.8921586955166, 293.30567379635846), (983.8318118109021, 294.1604443971748), (985.546195298314, 297.0046850781348), (981.1121287578699, 298.14455063318786), (976.5028118761496, 294.99093496715324), (966.8914801780055, 294.2108571581818), (977.0724821138992, 297.11840326473794), (973.6207875114407, 296.562677592065), (974.0822201726104, 294.38467837481835), (966.3314136569632, 297.5799932331165), (968.2133656311215, 299.1762583692889), (962.2775627026798, 291.1559407214189), (957.582950648502, 289.26192986576643), (955.0070317691021, 292.2645377490692), (951.4825689835557, 290.81668207931824), (949.6014916168358, 283.0422756727952), (943.8024958042416, 283.10546242844407), (938.1952994846754, 283.75714547983966), (932.5549052608853, 279.58562216072215), array([nan, nan]), (925.0121701476695, 285.44685488469526), array([nan, nan]), (924.4521082589024, 286.4372480550069), (928.7996790596908, 281.7082264619672), (930.2123586797784, 282.9432108125444), (924.6747376615862, 282.74577913501935), (925.4245667544308, 286.3138965075025), (930.008487147743, 285.65189473110127), (926.4519414030037, 284.51028602289784), (927.5456150540037, 280.5884945346875), (925.0578979149589, 281.38375576174013), (923.5407562325978, 280.44018449693203), (925.5230391529562, 277.0410757042797), (924.4337657387473, 281.15412065577885), (924.3276496197107, 274.89358243684455), (922.4423310332561, 273.72874838833667), (924.1613602357797, 268.81975908278764), (932.1997969757689, 264.3544842327382), (938.5529338235989, 259.66767755137295), (934.7890274739971, 259.1869106382114), (932.465503810946, 253.77705585582163), (925.5926255941667, 247.83595757083373), (926.7529658173677, 241.16871210476728), (930.9451396877716, 240.23718116289228)]\n",
      "liste des positions frame 52:[[1002.9415584415586, 312.7467532467532], (989.8125294517786, 296.20680700981427), (989.4277269334309, 295.77144664602326), (991.1806111643426, 299.17939396866757), (993.5906578994459, 299.668566854823), (991.2702422006975, 302.5594462208462), (988.6903027393935, 297.94133488522544), (993.8067664158483, 295.2674063700389), (984.8921586955166, 293.30567379635846), (983.8318118109021, 294.1604443971748), (985.546195298314, 297.0046850781348), (981.1121287578699, 298.14455063318786), (976.5028118761496, 294.99093496715324), (966.8914801780055, 294.2108571581818), (977.0724821138992, 297.11840326473794), (973.6207875114407, 296.562677592065), (974.0822201726104, 294.38467837481835), (966.3314136569632, 297.5799932331165), (968.2133656311215, 299.1762583692889), (962.2775627026798, 291.1559407214189), (957.582950648502, 289.26192986576643), (955.0070317691021, 292.2645377490692), (951.4825689835557, 290.81668207931824), (949.6014916168358, 283.0422756727952), (943.8024958042416, 283.10546242844407), (938.1952994846754, 283.75714547983966), (932.5549052608853, 279.58562216072215), array([nan, nan]), (925.0121701476695, 285.44685488469526), array([nan, nan]), (924.4521082589024, 286.4372480550069), (928.7996790596908, 281.7082264619672), (930.2123586797784, 282.9432108125444), (924.6747376615862, 282.74577913501935), (925.4245667544308, 286.3138965075025), (930.008487147743, 285.65189473110127), (926.4519414030037, 284.51028602289784), (927.5456150540037, 280.5884945346875), (925.0578979149589, 281.38375576174013), (923.5407562325978, 280.44018449693203), (925.5230391529562, 277.0410757042797), (924.4337657387473, 281.15412065577885), (924.3276496197107, 274.89358243684455), (922.4423310332561, 273.72874838833667), (924.1613602357797, 268.81975908278764), (932.1997969757689, 264.3544842327382), (938.5529338235989, 259.66767755137295), (934.7890274739971, 259.1869106382114), (932.465503810946, 253.77705585582163), (925.5926255941667, 247.83595757083373), (926.7529658173677, 241.16871210476728), (930.9451396877716, 240.23718116289228), (931.825157642993, 243.97681811187067)]\n",
      "liste des positions frame 53:[[1002.9415584415586, 312.7467532467532], (989.8125294517786, 296.20680700981427), (989.4277269334309, 295.77144664602326), (991.1806111643426, 299.17939396866757), (993.5906578994459, 299.668566854823), (991.2702422006975, 302.5594462208462), (988.6903027393935, 297.94133488522544), (993.8067664158483, 295.2674063700389), (984.8921586955166, 293.30567379635846), (983.8318118109021, 294.1604443971748), (985.546195298314, 297.0046850781348), (981.1121287578699, 298.14455063318786), (976.5028118761496, 294.99093496715324), (966.8914801780055, 294.2108571581818), (977.0724821138992, 297.11840326473794), (973.6207875114407, 296.562677592065), (974.0822201726104, 294.38467837481835), (966.3314136569632, 297.5799932331165), (968.2133656311215, 299.1762583692889), (962.2775627026798, 291.1559407214189), (957.582950648502, 289.26192986576643), (955.0070317691021, 292.2645377490692), (951.4825689835557, 290.81668207931824), (949.6014916168358, 283.0422756727952), (943.8024958042416, 283.10546242844407), (938.1952994846754, 283.75714547983966), (932.5549052608853, 279.58562216072215), array([nan, nan]), (925.0121701476695, 285.44685488469526), array([nan, nan]), (924.4521082589024, 286.4372480550069), (928.7996790596908, 281.7082264619672), (930.2123586797784, 282.9432108125444), (924.6747376615862, 282.74577913501935), (925.4245667544308, 286.3138965075025), (930.008487147743, 285.65189473110127), (926.4519414030037, 284.51028602289784), (927.5456150540037, 280.5884945346875), (925.0578979149589, 281.38375576174013), (923.5407562325978, 280.44018449693203), (925.5230391529562, 277.0410757042797), (924.4337657387473, 281.15412065577885), (924.3276496197107, 274.89358243684455), (922.4423310332561, 273.72874838833667), (924.1613602357797, 268.81975908278764), (932.1997969757689, 264.3544842327382), (938.5529338235989, 259.66767755137295), (934.7890274739971, 259.1869106382114), (932.465503810946, 253.77705585582163), (925.5926255941667, 247.83595757083373), (926.7529658173677, 241.16871210476728), (930.9451396877716, 240.23718116289228), (931.825157642993, 243.97681811187067), (935.3888102956602, 242.62708204004923)]\n",
      "liste des positions frame 54:[[1002.9415584415586, 312.7467532467532], (989.8125294517786, 296.20680700981427), (989.4277269334309, 295.77144664602326), (991.1806111643426, 299.17939396866757), (993.5906578994459, 299.668566854823), (991.2702422006975, 302.5594462208462), (988.6903027393935, 297.94133488522544), (993.8067664158483, 295.2674063700389), (984.8921586955166, 293.30567379635846), (983.8318118109021, 294.1604443971748), (985.546195298314, 297.0046850781348), (981.1121287578699, 298.14455063318786), (976.5028118761496, 294.99093496715324), (966.8914801780055, 294.2108571581818), (977.0724821138992, 297.11840326473794), (973.6207875114407, 296.562677592065), (974.0822201726104, 294.38467837481835), (966.3314136569632, 297.5799932331165), (968.2133656311215, 299.1762583692889), (962.2775627026798, 291.1559407214189), (957.582950648502, 289.26192986576643), (955.0070317691021, 292.2645377490692), (951.4825689835557, 290.81668207931824), (949.6014916168358, 283.0422756727952), (943.8024958042416, 283.10546242844407), (938.1952994846754, 283.75714547983966), (932.5549052608853, 279.58562216072215), array([nan, nan]), (925.0121701476695, 285.44685488469526), array([nan, nan]), (924.4521082589024, 286.4372480550069), (928.7996790596908, 281.7082264619672), (930.2123586797784, 282.9432108125444), (924.6747376615862, 282.74577913501935), (925.4245667544308, 286.3138965075025), (930.008487147743, 285.65189473110127), (926.4519414030037, 284.51028602289784), (927.5456150540037, 280.5884945346875), (925.0578979149589, 281.38375576174013), (923.5407562325978, 280.44018449693203), (925.5230391529562, 277.0410757042797), (924.4337657387473, 281.15412065577885), (924.3276496197107, 274.89358243684455), (922.4423310332561, 273.72874838833667), (924.1613602357797, 268.81975908278764), (932.1997969757689, 264.3544842327382), (938.5529338235989, 259.66767755137295), (934.7890274739971, 259.1869106382114), (932.465503810946, 253.77705585582163), (925.5926255941667, 247.83595757083373), (926.7529658173677, 241.16871210476728), (930.9451396877716, 240.23718116289228), (931.825157642993, 243.97681811187067), (935.3888102956602, 242.62708204004923), (930.842985280232, 241.13529446682867)]\n",
      "liste des positions frame 55:[[1002.9415584415586, 312.7467532467532], (989.8125294517786, 296.20680700981427), (989.4277269334309, 295.77144664602326), (991.1806111643426, 299.17939396866757), (993.5906578994459, 299.668566854823), (991.2702422006975, 302.5594462208462), (988.6903027393935, 297.94133488522544), (993.8067664158483, 295.2674063700389), (984.8921586955166, 293.30567379635846), (983.8318118109021, 294.1604443971748), (985.546195298314, 297.0046850781348), (981.1121287578699, 298.14455063318786), (976.5028118761496, 294.99093496715324), (966.8914801780055, 294.2108571581818), (977.0724821138992, 297.11840326473794), (973.6207875114407, 296.562677592065), (974.0822201726104, 294.38467837481835), (966.3314136569632, 297.5799932331165), (968.2133656311215, 299.1762583692889), (962.2775627026798, 291.1559407214189), (957.582950648502, 289.26192986576643), (955.0070317691021, 292.2645377490692), (951.4825689835557, 290.81668207931824), (949.6014916168358, 283.0422756727952), (943.8024958042416, 283.10546242844407), (938.1952994846754, 283.75714547983966), (932.5549052608853, 279.58562216072215), array([nan, nan]), (925.0121701476695, 285.44685488469526), array([nan, nan]), (924.4521082589024, 286.4372480550069), (928.7996790596908, 281.7082264619672), (930.2123586797784, 282.9432108125444), (924.6747376615862, 282.74577913501935), (925.4245667544308, 286.3138965075025), (930.008487147743, 285.65189473110127), (926.4519414030037, 284.51028602289784), (927.5456150540037, 280.5884945346875), (925.0578979149589, 281.38375576174013), (923.5407562325978, 280.44018449693203), (925.5230391529562, 277.0410757042797), (924.4337657387473, 281.15412065577885), (924.3276496197107, 274.89358243684455), (922.4423310332561, 273.72874838833667), (924.1613602357797, 268.81975908278764), (932.1997969757689, 264.3544842327382), (938.5529338235989, 259.66767755137295), (934.7890274739971, 259.1869106382114), (932.465503810946, 253.77705585582163), (925.5926255941667, 247.83595757083373), (926.7529658173677, 241.16871210476728), (930.9451396877716, 240.23718116289228), (931.825157642993, 243.97681811187067), (935.3888102956602, 242.62708204004923), (930.842985280232, 241.13529446682867), (932.5730311933562, 238.37621671079495)]\n",
      "liste des positions frame 56:[[1002.9415584415586, 312.7467532467532], (989.8125294517786, 296.20680700981427), (989.4277269334309, 295.77144664602326), (991.1806111643426, 299.17939396866757), (993.5906578994459, 299.668566854823), (991.2702422006975, 302.5594462208462), (988.6903027393935, 297.94133488522544), (993.8067664158483, 295.2674063700389), (984.8921586955166, 293.30567379635846), (983.8318118109021, 294.1604443971748), (985.546195298314, 297.0046850781348), (981.1121287578699, 298.14455063318786), (976.5028118761496, 294.99093496715324), (966.8914801780055, 294.2108571581818), (977.0724821138992, 297.11840326473794), (973.6207875114407, 296.562677592065), (974.0822201726104, 294.38467837481835), (966.3314136569632, 297.5799932331165), (968.2133656311215, 299.1762583692889), (962.2775627026798, 291.1559407214189), (957.582950648502, 289.26192986576643), (955.0070317691021, 292.2645377490692), (951.4825689835557, 290.81668207931824), (949.6014916168358, 283.0422756727952), (943.8024958042416, 283.10546242844407), (938.1952994846754, 283.75714547983966), (932.5549052608853, 279.58562216072215), array([nan, nan]), (925.0121701476695, 285.44685488469526), array([nan, nan]), (924.4521082589024, 286.4372480550069), (928.7996790596908, 281.7082264619672), (930.2123586797784, 282.9432108125444), (924.6747376615862, 282.74577913501935), (925.4245667544308, 286.3138965075025), (930.008487147743, 285.65189473110127), (926.4519414030037, 284.51028602289784), (927.5456150540037, 280.5884945346875), (925.0578979149589, 281.38375576174013), (923.5407562325978, 280.44018449693203), (925.5230391529562, 277.0410757042797), (924.4337657387473, 281.15412065577885), (924.3276496197107, 274.89358243684455), (922.4423310332561, 273.72874838833667), (924.1613602357797, 268.81975908278764), (932.1997969757689, 264.3544842327382), (938.5529338235989, 259.66767755137295), (934.7890274739971, 259.1869106382114), (932.465503810946, 253.77705585582163), (925.5926255941667, 247.83595757083373), (926.7529658173677, 241.16871210476728), (930.9451396877716, 240.23718116289228), (931.825157642993, 243.97681811187067), (935.3888102956602, 242.62708204004923), (930.842985280232, 241.13529446682867), (932.5730311933562, 238.37621671079495), (933.3417927943441, 237.4011977399606)]\n",
      "liste des positions frame 57:[[1002.9415584415586, 312.7467532467532], (989.8125294517786, 296.20680700981427), (989.4277269334309, 295.77144664602326), (991.1806111643426, 299.17939396866757), (993.5906578994459, 299.668566854823), (991.2702422006975, 302.5594462208462), (988.6903027393935, 297.94133488522544), (993.8067664158483, 295.2674063700389), (984.8921586955166, 293.30567379635846), (983.8318118109021, 294.1604443971748), (985.546195298314, 297.0046850781348), (981.1121287578699, 298.14455063318786), (976.5028118761496, 294.99093496715324), (966.8914801780055, 294.2108571581818), (977.0724821138992, 297.11840326473794), (973.6207875114407, 296.562677592065), (974.0822201726104, 294.38467837481835), (966.3314136569632, 297.5799932331165), (968.2133656311215, 299.1762583692889), (962.2775627026798, 291.1559407214189), (957.582950648502, 289.26192986576643), (955.0070317691021, 292.2645377490692), (951.4825689835557, 290.81668207931824), (949.6014916168358, 283.0422756727952), (943.8024958042416, 283.10546242844407), (938.1952994846754, 283.75714547983966), (932.5549052608853, 279.58562216072215), array([nan, nan]), (925.0121701476695, 285.44685488469526), array([nan, nan]), (924.4521082589024, 286.4372480550069), (928.7996790596908, 281.7082264619672), (930.2123586797784, 282.9432108125444), (924.6747376615862, 282.74577913501935), (925.4245667544308, 286.3138965075025), (930.008487147743, 285.65189473110127), (926.4519414030037, 284.51028602289784), (927.5456150540037, 280.5884945346875), (925.0578979149589, 281.38375576174013), (923.5407562325978, 280.44018449693203), (925.5230391529562, 277.0410757042797), (924.4337657387473, 281.15412065577885), (924.3276496197107, 274.89358243684455), (922.4423310332561, 273.72874838833667), (924.1613602357797, 268.81975908278764), (932.1997969757689, 264.3544842327382), (938.5529338235989, 259.66767755137295), (934.7890274739971, 259.1869106382114), (932.465503810946, 253.77705585582163), (925.5926255941667, 247.83595757083373), (926.7529658173677, 241.16871210476728), (930.9451396877716, 240.23718116289228), (931.825157642993, 243.97681811187067), (935.3888102956602, 242.62708204004923), (930.842985280232, 241.13529446682867), (932.5730311933562, 238.37621671079495), (933.3417927943441, 237.4011977399606), (937.0083712393955, 232.7182273430231)]\n",
      "liste des positions frame 58:[[1002.9415584415586, 312.7467532467532], (989.8125294517786, 296.20680700981427), (989.4277269334309, 295.77144664602326), (991.1806111643426, 299.17939396866757), (993.5906578994459, 299.668566854823), (991.2702422006975, 302.5594462208462), (988.6903027393935, 297.94133488522544), (993.8067664158483, 295.2674063700389), (984.8921586955166, 293.30567379635846), (983.8318118109021, 294.1604443971748), (985.546195298314, 297.0046850781348), (981.1121287578699, 298.14455063318786), (976.5028118761496, 294.99093496715324), (966.8914801780055, 294.2108571581818), (977.0724821138992, 297.11840326473794), (973.6207875114407, 296.562677592065), (974.0822201726104, 294.38467837481835), (966.3314136569632, 297.5799932331165), (968.2133656311215, 299.1762583692889), (962.2775627026798, 291.1559407214189), (957.582950648502, 289.26192986576643), (955.0070317691021, 292.2645377490692), (951.4825689835557, 290.81668207931824), (949.6014916168358, 283.0422756727952), (943.8024958042416, 283.10546242844407), (938.1952994846754, 283.75714547983966), (932.5549052608853, 279.58562216072215), array([nan, nan]), (925.0121701476695, 285.44685488469526), array([nan, nan]), (924.4521082589024, 286.4372480550069), (928.7996790596908, 281.7082264619672), (930.2123586797784, 282.9432108125444), (924.6747376615862, 282.74577913501935), (925.4245667544308, 286.3138965075025), (930.008487147743, 285.65189473110127), (926.4519414030037, 284.51028602289784), (927.5456150540037, 280.5884945346875), (925.0578979149589, 281.38375576174013), (923.5407562325978, 280.44018449693203), (925.5230391529562, 277.0410757042797), (924.4337657387473, 281.15412065577885), (924.3276496197107, 274.89358243684455), (922.4423310332561, 273.72874838833667), (924.1613602357797, 268.81975908278764), (932.1997969757689, 264.3544842327382), (938.5529338235989, 259.66767755137295), (934.7890274739971, 259.1869106382114), (932.465503810946, 253.77705585582163), (925.5926255941667, 247.83595757083373), (926.7529658173677, 241.16871210476728), (930.9451396877716, 240.23718116289228), (931.825157642993, 243.97681811187067), (935.3888102956602, 242.62708204004923), (930.842985280232, 241.13529446682867), (932.5730311933562, 238.37621671079495), (933.3417927943441, 237.4011977399606), (937.0083712393955, 232.7182273430231), (937.9825196271619, 230.8176995183775)]\n",
      "liste des positions frame 59:[[1002.9415584415586, 312.7467532467532], (989.8125294517786, 296.20680700981427), (989.4277269334309, 295.77144664602326), (991.1806111643426, 299.17939396866757), (993.5906578994459, 299.668566854823), (991.2702422006975, 302.5594462208462), (988.6903027393935, 297.94133488522544), (993.8067664158483, 295.2674063700389), (984.8921586955166, 293.30567379635846), (983.8318118109021, 294.1604443971748), (985.546195298314, 297.0046850781348), (981.1121287578699, 298.14455063318786), (976.5028118761496, 294.99093496715324), (966.8914801780055, 294.2108571581818), (977.0724821138992, 297.11840326473794), (973.6207875114407, 296.562677592065), (974.0822201726104, 294.38467837481835), (966.3314136569632, 297.5799932331165), (968.2133656311215, 299.1762583692889), (962.2775627026798, 291.1559407214189), (957.582950648502, 289.26192986576643), (955.0070317691021, 292.2645377490692), (951.4825689835557, 290.81668207931824), (949.6014916168358, 283.0422756727952), (943.8024958042416, 283.10546242844407), (938.1952994846754, 283.75714547983966), (932.5549052608853, 279.58562216072215), array([nan, nan]), (925.0121701476695, 285.44685488469526), array([nan, nan]), (924.4521082589024, 286.4372480550069), (928.7996790596908, 281.7082264619672), (930.2123586797784, 282.9432108125444), (924.6747376615862, 282.74577913501935), (925.4245667544308, 286.3138965075025), (930.008487147743, 285.65189473110127), (926.4519414030037, 284.51028602289784), (927.5456150540037, 280.5884945346875), (925.0578979149589, 281.38375576174013), (923.5407562325978, 280.44018449693203), (925.5230391529562, 277.0410757042797), (924.4337657387473, 281.15412065577885), (924.3276496197107, 274.89358243684455), (922.4423310332561, 273.72874838833667), (924.1613602357797, 268.81975908278764), (932.1997969757689, 264.3544842327382), (938.5529338235989, 259.66767755137295), (934.7890274739971, 259.1869106382114), (932.465503810946, 253.77705585582163), (925.5926255941667, 247.83595757083373), (926.7529658173677, 241.16871210476728), (930.9451396877716, 240.23718116289228), (931.825157642993, 243.97681811187067), (935.3888102956602, 242.62708204004923), (930.842985280232, 241.13529446682867), (932.5730311933562, 238.37621671079495), (933.3417927943441, 237.4011977399606), (937.0083712393955, 232.7182273430231), (937.9825196271619, 230.8176995183775), (943.0179356109916, 227.41313677994233)]\n",
      "liste des positions frame 60:[[1002.9415584415586, 312.7467532467532], (989.8125294517786, 296.20680700981427), (989.4277269334309, 295.77144664602326), (991.1806111643426, 299.17939396866757), (993.5906578994459, 299.668566854823), (991.2702422006975, 302.5594462208462), (988.6903027393935, 297.94133488522544), (993.8067664158483, 295.2674063700389), (984.8921586955166, 293.30567379635846), (983.8318118109021, 294.1604443971748), (985.546195298314, 297.0046850781348), (981.1121287578699, 298.14455063318786), (976.5028118761496, 294.99093496715324), (966.8914801780055, 294.2108571581818), (977.0724821138992, 297.11840326473794), (973.6207875114407, 296.562677592065), (974.0822201726104, 294.38467837481835), (966.3314136569632, 297.5799932331165), (968.2133656311215, 299.1762583692889), (962.2775627026798, 291.1559407214189), (957.582950648502, 289.26192986576643), (955.0070317691021, 292.2645377490692), (951.4825689835557, 290.81668207931824), (949.6014916168358, 283.0422756727952), (943.8024958042416, 283.10546242844407), (938.1952994846754, 283.75714547983966), (932.5549052608853, 279.58562216072215), array([nan, nan]), (925.0121701476695, 285.44685488469526), array([nan, nan]), (924.4521082589024, 286.4372480550069), (928.7996790596908, 281.7082264619672), (930.2123586797784, 282.9432108125444), (924.6747376615862, 282.74577913501935), (925.4245667544308, 286.3138965075025), (930.008487147743, 285.65189473110127), (926.4519414030037, 284.51028602289784), (927.5456150540037, 280.5884945346875), (925.0578979149589, 281.38375576174013), (923.5407562325978, 280.44018449693203), (925.5230391529562, 277.0410757042797), (924.4337657387473, 281.15412065577885), (924.3276496197107, 274.89358243684455), (922.4423310332561, 273.72874838833667), (924.1613602357797, 268.81975908278764), (932.1997969757689, 264.3544842327382), (938.5529338235989, 259.66767755137295), (934.7890274739971, 259.1869106382114), (932.465503810946, 253.77705585582163), (925.5926255941667, 247.83595757083373), (926.7529658173677, 241.16871210476728), (930.9451396877716, 240.23718116289228), (931.825157642993, 243.97681811187067), (935.3888102956602, 242.62708204004923), (930.842985280232, 241.13529446682867), (932.5730311933562, 238.37621671079495), (933.3417927943441, 237.4011977399606), (937.0083712393955, 232.7182273430231), (937.9825196271619, 230.8176995183775), (943.0179356109916, 227.41313677994233), (946.8843808769383, 225.70904755605966)]\n",
      "frames vide:61\n",
      "liste des positions frame 61:[[1002.9415584415586, 312.7467532467532], (989.8125294517786, 296.20680700981427), (989.4277269334309, 295.77144664602326), (991.1806111643426, 299.17939396866757), (993.5906578994459, 299.668566854823), (991.2702422006975, 302.5594462208462), (988.6903027393935, 297.94133488522544), (993.8067664158483, 295.2674063700389), (984.8921586955166, 293.30567379635846), (983.8318118109021, 294.1604443971748), (985.546195298314, 297.0046850781348), (981.1121287578699, 298.14455063318786), (976.5028118761496, 294.99093496715324), (966.8914801780055, 294.2108571581818), (977.0724821138992, 297.11840326473794), (973.6207875114407, 296.562677592065), (974.0822201726104, 294.38467837481835), (966.3314136569632, 297.5799932331165), (968.2133656311215, 299.1762583692889), (962.2775627026798, 291.1559407214189), (957.582950648502, 289.26192986576643), (955.0070317691021, 292.2645377490692), (951.4825689835557, 290.81668207931824), (949.6014916168358, 283.0422756727952), (943.8024958042416, 283.10546242844407), (938.1952994846754, 283.75714547983966), (932.5549052608853, 279.58562216072215), array([nan, nan]), (925.0121701476695, 285.44685488469526), array([nan, nan]), (924.4521082589024, 286.4372480550069), (928.7996790596908, 281.7082264619672), (930.2123586797784, 282.9432108125444), (924.6747376615862, 282.74577913501935), (925.4245667544308, 286.3138965075025), (930.008487147743, 285.65189473110127), (926.4519414030037, 284.51028602289784), (927.5456150540037, 280.5884945346875), (925.0578979149589, 281.38375576174013), (923.5407562325978, 280.44018449693203), (925.5230391529562, 277.0410757042797), (924.4337657387473, 281.15412065577885), (924.3276496197107, 274.89358243684455), (922.4423310332561, 273.72874838833667), (924.1613602357797, 268.81975908278764), (932.1997969757689, 264.3544842327382), (938.5529338235989, 259.66767755137295), (934.7890274739971, 259.1869106382114), (932.465503810946, 253.77705585582163), (925.5926255941667, 247.83595757083373), (926.7529658173677, 241.16871210476728), (930.9451396877716, 240.23718116289228), (931.825157642993, 243.97681811187067), (935.3888102956602, 242.62708204004923), (930.842985280232, 241.13529446682867), (932.5730311933562, 238.37621671079495), (933.3417927943441, 237.4011977399606), (937.0083712393955, 232.7182273430231), (937.9825196271619, 230.8176995183775), (943.0179356109916, 227.41313677994233), (946.8843808769383, 225.70904755605966), array([nan, nan])]\n",
      "liste des positions frame 62:[[1002.9415584415586, 312.7467532467532], (989.8125294517786, 296.20680700981427), (989.4277269334309, 295.77144664602326), (991.1806111643426, 299.17939396866757), (993.5906578994459, 299.668566854823), (991.2702422006975, 302.5594462208462), (988.6903027393935, 297.94133488522544), (993.8067664158483, 295.2674063700389), (984.8921586955166, 293.30567379635846), (983.8318118109021, 294.1604443971748), (985.546195298314, 297.0046850781348), (981.1121287578699, 298.14455063318786), (976.5028118761496, 294.99093496715324), (966.8914801780055, 294.2108571581818), (977.0724821138992, 297.11840326473794), (973.6207875114407, 296.562677592065), (974.0822201726104, 294.38467837481835), (966.3314136569632, 297.5799932331165), (968.2133656311215, 299.1762583692889), (962.2775627026798, 291.1559407214189), (957.582950648502, 289.26192986576643), (955.0070317691021, 292.2645377490692), (951.4825689835557, 290.81668207931824), (949.6014916168358, 283.0422756727952), (943.8024958042416, 283.10546242844407), (938.1952994846754, 283.75714547983966), (932.5549052608853, 279.58562216072215), array([nan, nan]), (925.0121701476695, 285.44685488469526), array([nan, nan]), (924.4521082589024, 286.4372480550069), (928.7996790596908, 281.7082264619672), (930.2123586797784, 282.9432108125444), (924.6747376615862, 282.74577913501935), (925.4245667544308, 286.3138965075025), (930.008487147743, 285.65189473110127), (926.4519414030037, 284.51028602289784), (927.5456150540037, 280.5884945346875), (925.0578979149589, 281.38375576174013), (923.5407562325978, 280.44018449693203), (925.5230391529562, 277.0410757042797), (924.4337657387473, 281.15412065577885), (924.3276496197107, 274.89358243684455), (922.4423310332561, 273.72874838833667), (924.1613602357797, 268.81975908278764), (932.1997969757689, 264.3544842327382), (938.5529338235989, 259.66767755137295), (934.7890274739971, 259.1869106382114), (932.465503810946, 253.77705585582163), (925.5926255941667, 247.83595757083373), (926.7529658173677, 241.16871210476728), (930.9451396877716, 240.23718116289228), (931.825157642993, 243.97681811187067), (935.3888102956602, 242.62708204004923), (930.842985280232, 241.13529446682867), (932.5730311933562, 238.37621671079495), (933.3417927943441, 237.4011977399606), (937.0083712393955, 232.7182273430231), (937.9825196271619, 230.8176995183775), (943.0179356109916, 227.41313677994233), (946.8843808769383, 225.70904755605966), array([nan, nan]), (952.7412417175842, 226.14982731329937)]\n",
      "liste des positions frame 63:[[1002.9415584415586, 312.7467532467532], (989.8125294517786, 296.20680700981427), (989.4277269334309, 295.77144664602326), (991.1806111643426, 299.17939396866757), (993.5906578994459, 299.668566854823), (991.2702422006975, 302.5594462208462), (988.6903027393935, 297.94133488522544), (993.8067664158483, 295.2674063700389), (984.8921586955166, 293.30567379635846), (983.8318118109021, 294.1604443971748), (985.546195298314, 297.0046850781348), (981.1121287578699, 298.14455063318786), (976.5028118761496, 294.99093496715324), (966.8914801780055, 294.2108571581818), (977.0724821138992, 297.11840326473794), (973.6207875114407, 296.562677592065), (974.0822201726104, 294.38467837481835), (966.3314136569632, 297.5799932331165), (968.2133656311215, 299.1762583692889), (962.2775627026798, 291.1559407214189), (957.582950648502, 289.26192986576643), (955.0070317691021, 292.2645377490692), (951.4825689835557, 290.81668207931824), (949.6014916168358, 283.0422756727952), (943.8024958042416, 283.10546242844407), (938.1952994846754, 283.75714547983966), (932.5549052608853, 279.58562216072215), array([nan, nan]), (925.0121701476695, 285.44685488469526), array([nan, nan]), (924.4521082589024, 286.4372480550069), (928.7996790596908, 281.7082264619672), (930.2123586797784, 282.9432108125444), (924.6747376615862, 282.74577913501935), (925.4245667544308, 286.3138965075025), (930.008487147743, 285.65189473110127), (926.4519414030037, 284.51028602289784), (927.5456150540037, 280.5884945346875), (925.0578979149589, 281.38375576174013), (923.5407562325978, 280.44018449693203), (925.5230391529562, 277.0410757042797), (924.4337657387473, 281.15412065577885), (924.3276496197107, 274.89358243684455), (922.4423310332561, 273.72874838833667), (924.1613602357797, 268.81975908278764), (932.1997969757689, 264.3544842327382), (938.5529338235989, 259.66767755137295), (934.7890274739971, 259.1869106382114), (932.465503810946, 253.77705585582163), (925.5926255941667, 247.83595757083373), (926.7529658173677, 241.16871210476728), (930.9451396877716, 240.23718116289228), (931.825157642993, 243.97681811187067), (935.3888102956602, 242.62708204004923), (930.842985280232, 241.13529446682867), (932.5730311933562, 238.37621671079495), (933.3417927943441, 237.4011977399606), (937.0083712393955, 232.7182273430231), (937.9825196271619, 230.8176995183775), (943.0179356109916, 227.41313677994233), (946.8843808769383, 225.70904755605966), array([nan, nan]), (952.7412417175842, 226.14982731329937), (949.2670462156991, 223.34692622303118)]\n",
      "liste des positions frame 64:[[1002.9415584415586, 312.7467532467532], (989.8125294517786, 296.20680700981427), (989.4277269334309, 295.77144664602326), (991.1806111643426, 299.17939396866757), (993.5906578994459, 299.668566854823), (991.2702422006975, 302.5594462208462), (988.6903027393935, 297.94133488522544), (993.8067664158483, 295.2674063700389), (984.8921586955166, 293.30567379635846), (983.8318118109021, 294.1604443971748), (985.546195298314, 297.0046850781348), (981.1121287578699, 298.14455063318786), (976.5028118761496, 294.99093496715324), (966.8914801780055, 294.2108571581818), (977.0724821138992, 297.11840326473794), (973.6207875114407, 296.562677592065), (974.0822201726104, 294.38467837481835), (966.3314136569632, 297.5799932331165), (968.2133656311215, 299.1762583692889), (962.2775627026798, 291.1559407214189), (957.582950648502, 289.26192986576643), (955.0070317691021, 292.2645377490692), (951.4825689835557, 290.81668207931824), (949.6014916168358, 283.0422756727952), (943.8024958042416, 283.10546242844407), (938.1952994846754, 283.75714547983966), (932.5549052608853, 279.58562216072215), array([nan, nan]), (925.0121701476695, 285.44685488469526), array([nan, nan]), (924.4521082589024, 286.4372480550069), (928.7996790596908, 281.7082264619672), (930.2123586797784, 282.9432108125444), (924.6747376615862, 282.74577913501935), (925.4245667544308, 286.3138965075025), (930.008487147743, 285.65189473110127), (926.4519414030037, 284.51028602289784), (927.5456150540037, 280.5884945346875), (925.0578979149589, 281.38375576174013), (923.5407562325978, 280.44018449693203), (925.5230391529562, 277.0410757042797), (924.4337657387473, 281.15412065577885), (924.3276496197107, 274.89358243684455), (922.4423310332561, 273.72874838833667), (924.1613602357797, 268.81975908278764), (932.1997969757689, 264.3544842327382), (938.5529338235989, 259.66767755137295), (934.7890274739971, 259.1869106382114), (932.465503810946, 253.77705585582163), (925.5926255941667, 247.83595757083373), (926.7529658173677, 241.16871210476728), (930.9451396877716, 240.23718116289228), (931.825157642993, 243.97681811187067), (935.3888102956602, 242.62708204004923), (930.842985280232, 241.13529446682867), (932.5730311933562, 238.37621671079495), (933.3417927943441, 237.4011977399606), (937.0083712393955, 232.7182273430231), (937.9825196271619, 230.8176995183775), (943.0179356109916, 227.41313677994233), (946.8843808769383, 225.70904755605966), array([nan, nan]), (952.7412417175842, 226.14982731329937), (949.2670462156991, 223.34692622303118), (944.445799734241, 229.84660532708224)]\n",
      "liste des positions frame 65:[[1002.9415584415586, 312.7467532467532], (989.8125294517786, 296.20680700981427), (989.4277269334309, 295.77144664602326), (991.1806111643426, 299.17939396866757), (993.5906578994459, 299.668566854823), (991.2702422006975, 302.5594462208462), (988.6903027393935, 297.94133488522544), (993.8067664158483, 295.2674063700389), (984.8921586955166, 293.30567379635846), (983.8318118109021, 294.1604443971748), (985.546195298314, 297.0046850781348), (981.1121287578699, 298.14455063318786), (976.5028118761496, 294.99093496715324), (966.8914801780055, 294.2108571581818), (977.0724821138992, 297.11840326473794), (973.6207875114407, 296.562677592065), (974.0822201726104, 294.38467837481835), (966.3314136569632, 297.5799932331165), (968.2133656311215, 299.1762583692889), (962.2775627026798, 291.1559407214189), (957.582950648502, 289.26192986576643), (955.0070317691021, 292.2645377490692), (951.4825689835557, 290.81668207931824), (949.6014916168358, 283.0422756727952), (943.8024958042416, 283.10546242844407), (938.1952994846754, 283.75714547983966), (932.5549052608853, 279.58562216072215), array([nan, nan]), (925.0121701476695, 285.44685488469526), array([nan, nan]), (924.4521082589024, 286.4372480550069), (928.7996790596908, 281.7082264619672), (930.2123586797784, 282.9432108125444), (924.6747376615862, 282.74577913501935), (925.4245667544308, 286.3138965075025), (930.008487147743, 285.65189473110127), (926.4519414030037, 284.51028602289784), (927.5456150540037, 280.5884945346875), (925.0578979149589, 281.38375576174013), (923.5407562325978, 280.44018449693203), (925.5230391529562, 277.0410757042797), (924.4337657387473, 281.15412065577885), (924.3276496197107, 274.89358243684455), (922.4423310332561, 273.72874838833667), (924.1613602357797, 268.81975908278764), (932.1997969757689, 264.3544842327382), (938.5529338235989, 259.66767755137295), (934.7890274739971, 259.1869106382114), (932.465503810946, 253.77705585582163), (925.5926255941667, 247.83595757083373), (926.7529658173677, 241.16871210476728), (930.9451396877716, 240.23718116289228), (931.825157642993, 243.97681811187067), (935.3888102956602, 242.62708204004923), (930.842985280232, 241.13529446682867), (932.5730311933562, 238.37621671079495), (933.3417927943441, 237.4011977399606), (937.0083712393955, 232.7182273430231), (937.9825196271619, 230.8176995183775), (943.0179356109916, 227.41313677994233), (946.8843808769383, 225.70904755605966), array([nan, nan]), (952.7412417175842, 226.14982731329937), (949.2670462156991, 223.34692622303118), (944.445799734241, 229.84660532708224), (942.916637618607, 224.9046400212261)]\n",
      "liste des positions frame 66:[[1002.9415584415586, 312.7467532467532], (989.8125294517786, 296.20680700981427), (989.4277269334309, 295.77144664602326), (991.1806111643426, 299.17939396866757), (993.5906578994459, 299.668566854823), (991.2702422006975, 302.5594462208462), (988.6903027393935, 297.94133488522544), (993.8067664158483, 295.2674063700389), (984.8921586955166, 293.30567379635846), (983.8318118109021, 294.1604443971748), (985.546195298314, 297.0046850781348), (981.1121287578699, 298.14455063318786), (976.5028118761496, 294.99093496715324), (966.8914801780055, 294.2108571581818), (977.0724821138992, 297.11840326473794), (973.6207875114407, 296.562677592065), (974.0822201726104, 294.38467837481835), (966.3314136569632, 297.5799932331165), (968.2133656311215, 299.1762583692889), (962.2775627026798, 291.1559407214189), (957.582950648502, 289.26192986576643), (955.0070317691021, 292.2645377490692), (951.4825689835557, 290.81668207931824), (949.6014916168358, 283.0422756727952), (943.8024958042416, 283.10546242844407), (938.1952994846754, 283.75714547983966), (932.5549052608853, 279.58562216072215), array([nan, nan]), (925.0121701476695, 285.44685488469526), array([nan, nan]), (924.4521082589024, 286.4372480550069), (928.7996790596908, 281.7082264619672), (930.2123586797784, 282.9432108125444), (924.6747376615862, 282.74577913501935), (925.4245667544308, 286.3138965075025), (930.008487147743, 285.65189473110127), (926.4519414030037, 284.51028602289784), (927.5456150540037, 280.5884945346875), (925.0578979149589, 281.38375576174013), (923.5407562325978, 280.44018449693203), (925.5230391529562, 277.0410757042797), (924.4337657387473, 281.15412065577885), (924.3276496197107, 274.89358243684455), (922.4423310332561, 273.72874838833667), (924.1613602357797, 268.81975908278764), (932.1997969757689, 264.3544842327382), (938.5529338235989, 259.66767755137295), (934.7890274739971, 259.1869106382114), (932.465503810946, 253.77705585582163), (925.5926255941667, 247.83595757083373), (926.7529658173677, 241.16871210476728), (930.9451396877716, 240.23718116289228), (931.825157642993, 243.97681811187067), (935.3888102956602, 242.62708204004923), (930.842985280232, 241.13529446682867), (932.5730311933562, 238.37621671079495), (933.3417927943441, 237.4011977399606), (937.0083712393955, 232.7182273430231), (937.9825196271619, 230.8176995183775), (943.0179356109916, 227.41313677994233), (946.8843808769383, 225.70904755605966), array([nan, nan]), (952.7412417175842, 226.14982731329937), (949.2670462156991, 223.34692622303118), (944.445799734241, 229.84660532708224), (942.916637618607, 224.9046400212261), (941.9357051644722, 227.8656105280272)]\n",
      "liste des positions frame 67:[[1002.9415584415586, 312.7467532467532], (989.8125294517786, 296.20680700981427), (989.4277269334309, 295.77144664602326), (991.1806111643426, 299.17939396866757), (993.5906578994459, 299.668566854823), (991.2702422006975, 302.5594462208462), (988.6903027393935, 297.94133488522544), (993.8067664158483, 295.2674063700389), (984.8921586955166, 293.30567379635846), (983.8318118109021, 294.1604443971748), (985.546195298314, 297.0046850781348), (981.1121287578699, 298.14455063318786), (976.5028118761496, 294.99093496715324), (966.8914801780055, 294.2108571581818), (977.0724821138992, 297.11840326473794), (973.6207875114407, 296.562677592065), (974.0822201726104, 294.38467837481835), (966.3314136569632, 297.5799932331165), (968.2133656311215, 299.1762583692889), (962.2775627026798, 291.1559407214189), (957.582950648502, 289.26192986576643), (955.0070317691021, 292.2645377490692), (951.4825689835557, 290.81668207931824), (949.6014916168358, 283.0422756727952), (943.8024958042416, 283.10546242844407), (938.1952994846754, 283.75714547983966), (932.5549052608853, 279.58562216072215), array([nan, nan]), (925.0121701476695, 285.44685488469526), array([nan, nan]), (924.4521082589024, 286.4372480550069), (928.7996790596908, 281.7082264619672), (930.2123586797784, 282.9432108125444), (924.6747376615862, 282.74577913501935), (925.4245667544308, 286.3138965075025), (930.008487147743, 285.65189473110127), (926.4519414030037, 284.51028602289784), (927.5456150540037, 280.5884945346875), (925.0578979149589, 281.38375576174013), (923.5407562325978, 280.44018449693203), (925.5230391529562, 277.0410757042797), (924.4337657387473, 281.15412065577885), (924.3276496197107, 274.89358243684455), (922.4423310332561, 273.72874838833667), (924.1613602357797, 268.81975908278764), (932.1997969757689, 264.3544842327382), (938.5529338235989, 259.66767755137295), (934.7890274739971, 259.1869106382114), (932.465503810946, 253.77705585582163), (925.5926255941667, 247.83595757083373), (926.7529658173677, 241.16871210476728), (930.9451396877716, 240.23718116289228), (931.825157642993, 243.97681811187067), (935.3888102956602, 242.62708204004923), (930.842985280232, 241.13529446682867), (932.5730311933562, 238.37621671079495), (933.3417927943441, 237.4011977399606), (937.0083712393955, 232.7182273430231), (937.9825196271619, 230.8176995183775), (943.0179356109916, 227.41313677994233), (946.8843808769383, 225.70904755605966), array([nan, nan]), (952.7412417175842, 226.14982731329937), (949.2670462156991, 223.34692622303118), (944.445799734241, 229.84660532708224), (942.916637618607, 224.9046400212261), (941.9357051644722, 227.8656105280272), (939.8279931708914, 230.11488276935472)]\n",
      "liste des positions frame 68:[[1002.9415584415586, 312.7467532467532], (989.8125294517786, 296.20680700981427), (989.4277269334309, 295.77144664602326), (991.1806111643426, 299.17939396866757), (993.5906578994459, 299.668566854823), (991.2702422006975, 302.5594462208462), (988.6903027393935, 297.94133488522544), (993.8067664158483, 295.2674063700389), (984.8921586955166, 293.30567379635846), (983.8318118109021, 294.1604443971748), (985.546195298314, 297.0046850781348), (981.1121287578699, 298.14455063318786), (976.5028118761496, 294.99093496715324), (966.8914801780055, 294.2108571581818), (977.0724821138992, 297.11840326473794), (973.6207875114407, 296.562677592065), (974.0822201726104, 294.38467837481835), (966.3314136569632, 297.5799932331165), (968.2133656311215, 299.1762583692889), (962.2775627026798, 291.1559407214189), (957.582950648502, 289.26192986576643), (955.0070317691021, 292.2645377490692), (951.4825689835557, 290.81668207931824), (949.6014916168358, 283.0422756727952), (943.8024958042416, 283.10546242844407), (938.1952994846754, 283.75714547983966), (932.5549052608853, 279.58562216072215), array([nan, nan]), (925.0121701476695, 285.44685488469526), array([nan, nan]), (924.4521082589024, 286.4372480550069), (928.7996790596908, 281.7082264619672), (930.2123586797784, 282.9432108125444), (924.6747376615862, 282.74577913501935), (925.4245667544308, 286.3138965075025), (930.008487147743, 285.65189473110127), (926.4519414030037, 284.51028602289784), (927.5456150540037, 280.5884945346875), (925.0578979149589, 281.38375576174013), (923.5407562325978, 280.44018449693203), (925.5230391529562, 277.0410757042797), (924.4337657387473, 281.15412065577885), (924.3276496197107, 274.89358243684455), (922.4423310332561, 273.72874838833667), (924.1613602357797, 268.81975908278764), (932.1997969757689, 264.3544842327382), (938.5529338235989, 259.66767755137295), (934.7890274739971, 259.1869106382114), (932.465503810946, 253.77705585582163), (925.5926255941667, 247.83595757083373), (926.7529658173677, 241.16871210476728), (930.9451396877716, 240.23718116289228), (931.825157642993, 243.97681811187067), (935.3888102956602, 242.62708204004923), (930.842985280232, 241.13529446682867), (932.5730311933562, 238.37621671079495), (933.3417927943441, 237.4011977399606), (937.0083712393955, 232.7182273430231), (937.9825196271619, 230.8176995183775), (943.0179356109916, 227.41313677994233), (946.8843808769383, 225.70904755605966), array([nan, nan]), (952.7412417175842, 226.14982731329937), (949.2670462156991, 223.34692622303118), (944.445799734241, 229.84660532708224), (942.916637618607, 224.9046400212261), (941.9357051644722, 227.8656105280272), (939.8279931708914, 230.11488276935472), (932.2651790627455, 228.96635922492783)]\n",
      "liste des positions frame 69:[[1002.9415584415586, 312.7467532467532], (989.8125294517786, 296.20680700981427), (989.4277269334309, 295.77144664602326), (991.1806111643426, 299.17939396866757), (993.5906578994459, 299.668566854823), (991.2702422006975, 302.5594462208462), (988.6903027393935, 297.94133488522544), (993.8067664158483, 295.2674063700389), (984.8921586955166, 293.30567379635846), (983.8318118109021, 294.1604443971748), (985.546195298314, 297.0046850781348), (981.1121287578699, 298.14455063318786), (976.5028118761496, 294.99093496715324), (966.8914801780055, 294.2108571581818), (977.0724821138992, 297.11840326473794), (973.6207875114407, 296.562677592065), (974.0822201726104, 294.38467837481835), (966.3314136569632, 297.5799932331165), (968.2133656311215, 299.1762583692889), (962.2775627026798, 291.1559407214189), (957.582950648502, 289.26192986576643), (955.0070317691021, 292.2645377490692), (951.4825689835557, 290.81668207931824), (949.6014916168358, 283.0422756727952), (943.8024958042416, 283.10546242844407), (938.1952994846754, 283.75714547983966), (932.5549052608853, 279.58562216072215), array([nan, nan]), (925.0121701476695, 285.44685488469526), array([nan, nan]), (924.4521082589024, 286.4372480550069), (928.7996790596908, 281.7082264619672), (930.2123586797784, 282.9432108125444), (924.6747376615862, 282.74577913501935), (925.4245667544308, 286.3138965075025), (930.008487147743, 285.65189473110127), (926.4519414030037, 284.51028602289784), (927.5456150540037, 280.5884945346875), (925.0578979149589, 281.38375576174013), (923.5407562325978, 280.44018449693203), (925.5230391529562, 277.0410757042797), (924.4337657387473, 281.15412065577885), (924.3276496197107, 274.89358243684455), (922.4423310332561, 273.72874838833667), (924.1613602357797, 268.81975908278764), (932.1997969757689, 264.3544842327382), (938.5529338235989, 259.66767755137295), (934.7890274739971, 259.1869106382114), (932.465503810946, 253.77705585582163), (925.5926255941667, 247.83595757083373), (926.7529658173677, 241.16871210476728), (930.9451396877716, 240.23718116289228), (931.825157642993, 243.97681811187067), (935.3888102956602, 242.62708204004923), (930.842985280232, 241.13529446682867), (932.5730311933562, 238.37621671079495), (933.3417927943441, 237.4011977399606), (937.0083712393955, 232.7182273430231), (937.9825196271619, 230.8176995183775), (943.0179356109916, 227.41313677994233), (946.8843808769383, 225.70904755605966), array([nan, nan]), (952.7412417175842, 226.14982731329937), (949.2670462156991, 223.34692622303118), (944.445799734241, 229.84660532708224), (942.916637618607, 224.9046400212261), (941.9357051644722, 227.8656105280272), (939.8279931708914, 230.11488276935472), (932.2651790627455, 228.96635922492783), (931.4351627140777, 226.0659858510768)]\n",
      "liste des positions frame 70:[[1002.9415584415586, 312.7467532467532], (989.8125294517786, 296.20680700981427), (989.4277269334309, 295.77144664602326), (991.1806111643426, 299.17939396866757), (993.5906578994459, 299.668566854823), (991.2702422006975, 302.5594462208462), (988.6903027393935, 297.94133488522544), (993.8067664158483, 295.2674063700389), (984.8921586955166, 293.30567379635846), (983.8318118109021, 294.1604443971748), (985.546195298314, 297.0046850781348), (981.1121287578699, 298.14455063318786), (976.5028118761496, 294.99093496715324), (966.8914801780055, 294.2108571581818), (977.0724821138992, 297.11840326473794), (973.6207875114407, 296.562677592065), (974.0822201726104, 294.38467837481835), (966.3314136569632, 297.5799932331165), (968.2133656311215, 299.1762583692889), (962.2775627026798, 291.1559407214189), (957.582950648502, 289.26192986576643), (955.0070317691021, 292.2645377490692), (951.4825689835557, 290.81668207931824), (949.6014916168358, 283.0422756727952), (943.8024958042416, 283.10546242844407), (938.1952994846754, 283.75714547983966), (932.5549052608853, 279.58562216072215), array([nan, nan]), (925.0121701476695, 285.44685488469526), array([nan, nan]), (924.4521082589024, 286.4372480550069), (928.7996790596908, 281.7082264619672), (930.2123586797784, 282.9432108125444), (924.6747376615862, 282.74577913501935), (925.4245667544308, 286.3138965075025), (930.008487147743, 285.65189473110127), (926.4519414030037, 284.51028602289784), (927.5456150540037, 280.5884945346875), (925.0578979149589, 281.38375576174013), (923.5407562325978, 280.44018449693203), (925.5230391529562, 277.0410757042797), (924.4337657387473, 281.15412065577885), (924.3276496197107, 274.89358243684455), (922.4423310332561, 273.72874838833667), (924.1613602357797, 268.81975908278764), (932.1997969757689, 264.3544842327382), (938.5529338235989, 259.66767755137295), (934.7890274739971, 259.1869106382114), (932.465503810946, 253.77705585582163), (925.5926255941667, 247.83595757083373), (926.7529658173677, 241.16871210476728), (930.9451396877716, 240.23718116289228), (931.825157642993, 243.97681811187067), (935.3888102956602, 242.62708204004923), (930.842985280232, 241.13529446682867), (932.5730311933562, 238.37621671079495), (933.3417927943441, 237.4011977399606), (937.0083712393955, 232.7182273430231), (937.9825196271619, 230.8176995183775), (943.0179356109916, 227.41313677994233), (946.8843808769383, 225.70904755605966), array([nan, nan]), (952.7412417175842, 226.14982731329937), (949.2670462156991, 223.34692622303118), (944.445799734241, 229.84660532708224), (942.916637618607, 224.9046400212261), (941.9357051644722, 227.8656105280272), (939.8279931708914, 230.11488276935472), (932.2651790627455, 228.96635922492783), (931.4351627140777, 226.0659858510768), (931.6402411380184, 223.2921144997959)]\n"
     ]
    }
   ],
   "source": [
    "taille_initiale, luminosité_initiale, seuil = empreinte_digitale(crop(img,x,y,35,35))\n",
    "print(f'position initiale: {position_list}')\n",
    "\n",
    "for i in range(first_frame,actual_frames):\n",
    "    tiff.seek(i)\n",
    "    if np.sum(np.array(tiff))==0:\n",
    "        position_list.append(np.array([np.nan,np.nan]))\n",
    "        sigma_list.append(np.array([np.nan,np.nan]))\n",
    "        print(f'frames vide:{i}')\n",
    "    else:\n",
    "        data = particle_tracker(img, x, y, taille_initiale, luminosité_initiale, seuil)\n",
    "        position_list.append(data[2])\n",
    "        # x,y = position_list[i-first_frame+1] Valeur de First frame n'a pas d'impact apparemment\n",
    "        x,y = position_list[i]\n",
    "        sigma_list.append(data[3])\n",
    "        tiff.seek(i)\n",
    "        img = np.array(tiff)\n",
    "        big_frames.append(img)\n",
    "        crop_frames.append(data[1])\n",
    "    print(f'liste des positions frame {i}:{position_list}')\n",
    "    \n",
    "position_list=position_list[1:] #On ignore le premier point cliqué car incertitude non définie"
   ]
  },
  {
   "cell_type": "code",
   "execution_count": 1367,
   "id": "b7a84351",
   "metadata": {},
   "outputs": [
    {
     "name": "stdout",
     "output_type": "stream",
     "text": [
      "[[1.82125505e-04 5.45020525e-05]\n",
      " [1.82054702e-04 5.44219462e-05]\n",
      " [1.82377232e-04 5.50490085e-05]\n",
      " [1.82820681e-04 5.51390163e-05]\n",
      " [1.82393725e-04 5.56709381e-05]\n",
      " [1.81919016e-04 5.48212056e-05]\n",
      " [1.82860445e-04 5.43292028e-05]\n",
      " [1.81220157e-04 5.39682440e-05]\n",
      " [1.81025053e-04 5.41255218e-05]\n",
      " [1.81340500e-04 5.46488621e-05]\n",
      " [1.80524632e-04 5.48585973e-05]\n",
      " [1.79676517e-04 5.42783320e-05]\n",
      " [1.77908032e-04 5.41347977e-05]\n",
      " [1.79781337e-04 5.46697862e-05]\n",
      " [1.79146225e-04 5.45675327e-05]\n",
      " [1.79231129e-04 5.41667808e-05]\n",
      " [1.77804980e-04 5.47547188e-05]\n",
      " [1.78151259e-04 5.50484315e-05]\n",
      " [1.77059072e-04 5.35726931e-05]\n",
      " [1.76195263e-04 5.32241951e-05]\n",
      " [1.75721294e-04 5.37766749e-05]\n",
      " [1.75072793e-04 5.35102695e-05]\n",
      " [1.74726674e-04 5.20797787e-05]\n",
      " [1.73659659e-04 5.20914051e-05]\n",
      " [1.72627935e-04 5.22113148e-05]\n",
      " [1.71590103e-04 5.14437545e-05]\n",
      " [           nan            nan]\n",
      " [1.70202239e-04 5.25222213e-05]\n",
      " [           nan            nan]\n",
      " [1.70099188e-04 5.27044536e-05]\n",
      " [1.70899141e-04 5.18343137e-05]\n",
      " [1.71159074e-04 5.20615508e-05]\n",
      " [1.70140152e-04 5.20252234e-05]\n",
      " [1.70278120e-04 5.26817570e-05]\n",
      " [1.71121562e-04 5.25599486e-05]\n",
      " [1.70467157e-04 5.23498926e-05]\n",
      " [1.70668393e-04 5.16282830e-05]\n",
      " [1.70210653e-04 5.17746111e-05]\n",
      " [1.69931499e-04 5.16009939e-05]\n",
      " [1.70296239e-04 5.09755579e-05]\n",
      " [1.70095813e-04 5.17323582e-05]\n",
      " [1.70076288e-04 5.05804192e-05]\n",
      " [1.69729389e-04 5.03660897e-05]\n",
      " [1.70045690e-04 4.94628357e-05]\n",
      " [1.71524763e-04 4.86412251e-05]\n",
      " [1.72693740e-04 4.77788527e-05]\n",
      " [1.72001181e-04 4.76903916e-05]\n",
      " [1.71573653e-04 4.66949783e-05]\n",
      " [1.70309043e-04 4.56018162e-05]\n",
      " [1.70522546e-04 4.43750430e-05]\n",
      " [1.71293906e-04 4.42036413e-05]\n",
      " [1.71455829e-04 4.48917345e-05]\n",
      " [1.72111541e-04 4.46433831e-05]\n",
      " [1.71275109e-04 4.43688942e-05]\n",
      " [1.71593438e-04 4.38612239e-05]\n",
      " [1.71734890e-04 4.36818204e-05]\n",
      " [1.72409540e-04 4.28201538e-05]\n",
      " [1.72588784e-04 4.24704567e-05]\n",
      " [1.73515300e-04 4.18440172e-05]\n",
      " [1.74226726e-04 4.15304648e-05]\n",
      " [           nan            nan]\n",
      " [1.75304388e-04 4.16115682e-05]\n",
      " [1.74665137e-04 4.10958344e-05]\n",
      " [1.73778027e-04 4.22917754e-05]\n",
      " [1.73496661e-04 4.13824538e-05]\n",
      " [1.73316170e-04 4.19272723e-05]\n",
      " [1.72928351e-04 4.23411384e-05]\n",
      " [1.71536793e-04 4.21298101e-05]\n",
      " [1.71384070e-04 4.15961414e-05]\n",
      " [1.71421804e-04 4.10857491e-05]]\n"
     ]
    }
   ],
   "source": [
    "pixel_size = 3.45 # Taille absolue\n",
    "f2 = 150  # Focale de L2\n",
    "M_theo = 20  # Magnification of the objective\n",
    "pxl = pixel_size / (f2 * M_theo / 160)  # Pixel size in um dans le plan de la particule\n",
    "\n",
    "sigma_arr=np.array(sigma_list)* pxl * 10**(-6)\n",
    "position_arr=np.array(position_list)* pxl * 10**(-6)\n",
    "print(position_arr)"
   ]
  },
  {
   "cell_type": "code",
   "execution_count": 1368,
   "id": "3381e213",
   "metadata": {},
   "outputs": [
    {
     "data": {
      "text/plain": [
       "(array([9.03436491e-13, 1.97791451e-12, 3.18493326e-12, 4.56313580e-12,\n",
       "        6.20651003e-12, 8.12630246e-12, 1.02501905e-11, 1.27853220e-11,\n",
       "        1.51435434e-11, 1.84297790e-11, 2.08737841e-11, 2.46144096e-11,\n",
       "        2.77458460e-11, 3.25388900e-11, 3.64578393e-11, 4.13207986e-11,\n",
       "        4.48950499e-11, 4.98500765e-11, 5.44038499e-11, 5.85635216e-11,\n",
       "        6.41782013e-11, 6.77862883e-11, 7.29605388e-11, 7.74208439e-11,\n",
       "        8.16966852e-11, 8.56370488e-11, 9.22048851e-11, 9.49743040e-11,\n",
       "        1.01779820e-10, 1.03697310e-10, 1.06535722e-10, 1.13950126e-10,\n",
       "        1.13365871e-10, 1.20470911e-10, 1.21905397e-10, 1.23976091e-10,\n",
       "        1.28618236e-10, 1.32048355e-10, 1.35004635e-10, 1.39014370e-10,\n",
       "        1.42546249e-10, 1.50338500e-10, 1.52369367e-10, 1.62411380e-10,\n",
       "        1.69783230e-10, 1.76713709e-10, 1.83862550e-10, 1.92087177e-10,\n",
       "        1.94952661e-10, 1.96296111e-10, 2.00098569e-10, 2.05740317e-10,\n",
       "        2.08595473e-10, 2.09213933e-10, 2.11271585e-10, 2.11087997e-10,\n",
       "        2.12739436e-10, 2.18199505e-10, 2.23141877e-10, 2.24279092e-10,\n",
       "        2.50528577e-10, 2.59187089e-10, 2.67331494e-10, 2.74093859e-10,\n",
       "        2.79340562e-10, 2.80864116e-10, 2.86183628e-10, 2.86426819e-10,\n",
       "        2.94566414e-10]),\n",
       " array([2.05945853e-12, 3.08356978e-12, 3.93430261e-12, 4.67023481e-12,\n",
       "        5.50145769e-12, 6.23227966e-12, 7.06452066e-12, 7.88972701e-12,\n",
       "        8.54266046e-12, 9.43011315e-12, 9.98794845e-12, 1.08128792e-11,\n",
       "        1.15952569e-11, 1.25844989e-11, 1.32843579e-11, 1.42005836e-11,\n",
       "        1.47368891e-11, 1.55683660e-11, 1.63588288e-11, 1.68394085e-11,\n",
       "        1.77076434e-11, 1.81784602e-11, 1.87943329e-11, 1.94223541e-11,\n",
       "        1.97852854e-11, 2.00803323e-11, 2.09872664e-11, 2.09998361e-11,\n",
       "        2.19281550e-11, 2.20855457e-11, 2.24253746e-11, 2.31871392e-11,\n",
       "        2.31821022e-11, 2.37798604e-11, 2.38915162e-11, 2.39025577e-11,\n",
       "        2.43758340e-11, 2.46907917e-11, 2.49002609e-11, 2.52295463e-11,\n",
       "        2.55577449e-11, 2.61052048e-11, 2.63723951e-11, 2.70927902e-11,\n",
       "        2.77332472e-11, 2.81168887e-11, 2.86706532e-11, 2.91727470e-11,\n",
       "        2.95144631e-11, 2.96151304e-11, 2.97315500e-11, 3.02069936e-11,\n",
       "        3.03348712e-11, 3.02416659e-11, 3.01846755e-11, 3.02928032e-11,\n",
       "        3.00485370e-11, 3.06384517e-11, 3.09870212e-11, 3.05522096e-11,\n",
       "        3.29254205e-11, 3.35582628e-11, 3.43708206e-11, 3.44813506e-11,\n",
       "        3.44713882e-11, 3.43950712e-11, 3.49815448e-11, 3.59445954e-11,\n",
       "        4.01091439e-11]))"
      ]
     },
     "execution_count": 1368,
     "metadata": {},
     "output_type": "execute_result"
    }
   ],
   "source": [
    "def calculate_msd_with_uncertainty(position_arr, delta_x, delta_y):\n",
    "    \"\"\"\n",
    "    Calcule les MSD avec propagation des incertitudes analytiques.\n",
    "    \"\"\"\n",
    "\n",
    "    msd = []\n",
    "    uncertainties = []\n",
    "    for d in range(1, len(position_arr)):\n",
    "        diff_pairs = np.zeros_like(position_arr[d:])\n",
    "        dx = np.zeros_like(delta_x[d:])\n",
    "        dy = np.zeros_like(delta_y[d:])\n",
    "\n",
    "        # Masque pour détecter les NaN\n",
    "        nan_mask_pos = np.isnan(position_arr[d:]) | np.isnan(position_arr[:-d])\n",
    "        nan_mask_delta = np.isnan(delta_x[d:]) | np.isnan(delta_x[:-d])\n",
    "        \n",
    "        # Calculer les différences uniquement où nan_mask est False\n",
    "        valid_mask_pos = ~nan_mask_pos.any(axis=1)  # Inverser le masque pour obtenir les position_arr valides\n",
    "        valid_mask_delta = ~nan_mask_delta\n",
    "\n",
    "        diff_pairs[valid_mask_pos] = position_arr[d:][valid_mask_pos, :] - position_arr[:-d][valid_mask_pos, :]\n",
    "\n",
    "        distances_squared = np.sum(diff_pairs**2, axis=1)\n",
    "        msd.append(np.mean(distances_squared))  \n",
    "\n",
    "        dx[valid_mask_delta] = delta_x[d:][valid_mask_delta] + delta_x[:-d][valid_mask_delta]\n",
    "        dy[valid_mask_delta] = delta_y[d:][valid_mask_delta] + delta_y[:-d][valid_mask_delta]\n",
    "\n",
    "        term_x = 2 * (diff_pairs[:, 0]**2) * (dx**2)\n",
    "        term_y = 2 * (diff_pairs[:, 1]**2) * (dy**2)\n",
    "        \n",
    "        # Propagation des incertitudes\n",
    "        total_uncertainty = np.mean(term_x + term_y)\n",
    "        uncertainties.append(np.sqrt(total_uncertainty))\n",
    "\n",
    "    return np.array(msd), np.array(uncertainties)\n",
    "\n",
    "calculate_msd_with_uncertainty(position_arr, sigma_arr[:, 0], sigma_arr[:, 1])"
   ]
  },
  {
   "cell_type": "markdown",
   "id": "c355c5f0-6c28-4f45-abbe-9d17f257161b",
   "metadata": {},
   "source": [
    "# Résultats"
   ]
  },
  {
   "cell_type": "code",
   "execution_count": 1369,
   "id": "4fb3cff6-dfd3-4c03-96fa-219eb0185e70",
   "metadata": {
    "execution": {
     "iopub.execute_input": "2024-11-27T00:35:56.812822Z",
     "iopub.status.busy": "2024-11-27T00:35:56.812598Z",
     "iopub.status.idle": "2024-11-27T00:35:56.821085Z",
     "shell.execute_reply": "2024-11-27T00:35:56.819985Z",
     "shell.execute_reply.started": "2024-11-27T00:35:56.812806Z"
    }
   },
   "outputs": [
    {
     "name": "stdout",
     "output_type": "stream",
     "text": [
      "coucou\n"
     ]
    }
   ],
   "source": [
    "# Assuming msd_values is the result of your MSD calculation\n",
    "msd_values, uncertainties = calculate_msd_with_uncertainty(position_arr, sigma_arr[:, 0], sigma_arr[:, 1])\n",
    "print('coucou')\n",
    "# Time intervals for the x-axis (assuming a uniform time step)\n",
    "time_intervals = np.arange(1, len(msd_values) + 1) * 0.5\n",
    "\n",
    "# Plotting the MSD\n",
    "plt.figure(figsize=(8, 6))\n",
    "plt.errorbar(time_intervals, msd_values, yerr=uncertainties, fmt='o', label='MSD', color='blue')\n",
    "\n",
    "# Customize the plot\n",
    "plt.title(\"MSD en fonction de l'intervalle de temps\")\n",
    "plt.xlabel(\"Intervalle de temps\")\n",
    "plt.ylabel(\"MSD\")\n",
    "plt.grid(True)\n",
    "plt.legend()\n",
    "\n",
    "# Show the plot\n",
    "plt.show()"
   ]
  },
  {
   "cell_type": "code",
   "execution_count": 1370,
   "id": "cf9032b2",
   "metadata": {},
   "outputs": [
    {
     "name": "stdout",
     "output_type": "stream",
     "text": [
      "Coefficients du polynôme ajusté :\n",
      "[8.87775325e-14 7.85932169e-13 3.26106305e-14]\n",
      "Matrice de covariance des coefficients :\n",
      "[[ 5.50137486e-29 -2.94504739e-28  2.83266794e-28]\n",
      " [-2.94504739e-28  1.64859065e-27 -1.66337223e-27]\n",
      " [ 2.83266794e-28 -1.66337223e-27  1.87444193e-27]]\n",
      "Incertitudes sur les coefficients : [7.41712536e-15 4.06028404e-14 4.32948257e-14]\n",
      "Taille de la particule (m): 1.12e-06 m, avec une incertitude : 5.77e-08\n"
     ]
    }
   ],
   "source": [
    "# Fonction quadratique pour l'ajustement\n",
    "def quadratic(x, a, b, c):\n",
    "    return a * x**2 + b * x + c\n",
    "\n",
    "# Assuming msd_values is the result of your MSD calculation\n",
    "msd_values, uncertainties = calculate_msd_with_uncertainty(position_arr, sigma_arr[:, 0], sigma_arr[:, 1])\n",
    "\n",
    "cropped_msd = msd_values[:5]\n",
    "cropped_inc = uncertainties[:5]\n",
    "\n",
    "# Time intervals for the x-axis (assuming a uniform time step)\n",
    "time_intervals = np.arange(1, len(cropped_msd) + 1)\n",
    "\n",
    "# Perform a quadratic fit using curve_fit, which gives both coefficients and covariance matrix\n",
    "popt, pcov = curve_fit(quadratic, time_intervals, cropped_msd, sigma=cropped_inc)\n",
    "\n",
    "# popt contains the optimal coefficients\n",
    "coeffs = popt\n",
    "\n",
    "# pcov is the covariance matrix, which we can use to compute uncertainties\n",
    "coeff_uncertainties = np.sqrt(np.diag(pcov))  # Incertitudes sur les coefficients sont les éléments diagonaux\n",
    "\n",
    "# Affichage des coefficients séparément\n",
    "print(\"Coefficients du polynôme ajusté :\")\n",
    "print(coeffs)\n",
    "\n",
    "# Affichage de la matrice de covariance séparément\n",
    "print(\"Matrice de covariance des coefficients :\")\n",
    "print(pcov)\n",
    "\n",
    "# Création de la fonction quadratique de l'ajustement\n",
    "quadratic_fit = np.poly1d(coeffs)\n",
    "\n",
    "# Génération des valeurs ajustées pour afficher la courbe\n",
    "fitted_msd = quadratic_fit(time_intervals)\n",
    "\n",
    "# Affichage du MSD avec les barres d'erreur\n",
    "plt.figure(figsize=(8, 6))\n",
    "plt.errorbar(time_intervals, cropped_msd, yerr=cropped_inc, fmt='o', label='MSD', color='blue')\n",
    "plt.plot(time_intervals, fitted_msd, label='Quadratic Fit', color='red', linestyle='--')\n",
    "\n",
    "# Personnalisation du graphique\n",
    "plt.title(\"MSD en fonction de l'intervalle de temps\")\n",
    "plt.xlabel(\"Intervalle de temps\")\n",
    "plt.ylabel(\"MSD\")\n",
    "plt.grid(True)\n",
    "plt.legend()\n",
    "\n",
    "# Afficher le graphique\n",
    "plt.show()\n",
    "\n",
    "# Affichage des incertitudes sur les coefficients\n",
    "print(f\"Incertitudes sur les coefficients : {coeff_uncertainties}\")\n",
    "\n",
    "# Calcul du coefficient de diffusion et de la taille de la particule\n",
    "r = (4 * 1.38 * 10**(-23) * 300 / (6 * np.pi * 10**(-3) * coeffs[1]))  # Coefficient de diffusion\n",
    "r_uncertainty = (4 * 1.38 * 10**(-23) * 300 * coeff_uncertainties[1] / (6 * np.pi * 10**(-3) * (coeffs[1])**2))  # Coefficient de diffusion\n",
    "\n",
    "# Affichage de la taille de la particule avec incertitude\n",
    "print(f\"Taille de la particule (m): {r:.2e} m, avec une incertitude : {r_uncertainty:.2e}\")\n"
   ]
  },
  {
   "cell_type": "code",
   "execution_count": 1371,
   "id": "625b1770-9368-4a91-baa2-a62960106b77",
   "metadata": {
    "execution": {
     "iopub.execute_input": "2024-11-27T00:35:56.821952Z",
     "iopub.status.busy": "2024-11-27T00:35:56.821739Z",
     "iopub.status.idle": "2024-11-27T00:35:56.893091Z",
     "shell.execute_reply": "2024-11-27T00:35:56.891915Z",
     "shell.execute_reply.started": "2024-11-27T00:35:56.821935Z"
    }
   },
   "outputs": [],
   "source": [
    "x_plt, y_plt = zip(*position_list)\n",
    "# Create the plot\n",
    "plt.figure(figsize=(10, 8))  # Optional: Adjust the figure size\n",
    "plt.plot(x_plt, y_plt, marker='o', linestyle='-', color='b', label='Connected Points')\n",
    "\n",
    "# Inverser l'axe Y\n",
    "plt.gca().invert_yaxis()\n",
    "\n",
    "# Set grid limits to match the 1440x1080 grid\n",
    "plt.xlim(0, 1440)\n",
    "plt.ylim(0, 1080)\n",
    "\n",
    "# Add labels and title\n",
    "plt.xlabel('X-axis')\n",
    "plt.ylabel('Y-axis')\n",
    "plt.title('2D Connected Points Plot')\n",
    "plt.legend()\n",
    "\n",
    "# Optional: Add grid lines\n",
    "plt.grid(True)\n",
    "\n",
    "# Afficher le graphique\n",
    "plt.show()"
   ]
  },
  {
   "cell_type": "markdown",
   "id": "5fae7658-ee40-44d3-ace6-763079316aca",
   "metadata": {},
   "source": [
    "## anim toutes les particules"
   ]
  },
  {
   "cell_type": "code",
   "execution_count": 1372,
   "id": "3f852688-0624-4f98-bc43-437e31b430a4",
   "metadata": {
    "execution": {
     "iopub.execute_input": "2024-11-27T00:35:56.894366Z",
     "iopub.status.busy": "2024-11-27T00:35:56.894056Z",
     "iopub.status.idle": "2024-11-27T00:35:56.898702Z",
     "shell.execute_reply": "2024-11-27T00:35:56.897463Z",
     "shell.execute_reply.started": "2024-11-27T00:35:56.894346Z"
    }
   },
   "outputs": [],
   "source": [
    "fig, ax = plt.subplots()\n",
    "img = ax.imshow(big_frames[0], origin='lower', cmap='gray', animated=True)\n",
    "\n",
    "\n",
    "# Update function\n",
    "def update(frame):\n",
    "    img.set_array(frame)\n",
    "    return img,\n",
    "    \n",
    "ani = animation.FuncAnimation(fig, update, frames=big_frames, interval=50, blit=True)\n",
    "plt.show()"
   ]
  },
  {
   "cell_type": "markdown",
   "id": "111a50d8-6fce-40cc-bf48-775bfd002c3d",
   "metadata": {},
   "source": [
    "## anim crop"
   ]
  },
  {
   "cell_type": "code",
   "execution_count": 1373,
   "id": "0d6554b7-0c86-4ee5-8a32-4bd994f881f4",
   "metadata": {
    "execution": {
     "iopub.execute_input": "2024-11-27T00:35:56.899778Z",
     "iopub.status.busy": "2024-11-27T00:35:56.899533Z",
     "iopub.status.idle": "2024-11-27T00:35:56.955616Z",
     "shell.execute_reply": "2024-11-27T00:35:56.954725Z",
     "shell.execute_reply.started": "2024-11-27T00:35:56.899759Z"
    }
   },
   "outputs": [],
   "source": [
    "fig, ax = plt.subplots()\n",
    "img = ax.imshow(crop_frames[0], origin='lower', cmap='gray', animated=True)\n",
    "\n",
    "\n",
    "def update(frame):\n",
    "    img.set_array(frame)\n",
    "    return img,\n",
    "    \n",
    "ani = animation.FuncAnimation(fig, update, frames=crop_frames, interval=50, blit=True)\n",
    "plt.show()"
   ]
  },
  {
   "cell_type": "code",
   "execution_count": null,
   "id": "a57b3c57-a5c5-4f11-b5ce-c32e975a7d83",
   "metadata": {},
   "outputs": [],
   "source": []
  }
 ],
 "metadata": {
  "kernelspec": {
   "display_name": "Python 3",
   "language": "python",
   "name": "python3"
  },
  "language_info": {
   "codemirror_mode": {
    "name": "ipython",
    "version": 3
   },
   "file_extension": ".py",
   "mimetype": "text/x-python",
   "name": "python",
   "nbconvert_exporter": "python",
   "pygments_lexer": "ipython3",
   "version": "3.12.7"
  }
 },
 "nbformat": 4,
 "nbformat_minor": 5
}
