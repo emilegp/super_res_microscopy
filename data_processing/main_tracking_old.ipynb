{
 "cells": [
  {
   "cell_type": "markdown",
   "id": "a1bbf155-d46a-4bbb-a7bc-6857ef1672de",
   "metadata": {},
   "source": [
    "# Initialisation"
   ]
  },
  {
   "cell_type": "code",
   "execution_count": 745,
   "id": "49fff9c0-1a10-465b-b5d6-cf2853a133db",
   "metadata": {
    "execution": {
     "iopub.execute_input": "2024-11-27T00:33:55.015775Z",
     "iopub.status.busy": "2024-11-27T00:33:55.015362Z",
     "iopub.status.idle": "2024-11-27T00:33:56.248500Z",
     "shell.execute_reply": "2024-11-27T00:33:56.247904Z",
     "shell.execute_reply.started": "2024-11-27T00:33:55.015736Z"
    }
   },
   "outputs": [],
   "source": [
    "import matplotlib\n",
    "matplotlib.use('Qt5Agg')  # Utiliser le backend Qt5Agg pour windows\n",
    "import matplotlib.pyplot as plt\n",
    "import matplotlib.animation as animation\n",
    "import cv2\n",
    "import numpy as np\n",
    "import os\n",
    "from PIL import Image\n",
    "import lmfit\n",
    "#%matplotlib tk #pour Linux"
   ]
  },
  {
   "cell_type": "markdown",
   "id": "3c857432-f4a0-4d37-b1c3-d5115974f0f5",
   "metadata": {},
   "source": [
    "# Importer fichier"
   ]
  },
  {
   "cell_type": "code",
   "execution_count": 746,
   "id": "72d00744-e863-4ed8-b83b-112156869997",
   "metadata": {
    "execution": {
     "iopub.execute_input": "2024-11-27T00:33:56.249387Z",
     "iopub.status.busy": "2024-11-27T00:33:56.249142Z",
     "iopub.status.idle": "2024-11-27T00:33:56.288891Z",
     "shell.execute_reply": "2024-11-27T00:33:56.287953Z",
     "shell.execute_reply.started": "2024-11-27T00:33:56.249368Z"
    }
   },
   "outputs": [],
   "source": [
    "path_to_tiff = os.path.join(\"..\", \"acquisition\", \"video_output_carac_150ms_1im_1um.tiff\")\n",
    "\n",
    "tiff = Image.open(path_to_tiff)"
   ]
  },
  {
   "cell_type": "markdown",
   "id": "a9542b9e-bfef-4abf-86f4-db78b05a8be8",
   "metadata": {},
   "source": [
    "# Nombre de frames pas vide"
   ]
  },
  {
   "cell_type": "code",
   "execution_count": 747,
   "id": "dcf8b520-316f-4ac0-b860-fd1d965ea732",
   "metadata": {
    "execution": {
     "iopub.execute_input": "2024-11-27T00:33:56.289986Z",
     "iopub.status.busy": "2024-11-27T00:33:56.289746Z",
     "iopub.status.idle": "2024-11-27T00:33:57.058878Z",
     "shell.execute_reply": "2024-11-27T00:33:57.057944Z",
     "shell.execute_reply.started": "2024-11-27T00:33:56.289967Z"
    }
   },
   "outputs": [
    {
     "name": "stdout",
     "output_type": "stream",
     "text": [
      "All frames processed.\n"
     ]
    },
    {
     "data": {
      "text/plain": [
       "71"
      ]
     },
     "execution_count": 747,
     "metadata": {},
     "output_type": "execute_result"
    }
   ],
   "source": [
    "with Image.open(path_to_tiff) as img:\n",
    "    frame_number = 0\n",
    "    actual_frames = 0\n",
    "    try:\n",
    "        while True:\n",
    "            frame_number += 1\n",
    "            if np.sum(np.array(img)) != 0:\n",
    "                actual_frames += 1\n",
    "                \n",
    "            img.seek(frame_number)\n",
    "    except EOFError:\n",
    "        print(\"All frames processed.\")\n",
    "\n",
    "actual_frames"
   ]
  },
  {
   "cell_type": "markdown",
   "id": "4ce4927e-f7ec-4e65-ad5d-cef9195b6cbc",
   "metadata": {},
   "source": [
    "# 1re frame\n",
    "\n",
    "**Le nombre de frames ignorés n'est pas pris en compte**"
   ]
  },
  {
   "cell_type": "code",
   "execution_count": 748,
   "id": "26577059-48c2-4f3a-8e52-a89c99dbccd3",
   "metadata": {
    "execution": {
     "iopub.execute_input": "2024-11-27T00:33:57.059925Z",
     "iopub.status.busy": "2024-11-27T00:33:57.059662Z",
     "iopub.status.idle": "2024-11-27T00:33:57.082939Z",
     "shell.execute_reply": "2024-11-27T00:33:57.082043Z",
     "shell.execute_reply.started": "2024-11-27T00:33:57.059898Z"
    }
   },
   "outputs": [
    {
     "name": "stdout",
     "output_type": "stream",
     "text": [
      "1\n"
     ]
    }
   ],
   "source": [
    "frame_index = 0\n",
    "tiff.seek(frame_index)\n",
    "original_image = np.array(tiff)\n",
    "\n",
    "while np.sum(original_image) == 0:\n",
    "    frame_index += 1\n",
    "    tiff.seek(frame_index)\n",
    "    original_image = np.array(tiff)\n",
    "    print(frame_index)"
   ]
  },
  {
   "cell_type": "markdown",
   "id": "e1d8711a-7b97-4eb1-8556-60a0ce1f5253",
   "metadata": {},
   "source": [
    "# Traitement d'image"
   ]
  },
  {
   "cell_type": "code",
   "execution_count": 749,
   "id": "3a91746d-ed20-4b11-841a-4384c3c9f610",
   "metadata": {
    "execution": {
     "iopub.execute_input": "2024-11-27T00:33:57.083712Z",
     "iopub.status.busy": "2024-11-27T00:33:57.083500Z",
     "iopub.status.idle": "2024-11-27T00:33:57.942225Z",
     "shell.execute_reply": "2024-11-27T00:33:57.941368Z",
     "shell.execute_reply.started": "2024-11-27T00:33:57.083690Z"
    }
   },
   "outputs": [],
   "source": [
    "clahe = cv2.createCLAHE(clipLimit=10.0, tileGridSize=(30, 30))\n",
    "preprocessed = clahe.apply(original_image)\n",
    "\n",
    "blurred = cv2.medianBlur(preprocessed, 115)\n",
    "preprocessed2 = cv2.subtract(preprocessed, blurred)\n",
    "\n",
    "# Apply Non-Local Means Denoising\n",
    "img = cv2.fastNlMeansDenoising(preprocessed2, None, 15, 7, 41)"
   ]
  },
  {
   "cell_type": "markdown",
   "id": "9f52f7fc-b595-4b76-8cc3-0755544c12bd",
   "metadata": {},
   "source": [
    "# Sélection du point à tracker"
   ]
  },
  {
   "cell_type": "code",
   "execution_count": 750,
   "id": "5a934439-4314-4c28-a4cd-c0d9113c98e9",
   "metadata": {
    "execution": {
     "iopub.execute_input": "2024-11-27T00:33:57.944451Z",
     "iopub.status.busy": "2024-11-27T00:33:57.944269Z",
     "iopub.status.idle": "2024-11-27T00:33:57.947894Z",
     "shell.execute_reply": "2024-11-27T00:33:57.947259Z",
     "shell.execute_reply.started": "2024-11-27T00:33:57.944433Z"
    }
   },
   "outputs": [],
   "source": [
    "def crop(img, x, y, crop_size=100):\n",
    "    x_start = int(x - crop_size // 2)\n",
    "    x_end = int(x + crop_size // 2)\n",
    "    y_start = int(y - crop_size // 2)\n",
    "    y_end = int(y + crop_size // 2)\n",
    "\n",
    "    return img[y_start:y_end, x_start:x_end]"
   ]
  },
  {
   "cell_type": "code",
   "execution_count": 751,
   "id": "60e9cbb8-923d-4281-89f9-accc9565c831",
   "metadata": {
    "execution": {
     "iopub.execute_input": "2024-11-27T00:33:57.948819Z",
     "iopub.status.busy": "2024-11-27T00:33:57.948575Z",
     "iopub.status.idle": "2024-11-27T00:34:16.244046Z",
     "shell.execute_reply": "2024-11-27T00:34:16.243397Z",
     "shell.execute_reply.started": "2024-11-27T00:33:57.948800Z"
    }
   },
   "outputs": [
    {
     "name": "stdout",
     "output_type": "stream",
     "text": [
      "Please click on the point you want to select.\n",
      "Selected point: (444.82467532467535, 567.551948051948)\n"
     ]
    }
   ],
   "source": [
    "# Display the image and let the user select a point interactively\n",
    "fig, ax = plt.subplots()\n",
    "ax.imshow(img, cmap='gray')  # Use 'gray' for better visibility of grayscale images\n",
    "plt.title(f\"Frame {frame_index}: Select a point\")\n",
    "\n",
    "# Ask for a point to be selected\n",
    "print(\"Please click on the point you want to select.\")\n",
    "x, y = plt.ginput(1)[0]  # This will get the coordinates of the clicked point\n",
    "print(f\"Selected point: ({x}, {y})\")\n",
    "plt.close()\n",
    "\n",
    "crop_sze = 100"
   ]
  },
  {
   "cell_type": "markdown",
   "id": "6a9490a9-7dce-451b-81ff-0ae267584ee3",
   "metadata": {},
   "source": [
    "# Fit gaussien sur le point sélectionné"
   ]
  },
  {
   "cell_type": "code",
   "execution_count": 752,
   "id": "5fc5b874-d129-40a2-985c-03a724b3cb95",
   "metadata": {
    "execution": {
     "iopub.execute_input": "2024-11-27T00:34:16.245037Z",
     "iopub.status.busy": "2024-11-27T00:34:16.244816Z",
     "iopub.status.idle": "2024-11-27T00:34:16.248322Z",
     "shell.execute_reply": "2024-11-27T00:34:16.247669Z",
     "shell.execute_reply.started": "2024-11-27T00:34:16.245020Z"
    }
   },
   "outputs": [],
   "source": [
    "def prepare_data(x, y, z):\n",
    "    return (x.flatten(), y.flatten()), z.flatten()"
   ]
  },
  {
   "cell_type": "code",
   "execution_count": 753,
   "id": "1fb18b6a-7295-4ea7-b0fb-84f5a41fbdbb",
   "metadata": {
    "execution": {
     "iopub.execute_input": "2024-11-27T00:34:16.249457Z",
     "iopub.status.busy": "2024-11-27T00:34:16.248979Z",
     "iopub.status.idle": "2024-11-27T00:34:16.280319Z",
     "shell.execute_reply": "2024-11-27T00:34:16.279600Z",
     "shell.execute_reply.started": "2024-11-27T00:34:16.249435Z"
    }
   },
   "outputs": [],
   "source": [
    "def gaussian_2d(xy, amplitude, x0, y0, sigma_x, sigma_y, offset):\n",
    "    x, y = xy\n",
    "    a = 1 / (2 * sigma_x**2)\n",
    "    b = 1 / (2 * sigma_y**2)\n",
    "    return offset + amplitude * np.exp(- (a * (x - x0)**2 + b * (y - y0)**2))"
   ]
  },
  {
   "cell_type": "code",
   "execution_count": 754,
   "id": "b2f948a1-d8e5-4fa8-acfe-ac569383012d",
   "metadata": {
    "execution": {
     "iopub.execute_input": "2024-11-27T00:34:16.281928Z",
     "iopub.status.busy": "2024-11-27T00:34:16.281279Z",
     "iopub.status.idle": "2024-11-27T00:34:16.286665Z",
     "shell.execute_reply": "2024-11-27T00:34:16.286066Z",
     "shell.execute_reply.started": "2024-11-27T00:34:16.281903Z"
    }
   },
   "outputs": [],
   "source": [
    "def localisateur_gaussien(intensity_grid, maxi):\n",
    "    x = np.arange(intensity_grid.shape[0])\n",
    "    y = np.arange(intensity_grid.shape[1])\n",
    "    X, Y = np.meshgrid(x, y)\n",
    "\n",
    "    # Préparer les données pour le fit\n",
    "    (xdata, ydata), zdata = prepare_data(X, Y, intensity_grid)\n",
    "    model = lmfit.Model(gaussian_2d)\n",
    "    max_idx = np.unravel_index(np.argmax(intensity_grid), intensity_grid.shape)\n",
    "    initial_x0 = x[max_idx[0]]\n",
    "    initial_y0 = y[max_idx[1]]\n",
    "\n",
    "    # Définir les paramètres du modèle\n",
    "    params = model.make_params(\n",
    "        amplitude=np.max(intensity_grid),\n",
    "        x0=initial_x0,\n",
    "        y0=initial_y0,\n",
    "        sigma_x=1,\n",
    "        sigma_y=1,\n",
    "        offset=2\n",
    "    )\n",
    "\n",
    "    # Effectuer l'ajustement\n",
    "    result = model.fit(zdata, params, xy=(xdata, ydata))\n",
    "\n",
    "    x_position = result.params['x0'].value + maxi[0] - 24.5\n",
    "    y_position = result.params['y0'].value + maxi[1] - 24.5\n",
    "\n",
    "    return [x_position, y_position], result.params['sigma_x'].value, result.params['sigma_y'].value"
   ]
  },
  {
   "cell_type": "markdown",
   "id": "647422c5-d9bb-4e71-9481-76349ea02eca",
   "metadata": {},
   "source": [
    "# Process d'image (enlever le bruit)\n",
    "\n",
    "**semble faire du trouble**"
   ]
  },
  {
   "cell_type": "code",
   "execution_count": 755,
   "id": "c3df48fe-ec70-413c-8172-84f9754a0bcf",
   "metadata": {
    "execution": {
     "iopub.execute_input": "2024-11-27T00:34:16.287655Z",
     "iopub.status.busy": "2024-11-27T00:34:16.287395Z",
     "iopub.status.idle": "2024-11-27T00:34:16.291801Z",
     "shell.execute_reply": "2024-11-27T00:34:16.291266Z",
     "shell.execute_reply.started": "2024-11-27T00:34:16.287612Z"
    }
   },
   "outputs": [],
   "source": [
    "def denoise(image):\n",
    "    clahe = cv2.createCLAHE(clipLimit=10.0, tileGridSize=(30, 30))\n",
    "    preprocessed = clahe.apply(image)\n",
    "    \n",
    "    blurred = cv2.medianBlur(preprocessed, 115)\n",
    "    preprocessed2 = cv2.subtract(preprocessed, blurred)\n",
    "    \n",
    "    return cv2.fastNlMeansDenoising(preprocessed2, None, 15, 7, 41)"
   ]
  },
  {
   "cell_type": "markdown",
   "id": "eb65a3ff-f48b-4c28-8c66-4326caaae144",
   "metadata": {},
   "source": [
    "# Passe au prochain frame"
   ]
  },
  {
   "cell_type": "code",
   "execution_count": 756,
   "id": "ce5cd50e-eb81-4b51-a600-e3d315c227d7",
   "metadata": {
    "execution": {
     "iopub.execute_input": "2024-11-27T00:34:16.292788Z",
     "iopub.status.busy": "2024-11-27T00:34:16.292525Z",
     "iopub.status.idle": "2024-11-27T00:34:16.296432Z",
     "shell.execute_reply": "2024-11-27T00:34:16.295813Z",
     "shell.execute_reply.started": "2024-11-27T00:34:16.292769Z"
    }
   },
   "outputs": [],
   "source": [
    "def next_frame(frame_index):\n",
    "    frame_index += 1\n",
    "    tiff.seek(frame_index)\n",
    "    original_image = np.array(tiff)\n",
    "    \n",
    "    while np.sum(original_image) == 0:\n",
    "        frame_index += 1\n",
    "        tiff.seek(frame_index)\n",
    "        original_image = np.array(tiff)\n",
    "\n",
    "    return [frame_index, original_image]"
   ]
  },
  {
   "cell_type": "markdown",
   "id": "61f2661b-5185-493a-bd25-97d1c42d712c",
   "metadata": {},
   "source": [
    "# Faire le crop et fit"
   ]
  },
  {
   "cell_type": "code",
   "execution_count": 757,
   "id": "b695a082-5a85-499e-9183-cfd354b4dc5d",
   "metadata": {
    "execution": {
     "iopub.execute_input": "2024-11-27T00:34:16.297421Z",
     "iopub.status.busy": "2024-11-27T00:34:16.297176Z",
     "iopub.status.idle": "2024-11-27T00:34:16.301468Z",
     "shell.execute_reply": "2024-11-27T00:34:16.300888Z",
     "shell.execute_reply.started": "2024-11-27T00:34:16.297403Z"
    }
   },
   "outputs": [],
   "source": [
    "def particle_tracker(image, x, y, frame_index):\n",
    "    image = denoise(image)\n",
    "    \n",
    "    cropped_img = crop(image, x, y, crop_sze)\n",
    "\n",
    "    result_fit = localisateur_gaussien(cropped_img, [x, y])\n",
    "\n",
    "    x_new, y_new = result_fit[0][0], result_fit[0][1]\n",
    "\n",
    "    return [result_fit, cropped_img, (x_new, y_new), (result_fit[1], result_fit[2])]"
   ]
  },
  {
   "cell_type": "markdown",
   "id": "8002acc8-bac7-4c69-846a-381ee31f08ff",
   "metadata": {},
   "source": [
    "# Main loop"
   ]
  },
  {
   "cell_type": "code",
   "execution_count": 758,
   "id": "e7a5dba4-849a-4171-8fbb-6d05453ed795",
   "metadata": {
    "execution": {
     "iopub.execute_input": "2024-11-27T00:34:16.302483Z",
     "iopub.status.busy": "2024-11-27T00:34:16.302259Z",
     "iopub.status.idle": "2024-11-27T00:35:56.804477Z",
     "shell.execute_reply": "2024-11-27T00:35:56.803536Z",
     "shell.execute_reply.started": "2024-11-27T00:34:16.302464Z"
    }
   },
   "outputs": [],
   "source": [
    "position_list = []\n",
    "sigma_list = []\n",
    "crop_frames = []\n",
    "big_frames = []\n",
    "\n",
    "for _ in range(actual_frames - 1):\n",
    "    data = particle_tracker(img, x, y, frame_index)\n",
    "    position_list.append(data[2])\n",
    "    sigma_list.append(data[3])\n",
    "    frame_index, img = next_frame(frame_index)\n",
    "    big_frames.append(img)\n",
    "    crop_frames.append(data[1])"
   ]
  },
  {
   "cell_type": "markdown",
   "id": "c355c5f0-6c28-4f45-abbe-9d17f257161b",
   "metadata": {},
   "source": [
    "# Résultats"
   ]
  },
  {
   "cell_type": "code",
   "execution_count": 759,
   "id": "2a6241a8-7a37-4b69-a66c-0a24bed76fb8",
   "metadata": {
    "execution": {
     "iopub.execute_input": "2024-11-27T00:35:56.805695Z",
     "iopub.status.busy": "2024-11-27T00:35:56.805472Z",
     "iopub.status.idle": "2024-11-27T00:35:56.811852Z",
     "shell.execute_reply": "2024-11-27T00:35:56.810929Z",
     "shell.execute_reply.started": "2024-11-27T00:35:56.805678Z"
    }
   },
   "outputs": [
    {
     "data": {
      "text/plain": [
       "[(469.0140715166091, 595.0868553643782),\n",
       " (480.82235671223543, 594.5845544826493),\n",
       " (475.2956891049118, 608.2464137446578),\n",
       " (521.1620747184403, 555.3073435348357),\n",
       " (495.8247153943396, 598.253450203672),\n",
       " (460.0722652340559, 557.1142662587856),\n",
       " (489.83535775283167, 599.6192369933627),\n",
       " (506.35314497631794, 589.4130141545298),\n",
       " (508.0984642197227, 595.0995937905839),\n",
       " (504.8247036132108, 593.1375920610816),\n",
       " (-9355.56051589632, 568.8328120150023),\n",
       " (16623.60327839273, 575.1043481657723),\n",
       " (510.6821191370706, 499.6774508098857),\n",
       " (-379550.2063976411, 575.3142529921339),\n",
       " (-10789.346675034287, 572.002082451998),\n",
       " (507.8959294881398, 556.4693473142535),\n",
       " (-18714.47190801821, 575.5697584676012),\n",
       " (-10046.963832762394, 570.2450627006979),\n",
       " (-3526.334235104622, 572.75517800261),\n",
       " (-19778.073740331783, 564.4881543140384),\n",
       " (-331.910753758655, 571.5812135049955),\n",
       " (505.62844719620057, 583.5574863038631),\n",
       " (504.25057210221473, 607.85209372356),\n",
       " (215.61263442910982, 571.1263722472389),\n",
       " (-406.3200010873336, 567.4662545186845),\n",
       " (504.0737919358853, 528.7190502642226),\n",
       " (502.74402606380806, 612.000393807085),\n",
       " (-310794.4466171534, 576.1197691456802),\n",
       " (-189657.5625925944, 562.6471897473389),\n",
       " (412.0859767542469, 575.616689409015),\n",
       " (-280808.18119362456, 577.181484339216),\n",
       " (515.3801242047257, 602.2739597007646),\n",
       " (507.7740848480089, 608.5537064910138),\n",
       " (507.93555243781907, 611.637758631706),\n",
       " (508.21576089712335, 610.6232206251168),\n",
       " (715.8438273498223, 562.6317740402678),\n",
       " (505.373467554012, 607.7112857708527),\n",
       " (505.359526244107, 612.0581119345758),\n",
       " (497.87939464705175, 604.7241176497438),\n",
       " (463.43634882507604, 591.5584474602991),\n",
       " (502.4091629671948, 617.5790177039166),\n",
       " (518.8105300270091, 581.5533113553757),\n",
       " (191978.6482835763, 569.2128252762536),\n",
       " (506.837588262665, 577.867353343481),\n",
       " (520.5739444865917, 579.8578472752594),\n",
       " (308.76602406662954, 568.1621962102273),\n",
       " (504.64917075402616, 597.4118082004077),\n",
       " (224.22311870286404, 578.853981631943),\n",
       " (499.73119296764276, 576.692514209208),\n",
       " (377467.76688690396, 540.6113410566512),\n",
       " (500.31231697526846, 572.3585989781254),\n",
       " (500.979682656377, 567.0833452850333),\n",
       " (491.7755242889523, 567.9505290775047),\n",
       " (492.0836369466613, 580.0572612823199),\n",
       " (506.8413770251152, 568.8133125818816),\n",
       " (361873.64166908315, 565.0348268074889),\n",
       " (502.6227241764925, 576.3027462423422),\n",
       " (473.00468115327413, 572.0153461674206),\n",
       " (492.0750274552415, 574.998805664098),\n",
       " (177232.99169867436, 552.9816466107261),\n",
       " (1190.718292525606, 567.79315308869),\n",
       " (486.93730465023157, 569.3687575190081),\n",
       " (508.0829199290546, 564.9442300123565),\n",
       " (4133.722253864248, 562.5196944064912),\n",
       " (315447.3498467977, 549.7654374696575),\n",
       " (529.9873904402206, 566.7367570887401),\n",
       " (148.6873152632499, 568.0704726184063),\n",
       " (477.5755034560784, -189328.75784420688),\n",
       " (512.7118415729649, 544.9081036432834),\n",
       " (484.4664532434813, 559.8425344074134)]"
      ]
     },
     "execution_count": 759,
     "metadata": {},
     "output_type": "execute_result"
    }
   ],
   "source": [
    "position_list"
   ]
  },
  {
   "cell_type": "code",
   "execution_count": 760,
   "id": "4fb3cff6-dfd3-4c03-96fa-219eb0185e70",
   "metadata": {
    "execution": {
     "iopub.execute_input": "2024-11-27T00:35:56.812822Z",
     "iopub.status.busy": "2024-11-27T00:35:56.812598Z",
     "iopub.status.idle": "2024-11-27T00:35:56.821085Z",
     "shell.execute_reply": "2024-11-27T00:35:56.819985Z",
     "shell.execute_reply.started": "2024-11-27T00:35:56.812806Z"
    }
   },
   "outputs": [
    {
     "data": {
      "text/plain": [
       "[(3.221087668458898, 4.364936315463081),\n",
       " (-0.37551779966706206, 0.005035136394737197),\n",
       " (2.974432646380411, 4.602829806653173),\n",
       " (260.18055447169803, -24.577981286351093),\n",
       " (-0.5356210502106258, 0.10910452751141551),\n",
       " (72.92969469945378, 25.487275106475067),\n",
       " (0.30888460432573495, 1.203496940422119),\n",
       " (9.658258770523203, 45.35782351795441),\n",
       " (-10.16878509468356, -73.30705452097482),\n",
       " (-0.3266267237278279, -0.15628428454663676),\n",
       " (2535.8387880090527, 50.631146812525294),\n",
       " (-13835.55803514551, 40.964690649775925),\n",
       " (9.841359844244812, -86.79527534684364),\n",
       " (-1190785.625138332, -4041.337240414852),\n",
       " (6204.0337816541805, 50.70762778848079),\n",
       " (9.790400336430206, 80.38134835875792),\n",
       " (8678.843772664888, 81.50081224783915),\n",
       " (2551.7998491784874, 38.707522601120296),\n",
       " (2342.300184567241, 55.70123593126429),\n",
       " (10186.247212591812, 101.4428520590631),\n",
       " (570.2264546909885, 32.77145799139029),\n",
       " (-11.884883260092316, -42.432471162441686),\n",
       " (-8.43666256986014, -9.758294830815837),\n",
       " (727.6497765994145, 33.60123509747124),\n",
       " (-614.4026850808318, -35.018481484321065),\n",
       " (-11.126668033696033, -128.6131201206644),\n",
       " (9.383541922276882, 15.96709336571369),\n",
       " (-1056686.2960483045, -3591.279358036267),\n",
       " (-854973.2043094457, -3166.295579742367),\n",
       " (-107.6129190047357, -28.03971867717688),\n",
       " (1108011.1968863416, 2844.662006024036),\n",
       " (-49.096391076514415, -8.717071888588954),\n",
       " (-11.427243677855856, -16.369324403514195),\n",
       " (-10.185482517026484, -17.8527893106317),\n",
       " (9.054238578938506, 16.63049765117827),\n",
       " (1274.3590871358524, 38.956765893695604),\n",
       " (-11.151163506360279, -18.55368357570696),\n",
       " (-10.440973761819459, -18.11691923419112),\n",
       " (18.67566862513129, 11.08800856573059),\n",
       " (-26.377405031084237, -0.2859801309056848),\n",
       " (10.071342169815797, 17.859451034205634),\n",
       " (0.6675864525471144, -0.7085373111593202),\n",
       " (-1087891.8907058535, 5605.812754489681),\n",
       " (12.158393368981073, 5.891557850105451),\n",
       " (6.652430794967853, 4.96240437859046),\n",
       " (329.2673645977658, 25.589251565984217),\n",
       " (13.134237176395809, -14.448976317394372),\n",
       " (-299.6059150886294, 25.842817164379646),\n",
       " (0.3912610938310225, 0.5142327112671284),\n",
       " (623714.1366584416, 4328.78838289167),\n",
       " (-12.85491194170522, -6.125576654169306),\n",
       " (13.119172902459246, 7.450314005871077),\n",
       " (-7.440611180829287, 8.346926821165999),\n",
       " (-10.208849097831559, -3.2315395403542553),\n",
       " (0.33604554267132924, 1.062235537902004),\n",
       " (911998.6435412278, 3864.584378902411),\n",
       " (-0.030651716358966352, -1.7192034419738675),\n",
       " (2.8533326484400834, -0.09399078595447326),\n",
       " (-17.053053035660724, -7.725816725684079),\n",
       " (668552.7633847874, 8499.431957418958),\n",
       " (-34528.59597835434, 4217.658087223953),\n",
       " (10547.620295790644, 8767.415202842763),\n",
       " (14273.665567445722, 10658.34511873648),\n",
       " (1408.2036652197758, 32.770348776601125),\n",
       " (739581.4897189967, 4259.635180261496),\n",
       " (197.91231080820302, 36.02364864378518),\n",
       " (210.08678368232268, 20.281131567598344),\n",
       " (5398.0192817657535, 497990.757037081),\n",
       " (9.466291689447832, 6.9772402899317125),\n",
       " (-5.683870814708283, 0.12496576222935246)]"
      ]
     },
     "execution_count": 760,
     "metadata": {},
     "output_type": "execute_result"
    }
   ],
   "source": [
    "sigma_list"
   ]
  },
  {
   "cell_type": "code",
   "execution_count": 761,
   "id": "625b1770-9368-4a91-baa2-a62960106b77",
   "metadata": {
    "execution": {
     "iopub.execute_input": "2024-11-27T00:35:56.821952Z",
     "iopub.status.busy": "2024-11-27T00:35:56.821739Z",
     "iopub.status.idle": "2024-11-27T00:35:56.893091Z",
     "shell.execute_reply": "2024-11-27T00:35:56.891915Z",
     "shell.execute_reply.started": "2024-11-27T00:35:56.821935Z"
    }
   },
   "outputs": [],
   "source": [
    "x_plt, y_plt = zip(*position_list)\n",
    "# Create the plot\n",
    "plt.figure(figsize=(10, 8))  # Optional: Adjust the figure size\n",
    "plt.plot(x_plt, y_plt, marker='o', linestyle='-', color='b', label='Connected Points')\n",
    "\n",
    "# Set grid limits to match the 1440x1080 grid\n",
    "plt.xlim(0, 1440)\n",
    "plt.ylim(0, 1080)\n",
    "\n",
    "# Add labels and title\n",
    "plt.xlabel('X-axis')\n",
    "plt.ylabel('Y-axis')\n",
    "plt.title('2D Connected Points Plot')\n",
    "plt.legend()\n",
    "\n",
    "# Optional: Add grid lines\n",
    "plt.grid(True)"
   ]
  },
  {
   "cell_type": "markdown",
   "id": "5fae7658-ee40-44d3-ace6-763079316aca",
   "metadata": {},
   "source": [
    "## anim toutes les particules"
   ]
  },
  {
   "cell_type": "code",
   "execution_count": 762,
   "id": "3f852688-0624-4f98-bc43-437e31b430a4",
   "metadata": {
    "execution": {
     "iopub.execute_input": "2024-11-27T00:35:56.894366Z",
     "iopub.status.busy": "2024-11-27T00:35:56.894056Z",
     "iopub.status.idle": "2024-11-27T00:35:56.898702Z",
     "shell.execute_reply": "2024-11-27T00:35:56.897463Z",
     "shell.execute_reply.started": "2024-11-27T00:35:56.894346Z"
    }
   },
   "outputs": [],
   "source": [
    "# fig, ax = plt.subplots()\n",
    "# img = ax.imshow(big_frames[0], cmap='gray', animated=True)\n",
    "\n",
    "\n",
    "# # Update function\n",
    "# def update(frame):\n",
    "#     img.set_array(frame)\n",
    "#     return img,\n",
    "    \n",
    "# ani = animation.FuncAnimation(fig, update, frames=big_frames, interval=50, blit=True)\n",
    "# plt.show()"
   ]
  },
  {
   "cell_type": "markdown",
   "id": "111a50d8-6fce-40cc-bf48-775bfd002c3d",
   "metadata": {},
   "source": [
    "## anim crop"
   ]
  },
  {
   "cell_type": "code",
   "execution_count": 763,
   "id": "0d6554b7-0c86-4ee5-8a32-4bd994f881f4",
   "metadata": {
    "execution": {
     "iopub.execute_input": "2024-11-27T00:35:56.899778Z",
     "iopub.status.busy": "2024-11-27T00:35:56.899533Z",
     "iopub.status.idle": "2024-11-27T00:35:56.955616Z",
     "shell.execute_reply": "2024-11-27T00:35:56.954725Z",
     "shell.execute_reply.started": "2024-11-27T00:35:56.899759Z"
    }
   },
   "outputs": [],
   "source": [
    "fig, ax = plt.subplots()\n",
    "img = ax.imshow(crop_frames[0], cmap='gray', animated=True)\n",
    "\n",
    "\n",
    "def update(frame):\n",
    "    img.set_array(frame)\n",
    "    return img,\n",
    "    \n",
    "ani = animation.FuncAnimation(fig, update, frames=crop_frames, interval=50, blit=True)\n",
    "plt.show()"
   ]
  },
  {
   "cell_type": "code",
   "execution_count": null,
   "id": "a57b3c57-a5c5-4f11-b5ce-c32e975a7d83",
   "metadata": {},
   "outputs": [],
   "source": []
  }
 ],
 "metadata": {
  "kernelspec": {
   "display_name": "Python 3",
   "language": "python",
   "name": "python3"
  },
  "language_info": {
   "codemirror_mode": {
    "name": "ipython",
    "version": 3
   },
   "file_extension": ".py",
   "mimetype": "text/x-python",
   "name": "python",
   "nbconvert_exporter": "python",
   "pygments_lexer": "ipython3",
   "version": "3.12.7"
  }
 },
 "nbformat": 4,
 "nbformat_minor": 5
}
