{
 "cells": [
  {
   "cell_type": "code",
   "execution_count": 2,
   "id": "af0867ad-54aa-44b6-92b1-3161b1d5468d",
   "metadata": {
    "execution": {
     "iopub.execute_input": "2024-11-26T20:04:31.672423Z",
     "iopub.status.busy": "2024-11-26T20:04:31.671085Z",
     "iopub.status.idle": "2024-11-26T20:04:41.537898Z",
     "shell.execute_reply": "2024-11-26T20:04:41.537118Z",
     "shell.execute_reply.started": "2024-11-26T20:04:31.672320Z"
    }
   },
   "outputs": [
    {
     "name": "stdout",
     "output_type": "stream",
     "text": [
      "Please click on the point you want to select.\n",
      "Selected point: (868.897655085349, 656.50157133456)\n"
     ]
    }
   ],
   "source": [
    "import matplotlib.pyplot as plt\n",
    "import numpy as np\n",
    "import os\n",
    "from PIL import Image\n",
    "%matplotlib tk\n",
    "\n",
    "# Path to the TIFF file\n",
    "path_to_tiff = os.path.join(\"..\", \"acquisition\", \"video_output_carac_150ms_1im_1um.tiff\")\n",
    "\n",
    "# Open the TIFF file and load the specific frame\n",
    "tiff = Image.open(path_to_tiff)\n",
    "frame_index = 1  # Select the frame you want to use\n",
    "tiff.seek(frame_index)\n",
    "img = np.array(tiff)\n",
    "\n",
    "# Display the image and let the user select a point interactively\n",
    "fig, ax = plt.subplots()\n",
    "ax.imshow(img, cmap='gray')  # Use 'gray' for better visibility of grayscale images\n",
    "plt.title(f\"Frame {frame_index}: Select a point\")\n",
    "\n",
    "# Ask for a point to be selected\n",
    "print(\"Please click on the point you want to select.\")\n",
    "x, y = plt.ginput(1)[0]  # This will get the coordinates of the clicked point\n",
    "print(f\"Selected point: ({x}, {y})\")\n",
    "\n",
    "# Define the cropping area around the selected point\n",
    "crop_size = 100  # Adjust this to control the size of the crop\n",
    "x_start = int(x - crop_size // 2)\n",
    "x_end = int(x + crop_size // 2)\n",
    "y_start = int(y - crop_size // 2)\n",
    "y_end = int(y + crop_size // 2)\n",
    "\n",
    "# Crop the image\n",
    "cropped_img = img[y_start:y_end, x_start:x_end]\n",
    "\n",
    "# Display the cropped image\n",
    "plt.imshow(cropped_img, cmap='gray')\n",
    "plt.show()\n"
   ]
  },
  {
   "cell_type": "code",
   "execution_count": null,
   "id": "6dc1cd80-0e19-4af8-af56-47299212b2c3",
   "metadata": {},
   "outputs": [],
   "source": []
  },
  {
   "cell_type": "code",
   "execution_count": null,
   "id": "0339631f-f58a-4532-8f36-432ae2416df3",
   "metadata": {},
   "outputs": [],
   "source": []
  }
 ],
 "metadata": {
  "kernelspec": {
   "display_name": "Python 3.12",
   "language": "python",
   "name": "python3.12"
  },
  "language_info": {
   "codemirror_mode": {
    "name": "ipython",
    "version": 3
   },
   "file_extension": ".py",
   "mimetype": "text/x-python",
   "name": "python",
   "nbconvert_exporter": "python",
   "pygments_lexer": "ipython3",
   "version": "3.12.7"
  }
 },
 "nbformat": 4,
 "nbformat_minor": 5
}
