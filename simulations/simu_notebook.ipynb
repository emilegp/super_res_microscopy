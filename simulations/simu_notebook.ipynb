{
 "cells": [
  {
   "cell_type": "code",
   "execution_count": 1,
   "id": "485ca813-223e-413e-be37-80a84a5d7265",
   "metadata": {
    "execution": {
     "iopub.execute_input": "2024-11-19T16:36:28.146594Z",
     "iopub.status.busy": "2024-11-19T16:36:28.145571Z",
     "iopub.status.idle": "2024-11-19T16:36:29.227376Z",
     "shell.execute_reply": "2024-11-19T16:36:29.226475Z",
     "shell.execute_reply.started": "2024-11-19T16:36:28.146548Z"
    }
   },
   "outputs": [],
   "source": [
    "import numpy as np\n",
    "import matplotlib.pyplot as plt\n",
    "from numpy import pi\n",
    "from scipy.special import j1  # Bessel function\n",
    "import lmfit"
   ]
  },
  {
   "cell_type": "markdown",
   "id": "d57e409d-f32d-49f1-8f63-66af0491a155",
   "metadata": {},
   "source": [
    "# Données connues"
   ]
  },
  {
   "cell_type": "code",
   "execution_count": 2,
   "id": "dd65d4a5-d1bb-4b3d-becc-6298cfd96ee9",
   "metadata": {
    "execution": {
     "iopub.execute_input": "2024-11-19T16:36:29.228307Z",
     "iopub.status.busy": "2024-11-19T16:36:29.228025Z",
     "iopub.status.idle": "2024-11-19T16:36:29.232752Z",
     "shell.execute_reply": "2024-11-19T16:36:29.232120Z",
     "shell.execute_reply.started": "2024-11-19T16:36:29.228288Z"
    }
   },
   "outputs": [],
   "source": [
    "f2 = 150 # en mm, lentille extérieure\n",
    "na = 0.4 # aperture\n",
    "\n",
    "lamb = 405 # en nm, laser bleu\n",
    "M_theo = 20\n",
    "pixel_size = 3.45 # en um, x et y\n",
    "cam_width = 1440\n",
    "cam_height = 1080\n",
    "\n",
    "poisson_lamb = 400"
   ]
  },
  {
   "cell_type": "markdown",
   "id": "a871e765-ffb0-46a6-99a4-819d7ff71450",
   "metadata": {},
   "source": [
    "# Magnification réelle"
   ]
  },
  {
   "cell_type": "code",
   "execution_count": 3,
   "id": "b3aac74a-09b6-44c7-ad37-323b83f7b753",
   "metadata": {
    "execution": {
     "iopub.execute_input": "2024-11-19T16:36:29.233627Z",
     "iopub.status.busy": "2024-11-19T16:36:29.233439Z",
     "iopub.status.idle": "2024-11-19T16:36:29.243774Z",
     "shell.execute_reply": "2024-11-19T16:36:29.242933Z",
     "shell.execute_reply.started": "2024-11-19T16:36:29.233610Z"
    }
   },
   "outputs": [
    {
     "data": {
      "text/plain": [
       "18.75"
      ]
     },
     "execution_count": 3,
     "metadata": {},
     "output_type": "execute_result"
    }
   ],
   "source": [
    "M = (150*M_theo)/160\n",
    "M"
   ]
  },
  {
   "cell_type": "markdown",
   "id": "096b3c42-2ccf-4723-a399-1209982cc0c6",
   "metadata": {},
   "source": [
    "# Taille effective des pixels dans le plan de l'objet"
   ]
  },
  {
   "cell_type": "code",
   "execution_count": 4,
   "id": "d3e87cec-f116-43f7-a549-776936f104b8",
   "metadata": {
    "execution": {
     "iopub.execute_input": "2024-11-19T16:36:29.244529Z",
     "iopub.status.busy": "2024-11-19T16:36:29.244349Z",
     "iopub.status.idle": "2024-11-19T16:36:29.250823Z",
     "shell.execute_reply": "2024-11-19T16:36:29.249669Z",
     "shell.execute_reply.started": "2024-11-19T16:36:29.244513Z"
    }
   },
   "outputs": [
    {
     "data": {
      "text/plain": [
       "0.184"
      ]
     },
     "execution_count": 4,
     "metadata": {},
     "output_type": "execute_result"
    }
   ],
   "source": [
    "pxl = pixel_size/M # en um\n",
    "pxl"
   ]
  },
  {
   "cell_type": "markdown",
   "id": "29a12e5f-f2a7-4093-9bae-e75e6304f9fc",
   "metadata": {},
   "source": [
    "# Grid"
   ]
  },
  {
   "cell_type": "code",
   "execution_count": 5,
   "id": "2277eea4-8f97-4310-b5c4-63957d7caa95",
   "metadata": {
    "execution": {
     "iopub.execute_input": "2024-11-19T16:36:29.251906Z",
     "iopub.status.busy": "2024-11-19T16:36:29.251738Z",
     "iopub.status.idle": "2024-11-19T16:36:29.262653Z",
     "shell.execute_reply": "2024-11-19T16:36:29.262045Z",
     "shell.execute_reply.started": "2024-11-19T16:36:29.251890Z"
    }
   },
   "outputs": [],
   "source": [
    "x = np.arange(cam_width)\n",
    "y = np.arange(cam_height)\n",
    "X, Y = np.meshgrid(x, y)"
   ]
  },
  {
   "cell_type": "code",
   "execution_count": 6,
   "id": "9f9e5655-efcc-4f0e-8d36-07c76f301332",
   "metadata": {
    "execution": {
     "iopub.execute_input": "2024-11-19T16:36:29.264413Z",
     "iopub.status.busy": "2024-11-19T16:36:29.264214Z",
     "iopub.status.idle": "2024-11-19T16:36:29.270773Z",
     "shell.execute_reply": "2024-11-19T16:36:29.270201Z",
     "shell.execute_reply.started": "2024-11-19T16:36:29.264397Z"
    }
   },
   "outputs": [],
   "source": [
    "intensity_grid = np.zeros_like(X)"
   ]
  },
  {
   "cell_type": "markdown",
   "id": "616041c2-a3a0-4cd0-b819-7bb87ef46452",
   "metadata": {},
   "source": [
    "# PSF"
   ]
  },
  {
   "cell_type": "code",
   "execution_count": 7,
   "id": "cd25acfa-6624-4e0d-9237-743303276ea9",
   "metadata": {
    "execution": {
     "iopub.execute_input": "2024-11-19T16:36:29.271651Z",
     "iopub.status.busy": "2024-11-19T16:36:29.271472Z",
     "iopub.status.idle": "2024-11-19T16:36:29.275700Z",
     "shell.execute_reply": "2024-11-19T16:36:29.275080Z",
     "shell.execute_reply.started": "2024-11-19T16:36:29.271633Z"
    }
   },
   "outputs": [],
   "source": [
    "def psf(xx, yy, particle_pos, na, lamb, effective_pixel_size):\n",
    "    \n",
    "    # s'assurer que tout est en um\n",
    "    px, py = particle_pos\n",
    "    x_um = (xx - px) * effective_pixel_size\n",
    "    y_um = (yy - py) * effective_pixel_size\n",
    "    r = np.sqrt(x_um**2 + y_um**2)  # Distance en um\n",
    "\n",
    "    # Wave vector\n",
    "    k = 2 * np.pi * na / (lamb * 1e-3)  # Wavelength en um\n",
    "\n",
    "    # Airy disk\n",
    "    psf = np.zeros_like(r)\n",
    "    nonzero_indices = r > 0\n",
    "    psf[nonzero_indices] = ((2 * j1(k * r[nonzero_indices]) / (k * r[nonzero_indices])) ** 2)\n",
    "    psf[r == 0] = 1  # traitement de la singularite\n",
    "\n",
    "    return psf"
   ]
  },
  {
   "cell_type": "markdown",
   "id": "fd61ee9c-a058-46d4-afd5-f93e63b92e5d",
   "metadata": {},
   "source": [
    "# Emission de photons"
   ]
  },
  {
   "cell_type": "code",
   "execution_count": 8,
   "id": "fd253549-c194-41c1-b213-2956c8d97c68",
   "metadata": {
    "execution": {
     "iopub.execute_input": "2024-11-19T16:36:29.276610Z",
     "iopub.status.busy": "2024-11-19T16:36:29.276423Z",
     "iopub.status.idle": "2024-11-19T16:36:29.417270Z",
     "shell.execute_reply": "2024-11-19T16:36:29.416236Z",
     "shell.execute_reply.started": "2024-11-19T16:36:29.276594Z"
    }
   },
   "outputs": [],
   "source": [
    "particle_loc = (720, 540) # localisation en pixels\n",
    "psf_values = psf(X, Y, particle_loc, na, lamb, pxl)\n",
    "\n",
    "# somme des probas à 1\n",
    "psf_values /= psf_values.sum()\n",
    "psf_flat = psf_values.flatten()"
   ]
  },
  {
   "cell_type": "code",
   "execution_count": 9,
   "id": "38c38b4e-4e73-494c-8a64-5e2514ce9f60",
   "metadata": {
    "execution": {
     "iopub.execute_input": "2024-11-19T16:36:29.418621Z",
     "iopub.status.busy": "2024-11-19T16:36:29.418326Z",
     "iopub.status.idle": "2024-11-19T16:36:36.977992Z",
     "shell.execute_reply": "2024-11-19T16:36:36.977110Z",
     "shell.execute_reply.started": "2024-11-19T16:36:29.418596Z"
    }
   },
   "outputs": [],
   "source": [
    "# Simulate photon count based on Poisson distribution\n",
    "num_simulations = np.random.poisson(poisson_lamb)\n",
    "for _ in range(num_simulations):\n",
    "    index = np.random.choice(len(psf_flat), p=psf_flat)\n",
    "    \n",
    "    random_x = X.flatten()[index]\n",
    "    random_y = Y.flatten()[index]\n",
    "    \n",
    "    # Find the nearest grid indices\n",
    "    grid_x_idx = np.argmin(np.abs(x - random_x))\n",
    "    grid_y_idx = np.argmin(np.abs(y - random_y))\n",
    "    \n",
    "    # Count photon emission\n",
    "    intensity_grid[grid_y_idx, grid_x_idx] += 1"
   ]
  },
  {
   "cell_type": "code",
   "execution_count": 10,
   "id": "0e7c95f7-d0bd-4861-80bd-7bd94797c410",
   "metadata": {
    "execution": {
     "iopub.execute_input": "2024-11-19T16:36:36.978995Z",
     "iopub.status.busy": "2024-11-19T16:36:36.978822Z",
     "iopub.status.idle": "2024-11-19T16:36:37.325404Z",
     "shell.execute_reply": "2024-11-19T16:36:37.324707Z",
     "shell.execute_reply.started": "2024-11-19T16:36:36.978974Z"
    }
   },
   "outputs": [
    {
     "data": {
      "image/png": "[encoded data removed]",
      "text/plain": [
       "<Figure size 1200x400 with 2 Axes>"
      ]
     },
     "metadata": {},
     "output_type": "display_data"
    }
   ],
   "source": [
    "plt.figure(figsize=(12,4))\n",
    "\n",
    "# Original intensity grid with a cross at the mean of the Gaussian (from the fit)\n",
    "plt.subplot(1, 2, 1)\n",
    "plt.imshow(intensity_grid, extent=[x.min(), x.max(), y.min(), y.max()], origin='lower', cmap='gray')\n",
    "plt.title('Original Intensity Grid')\n",
    "plt.colorbar()\n",
    "plt.tight_layout()"
   ]
  },
  {
   "cell_type": "code",
   "execution_count": 12,
   "id": "7496bab5-5aab-4ca6-b085-83d778016d1a",
   "metadata": {
    "execution": {
     "iopub.execute_input": "2024-11-19T16:37:47.629057Z",
     "iopub.status.busy": "2024-11-19T16:37:47.628845Z",
     "iopub.status.idle": "2024-11-19T16:37:47.858311Z",
     "shell.execute_reply": "2024-11-19T16:37:47.857438Z",
     "shell.execute_reply.started": "2024-11-19T16:37:47.629039Z"
    }
   },
   "outputs": [
    {
     "data": {
      "image/png": "[encoded data removed]",
      "text/plain": [
       "<Figure size 1200x400 with 2 Axes>"
      ]
     },
     "metadata": {},
     "output_type": "display_data"
    }
   ],
   "source": [
    "plt.figure(figsize=(12,4))\n",
    "\n",
    "# Original intensity grid with a cross at the mean of the Gaussian (from the fit)\n",
    "plt.subplot(1, 2, 1)\n",
    "plt.imshow(intensity_grid[530:550, 710:730], origin='lower', cmap='gray')\n",
    "plt.title('Original Intensity Grid')\n",
    "plt.colorbar()\n",
    "plt.tight_layout()"
   ]
  },
  {
   "cell_type": "markdown",
   "id": "2596c81c-1562-412f-aa8c-bcceaa03f755",
   "metadata": {},
   "source": [
    "# Fit de Gaussienne"
   ]
  }
 ],
 "metadata": {
  "kernelspec": {
   "display_name": "Python 3 (ipykernel)",
   "language": "python",
   "name": "python3"
  },
  "language_info": {
   "codemirror_mode": {
    "name": "ipython",
    "version": 3
   },
   "file_extension": ".py",
   "mimetype": "text/x-python",
   "name": "python",
   "nbconvert_exporter": "python",
   "pygments_lexer": "ipython3",
   "version": "3.12.7"
  }
 },
 "nbformat": 4,
 "nbformat_minor": 5
}
