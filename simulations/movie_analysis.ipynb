{
 "cells": [
  {
   "cell_type": "code",
   "execution_count": 1,
   "id": "df29e827-0334-4cb9-aba5-36fab5d82ca1",
   "metadata": {
    "execution": {
     "iopub.execute_input": "2024-11-21T16:29:20.667214Z",
     "iopub.status.busy": "2024-11-21T16:29:20.666780Z",
     "iopub.status.idle": "2024-11-21T16:29:21.215835Z",
     "shell.execute_reply": "2024-11-21T16:29:21.215385Z",
     "shell.execute_reply.started": "2024-11-21T16:29:20.667178Z"
    }
   },
   "outputs": [],
   "source": [
    "from PIL import Image\n",
    "import numpy as np\n",
    "import matplotlib.pyplot as plt\n",
    "from matplotlib.animation import FuncAnimation\n",
    "\n",
    "%matplotlib tk"
   ]
  },
  {
   "cell_type": "code",
   "execution_count": 2,
   "id": "52930ce2-dfb1-408a-8bf8-f1086556df47",
   "metadata": {
    "execution": {
     "iopub.execute_input": "2024-11-21T16:29:21.216731Z",
     "iopub.status.busy": "2024-11-21T16:29:21.216467Z",
     "iopub.status.idle": "2024-11-21T16:29:21.618534Z",
     "shell.execute_reply": "2024-11-21T16:29:21.617687Z",
     "shell.execute_reply.started": "2024-11-21T16:29:21.216714Z"
    }
   },
   "outputs": [],
   "source": [
    "# Open the TIFF file\n",
    "tiff_file = \"Film_D_0.1_exp_0.5s_PixelSize_0.5um_8bit.tif\"\n",
    "img = Image.open(tiff_file)\n",
    "\n",
    "# Specify the frame to display (e.g., frame 0 is the first)\n",
    "frame_index = 49\n",
    "img.seek(frame_index)\n",
    "\n",
    "# Convert the frame to an array for matplotlib\n",
    "frame_data = img.convert(\"L\")  # Convert to grayscale if needed\n",
    "frame_array = np.array(frame_data)\n",
    "\n",
    "# Display the frame\n",
    "plt.imshow(frame_array, cmap=\"gray\")\n",
    "plt.axis(\"off\")  # Optional: remove axes\n",
    "plt.title(f\"Frame {frame_index}\")\n",
    "plt.show()"
   ]
  },
  {
   "cell_type": "code",
   "execution_count": 3,
   "id": "1cd6abda-b20a-43c6-abb1-93b90ae5c98d",
   "metadata": {
    "execution": {
     "iopub.execute_input": "2024-11-21T16:29:21.619585Z",
     "iopub.status.busy": "2024-11-21T16:29:21.619334Z",
     "iopub.status.idle": "2024-11-21T16:29:21.680145Z",
     "shell.execute_reply": "2024-11-21T16:29:21.679355Z",
     "shell.execute_reply.started": "2024-11-21T16:29:21.619568Z"
    }
   },
   "outputs": [],
   "source": [
    "img = Image.open(tiff_file)\n",
    "\n",
    "# Get the number of frames\n",
    "num_frames = img.n_frames\n",
    "\n",
    "\n",
    "# Function to extract a frame\n",
    "def get_frame(frame_index):\n",
    "    img.seek(frame_index)\n",
    "    frame_data = img.convert(\"L\")  # Convert to grayscale if needed\n",
    "    return np.array(frame_data)\n",
    "\n",
    "# Set up the figure\n",
    "fig, ax = plt.subplots()\n",
    "frame_data = get_frame(0)\n",
    "im = ax.imshow(frame_data, cmap=\"gray\", animated=True)\n",
    "ax.axis(\"off\")  # Optional: Remove axes\n",
    "\n",
    "\n",
    "# Update function for the animation\n",
    "def update(frame_index):\n",
    "    frame_data = get_frame(frame_index)\n",
    "    im.set_array(frame_data)\n",
    "    return [im]\n",
    "\n",
    "# Create the animation\n",
    "anim = FuncAnimation(fig, update, frames=num_frames, interval=50, blit=True)"
   ]
  },
  {
   "cell_type": "code",
   "execution_count": null,
   "id": "6cb10774-ef17-4b85-a6a5-d11e2a3e927e",
   "metadata": {},
   "outputs": [],
   "source": []
  }
 ],
 "metadata": {
  "kernelspec": {
   "display_name": "Python 3.12",
   "language": "python",
   "name": "python3.12"
  },
  "language_info": {
   "codemirror_mode": {
    "name": "ipython",
    "version": 3
   },
   "file_extension": ".py",
   "mimetype": "text/x-python",
   "name": "python",
   "nbconvert_exporter": "python",
   "pygments_lexer": "ipython3",
   "version": "3.12.7"
  }
 },
 "nbformat": 4,
 "nbformat_minor": 5
}
