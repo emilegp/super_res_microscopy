{
 "cells": [
  {
   "cell_type": "code",
   "execution_count": 8,
   "id": "df29e827-0334-4cb9-aba5-36fab5d82ca1",
   "metadata": {
    "execution": {
     "iopub.execute_input": "2024-11-21T16:29:20.667214Z",
     "iopub.status.busy": "2024-11-21T16:29:20.666780Z",
     "iopub.status.idle": "2024-11-21T16:29:21.215835Z",
     "shell.execute_reply": "2024-11-21T16:29:21.215385Z",
     "shell.execute_reply.started": "2024-11-21T16:29:20.667178Z"
    }
   },
   "outputs": [],
   "source": [
    "from PIL import Image\n",
    "import numpy as np\n",
    "import matplotlib.pyplot as plt\n",
    "from matplotlib.animation import FuncAnimation\n",
    "\n",
    "%matplotlib tk"
   ]
  },
  {
   "cell_type": "code",
   "execution_count": null,
   "id": "52930ce2-dfb1-408a-8bf8-f1086556df47",
   "metadata": {
    "execution": {
     "iopub.execute_input": "2024-11-21T16:29:21.216731Z",
     "iopub.status.busy": "2024-11-21T16:29:21.216467Z",
     "iopub.status.idle": "2024-11-21T16:29:21.618534Z",
     "shell.execute_reply": "2024-11-21T16:29:21.617687Z",
     "shell.execute_reply.started": "2024-11-21T16:29:21.216714Z"
    }
   },
   "outputs": [
    {
     "ename": "FileNotFoundError",
     "evalue": "[Errno 2] No such file or directory: 'C:\\\\Users\\\\maxim\\\\OneDrive\\\\Documents\\\\GitHub\\\\super_res_microscopy\\\\simulations\\\\simulations\\\\Film_D_0.1_exp_0.5s_PixelSize_0.5um_8bit.tif'",
     "output_type": "error",
     "traceback": [
      "\u001b[1;31m---------------------------------------------------------------------------\u001b[0m",
      "\u001b[1;31mFileNotFoundError\u001b[0m                         Traceback (most recent call last)",
      "Cell \u001b[1;32mIn[9], line 3\u001b[0m\n\u001b[0;32m      1\u001b[0m \u001b[38;5;66;03m# Open the TIFF file\u001b[39;00m\n\u001b[0;32m      2\u001b[0m tiff_file \u001b[38;5;241m=\u001b[39m \u001b[38;5;124m\"\u001b[39m\u001b[38;5;124msimulations\u001b[39m\u001b[38;5;130;01m\\\\\u001b[39;00m\u001b[38;5;124mFilm_D_0.1_exp_0.5s_PixelSize_0.5um_8bit.tif\u001b[39m\u001b[38;5;124m\"\u001b[39m\n\u001b[1;32m----> 3\u001b[0m img \u001b[38;5;241m=\u001b[39m \u001b[43mImage\u001b[49m\u001b[38;5;241;43m.\u001b[39;49m\u001b[43mopen\u001b[49m\u001b[43m(\u001b[49m\u001b[43mtiff_file\u001b[49m\u001b[43m)\u001b[49m\n\u001b[0;32m      5\u001b[0m \u001b[38;5;66;03m# Specify the frame to display (e.g., frame 0 is the first)\u001b[39;00m\n\u001b[0;32m      6\u001b[0m frame_index \u001b[38;5;241m=\u001b[39m \u001b[38;5;241m49\u001b[39m\n",
      "File \u001b[1;32m~\\AppData\\Local\\Packages\\PythonSoftwareFoundation.Python.3.12_qbz5n2kfra8p0\\LocalCache\\local-packages\\Python312\\site-packages\\PIL\\Image.py:3431\u001b[0m, in \u001b[0;36mopen\u001b[1;34m(fp, mode, formats)\u001b[0m\n\u001b[0;32m   3428\u001b[0m     filename \u001b[38;5;241m=\u001b[39m os\u001b[38;5;241m.\u001b[39mpath\u001b[38;5;241m.\u001b[39mrealpath(os\u001b[38;5;241m.\u001b[39mfspath(fp))\n\u001b[0;32m   3430\u001b[0m \u001b[38;5;28;01mif\u001b[39;00m filename:\n\u001b[1;32m-> 3431\u001b[0m     fp \u001b[38;5;241m=\u001b[39m \u001b[43mbuiltins\u001b[49m\u001b[38;5;241;43m.\u001b[39;49m\u001b[43mopen\u001b[49m\u001b[43m(\u001b[49m\u001b[43mfilename\u001b[49m\u001b[43m,\u001b[49m\u001b[43m \u001b[49m\u001b[38;5;124;43m\"\u001b[39;49m\u001b[38;5;124;43mrb\u001b[39;49m\u001b[38;5;124;43m\"\u001b[39;49m\u001b[43m)\u001b[49m\n\u001b[0;32m   3432\u001b[0m     exclusive_fp \u001b[38;5;241m=\u001b[39m \u001b[38;5;28;01mTrue\u001b[39;00m\n\u001b[0;32m   3433\u001b[0m \u001b[38;5;28;01melse\u001b[39;00m:\n",
      "\u001b[1;31mFileNotFoundError\u001b[0m: [Errno 2] No such file or directory: 'C:\\\\Users\\\\maxim\\\\OneDrive\\\\Documents\\\\GitHub\\\\super_res_microscopy\\\\simulations\\\\simulations\\\\Film_D_0.1_exp_0.5s_PixelSize_0.5um_8bit.tif'"
     ]
    }
   ],
   "source": [
    "# Open the TIFF file\n",
    "tiff_file = \"Film_D_0.1_exp_0.5s_PixelSize_0.5um_8bit.tif\"\n",
    "img = Image.open(tiff_file)\n",
    "\n",
    "# Specify the frame to display (e.g., frame 0 is the first)\n",
    "frame_index = 49\n",
    "img.seek(frame_index)\n",
    "\n",
    "# Convert the frame to an array for matplotlib\n",
    "frame_data = img.convert(\"L\")  # Convert to grayscale if needed\n",
    "frame_array = np.array(frame_data)\n",
    "\n",
    "# Display the frame\n",
    "plt.imshow(frame_array, cmap=\"gray\")\n",
    "plt.axis(\"off\")  # Optional: remove axes\n",
    "plt.title(f\"Frame {frame_index}\")\n",
    "plt.show()"
   ]
  },
  {
   "cell_type": "code",
   "execution_count": null,
   "id": "1cd6abda-b20a-43c6-abb1-93b90ae5c98d",
   "metadata": {
    "execution": {
     "iopub.execute_input": "2024-11-21T16:29:21.619585Z",
     "iopub.status.busy": "2024-11-21T16:29:21.619334Z",
     "iopub.status.idle": "2024-11-21T16:29:21.680145Z",
     "shell.execute_reply": "2024-11-21T16:29:21.679355Z",
     "shell.execute_reply.started": "2024-11-21T16:29:21.619568Z"
    }
   },
   "outputs": [],
   "source": [
    "img = Image.open(tiff_file)\n",
    "\n",
    "# Get the number of frames\n",
    "num_frames = img.n_frames\n",
    "\n",
    "\n",
    "# Function to extract a frame\n",
    "def get_frame(frame_index):\n",
    "    img.seek(frame_index)\n",
    "    frame_data = img.convert(\"L\")  # Convert to grayscale if needed\n",
    "    return np.array(frame_data)\n",
    "\n",
    "# Set up the figure\n",
    "fig, ax = plt.subplots()\n",
    "frame_data = get_frame(0)\n",
    "im = ax.imshow(frame_data, cmap=\"gray\", animated=True)\n",
    "ax.axis(\"off\")  # Optional: Remove axes\n",
    "\n",
    "\n",
    "# Update function for the animation\n",
    "def update(frame_index):\n",
    "    frame_data = get_frame(frame_index)\n",
    "    im.set_array(frame_data)\n",
    "    return [im]\n",
    "\n",
    "# Create the animation\n",
    "anim = FuncAnimation(fig, update, frames=num_frames, interval=50, blit=True)"
   ]
  },
  {
   "cell_type": "code",
   "execution_count": null,
   "id": "6cb10774-ef17-4b85-a6a5-d11e2a3e927e",
   "metadata": {},
   "outputs": [],
   "source": []
  }
 ],
 "metadata": {
  "kernelspec": {
   "display_name": "Python 3",
   "language": "python",
   "name": "python3"
  },
  "language_info": {
   "codemirror_mode": {
    "name": "ipython",
    "version": 3
   },
   "file_extension": ".py",
   "mimetype": "text/x-python",
   "name": "python",
   "nbconvert_exporter": "python",
   "pygments_lexer": "ipython3",
   "version": "3.12.7"
  }
 },
 "nbformat": 4,
 "nbformat_minor": 5
}
